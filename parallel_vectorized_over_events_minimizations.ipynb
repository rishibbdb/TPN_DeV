{
 "cells": [
  {
   "cell_type": "code",
   "execution_count": 1,
   "id": "1062b09b-e170-4825-99a1-f5a6d790ae38",
   "metadata": {},
   "outputs": [],
   "source": [
    "import jax.numpy as jnp\n",
    "import jax\n",
    "jax.config.update(\"jax_enable_x64\", True)\n",
    "\n",
    "import pandas as pd\n",
    "import numpy as np\n",
    "import matplotlib.pyplot as plt\n",
    "\n",
    "import sys, os\n",
    "sys.path.insert(0, \"/home/storage/hans/jax_reco\")\n",
    "\n",
    "import logging\n",
    "logging.getLogger(\"jax\").setLevel(logging.ERROR)"
   ]
  },
  {
   "cell_type": "code",
   "execution_count": 2,
   "id": "71446a53-d1aa-413b-9658-65d2a79d8453",
   "metadata": {},
   "outputs": [
    {
     "name": "stderr",
     "output_type": "stream",
     "text": [
      "2024-05-28 13:38:05.627595: W tensorflow/compiler/tf2tensorrt/utils/py_utils.cc:38] TF-TRT Warning: Could not find TensorRT\n"
     ]
    }
   ],
   "source": [
    "from lib.sim_data_i3 import I3SimHandlerFtr\n",
    "from lib.geo import center_track_pos_and_time_based_on_data\n",
    "\n",
    "from lib.network import get_network_eval_v_fn\n",
    "#from lib.network import get_network_matmul_eval_v_fn as get_network_eval_v_fn\n",
    "\n",
    "from dom_track_eval import get_eval_network_doms_and_track\n",
    "from time_sampler import sample_times_clean"
   ]
  },
  {
   "cell_type": "code",
   "execution_count": 3,
   "id": "0e578a12-abca-44aa-8060-2465660e4c5e",
   "metadata": {},
   "outputs": [],
   "source": [
    "key = jax.random.PRNGKey(2)\n",
    "\n",
    "dtype = jnp.float64"
   ]
  },
  {
   "cell_type": "code",
   "execution_count": 4,
   "id": "0d32274f-5cea-4806-9d69-2e4ef399d5bd",
   "metadata": {},
   "outputs": [],
   "source": [
    "eval_network_v = get_network_eval_v_fn(bpath='/home/storage/hans/jax_reco/data/network', dtype=dtype)\n",
    "eval_network_doms_and_track = get_eval_network_doms_and_track(eval_network_v, dtype=dtype)"
   ]
  },
  {
   "cell_type": "code",
   "execution_count": 5,
   "id": "cdf85565-0644-4ddc-a9b4-d2c783853f4a",
   "metadata": {},
   "outputs": [
    {
     "name": "stdout",
     "output_type": "stream",
     "text": [
      "muon energy: 3.4 TeV\n",
      "n_doms 43\n"
     ]
    }
   ],
   "source": [
    "bp = '/home/storage2/hans/i3files/21217'\n",
    "sim_handler = I3SimHandlerFtr(os.path.join(bp, 'meta_ds_21217_from_35000_to_53530.ftr'),\n",
    "                              os.path.join(bp, 'pulses_ds_21217_from_35000_to_53530.ftr'),\n",
    "                              '/home/storage/hans/jax_reco/data/icecube/detector_geometry.csv')\n",
    "\n",
    "# Get a simulated muon event.\n",
    "event_index = 5\n",
    "meta, pulses = sim_handler.get_event_data(event_index)\n",
    "print(f\"muon energy: {meta['muon_energy_at_detector']/1.e3:.1f} TeV\")\n",
    "\n",
    "# Get dom locations, first hit times, and total charges (for each dom).\n",
    "event_data = sim_handler.get_per_dom_summary_from_sim_data(meta, pulses)\n",
    "\n",
    "print(\"n_doms\", len(event_data))"
   ]
  },
  {
   "cell_type": "code",
   "execution_count": 6,
   "id": "74cd7dff-8b4f-4098-90f2-9e469160be3d",
   "metadata": {},
   "outputs": [
    {
     "name": "stdout",
     "output_type": "stream",
     "text": [
      "old track vertex: [ 143.40123598  106.94081331 -815.20509865]\n",
      "new track vertex: [ -25.42355091  403.14288541 -154.63778486]\n"
     ]
    }
   ],
   "source": [
    "# Let's generate some new first hit times following our triple pandel model.\n",
    "# (avoid problems with time smearing for now -> to be implemented: gaussian convoluted triple pandel.)\n",
    "\n",
    "track_pos = jnp.array([meta['muon_pos_x'], meta['muon_pos_y'], meta['muon_pos_z']])\n",
    "track_time = meta['muon_time']\n",
    "track_zenith = meta['muon_zenith']\n",
    "track_azimuth = meta['muon_azimuth']\n",
    "track_src = jnp.array([track_zenith, track_azimuth])\n",
    "\n",
    "print(\"old track vertex:\", track_pos)\n",
    "centered_track_pos, centered_track_time = center_track_pos_and_time_based_on_data(event_data, track_pos, track_time, track_src)\n",
    "print(\"new track vertex:\", centered_track_pos)\n",
    "\n",
    "key, subkey = jax.random.split(key)\n",
    "first_times = sample_times_clean(eval_network_doms_and_track, event_data, track_pos, track_src, track_time, subkey)"
   ]
  },
  {
   "cell_type": "code",
   "execution_count": 7,
   "id": "a12ad948-06b8-4c1c-a6ec-f91b1360b95b",
   "metadata": {},
   "outputs": [
    {
     "name": "stdout",
     "output_type": "stream",
     "text": [
      "(43, 5)\n"
     ]
    },
    {
     "data": {
      "text/plain": [
       "{cuda(id=0)}"
      ]
     },
     "execution_count": 7,
     "metadata": {},
     "output_type": "execute_result"
    }
   ],
   "source": [
    "# Create some n_photons from qtot (by rounding up).\n",
    "n_photons = np.round(event_data['charge'].to_numpy()+0.5)\n",
    "\n",
    "# Combine into single data tensor for fitting.\n",
    "fake_event_data = jnp.column_stack([jnp.array(event_data[['x', 'y', 'z']].to_numpy()), \n",
    "                                    jnp.array(first_times), \n",
    "                                    jnp.array(n_photons)])\n",
    "print(fake_event_data.shape)\n",
    "\n",
    "# Send to GPU.\n",
    "fake_event_data.devices()\n",
    "centered_track_pos.devices()\n",
    "centered_track_time.devices()\n",
    "track_src.devices()"
   ]
  },
  {
   "cell_type": "code",
   "execution_count": 8,
   "id": "7a26c82c-b85b-43ef-b7c0-de406bd38c02",
   "metadata": {},
   "outputs": [],
   "source": [
    "from likelihood_const_vertex_vectorized import get_neg_mpe_llh_const_vertex_v2\n",
    "neg_llh = get_neg_mpe_llh_const_vertex_v2(eval_network_doms_and_track)"
   ]
  },
  {
   "cell_type": "code",
   "execution_count": 16,
   "id": "0d66438c-71bd-4ed9-99f8-686a38316816",
   "metadata": {},
   "outputs": [],
   "source": [
    "from jax.scipy import optimize\n",
    "\n",
    "@jax.jit\n",
    "def minimize(x0, track_vertex, track_time, event_data):\n",
    "    return optimize.minimize(neg_llh, x0, args=(track_vertex, track_time, event_data), method=\"BFGS\", tol=1.e-5).x\n",
    "\n",
    "result = minimize(track_src, centered_track_pos, centered_track_time, fake_event_data)"
   ]
  },
  {
   "cell_type": "code",
   "execution_count": 39,
   "id": "c8dccbea-d29e-46e5-8e15-d5d1370b349c",
   "metadata": {},
   "outputs": [
    {
     "name": "stdout",
     "output_type": "stream",
     "text": [
      "210 ms ± 1.2 ms per loop (mean ± std. dev. of 7 runs, 5 loops each)\n"
     ]
    }
   ],
   "source": [
    "%timeit -n5 minimize(track_src, centered_track_pos, centered_track_time, fake_event_data).block_until_ready()"
   ]
  },
  {
   "cell_type": "code",
   "execution_count": 17,
   "id": "bcf6685e-4dfc-49ee-a090-da107d9cb0d7",
   "metadata": {},
   "outputs": [
    {
     "name": "stdout",
     "output_type": "stream",
     "text": [
      "[2.66344555 5.23024581]\n"
     ]
    }
   ],
   "source": [
    "print(result)"
   ]
  },
  {
   "cell_type": "code",
   "execution_count": 18,
   "id": "d7d90639-790e-4dc7-b606-30f128d6ef31",
   "metadata": {},
   "outputs": [
    {
     "name": "stdout",
     "output_type": "stream",
     "text": [
      "[2.66512738 5.23043102]\n"
     ]
    }
   ],
   "source": [
    "print(track_src)"
   ]
  },
  {
   "cell_type": "code",
   "execution_count": 19,
   "id": "7ef92e5b-77df-4302-8766-85c32b6d448b",
   "metadata": {},
   "outputs": [],
   "source": [
    "#from likelihood_const_vertex import get_neg_mpe_llh_const_vertex\n",
    "#neg_llh = get_neg_mpe_llh_const_vertex(eval_network_doms_and_track, fake_event_data, centered_track_pos, centered_track_time)"
   ]
  },
  {
   "cell_type": "code",
   "execution_count": 20,
   "id": "6ead1ba9-ff49-4fa3-9afa-91a21b547690",
   "metadata": {},
   "outputs": [],
   "source": [
    "#from jax.scipy import optimize\n",
    "#\n",
    "#@jax.jit\n",
    "#def minimize(x0):\n",
    "#    return optimize.minimize(neg_llh, x0, method=\"BFGS\", tol=1.e-5)\n",
    "\n",
    "#result = minimize(track_src)"
   ]
  },
  {
   "cell_type": "code",
   "execution_count": 21,
   "id": "c4dce813-ecc0-4aa3-9c79-72ee5f7d6909",
   "metadata": {},
   "outputs": [
    {
     "name": "stdout",
     "output_type": "stream",
     "text": [
      "(43, 5)\n"
     ]
    }
   ],
   "source": [
    "print(fake_event_data.shape)"
   ]
  },
  {
   "cell_type": "code",
   "execution_count": 41,
   "id": "caf0c999-6752-48c2-81d8-d2edd10e43ee",
   "metadata": {},
   "outputs": [],
   "source": [
    "minimize_v = jax.jit(jax.vmap(minimize, (0, 0, 0, 0), 0))"
   ]
  },
  {
   "cell_type": "code",
   "execution_count": 50,
   "id": "bd02792b-3fb9-4175-bb11-d13f0bf77250",
   "metadata": {},
   "outputs": [
    {
     "name": "stdout",
     "output_type": "stream",
     "text": [
      "(1000, 3)\n",
      "(1000,)\n",
      "(1000, 2)\n",
      "(1000, 43, 5)\n"
     ]
    }
   ],
   "source": [
    "n_ev = 1000\n",
    "\n",
    "centered_track_pos_v = jnp.repeat(centered_track_pos.reshape(1,3), n_ev, axis=0)\n",
    "print(centered_track_pos_v.shape)\n",
    "\n",
    "centered_track_time_v = jnp.repeat(centered_track_time, n_ev)\n",
    "print(centered_track_time_v.shape)\n",
    "\n",
    "track_src_v = jnp.repeat(track_src.reshape(1,2), n_ev, axis=0)\n",
    "print(track_src_v.shape)\n",
    "\n",
    "fake_event_data_v = jnp.repeat(fake_event_data.reshape(1, fake_event_data.shape[0], fake_event_data.shape[1]), n_ev, axis=0)\n",
    "print(fake_event_data_v.shape)"
   ]
  },
  {
   "cell_type": "code",
   "execution_count": 47,
   "id": "383ddc59-50e7-42fa-8da9-eac21bf4a035",
   "metadata": {},
   "outputs": [],
   "source": [
    "result_v = minimize_v(track_src_v, centered_track_pos_v, centered_track_time_v, fake_event_data_v)"
   ]
  },
  {
   "cell_type": "code",
   "execution_count": 48,
   "id": "4fb78a3d-a852-47eb-afe9-8c9ac6a07efc",
   "metadata": {},
   "outputs": [
    {
     "name": "stdout",
     "output_type": "stream",
     "text": [
      "[[2.66344555 5.23024581]\n",
      " [2.66344555 5.23024581]\n",
      " [2.66344555 5.23024581]\n",
      " [2.66344555 5.23024581]\n",
      " [2.66344555 5.23024581]\n",
      " [2.66344555 5.23024581]\n",
      " [2.66344555 5.23024581]\n",
      " [2.66344555 5.23024581]\n",
      " [2.66344555 5.23024581]\n",
      " [2.66344555 5.23024581]\n",
      " [2.66344555 5.23024581]\n",
      " [2.66344555 5.23024581]\n",
      " [2.66344555 5.23024581]\n",
      " [2.66344555 5.23024581]\n",
      " [2.66344555 5.23024581]\n",
      " [2.66344555 5.23024581]\n",
      " [2.66344555 5.23024581]\n",
      " [2.66344555 5.23024581]\n",
      " [2.66344555 5.23024581]\n",
      " [2.66344555 5.23024581]\n",
      " [2.66344555 5.23024581]\n",
      " [2.66344555 5.23024581]\n",
      " [2.66344555 5.23024581]\n",
      " [2.66344555 5.23024581]\n",
      " [2.66344555 5.23024581]\n",
      " [2.66344555 5.23024581]\n",
      " [2.66344555 5.23024581]\n",
      " [2.66344555 5.23024581]\n",
      " [2.66344555 5.23024581]\n",
      " [2.66344555 5.23024581]\n",
      " [2.66344555 5.23024581]\n",
      " [2.66344555 5.23024581]\n",
      " [2.66344555 5.23024581]\n",
      " [2.66344555 5.23024581]\n",
      " [2.66344555 5.23024581]\n",
      " [2.66344555 5.23024581]\n",
      " [2.66344555 5.23024581]\n",
      " [2.66344555 5.23024581]\n",
      " [2.66344555 5.23024581]\n",
      " [2.66344555 5.23024581]\n",
      " [2.66344555 5.23024581]\n",
      " [2.66344555 5.23024581]\n",
      " [2.66344555 5.23024581]\n",
      " [2.66344555 5.23024581]\n",
      " [2.66344555 5.23024581]\n",
      " [2.66344555 5.23024581]\n",
      " [2.66344555 5.23024581]\n",
      " [2.66344555 5.23024581]\n",
      " [2.66344555 5.23024581]\n",
      " [2.66344555 5.23024581]\n",
      " [2.66344555 5.23024581]\n",
      " [2.66344555 5.23024581]\n",
      " [2.66344555 5.23024581]\n",
      " [2.66344555 5.23024581]\n",
      " [2.66344555 5.23024581]\n",
      " [2.66344555 5.23024581]\n",
      " [2.66344555 5.23024581]\n",
      " [2.66344555 5.23024581]\n",
      " [2.66344555 5.23024581]\n",
      " [2.66344555 5.23024581]\n",
      " [2.66344555 5.23024581]\n",
      " [2.66344555 5.23024581]\n",
      " [2.66344555 5.23024581]\n",
      " [2.66344555 5.23024581]\n",
      " [2.66344555 5.23024581]\n",
      " [2.66344555 5.23024581]\n",
      " [2.66344555 5.23024581]\n",
      " [2.66344555 5.23024581]\n",
      " [2.66344555 5.23024581]\n",
      " [2.66344555 5.23024581]\n",
      " [2.66344555 5.23024581]\n",
      " [2.66344555 5.23024581]\n",
      " [2.66344555 5.23024581]\n",
      " [2.66344555 5.23024581]\n",
      " [2.66344555 5.23024581]\n",
      " [2.66344555 5.23024581]\n",
      " [2.66344555 5.23024581]\n",
      " [2.66344555 5.23024581]\n",
      " [2.66344555 5.23024581]\n",
      " [2.66344555 5.23024581]\n",
      " [2.66344555 5.23024581]\n",
      " [2.66344555 5.23024581]\n",
      " [2.66344555 5.23024581]\n",
      " [2.66344555 5.23024581]\n",
      " [2.66344555 5.23024581]\n",
      " [2.66344555 5.23024581]\n",
      " [2.66344555 5.23024581]\n",
      " [2.66344555 5.23024581]\n",
      " [2.66344555 5.23024581]\n",
      " [2.66344555 5.23024581]\n",
      " [2.66344555 5.23024581]\n",
      " [2.66344555 5.23024581]\n",
      " [2.66344555 5.23024581]\n",
      " [2.66344555 5.23024581]\n",
      " [2.66344555 5.23024581]\n",
      " [2.66344555 5.23024581]\n",
      " [2.66344555 5.23024581]\n",
      " [2.66344555 5.23024581]\n",
      " [2.66344555 5.23024581]\n",
      " [2.66344555 5.23024581]]\n"
     ]
    }
   ],
   "source": [
    "print(result_v)"
   ]
  },
  {
   "cell_type": "code",
   "execution_count": 51,
   "id": "c2072563-9106-43fd-bdc4-243412645d6a",
   "metadata": {},
   "outputs": [
    {
     "name": "stdout",
     "output_type": "stream",
     "text": [
      "2.17 s ± 336 ms per loop (mean ± std. dev. of 7 runs, 5 loops each)\n"
     ]
    }
   ],
   "source": [
    "%timeit -n5 minimize_v(track_src_v, centered_track_pos_v, centered_track_time_v, fake_event_data_v).block_until_ready()"
   ]
  },
  {
   "cell_type": "code",
   "execution_count": 52,
   "id": "3e3a9c8f-6b72-4eae-8983-fdd69578bdfa",
   "metadata": {},
   "outputs": [],
   "source": [
    "# 2.17s for 1000 event reconstructions"
   ]
  },
  {
   "cell_type": "code",
   "execution_count": null,
   "id": "cb5093e7-18fc-4656-81b0-9e0ac93e5ecb",
   "metadata": {},
   "outputs": [],
   "source": []
  }
 ],
 "metadata": {
  "kernelspec": {
   "display_name": "Python 3 (ipykernel)",
   "language": "python",
   "name": "python3"
  },
  "language_info": {
   "codemirror_mode": {
    "name": "ipython",
    "version": 3
   },
   "file_extension": ".py",
   "mimetype": "text/x-python",
   "name": "python",
   "nbconvert_exporter": "python",
   "pygments_lexer": "ipython3",
   "version": "3.11.5"
  }
 },
 "nbformat": 4,
 "nbformat_minor": 5
}
