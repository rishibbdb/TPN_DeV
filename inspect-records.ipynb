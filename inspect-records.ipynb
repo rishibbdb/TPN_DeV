{
 "cells": [
  {
   "cell_type": "code",
   "execution_count": 2,
   "metadata": {},
   "outputs": [],
   "source": [
    "import pandas as pd"
   ]
  },
  {
   "cell_type": "code",
   "execution_count": 3,
   "metadata": {},
   "outputs": [],
   "source": [
    "tfrecord_path = \"//mnt/research/IceCube/Gupta-Reco/22644/0005000-0005999-tfrecords/pulses_ds_22645_from_5000_to_6000_10_to_100TeV.ftr\"\n",
    "# tfrecord_path = \"/mnt/research/IceCube/Gupta-Reco/22645/0001000-0001999-tfrecords/pulses_ds_22645_from_1000_to_2000_10_to_100TeV.ftr\"\n",
    "df = pd.read_feather(tfrecord_path)"
   ]
  },
  {
   "cell_type": "code",
   "execution_count": 4,
   "metadata": {},
   "outputs": [
    {
     "name": "stdout",
     "output_type": "stream",
     "text": [
      "Total rows: 7782\n"
     ]
    }
   ],
   "source": [
    "print(\"Total rows:\", len(df))"
   ]
  },
  {
   "cell_type": "markdown",
   "metadata": {},
   "source": [
    "Total rows: 883952"
   ]
  },
  {
   "cell_type": "code",
   "execution_count": 5,
   "metadata": {},
   "outputs": [
    {
     "data": {
      "text/html": [
       "<div>\n",
       "<style scoped>\n",
       "    .dataframe tbody tr th:only-of-type {\n",
       "        vertical-align: middle;\n",
       "    }\n",
       "\n",
       "    .dataframe tbody tr th {\n",
       "        vertical-align: top;\n",
       "    }\n",
       "\n",
       "    .dataframe thead th {\n",
       "        text-align: right;\n",
       "    }\n",
       "</style>\n",
       "<table border=\"1\" class=\"dataframe\">\n",
       "  <thead>\n",
       "    <tr style=\"text-align: right;\">\n",
       "      <th></th>\n",
       "      <th>event_id</th>\n",
       "      <th>sensor_id</th>\n",
       "      <th>time</th>\n",
       "      <th>charge</th>\n",
       "      <th>is_HLC</th>\n",
       "    </tr>\n",
       "  </thead>\n",
       "  <tbody>\n",
       "    <tr>\n",
       "      <th>0</th>\n",
       "      <td>2.264405e+14</td>\n",
       "      <td>1748.0</td>\n",
       "      <td>10861.0</td>\n",
       "      <td>1.275</td>\n",
       "      <td>1.0</td>\n",
       "    </tr>\n",
       "    <tr>\n",
       "      <th>1</th>\n",
       "      <td>2.264405e+14</td>\n",
       "      <td>1749.0</td>\n",
       "      <td>10063.0</td>\n",
       "      <td>0.975</td>\n",
       "      <td>1.0</td>\n",
       "    </tr>\n",
       "    <tr>\n",
       "      <th>2</th>\n",
       "      <td>2.264405e+14</td>\n",
       "      <td>1750.0</td>\n",
       "      <td>10339.0</td>\n",
       "      <td>0.725</td>\n",
       "      <td>1.0</td>\n",
       "    </tr>\n",
       "    <tr>\n",
       "      <th>3</th>\n",
       "      <td>2.264405e+14</td>\n",
       "      <td>1751.0</td>\n",
       "      <td>10445.0</td>\n",
       "      <td>0.625</td>\n",
       "      <td>1.0</td>\n",
       "    </tr>\n",
       "    <tr>\n",
       "      <th>4</th>\n",
       "      <td>2.264405e+14</td>\n",
       "      <td>1752.0</td>\n",
       "      <td>9907.0</td>\n",
       "      <td>1.275</td>\n",
       "      <td>1.0</td>\n",
       "    </tr>\n",
       "  </tbody>\n",
       "</table>\n",
       "</div>"
      ],
      "text/plain": [
       "       event_id  sensor_id     time  charge  is_HLC\n",
       "0  2.264405e+14     1748.0  10861.0   1.275     1.0\n",
       "1  2.264405e+14     1749.0  10063.0   0.975     1.0\n",
       "2  2.264405e+14     1750.0  10339.0   0.725     1.0\n",
       "3  2.264405e+14     1751.0  10445.0   0.625     1.0\n",
       "4  2.264405e+14     1752.0   9907.0   1.275     1.0"
      ]
     },
     "execution_count": 5,
     "metadata": {},
     "output_type": "execute_result"
    }
   ],
   "source": [
    "df.head()"
   ]
  },
  {
   "cell_type": "code",
   "execution_count": 6,
   "metadata": {},
   "outputs": [
    {
     "name": "stdout",
     "output_type": "stream",
     "text": [
      "num duplicates 0\n"
     ]
    }
   ],
   "source": [
    "df_subset = df\n",
    "duplicate_row = df_subset.duplicated([\"event_id\", \"sensor_id\", \"time\", \"charge\", \"is_HLC\"], keep='first')\n",
    "duplicate_rows = df_subset[duplicate_row]\n",
    "num_duplicates = duplicate_row.sum()\n",
    "\n",
    "print('num duplicates', num_duplicates)"
   ]
  },
  {
   "cell_type": "code",
   "execution_count": null,
   "metadata": {},
   "outputs": [],
   "source": []
  }
 ],
 "metadata": {
  "kernelspec": {
   "display_name": "3pandelnet",
   "language": "python",
   "name": "python3"
  },
  "language_info": {
   "codemirror_mode": {
    "name": "ipython",
    "version": 3
   },
   "file_extension": ".py",
   "mimetype": "text/x-python",
   "name": "python",
   "nbconvert_exporter": "python",
   "pygments_lexer": "ipython3",
   "version": "3.10.14"
  }
 },
 "nbformat": 4,
 "nbformat_minor": 2
}
