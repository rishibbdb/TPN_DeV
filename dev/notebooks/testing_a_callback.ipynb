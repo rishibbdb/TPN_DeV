{
 "cells": [
  {
   "cell_type": "code",
   "execution_count": 1,
   "id": "507c5443-37aa-4c1e-8267-41d93a05c26f",
   "metadata": {},
   "outputs": [],
   "source": [
    "import os \n",
    "os.environ[\"XLA_FLAGS\"] = '--xla_force_host_platform_device_count=14'\n",
    "os.environ[\"CUDA_VISIBLE_DEVICES\"] = \"\"\n",
    "\n",
    "from tensorflow_probability.substrates import jax as tfp\n",
    "tfd = tfp.distributions\n",
    "\n",
    "import jax.numpy as jnp\n",
    "import jax\n",
    "jax.config.update(\"jax_enable_x64\", True)\n",
    "\n",
    "import numpy as np\n",
    "import scipy\n",
    "import matplotlib.pyplot as plt\n"
   ]
  },
  {
   "cell_type": "code",
   "execution_count": 3,
   "id": "32225295-e319-4a43-8046-d68e120e2c49",
   "metadata": {},
   "outputs": [
    {
     "data": {
      "text/plain": [
       "[CpuDevice(id=0),\n",
       " CpuDevice(id=1),\n",
       " CpuDevice(id=2),\n",
       " CpuDevice(id=3),\n",
       " CpuDevice(id=4),\n",
       " CpuDevice(id=5),\n",
       " CpuDevice(id=6),\n",
       " CpuDevice(id=7),\n",
       " CpuDevice(id=8),\n",
       " CpuDevice(id=9),\n",
       " CpuDevice(id=10),\n",
       " CpuDevice(id=11),\n",
       " CpuDevice(id=12),\n",
       " CpuDevice(id=13)]"
      ]
     },
     "execution_count": 3,
     "metadata": {},
     "output_type": "execute_result"
    }
   ],
   "source": [
    "jax.devices(\"cpu\")"
   ]
  },
  {
   "cell_type": "code",
   "execution_count": 4,
   "id": "fedb8ff9-15af-4b68-b9c0-f8786baeff2a",
   "metadata": {},
   "outputs": [],
   "source": [
    "import sys\n",
    "sys.path.insert(0, \"/home/storage/hans/jax_reco_new\")\n",
    "\n",
    "from lib.network import get_network_eval_v_fn\n",
    "from lib.geo import center_track_pos_and_time_based_on_data\n",
    "from lib.simdata_i3 import I3SimHandler\n",
    "from dom_track_eval import get_eval_network_doms_and_track"
   ]
  },
  {
   "cell_type": "code",
   "execution_count": 5,
   "id": "d277f9fd-85fd-4f9a-a39d-f19cc21663f0",
   "metadata": {},
   "outputs": [],
   "source": [
    "dtype = jnp.float32\n",
    "eval_network_v = get_network_eval_v_fn(bpath='/home/storage/hans/jax_reco_new/data/network', dtype=dtype)"
   ]
  },
  {
   "cell_type": "code",
   "execution_count": 6,
   "id": "f1ac6e46-a243-4950-9e6c-2e541d4b3baf",
   "metadata": {},
   "outputs": [],
   "source": [
    "eval_network_doms_and_track = get_eval_network_doms_and_track(eval_network_v, dtype=dtype)\n",
    "eval_network_doms_and_track = jax.jit(eval_network_doms_and_track)"
   ]
  },
  {
   "cell_type": "code",
   "execution_count": 7,
   "id": "619226de-64fb-4242-afbb-1a744cb6f255",
   "metadata": {},
   "outputs": [
    {
     "name": "stdout",
     "output_type": "stream",
     "text": [
      "muon energy: 4.7 TeV\n",
      "n_doms 102\n"
     ]
    }
   ],
   "source": [
    "event_index = 2\n",
    "\n",
    "# Get an IceCube event.\n",
    "bp = '/home/storage2/hans/i3files/21217'\n",
    "sim_handler = I3SimHandler(os.path.join(bp, 'meta_ds_21217_from_35000_to_53530.ftr'),\n",
    "                              os.path.join(bp, 'pulses_ds_21217_from_35000_to_53530.ftr'),\n",
    "                              '/home/storage/hans/jax_reco/data/icecube/detector_geometry.csv')\n",
    "\n",
    "meta, pulses = sim_handler.get_event_data(event_index)\n",
    "print(f\"muon energy: {meta['muon_energy_at_detector']/1.e3:.1f} TeV\")\n",
    "\n",
    "# Get dom locations, first hit times, and total charges (for each dom).\n",
    "event_data = sim_handler.get_per_dom_summary_from_sim_data(meta, pulses)\n",
    "\n",
    "print(\"n_doms\", len(event_data))\n",
    "fitting_event_data = jnp.array(event_data[['x', 'y', 'z', 'time', 'charge']].to_numpy())"
   ]
  },
  {
   "cell_type": "code",
   "execution_count": 8,
   "id": "8f1542fb-e165-47ae-91a9-ce9b23f70347",
   "metadata": {},
   "outputs": [
    {
     "name": "stdout",
     "output_type": "stream",
     "text": [
      "original seed vertex: [ -777.15166078 -1656.22843231 -1472.45624098]\n",
      "shifted seed vertex: [-164.52122541  320.02418746 -330.17880541]\n"
     ]
    }
   ],
   "source": [
    "# Make MCTruth seed.\n",
    "track_pos = jnp.array([meta['muon_pos_x'], meta['muon_pos_y'], meta['muon_pos_z']])\n",
    "track_time = meta['muon_time']\n",
    "track_zenith = meta['muon_zenith']\n",
    "track_azimuth = meta['muon_azimuth']\n",
    "track_src = jnp.array([track_zenith, track_azimuth])\n",
    "\n",
    "print(\"original seed vertex:\", track_pos)\n",
    "centered_track_pos, centered_track_time = center_track_pos_and_time_based_on_data(event_data, \n",
    "                                                                                  track_pos, \n",
    "                                                                                  track_time, \n",
    "                                                                                  track_src)\n",
    "print(\"shifted seed vertex:\", centered_track_pos)"
   ]
  },
  {
   "cell_type": "code",
   "execution_count": 9,
   "id": "1d9e7ba6-7fda-4167-a12a-2dee93ee3fc9",
   "metadata": {},
   "outputs": [],
   "source": [
    "dom_pos = fitting_event_data[:, :3]\n",
    "first_hit_times = fitting_event_data[:, 3]\n",
    "\n",
    "logits, av, bv, geo_time = eval_network_doms_and_track(dom_pos, centered_track_pos, track_src)\n",
    "mix_probs = jax.nn.softmax(logits)\n",
    "\n",
    "delay_time = first_hit_times - (geo_time + centered_track_time)"
   ]
  },
  {
   "cell_type": "code",
   "execution_count": 10,
   "id": "984ac0e4-f198-4977-86ef-836ee89481f1",
   "metadata": {},
   "outputs": [],
   "source": [
    "def func():\n",
    "    logits, av, bv, geo_time = eval_network_doms_and_track(dom_pos, centered_track_pos, track_src)\n",
    "    return logits\n"
   ]
  },
  {
   "cell_type": "code",
   "execution_count": 11,
   "id": "176be940-b383-47bd-9357-2ba29808892f",
   "metadata": {},
   "outputs": [
    {
     "name": "stdout",
     "output_type": "stream",
     "text": [
      "[[ 1.30989981  0.41508666  0.78997564]\n",
      " [ 1.08043253  0.63937545  0.78115976]\n",
      " [ 1.07323694  0.63215667  0.79428816]\n",
      " [ 1.10383415  0.68516821  0.71266603]\n",
      " [ 0.81204313  0.68980891  0.76411843]\n",
      " [ 0.82605052  0.79009211  0.6531195 ]\n",
      " [ 0.80182356  0.51668692  0.83724576]\n",
      " [ 1.01524615  0.8235727   0.98089534]\n",
      " [ 1.01920176 -0.04484212  0.74508882]\n",
      " [ 0.9859823   0.32891491  0.78397214]\n",
      " [ 1.14493823  0.74641228  0.65447974]\n",
      " [ 0.93164921  1.02077746  0.51619405]\n",
      " [ 0.9251709   1.37723207  0.20653372]\n",
      " [ 0.92823952  1.51335335  0.0456607 ]\n",
      " [ 1.05364358  0.03645617  0.67123985]\n",
      " [ 1.05058408  0.065938    0.71161854]\n",
      " [ 1.04519749  0.12827635  0.75358391]\n",
      " [ 1.05302393  0.2323103   0.79469204]\n",
      " [ 0.89867944  0.51733977  0.90101922]\n",
      " [ 1.22307038  0.20317671  0.6797384 ]\n",
      " [ 1.3793906   0.05905032  0.81567776]\n",
      " [ 0.98459589  0.28478992  0.77510321]\n",
      " [ 0.83352816  0.35420558  0.42862645]\n",
      " [ 0.77976996  0.38025376  0.4027923 ]\n",
      " [ 0.71972871  0.39994583  0.39455181]\n",
      " [ 0.66483164  0.4212001   0.39329383]\n",
      " [ 0.65298712  0.44901419  0.41101727]\n",
      " [ 0.69887912  0.48221642  0.4354406 ]\n",
      " [ 0.78437454  0.54599726  0.43424606]\n",
      " [ 0.90714782  0.68679458  0.38710096]\n",
      " [ 1.09999549  0.96971834  0.35440776]\n",
      " [ 1.30815649  1.33599496  0.5582757 ]\n",
      " [ 1.33725095  1.49186778  0.81711543]\n",
      " [ 1.05948496  1.49830532  0.4115887 ]\n",
      " [ 1.14137447  1.24581349  0.86969   ]\n",
      " [ 1.06416869  0.93468499  1.04746258]\n",
      " [ 0.82021308  0.59583819  1.04414678]\n",
      " [ 0.71815026  0.40319166  1.1601665 ]\n",
      " [ 1.09577882  0.32146254  0.43787825]\n",
      " [ 0.98083287  0.31975815  0.59103358]\n",
      " [ 0.88472164  0.41990069  0.63389587]\n",
      " [ 0.84563994  0.43874991  0.64428878]\n",
      " [ 0.82527161  0.46474642  0.64628565]\n",
      " [ 0.82735252  0.49200583  0.66578019]\n",
      " [ 0.84401083  0.51723325  0.70606089]\n",
      " [ 0.9019379   0.52583283  0.75754273]\n",
      " [ 1.04557967  0.51414084  0.82430863]\n",
      " [ 1.17337584  0.52630508  0.88311607]\n",
      " [ 1.22818422  0.58756781  0.90705657]\n",
      " [ 1.2824508   0.60655183  1.01332247]\n",
      " [ 1.30877995  0.59074575  1.07309282]\n",
      " [ 1.34926224  0.54916894  1.10810113]\n",
      " [ 1.10866034  0.58635747  0.6414448 ]\n",
      " [ 1.01083422  0.509929    0.71801138]\n",
      " [ 0.98341143  0.55243766  0.74448478]\n",
      " [ 0.94669145  0.5776369   0.76740086]\n",
      " [ 0.91071928  0.59600461  0.77700388]\n",
      " [ 0.89698488  0.64231396  0.78869188]\n",
      " [ 0.92007309  0.66198301  0.80951536]\n",
      " [ 0.96781927  0.66513032  0.82575947]\n",
      " [ 1.06776452  0.69508833  0.82728839]\n",
      " [ 1.15568686  0.74885029  0.86703086]\n",
      " [ 1.34718132  0.98074913  1.02927804]\n",
      " [ 1.38106143  0.95285863  1.07188201]\n",
      " [ 0.91121989  0.32592455  0.59262085]\n",
      " [ 0.76299417  0.45857263  0.55671406]\n",
      " [ 0.66826099  0.48719281  0.56270862]\n",
      " [ 0.6347962   0.53906208  0.49824211]\n",
      " [ 0.6735279   0.66585267  0.36725026]\n",
      " [ 0.76479787  0.89988893  0.17464884]\n",
      " [ 0.99607396  1.28620791 -0.23867494]\n",
      " [ 1.21484542  2.14048648 -0.5899924 ]\n",
      " [ 1.10664868  1.14534461  0.26337355]\n",
      " [ 1.07530761  0.99661517  1.01005352]\n",
      " [ 1.42683578  0.88246644  1.12909937]\n",
      " [ 1.42758107  0.74607271  1.15118778]\n",
      " [ 1.38070273  0.70524246  1.19056702]\n",
      " [ 1.37434304  0.73381597  1.2697897 ]\n",
      " [ 1.40423727  0.77827895  1.3379215 ]\n",
      " [ 0.72374129  0.25674388  0.87865514]\n",
      " [ 1.19802523  0.37788385  1.09717512]\n",
      " [ 1.43753672  0.45201451  1.32249403]\n",
      " [ 1.14250517  0.63445801  0.66221035]\n",
      " [ 1.24026644  0.59070712  1.06512237]\n",
      " [ 0.80830145  0.65410036  0.77711332]\n",
      " [ 1.31581593  0.7393688   0.94245487]\n",
      " [ 1.444031    0.7862224   1.4129591 ]\n",
      " [ 0.73186851  0.75699162  0.38568443]\n",
      " [ 0.68421954  0.9034791  -0.09252679]\n",
      " [-0.00418049  2.03344488 -1.38594317]\n",
      " [ 0.78219253  0.73540795  0.06907323]\n",
      " [ 0.53967834  0.28761968  0.84460956]\n",
      " [ 1.20224869  0.61884415  0.93259495]\n",
      " [ 1.11140358  0.68622428  0.8099736 ]\n",
      " [ 1.56329465  0.5594517   1.22242284]\n",
      " [ 0.91485918  0.86173147  0.83955109]\n",
      " [ 0.89039344  1.05254233  0.22820817]\n",
      " [ 0.80924058  1.14100385 -0.06251517]\n",
      " [ 0.94993317  0.80158693  0.76405776]\n",
      " [ 0.91866064  0.44539762  0.78513825]\n",
      " [ 0.87827969  0.29374149  0.79243755]\n",
      " [ 1.29587126  0.34756616  0.90942353]]\n"
     ]
    }
   ],
   "source": [
    "print(func())"
   ]
  },
  {
   "cell_type": "code",
   "execution_count": 12,
   "id": "04dcce93-71d8-4c5d-b75c-30561bbc0fe1",
   "metadata": {},
   "outputs": [
    {
     "name": "stdout",
     "output_type": "stream",
     "text": [
      "580 μs ± 25 μs per loop (mean ± std. dev. of 7 runs, 1,000 loops each)\n"
     ]
    }
   ],
   "source": [
    "%timeit func().block_until_ready()"
   ]
  },
  {
   "cell_type": "code",
   "execution_count": null,
   "id": "5b75231e-247d-4968-8a0e-0a542035db6c",
   "metadata": {},
   "outputs": [],
   "source": []
  }
 ],
 "metadata": {
  "kernelspec": {
   "display_name": "Python 3 (ipykernel)",
   "language": "python",
   "name": "python3"
  },
  "language_info": {
   "codemirror_mode": {
    "name": "ipython",
    "version": 3
   },
   "file_extension": ".py",
   "mimetype": "text/x-python",
   "name": "python",
   "nbconvert_exporter": "python",
   "pygments_lexer": "ipython3",
   "version": "3.11.5"
  }
 },
 "nbformat": 4,
 "nbformat_minor": 5
}
