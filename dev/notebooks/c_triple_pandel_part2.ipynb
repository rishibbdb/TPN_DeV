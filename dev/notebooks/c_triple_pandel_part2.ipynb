{
 "cells": [
  {
   "cell_type": "code",
   "execution_count": 1,
   "id": "0f6bf0ee-daaf-4b43-9c67-303515d3971e",
   "metadata": {},
   "outputs": [
    {
     "name": "stderr",
     "output_type": "stream",
     "text": [
      "2024-06-03 12:04:28.991510: W tensorflow/compiler/tf2tensorrt/utils/py_utils.cc:38] TF-TRT Warning: Could not find TensorRT\n"
     ]
    }
   ],
   "source": [
    "import jax.numpy as jnp\n",
    "import jax\n",
    "from jax.scipy import optimize\n",
    "jax.config.update(\"jax_enable_x64\", True)\n",
    "from tensorflow_probability.substrates import jax as tfp\n",
    "tfd = tfp.distributions\n",
    "\n",
    "import numpy as np\n",
    "import scipy\n",
    "import matplotlib.pyplot as plt\n",
    "\n",
    "import sys, os"
   ]
  },
  {
   "cell_type": "code",
   "execution_count": 2,
   "id": "6501783c-6f5e-4648-8610-5a8e167b7631",
   "metadata": {},
   "outputs": [],
   "source": [
    "sys.path.insert(0, \"/home/storage/hans/jax_reco\")\n",
    "from lib.cgamma import c_multi_gamma_prob, c_multi_gamma_prob_v"
   ]
  },
  {
   "cell_type": "code",
   "execution_count": 3,
   "id": "c7419ba2-c58c-4b7a-8edb-0b7ee7c56491",
   "metadata": {},
   "outputs": [],
   "source": [
    "from lib.plotting import adjust_plot_1d\n",
    "from lib.network import get_network_eval_fn\n",
    "from lib.geo import get_xyz_from_zenith_azimuth\n",
    "from lib.trafos import transform_network_outputs, transform_network_inputs"
   ]
  },
  {
   "cell_type": "code",
   "execution_count": 4,
   "id": "b8eeaef0-230d-4f0c-ae8e-6b18649d2829",
   "metadata": {},
   "outputs": [],
   "source": [
    "eval_network = get_network_eval_fn(bpath='/home/storage/hans/jax_reco/data/network')"
   ]
  },
  {
   "cell_type": "code",
   "execution_count": 8,
   "id": "6a30cdbd-1502-4adf-9894-e7af9c2a9f0e",
   "metadata": {},
   "outputs": [],
   "source": [
    "from dom_track_eval import get_eval_network_doms_and_track\n",
    "from time_sampler import sample_times_clean\n",
    "from lib.simdata_i3 import I3SimHandlerFtr\n",
    "from lib.geo import center_track_pos_and_time_based_on_data\n",
    "from lib.network import get_network_eval_v_fn\n",
    "\n",
    "# Get network and eval logic.\n",
    "eval_network_v = get_network_eval_v_fn(bpath='/home/storage/hans/jax_reco/data/network')\n",
    "eval_network_doms_and_track = get_eval_network_doms_and_track(eval_network_v)"
   ]
  },
  {
   "cell_type": "code",
   "execution_count": 9,
   "id": "53fb86f6-f584-4f57-833c-99bf84fdc78f",
   "metadata": {},
   "outputs": [
    {
     "name": "stdout",
     "output_type": "stream",
     "text": [
      "muon energy: 2.1 TeV\n"
     ]
    }
   ],
   "source": [
    "# Get an IceCube event.\n",
    "event_index = 0\n",
    "key = jax.random.PRNGKey(event_index)\n",
    "\n",
    "bp = '/home/storage2/hans/i3files/21217'\n",
    "sim_handler = I3SimHandlerFtr(os.path.join(bp, 'meta_ds_21217_from_35000_to_53530.ftr'),\n",
    "                              os.path.join(bp, 'pulses_ds_21217_from_35000_to_53530.ftr'),\n",
    "                              '/home/storage/hans/jax_reco/data/icecube/detector_geometry.csv')\n",
    "\n",
    "meta, pulses = sim_handler.get_event_data(event_index)\n",
    "print(f\"muon energy: {meta['muon_energy_at_detector']/1.e3:.1f} TeV\")\n",
    "\n",
    "# Get dom locations, first hit times, and total charges (for each dom).\n",
    "event_data = sim_handler.get_per_dom_summary_from_sim_data(meta, pulses)"
   ]
  },
  {
   "cell_type": "code",
   "execution_count": 10,
   "id": "8d52a0f8-24f6-4573-9acb-ccbde9f1de61",
   "metadata": {},
   "outputs": [
    {
     "name": "stdout",
     "output_type": "stream",
     "text": [
      "old track vertex: [-1277.51128861 -1390.39564543 -1675.98024553]\n",
      "new track vertex: [ -53.74394146  162.12452256 -233.73599134]\n"
     ]
    }
   ],
   "source": [
    "# Let's generate some new first hit times following our triple pandel model.\n",
    "# (avoid problems with time smearing for now -> to be implemented: gaussian convoluted triple pandel.)\n",
    "track_pos = jnp.array([meta['muon_pos_x'], meta['muon_pos_y'], meta['muon_pos_z']])\n",
    "track_time = meta['muon_time']\n",
    "track_zenith = meta['muon_zenith']\n",
    "track_azimuth = meta['muon_azimuth']\n",
    "track_src = jnp.array([track_zenith, track_azimuth])\n",
    "\n",
    "print(\"old track vertex:\", track_pos)\n",
    "centered_track_pos, centered_track_time = center_track_pos_and_time_based_on_data(event_data, track_pos, track_time, track_src)\n",
    "print(\"new track vertex:\", centered_track_pos)\n",
    "\n",
    "key, subkey = jax.random.split(key)\n",
    "first_times = sample_times_clean(eval_network_doms_and_track, event_data, track_pos, track_src, track_time, subkey)"
   ]
  },
  {
   "cell_type": "code",
   "execution_count": 11,
   "id": "95855610-40dd-41fe-8313-5dc942ccf064",
   "metadata": {},
   "outputs": [],
   "source": [
    "n_photons = np.round(event_data['charge'].to_numpy()+0.5)\n",
    "fake_event_data = jnp.column_stack([\n",
    "                                        jnp.array(event_data[['x', 'y', 'z']].to_numpy()),\n",
    "                                        jnp.array(first_times),\n",
    "                                        jnp.array(n_photons)\n",
    "                                   ])"
   ]
  },
  {
   "cell_type": "code",
   "execution_count": 12,
   "id": "f2f1ff4f-9974-43a5-8bf1-7a52c582e822",
   "metadata": {},
   "outputs": [
    {
     "name": "stdout",
     "output_type": "stream",
     "text": [
      "(29,)\n"
     ]
    }
   ],
   "source": [
    "logits, av, bv, geo_time = eval_network_doms_and_track(fake_event_data[:,:3], \n",
    "                                                          centered_track_pos, \n",
    "                                                          track_src)\n",
    "\n",
    "first_hit_times = fake_event_data[:, 3]\n",
    "delay_time = first_hit_times - (geo_time + centered_track_time)\n",
    "print(delay_time.shape)"
   ]
  },
  {
   "cell_type": "code",
   "execution_count": 14,
   "id": "d0c16a86-9a75-44bd-a5f2-e1c6ac87bf82",
   "metadata": {},
   "outputs": [
    {
     "name": "stdout",
     "output_type": "stream",
     "text": [
      "[0.00047225 0.00471289 0.00538641 0.00126069 0.011568   0.00558727\n",
      " 0.00132366 0.00179196 0.00106369 0.00178111 0.01401595 0.05355214\n",
      " 0.08541373 0.02755797 0.00031838 0.00036081 0.0009707  0.00020808\n",
      " 0.00198526 0.00162107 0.0304282  0.00363625 0.00389488 0.00035686\n",
      " 0.00100218 0.00320803 0.00405583 0.00410189 0.00135668]\n"
     ]
    }
   ],
   "source": [
    "mix_probs = jax.nn.softmax(logits)\n",
    "print(c_multi_gamma_prob_v(delay_time, mix_probs, av, bv, 3.0, 10.0))"
   ]
  },
  {
   "cell_type": "code",
   "execution_count": 17,
   "id": "dac66eb8-bcf8-4f24-a9b6-df628727ddf7",
   "metadata": {},
   "outputs": [
    {
     "name": "stdout",
     "output_type": "stream",
     "text": [
      "8.86 ms ± 22.2 µs per loop (mean ± std. dev. of 7 runs, 100 loops each)\n"
     ]
    }
   ],
   "source": [
    "%timeit c_multi_gamma_prob_v(delay_time, mix_probs, av, bv, 3.0, 10.0)"
   ]
  },
  {
   "cell_type": "code",
   "execution_count": 18,
   "id": "477291c6-bfa1-464f-b232-f517d168c875",
   "metadata": {},
   "outputs": [
    {
     "name": "stdout",
     "output_type": "stream",
     "text": [
      "0.0004722542195556937\n"
     ]
    }
   ],
   "source": [
    "print(c_multi_gamma_prob(delay_time[0], mix_probs[0], av[0], bv[0], 3.0, 10.0))"
   ]
  },
  {
   "cell_type": "code",
   "execution_count": 19,
   "id": "6f99bffc-310c-4afa-a940-3e57afb60dbb",
   "metadata": {},
   "outputs": [
    {
     "name": "stdout",
     "output_type": "stream",
     "text": [
      "1.07 ms ± 23.4 µs per loop (mean ± std. dev. of 7 runs, 1,000 loops each)\n"
     ]
    }
   ],
   "source": [
    "%timeit c_multi_gamma_prob(delay_time[0], mix_probs[0], av[0], bv[0], 3.0, 10.0)"
   ]
  },
  {
   "cell_type": "code",
   "execution_count": null,
   "id": "ddb2c2a7-7ae0-4424-804a-81915acea89f",
   "metadata": {},
   "outputs": [],
   "source": []
  }
 ],
 "metadata": {
  "kernelspec": {
   "display_name": "Python 3 (ipykernel)",
   "language": "python",
   "name": "python3"
  },
  "language_info": {
   "codemirror_mode": {
    "name": "ipython",
    "version": 3
   },
   "file_extension": ".py",
   "mimetype": "text/x-python",
   "name": "python",
   "nbconvert_exporter": "python",
   "pygments_lexer": "ipython3",
   "version": "3.11.5"
  }
 },
 "nbformat": 4,
 "nbformat_minor": 5
}
