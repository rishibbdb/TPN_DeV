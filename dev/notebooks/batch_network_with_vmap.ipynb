{
 "cells": [
  {
   "cell_type": "code",
   "execution_count": 1,
   "id": "c346288a-7fab-4a02-9178-7eb29f7b5c8a",
   "metadata": {},
   "outputs": [],
   "source": [
    "%load_ext autoreload\n",
    "%autoreload 2"
   ]
  },
  {
   "cell_type": "code",
   "execution_count": 2,
   "id": "7a0ac9db-0dfa-4ab3-bcdf-7a902d1c8ff9",
   "metadata": {},
   "outputs": [],
   "source": [
    "import numpy as np\n",
    "import sys\n",
    "\n",
    "sys.path.insert(0, '/home/storage2/hans/jax_reco/python')\n",
    "from network import TriplePandleNet"
   ]
  },
  {
   "cell_type": "code",
   "execution_count": 3,
   "id": "82ec35aa-257a-4ea5-b1c2-b483ba003344",
   "metadata": {},
   "outputs": [],
   "source": [
    "net = TriplePandleNet('../../data/network/')"
   ]
  },
  {
   "cell_type": "code",
   "execution_count": 4,
   "id": "dc94366f-bd62-41fe-80a0-4ad7730123bf",
   "metadata": {},
   "outputs": [],
   "source": [
    "def transform_dimensions(dist, t_rho, t_z, km_scale = 1000):\n",
    "    x0 = dist / km_scale\n",
    "    x1 = np.cos(t_rho)\n",
    "    x2 = np.sin(t_rho)\n",
    "    x3 = t_z / km_scale\n",
    "    return [x0, x1, x2, x3]\n",
    "\n",
    "def dir_to_xyz(zenith, azimuth):\n",
    "    z = np.cos(np.deg2rad(zenith))\n",
    "    x = np.sin(np.deg2rad(zenith)) * np.cos(np.deg2rad(azimuth))\n",
    "    y = np.sin(np.deg2rad(zenith)) * np.sin(np.deg2rad(azimuth))\n",
    "    return [z, x, y]"
   ]
  },
  {
   "cell_type": "code",
   "execution_count": 5,
   "id": "c91eecb7-3d7f-40ec-8472-4f9fedc5b5f6",
   "metadata": {},
   "outputs": [],
   "source": [
    "dist = 25\n",
    "z = -210\n",
    "rho = 0.0\n",
    "zenith = np.pi/2\n",
    "azimuth = 0.0\n",
    "\n",
    "x = np.concatenate([transform_dimensions(dist, rho, z), dir_to_xyz(zenith, azimuth)])"
   ]
  },
  {
   "cell_type": "code",
   "execution_count": 27,
   "id": "74b68c1a-a410-4292-8db8-b4de3ba3fe31",
   "metadata": {},
   "outputs": [
    {
     "name": "stdout",
     "output_type": "stream",
     "text": [
      "(9,)\n"
     ]
    }
   ],
   "source": [
    "print(net.eval(x).shape)"
   ]
  },
  {
   "cell_type": "code",
   "execution_count": 29,
   "id": "93be8b04-7cdc-4b65-a6e2-2b4a8e1b5c49",
   "metadata": {},
   "outputs": [
    {
     "name": "stdout",
     "output_type": "stream",
     "text": [
      "74.6 µs ± 2.78 µs per loop (mean ± std. dev. of 7 runs, 10,000 loops each)\n"
     ]
    }
   ],
   "source": [
    "%timeit net.eval(x).block_until_ready()"
   ]
  },
  {
   "cell_type": "code",
   "execution_count": 8,
   "id": "a35b07ce-b1c3-4fad-8d22-bba1b0a20515",
   "metadata": {},
   "outputs": [],
   "source": [
    "#from network import _eval_network\n",
    "#params = net.get_network_params()\n",
    "#print(params[0][0].shape, params[0][1].shape)\n",
    "#%timeit _eval_network(x, params).block_until_ready()"
   ]
  },
  {
   "cell_type": "code",
   "execution_count": 30,
   "id": "1fe14313-a28d-4b94-8d21-bc6062f3c17d",
   "metadata": {},
   "outputs": [
    {
     "name": "stdout",
     "output_type": "stream",
     "text": [
      "(500, 7)\n"
     ]
    }
   ],
   "source": [
    "import jax.numpy as jnp\n",
    "batch_size = 500\n",
    "\n",
    "xx = x[np.newaxis, :]\n",
    "xx = np.repeat(xx, batch_size, axis=0)\n",
    "y = np.random.normal(0.025, 0.001, 500)\n",
    "xx[:, 0] = y\n",
    "xx = jnp.array(xx)\n",
    "print(xx.shape)"
   ]
  },
  {
   "cell_type": "code",
   "execution_count": 31,
   "id": "fd972344-a723-48c7-a28d-27a30332473f",
   "metadata": {},
   "outputs": [
    {
     "name": "stdout",
     "output_type": "stream",
     "text": [
      "130 µs ± 5.6 µs per loop (mean ± std. dev. of 7 runs, 10,000 loops each)\n"
     ]
    }
   ],
   "source": [
    "%timeit net.eval_on_batch(xx).block_until_ready()"
   ]
  },
  {
   "cell_type": "code",
   "execution_count": 32,
   "id": "a4f2de61-cd5a-4087-9df5-97651674e616",
   "metadata": {},
   "outputs": [],
   "source": [
    "z = net.eval_on_batch(xx)"
   ]
  },
  {
   "cell_type": "code",
   "execution_count": 33,
   "id": "6b8da2d2-2bf6-469e-b62f-f8e15acca3c0",
   "metadata": {},
   "outputs": [
    {
     "name": "stdout",
     "output_type": "stream",
     "text": [
      "(500, 9)\n"
     ]
    }
   ],
   "source": [
    "print(z.shape)"
   ]
  },
  {
   "cell_type": "code",
   "execution_count": null,
   "id": "5a406d22-80b4-49e8-b9a8-da9464074711",
   "metadata": {},
   "outputs": [],
   "source": []
  }
 ],
 "metadata": {
  "kernelspec": {
   "display_name": "Python 3 (ipykernel)",
   "language": "python",
   "name": "python3"
  },
  "language_info": {
   "codemirror_mode": {
    "name": "ipython",
    "version": 3
   },
   "file_extension": ".py",
   "mimetype": "text/x-python",
   "name": "python",
   "nbconvert_exporter": "python",
   "pygments_lexer": "ipython3",
   "version": "3.11.5"
  }
 },
 "nbformat": 4,
 "nbformat_minor": 5
}
