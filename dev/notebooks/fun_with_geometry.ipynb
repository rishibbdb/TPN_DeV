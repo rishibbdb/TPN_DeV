{
 "cells": [
  {
   "cell_type": "code",
   "execution_count": 1,
   "id": "fe3308d2-9366-4e18-b141-1f832ee6c7e2",
   "metadata": {},
   "outputs": [],
   "source": [
    "import jax.numpy as jnp\n",
    "import jax\n",
    "import numpy as np"
   ]
  },
  {
   "cell_type": "code",
   "execution_count": 2,
   "id": "157bce69-1222-44c6-bf75-e3a5f7a3fe83",
   "metadata": {},
   "outputs": [],
   "source": [
    "_recip__speedOfLight = 3.3356409519815204\n",
    "_n__ = 1.32548384613875\n",
    "_tan__thetaC = (_n__**2.-1.)**0.5"
   ]
  },
  {
   "cell_type": "code",
   "execution_count": 3,
   "id": "a262c7c0-f824-4fcd-a279-a1d6dec79faa",
   "metadata": {},
   "outputs": [],
   "source": [
    "@jax.jit\n",
    "def closest_distance_dom_track(dom_pos, track_pos, track_dir):\n",
    "    \"\"\"\n",
    "    dom_pos: 1D jax array with 3 components [x, y, z]\n",
    "    track_pos: 1D jax array with 3 components [x, y, z]\n",
    "    track_dir: 1D jax array with 3 components [dir_x, dir_y, dir_z]\n",
    "    \"\"\"\n",
    "    \n",
    "    # vector track support point -> dom\n",
    "    v_a = dom_pos - track_pos \n",
    "    # vector: closest point on track -> dom\n",
    "    v_d = v_a - jnp.dot(v_a, track_dir) * track_dir\n",
    "    dist = jnp.linalg.norm(v_d)\n",
    "    return dist\n",
    "\n",
    "# Generalize to matrix input for dom_pos with shape (N_DOMs, 3).\n",
    "# Output will be in form of (N_DOMs, 1)\n",
    "closest_distance_dom_track_v = jax.jit(jax.vmap(closest_distance_dom_track, (0, None, None), 0))"
   ]
  },
  {
   "cell_type": "code",
   "execution_count": 4,
   "id": "12de502f-0b98-44ae-9da9-69dead349bf4",
   "metadata": {},
   "outputs": [],
   "source": [
    "def convert_spherical_to_cartesian_direction(x):\n",
    "    \"\"\"\n",
    "    \"\"\"\n",
    "    track_theta = x[0]\n",
    "    track_phi = x[1]\n",
    "    track_dir_x = jnp.sin(track_theta) * jnp.cos(track_phi)\n",
    "    track_dir_y = jnp.sin(track_theta) * jnp.sin(track_phi)\n",
    "    track_dir_z = jnp.cos(track_theta)\n",
    "    direction = jnp.array([track_dir_x, track_dir_y, track_dir_z])\n",
    "    return direction\n",
    "\n",
    "# Generalize to matrix input for x with shape (N_DOMs, 2) for theta and phi angles.\n",
    "# Output will be in form of (N_DOMs, 3) for dir_x, dir_y, dir_z\n",
    "convert_spherical_to_cartesian_direction_v = jax.jit(jax.vmap(closest_distance_dom_track, 0, 0)) "
   ]
  },
  {
   "cell_type": "code",
   "execution_count": 5,
   "id": "cd1e4600-c34d-4487-a959-22e73a566826",
   "metadata": {},
   "outputs": [],
   "source": [
    "dom_pos = jnp.array([0, 0, 100])\n",
    "track_pos = jnp.array([0, 0, 0])\n",
    "track_theta = jnp.deg2rad(90.)\n",
    "track_phi = jnp.deg2rad(100.)\n",
    "track_dir = convert_spherical_to_cartesian_direction(jnp.array([track_theta, track_phi]))"
   ]
  },
  {
   "cell_type": "code",
   "execution_count": 6,
   "id": "ecde63cf-586a-4e08-ace2-08050d66554d",
   "metadata": {},
   "outputs": [
    {
     "name": "stdout",
     "output_type": "stream",
     "text": [
      "100.0\n"
     ]
    }
   ],
   "source": [
    "print(closest_distance_dom_track(dom_pos, track_pos, track_dir))"
   ]
  },
  {
   "cell_type": "code",
   "execution_count": 7,
   "id": "6276f752-bfd0-4419-86a9-6bc5805cf0c1",
   "metadata": {},
   "outputs": [
    {
     "name": "stdout",
     "output_type": "stream",
     "text": [
      "(100, 3)\n"
     ]
    }
   ],
   "source": [
    "# now try with batched inputs\n",
    "dom_pos_v = np.random.normal(0, 500, (100, 3))\n",
    "print(dom_pos_v.shape)"
   ]
  },
  {
   "cell_type": "code",
   "execution_count": 8,
   "id": "fcc3e7f7-6033-4b44-aaf7-2792786a6552",
   "metadata": {},
   "outputs": [
    {
     "name": "stdout",
     "output_type": "stream",
     "text": [
      "[ 707.6191   444.44476  585.76874  542.6779   883.7168   400.80795\n",
      "  140.01144  217.77444  554.7531   998.4975   330.2196   966.15845\n",
      "  495.51086 1409.6699   159.54184  145.17502  843.3794  1256.3119\n",
      "  324.3534   344.45926  829.6318   619.9755   819.57135 1128.7021\n",
      "  650.09827  279.83295  276.25815  296.12143  676.7285   285.95758\n",
      " 1113.8235   214.23154  217.8703   827.8846   480.3064  1346.2316\n",
      "  760.9748  1548.1155   653.6748   408.8055   435.17502  461.7747\n",
      "  549.71136  537.83923 1059.3977   675.5304   299.35046  550.416\n",
      "  815.6207   568.8242  1150.5029   553.8918    95.22571  696.60156\n",
      "  493.1495   308.61426  562.9281  1101.3491   710.5719   243.505\n",
      " 1009.2475   641.2852   907.95715  782.254    416.2805  1413.0557\n",
      "  801.53546  152.53952  734.7734   772.6073   782.9695   364.57834\n",
      "  756.2235   405.74063  392.8775   928.0058  1095.9796   888.8098\n",
      "  655.668    556.0227   651.6336   265.76727  474.69757  197.37643\n",
      "  991.9401   664.2653   949.62317 2105.4084   575.8727   177.7666\n",
      " 1722.7549   476.71454  635.7815  1264.6509  1335.3961   479.93073\n",
      "  887.34735  404.88608  478.3359  1143.0807 ]\n"
     ]
    }
   ],
   "source": [
    "print(closest_distance_dom_track_v(dom_pos_v, track_pos, track_dir))"
   ]
  },
  {
   "cell_type": "code",
   "execution_count": 9,
   "id": "ea56fa55-676d-438a-833b-dd9ed00a0060",
   "metadata": {},
   "outputs": [],
   "source": [
    "def light_travel_time(dom_pos, track_pos, track_dir):\n",
    "    \"\"\"\n",
    "    Computes the direct, unscattered time it takes for a photon to travel from \n",
    "    the track to the dom.\n",
    "    See Eq. 4 of the AMANDA track reco paper https://arxiv.org/pdf/astro-ph/0407044\n",
    "    \"\"\"\n",
    "    closest_dist = closest_distance_dom_track(dom_pos, track_pos, track_dir)\n",
    "    \n",
    "    # vector track support point -> dom\n",
    "    v_a = dom_pos - track_pos \n",
    "    # distance muon travels from support point to point of closest approach.\n",
    "    d1 = jnp.dot(v_a, track_dir)\n",
    "    # distance that muon travels beyond closest approach until photon hits.\n",
    "    d2 = closest_dist * _tan__thetaC \n",
    "    return (d1+d2) * _recip__speedOfLight\n",
    "\n",
    "# Generalize to matrix input for dom_pos with shape (N_DOMs, 3).\n",
    "# Output will be in form of (N_DOMs, 1)\n",
    "light_travel_time_v = jax.jit(jax.vmap(light_travel_time, (0, None, None), 0))"
   ]
  },
  {
   "cell_type": "code",
   "execution_count": 10,
   "id": "fd096428-c6a9-4ef5-a567-9252d66c4c0e",
   "metadata": {},
   "outputs": [
    {
     "name": "stdout",
     "output_type": "stream",
     "text": [
      "290.20215\n"
     ]
    }
   ],
   "source": [
    "print(light_travel_time(dom_pos, track_pos, track_dir))"
   ]
  },
  {
   "cell_type": "code",
   "execution_count": 11,
   "id": "5fec6fa2-cbd6-4b2e-b099-4ce50fdbacce",
   "metadata": {},
   "outputs": [
    {
     "name": "stdout",
     "output_type": "stream",
     "text": [
      "[ 1017.23785  3122.096     710.60583 -1618.4631   2545.9282   2767.0447\n",
      "   190.271    1775.1626    942.2193   -328.16565  2515.9272   3773.9934\n",
      " -3393.5183   3559.433     292.6404  -1000.936    1385.4203   5746.5083\n",
      "  2736.7593    478.19208  2937.6816    556.5861   2489.246    -175.28606\n",
      "  5085.5356   1804.1371   1306.4128   2129.0627   4293.428    1042.1727\n",
      "  4896.9717   3806.8376  -3491.8953   1663.1935   2172.5132   2948.52\n",
      "  3676.8713   7796.4106   3103.4983   2721.9492   -394.99655  3278.282\n",
      "  3886.84    -1432.6108   4366.291     585.0739   3874.8955   2057.148\n",
      "  2810.4124   1950.8395   6008.2354   -421.59882  -406.0062   1868.438\n",
      "  1740.5648   -964.0184    331.9091   2225.7356   1077.562     382.01245\n",
      "  3676.3079     69.72129  2788.1736   1836.4861   1624.331    2948.7266\n",
      "  3892.6929    792.6432   5407.2524   4524.313     684.73364  -378.85553\n",
      "  4149.692    1411.7701   -418.3996   1084.3256   1203.7319   1237.3722\n",
      "  1679.7257   3776.9866   2900.3096   3282.4666   1932.1149  -1367.7051\n",
      "  2841.8193    338.94766  3124.8616   3767.9893    136.79375   739.176\n",
      "  3494.2285   -169.61472  1662.3547   1571.8141   1340.3263    312.49606\n",
      "  3059.2651   2500.3145    606.63      684.5965 ]\n"
     ]
    }
   ],
   "source": [
    "print(light_travel_time_v(dom_pos_v, track_pos, track_dir))"
   ]
  },
  {
   "cell_type": "code",
   "execution_count": 12,
   "id": "67fe70fc-4043-4685-b142-0d03ba223aab",
   "metadata": {},
   "outputs": [],
   "source": [
    "@jax.jit\n",
    "def z_component_closest_point_on_track(dom_pos, track_pos, track_dir):\n",
    "    \"\"\"\n",
    "    dom_pos: 1D jax array with 3 components [x, y, z]\n",
    "    track_pos: 1D jax array with 3 components [x, y, z]\n",
    "    track_dir: 1D jax array with 3 components [dir_x, dir_y, dir_z]\n",
    "    \"\"\"\n",
    "    \n",
    "    # vector track support point -> dom\n",
    "    v_a = dom_pos - track_pos \n",
    "    # vector: closest point on track -> dom\n",
    "    v_c = track_pos + jnp.dot(v_a, track_dir) * track_dir\n",
    "    return v_c[2]\n",
    "\n",
    "z_component_closest_point_on_track_v = jax.jit(jax.vmap(z_component_closest_point_on_track, (0, None, None), 0))"
   ]
  },
  {
   "cell_type": "code",
   "execution_count": 13,
   "id": "290e323f-c970-4bfd-aa45-2971e55f9712",
   "metadata": {},
   "outputs": [
    {
     "name": "stdout",
     "output_type": "stream",
     "text": [
      "1.9106854e-13\n"
     ]
    }
   ],
   "source": [
    "print(z_component_closest_point_on_track(dom_pos, track_pos, track_dir))"
   ]
  },
  {
   "cell_type": "code",
   "execution_count": 14,
   "id": "7d1b0dfc-4a83-4b4d-974b-62fed164c4ba",
   "metadata": {},
   "outputs": [
    {
     "name": "stdout",
     "output_type": "stream",
     "text": [
      "[ 1.3579879e-05 -2.4011188e-05  1.2964231e-05  4.1846448e-05\n",
      "  2.4422931e-07 -2.1017942e-05  2.8311317e-06 -1.4980576e-05\n",
      "  8.7495928e-06  4.2272350e-05 -2.0411626e-05 -1.2713579e-05\n",
      "  6.3313659e-05  6.9644357e-06  2.2323713e-06  1.8637484e-05\n",
      "  1.3917931e-05 -2.7527823e-05 -2.3528570e-05  6.8330801e-06\n",
      " -6.9462462e-06  1.6283411e-05 -1.4523815e-06  4.5220531e-05\n",
      " -4.1919964e-05 -1.3000239e-05 -6.6138368e-06 -1.6638744e-05\n",
      " -3.0527193e-05 -2.7822825e-06 -2.1813908e-05 -4.1739084e-05\n",
      "  5.4044409e-05  9.6886397e-06 -1.0203746e-05  1.2557549e-05\n",
      " -1.9243806e-05 -4.3293428e-05 -1.5810650e-05 -2.0122856e-05\n",
      "  2.1725484e-05 -2.5398862e-05 -3.0029467e-05  3.9226965e-05\n",
      " -1.6929449e-05  1.8022800e-05 -3.9393937e-05 -6.0257530e-06\n",
      " -5.8112914e-06 -3.9326023e-06 -3.4981400e-05  2.6588781e-05\n",
      "  8.9417927e-06  2.0064713e-06 -4.0549330e-06  2.4369150e-05\n",
      "  1.7058195e-05  1.2716504e-05  1.2901663e-05  4.2542524e-06\n",
      " -9.7948323e-06  2.3473845e-05 -2.0083971e-06  5.6824656e-06\n",
      " -5.4550242e-06  1.5096101e-05 -2.0529524e-05 -4.5861298e-06\n",
      " -4.2915730e-05 -2.9906603e-05  2.0802636e-05  1.8829238e-05\n",
      " -2.5620497e-05 -3.0703729e-06  2.0423629e-05  2.1081845e-05\n",
      "  2.5904996e-05  1.7585682e-05  2.9227583e-06 -2.8349896e-05\n",
      " -1.3225622e-05 -3.2907683e-05 -7.2667790e-06  2.5428926e-05\n",
      "  4.8240770e-07  2.0819723e-05 -4.8359543e-06  3.0689753e-05\n",
      "  2.0107325e-05 -2.9261146e-06  1.9725239e-05  2.0351712e-05\n",
      "  2.3941257e-06  2.7495937e-05  3.3219811e-05  1.4156275e-05\n",
      " -6.3446482e-06 -1.7367533e-05  1.0241193e-05  3.4499135e-05]\n"
     ]
    }
   ],
   "source": [
    "print(z_component_closest_point_on_track_v(dom_pos_v, track_pos, track_dir))"
   ]
  },
  {
   "cell_type": "code",
   "execution_count": 15,
   "id": "b7af03d0-423e-49e0-87ca-d449d6909baf",
   "metadata": {},
   "outputs": [],
   "source": [
    "@jax.jit\n",
    "def rho_dom_relative_to_track(dom_pos, track_pos, track_dir):\n",
    "    \"\"\"\n",
    "    clean up and verify!\n",
    "    \"\"\"\n",
    "    v1 = dom_pos - track_pos\n",
    "    closestapproach = track_pos + jnp.dot(v1, track_dir)*track_dir\n",
    "    v2 = dom_pos - closestapproach\n",
    "    zdir = jnp.cross(track_dir, jnp.cross(jnp.array([0,0,1]), track_dir))\n",
    "    positivedir = jnp.cross(track_dir, zdir)\n",
    "    ypart = v2-v2*jnp.dot(zdir, v2)\n",
    "    zpart = v2-ypart\n",
    "    z = jnp.dot(zpart, zdir)\n",
    "    y = jnp.dot(ypart, positivedir)\n",
    "    return jnp.arctan2(y,z)\n",
    "\n",
    "rho_dom_relative_to_track_v = jax.jit(jax.vmap(rho_dom_relative_to_track, (0, None, None), 0))"
   ]
  },
  {
   "cell_type": "code",
   "execution_count": 16,
   "id": "3ab501af-e6b2-49cd-9b54-725861f65cce",
   "metadata": {},
   "outputs": [
    {
     "name": "stdout",
     "output_type": "stream",
     "text": [
      "-7.275959e-16\n"
     ]
    }
   ],
   "source": [
    "print(rho_dom_relative_to_track(dom_pos, track_pos, track_dir))"
   ]
  },
  {
   "cell_type": "code",
   "execution_count": 17,
   "id": "0657602e-093f-45c7-8f0c-3d147ae27fc3",
   "metadata": {},
   "outputs": [
    {
     "name": "stdout",
     "output_type": "stream",
     "text": [
      "[ 41.263985   87.94616    -6.786927  -63.200016  -82.97944   -58.947006\n",
      " -54.462128    2.845565   84.1405     66.703926  -82.5882     -2.0476346\n",
      " -40.266926  -35.769245  -24.61014    33.089184   73.08122    87.871086\n",
      "  55.093487  -46.686176  -22.64364   -88.706764   30.508406   48.75631\n",
      " -13.698643  -55.81961   -65.86062    39.34551   -67.13592   -27.188456\n",
      " -55.725258  -74.30694    -4.00967   -41.39106    59.667046   59.887024\n",
      "   7.96906   -25.541775  -51.673126   31.242788    4.0546136 -16.027323\n",
      "  58.34345    49.27972    12.611174   28.267601   26.25734    37.687016\n",
      " -32.305588   80.619415  -69.876785   66.5613     41.637154  -63.3831\n",
      "  40.136257   60.44382     2.3590398   9.980967   54.91069    37.76351\n",
      "  -1.8509852  53.574516   -9.472357   17.793621  -22.095016  -18.486582\n",
      "  29.691921   12.197003   33.915092   14.364562   18.23489   -88.91232\n",
      "  23.818516   58.721745  -88.82185    77.775406   -8.866069   11.076788\n",
      " -12.43299   -20.886436    5.1235213  55.69004    73.97324    48.06659\n",
      "  29.0607    -41.16865     5.7437024  38.38244    71.50739    61.410244\n",
      "  78.057434   11.387151   15.454418   25.236925    2.9042463  47.786575\n",
      "  12.855696  -70.57677    54.618206  -39.736237 ]\n"
     ]
    }
   ],
   "source": [
    "print(jnp.rad2deg(rho_dom_relative_to_track_v(dom_pos_v, track_pos, track_dir)))"
   ]
  },
  {
   "cell_type": "code",
   "execution_count": null,
   "id": "d5f2da32-4f61-434e-948c-2a974c839e8e",
   "metadata": {},
   "outputs": [],
   "source": []
  },
  {
   "cell_type": "code",
   "execution_count": null,
   "id": "223aeeef-7742-4a7e-8f1d-dba5a67b5769",
   "metadata": {},
   "outputs": [],
   "source": []
  }
 ],
 "metadata": {
  "kernelspec": {
   "display_name": "Python 3 (ipykernel)",
   "language": "python",
   "name": "python3"
  },
  "language_info": {
   "codemirror_mode": {
    "name": "ipython",
    "version": 3
   },
   "file_extension": ".py",
   "mimetype": "text/x-python",
   "name": "python",
   "nbconvert_exporter": "python",
   "pygments_lexer": "ipython3",
   "version": "3.11.5"
  }
 },
 "nbformat": 4,
 "nbformat_minor": 5
}
