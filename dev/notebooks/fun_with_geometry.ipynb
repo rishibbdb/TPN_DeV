{
 "cells": [
  {
   "cell_type": "code",
   "execution_count": 1,
   "id": "fe3308d2-9366-4e18-b141-1f832ee6c7e2",
   "metadata": {},
   "outputs": [],
   "source": [
    "import jax.numpy as jnp\n",
    "import jax\n",
    "import numpy as np"
   ]
  },
  {
   "cell_type": "code",
   "execution_count": 2,
   "id": "157bce69-1222-44c6-bf75-e3a5f7a3fe83",
   "metadata": {},
   "outputs": [],
   "source": [
    "_recip__speedOfLight = 3.3356409519815204\n",
    "_n__ = 1.32548384613875\n",
    "_tan__thetaC = (_n__**2.-1.)**0.5"
   ]
  },
  {
   "cell_type": "code",
   "execution_count": 3,
   "id": "a262c7c0-f824-4fcd-a279-a1d6dec79faa",
   "metadata": {},
   "outputs": [],
   "source": [
    "@jax.jit\n",
    "def closest_distance_dom_track(dom_pos, track_pos, track_dir):\n",
    "    \"\"\"\n",
    "    dom_pos: 1D jax array with 3 components [x, y, z]\n",
    "    track_pos: 1D jax array with 3 components [x, y, z]\n",
    "    track_dir: 1D jax array with 3 components [dir_x, dir_y, dir_z]\n",
    "    \"\"\"\n",
    "    \n",
    "    # vector track support point -> dom\n",
    "    v_a = dom_pos - track_pos \n",
    "    # vector: closest point on track -> dom\n",
    "    v_d = v_a - jnp.dot(v_a, track_dir) * track_dir\n",
    "    dist = jnp.linalg.norm(v_d)\n",
    "    return dist\n",
    "\n",
    "# Generalize to matrix input for dom_pos with shape (N_DOMs, 3).\n",
    "# Output will be in form of (N_DOMs, 1)\n",
    "closest_distance_dom_track_v = jax.jit(jax.vmap(closest_distance_dom_track, (0, None, None), 0))"
   ]
  },
  {
   "cell_type": "code",
   "execution_count": 4,
   "id": "12de502f-0b98-44ae-9da9-69dead349bf4",
   "metadata": {},
   "outputs": [],
   "source": [
    "def convert_spherical_to_cartesian_direction(x):\n",
    "    \"\"\"\n",
    "    \"\"\"\n",
    "    track_theta = x[0]\n",
    "    track_phi = x[1]\n",
    "    track_dir_x = jnp.sin(track_theta) * jnp.cos(track_phi)\n",
    "    track_dir_y = jnp.sin(track_theta) * jnp.sin(track_phi)\n",
    "    track_dir_z = jnp.cos(track_theta)\n",
    "    direction = jnp.array([track_dir_x, track_dir_y, track_dir_z])\n",
    "    return direction\n",
    "\n",
    "# Generalize to matrix input for x with shape (N_DOMs, 2) for theta and phi angles.\n",
    "# Output will be in form of (N_DOMs, 3) for dir_x, dir_y, dir_z\n",
    "convert_spherical_to_cartesian_direction_v = jax.jit(jax.vmap(closest_distance_dom_track, 0, 0)) "
   ]
  },
  {
   "cell_type": "code",
   "execution_count": 5,
   "id": "cd1e4600-c34d-4487-a959-22e73a566826",
   "metadata": {},
   "outputs": [
    {
     "name": "stderr",
     "output_type": "stream",
     "text": [
      "An NVIDIA GPU may be present on this machine, but a CUDA-enabled jaxlib is not installed. Falling back to cpu.\n"
     ]
    }
   ],
   "source": [
    "dom_pos = jnp.array([0, 0, 100])\n",
    "track_pos = jnp.array([0, 0, 0])\n",
    "track_theta = jnp.deg2rad(90.)\n",
    "track_phi = jnp.deg2rad(100.)\n",
    "track_dir = convert_spherical_to_cartesian_direction(jnp.array([track_theta, track_phi]))"
   ]
  },
  {
   "cell_type": "code",
   "execution_count": 6,
   "id": "ecde63cf-586a-4e08-ace2-08050d66554d",
   "metadata": {},
   "outputs": [
    {
     "name": "stdout",
     "output_type": "stream",
     "text": [
      "100.0\n"
     ]
    }
   ],
   "source": [
    "print(closest_distance_dom_track(dom_pos, track_pos, track_dir))"
   ]
  },
  {
   "cell_type": "code",
   "execution_count": 7,
   "id": "6276f752-bfd0-4419-86a9-6bc5805cf0c1",
   "metadata": {},
   "outputs": [
    {
     "name": "stdout",
     "output_type": "stream",
     "text": [
      "(100, 3)\n"
     ]
    }
   ],
   "source": [
    "# now try with batched inputs\n",
    "dom_pos_v = np.random.normal(0, 500, (100, 3))\n",
    "print(dom_pos_v.shape)"
   ]
  },
  {
   "cell_type": "code",
   "execution_count": 8,
   "id": "fcc3e7f7-6033-4b44-aaf7-2792786a6552",
   "metadata": {},
   "outputs": [
    {
     "name": "stdout",
     "output_type": "stream",
     "text": [
      "[ 734.9613   1132.05      411.29584   670.467     615.91864   385.05234\n",
      "  567.0591    280.3011    604.7056   1474.9904     17.213976  393.51273\n",
      " 1043.9243   1079.267     699.37006   499.469     154.96368   729.6035\n",
      "  671.9363    595.9386   1013.52576   412.34747   466.35406   161.17166\n",
      "  872.0785   1097.5822    914.09503   997.76404   477.5296    367.04446\n",
      " 1083.1692    743.09607   786.1463    579.9173    215.93436   658.3945\n",
      "  687.6606     77.9546    942.1284    213.10603   222.6412    806.3688\n",
      "  792.4577    623.7761    874.5432    392.2688    119.551704  429.0185\n",
      "  880.1689    995.70874   292.1692    374.62088  1044.158     230.21112\n",
      "  795.58325   230.00607  1229.6013    739.72186  1086.9563    452.9667\n",
      " 1367.9958    870.35596   426.91028   678.17737   817.7927    942.7511\n",
      " 1103.4459    312.6761    511.7104   1130.4279    348.9942    244.69107\n",
      "  414.97946   502.27075   537.46136   462.35666   835.7597    192.31586\n",
      " 1055.8003    621.78546   225.70782   613.53625   604.58746   874.2267\n",
      "  949.77856   345.7545    755.8766    371.4415    660.2015    781.2861\n",
      "  100.39978   590.41956   503.9669    168.79803   294.9269    774.4435\n",
      "  314.41946   448.6595    661.08026   815.3715  ]\n"
     ]
    }
   ],
   "source": [
    "print(closest_distance_dom_track_v(dom_pos_v, track_pos, track_dir))"
   ]
  },
  {
   "cell_type": "code",
   "execution_count": 9,
   "id": "ea56fa55-676d-438a-833b-dd9ed00a0060",
   "metadata": {},
   "outputs": [],
   "source": [
    "def light_travel_time(dom_pos, track_pos, track_dir):\n",
    "    \"\"\"\n",
    "    Computes the direct, unscattered time it takes for a photon to travel from \n",
    "    the track to the dom.\n",
    "    See Eq. 4 of the AMANDA track reco paper https://arxiv.org/pdf/astro-ph/0407044\n",
    "    \"\"\"\n",
    "    closest_dist = closest_distance_dom_track(dom_pos, track_pos, track_dir)\n",
    "    \n",
    "    # vector track support point -> dom\n",
    "    v_a = dom_pos - track_pos \n",
    "    # distance muon travels from support point to point of closest approach.\n",
    "    d1 = jnp.dot(v_a, track_dir)\n",
    "    # distance that muon travels beyond closest approach until photon hits.\n",
    "    d2 = closest_dist * _tan__thetaC \n",
    "    return (d1+d2) * _recip__speedOfLight\n",
    "\n",
    "# Generalize to matrix input for dom_pos with shape (N_DOMs, 3).\n",
    "# Output will be in form of (N_DOMs, 1)\n",
    "light_travel_time_v = jax.jit(jax.vmap(light_travel_time, (0, None, None), 0))"
   ]
  },
  {
   "cell_type": "code",
   "execution_count": 10,
   "id": "fd096428-c6a9-4ef5-a567-9252d66c4c0e",
   "metadata": {},
   "outputs": [
    {
     "name": "stdout",
     "output_type": "stream",
     "text": [
      "290.20215\n"
     ]
    }
   ],
   "source": [
    "print(light_travel_time(dom_pos, track_pos, track_dir))"
   ]
  },
  {
   "cell_type": "code",
   "execution_count": 11,
   "id": "5fec6fa2-cbd6-4b2e-b099-4ce50fdbacce",
   "metadata": {},
   "outputs": [
    {
     "name": "stdout",
     "output_type": "stream",
     "text": [
      "[ 3697.579     3304.5317     -58.9647    2435.801     1984.549\n",
      "  1768.092     1697.8025   -1379.6575     518.9842    1617.301\n",
      " -2991.5251    1309.7119    5617.3037    6037.9404     810.4508\n",
      "  -560.91736    702.6794    2529.8762    3890.486     3454.4038\n",
      "  3905.3098    -575.76556   2029.754      126.12225   2245.5742\n",
      "  4742.1323     543.7948    2251.4482     569.20776   2017.5795\n",
      "  3664.6245    3749.7583    3806.6274     237.86401   1088.8313\n",
      "   655.47485   4575.8086   -1696.121     3682.4167    -281.97598\n",
      "   511.88828   1132.6306     341.84747    324.13254    -27.847332\n",
      " -3009.6797     664.77075   -851.27185   3401.593     2453.259\n",
      "  -203.605     2481.4385    3242.6323    -679.4367     -91.04192\n",
      "  1452.0001    7179.0454    2202.5168    1605.7339    2530.356\n",
      "  5286.1396    1617.7802    -534.16504   1499.0654    3540.3552\n",
      "  3688.9028    4167.475     1356.9147   -1067.4904    4221.172\n",
      " -1371.9436    5448.301     2312.448    -1303.6566    1586.5406\n",
      "  -303.65512   2315.8386    1262.0613    1525.1567    -374.68842\n",
      "  1470.3275    3514.733      646.1684    3151.3992    3773.9563\n",
      " -2356.1748    3344.1145    2022.104      534.9269     947.4901\n",
      "  2232.8113    1971.5283    1848.0807     160.73723   2744.1821\n",
      "  3737.007       92.404175  2845.3372    4111.9434     656.7609  ]\n"
     ]
    }
   ],
   "source": [
    "print(light_travel_time_v(dom_pos_v, track_pos, track_dir))"
   ]
  },
  {
   "cell_type": "code",
   "execution_count": 12,
   "id": "67fe70fc-4043-4685-b142-0d03ba223aab",
   "metadata": {},
   "outputs": [],
   "source": [
    "@jax.jit\n",
    "def z_component_closest_point_on_track(dom_pos, track_pos, track_dir):\n",
    "    \"\"\"\n",
    "    dom_pos: 1D jax array with 3 components [x, y, z]\n",
    "    track_pos: 1D jax array with 3 components [x, y, z]\n",
    "    track_dir: 1D jax array with 3 components [dir_x, dir_y, dir_z]\n",
    "    \"\"\"\n",
    "    \n",
    "    # vector track support point -> dom\n",
    "    v_a = dom_pos - track_pos \n",
    "    # vector: closest point on track -> dom\n",
    "    v_c = track_pos + jnp.dot(v_a, track_dir) * track_dir\n",
    "    return v_c[2]\n",
    "\n",
    "z_component_closest_point_on_track_v = jax.jit(jax.vmap(z_component_closest_point_on_track, (0, None, None), 0))"
   ]
  },
  {
   "cell_type": "code",
   "execution_count": 13,
   "id": "290e323f-c970-4bfd-aa45-2971e55f9712",
   "metadata": {},
   "outputs": [
    {
     "name": "stdout",
     "output_type": "stream",
     "text": [
      "1.9106854e-13\n"
     ]
    }
   ],
   "source": [
    "print(z_component_closest_point_on_track(dom_pos, track_pos, track_dir))"
   ]
  },
  {
   "cell_type": "code",
   "execution_count": 14,
   "id": "7d1b0dfc-4a83-4b4d-974b-62fed164c4ba",
   "metadata": {},
   "outputs": [
    {
     "name": "stdout",
     "output_type": "stream",
     "text": [
      "[-2.05044362e-05 -2.52883410e-07  1.64139019e-05 -6.42232453e-06\n",
      " -2.58338423e-06 -8.52649646e-06 -6.83846338e-07  2.87391031e-05\n",
      "  1.61954595e-05  3.48988797e-05  3.98566081e-05 -2.19798267e-06\n",
      " -3.39115868e-05 -3.80797064e-05  1.59759838e-05  2.63448092e-05\n",
      " -3.31502360e-06 -5.40620749e-06 -2.54291408e-05 -2.26046923e-05\n",
      " -1.26330578e-05  2.32262319e-05 -8.86357248e-06  4.47646289e-06\n",
      "  3.73757621e-06 -2.04024800e-05  2.76361334e-05  8.44031001e-06\n",
      "  1.07009246e-05 -1.24806875e-05 -6.83055941e-06 -2.08788551e-05\n",
      " -1.99869264e-05  1.89366783e-05 -6.05663263e-06  1.64485773e-05\n",
      " -3.38118625e-05  2.51910969e-05 -1.24273683e-05  1.17993404e-05\n",
      "  1.75888295e-06  1.58230941e-05  2.56567619e-05  1.94740969e-05\n",
      "  3.36230078e-05  5.43575079e-05 -4.16494186e-06  2.74705453e-05\n",
      " -1.11036188e-05  5.71755027e-06  1.37790403e-05 -1.82711337e-05\n",
      " -2.78419043e-06  1.76582944e-05  3.14483550e-05 -1.02805880e-05\n",
      " -4.73160580e-05 -7.31585374e-07  2.02938736e-05 -1.59327428e-05\n",
      " -1.72477448e-05  1.18989010e-05  2.32348939e-05  6.14620149e-06\n",
      " -1.52941193e-05 -1.24886828e-05 -1.26489804e-05 -5.89068895e-06\n",
      "  3.34486467e-05 -1.23265409e-05  3.12503544e-05 -6.20910287e-05\n",
      " -1.45218200e-05  3.61844686e-05 -3.51405617e-07  2.15622076e-05\n",
      "  1.43563625e-06 -9.22488744e-06  2.01649491e-05  2.85559854e-05\n",
      " -1.06842144e-05 -2.27260425e-05  1.45243012e-05 -8.05097352e-06\n",
      " -1.33360072e-05  4.40248587e-05 -1.50771275e-05 -1.23727641e-05\n",
      "  1.80969982e-05  1.72953660e-05 -2.54414153e-05 -3.38246377e-06\n",
      " -5.05248045e-06  4.31288072e-06 -2.47449043e-05 -1.95196426e-05\n",
      "  1.07461919e-05 -2.02241645e-05 -2.87440398e-05  2.24014202e-05]\n"
     ]
    }
   ],
   "source": [
    "print(z_component_closest_point_on_track_v(dom_pos_v, track_pos, track_dir))"
   ]
  },
  {
   "cell_type": "code",
   "execution_count": 15,
   "id": "b7af03d0-423e-49e0-87ca-d449d6909baf",
   "metadata": {},
   "outputs": [],
   "source": [
    "@jax.jit\n",
    "def rho_dom_relative_to_track(dom_pos, track_pos, track_dir):\n",
    "    \"\"\"\n",
    "    clean up and verify!\n",
    "    \"\"\"\n",
    "    v1 = dom_pos - track_pos\n",
    "    closestapproach = track_pos + jnp.dot(v1, track_dir)*track_dir\n",
    "    v2 = dom_pos - closestapproach\n",
    "    zdir = jnp.cross(track_dir, jnp.cross(jnp.array([0,0,1]), track_dir))\n",
    "    positivedir = jnp.cross(track_dir, zdir)\n",
    "    ypart = v2-v2*jnp.dot(zdir, v2)\n",
    "    zpart = v2-ypart\n",
    "    z = jnp.dot(zpart, zdir)\n",
    "    y = jnp.dot(ypart, positivedir)\n",
    "    return jnp.arctan2(y,z)\n",
    "\n",
    "rho_dom_relative_to_track_v = jax.jit(jax.vmap(rho_dom_relative_to_track, (0, None, None), 0))"
   ]
  },
  {
   "cell_type": "code",
   "execution_count": 16,
   "id": "3ab501af-e6b2-49cd-9b54-725861f65cce",
   "metadata": {},
   "outputs": [
    {
     "name": "stdout",
     "output_type": "stream",
     "text": [
      "4.73666e-16\n"
     ]
    }
   ],
   "source": [
    "print(rho_dom_relative_to_track(dom_pos, track_pos, track_dir))"
   ]
  },
  {
   "cell_type": "code",
   "execution_count": 17,
   "id": "0657602e-093f-45c7-8f0c-3d147ae27fc3",
   "metadata": {},
   "outputs": [
    {
     "name": "stdout",
     "output_type": "stream",
     "text": [
      "[-84.14582    -56.270733   -89.27325    -87.143036    17.247957\n",
      " -22.87404    -36.350452    15.077467   -55.26094      2.4157414\n",
      "  15.572105     4.300561    39.48524     16.895443    38.063335\n",
      "  45.16409     64.50946      8.6174965  -35.84839    -60.964863\n",
      "  54.506367   -28.21697     39.59431    -77.21685    -48.857677\n",
      " -50.99233     61.26645    -24.964264    18.522024    43.64505\n",
      " -56.936005     6.652291    24.874058    89.09147    -42.763157\n",
      "  39.254135   -39.30967     43.73764    -29.293903    65.02472\n",
      "  66.77908     10.062869    55.36843     81.10722    -66.92159\n",
      "  17.728918    82.39804    -77.74851     64.45234    -52.864597\n",
      "  -7.4588356   47.935333   -49.33473     41.898563   -16.176819\n",
      " -58.919342    -9.361332    48.75691    -82.82179     46.0653\n",
      " -40.862408   -26.05654     40.90024    -85.43946     45.076168\n",
      " -32.6996      44.291355   -62.426823    57.864433     4.4835825\n",
      " -44.634666   -63.181137    20.470926   -63.72171    -68.275795\n",
      " -53.440094    83.675514   -83.50586    -55.379692     2.5038438\n",
      " -80.68695    -82.93259     -6.794786    35.287212   -63.0435\n",
      "  12.970849    46.489502    -0.60666907  33.529953    47.40665\n",
      " -12.46424     68.0322     -60.351448    65.51896     20.055685\n",
      "  37.70639    -62.824677   -65.449066     0.9922244   24.998468  ]\n"
     ]
    }
   ],
   "source": [
    "print(jnp.rad2deg(rho_dom_relative_to_track_v(dom_pos_v, track_pos, track_dir)))"
   ]
  },
  {
   "cell_type": "code",
   "execution_count": null,
   "id": "d5f2da32-4f61-434e-948c-2a974c839e8e",
   "metadata": {},
   "outputs": [],
   "source": []
  },
  {
   "cell_type": "code",
   "execution_count": null,
   "id": "223aeeef-7742-4a7e-8f1d-dba5a67b5769",
   "metadata": {},
   "outputs": [],
   "source": []
  }
 ],
 "metadata": {
  "kernelspec": {
   "display_name": "Python 3 (ipykernel)",
   "language": "python",
   "name": "python3"
  },
  "language_info": {
   "codemirror_mode": {
    "name": "ipython",
    "version": 3
   },
   "file_extension": ".py",
   "mimetype": "text/x-python",
   "name": "python",
   "nbconvert_exporter": "python",
   "pygments_lexer": "ipython3",
   "version": "3.11.5"
  }
 },
 "nbformat": 4,
 "nbformat_minor": 5
}
