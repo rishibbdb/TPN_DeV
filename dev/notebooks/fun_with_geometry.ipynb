{
 "cells": [
  {
   "cell_type": "code",
   "execution_count": 6,
   "id": "fe3308d2-9366-4e18-b141-1f832ee6c7e2",
   "metadata": {},
   "outputs": [],
   "source": [
    "import jax.numpy as jnp\n",
    "import jax\n",
    "import numpy as np"
   ]
  },
  {
   "cell_type": "code",
   "execution_count": 12,
   "id": "157bce69-1222-44c6-bf75-e3a5f7a3fe83",
   "metadata": {},
   "outputs": [],
   "source": [
    "_recip__speedOfLight = 3.3356409519815204\n",
    "_n__ = 1.32548384613875\n",
    "_tan__thetaC = (_n__**2.-1.)**0.5"
   ]
  },
  {
   "cell_type": "code",
   "execution_count": 2,
   "id": "a262c7c0-f824-4fcd-a279-a1d6dec79faa",
   "metadata": {},
   "outputs": [],
   "source": [
    "@jax.jit\n",
    "def closest_distance_dom_track(dom_pos, track_pos, track_dir):\n",
    "    \"\"\"\n",
    "    dom_pos: 1D jax array with 3 components [x, y, z]\n",
    "    track_pos: 1D jax array with 3 components [x, y, z]\n",
    "    track_dir: 1D jax array with 3 components [dir_x, dir_y, dir_z]\n",
    "    \"\"\"\n",
    "    \n",
    "    # vector track support point -> dom\n",
    "    v_a = dom_pos - track_pos \n",
    "    # vector: closest point on track -> dom\n",
    "    v_d = v_a - jnp.dot(v_a, track_dir) * track_dir\n",
    "    dist = jnp.linalg.norm(v_d)\n",
    "    return dist\n",
    "\n",
    "# Generalize to matrix input for dom_pos with shape (N_DOMs, 3).\n",
    "# Output will be in form of (N_DOMs, 1)\n",
    "closest_distance_dom_track_v = jax.jit(jax.vmap(closest_distance_dom_track, (0, None, None), 0))"
   ]
  },
  {
   "cell_type": "code",
   "execution_count": 27,
   "id": "12de502f-0b98-44ae-9da9-69dead349bf4",
   "metadata": {},
   "outputs": [],
   "source": [
    "def convert_spherical_to_cartesian_direction(x):\n",
    "    \"\"\"\n",
    "    \"\"\"\n",
    "    track_theta = x[0]\n",
    "    track_phi = x[1]\n",
    "    track_dir_x = jnp.sin(track_theta) * jnp.cos(track_phi)\n",
    "    track_dir_y = jnp.sin(track_theta) * jnp.sin(track_phi)\n",
    "    track_dir_z = jnp.cos(track_theta)\n",
    "    direction = jnp.array([track_dir_x, track_dir_y, track_dir_z])\n",
    "    return direction\n",
    "\n",
    "# Generalize to matrix input for x with shape (N_DOMs, 2) for theta and phi angles.\n",
    "# Output will be in form of (N_DOMs, 3) for dir_x, dir_y, dir_z\n",
    "convert_spherical_to_cartesian_direction_v = jax.jit(jax.vmap(closest_distance_dom_track, 0, 0)) "
   ]
  },
  {
   "cell_type": "code",
   "execution_count": 116,
   "id": "cd1e4600-c34d-4487-a959-22e73a566826",
   "metadata": {},
   "outputs": [],
   "source": [
    "dom_pos = jnp.array([0, 0, +100])\n",
    "track_pos = jnp.array([0, 0, 0])\n",
    "track_theta = jnp.deg2rad(90.)\n",
    "track_phi = jnp.deg2rad(100.)\n",
    "track_dir = convert_spherical_to_cartesian_direction(jnp.array([track_theta, track_phi]))"
   ]
  },
  {
   "cell_type": "code",
   "execution_count": 114,
   "id": "ecde63cf-586a-4e08-ace2-08050d66554d",
   "metadata": {},
   "outputs": [
    {
     "name": "stdout",
     "output_type": "stream",
     "text": [
      "100.0\n"
     ]
    }
   ],
   "source": [
    "print(closest_distance_dom_track(dom_pos, track_pos, track_dir))"
   ]
  },
  {
   "cell_type": "code",
   "execution_count": 102,
   "id": "6276f752-bfd0-4419-86a9-6bc5805cf0c1",
   "metadata": {},
   "outputs": [
    {
     "name": "stdout",
     "output_type": "stream",
     "text": [
      "(100, 3)\n"
     ]
    }
   ],
   "source": [
    "# now try with batched inputs\n",
    "dom_pos_v = np.random.normal(0, 500, (100, 3))\n",
    "print(dom_pos_v.shape)"
   ]
  },
  {
   "cell_type": "code",
   "execution_count": 103,
   "id": "fcc3e7f7-6033-4b44-aaf7-2792786a6552",
   "metadata": {},
   "outputs": [
    {
     "name": "stdout",
     "output_type": "stream",
     "text": [
      "[ 116.697     103.03797  1024.2969    675.87854   324.52417   564.75385\n",
      "  593.78436  1235.7764    936.8248    759.6192    732.629     680.7577\n",
      "  863.4089    310.74988   377.15936    56.720856  779.1402    628.3892\n",
      "  361.79376  1021.67975   941.6828    420.49622   851.24335   167.74657\n",
      "  716.1566    440.80118  1015.7084    730.66785   788.8878    180.54437\n",
      "  647.207     621.15      309.26633   765.8268    636.1266    419.40942\n",
      " 1103.3851    348.2061    431.17737  1247.2603    887.40894  1068.9005\n",
      " 1015.7297    433.2806   1112.8293   1181.8934    589.6558   1531.7487\n",
      " 1432.3542    834.2106    788.1943    754.28516   318.9307    623.6772\n",
      " 1061.9905    537.28253   702.5405    739.42957   431.49142   343.5018\n",
      "  671.57635   821.2296    794.8022    764.21106   317.91022   914.76495\n",
      "  813.06903   562.7532    701.4595    343.72568  1101.1233    487.846\n",
      "  391.1694    202.05447   145.65205  1030.8912    641.91254   209.4851\n",
      "  915.09216   797.6607    360.9073    670.15063   701.9792    420.35327\n",
      "  749.5649   1270.8751   1029.286     567.31616    80.57772   391.63443\n",
      "  266.13513  1058.3533    655.058     630.51044   834.73157   737.1886\n",
      "  970.1268    344.17096   175.84218   131.99277 ]\n"
     ]
    }
   ],
   "source": [
    "print(closest_distance_dom_track_v(dom_pos_v, track_pos, track_dir))"
   ]
  },
  {
   "cell_type": "code",
   "execution_count": 104,
   "id": "ea56fa55-676d-438a-833b-dd9ed00a0060",
   "metadata": {},
   "outputs": [],
   "source": [
    "def light_travel_time(dom_pos, track_pos, track_dir):\n",
    "    \"\"\"\n",
    "    Computes the direct, unscattered time it takes for a photon to travel from \n",
    "    the track to the dom.\n",
    "    See Eq. 4 of the AMANDA track reco paper https://arxiv.org/pdf/astro-ph/0407044\n",
    "    \"\"\"\n",
    "    closest_dist = closest_distance_dom_track(dom_pos, track_pos, track_dir)\n",
    "    \n",
    "    # vector track support point -> dom\n",
    "    v_a = dom_pos - track_pos \n",
    "    # distance muon travels from support point to point of closest approach.\n",
    "    d1 = jnp.dot(v_a, track_dir)\n",
    "    # distance that muon travels beyond closest approach until photon hits.\n",
    "    d2 = closest_dist * _tan__thetaC \n",
    "    return (d1+d2) * _recip__speedOfLight\n",
    "\n",
    "# Generalize to matrix input for dom_pos with shape (N_DOMs, 3).\n",
    "# Output will be in form of (N_DOMs, 1)\n",
    "light_travel_time_v = jax.jit(jax.vmap(light_travel_time, (0, None, None), 0))"
   ]
  },
  {
   "cell_type": "code",
   "execution_count": 105,
   "id": "fd096428-c6a9-4ef5-a567-9252d66c4c0e",
   "metadata": {},
   "outputs": [
    {
     "name": "stdout",
     "output_type": "stream",
     "text": [
      "714.6805\n"
     ]
    }
   ],
   "source": [
    "print(light_travel_time(dom_pos, track_pos, track_dir))"
   ]
  },
  {
   "cell_type": "code",
   "execution_count": 106,
   "id": "5fec6fa2-cbd6-4b2e-b099-4ce50fdbacce",
   "metadata": {},
   "outputs": [
    {
     "name": "stdout",
     "output_type": "stream",
     "text": [
      "[ 2196.436    -133.52304  6188.9683   4406.825    -961.5291  -1031.0009\n",
      "  2907.7957   1853.7916   1952.452    3301.1682   -761.5907   2573.8696\n",
      "  3919.2664     35.49175  2223.2693    216.15514    40.06466  1072.2708\n",
      "  1190.1101   2627.092    2102.7      1343.219    2889.6064    381.19952\n",
      "  1620.1749   -932.86707  2151.446    1627.505    5686.2803   -842.6394\n",
      "  2182.1836   2307.6047    653.97656  2657.977   -1887.4792    198.09268\n",
      "  3934.6064   2550.028    -576.31525  5993.978    3045.8594   6391.0176\n",
      "  2407.0278   -138.13371  3076.17     3031.8308   1230.5631   4661.1133\n",
      "  3902.7239   4866.5864    323.64197  2052.4185    766.22815   284.89655\n",
      "  2949.425    1482.6832   1821.5427   1349.6788   2893.443   -2416.0962\n",
      "  2072.226    3989.8372    462.36456  1327.839    -509.3201   3141.083\n",
      "  1971.9211   1502.481    4157.901   -3429.4792   3363.6418   2869.0334\n",
      "  1604.5126   1333.4427   -479.80463  1476.8468    831.3002   2155.0654\n",
      "  3490.2937   3330.2654    851.69293  2757.5088   1052.7855  -1299.7572\n",
      "   825.073    3558.0122   4060.523    1805.6046  -1086.9718   2007.56\n",
      "  1459.5966   3643.5933   -716.0074   2920.5784   5424.8506   1736.103\n",
      "  3243.8423  -2467.538    4727.038     207.94034]\n"
     ]
    }
   ],
   "source": [
    "print(light_travel_time_v(dom_pos_v, track_pos, track_dir))"
   ]
  },
  {
   "cell_type": "code",
   "execution_count": 107,
   "id": "67fe70fc-4043-4685-b142-0d03ba223aab",
   "metadata": {},
   "outputs": [],
   "source": [
    "@jax.jit\n",
    "def z_component_closest_point_on_track(dom_pos, track_pos, track_dir):\n",
    "    \"\"\"\n",
    "    dom_pos: 1D jax array with 3 components [x, y, z]\n",
    "    track_pos: 1D jax array with 3 components [x, y, z]\n",
    "    track_dir: 1D jax array with 3 components [dir_x, dir_y, dir_z]\n",
    "    \"\"\"\n",
    "    \n",
    "    # vector track support point -> dom\n",
    "    v_a = dom_pos - track_pos \n",
    "    # vector: closest point on track -> dom\n",
    "    v_c = track_pos + jnp.dot(v_a, track_dir) * track_dir\n",
    "    return v_c[2]\n",
    "\n",
    "z_component_closest_point_on_track_v = jax.jit(jax.vmap(z_component_closest_point_on_track, (0, None, None), 0))"
   ]
  },
  {
   "cell_type": "code",
   "execution_count": 108,
   "id": "290e323f-c970-4bfd-aa45-2971e55f9712",
   "metadata": {},
   "outputs": [
    {
     "name": "stdout",
     "output_type": "stream",
     "text": [
      "-3.5456906e-06\n"
     ]
    }
   ],
   "source": [
    "print(z_component_closest_point_on_track(dom_pos, track_pos, track_dir))"
   ]
  },
  {
   "cell_type": "code",
   "execution_count": 109,
   "id": "7d1b0dfc-4a83-4b4d-974b-62fed164c4ba",
   "metadata": {},
   "outputs": [
    {
     "name": "stdout",
     "output_type": "stream",
     "text": [
      "[-2.4345327e-05  5.6681943e-06 -4.2150285e-05 -3.2046213e-05\n",
      "  2.4941724e-05  3.4987836e-05 -1.5524145e-05  2.2702434e-05\n",
      "  1.0040683e-05 -1.4372546e-05  3.7841488e-05 -7.8406920e-06\n",
      " -1.8525388e-05  1.1352435e-05 -1.4791816e-05 -6.7556340e-07\n",
      "  2.9104971e-05  9.8454939e-06 -1.8371162e-06  4.4268168e-06\n",
      "  8.2565020e-06 -1.6111308e-06 -5.4948487e-06  1.3838186e-06\n",
      "  6.0031966e-06  2.8988032e-05  1.0432834e-05  6.4589872e-06\n",
      " -4.4515204e-05  1.7908313e-05 -3.9837450e-06 -6.6182479e-06\n",
      "  3.1910781e-06 -5.7077759e-06  4.8925802e-05  1.3353854e-05\n",
      " -9.6003296e-06 -2.0174895e-05  2.3949611e-05 -3.1115938e-05\n",
      " -6.1671244e-06 -4.3101805e-05  7.0843712e-06  1.8287445e-05\n",
      "  2.0082077e-06  5.2156915e-06  6.2981571e-06 -2.8305685e-06\n",
      "  3.3278670e-06 -3.2049938e-05  2.5733149e-05  1.7888535e-06\n",
      "  2.0876039e-06  1.9984449e-05  1.7357802e-06  1.0025384e-06\n",
      "  2.8465633e-06  1.0432963e-05 -2.1507914e-05  4.4724809e-05\n",
      " -1.6160587e-06 -2.1054226e-05  2.4166549e-05  1.1661580e-05\n",
      "  1.8764225e-05 -6.3746575e-06  5.0792273e-06  1.7117245e-06\n",
      " -2.7811366e-05  5.8013207e-05 -2.2041413e-06 -1.9044923e-05\n",
      " -6.1505261e-06 -9.7901584e-06  1.1826619e-05  1.9850515e-05\n",
      "  1.3517576e-05 -2.0274540e-05 -1.0938448e-05 -1.3307168e-05\n",
      "  2.5639636e-06 -1.0650566e-05  1.2899401e-05  3.3018328e-05\n",
      "  1.7693103e-05  1.7042412e-06 -1.4068328e-05 -2.0870348e-06\n",
      "  1.7308526e-05 -1.1414578e-05 -9.0064132e-06 -7.4992686e-06\n",
      "  3.4294186e-05 -1.4294991e-05 -3.9345905e-05  5.2838441e-06\n",
      " -5.6159051e-06  4.5424375e-05 -5.5258381e-05  2.2946103e-06]\n"
     ]
    }
   ],
   "source": [
    "print(z_component_closest_point_on_track_v(dom_pos_v, track_pos, track_dir))"
   ]
  },
  {
   "cell_type": "code",
   "execution_count": 110,
   "id": "b7af03d0-423e-49e0-87ca-d449d6909baf",
   "metadata": {},
   "outputs": [],
   "source": [
    "@jax.jit\n",
    "def rho_dom_relative_to_track(dom_pos, track_pos, track_dir):\n",
    "    \"\"\"\n",
    "    clean up and verify!\n",
    "    \"\"\"\n",
    "    v1 = dom_pos - track_pos\n",
    "    closestapproach = track_pos + jnp.dot(v1, track_dir)*track_dir\n",
    "    v2 = dom_pos - closestapproach\n",
    "    zdir = jnp.cross(track_dir, jnp.cross(jnp.array([0,0,1]), track_dir))\n",
    "    positivedir = jnp.cross(track_dir, zdir)\n",
    "    ypart = v2-v2*jnp.dot(zdir, v2)\n",
    "    zpart = v2-ypart\n",
    "    z = jnp.dot(zpart, zdir)\n",
    "    y = jnp.dot(ypart, positivedir)\n",
    "    return jnp.arctan2(y,z)\n",
    "\n",
    "rho_dom_relative_to_track_v = jax.jit(jax.vmap(rho_dom_relative_to_track, (0, None, None), 0))"
   ]
  },
  {
   "cell_type": "code",
   "execution_count": 117,
   "id": "3ab501af-e6b2-49cd-9b54-725861f65cce",
   "metadata": {},
   "outputs": [
    {
     "name": "stdout",
     "output_type": "stream",
     "text": [
      "-7.275959e-16\n"
     ]
    }
   ],
   "source": [
    "print(rho_dom_relative_to_track(dom_pos, track_pos, track_dir))"
   ]
  },
  {
   "cell_type": "code",
   "execution_count": 118,
   "id": "0657602e-093f-45c7-8f0c-3d147ae27fc3",
   "metadata": {},
   "outputs": [
    {
     "name": "stdout",
     "output_type": "stream",
     "text": [
      "[ 74.58642   -68.693855    2.4342232  33.765476   35.656597  -51.508778\n",
      "  80.984665  -46.959     -78.1858     53.63857   -10.687195  -55.516094\n",
      "  39.04053     7.1179194  -9.368165  -15.61844   -49.60108   -32.80054\n",
      " -78.55552   -82.79323   -66.30072    42.41334    21.603401   36.380325\n",
      " -60.30434   -77.70556   -56.632244  -43.650112  -86.88298    49.77658\n",
      "  38.31964    17.12973   -52.95567   -48.882378   38.667793   62.803127\n",
      "  42.114002   41.20255   -89.27945   -62.668125  -13.036718   -7.5279145\n",
      "  28.309353  -27.571009   55.77942     5.755886   75.195724   89.078\n",
      "  10.856768  -87.10581   -61.512215   -1.7035322 -81.38656   -25.890308\n",
      " -62.117947  -68.075966  -29.728767   36.95242   -77.44444    34.972668\n",
      "  75.917336  -83.59593   -48.08782     3.994736   75.398506  -21.476469\n",
      "  87.66253    58.463306   68.783165  -42.63527    21.590569   66.589386\n",
      "  58.559753   20.769266  -40.55096    47.11135   -47.580128  -31.702522\n",
      "  86.65136   -33.09812   -36.9316     37.816116   27.410305    7.89829\n",
      " -79.545166  -57.508015  -78.61694    82.46982   -80.64074   -77.92855\n",
      " -34.045162  -80.83271    18.67992   -55.91103    40.184757  -63.542843\n",
      " -15.56928    54.717186   -6.205074   40.274708 ]\n"
     ]
    }
   ],
   "source": [
    "print(jnp.rad2deg(rho_dom_relative_to_track_v(dom_pos_v, track_pos, track_dir)))"
   ]
  },
  {
   "cell_type": "code",
   "execution_count": null,
   "id": "d5f2da32-4f61-434e-948c-2a974c839e8e",
   "metadata": {},
   "outputs": [],
   "source": []
  },
  {
   "cell_type": "code",
   "execution_count": null,
   "id": "223aeeef-7742-4a7e-8f1d-dba5a67b5769",
   "metadata": {},
   "outputs": [],
   "source": []
  }
 ],
 "metadata": {
  "kernelspec": {
   "display_name": "Python 3 (ipykernel)",
   "language": "python",
   "name": "python3"
  },
  "language_info": {
   "codemirror_mode": {
    "name": "ipython",
    "version": 3
   },
   "file_extension": ".py",
   "mimetype": "text/x-python",
   "name": "python",
   "nbconvert_exporter": "python",
   "pygments_lexer": "ipython3",
   "version": "3.11.5"
  }
 },
 "nbformat": 4,
 "nbformat_minor": 5
}
