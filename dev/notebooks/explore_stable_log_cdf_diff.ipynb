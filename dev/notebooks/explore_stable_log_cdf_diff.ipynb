{
 "cells": [
  {
   "cell_type": "code",
   "execution_count": 1,
   "id": "a873228a-182e-437e-8984-4c85705f4b61",
   "metadata": {
    "tags": []
   },
   "outputs": [],
   "source": [
    "import os\n",
    "os.environ['JAX_PLATFORM'] = 'cpu'\n",
    "\n",
    "import jax.numpy as jnp\n",
    "import jax\n",
    "#jax.config.update(\"jax_enable_x64\", True)\n",
    "\n",
    "\n",
    "from jax.scipy.stats.norm import pdf as norm_pdf\n",
    "from jax.scipy.stats.norm import logpdf as norm_logpdf\n",
    "from jax.scipy.special import logsumexp\n",
    "\n",
    "import matplotlib.pyplot as plt\n",
    "\n",
    "def log1m_exp(x):\n",
    "    \"\"\"\n",
    "    Numerically stable calculation\n",
    "    of the quantity log(1 - exp(x)),\n",
    "    following the algorithm of\n",
    "    Machler [1]. This is\n",
    "    the algorithm used in TensorFlow Probability,\n",
    "    PyMC, and Stan, but it is not provided\n",
    "    yet with Numpyro.\n",
    "\n",
    "    Currently returns NaN for x > 0,\n",
    "    but may be modified in the future\n",
    "    to throw a ValueError\n",
    "\n",
    "    [1] https://cran.r-project.org/web/packages/Rmpfr/vignettes/log1mexp-note.pdf\n",
    "    \"\"\"\n",
    "    # return 0. rather than -0. if\n",
    "    # we get a negative exponent that exceeds\n",
    "    # the floating point representation\n",
    "    crit = -0.6931472\n",
    "    arr_x = 1.0 * jnp.array(x)\n",
    "\n",
    "    crit_oob = jnp.log(jnp.finfo(\n",
    "        arr_x.dtype).smallest_normal)+5\n",
    "    \n",
    "    oob = arr_x < crit_oob\n",
    "    mask = arr_x > crit\n",
    "\n",
    "    more_val = jnp.log(-jnp.expm1(jnp.clip(arr_x, min=crit)))\n",
    "    less_val = jnp.log1p(-jnp.exp(jnp.clip(arr_x, max=crit)))\n",
    "\n",
    "    return jnp.where(\n",
    "        oob,\n",
    "        -jnp.exp(crit_oob),\n",
    "        jnp.where(\n",
    "            mask,\n",
    "            more_val,\n",
    "            less_val))"
   ]
  },
  {
   "cell_type": "code",
   "execution_count": 4,
   "id": "86194ba1-8528-415d-8c4e-c8e0e111b3a5",
   "metadata": {
    "tags": []
   },
   "outputs": [],
   "source": [
    "def log_cdf(x, a, b):\n",
    "    return a * log1m_exp(-b*x)\n",
    "\n",
    "def pdf(x, a, b):\n",
    "    return a*b*jnp.power(1.-jnp.exp(-b*x), a-1) * jnp.exp(-b*x)\n",
    "\n",
    "def log_cdf_diff(x1, x2, a, b):\n",
    "    # x2 > x1: F[x2] - F[x1]\n",
    "    \n",
    "    crit_oob = jnp.log(jnp.finfo(x1.dtype).smallest_normal)+5\n",
    "    \n",
    "    x = a * (log1m_exp(-b*x1) - log1m_exp(-b*x2))\n",
    "    \n",
    "\n",
    "    #x_prime = jnp.where(x > -jnp.exp(crit_oob), -0.5, x)\n",
    "    #y = log1m_exp(x_prime)\n",
    "    #z = jnp.log(-x)\n",
    "    #y = jnp.where(x == -0.5, z, y)\n",
    "    \n",
    "    #x_prime = jnp.where(x > -jnp.exp(crit_oob), -jnp.exp(crit_oob), x)\n",
    "    #return log_cdf(x2, a, b) + log1m_exp(x_prime)\n",
    "    return  log_cdf(x2, a, b) + log1m_exp(x)\n",
    "\n",
    "    #return  log_cdf(x2, a, b) + y\n",
    "\n",
    "\n",
    "#def log_cdf_diff2(x1, x2, a, b):\n",
    "#    x = a * jnp.log((1-jnp.exp(-b*x1)) / (1-jnp.exp(-b*x2)))\n",
    "#    print(x)\n",
    "#    print(log1m_exp(x))\n",
    "#    return log_cdf(x2, a, b) + log1m_exp(x)"
   ]
  },
  {
   "cell_type": "code",
   "execution_count": 8,
   "id": "2754a5a0-7da9-43f2-a8ef-8ba8d6ff730f",
   "metadata": {
    "tags": []
   },
   "outputs": [
    {
     "name": "stdout",
     "output_type": "stream",
     "text": [
      "-87.33655\n"
     ]
    }
   ],
   "source": [
    "print(jnp.log(jnp.finfo(jnp.float32).smallest_normal))"
   ]
  },
  {
   "cell_type": "code",
   "execution_count": null,
   "id": "255534ef-b5f4-402a-af00-b1bd9f843834",
   "metadata": {
    "tags": []
   },
   "outputs": [],
   "source": [
    "a = 3.\n",
    "b = 0.1\n",
    "\n",
    "xvals = jnp.linspace(0.0, 100, 1000)\n",
    "yvals = pdf(xvals, a, b)\n",
    "\n",
    "plt.plot(xvals, yvals)"
   ]
  },
  {
   "cell_type": "code",
   "execution_count": 45,
   "id": "fd4e23b7-f4ba-444e-802c-cfa40121c5a6",
   "metadata": {
    "tags": []
   },
   "outputs": [
    {
     "ename": "NameError",
     "evalue": "name 'cdf' is not defined",
     "output_type": "error",
     "traceback": [
      "\u001b[0;31m---------------------------------------------------------------------------\u001b[0m",
      "\u001b[0;31mNameError\u001b[0m                                 Traceback (most recent call last)",
      "Cell \u001b[0;32mIn[45], line 4\u001b[0m\n\u001b[1;32m      1\u001b[0m x1 \u001b[38;5;241m=\u001b[39m jnp\u001b[38;5;241m.\u001b[39marray(\u001b[38;5;241m1000.\u001b[39m)\n\u001b[1;32m      2\u001b[0m x2 \u001b[38;5;241m=\u001b[39m jnp\u001b[38;5;241m.\u001b[39marray(\u001b[38;5;241m1001.\u001b[39m)\n\u001b[0;32m----> 4\u001b[0m \u001b[38;5;28mprint\u001b[39m(\u001b[43mcdf\u001b[49m(x1,a,b)\u001b[38;5;241m-\u001b[39mcdf(x2,a,b))\n\u001b[1;32m      5\u001b[0m \u001b[38;5;28mprint\u001b[39m(jnp\u001b[38;5;241m.\u001b[39mlog(cdf(x2,a,b)\u001b[38;5;241m-\u001b[39mcdf(x1,a,b)))\n",
      "\u001b[0;31mNameError\u001b[0m: name 'cdf' is not defined"
     ]
    }
   ],
   "source": [
    "x1 = jnp.array(1000.)\n",
    "x2 = jnp.array(1001.)\n",
    "\n",
    "print(cdf(x1,a,b)-cdf(x2,a,b))\n",
    "print(jnp.log(cdf(x2,a,b)-cdf(x1,a,b)))"
   ]
  },
  {
   "cell_type": "code",
   "execution_count": 51,
   "id": "abdbe680-4bdb-44f5-ad8e-62ea28280e19",
   "metadata": {
    "tags": []
   },
   "outputs": [
    {
     "data": {
      "text/plain": [
       "Array(-101.25355617, dtype=float64)"
      ]
     },
     "execution_count": 51,
     "metadata": {},
     "output_type": "execute_result"
    }
   ],
   "source": [
    "log_cdf_diff(x1, x2, a, b)"
   ]
  },
  {
   "cell_type": "code",
   "execution_count": 60,
   "id": "fe1eff01-cf76-4fc4-9509-b839c72a01b6",
   "metadata": {
    "tags": []
   },
   "outputs": [
    {
     "data": {
      "text/plain": [
       "Array([ -1.37602544,  -0.93170427,  -1.55358075,  -2.42926362,\n",
       "        -3.38526323,  -4.36929933,  -5.36345616,  -6.36131056,\n",
       "        -7.36052178,  -8.36023167,  -9.36012496, -10.3600857 ,\n",
       "       -11.36007126, -12.36006595, -13.36006399, -14.36006328,\n",
       "       -15.36006301, -16.36006291, -17.36006288, -18.36006286,\n",
       "       -19.36006286, -20.36006286, -21.36006286, -22.36006286,\n",
       "       -23.36006286, -24.36006286, -25.36006286, -26.36006286,\n",
       "       -27.36006286, -28.36006286, -29.36006286, -30.36006286,\n",
       "       -31.36006286, -32.36006286, -33.36006286, -34.36006286,\n",
       "       -35.36006286, -36.36006286, -37.36006286, -38.36006286,\n",
       "       -39.36006286, -40.36006286, -41.36006286, -42.36006286,\n",
       "       -43.36006286, -44.36006286, -45.36006286, -46.36006286,\n",
       "       -47.36006286, -48.36006286, -49.36006286, -50.36006286,\n",
       "       -51.36006286, -52.36006286, -53.36006286, -54.36006286,\n",
       "       -55.36006286, -56.36006286, -57.36006286, -58.36006286,\n",
       "       -59.36006286, -60.36006286, -61.36006286, -62.36006286,\n",
       "       -63.36006286, -64.36006286, -65.36006286, -66.36006286,\n",
       "       -67.36006286, -68.36006286, -69.36006286, -70.36006286,\n",
       "       -71.36006286, -72.36006286, -73.36006286, -74.36006286,\n",
       "       -75.36006286, -76.36006286, -77.36006286, -78.36006286,\n",
       "       -79.36006286, -80.36006286, -81.36006286, -82.36006286,\n",
       "       -83.36006286, -84.36006286, -85.36006286, -86.36006286,\n",
       "       -87.36006286, -88.36006286, -89.36006286, -90.36006286,\n",
       "       -91.36006286, -92.36006286, -93.36006286, -94.36006286,\n",
       "       -95.36006286, -96.36006286, -97.36006286, -98.36006286],      dtype=float64)"
      ]
     },
     "execution_count": 60,
     "metadata": {},
     "output_type": "execute_result"
    }
   ],
   "source": [
    "log_cdf_diff(edges[:-1], edges[1:], a, b)"
   ]
  },
  {
   "cell_type": "code",
   "execution_count": 56,
   "id": "6f299515-3e8d-4f27-ad19-345d5659eab3",
   "metadata": {
    "tags": []
   },
   "outputs": [
    {
     "name": "stdout",
     "output_type": "stream",
     "text": [
      "-990.4916680552251\n"
     ]
    }
   ],
   "source": [
    "g = jax.grad(log_cdf_diff, argnums=3)\n",
    "print(g(x1, x2, a, b))"
   ]
  },
  {
   "cell_type": "code",
   "execution_count": 57,
   "id": "8ecdfc46-dbd5-4993-9953-2b6715f11053",
   "metadata": {
    "tags": []
   },
   "outputs": [],
   "source": [
    "gv = jax.vmap(g, (0, 0, None, None), 0)"
   ]
  },
  {
   "cell_type": "code",
   "execution_count": 64,
   "id": "e78fdcc7-7c6c-48c1-8fff-6cff022f046b",
   "metadata": {
    "tags": []
   },
   "outputs": [],
   "source": [
    "edges = jnp.linspace(1.e-15, 1000, 101)"
   ]
  },
  {
   "cell_type": "code",
   "execution_count": 65,
   "id": "0dceb31c-a213-44ff-8661-a9cd782789a0",
   "metadata": {
    "tags": []
   },
   "outputs": [
    {
     "name": "stdout",
     "output_type": "stream",
     "text": [
      "[  17.45930121    4.21722183   -9.57588662  -21.87999803  -33.09793787\n",
      "  -43.69249773  -53.96733739  -64.08951116  -74.14228089  -84.16458482\n",
      "  -94.17385557 -104.17765841 -114.17920178 -124.17982267 -134.18007063\n",
      " -144.18016904 -154.18020789 -164.18022315 -174.18022913 -184.18023145\n",
      " -194.18023236 -204.18023271 -214.18023285 -224.1802329  -234.18023292\n",
      " -244.18023293 -254.18023293 -264.18023293 -274.18023293 -284.18023293\n",
      " -294.18023293 -304.18023293 -314.18023293 -324.18023293 -334.18023293\n",
      " -344.18023293 -354.18023293 -364.18023293 -374.18023293 -384.18023293\n",
      " -394.18023293 -404.18023293 -414.18023293 -424.18023293 -434.18023293\n",
      " -444.18023293 -454.18023293 -464.18023293 -474.18023293 -484.18023293\n",
      " -494.18023293 -504.18023293 -514.18023293 -524.18023293 -534.18023293\n",
      " -544.18023293 -554.18023293 -564.18023293 -574.18023293 -584.18023293\n",
      " -594.18023293 -604.18023293 -614.18023293 -624.18023293 -634.18023293\n",
      " -644.18023293 -654.18023293 -664.18023293 -674.18023293 -684.18023293\n",
      " -694.18023293 -704.18023293 -714.18023293 -724.18023293 -734.18023293\n",
      " -744.18023293 -754.18023293 -764.18023293 -774.18023293 -784.18023293\n",
      " -794.18023293 -804.18023293 -814.18023293 -824.18023293 -834.18023293\n",
      " -844.18023293 -854.18023293 -864.18023293 -874.18023293 -884.18023293\n",
      " -894.18023293 -904.18023293 -914.18023293 -924.18023293 -934.18023293\n",
      " -944.18023293 -954.18023293 -964.18023293 -974.18023293 -984.18023293]\n"
     ]
    }
   ],
   "source": [
    "print(gv(edges[:-1], edges[1:], a, b))"
   ]
  },
  {
   "cell_type": "code",
   "execution_count": 61,
   "id": "e3483c70-248c-44a7-aba1-a924b0070e89",
   "metadata": {
    "tags": []
   },
   "outputs": [
    {
     "name": "stdout",
     "output_type": "stream",
     "text": [
      "[   0.   10.   20.   30.   40.   50.   60.   70.   80.   90.  100.  110.\n",
      "  120.  130.  140.  150.  160.  170.  180.  190.  200.  210.  220.  230.\n",
      "  240.  250.  260.  270.  280.  290.  300.  310.  320.  330.  340.  350.\n",
      "  360.  370.  380.  390.  400.  410.  420.  430.  440.  450.  460.  470.\n",
      "  480.  490.  500.  510.  520.  530.  540.  550.  560.  570.  580.  590.\n",
      "  600.  610.  620.  630.  640.  650.  660.  670.  680.  690.  700.  710.\n",
      "  720.  730.  740.  750.  760.  770.  780.  790.  800.  810.  820.  830.\n",
      "  840.  850.  860.  870.  880.  890.  900.  910.  920.  930.  940.  950.\n",
      "  960.  970.  980.  990. 1000.]\n"
     ]
    }
   ],
   "source": [
    "print(edges)"
   ]
  },
  {
   "cell_type": "code",
   "execution_count": null,
   "id": "13d8f809-7ec2-46e8-92bd-562d2b156eed",
   "metadata": {
    "tags": []
   },
   "outputs": [],
   "source": [
    "crit_oob = jnp.log(jnp.finfo(jnp.float32).smallest_normal)+5\n",
    "print(crit_oob)"
   ]
  },
  {
   "cell_type": "code",
   "execution_count": null,
   "id": "844136b4-db3f-44d7-8eef-7356e89d1c2f",
   "metadata": {
    "tags": []
   },
   "outputs": [],
   "source": [
    "log_cdf(x2, a, b)"
   ]
  },
  {
   "cell_type": "code",
   "execution_count": null,
   "id": "e09f5937-7eb9-4194-ab46-8f220c3c9823",
   "metadata": {
    "tags": []
   },
   "outputs": [],
   "source": [
    "log_cdf(x1, a, b)"
   ]
  },
  {
   "cell_type": "code",
   "execution_count": null,
   "id": "ddbb7e41-7d9b-4a08-a20e-a13899ec69ae",
   "metadata": {
    "tags": []
   },
   "outputs": [],
   "source": [
    "x = a * (log1m_exp(-b*x1) - log1m_exp(-b*x2))"
   ]
  },
  {
   "cell_type": "code",
   "execution_count": null,
   "id": "3124b728-35e5-4f07-a86b-75fc205d2e27",
   "metadata": {
    "tags": []
   },
   "outputs": [],
   "source": [
    "print(x)"
   ]
  },
  {
   "cell_type": "code",
   "execution_count": null,
   "id": "7e3cd63b-af5a-42aa-ae63-e4956ed41de9",
   "metadata": {
    "tags": []
   },
   "outputs": [],
   "source": [
    "log1m_exp(x)"
   ]
  },
  {
   "cell_type": "code",
   "execution_count": null,
   "id": "a4259890-2ef4-475b-948b-b6e21c9f8a6d",
   "metadata": {
    "tags": []
   },
   "outputs": [],
   "source": [
    "log1m_exp(crit_oob)"
   ]
  },
  {
   "cell_type": "code",
   "execution_count": null,
   "id": "42afa5e0-cb4a-4f22-9c8a-b58263a3727a",
   "metadata": {
    "tags": []
   },
   "outputs": [],
   "source": [
    "jnp.log(1-jnp.exp(-100))"
   ]
  },
  {
   "cell_type": "code",
   "execution_count": null,
   "id": "f5ae4c7e-6c65-48da-a13b-6c1b485582a5",
   "metadata": {
    "tags": []
   },
   "outputs": [],
   "source": [
    "jnp.log(0.9999)"
   ]
  },
  {
   "cell_type": "code",
   "execution_count": null,
   "id": "21718856-8550-4a9b-83aa-897ffb89b2c2",
   "metadata": {
    "tags": []
   },
   "outputs": [],
   "source": [
    "log1m_exp(-300)"
   ]
  },
  {
   "cell_type": "code",
   "execution_count": null,
   "id": "f6f7f587-a742-4b09-9093-7cc6bd13e033",
   "metadata": {
    "tags": []
   },
   "outputs": [],
   "source": [
    "crit_oob"
   ]
  },
  {
   "cell_type": "code",
   "execution_count": null,
   "id": "668a731d-73de-4d16-b7a8-79bf311691f5",
   "metadata": {
    "tags": []
   },
   "outputs": [],
   "source": [
    "jnp.log(jnp.exp(crit_oob))"
   ]
  },
  {
   "cell_type": "code",
   "execution_count": null,
   "id": "96e2a146-5319-4392-ab10-e49215791e64",
   "metadata": {
    "tags": []
   },
   "outputs": [],
   "source": [
    "jnp.exp(crit_oob)"
   ]
  },
  {
   "cell_type": "code",
   "execution_count": null,
   "id": "92cd8c69-71d2-43d8-9cdc-d71f5e8cb3d5",
   "metadata": {
    "tags": []
   },
   "outputs": [],
   "source": [
    "crit_oob"
   ]
  },
  {
   "cell_type": "code",
   "execution_count": null,
   "id": "2a411166-0ed7-461b-a702-f89ecf54a3cb",
   "metadata": {
    "tags": []
   },
   "outputs": [],
   "source": [
    "-jnp.exp(crit_oob)"
   ]
  },
  {
   "cell_type": "code",
   "execution_count": 5,
   "id": "a4abeac1-0943-4a15-bf63-82057ebda4a6",
   "metadata": {
    "tags": []
   },
   "outputs": [
    {
     "data": {
      "text/plain": [
       "Array(-4.1399378e-08, dtype=float64, weak_type=True)"
      ]
     },
     "execution_count": 5,
     "metadata": {},
     "output_type": "execute_result"
    }
   ],
   "source": [
    "jnp.log(1-jnp.exp(-17))"
   ]
  },
  {
   "cell_type": "code",
   "execution_count": 6,
   "id": "171cb8a3-9af4-4ec7-a76e-ced60d15057f",
   "metadata": {
    "tags": []
   },
   "outputs": [
    {
     "data": {
      "text/plain": [
       "Array(-4.13993772e-08, dtype=float64, weak_type=True)"
      ]
     },
     "execution_count": 6,
     "metadata": {},
     "output_type": "execute_result"
    }
   ],
   "source": [
    "-jnp.exp(-17)"
   ]
  },
  {
   "cell_type": "code",
   "execution_count": 7,
   "id": "e862400a-daac-4388-a56d-f0b315d4d309",
   "metadata": {
    "tags": []
   },
   "outputs": [
    {
     "ename": "NameError",
     "evalue": "name 'crit_oob' is not defined",
     "output_type": "error",
     "traceback": [
      "\u001b[0;31m---------------------------------------------------------------------------\u001b[0m",
      "\u001b[0;31mNameError\u001b[0m                                 Traceback (most recent call last)",
      "Cell \u001b[0;32mIn[7], line 1\u001b[0m\n\u001b[0;32m----> 1\u001b[0m \u001b[38;5;241m-\u001b[39mjnp\u001b[38;5;241m.\u001b[39mexp(\u001b[43mcrit_oob\u001b[49m)\n",
      "\u001b[0;31mNameError\u001b[0m: name 'crit_oob' is not defined"
     ]
    }
   ],
   "source": [
    "-jnp.exp(crit_oob)"
   ]
  },
  {
   "cell_type": "code",
   "execution_count": 8,
   "id": "177ce6f3-4540-4ab6-95ef-063bc3c66a85",
   "metadata": {
    "tags": []
   },
   "outputs": [
    {
     "ename": "NameError",
     "evalue": "name 'crit_oob' is not defined",
     "output_type": "error",
     "traceback": [
      "\u001b[0;31m---------------------------------------------------------------------------\u001b[0m",
      "\u001b[0;31mNameError\u001b[0m                                 Traceback (most recent call last)",
      "Cell \u001b[0;32mIn[8], line 1\u001b[0m\n\u001b[0;32m----> 1\u001b[0m jnp\u001b[38;5;241m.\u001b[39mexp(\u001b[38;5;241m-\u001b[39mjnp\u001b[38;5;241m.\u001b[39mexp(\u001b[43mcrit_oob\u001b[49m))\n",
      "\u001b[0;31mNameError\u001b[0m: name 'crit_oob' is not defined"
     ]
    }
   ],
   "source": [
    "jnp.exp(-jnp.exp(crit_oob))"
   ]
  },
  {
   "cell_type": "code",
   "execution_count": 9,
   "id": "707e2cfa-0b3c-433a-83f7-80e5a45cb6e7",
   "metadata": {
    "tags": []
   },
   "outputs": [
    {
     "ename": "NameError",
     "evalue": "name 'crit_oob' is not defined",
     "output_type": "error",
     "traceback": [
      "\u001b[0;31m---------------------------------------------------------------------------\u001b[0m",
      "\u001b[0;31mNameError\u001b[0m                                 Traceback (most recent call last)",
      "Cell \u001b[0;32mIn[9], line 1\u001b[0m\n\u001b[0;32m----> 1\u001b[0m \u001b[38;5;241m-\u001b[39mjnp\u001b[38;5;241m.\u001b[39mexp(\u001b[43mcrit_oob\u001b[49m)\n",
      "\u001b[0;31mNameError\u001b[0m: name 'crit_oob' is not defined"
     ]
    }
   ],
   "source": [
    "-jnp.exp(crit_oob)"
   ]
  },
  {
   "cell_type": "code",
   "execution_count": 10,
   "id": "c6c05d5c-c2b8-4adc-892c-871c361d8481",
   "metadata": {
    "tags": []
   },
   "outputs": [],
   "source": [
    "from jax._src.typing import Array, ArrayLike\n",
    "from jax._src.scipy.special import gammaln, xlogy\n",
    "def logpmf(x: ArrayLike, n: ArrayLike, p: ArrayLike) -> Array:\n",
    "  r\"\"\"Multinomial log probability mass function.\n",
    "\n",
    "  JAX implementation of :obj:`scipy.stats.multinomial` ``logpdf``.\n",
    "\n",
    "  The multinomial probability distribution is given by\n",
    "\n",
    "  .. math::\n",
    "\n",
    "     f(x, n, p) = n! \\prod_{i=1}^k \\frac{p_i^{x_i}}{x_i!}\n",
    "\n",
    "  with :math:`n = \\sum_i x_i`.\n",
    "\n",
    "  Args:\n",
    "    x: arraylike, value at which to evaluate the PMF\n",
    "    n: arraylike, distribution shape parameter\n",
    "    p: arraylike, distribution shape parameter\n",
    "\n",
    "  Returns:\n",
    "    array of logpmf values.\n",
    "\n",
    "  See Also:\n",
    "    :func:`jax.scipy.stats.multinomial.pmf`\n",
    "  \"\"\"\n",
    "  logprobs = gammaln(n + 1) + jnp.sum(xlogy(x, p) - gammaln(x + 1), axis=-1)\n",
    "  return logprobs"
   ]
  },
  {
   "cell_type": "code",
   "execution_count": 11,
   "id": "a2cff56a-9f36-4e9f-83ac-39d6b4e6b2bf",
   "metadata": {
    "tags": []
   },
   "outputs": [],
   "source": [
    "def logpmf2(x: ArrayLike, n: ArrayLike, logp: ArrayLike) -> Array:\n",
    "  r\"\"\"Multinomial log probability mass function.\n",
    "\n",
    "  JAX implementation of :obj:`scipy.stats.multinomial` ``logpdf``.\n",
    "\n",
    "  The multinomial probability distribution is given by\n",
    "\n",
    "  .. math::\n",
    "\n",
    "     f(x, n, p) = n! \\prod_{i=1}^k \\frac{p_i^{x_i}}{x_i!}\n",
    "\n",
    "  with :math:`n = \\sum_i x_i`.\n",
    "\n",
    "  Args:\n",
    "    x: arraylike, value at which to evaluate the PMF\n",
    "    n: arraylike, distribution shape parameter\n",
    "    p: arraylike, distribution shape parameter\n",
    "\n",
    "  Returns:\n",
    "    array of logpmf values.\n",
    "\n",
    "  See Also:\n",
    "    :func:`jax.scipy.stats.multinomial.pmf`\n",
    "  \"\"\"\n",
    "  logprobs = gammaln(n + 1) + jnp.sum(x*logp - gammaln(x + 1), axis=-1)\n",
    "  return logprobs"
   ]
  },
  {
   "cell_type": "code",
   "execution_count": 12,
   "id": "320b79b4-b95d-4d0b-8d61-8633c6656316",
   "metadata": {
    "tags": []
   },
   "outputs": [],
   "source": [
    "edges = jnp.linspace(0, 1000, 101)"
   ]
  },
  {
   "cell_type": "code",
   "execution_count": 13,
   "id": "41181592-50b6-4a23-a1e7-797647d0c7c8",
   "metadata": {
    "tags": []
   },
   "outputs": [],
   "source": [
    "log_probs = log_cdf_diff(edges[:-1], edges[1:], a, b)"
   ]
  },
  {
   "cell_type": "code",
   "execution_count": 14,
   "id": "580106fa-645a-41c1-8e1e-53e1d9030e12",
   "metadata": {
    "tags": []
   },
   "outputs": [],
   "source": [
    "probs = jnp.exp(log_probs)"
   ]
  },
  {
   "cell_type": "code",
   "execution_count": 15,
   "id": "f0c3fe12-136f-483c-be2d-2a53d12f1752",
   "metadata": {
    "tags": []
   },
   "outputs": [
    {
     "name": "stdout",
     "output_type": "stream",
     "text": [
      "[2.52580458e-01 3.93881857e-01 2.11489327e-01 8.81016854e-02\n",
      " 3.38687259e-02 1.26601080e-02 4.68468705e-03 1.72710175e-03\n",
      " 6.35866592e-04 2.33990118e-04 8.60893404e-05 3.16717417e-05\n",
      " 1.16515509e-05 4.28638881e-06 1.57687740e-06 5.80101195e-07\n",
      " 2.13407360e-07 7.85081879e-08 2.88815493e-08 1.06249284e-08\n",
      " 3.90869273e-09 1.43792770e-09 5.28984039e-10 1.94602353e-10\n",
      " 7.15902047e-11 2.63365645e-11 9.68868063e-12 3.56426642e-12\n",
      " 1.31122034e-12 4.82371005e-13 1.77454376e-13 6.52818166e-14\n",
      " 2.40158382e-14 8.83493314e-15 3.25019027e-15 1.19567818e-15\n",
      " 4.39865420e-16 1.61817445e-16 5.95293112e-17 2.18996098e-17\n",
      " 8.05641620e-18 2.96378989e-18 1.09031737e-18 4.01105344e-19\n",
      " 1.47558410e-19 5.42837053e-20 1.99698592e-20 7.34650064e-21\n",
      " 2.70262655e-21 9.94240745e-22 3.65760730e-22 1.34555853e-22\n",
      " 4.95003319e-23 1.82101544e-23 6.69914144e-24 2.46447641e-24\n",
      " 9.06630204e-25 3.33530613e-25 1.22699056e-25 4.51384600e-26\n",
      " 1.66055114e-26 6.10882627e-27 2.24731159e-27 8.26739733e-28\n",
      " 3.04140551e-28 1.11887056e-28 4.11609476e-29 1.51422664e-29\n",
      " 5.57052850e-30 2.04928291e-30 7.53889053e-31 2.77340283e-31\n",
      " 1.02027788e-31 3.75339258e-32 1.38079596e-32 5.07966448e-33\n",
      " 1.86870413e-33 6.87457831e-34 2.52901603e-34 9.30373003e-35\n",
      " 3.42265100e-35 1.25912294e-35 4.63205443e-36 1.70403760e-36\n",
      " 6.26880398e-37 2.30616411e-37 8.48390363e-38 3.12105372e-38\n",
      " 1.14817150e-38 4.22388690e-39 1.55388115e-39 5.71640930e-40\n",
      " 2.10294946e-40 7.73631871e-41 2.84603261e-41 1.04699688e-41\n",
      " 3.85168629e-42 1.41695620e-42 5.21269055e-43 1.91764169e-43]\n"
     ]
    }
   ],
   "source": [
    "print(probs)"
   ]
  },
  {
   "cell_type": "code",
   "execution_count": 16,
   "id": "555348d6-bd23-49bb-8a49-8059d216b58e",
   "metadata": {
    "tags": []
   },
   "outputs": [
    {
     "data": {
      "text/plain": [
       "Array([ -1.37602544,  -0.93170427,  -1.55358075,  -2.42926362,\n",
       "        -3.38526323,  -4.36929933,  -5.36345616,  -6.36131056,\n",
       "        -7.36052178,  -8.36023167,  -9.36012496, -10.3600857 ,\n",
       "       -11.36007126, -12.36006595, -13.36006399, -14.36006328,\n",
       "       -15.36006301, -16.36006291, -17.36006288, -18.36006286,\n",
       "       -19.36006286, -20.36006286, -21.36006286, -22.36006286,\n",
       "       -23.36006286, -24.36006286, -25.36006286, -26.36006286,\n",
       "       -27.36006286, -28.36006286, -29.36006286, -30.36006286,\n",
       "       -31.36006286, -32.36006286, -33.36006286, -34.36006286,\n",
       "       -35.36006286, -36.36006286, -37.36006286, -38.36006286,\n",
       "       -39.36006286, -40.36006286, -41.36006286, -42.36006286,\n",
       "       -43.36006286, -44.36006286, -45.36006286, -46.36006286,\n",
       "       -47.36006286, -48.36006286, -49.36006286, -50.36006286,\n",
       "       -51.36006286, -52.36006286, -53.36006286, -54.36006286,\n",
       "       -55.36006286, -56.36006286, -57.36006286, -58.36006286,\n",
       "       -59.36006286, -60.36006286, -61.36006286, -62.36006286,\n",
       "       -63.36006286, -64.36006286, -65.36006286, -66.36006286,\n",
       "       -67.36006286, -68.36006286, -69.36006286, -70.36006286,\n",
       "       -71.36006286, -72.36006286, -73.36006286, -74.36006286,\n",
       "       -75.36006286, -76.36006286, -77.36006286, -78.36006286,\n",
       "       -79.36006286, -80.36006286, -81.36006286, -82.36006286,\n",
       "       -83.36006286, -84.36006286, -85.36006286, -86.36006286,\n",
       "       -87.36006286, -88.36006286, -89.36006286, -90.36006286,\n",
       "       -91.36006286, -92.36006286, -93.36006286, -94.36006286,\n",
       "       -95.36006286, -96.36006286, -97.36006286, -98.36006286],      dtype=float64)"
      ]
     },
     "execution_count": 16,
     "metadata": {},
     "output_type": "execute_result"
    }
   ],
   "source": [
    "log_probs"
   ]
  },
  {
   "cell_type": "code",
   "execution_count": 17,
   "id": "bf45b9c2-e421-48bc-bf90-be1587b22794",
   "metadata": {
    "tags": []
   },
   "outputs": [
    {
     "name": "stdout",
     "output_type": "stream",
     "text": [
      "-59532.712870354604\n"
     ]
    }
   ],
   "source": [
    "import numpy as np\n",
    "vals = np.random.randint(0, 32, len(edges)-1)\n",
    "print(logpmf(jnp.array(vals), jnp.sum(vals), probs))"
   ]
  },
  {
   "cell_type": "code",
   "execution_count": 18,
   "id": "31e0da96-b9db-4e0b-980b-b2b6e09814ae",
   "metadata": {
    "tags": []
   },
   "outputs": [
    {
     "name": "stdout",
     "output_type": "stream",
     "text": [
      "-59532.712870354604\n"
     ]
    }
   ],
   "source": [
    "print(logpmf2(jnp.array(vals), jnp.sum(vals), log_probs))"
   ]
  },
  {
   "cell_type": "code",
   "execution_count": 19,
   "id": "9387d4fd-2720-4695-8642-461a6c15fc21",
   "metadata": {
    "tags": []
   },
   "outputs": [
    {
     "ename": "NameError",
     "evalue": "name 'cdf' is not defined",
     "output_type": "error",
     "traceback": [
      "\u001b[0;31m---------------------------------------------------------------------------\u001b[0m",
      "\u001b[0;31mNameError\u001b[0m                                 Traceback (most recent call last)",
      "Cell \u001b[0;32mIn[19], line 1\u001b[0m\n\u001b[0;32m----> 1\u001b[0m delta \u001b[38;5;241m=\u001b[39m \u001b[43mcdf\u001b[49m(edges[\u001b[38;5;241m1\u001b[39m:], a, b) \u001b[38;5;241m-\u001b[39m cdf(edges[:\u001b[38;5;241m-\u001b[39m\u001b[38;5;241m1\u001b[39m], a, b)\n\u001b[1;32m      2\u001b[0m \u001b[38;5;28mprint\u001b[39m(delta)\n",
      "\u001b[0;31mNameError\u001b[0m: name 'cdf' is not defined"
     ]
    }
   ],
   "source": [
    "delta = cdf(edges[1:], a, b) - cdf(edges[:-1], a, b)\n",
    "print(delta)"
   ]
  },
  {
   "cell_type": "code",
   "execution_count": null,
   "id": "bc8f4c42-e2a3-4d70-bcb5-5a320d384745",
   "metadata": {},
   "outputs": [],
   "source": [
    "g = jax.grad(logpmf2, argnums=2)"
   ]
  },
  {
   "cell_type": "code",
   "execution_count": null,
   "id": "6c62c81a-b570-4495-9bbc-18de2b8fabdf",
   "metadata": {
    "tags": []
   },
   "outputs": [],
   "source": [
    "vals = jnp.array(vals, dtype=jnp.float32)"
   ]
  },
  {
   "cell_type": "code",
   "execution_count": 20,
   "id": "c14ab58a-87be-4d1b-91aa-eced879b0a25",
   "metadata": {
    "tags": []
   },
   "outputs": [
    {
     "ename": "NameError",
     "evalue": "name 'g' is not defined",
     "output_type": "error",
     "traceback": [
      "\u001b[0;31m---------------------------------------------------------------------------\u001b[0m",
      "\u001b[0;31mNameError\u001b[0m                                 Traceback (most recent call last)",
      "Cell \u001b[0;32mIn[20], line 1\u001b[0m\n\u001b[0;32m----> 1\u001b[0m \u001b[43mg\u001b[49m(vals, jnp\u001b[38;5;241m.\u001b[39msum(vals), log_probs)\n",
      "\u001b[0;31mNameError\u001b[0m: name 'g' is not defined"
     ]
    }
   ],
   "source": [
    "g(vals, jnp.sum(vals), log_probs)"
   ]
  },
  {
   "cell_type": "code",
   "execution_count": 21,
   "id": "b13da2c8-6791-4f02-b69a-7e86f3d64490",
   "metadata": {
    "tags": []
   },
   "outputs": [
    {
     "data": {
      "text/plain": [
       "array([ 9,  5,  7, 31,  0, 23,  8,  0, 30,  9,  9,  3, 28,  7, 19, 25,  4,\n",
       "       15, 30, 19, 24, 20, 25, 10,  9,  4, 29, 19, 22, 21,  8, 22, 12, 21,\n",
       "       11, 17, 10, 21, 25, 23,  9,  2, 15, 20, 10,  8,  6, 17,  5, 26, 26,\n",
       "       25, 26, 18, 29,  2, 19,  3,  0, 11, 30, 30, 13, 25,  0, 16, 24, 16,\n",
       "        1,  9,  5, 10, 31,  3,  4,  5, 25, 23,  3,  4, 17, 13, 10,  5, 28,\n",
       "        5, 10, 26, 12, 26,  6,  6,  3,  4,  0, 14, 10,  2, 15, 18])"
      ]
     },
     "execution_count": 21,
     "metadata": {},
     "output_type": "execute_result"
    }
   ],
   "source": [
    "vals"
   ]
  },
  {
   "cell_type": "code",
   "execution_count": null,
   "id": "f0ccc9b6-dae3-4b28-aa36-0e1383900d92",
   "metadata": {},
   "outputs": [],
   "source": []
  },
  {
   "cell_type": "code",
   "execution_count": null,
   "id": "57e45e5c-dedc-4d78-a6a0-1fc5e99eb1b1",
   "metadata": {},
   "outputs": [],
   "source": []
  },
  {
   "cell_type": "code",
   "execution_count": 22,
   "id": "475cfb92-a18d-4a73-a13d-467a9cbd1b6d",
   "metadata": {
    "tags": []
   },
   "outputs": [],
   "source": [
    "def logpmf3(x: ArrayLike, n: ArrayLike, a, b) -> Array:\n",
    "  r\"\"\"Multinomial log probability mass function.\n",
    "\n",
    "  JAX implementation of :obj:`scipy.stats.multinomial` ``logpdf``.\n",
    "\n",
    "  The multinomial probability distribution is given by\n",
    "\n",
    "  .. math::\n",
    "\n",
    "     f(x, n, p) = n! \\prod_{i=1}^k \\frac{p_i^{x_i}}{x_i!}\n",
    "\n",
    "  with :math:`n = \\sum_i x_i`.\n",
    "\n",
    "  Args:\n",
    "    x: arraylike, value at which to evaluate the PMF\n",
    "    n: arraylike, distribution shape parameter\n",
    "    p: arraylike, distribution shape parameter\n",
    "\n",
    "  Returns:\n",
    "    array of logpmf values.\n",
    "\n",
    "  See Also:\n",
    "    :func:`jax.scipy.stats.multinomial.pmf`\n",
    "  \"\"\"\n",
    "  logp = log_cdf_diff(edges[:-1], edges[1:], a, b)\n",
    "  logprobs = gammaln(n + 1) + jnp.sum(x*logp - gammaln(x + 1), axis=-1)\n",
    "  return logprobs"
   ]
  },
  {
   "cell_type": "code",
   "execution_count": 23,
   "id": "79aafb45-29f0-4bd9-8a3a-7d762e22f3e8",
   "metadata": {
    "tags": []
   },
   "outputs": [
    {
     "name": "stdout",
     "output_type": "stream",
     "text": [
      "-59532.712870354604\n"
     ]
    }
   ],
   "source": [
    "print(logpmf3(vals, jnp.sum(vals), a, b))"
   ]
  },
  {
   "cell_type": "code",
   "execution_count": 24,
   "id": "8589edf3-3b7a-4b4d-b20d-4d7f17f1a3e4",
   "metadata": {
    "tags": []
   },
   "outputs": [
    {
     "name": "stdout",
     "output_type": "stream",
     "text": [
      "[ 9.  5.  7. 31.  0. 23.  8.  0. 30.  9.  9.  3. 28.  7. 19. 25.  4. 15.\n",
      " 30. 19. 24. 20. 25. 10.  9.  4. 29. 19. 22. 21.  8. 22. 12. 21. 11. 17.\n",
      " 10. 21. 25. 23.  9.  2. 15. 20. 10.  8.  6. 17.  5. 26. 26. 25. 26. 18.\n",
      " 29.  2. 19.  3.  0. 11. 30. 30. 13. 25.  0. 16. 24. 16.  1.  9.  5. 10.\n",
      " 31.  3.  4.  5. 25. 23.  3.  4. 17. 13. 10.  5. 28.  5. 10. 26. 12. 26.\n",
      "  6.  6.  3.  4.  0. 14. 10.  2. 15. 18.]\n"
     ]
    }
   ],
   "source": [
    "vals = jnp.array(vals, dtype=jnp.float32)\n",
    "print(vals)"
   ]
  },
  {
   "cell_type": "code",
   "execution_count": 25,
   "id": "cf0052c3-3f71-4f03-9d98-6f10d7ee8a03",
   "metadata": {
    "tags": []
   },
   "outputs": [
    {
     "name": "stdout",
     "output_type": "stream",
     "text": [
      "-59532.71282160684\n"
     ]
    }
   ],
   "source": [
    "print(logpmf3(vals, jnp.sum(vals), a, b))"
   ]
  },
  {
   "cell_type": "code",
   "execution_count": 29,
   "id": "de5229ad-399f-4aad-9d4c-b2bc8d209d19",
   "metadata": {
    "tags": []
   },
   "outputs": [],
   "source": [
    "g = jax.grad(logpmf3, argnums=2)"
   ]
  },
  {
   "cell_type": "code",
   "execution_count": 30,
   "id": "67fcd290-a016-4931-8da4-b03e29b8de0e",
   "metadata": {
    "tags": []
   },
   "outputs": [
    {
     "data": {
      "text/plain": [
       "Array(nan, dtype=float64, weak_type=True)"
      ]
     },
     "execution_count": 30,
     "metadata": {},
     "output_type": "execute_result"
    }
   ],
   "source": [
    "g(vals, jnp.sum(vals), a, b)"
   ]
  },
  {
   "cell_type": "code",
   "execution_count": 28,
   "id": "f938d9e4-72ff-47cb-ace8-37e0ce173b84",
   "metadata": {
    "tags": []
   },
   "outputs": [
    {
     "data": {
      "text/plain": [
       "3.0"
      ]
     },
     "execution_count": 28,
     "metadata": {},
     "output_type": "execute_result"
    }
   ],
   "source": [
    "a"
   ]
  },
  {
   "cell_type": "code",
   "execution_count": null,
   "id": "4196a9b5-9e8b-4cbb-ab0a-a00822ced609",
   "metadata": {},
   "outputs": [],
   "source": []
  },
  {
   "cell_type": "code",
   "execution_count": null,
   "id": "bdfe3ed7-c1b9-40cf-8cef-6269ad38d68a",
   "metadata": {},
   "outputs": [],
   "source": []
  },
  {
   "cell_type": "code",
   "execution_count": null,
   "id": "d072f844-a144-4bc6-9267-125bf7782fac",
   "metadata": {},
   "outputs": [],
   "source": []
  },
  {
   "cell_type": "code",
   "execution_count": null,
   "id": "54d86cad-c44a-4ff0-94f2-2562732aadb4",
   "metadata": {},
   "outputs": [],
   "source": []
  },
  {
   "cell_type": "code",
   "execution_count": null,
   "id": "09a0b8fd-8377-4e38-9a73-64292e5531a8",
   "metadata": {},
   "outputs": [],
   "source": []
  },
  {
   "cell_type": "code",
   "execution_count": null,
   "id": "1cced682-5385-4917-a298-6bb0d22713e9",
   "metadata": {},
   "outputs": [],
   "source": []
  }
 ],
 "metadata": {
  "kernelspec": {
   "display_name": "Python 3 (ipykernel)",
   "language": "python",
   "name": "python3"
  },
  "language_info": {
   "codemirror_mode": {
    "name": "ipython",
    "version": 3
   },
   "file_extension": ".py",
   "mimetype": "text/x-python",
   "name": "python",
   "nbconvert_exporter": "python",
   "pygments_lexer": "ipython3",
   "version": "3.11.5"
  }
 },
 "nbformat": 4,
 "nbformat_minor": 5
}
