{
 "cells": [
  {
   "cell_type": "code",
   "execution_count": 1,
   "id": "3ffa63cf-c514-48f0-8c66-1dce3e11b3cd",
   "metadata": {},
   "outputs": [],
   "source": [
    "import jax.numpy as jnp\n",
    "import jax\n",
    "jax.config.update(\"jax_enable_x64\", True)\n",
    "\n",
    "import numpy as np\n",
    "import scipy\n",
    "import matplotlib.pyplot as plt\n",
    "\n",
    "import sys, os"
   ]
  },
  {
   "cell_type": "code",
   "execution_count": 2,
   "id": "10ca0297-60de-4c07-8c31-5144740a0e6d",
   "metadata": {},
   "outputs": [],
   "source": [
    "sys.path.insert(0, \"/home/storage/hans/jax_reco_new\")\n",
    "from lib.cgamma import c_multi_gamma_sf, c_multi_gamma_sf_v, c_multi_gamma_prob, c_multi_gamma_prob_v \n",
    "from lib.plotting import adjust_plot_1d\n",
    "from lib.simdata_i3 import I3SimHandler\n",
    "from lib.geo import center_track_pos_and_time_based_on_data\n",
    "from lib.network import get_network_eval_v_fn\n",
    "from lib.experimental_methods import remove_early_pulses\n",
    "from likelihood_spe import get_neg_c_triple_gamma_llh\n",
    "from dom_track_eval import get_eval_network_doms_and_track_altrho as get_eval_network_doms_and_track"
   ]
  },
  {
   "cell_type": "code",
   "execution_count": 3,
   "id": "83dca6d1-3964-4915-a41a-b76ff627c26f",
   "metadata": {},
   "outputs": [],
   "source": [
    "from lib.geo import cherenkov_cylinder_coordinates_w_rho_v\n",
    "from lib.geo import get_xyz_from_zenith_azimuth"
   ]
  },
  {
   "cell_type": "code",
   "execution_count": 4,
   "id": "1f29c593-dc14-41b6-82d7-c4caf516935f",
   "metadata": {},
   "outputs": [],
   "source": [
    "dtype = jnp.float32\n",
    "event_index = 1\n",
    "\n",
    "# Get network and eval logic.\n",
    "eval_network_v = get_network_eval_v_fn(bpath='/home/storage/hans/jax_reco/data/network', dtype=dtype)\n",
    "eval_network_doms_and_track = get_eval_network_doms_and_track(eval_network_v, dtype=dtype)"
   ]
  },
  {
   "cell_type": "code",
   "execution_count": 5,
   "id": "df5146f5-cde9-45e3-b6d9-cbd847dc1ff3",
   "metadata": {},
   "outputs": [
    {
     "name": "stdout",
     "output_type": "stream",
     "text": [
      "muon energy: 2.0 TeV\n",
      "n_doms 97\n"
     ]
    }
   ],
   "source": [
    "# Get an IceCube event.\n",
    "bp = '/home/storage2/hans/i3files/21217'\n",
    "sim_handler = I3SimHandler(os.path.join(bp, 'meta_ds_21217_from_35000_to_53530.ftr'),\n",
    "                              os.path.join(bp, 'pulses_ds_21217_from_35000_to_53530.ftr'),\n",
    "                              '/home/storage/hans/jax_reco/data/icecube/detector_geometry.csv')\n",
    "\n",
    "meta, pulses = sim_handler.get_event_data(event_index)\n",
    "print(f\"muon energy: {meta['muon_energy_at_detector']/1.e3:.1f} TeV\")\n",
    "\n",
    "# Get dom locations, first hit times, and total charges (for each dom).\n",
    "event_data = sim_handler.get_per_dom_summary_from_sim_data(meta, pulses)\n",
    "\n",
    "print(\"n_doms\", len(event_data))"
   ]
  },
  {
   "cell_type": "code",
   "execution_count": 6,
   "id": "adb14715-c6e6-46db-bd20-dc67d3d5fddf",
   "metadata": {},
   "outputs": [
    {
     "name": "stdout",
     "output_type": "stream",
     "text": [
      "original seed vertex: [ -57.58777311  104.94960582 -459.58699572]\n",
      "shifted seed vertex: [  79.52905078  241.90677754 -291.78433739]\n"
     ]
    }
   ],
   "source": [
    "# Make MCTruth seed.\n",
    "track_pos = jnp.array([meta['muon_pos_x'], meta['muon_pos_y'], meta['muon_pos_z']])\n",
    "track_time = meta['muon_time']\n",
    "track_zenith = meta['muon_zenith']\n",
    "track_azimuth = meta['muon_azimuth']\n",
    "track_src = jnp.array([track_zenith, track_azimuth])\n",
    "\n",
    "print(\"original seed vertex:\", track_pos)\n",
    "centered_track_pos, centered_track_time = center_track_pos_and_time_based_on_data(event_data, \n",
    "                                                                                  track_pos, \n",
    "                                                                                  track_time, \n",
    "                                                                                  track_src)\n",
    "print(\"shifted seed vertex:\", centered_track_pos)"
   ]
  },
  {
   "cell_type": "code",
   "execution_count": 7,
   "id": "edff6962-2c64-4906-b732-6709ecf4eaa7",
   "metadata": {},
   "outputs": [],
   "source": [
    "def remove_early_pulses(eval_network_doms_and_track, data, track_pos, track_dir, track_time):\n",
    "    crit = -10.0\n",
    "    _, _, _, geo_times = eval_network_doms_and_track(data[:,:3], track_pos, track_dir)\n",
    "    delay_times = data[:, 3] - geo_times - track_time\n",
    "    idx = delay_times > crit\n",
    "    filtered_data = data[idx]\n",
    "    return filtered_data"
   ]
  },
  {
   "cell_type": "code",
   "execution_count": 8,
   "id": "68fc5ec2-fb78-470a-8d2f-87322bbdbc4f",
   "metadata": {},
   "outputs": [
    {
     "name": "stdout",
     "output_type": "stream",
     "text": [
      "(97, 5)\n",
      "(97, 5)\n"
     ]
    }
   ],
   "source": [
    "fitting_event_data = jnp.array(event_data[['x', 'y', 'z', 'time', 'charge']].to_numpy())\n",
    "print(fitting_event_data.shape)\n",
    "\n",
    "fitting_event_data = remove_early_pulses(eval_network_doms_and_track,\n",
    "                                         fitting_event_data,\n",
    "                                         centered_track_pos,\n",
    "                                         track_src,\n",
    "                                         centered_track_time)\n",
    "print(fitting_event_data.shape)"
   ]
  },
  {
   "cell_type": "code",
   "execution_count": 9,
   "id": "cd404126-8876-41ae-a308-ad42e84d908b",
   "metadata": {},
   "outputs": [],
   "source": [
    "def get_neg_c_triple_gamma_llh_mpe(eval_network_doms_and_track_fn):\n",
    "    \"\"\"\n",
    "    here would be a smart docstring\n",
    "    \"\"\"\n",
    "\n",
    "    @jax.jit\n",
    "    def neg_c_triple_gamma_llh(track_direction,\n",
    "                               track_vertex,\n",
    "                               track_time,\n",
    "                               event_data):\n",
    "        \n",
    "        # Constant parameters.\n",
    "        sigma = 3.0 # width of gaussian convolution\n",
    "        X_safe = 20.0 # when to stop evaluating negative time residuals in units of sigma\n",
    "        delta = 0.1 # how to combine the three regions that combine approximate and exact evaluation of hyp1f1 (required for convolutions). Small values are faster. Large values are more accurate.\n",
    "\n",
    "\n",
    "        dom_pos = event_data[:, :3]\n",
    "        first_hit_times = event_data[:, 3]\n",
    "        charges = event_data[:, 4]\n",
    "        n_photons = jnp.round(charges + 0.5)\n",
    "        \n",
    "        logits, av, bv, geo_time = eval_network_doms_and_track_fn(dom_pos, track_vertex, track_direction)\n",
    "\n",
    "        mix_probs = jax.nn.softmax(logits)\n",
    "        #mix_probs = jax.nn.softmax(logits[:, 1:])\n",
    "        #av = av[:, 1:2]\n",
    "        #bv = bv[:, 1:2]\n",
    "        delay_time = first_hit_times - (geo_time + track_time)\n",
    "\n",
    "        # Floor on negative time residuals.\n",
    "        # Effectively a floor on the pdf.\n",
    "        # Todo: think about noise.\n",
    "        safe_delay_time = jnp.where(delay_time > -X_safe * sigma, delay_time, -X_safe * sigma)\n",
    "\n",
    "        probs = c_multi_gamma_prob_v(safe_delay_time, \n",
    "                                     mix_probs,\n",
    "                                     av,\n",
    "                                     bv,\n",
    "                                     sigma,\n",
    "                                     delta)\n",
    "\n",
    "        sfs = c_multi_gamma_sf_v(safe_delay_time, mix_probs, av, bv, sigma)\n",
    "\n",
    "        mpe_log_probs = jnp.log(n_photons) + jnp.log(probs) + (n_photons-1.0) * jnp.log(sfs)\n",
    "        return -2.0 * jnp.sum(mpe_log_probs)\n",
    "\n",
    "\n",
    "    return neg_c_triple_gamma_llh"
   ]
  },
  {
   "cell_type": "code",
   "execution_count": 10,
   "id": "41eeeefb-3f12-4675-adc4-21c0d9a9a2fc",
   "metadata": {},
   "outputs": [],
   "source": [
    "neg_llh_mpe = get_neg_c_triple_gamma_llh_mpe(eval_network_doms_and_track)\n",
    "neg_llh_mpe_grad = jax.grad(neg_llh_mpe)\n",
    "\n",
    "for index in range(len(fitting_event_data)):\n",
    "    llh_val = neg_llh_mpe(track_src, centered_track_pos, centered_track_time, fitting_event_data[index: index+1])\n",
    "    llh_grad = neg_llh_mpe_grad(track_src, centered_track_pos, centered_track_time, fitting_event_data[index: index+1])\n",
    "    if np.any(np.isnan(llh_grad)):\n",
    "        print(\"DOM\", index)\n",
    "        print(llh_val, llh_grad)"
   ]
  },
  {
   "cell_type": "code",
   "execution_count": 11,
   "id": "970cfe54-9c46-4f08-959a-bc95b1a49069",
   "metadata": {},
   "outputs": [],
   "source": [
    "def get_dom_info(track_direction, track_vertex, track_time, event_data):\n",
    "        \n",
    "        # Constant parameters.\n",
    "        sigma = 3.0 # width of gaussian convolution\n",
    "        X_safe = 20.0 # when to stop evaluating negative time residuals in units of sigma\n",
    "        delta = 0.1 # how to combine the three regions that combine approximate and exact evaluation of hyp1f1 (required for convolutions). Small values are faster. Large values are more accurate.\n",
    "\n",
    "\n",
    "        dom_pos = event_data[:, :3]\n",
    "        first_hit_times = event_data[:, 3]\n",
    "        charges = event_data[:, 4]\n",
    "        n_photons = jnp.round(charges + 0.5)\n",
    "        print(\"n_hits:\", n_photons)\n",
    "\n",
    "        track_dir_xyz = get_xyz_from_zenith_azimuth(track_direction)\n",
    "        geo_time, closest_approach_dist, closest_approach_z, closest_approach_rho = \\\n",
    "            cherenkov_cylinder_coordinates_w_rho_v(dom_pos, track_vertex, track_dir_xyz)\n",
    "\n",
    "        print(\"dist, z, rho=\", closest_approach_dist, closest_approach_z, closest_approach_rho)\n",
    "        \n",
    "        logits, av, bv, geo_time = eval_network_doms_and_track(dom_pos, track_vertex, track_direction)\n",
    "        print(\"gamma_a:\", av)\n",
    "        print(\"gamma_b:\", bv)\n",
    "        mix_probs = jax.nn.softmax(logits)\n",
    "        delay_time = first_hit_times - (geo_time + track_time)\n",
    "\n",
    "        # Floor on negative time residuals.\n",
    "        # Effectively a floor on the pdf.\n",
    "        # Todo: think about noise.\n",
    "        safe_delay_time = jnp.where(delay_time > -X_safe * sigma, delay_time, -X_safe * sigma)\n",
    "        print(\"delay time:\", safe_delay_time)\n",
    "\n",
    "        probs = c_multi_gamma_prob_v(safe_delay_time, \n",
    "                                     mix_probs,\n",
    "                                     av,\n",
    "                                     bv,\n",
    "                                     sigma,\n",
    "                                     delta)\n",
    "\n",
    "        print(\"pdf:\", probs)\n",
    "        sfs = c_multi_gamma_sf_v(safe_delay_time, mix_probs, av, bv, sigma)\n",
    "\n",
    "        print(\"sf:\", sfs)\n",
    "        return mix_probs, av, bv, safe_delay_time"
   ]
  },
  {
   "cell_type": "code",
   "execution_count": 12,
   "id": "34360d36-46a7-49e6-9b47-9d36e93eb10d",
   "metadata": {},
   "outputs": [
    {
     "name": "stdout",
     "output_type": "stream",
     "text": [
      "n_hits: [2.]\n",
      "dist, z, rho= [17.66502672] [-361.78880666] [-0.19604577]\n",
      "gamma_a: [[1.82426572 3.7310195  1.00109863]]\n",
      "gamma_b: [[0.04011903 0.33388111 0.00209452]]\n",
      "delay time: [6.93197039]\n",
      "pdf: [0.03525814]\n",
      "sf: [0.84308835]\n"
     ]
    }
   ],
   "source": [
    "index = 53\n",
    "mix_probs, gamma_a, gamma_b, delay_time = get_dom_info(track_src, centered_track_pos, centered_track_time, fitting_event_data[index: index+1])"
   ]
  },
  {
   "cell_type": "code",
   "execution_count": 13,
   "id": "582bc020-28f2-40e3-8e70-7aabf03a1ab4",
   "metadata": {},
   "outputs": [
    {
     "name": "stdout",
     "output_type": "stream",
     "text": [
      "[2.28442419 3.9264083 ]\n"
     ]
    }
   ],
   "source": [
    "print(track_src)"
   ]
  },
  {
   "cell_type": "code",
   "execution_count": 14,
   "id": "2c923ac9-8d0a-4eaf-a0c8-732615058893",
   "metadata": {},
   "outputs": [
    {
     "name": "stdout",
     "output_type": "stream",
     "text": [
      "[[0.37396463 0.50085439 0.12518099]]\n"
     ]
    }
   ],
   "source": [
    "print(mix_probs)"
   ]
  },
  {
   "cell_type": "code",
   "execution_count": 15,
   "id": "be9f05ce-0be2-4edd-b4f9-9b0d04970904",
   "metadata": {},
   "outputs": [],
   "source": [
    "def finite_difference_grad(track_direction, track_pos, track_time, fitting_event_data):\n",
    "    eps = 1.e-7\n",
    "    \n",
    "    track_direction1 = track_direction + jnp.array([eps, 0.0])\n",
    "    track_direction2 = track_direction - jnp.array([eps, 0.0])\n",
    "    fval1 = neg_llh_mpe(track_direction1, track_pos, track_time, fitting_event_data)\n",
    "    fval2 = neg_llh_mpe(track_direction2, track_pos, track_time, fitting_event_data)\n",
    "    grad1 = (fval1 - fval2)/(2*eps)\n",
    "\n",
    "    track_direction1 = track_direction + jnp.array([0.0, eps])\n",
    "    track_direction2 = track_direction - jnp.array([0.0, eps])\n",
    "    fval1 = neg_llh_mpe(track_direction1, track_pos, track_time, fitting_event_data)\n",
    "    fval2 = neg_llh_mpe(track_direction2, track_pos, track_time, fitting_event_data)\n",
    "    grad2 = (fval1 - fval2)/(2*eps)\n",
    "    \n",
    "    return jnp.array([grad1, grad2])"
   ]
  },
  {
   "cell_type": "code",
   "execution_count": 16,
   "id": "45068597-7062-46ff-870c-9db0fb4d7bf8",
   "metadata": {},
   "outputs": [
    {
     "name": "stdout",
     "output_type": "stream",
     "text": [
      "[44.45664939  3.55451565]\n"
     ]
    }
   ],
   "source": [
    "index = 53\n",
    "print(finite_difference_grad(track_src,\n",
    "                             centered_track_pos,\n",
    "                             centered_track_time,\n",
    "                             fitting_event_data[index:index+1]))"
   ]
  },
  {
   "cell_type": "code",
   "execution_count": 17,
   "id": "e9c92ded-cf15-45ae-afd3-de0e16877d61",
   "metadata": {},
   "outputs": [
    {
     "data": {
      "image/png": "[encoded data removed]",
      "text/plain": [
       "<Figure size 640x480 with 1 Axes>"
      ]
     },
     "metadata": {},
     "output_type": "display_data"
    }
   ],
   "source": [
    "from scipy.stats import gamma\n",
    "xvals = np.linspace(-20, 100, 1000)\n",
    "\n",
    "fig, ax = plt.subplots()\n",
    "mixed_pdf = np.zeros_like(xvals)\n",
    "for i in range(3):\n",
    "    probs = mix_probs[0, i] * gamma.pdf(xvals, gamma_a[0, i], scale=1/gamma_b[0, i])\n",
    "    plt.plot(xvals, probs, label=f\"{i}\")\n",
    "    mixed_pdf += probs\n",
    "\n",
    "plt.plot(xvals, mixed_pdf, color='red')\n",
    "plt.axvline(delay_time, color='black', linestyle='dashed')\n",
    "plt.legend()\n",
    "plt.show()"
   ]
  },
  {
   "cell_type": "code",
   "execution_count": 18,
   "id": "c31c955b-81b6-4416-b294-3e4c28e1be32",
   "metadata": {},
   "outputs": [
    {
     "name": "stdout",
     "output_type": "stream",
     "text": [
      "[6.93197039]\n"
     ]
    }
   ],
   "source": [
    "print(delay_time)"
   ]
  },
  {
   "cell_type": "code",
   "execution_count": 19,
   "id": "e25f3356-a9d5-4863-b3a7-2ab113bee547",
   "metadata": {},
   "outputs": [
    {
     "name": "stdout",
     "output_type": "stream",
     "text": [
      "[[0.37396463 0.50085439 0.12518099]]\n"
     ]
    }
   ],
   "source": [
    "print(mix_probs)"
   ]
  },
  {
   "cell_type": "code",
   "execution_count": 20,
   "id": "1124a7c1-e778-4daf-8b64-ba09b76aa09e",
   "metadata": {},
   "outputs": [
    {
     "name": "stdout",
     "output_type": "stream",
     "text": [
      "[0.] [17.53857211]\n"
     ]
    }
   ],
   "source": [
    "sigma=3.0\n",
    "alpha=2.5\n",
    "sqrt2sigma2 = jnp.sqrt(2.0*sigma**2)\n",
    "ymin = delay_time - alpha*sqrt2sigma2 # start of numeric integration\n",
    "ymin = jnp.where(ymin >= 0.0, ymin, 0.0)\n",
    "ymax = delay_time + alpha*sqrt2sigma2 # end of numeric integration\n",
    "ymax = jnp.where(ymax >= 0.0, ymax, 0.0)\n",
    "print(ymin, ymax)"
   ]
  },
  {
   "cell_type": "code",
   "execution_count": null,
   "id": "5b675eac-90d8-4a79-b9c6-8edc059aefb9",
   "metadata": {},
   "outputs": [],
   "source": []
  }
 ],
 "metadata": {
  "kernelspec": {
   "display_name": "Python 3 (ipykernel)",
   "language": "python",
   "name": "python3"
  },
  "language_info": {
   "codemirror_mode": {
    "name": "ipython",
    "version": 3
   },
   "file_extension": ".py",
   "mimetype": "text/x-python",
   "name": "python",
   "nbconvert_exporter": "python",
   "pygments_lexer": "ipython3",
   "version": "3.11.5"
  }
 },
 "nbformat": 4,
 "nbformat_minor": 5
}
