{
 "cells": [
  {
   "cell_type": "code",
   "execution_count": 1,
   "id": "84bb95d6-411e-432c-828e-da9e8686121f",
   "metadata": {},
   "outputs": [],
   "source": [
    "import jax.numpy as jnp\n",
    "import jax\n",
    "jax.config.update(\"jax_enable_x64\", True)\n",
    "\n",
    "import pandas as pd\n",
    "import numpy as np\n",
    "import matplotlib.pyplot as plt\n",
    "\n",
    "import sys, os\n",
    "sys.path.insert(0, \"/home/storage/hans/jax_reco\")\n",
    "\n",
    "import logging\n",
    "logging.getLogger(\"jax\").setLevel(logging.ERROR)"
   ]
  },
  {
   "cell_type": "code",
   "execution_count": 2,
   "id": "b02078d4-7da8-4b34-beda-f9d76f7c6d96",
   "metadata": {},
   "outputs": [
    {
     "name": "stderr",
     "output_type": "stream",
     "text": [
      "2024-05-28 13:09:53.578741: W tensorflow/compiler/tf2tensorrt/utils/py_utils.cc:38] TF-TRT Warning: Could not find TensorRT\n"
     ]
    }
   ],
   "source": [
    "from lib.sim_data_i3 import I3SimHandlerFtr\n",
    "from lib.geo import center_track_pos_and_time_based_on_data\n",
    "\n",
    "from lib.network import get_network_eval_v_fn\n",
    "#from lib.network import get_network_matmul_eval_v_fn as get_network_eval_v_fn\n",
    "\n",
    "from dom_track_eval import get_eval_network_doms_and_track\n",
    "from time_sampler import sample_times_clean\n",
    "from likelihood_const_vertex import get_neg_mpe_llh_const_vertex"
   ]
  },
  {
   "cell_type": "code",
   "execution_count": 3,
   "id": "c9215428-3980-41ef-9950-527c446ac51a",
   "metadata": {},
   "outputs": [],
   "source": [
    "key = jax.random.PRNGKey(2)\n",
    "\n",
    "dtype = jnp.float32\n",
    "#dtype = jnp.float64"
   ]
  },
  {
   "cell_type": "code",
   "execution_count": 4,
   "id": "888b6656-b118-4a0c-911c-aad7324d2a41",
   "metadata": {},
   "outputs": [],
   "source": [
    "eval_network_v = get_network_eval_v_fn(bpath='/home/storage/hans/jax_reco/data/network', dtype=dtype)\n",
    "eval_network_doms_and_track = get_eval_network_doms_and_track(eval_network_v, dtype=dtype)"
   ]
  },
  {
   "cell_type": "code",
   "execution_count": 5,
   "id": "982e419c-77b8-4c97-bd1b-72fa13e08410",
   "metadata": {},
   "outputs": [
    {
     "name": "stdout",
     "output_type": "stream",
     "text": [
      "muon energy: 3.4 TeV\n",
      "n_doms 43\n"
     ]
    }
   ],
   "source": [
    "bp = '/home/storage2/hans/i3files/21217'\n",
    "sim_handler = I3SimHandlerFtr(os.path.join(bp, 'meta_ds_21217_from_35000_to_53530.ftr'),\n",
    "                              os.path.join(bp, 'pulses_ds_21217_from_35000_to_53530.ftr'),\n",
    "                              '/home/storage/hans/jax_reco/data/icecube/detector_geometry.csv')\n",
    "\n",
    "# Get a simulated muon event.\n",
    "event_index = 5\n",
    "meta, pulses = sim_handler.get_event_data(event_index)\n",
    "print(f\"muon energy: {meta['muon_energy_at_detector']/1.e3:.1f} TeV\")\n",
    "\n",
    "# Get dom locations, first hit times, and total charges (for each dom).\n",
    "event_data = sim_handler.get_per_dom_summary_from_sim_data(meta, pulses)\n",
    "\n",
    "print(\"n_doms\", len(event_data))"
   ]
  },
  {
   "cell_type": "code",
   "execution_count": 6,
   "id": "3d1ab1f5-e964-4206-b364-d5a694861e41",
   "metadata": {},
   "outputs": [
    {
     "name": "stdout",
     "output_type": "stream",
     "text": [
      "old track vertex: [ 143.40123598  106.94081331 -815.20509865]\n",
      "new track vertex: [ -25.42355091  403.14288541 -154.63778486]\n"
     ]
    }
   ],
   "source": [
    "# Let's generate some new first hit times following our triple pandel model.\n",
    "# (avoid problems with time smearing for now -> to be implemented: gaussian convoluted triple pandel.)\n",
    "\n",
    "track_pos = jnp.array([meta['muon_pos_x'], meta['muon_pos_y'], meta['muon_pos_z']])\n",
    "track_time = meta['muon_time']\n",
    "track_zenith = meta['muon_zenith']\n",
    "track_azimuth = meta['muon_azimuth']\n",
    "track_src = jnp.array([track_zenith, track_azimuth])\n",
    "\n",
    "print(\"old track vertex:\", track_pos)\n",
    "centered_track_pos, centered_track_time = center_track_pos_and_time_based_on_data(event_data, track_pos, track_time, track_src)\n",
    "print(\"new track vertex:\", centered_track_pos)\n",
    "\n",
    "key, subkey = jax.random.split(key)\n",
    "first_times = sample_times_clean(eval_network_doms_and_track, event_data, track_pos, track_src, track_time, subkey)"
   ]
  },
  {
   "cell_type": "code",
   "execution_count": 7,
   "id": "a41fa875-9a31-422a-9115-a7ae097d3710",
   "metadata": {},
   "outputs": [
    {
     "name": "stdout",
     "output_type": "stream",
     "text": [
      "(43, 5)\n"
     ]
    },
    {
     "data": {
      "text/plain": [
       "{cuda(id=0)}"
      ]
     },
     "execution_count": 7,
     "metadata": {},
     "output_type": "execute_result"
    }
   ],
   "source": [
    "# Create some n_photons from qtot (by rounding up).\n",
    "n_photons = np.round(event_data['charge'].to_numpy()+0.5)\n",
    "\n",
    "# Combine into single data tensor for fitting.\n",
    "fake_event_data = jnp.column_stack([jnp.array(event_data[['x', 'y', 'z']].to_numpy()), \n",
    "                                    jnp.array(first_times), \n",
    "                                    jnp.array(n_photons)])\n",
    "print(fake_event_data.shape)\n",
    "\n",
    "# Send to GPU.\n",
    "fake_event_data.devices()\n",
    "centered_track_pos.devices()\n",
    "centered_track_time.devices()\n",
    "track_src.devices()"
   ]
  },
  {
   "cell_type": "code",
   "execution_count": 8,
   "id": "0d0d72a9-e8f1-438c-9f09-ed71dd2a9fc1",
   "metadata": {},
   "outputs": [],
   "source": [
    "neg_llh = get_neg_mpe_llh_const_vertex(eval_network_doms_and_track, fake_event_data, centered_track_pos, centered_track_time)\n",
    "neg_llh_v = jax.jit(jax.vmap(neg_llh, 0, 0))"
   ]
  },
  {
   "cell_type": "code",
   "execution_count": 9,
   "id": "f3ebdc2e-9ce9-439b-a4cf-0a73791c7f19",
   "metadata": {},
   "outputs": [],
   "source": [
    "n_eval = 200\n",
    "\n",
    "zenith = np.linspace(track_src[0]-0.05, track_src[0]+0.05, n_eval)\n",
    "azimuth = np.linspace(track_src[1]-0.05, track_src[1]+0.05, n_eval)\n",
    "X, Y = np.meshgrid(zenith, azimuth)\n",
    "\n",
    "init_dirs = np.column_stack([X.flatten(), Y.flatten()])"
   ]
  },
  {
   "cell_type": "code",
   "execution_count": 10,
   "id": "dd4f477e-9503-4bce-8755-9886f62c7255",
   "metadata": {},
   "outputs": [
    {
     "name": "stdout",
     "output_type": "stream",
     "text": [
      "158 ms ± 43.6 ms per loop (mean ± std. dev. of 7 runs, 20 loops each)\n"
     ]
    }
   ],
   "source": [
    "#with jax.default_matmul_precision('tensorfloat32'):\n",
    "%timeit -n20 logls = neg_llh_v(init_dirs).block_until_ready()"
   ]
  },
  {
   "cell_type": "code",
   "execution_count": 11,
   "id": "18d469cc-311e-4b26-af1b-ca0247f759af",
   "metadata": {},
   "outputs": [],
   "source": [
    "# 163 ms ± 44.2 ms per loop (mean ± std. dev. of 7 runs, 20 loops each) for jnp.float32"
   ]
  },
  {
   "cell_type": "code",
   "execution_count": 12,
   "id": "93ea9ad8-efb4-4aab-b1f8-70bf317a3ae1",
   "metadata": {},
   "outputs": [],
   "source": [
    "# 1.53 s ± 22.6 ms per loop (mean ± std. dev. of 7 runs, 20 loops each) for jnp.float64"
   ]
  },
  {
   "cell_type": "code",
   "execution_count": 13,
   "id": "707132a4-e2a9-45b6-bd03-5ad3abeae9a0",
   "metadata": {},
   "outputs": [],
   "source": [
    "# 168 ms ± 16.4 ms per loop (mean ± std. dev. of 7 runs, 20 loops each) // no TF32?"
   ]
  }
 ],
 "metadata": {
  "kernelspec": {
   "display_name": "Python 3 (ipykernel)",
   "language": "python",
   "name": "python3"
  },
  "language_info": {
   "codemirror_mode": {
    "name": "ipython",
    "version": 3
   },
   "file_extension": ".py",
   "mimetype": "text/x-python",
   "name": "python",
   "nbconvert_exporter": "python",
   "pygments_lexer": "ipython3",
   "version": "3.11.5"
  }
 },
 "nbformat": 4,
 "nbformat_minor": 5
}
