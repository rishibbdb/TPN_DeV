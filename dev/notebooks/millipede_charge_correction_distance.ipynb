{
 "cells": [
  {
   "cell_type": "code",
   "execution_count": 32,
   "id": "4e7bec4e-637d-4e5b-9468-a772da2cdb01",
   "metadata": {},
   "outputs": [
    {
     "name": "stdout",
     "output_type": "stream",
     "text": [
      "40.134791222536876\n"
     ]
    }
   ],
   "source": [
    "from icecube import dataio,dataclasses\n",
    "import matplotlib.pyplot as plt\n",
    "import numpy as np\n",
    "\n",
    "import os\n",
    "os.environ['CUDA_VISIBLE_DEVICES'] = '1'\n",
    "\n",
    "import jax\n",
    "jax.config.update(\"jax_enable_x64\", True)\n",
    "import jax.numpy as jnp\n",
    "\n",
    "import sys\n",
    "sys.path.insert(0, \"/home/storage/hans/jax_reco_new/\")\n",
    "\n",
    "from lib.geo import get_xyz_from_zenith_azimuth\n",
    "from lib.geo import __theta_cherenkov\n",
    "__theta_cherenkov_deg = np.rad2deg(__theta_cherenkov)\n",
    "print(__theta_cherenkov_deg)"
   ]
  },
  {
   "cell_type": "code",
   "execution_count": 33,
   "id": "98a4f0e7-750d-4428-959a-98cb1669b3e9",
   "metadata": {},
   "outputs": [],
   "source": [
    "f = dataio.I3File('/home/storage/hans/jax_reco_new/extract_data_from_i3files/test.i3.zst')\n",
    "g = dataio.I3File('/home/storage2/hans/i3files/GeoCalibDetectorStatus_2020.Run134142.Pass2_V0.i3.gz')\n",
    "g_frame = g.pop_frame()\n",
    "geo = g_frame['I3Geometry'].omgeo"
   ]
  },
  {
   "cell_type": "code",
   "execution_count": 34,
   "id": "aa0f9f4d-3bd2-48d8-b788-15178b5b05f0",
   "metadata": {},
   "outputs": [
    {
     "data": {
      "text/plain": [
       "(0.001, 1000)"
      ]
     },
     "execution_count": 34,
     "metadata": {},
     "output_type": "execute_result"
    },
    {
     "data": {
      "image/png": "[encoded data removed]",
      "text/plain": [
       "<Figure size 640x480 with 1 Axes>"
      ]
     },
     "metadata": {},
     "output_type": "display_data"
    }
   ],
   "source": [
    "frame = f.pop_physics()\n",
    "expq_dict = frame['MCMostEnergeticTrack_I3MCTree_ExQ']\n",
    "obsq_dict = dict()\n",
    "\n",
    "pmap = dataclasses.I3RecoPulseSeriesMap.from_frame(frame, \"TWSRTHVInIcePulsesIC\")\n",
    "for om, pulses in pmap.items():\n",
    "    obsq_dict[om] = np.sum([p.charge for p in pulses])\n",
    "\n",
    "\n",
    "qexp_list = []\n",
    "qtot_list = []\n",
    "#for key in pmap.keys():\n",
    "    #qtot = sum([p.charge for p in pulses[key]])\n",
    "\n",
    "for key, qtot in obsq_dict.items():\n",
    "    qexp = sum(expq_dict[key])\n",
    "    qexp_list.append(qexp)\n",
    "    qtot_list.append(qtot)\n",
    "\n",
    "\n",
    "fig, ax = plt.subplots()\n",
    "plt.scatter(qexp_list, qtot_list, s=2, alpha=0.2)\n",
    "plt.plot([0.001, 1000], [0.001, 1000])\n",
    "plt.xlabel('q_exp')\n",
    "plt.ylabel('q_tot')\n",
    "plt.yscale('log')\n",
    "plt.xscale('log')\n",
    "plt.ylim([0.1, 10**3])\n",
    "plt.xlim([0.001, 10**3])"
   ]
  },
  {
   "cell_type": "code",
   "execution_count": null,
   "id": "8691bdbe-32c3-4fd6-bb3b-0bd53074a02e",
   "metadata": {},
   "outputs": [],
   "source": []
  },
  {
   "cell_type": "code",
   "execution_count": 35,
   "id": "0541af3e-7a5d-49f0-880d-cf1b1c4486b7",
   "metadata": {},
   "outputs": [],
   "source": [
    "import numpy as np"
   ]
  },
  {
   "cell_type": "code",
   "execution_count": 36,
   "id": "d4794228-aaf3-40a9-ac3b-4c7a3168f77e",
   "metadata": {},
   "outputs": [
    {
     "name": "stdout",
     "output_type": "stream",
     "text": [
      "[ 0.4472136  -0.89442719]\n"
     ]
    }
   ],
   "source": [
    "xd = np.array([0., 1.])\n",
    "x0 = np.array([0., 1.])\n",
    "x1 = np.array([1., -1.])\n",
    "\n",
    "x2 = x1-x0\n",
    "x2 = x2 / np.linalg.norm(x2)\n",
    "print(x2)"
   ]
  },
  {
   "cell_type": "code",
   "execution_count": 37,
   "id": "f88e053d-ace1-420e-be9f-7183ba8597b4",
   "metadata": {},
   "outputs": [
    {
     "data": {
      "text/plain": [
       "-0.8944271909999159"
      ]
     },
     "execution_count": 37,
     "metadata": {},
     "output_type": "execute_result"
    }
   ],
   "source": [
    "np.dot(x2, xd)"
   ]
  },
  {
   "cell_type": "code",
   "execution_count": 38,
   "id": "c21c742d-70e8-4ed4-8213-f2d3be71defa",
   "metadata": {},
   "outputs": [
    {
     "data": {
      "text/plain": [
       "153.434948822922"
      ]
     },
     "execution_count": 38,
     "metadata": {},
     "output_type": "execute_result"
    }
   ],
   "source": [
    "np.rad2deg(np.arccos(np.dot(x2, xd)))"
   ]
  },
  {
   "cell_type": "code",
   "execution_count": 39,
   "id": "2de7dc9c-34cd-49af-be1c-8e306b693c31",
   "metadata": {},
   "outputs": [
    {
     "name": "stdout",
     "output_type": "stream",
     "text": [
      "(345, 3)\n",
      "(201, 3)\n",
      "(201, 345)\n",
      "(201,)\n"
     ]
    }
   ],
   "source": [
    "I3MCTree = frame['I3MCTree']\n",
    "\n",
    "loss_pos = []\n",
    "for p in I3MCTree.get_daughters(I3MCTree[0]):\n",
    "     for loss in I3MCTree.get_daughters(p):\n",
    "           if not 'Mu' in str(loss.type):\n",
    "                pos = loss.pos\n",
    "                loss_pos.append([pos.x, pos.y, pos.z])\n",
    "\n",
    "loss_pos = jnp.array(loss_pos)\n",
    "print(loss_pos.shape)\n",
    "\n",
    "dom_pos = []\n",
    "q_exp = []\n",
    "q_tot = []\n",
    "for key in obsq_dict.keys():\n",
    "    pos = geo[key].position\n",
    "    dom_pos.append([pos.x, pos.y, pos.z])\n",
    "    q_exp.append(expq_dict[key])\n",
    "    q_tot.append(obsq_dict[key])\n",
    "\n",
    "q_exp = jnp.array(q_exp)\n",
    "dom_pos = jnp.array(dom_pos)\n",
    "q_tot = jnp.array(q_tot)\n",
    "print(dom_pos.shape)\n",
    "print(q_exp.shape)\n",
    "print(q_tot.shape)\n",
    "\n",
    "mctruth = frame['MCMostEnergeticTrack']\n",
    "track_dir_xyz = get_xyz_from_zenith_azimuth([mctruth.dir.zenith, mctruth.dir.azimuth])\n",
    "track_pos = jnp.array([mctruth.pos.x, mctruth.pos.y, mctruth.pos.z])"
   ]
  },
  {
   "cell_type": "code",
   "execution_count": 51,
   "id": "677638ee-21ca-4dc8-89d4-7ed520eca6f5",
   "metadata": {},
   "outputs": [],
   "source": [
    "def closest_distance_dom_track(dom_pos, track_pos, track_dir):\n",
    "    \"\"\"\n",
    "    dom_pos: 1D jax array with 3 components [x, y, z]\n",
    "    track_pos: 1D jax array with 3 components [x, y, z]\n",
    "    track_dir: 1D jax array with 3 components [dir_x, dir_y, dir_z]\n",
    "    \"\"\"\n",
    "\n",
    "    # vector track vertex -> dom\n",
    "    v_a = dom_pos - track_pos\n",
    "    # vector: closest point on track -> dom\n",
    "    v_d = v_a - jnp.dot(v_a, track_dir) * track_dir\n",
    "    dist = jnp.linalg.norm(v_d)\n",
    "    return dist\n",
    "\n",
    "\n",
    "def asym_gaussian(diff, sigma, r):\n",
    "    t1 = jnp.exp(-0.5 * (diff / sigma)**2)\n",
    "    t2 = jnp.exp(-0.5 * (diff / (r * sigma))**2)\n",
    "    return jnp.where(diff > 0, t1, t2)\n",
    "\n",
    "def get_corrected_charge(dom_pos, q_exp, loss_pos, track_pos, track_dir):\n",
    "    # dom_pos: location of single dom. shape = (3,)\n",
    "    # loss_pos: location of all losses. shape = (N_losses, 3)\n",
    "    # track_dir: direction of track in cartesian coords. shape = (3,)\n",
    "    # q_exp: vector of expected charge from each loss for this dom. shape = (N_losses,)\n",
    "    # returns correction factor for qtot for this dom\n",
    "\n",
    "    # compute vectors between dom and losses\n",
    "    # shape: N_loss, 3    \n",
    "    dx = dom_pos - loss_pos\n",
    "    dx_normed = dx / jnp.expand_dims(jnp.linalg.norm(dx, axis=1), axis=1)\n",
    "\n",
    "    # angle between line from loss to dom and track direction\n",
    "    delta = jnp.arccos(jnp.clip(jnp.dot(dx_normed, track_dir), min=-1.0, max=1.0))\n",
    "    \n",
    "    delta_ = jnp.where(delta < jnp.pi/2.0, delta, jnp.pi-delta)\n",
    "    delta_ = jnp.where(delta == jnp.pi/2.0, delta_-0.001, delta_)\n",
    "\n",
    "    dist = closest_distance_dom_track(dom_pos, track_pos, track_dir)\n",
    "    yc = dist / jnp.tan(__theta_cherenkov)\n",
    "    yl = dist / jnp.tan(delta_)\n",
    "\n",
    "    dy = jnp.where(delta < __theta_cherenkov, yl - yc, -(yc - yl))\n",
    "    dy = jnp.where(delta < jnp.pi/2, dy, -(yl + yc))\n",
    "    dy = jnp.where(delta != jnp.pi/2, dy, -yc)\n",
    "\n",
    "    dx = dy / dist\n",
    "    \n",
    "    \n",
    "    sigma = 0.8\n",
    "    r = 1.0\n",
    "    weights = asym_gaussian(dx, sigma, r)\n",
    "    return jnp.sum(weights * q_exp) / jnp.sum(q_exp)\n",
    "\n",
    "get_corrected_charge_v = jax.vmap(get_corrected_charge, (0, 0, None, None, None), 0)"
   ]
  },
  {
   "cell_type": "code",
   "execution_count": 52,
   "id": "184357ad-b88f-4817-be34-6b45ff52c646",
   "metadata": {
    "scrolled": true
   },
   "outputs": [
    {
     "name": "stdout",
     "output_type": "stream",
     "text": [
      "0.8334702932518977 1.125 0.9376540799083849\n",
      "0.3811723340213117 1.225000023841858 0.4669361182639634\n",
      "0.8767644523142127 0.7250000238418579 0.6356542488314977\n",
      "0.44639680967626955 0.949999988079071 0.4240769638709914\n",
      "0.5191154398007355 1.4000000059604645 0.7267616188151989\n",
      "0.47293100919941244 6.100000083446503 2.884879195580855\n",
      "0.5289454992547497 5.824999928474426 3.0811074953257864\n",
      "0.5456656854736466 3.100000023841858 1.6915636379779881\n",
      "0.5107578754521279 1.9999999403953552 1.0215157204607141\n",
      "0.9372780993292342 2.5 2.3431952483230853\n",
      "0.9438149135397782 5.275000095367432 4.978623758931534\n",
      "0.9370634928568052 4.074999988079071 3.818533722220814\n",
      "0.9105060314518155 2.6250000298023224 2.39007835969621\n",
      "0.8685548040364165 1.850000023841858 1.6068264081753307\n",
      "0.8317290969663156 1.375 1.143627508328684\n",
      "0.8061585594848227 0.42500001192092896 0.34261739739120856\n",
      "0.8257456665367081 0.800000011920929 0.660596543073022\n",
      "0.9242615716035967 1.225000023841858 1.132220447250519\n",
      "0.9484816065301698 1.9500000476837158 1.8495391779609585\n",
      "0.9293577581044645 0.824999988079071 0.7667201393573754\n",
      "0.8226553093421906 0.675000011920929 0.5552923436127941\n",
      "0.5707587006456148 1.1749999523162842 0.6706414460427018\n",
      "0.5756863741164964 1.225000023841858 0.7052158220181408\n",
      "0.5791412366742258 0.699999988079071 0.40539885876805654\n",
      "0.5217125733399711 0.925000011920929 0.4825841365587718\n",
      "0.8847209525507521 0.574999988079071 0.5087145371699868\n",
      "0.899417503375682 2.449999988079071 2.203572872548529\n",
      "0.8760759255362374 0.9750000238418579 0.8541740482851091\n",
      "0.8434159006400589 1.3250000476837158 1.1175261085652821\n",
      "0.8630670620149679 19.80000013113022 17.088727941070537\n",
      "0.9332373244259683 51.44999995827675 48.01506030277837\n",
      "0.9848158836055321 85.47500020265579 84.1771378507615\n",
      "0.9223678616325188 92.30000060796738 85.13455418945105\n",
      "0.549128103493243 105.42499950528145 57.891830039111284\n",
      "0.11506845758349565 139.27499976754189 16.02615940319276\n",
      "0.08610254210220776 221.55000013113022 19.076018214034775\n",
      "0.47382319537026213 143.44999933242798 67.96993705955299\n",
      "0.9110581837566687 65.47499990463257 59.651534494582606\n",
      "0.9867537663044823 52.54999992251396 51.853910342840905\n",
      "0.923606381503691 25.574999898672104 23.621233113369804\n",
      "0.8410177246362952 10.32499997317791 8.683507984311895\n",
      "0.7682116905971146 18.950000315904617 14.557611779496941\n",
      "0.7085438081749922 3.5749999284744263 2.5330440635465945\n",
      "0.6608470923507123 1.125 0.7434529788945513\n",
      "0.5647564524312624 1.024999976158142 0.5788753502772008\n",
      "0.388417935465408 13.949999928474426 5.418430171960626\n",
      "0.39104974825974037 22.72499993443489 8.88660550356338\n",
      "0.3935807150310252 43.425000220537186 17.091242637021452\n",
      "0.39549156975692606 43.87499976158142 17.352192528792592\n",
      "0.3960800940470433 54.025000140070915 21.398227136370817\n",
      "0.3945953480412141 44.40000008046627 17.52003348478152\n",
      "0.39055859101460166 65.60000044107437 25.620643742823255\n",
      "0.3844311024028791 52.87500062584877 20.326794780147964\n",
      "0.3772062046173234 42.850000351667404 16.163286000503433\n",
      "0.36985864525711676 20.17500013113022 7.461898216561975\n",
      "0.36317900632346656 13.375 4.857519209576365\n",
      "0.35744789028587676 7.250000059604645 2.591497225878161\n",
      "0.35267082898380925 2.475000023841858 0.8728603101432557\n",
      "0.34871313631809564 4.0 1.3948525452723826\n",
      "0.3453265775226692 1.625 0.5611556884743375\n",
      "0.21097745413523517 0.625 0.13186090883452198\n",
      "0.19537709484699206 1.475000023841858 0.28818121955746623\n",
      "0.19375931253543743 1.1749999523162842 0.227667182989975\n",
      "0.3898803058035258 3.575000047683716 1.3938221118385463\n",
      "0.3909511596622065 2.5 0.9773778991555162\n",
      "0.3916228491441265 4.099999964237213 1.605653667485394\n",
      "0.3916710262609393 2.574999988079071 1.0085528879528363\n",
      "0.3890692086733885 1.1500000059604645 0.44742959229343\n",
      "0.3862406434039539 0.949999988079071 0.36692860662940896\n",
      "0.3825734465042084 1.9500000476837158 0.7460182389257298\n",
      "0.3783472099344896 0.9750000238418579 0.3688885387066278\n",
      "0.3693361765938488 1.0750000476837158 0.39703640744970875\n",
      "0.36098344005628047 2.75 0.9927044601547713\n",
      "0.3539783754050292 0.675000011920929 0.23893540761814577\n",
      "0.3510077309562837 1.024999976158142 0.35978291586151434\n",
      "0.11986118145571228 20.999999776482582 2.517084783778896\n",
      "0.09434241594452913 40.674999833106995 3.8373777527986332\n",
      "0.06680281110732915 67.57499977946281 4.514199945845263\n",
      "0.041243104816066536 77.8999993801117 3.2128378396054647\n",
      "0.0276384016947893 84.42500013113022 2.3333720667068163\n",
      "0.042205066967301974 145.99999955296516 6.161939758358953\n",
      "0.025083132162785043 97.77499932050705 2.4525032301724963\n",
      "0.02619782454392304 50.000000059604645 1.309891228757664\n",
      "0.042659426945695245 33.17500004172325 1.4152264907033298\n",
      "0.0663990177154472 17.54999989271164 1.1653027537822567\n",
      "0.0897156356996354 9.625 0.8635129936089907\n",
      "0.11079305380986801 3.299999952316284 0.36561707228953993\n",
      "0.1455288586237708 1.225000023841858 0.1782728552837976\n",
      "0.15930249730880403 0.925000011920929 0.14735481190967747\n",
      "0.130438016023251 1.125 0.14674276802615738\n",
      "0.1361722931546736 0.925000011920929 0.12595937279137331\n",
      "0.1455946403559465 2.325000047683716 0.33850754577006903\n",
      "0.16494169838805095 3.3750001192092896 0.5566782517222546\n",
      "0.19641391554967902 0.925000011920929 0.18168287422488943\n",
      "0.24522618277606265 0.925000011920929 0.22683422199118186\n",
      "0.31300214244008384 1.300000011920929 0.40690278890338527\n",
      "0.36549786976387777 0.824999988079071 0.301535738198125\n",
      "0.37779698778354714 2.6500000953674316 1.0011620536559283\n",
      "0.09036662515688945 1.024999976158142 0.09262578863130345\n",
      "0.08652498492773582 0.32499998807907104 0.028120619070055943\n",
      "0.08441774998058167 2.925000011920929 0.2469219196995394\n",
      "0.0939877237382727 0.7749999761581421 0.07284048365631939\n",
      "0.11088518174148043 0.7250000238418579 0.08039175940628206\n",
      "0.2735959979188591 1.9499999284744263 0.5335121763726645\n",
      "0.2730830872870997 5.324999988079071 1.4541674365484016\n",
      "0.2537241291965245 6.225000023841858 1.5794327102976196\n",
      "0.22221544761566808 8.624999970197678 1.9166082290626008\n",
      "0.19980157669718046 17.42499977350235 3.481542428693782\n",
      "0.20629184803862105 19.224999964237213 3.9659607711649185\n",
      "0.250462673763287 7.5250000059604645 1.8847316215616086\n",
      "0.2900967404090066 1.274999976158142 0.36987333710503817\n",
      "0.2995847964585568 0.925000011920929 0.2771159402954941\n",
      "0.21734407370041126 1.024999976158142 0.22277767036103502\n",
      "0.46403814845543706 0.875 0.4060333798985074\n",
      "0.3818615546363872 0.7749999761581421 0.2959426957389112\n",
      "0.30940023174386544 0.574999988079071 0.17790512956438445\n",
      "0.37047806677282397 1.524999976158142 0.5649790429956711\n",
      "0.36753017243259123 1.274999976158142 0.46860096108895166\n",
      "0.36635211317882804 1.9000000357627869 0.6960690281415458\n",
      "0.3697034505793815 2.149999976158142 0.794862409931253\n",
      "0.387661091653931 14.899999886751175 5.776150221741409\n",
      "0.4037660800566099 10.800000160932541 4.360673729590488\n",
      "0.3957077701995917 13.900000154972076 5.500338067097979\n",
      "0.37208857449292676 5.299999952316284 1.972069427069946\n",
      "0.3722449476298624 1.5 0.5583674214447936\n",
      "0.37712453635906296 3.350000023841858 1.2633672057942105\n",
      "0.5221342514471546 1.274999976158142 0.6657211581464715\n",
      "0.6115433748771446 0.22499999403953552 0.13759725570227496\n",
      "0.6240193317423689 3.275000035762787 2.0436633337729284\n",
      "0.6261490563114055 0.5249999761581421 0.32872823963493103\n",
      "0.6188245542500502 1.024999976158142 0.6342951533523744\n",
      "0.605096745013624 1.6500000357627869 0.9984096509124255\n",
      "0.580272146667351 0.875 0.5077381283339322\n",
      "0.3964194238963193 0.7250000238418579 0.28740409177620707\n",
      "0.3725794566113761 2.649999976158142 0.9873355511371602\n",
      "0.37623361286701296 2.9500000178813934 1.1098891646852695\n",
      "0.381873910641444 15.37500011920929 5.871311421635119\n",
      "0.383260341998622 33.275000154972076 12.752987939398798\n",
      "0.3769247757154878 47.19999969005585 17.790849296945396\n",
      "0.366636548545325 11.300000011920929 4.142993002932821\n",
      "0.3585489338638081 4.300000071525574 1.541760441259793\n",
      "0.35508718308735077 4.299999952316284 1.526874870343732\n",
      "0.36423365328640006 0.875 0.31870444662560005\n",
      "0.7539270974745224 3.25 2.4502630667921976\n",
      "0.7604897069330206 2.600000023841858 1.9772732561573412\n",
      "0.7545467651271012 2.475000023841858 1.867503261679372\n",
      "0.723208774522714 1.824999988079071 1.3198560048826327\n",
      "0.7068072234931915 2.0 1.413614446986383\n",
      "0.727547836770755 2.625 1.9098130715232318\n",
      "0.756977608282866 3.3249999284744263 2.5169504933972715\n",
      "0.790805783869531 0.7999999821186066 0.6326446129549155\n",
      "0.7728404069856183 0.925000011920929 0.7148773856746725\n",
      "0.4887887325217513 0.574999988079071 0.28105351537319123\n",
      "0.4352865483754167 0.9750000238418579 0.4244043950440713\n",
      "0.5979957045197098 2.4499999284744263 1.4650894333013034\n",
      "0.6381652185092447 0.8499999940395355 0.5424404319290969\n",
      "0.6888923867319344 2.0500000715255737 1.4122294420738888\n",
      "0.7542054451442011 14.799999997019768 11.162240585886469\n",
      "0.8330504447544593 19.650000125169754 16.369441343697844\n",
      "0.8997382591874259 33.50000010430813 30.141231776628782\n",
      "0.8996489953118307 52.10000029206276 46.87171291850035\n",
      "0.8736001228377714 100.6500001847744 87.92785252504063\n",
      "0.9253258117382652 56.84999978542328 52.604772198767\n",
      "0.9039360568097128 33.62500023841858 30.394850125741744\n",
      "0.8116428373273196 15.624999940395355 12.681919284861685\n",
      "0.7196898792322831 6.625 4.767945449913876\n",
      "0.6474447732283933 2.9749999940395355 1.9261481964953986\n",
      "0.592519267225431 1.0750000476837158 0.6369582405208587\n",
      "0.5521016921879208 0.625 0.3450635576174505\n",
      "0.5206581883042343 1.375 0.7159050089183221\n",
      "0.49580030402913045 0.875 0.43382526602548915\n",
      "0.275894277440149 2.299999952316284 0.6345568249566783\n",
      "0.26781986578532974 1.800000011920929 0.4820757616062551\n",
      "0.24761229424283462 5.000000029802322 1.2380614785935946\n",
      "0.23595207066528126 2.725000023841858 0.6429693981884271\n",
      "0.22428022638582168 4.299999952316284 0.9644049627645186\n",
      "0.214256529947681 7.200000107288361 1.5426470386105349\n",
      "0.20820194871330483 9.224999904632568 1.920662957024552\n",
      "0.20724563180407973 12.49999988079071 2.590570372845392\n",
      "0.21095811763304217 12.749999940395355 2.689715987247204\n",
      "0.2174546000275484 5.700000017881393 1.2394912240454172\n",
      "0.22477406649364995 3.175000011920929 0.7136576637968542\n",
      "0.23189610438758906 1.5 0.34784415658138357\n",
      "0.23853201962073836 1.9000000357627869 0.4532108458099727\n",
      "0.24462365630767532 0.824999988079071 0.20181451353769092\n",
      "0.28157442095928 1.1749999523162842 0.3308499312006393\n",
      "0.2729108696648294 0.875 0.23879701095672573\n",
      "0.269099371683267 1.375 0.3700116360644921\n",
      "0.2713878826816584 0.4749999940395355 0.12890924265618992\n",
      "0.2728588398050533 0.4749999940395355 0.12960794728103492\n",
      "0.067990850873821 1.274999976158142 0.08668833324309357\n",
      "0.04774587012142196 0.7749999761581421 0.037003048205751767\n",
      "0.0284704898448186 2.3499999046325684 0.06690564842016622\n",
      "0.012866208768578196 3.600000023841858 0.04631835187363583\n",
      "0.0036515205295216797 3.425000011920929 0.01250645785714127\n",
      "0.0005767859439210038 4.025000095367432 0.0023215634792886344\n",
      "0.0001232271020792495 2.649999976158142 0.0003265518175720481\n",
      "0.00023890211515317122 8.125000089406967 0.0019410797069790296\n",
      "0.00678800947589751 1.225000023841858 0.008315311769813207\n",
      "0.017595694002235134 0.824999988079071 0.014516447342086968\n",
      "0.03252410919759212 0.875 0.028458595547893102\n"
     ]
    }
   ],
   "source": [
    "for i in range(len(q_tot)):\n",
    "    da = get_corrected_charge(dom_pos[i], q_exp[i], loss_pos, track_pos, track_dir_xyz)\n",
    "    print(da, q_tot[i], da * q_tot[i])"
   ]
  },
  {
   "cell_type": "code",
   "execution_count": 53,
   "id": "cf837235-d628-4560-a610-86f489d10a85",
   "metadata": {},
   "outputs": [
    {
     "data": {
      "text/plain": [
       "(0.1, 1000)"
      ]
     },
     "execution_count": 53,
     "metadata": {},
     "output_type": "execute_result"
    },
    {
     "data": {
      "image/png": "[encoded data removed]",
      "text/plain": [
       "<Figure size 640x480 with 1 Axes>"
      ]
     },
     "metadata": {},
     "output_type": "display_data"
    }
   ],
   "source": [
    "das = get_corrected_charge_v(dom_pos, q_exp, loss_pos, track_pos, track_dir_xyz)\n",
    "corr_q = jnp.clip(das * q_tot, min=1)\n",
    "\n",
    "\n",
    "fig, ax = plt.subplots()\n",
    "plt.plot([0.1, 1000], [0.1, 1000], color='black', linestyle='dashed')\n",
    "plt.scatter(q_tot, corr_q, s=5, alpha=0.2, color='red')\n",
    "plt.xlabel('q_tot')\n",
    "plt.ylabel('q_tot_corr')\n",
    "plt.yscale('log')\n",
    "plt.xscale('log')\n",
    "plt.ylim([0.1, 10**3])\n",
    "plt.xlim([0.1, 10**3])"
   ]
  },
  {
   "cell_type": "code",
   "execution_count": 54,
   "id": "e74f016c-4e82-4b2e-9104-cc3abaa7ef8a",
   "metadata": {},
   "outputs": [
    {
     "data": {
      "text/plain": [
       "(0.1, 1000)"
      ]
     },
     "execution_count": 54,
     "metadata": {},
     "output_type": "execute_result"
    },
    {
     "data": {
      "image/png": "[encoded data removed]",
      "text/plain": [
       "<Figure size 640x480 with 1 Axes>"
      ]
     },
     "metadata": {},
     "output_type": "display_data"
    }
   ],
   "source": [
    "das = get_corrected_charge_v(dom_pos, q_exp, loss_pos, track_pos, track_dir_xyz)\n",
    "corr_q = das * q_tot\n",
    "\n",
    "\n",
    "fig, ax = plt.subplots()\n",
    "plt.plot([0.1, 1000], [0.1, 1000], color='black', linestyle='dashed')\n",
    "plt.scatter(q_tot, corr_q, s=5, alpha=0.2, color='red')\n",
    "plt.xlabel('q_tot')\n",
    "plt.ylabel('q_tot_corr')\n",
    "plt.yscale('log')\n",
    "plt.xscale('log')\n",
    "plt.ylim([0.1, 10**3])\n",
    "plt.xlim([0.1, 10**3])"
   ]
  },
  {
   "cell_type": "code",
   "execution_count": 55,
   "id": "82c1677c-f155-46e0-9af0-1f87ef90fb3b",
   "metadata": {},
   "outputs": [
    {
     "data": {
      "text/plain": [
       "[<matplotlib.lines.Line2D at 0x704061e90bd0>]"
      ]
     },
     "execution_count": 55,
     "metadata": {},
     "output_type": "execute_result"
    },
    {
     "data": {
      "image/png": "[encoded data removed]",
      "text/plain": [
       "<Figure size 640x480 with 1 Axes>"
      ]
     },
     "metadata": {},
     "output_type": "display_data"
    }
   ],
   "source": [
    "xvals = np.linspace(-140, 40, 100)\n",
    "yvals = asym_gaussian(xvals, 6, 1)\n",
    "plt.plot(xvals, yvals)"
   ]
  },
  {
   "cell_type": "code",
   "execution_count": 56,
   "id": "ab5129c5-2fcd-4c81-a2d0-04c7cd105f71",
   "metadata": {},
   "outputs": [],
   "source": [
    "from lib.simdata_i3 import I3SimHandler\n",
    "import sys, os"
   ]
  },
  {
   "cell_type": "code",
   "execution_count": 13,
   "id": "37a4c010-8c07-4353-8a8a-f4e209bd5723",
   "metadata": {},
   "outputs": [],
   "source": [
    "bp = '/home/storage2/hans/i3files/alerts/bfrv2/'\n",
    "sim_handler = I3SimHandler(os.path.join(bp, 'meta_ds_event_1722_N100_from_0_to_100_1st_pulse_charge_correction.ftr'),\n",
    "                              os.path.join(bp, 'pulses_ds_event_1722_N100_from_0_to_100_1st_pulse_charge_correction.ftr'),\n",
    "                              '/home/storage/hans/jax_reco/data/icecube/detector_geometry.csv')"
   ]
  },
  {
   "cell_type": "code",
   "execution_count": 14,
   "id": "092a25ae-36c2-4c5c-b779-363efa7e9b41",
   "metadata": {},
   "outputs": [
    {
     "name": "stdout",
     "output_type": "stream",
     "text": [
      "muon energy: nan TeV\n"
     ]
    },
    {
     "ename": "KeyError",
     "evalue": "\"['corrected_charge'] not in index\"",
     "output_type": "error",
     "traceback": [
      "\u001b[0;31m---------------------------------------------------------------------------\u001b[0m",
      "\u001b[0;31mKeyError\u001b[0m                                  Traceback (most recent call last)",
      "Cell \u001b[0;32mIn[14], line 8\u001b[0m\n\u001b[1;32m      6\u001b[0m \u001b[38;5;66;03m# Get dom locations, first hit times, and total charges (for each dom).\u001b[39;00m\n\u001b[1;32m      7\u001b[0m event_data \u001b[38;5;241m=\u001b[39m sim_handler\u001b[38;5;241m.\u001b[39mget_per_dom_summary_from_sim_data(meta, pulses)\n\u001b[0;32m----> 8\u001b[0m event_data_corr \u001b[38;5;241m=\u001b[39m \u001b[43msim_handler\u001b[49m\u001b[38;5;241;43m.\u001b[39;49m\u001b[43mget_per_dom_summary_from_sim_data\u001b[49m\u001b[43m(\u001b[49m\u001b[43mmeta\u001b[49m\u001b[43m,\u001b[49m\u001b[43m \u001b[49m\u001b[43mpulses\u001b[49m\u001b[43m,\u001b[49m\u001b[43m \u001b[49m\u001b[43mcharge_key\u001b[49m\u001b[43m \u001b[49m\u001b[38;5;241;43m=\u001b[39;49m\u001b[43m \u001b[49m\u001b[38;5;124;43m'\u001b[39;49m\u001b[38;5;124;43mcorrected_charge\u001b[39;49m\u001b[38;5;124;43m'\u001b[39;49m\u001b[43m)\u001b[49m\n",
      "File \u001b[0;32m/home/storage/hans/jax_reco_new/lib/simdata_i3.py:37\u001b[0m, in \u001b[0;36mI3SimHandler.get_per_dom_summary_from_sim_data\u001b[0;34m(self, meta, pulses, charge_key)\u001b[0m\n\u001b[1;32m     36\u001b[0m \u001b[38;5;28;01mdef\u001b[39;00m \u001b[38;5;21mget_per_dom_summary_from_sim_data\u001b[39m(\u001b[38;5;28mself\u001b[39m, meta: pd\u001b[38;5;241m.\u001b[39mDataFrame, pulses: pd\u001b[38;5;241m.\u001b[39mDataFrame, charge_key\u001b[38;5;241m=\u001b[39m\u001b[38;5;124m'\u001b[39m\u001b[38;5;124mcharge\u001b[39m\u001b[38;5;124m'\u001b[39m) \u001b[38;5;241m-\u001b[39m\u001b[38;5;241m>\u001b[39m pd\u001b[38;5;241m.\u001b[39mDataFrame:\n\u001b[0;32m---> 37\u001b[0m     df_qtot \u001b[38;5;241m=\u001b[39m \u001b[43mpulses\u001b[49m\u001b[43m[\u001b[49m\u001b[43m[\u001b[49m\u001b[38;5;124;43m'\u001b[39;49m\u001b[38;5;124;43msensor_id\u001b[39;49m\u001b[38;5;124;43m'\u001b[39;49m\u001b[43m,\u001b[49m\u001b[43m \u001b[49m\u001b[43mcharge_key\u001b[49m\u001b[43m]\u001b[49m\u001b[43m]\u001b[49m\u001b[38;5;241m.\u001b[39mgroupby(by\u001b[38;5;241m=\u001b[39m[\u001b[38;5;124m'\u001b[39m\u001b[38;5;124msensor_id\u001b[39m\u001b[38;5;124m'\u001b[39m], as_index\u001b[38;5;241m=\u001b[39m\u001b[38;5;28;01mFalse\u001b[39;00m)\u001b[38;5;241m.\u001b[39msum()\n\u001b[1;32m     38\u001b[0m     df_tmin \u001b[38;5;241m=\u001b[39m pulses[[\u001b[38;5;124m'\u001b[39m\u001b[38;5;124msensor_id\u001b[39m\u001b[38;5;124m'\u001b[39m, \u001b[38;5;124m'\u001b[39m\u001b[38;5;124mtime\u001b[39m\u001b[38;5;124m'\u001b[39m]]\u001b[38;5;241m.\u001b[39mgroupby(by\u001b[38;5;241m=\u001b[39m[\u001b[38;5;124m'\u001b[39m\u001b[38;5;124msensor_id\u001b[39m\u001b[38;5;124m'\u001b[39m], as_index\u001b[38;5;241m=\u001b[39m\u001b[38;5;28;01mFalse\u001b[39;00m)\u001b[38;5;241m.\u001b[39mmin()\n\u001b[1;32m     39\u001b[0m     df \u001b[38;5;241m=\u001b[39m df_qtot\u001b[38;5;241m.\u001b[39mmerge(\u001b[38;5;28mself\u001b[39m\u001b[38;5;241m.\u001b[39mgeo\u001b[38;5;241m.\u001b[39miloc[df_qtot[\u001b[38;5;124m'\u001b[39m\u001b[38;5;124msensor_id\u001b[39m\u001b[38;5;124m'\u001b[39m]], on\u001b[38;5;241m=\u001b[39m\u001b[38;5;124m'\u001b[39m\u001b[38;5;124msensor_id\u001b[39m\u001b[38;5;124m'\u001b[39m, how\u001b[38;5;241m=\u001b[39m\u001b[38;5;124m'\u001b[39m\u001b[38;5;124mouter\u001b[39m\u001b[38;5;124m'\u001b[39m)\n",
      "File \u001b[0;32m~/.local/share/virtualenvs/py3_jax_latest-mr9UFGRS/lib/python3.11/site-packages/pandas/core/frame.py:4108\u001b[0m, in \u001b[0;36mDataFrame.__getitem__\u001b[0;34m(self, key)\u001b[0m\n\u001b[1;32m   4106\u001b[0m     \u001b[38;5;28;01mif\u001b[39;00m is_iterator(key):\n\u001b[1;32m   4107\u001b[0m         key \u001b[38;5;241m=\u001b[39m \u001b[38;5;28mlist\u001b[39m(key)\n\u001b[0;32m-> 4108\u001b[0m     indexer \u001b[38;5;241m=\u001b[39m \u001b[38;5;28;43mself\u001b[39;49m\u001b[38;5;241;43m.\u001b[39;49m\u001b[43mcolumns\u001b[49m\u001b[38;5;241;43m.\u001b[39;49m\u001b[43m_get_indexer_strict\u001b[49m\u001b[43m(\u001b[49m\u001b[43mkey\u001b[49m\u001b[43m,\u001b[49m\u001b[43m \u001b[49m\u001b[38;5;124;43m\"\u001b[39;49m\u001b[38;5;124;43mcolumns\u001b[39;49m\u001b[38;5;124;43m\"\u001b[39;49m\u001b[43m)\u001b[49m[\u001b[38;5;241m1\u001b[39m]\n\u001b[1;32m   4110\u001b[0m \u001b[38;5;66;03m# take() does not accept boolean indexers\u001b[39;00m\n\u001b[1;32m   4111\u001b[0m \u001b[38;5;28;01mif\u001b[39;00m \u001b[38;5;28mgetattr\u001b[39m(indexer, \u001b[38;5;124m\"\u001b[39m\u001b[38;5;124mdtype\u001b[39m\u001b[38;5;124m\"\u001b[39m, \u001b[38;5;28;01mNone\u001b[39;00m) \u001b[38;5;241m==\u001b[39m \u001b[38;5;28mbool\u001b[39m:\n",
      "File \u001b[0;32m~/.local/share/virtualenvs/py3_jax_latest-mr9UFGRS/lib/python3.11/site-packages/pandas/core/indexes/base.py:6200\u001b[0m, in \u001b[0;36mIndex._get_indexer_strict\u001b[0;34m(self, key, axis_name)\u001b[0m\n\u001b[1;32m   6197\u001b[0m \u001b[38;5;28;01melse\u001b[39;00m:\n\u001b[1;32m   6198\u001b[0m     keyarr, indexer, new_indexer \u001b[38;5;241m=\u001b[39m \u001b[38;5;28mself\u001b[39m\u001b[38;5;241m.\u001b[39m_reindex_non_unique(keyarr)\n\u001b[0;32m-> 6200\u001b[0m \u001b[38;5;28;43mself\u001b[39;49m\u001b[38;5;241;43m.\u001b[39;49m\u001b[43m_raise_if_missing\u001b[49m\u001b[43m(\u001b[49m\u001b[43mkeyarr\u001b[49m\u001b[43m,\u001b[49m\u001b[43m \u001b[49m\u001b[43mindexer\u001b[49m\u001b[43m,\u001b[49m\u001b[43m \u001b[49m\u001b[43maxis_name\u001b[49m\u001b[43m)\u001b[49m\n\u001b[1;32m   6202\u001b[0m keyarr \u001b[38;5;241m=\u001b[39m \u001b[38;5;28mself\u001b[39m\u001b[38;5;241m.\u001b[39mtake(indexer)\n\u001b[1;32m   6203\u001b[0m \u001b[38;5;28;01mif\u001b[39;00m \u001b[38;5;28misinstance\u001b[39m(key, Index):\n\u001b[1;32m   6204\u001b[0m     \u001b[38;5;66;03m# GH 42790 - Preserve name from an Index\u001b[39;00m\n",
      "File \u001b[0;32m~/.local/share/virtualenvs/py3_jax_latest-mr9UFGRS/lib/python3.11/site-packages/pandas/core/indexes/base.py:6252\u001b[0m, in \u001b[0;36mIndex._raise_if_missing\u001b[0;34m(self, key, indexer, axis_name)\u001b[0m\n\u001b[1;32m   6249\u001b[0m     \u001b[38;5;28;01mraise\u001b[39;00m \u001b[38;5;167;01mKeyError\u001b[39;00m(\u001b[38;5;124mf\u001b[39m\u001b[38;5;124m\"\u001b[39m\u001b[38;5;124mNone of [\u001b[39m\u001b[38;5;132;01m{\u001b[39;00mkey\u001b[38;5;132;01m}\u001b[39;00m\u001b[38;5;124m] are in the [\u001b[39m\u001b[38;5;132;01m{\u001b[39;00maxis_name\u001b[38;5;132;01m}\u001b[39;00m\u001b[38;5;124m]\u001b[39m\u001b[38;5;124m\"\u001b[39m)\n\u001b[1;32m   6251\u001b[0m not_found \u001b[38;5;241m=\u001b[39m \u001b[38;5;28mlist\u001b[39m(ensure_index(key)[missing_mask\u001b[38;5;241m.\u001b[39mnonzero()[\u001b[38;5;241m0\u001b[39m]]\u001b[38;5;241m.\u001b[39munique())\n\u001b[0;32m-> 6252\u001b[0m \u001b[38;5;28;01mraise\u001b[39;00m \u001b[38;5;167;01mKeyError\u001b[39;00m(\u001b[38;5;124mf\u001b[39m\u001b[38;5;124m\"\u001b[39m\u001b[38;5;132;01m{\u001b[39;00mnot_found\u001b[38;5;132;01m}\u001b[39;00m\u001b[38;5;124m not in index\u001b[39m\u001b[38;5;124m\"\u001b[39m)\n",
      "\u001b[0;31mKeyError\u001b[0m: \"['corrected_charge'] not in index\""
     ]
    }
   ],
   "source": [
    "event_index = 50\n",
    "\n",
    "meta, pulses = sim_handler.get_event_data(event_index)\n",
    "print(f\"muon energy: {meta['muon_energy_at_detector']/1.e3:.1f} TeV\")\n",
    "\n",
    "# Get dom locations, first hit times, and total charges (for each dom).\n",
    "event_data = sim_handler.get_per_dom_summary_from_sim_data(meta, pulses)\n",
    "event_data_corr = sim_handler.get_per_dom_summary_from_sim_data(meta, pulses, charge_key = 'corrected_charge')"
   ]
  },
  {
   "cell_type": "code",
   "execution_count": null,
   "id": "861468c1-20cc-4086-bd57-5671065c096e",
   "metadata": {},
   "outputs": [],
   "source": [
    "print(event_data_corr)"
   ]
  },
  {
   "cell_type": "code",
   "execution_count": null,
   "id": "0f5ab7f8-db75-4cd3-97c3-186a4cef92e5",
   "metadata": {},
   "outputs": [],
   "source": [
    "fig, ax = plt.subplots()\n",
    "plt.plot([0.1, 1000], [0.1, 1000], color='black', linestyle='dashed')\n",
    "plt.scatter(event_data['charge'], np.clip(event_data_corr['charge'], a_min=1.0, a_max=None), s=5, alpha=0.2, color='red')\n",
    "plt.xlabel('q_tot')\n",
    "plt.ylabel('q_tot_corr')\n",
    "plt.yscale('log')\n",
    "plt.xscale('log')\n",
    "plt.ylim([0.1, 10**3])\n",
    "plt.xlim([0.1, 10**3])"
   ]
  },
  {
   "cell_type": "code",
   "execution_count": null,
   "id": "a9a0bfa5-605f-4125-8148-16c9f0e9e580",
   "metadata": {},
   "outputs": [],
   "source": []
  },
  {
   "cell_type": "code",
   "execution_count": null,
   "id": "ff918e27-c925-403a-a904-f9179e1375bf",
   "metadata": {},
   "outputs": [],
   "source": []
  }
 ],
 "metadata": {
  "kernelspec": {
   "display_name": "Python 3 (ipykernel)",
   "language": "python",
   "name": "python3"
  },
  "language_info": {
   "codemirror_mode": {
    "name": "ipython",
    "version": 3
   },
   "file_extension": ".py",
   "mimetype": "text/x-python",
   "name": "python",
   "nbconvert_exporter": "python",
   "pygments_lexer": "ipython3",
   "version": "3.11.5"
  }
 },
 "nbformat": 4,
 "nbformat_minor": 5
}
