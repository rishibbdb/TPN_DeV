{
 "cells": [
  {
   "cell_type": "code",
   "execution_count": 1,
   "id": "ae333ff6-d437-415c-acf6-e2ed0870a60e",
   "metadata": {},
   "outputs": [],
   "source": [
    "import sys, os\n",
    "sys.path.insert(0, \"/home/storage/hans/jax_reco_new\")\n",
    "os.environ['CUDA_VISIBLE_DEVICES'] = '0'\n",
    "\n",
    "import jax.numpy as jnp\n",
    "from jax.scipy import optimize\n",
    "import jax\n",
    "jax.config.update(\"jax_enable_x64\", True)\n",
    "\n",
    "import tensorflow as tf\n",
    "\n",
    "import pandas as pd\n",
    "import numpy as np\n",
    "import matplotlib.pyplot as plt\n",
    "\n",
    "from lib.simdata_i3 import I3SimHandlerFtr, I3SimBatchHandler\n",
    "from lib.geo import center_track_pos_and_time_based_on_data\n",
    "from lib.experimental_methods import remove_early_pulses\n",
    "\n",
    "from lib.network import get_network_eval_v_fn\n",
    "from dom_track_eval import get_eval_network_doms_and_track"
   ]
  },
  {
   "cell_type": "code",
   "execution_count": 2,
   "id": "a8db1da4-2d50-4704-8430-060e182196a5",
   "metadata": {},
   "outputs": [],
   "source": [
    "# Get an IceCube event.\n",
    "bp = '/home/storage2/hans/i3files/21217'\n",
    "sim_handler = I3SimHandlerFtr(os.path.join(bp, 'meta_ds_21217_from_35000_to_53530.ftr'),\n",
    "                              os.path.join(bp, 'pulses_ds_21217_from_35000_to_53530.ftr'),\n",
    "                              '/home/storage/hans/jax_reco/data/icecube/detector_geometry.csv')"
   ]
  },
  {
   "cell_type": "code",
   "execution_count": 3,
   "id": "42124ae0-a9d3-41b5-b08b-bdd5fddeee34",
   "metadata": {},
   "outputs": [],
   "source": [
    "dtype = jnp.float32\n",
    "eval_network_v = get_network_eval_v_fn(bpath='/home/storage/hans/jax_reco/data/network', dtype=dtype)\n",
    "eval_network_doms_and_track = get_eval_network_doms_and_track(eval_network_v, dtype=dtype)"
   ]
  },
  {
   "cell_type": "code",
   "execution_count": 4,
   "id": "85a63ce2-1d84-44c3-b5d2-5467a28b4aba",
   "metadata": {},
   "outputs": [],
   "source": [
    "batch_maker = I3SimBatchHandler(sim_handler, batch_size=256)"
   ]
  },
  {
   "cell_type": "code",
   "execution_count": 16,
   "id": "22526e9d-4050-4822-8e63-5c6a81c65b1e",
   "metadata": {},
   "outputs": [],
   "source": [
    "batch_iter = batch_maker.get_batch_iterator()"
   ]
  },
  {
   "cell_type": "code",
   "execution_count": 22,
   "id": "e9129efc-f0bf-47d8-9a34-029e7f906d45",
   "metadata": {},
   "outputs": [
    {
     "name": "stdout",
     "output_type": "stream",
     "text": [
      "(236, 57, 5)\n"
     ]
    }
   ],
   "source": [
    "data, mctruth = batch_iter.next()\n",
    "orig_length = data.shape[1]\n",
    "\n",
    "data = jnp.array(data.numpy())\n",
    "mctruth = jnp.array(mctruth.numpy())\n",
    "print(data.shape)"
   ]
  },
  {
   "cell_type": "code",
   "execution_count": 23,
   "id": "7ad9eb0e-314e-4bad-b71e-62146f3b0ae8",
   "metadata": {},
   "outputs": [
    {
     "name": "stdout",
     "output_type": "stream",
     "text": [
      "(57, 5)\n",
      "(14,)\n"
     ]
    }
   ],
   "source": [
    "idx = 4\n",
    "d = data[idx]\n",
    "t = mctruth[idx]\n",
    "print(d.shape)\n",
    "print(t.shape)"
   ]
  },
  {
   "cell_type": "code",
   "execution_count": 24,
   "id": "057b6141-11ee-40e6-bdc5-d030a2d02eec",
   "metadata": {},
   "outputs": [
    {
     "name": "stdout",
     "output_type": "stream",
     "text": [
      "[1.7120085  1.97806303]\n",
      "8206.210111467168\n",
      "[ 20.75878096 758.2919048  189.86856164]\n"
     ]
    }
   ],
   "source": [
    "track_src = t[2:4]\n",
    "track_time = t[4]\n",
    "track_pos = t[5:8]\n",
    "print(track_src)\n",
    "print(track_time)\n",
    "print(track_pos)"
   ]
  },
  {
   "cell_type": "code",
   "execution_count": 25,
   "id": "f39dc461-a033-4412-95a7-a181296f0dc1",
   "metadata": {},
   "outputs": [],
   "source": [
    "d_clean = remove_early_pulses(eval_network_doms_and_track, \n",
    "                              d, \n",
    "                              track_pos, \n",
    "                              track_src, \n",
    "                              track_time)"
   ]
  },
  {
   "cell_type": "code",
   "execution_count": 26,
   "id": "42f628bf-cb45-4649-858b-b0c3cdab0bea",
   "metadata": {},
   "outputs": [
    {
     "name": "stdout",
     "output_type": "stream",
     "text": [
      "(47, 5)\n",
      "[2.21100000e+01 5.09500000e+02 1.64250000e+02 9.66500000e+03\n",
      " 9.25000012e-01]\n"
     ]
    }
   ],
   "source": [
    "print(d_clean.shape)\n",
    "print(d_clean[-1])"
   ]
  },
  {
   "cell_type": "code",
   "execution_count": 27,
   "id": "4a68db31-9046-4bf1-8569-02855219380f",
   "metadata": {},
   "outputs": [],
   "source": [
    "#d_clean_padded = jnp.pad(d_clean, ((0, orig_length-d_clean.shape[0]), (0, 0)))"
   ]
  },
  {
   "cell_type": "code",
   "execution_count": 28,
   "id": "86de43aa-3e16-4b3e-a876-d4871e1e9135",
   "metadata": {},
   "outputs": [],
   "source": [
    "def get_clean_pulses_fn(eval_network_doms_and_track_fn, orig_length):\n",
    "    \n",
    "    def clean_pulses(data, mctruth):\n",
    "        track_src = mctruth[2:4]\n",
    "        track_time = mctruth[4]\n",
    "        track_pos = mctruth[5:8]\n",
    "        \n",
    "        crit = -60.0\n",
    "        _, _, _, geo_times = eval_network_doms_and_track_fn(data[:,:3], track_pos, track_src)\n",
    "        delay_times = data[:, 3] - geo_times - track_time\n",
    "        print(jnp.sort(delay_times))\n",
    "        idx = delay_times > crit\n",
    "        idx = idx.reshape((orig_length, 1))\n",
    "        data_clean = jnp.where(idx, data, jnp.zeros((1,5)))\n",
    "        return data_clean\n",
    "\n",
    "    return clean_pulses"
   ]
  },
  {
   "cell_type": "code",
   "execution_count": 29,
   "id": "bb40f92d-ab95-411d-81dd-dfe12692370b",
   "metadata": {},
   "outputs": [],
   "source": [
    "clean_pulses = get_clean_pulses_fn(eval_network_doms_and_track, orig_length)"
   ]
  },
  {
   "cell_type": "code",
   "execution_count": 30,
   "id": "13b0682d-1baa-4452-b626-6a9cff59f27f",
   "metadata": {},
   "outputs": [],
   "source": [
    "clean_pulses_v = jax.jit(jax.vmap(clean_pulses, (0, 0), 0))"
   ]
  },
  {
   "cell_type": "code",
   "execution_count": 31,
   "id": "d7845124-c3bf-405f-b9dd-0a922af9da11",
   "metadata": {},
   "outputs": [
    {
     "name": "stdout",
     "output_type": "stream",
     "text": [
      "[-1.16316073e+04 -1.16316073e+04 -1.16316073e+04 -1.16316073e+04\n",
      " -1.16316073e+04 -1.16316073e+04 -1.16316073e+04 -1.16316073e+04\n",
      " -1.16316073e+04 -1.33882909e+03 -1.85382945e+00  7.62886007e-01\n",
      "  8.73802628e+00  1.50349678e+01  1.62934540e+01  1.66266386e+01\n",
      "  2.24385368e+01  2.27390636e+01  3.37424154e+01  3.50367533e+01\n",
      "  3.63990126e+01  4.40033054e+01  4.42291976e+01  8.85481632e+01\n",
      "  1.07817373e+02  1.10189252e+02  1.10336044e+02  1.41077954e+02\n",
      "  1.78449127e+02  2.05628962e+02  2.10135217e+02  2.38654421e+02\n",
      "  2.56049653e+02  2.67245843e+02  3.45848528e+02  3.86403356e+02\n",
      "  3.90185580e+02  3.97665303e+02  4.05512550e+02  4.73953967e+02\n",
      "  4.89887398e+02  5.43740809e+02  5.89941030e+02  5.99871643e+02\n",
      "  6.12891840e+02  6.68987429e+02  7.05525014e+02  7.11693031e+02\n",
      "  7.57015641e+02  7.61952042e+02  7.64525147e+02  7.70616666e+02\n",
      "  7.88048578e+02  8.12769271e+02  9.33431486e+02  1.36167439e+03\n",
      "  1.58418850e+03]\n",
      "(57, 5)\n",
      "[[2.21100000e+01 5.09500000e+02 1.64250000e+02 9.66500000e+03\n",
      "  9.25000012e-01]\n",
      " [0.00000000e+00 0.00000000e+00 0.00000000e+00 0.00000000e+00\n",
      "  0.00000000e+00]\n",
      " [0.00000000e+00 0.00000000e+00 0.00000000e+00 0.00000000e+00\n",
      "  0.00000000e+00]\n",
      " [0.00000000e+00 0.00000000e+00 0.00000000e+00 0.00000000e+00\n",
      "  0.00000000e+00]\n",
      " [0.00000000e+00 0.00000000e+00 0.00000000e+00 0.00000000e+00\n",
      "  0.00000000e+00]\n",
      " [0.00000000e+00 0.00000000e+00 0.00000000e+00 0.00000000e+00\n",
      "  0.00000000e+00]\n",
      " [0.00000000e+00 0.00000000e+00 0.00000000e+00 0.00000000e+00\n",
      "  0.00000000e+00]\n",
      " [0.00000000e+00 0.00000000e+00 0.00000000e+00 0.00000000e+00\n",
      "  0.00000000e+00]\n",
      " [0.00000000e+00 0.00000000e+00 0.00000000e+00 0.00000000e+00\n",
      "  0.00000000e+00]\n",
      " [0.00000000e+00 0.00000000e+00 0.00000000e+00 0.00000000e+00\n",
      "  0.00000000e+00]]\n"
     ]
    }
   ],
   "source": [
    "d_clean_padded = clean_pulses(d, t)\n",
    "print(d_clean_padded.shape)\n",
    "print(d_clean_padded[-10:])"
   ]
  },
  {
   "cell_type": "code",
   "execution_count": 32,
   "id": "09fdba51-8db6-465a-ab11-a9c1d1c207bc",
   "metadata": {},
   "outputs": [
    {
     "name": "stdout",
     "output_type": "stream",
     "text": [
      "Traced<ShapedArray(float64[57])>with<BatchTrace(level=2/0)> with\n",
      "  val = Traced<ShapedArray(float64[236,57])>with<DynamicJaxprTrace(level=1/0)>\n",
      "  batch_dim = 0\n"
     ]
    }
   ],
   "source": [
    "data_clean_padded = clean_pulses_v(data, mctruth)"
   ]
  },
  {
   "cell_type": "code",
   "execution_count": 33,
   "id": "86276503-b905-4f5e-a49d-6f59f035c529",
   "metadata": {},
   "outputs": [
    {
     "data": {
      "text/plain": [
       "(236, 57, 5)"
      ]
     },
     "execution_count": 33,
     "metadata": {},
     "output_type": "execute_result"
    }
   ],
   "source": [
    "data_clean_padded.shape"
   ]
  },
  {
   "cell_type": "code",
   "execution_count": 34,
   "id": "75789708-e2a5-4b3f-b031-635185516390",
   "metadata": {},
   "outputs": [],
   "source": [
    "from likelihood_spe_batched import get_neg_c_triple_gamma_llh\n",
    "from lib.geo import get_xyz_from_zenith_azimuth, __c"
   ]
  },
  {
   "cell_type": "code",
   "execution_count": 35,
   "id": "428e56d1-f006-4d3a-8f01-4f1f8774a9c7",
   "metadata": {},
   "outputs": [],
   "source": [
    "def center_track_pos_and_time_based_on_data(data, mctruth):\n",
    "    track_dir = mctruth[2:4]\n",
    "    track_time = mctruth[4]\n",
    "    track_pos = mctruth[5:8]\n",
    "    \n",
    "    track_dir_xyz = get_xyz_from_zenith_azimuth(track_dir)\n",
    "    charge = data[:, 4]\n",
    "    time = data[:, 3]\n",
    "    \n",
    "    centered_track_time = np.sum(charge * time) / np.sum(charge)\n",
    "    centered_track_pos = track_pos + (centered_track_time - track_time) * __c * track_dir_xyz\n",
    "    return jnp.array(centered_track_pos), jnp.float64(centered_track_time)\n",
    "\n",
    "center_track_pos_and_time_based_on_data_v = jax.jit(jax.vmap(center_track_pos_and_time_based_on_data,\n",
    "                                                            (0, 0),\n",
    "                                                            (0, 0)))"
   ]
  },
  {
   "cell_type": "code",
   "execution_count": 36,
   "id": "400dce6c-085b-4779-814f-6c7c831c2176",
   "metadata": {},
   "outputs": [],
   "source": [
    "centered_track_pos, centered_track_time = center_track_pos_and_time_based_on_data(\n",
    "    d_clean_padded, t\n",
    ")"
   ]
  },
  {
   "cell_type": "code",
   "execution_count": 37,
   "id": "89501f9b-96cb-4057-9185-32d858d680ed",
   "metadata": {},
   "outputs": [
    {
     "data": {
      "text/plain": [
       "(Array([267.12260953, 187.19279924, 278.2870948 ], dtype=float64),\n",
       " Array(10301.74450454, dtype=float64))"
      ]
     },
     "execution_count": 37,
     "metadata": {},
     "output_type": "execute_result"
    }
   ],
   "source": [
    "centered_track_pos, centered_track_time"
   ]
  },
  {
   "cell_type": "code",
   "execution_count": 38,
   "id": "1b0dfd57-7e5c-4ad5-bb1d-cf37137f7cd2",
   "metadata": {},
   "outputs": [],
   "source": [
    "neg_llh = get_neg_c_triple_gamma_llh(eval_network_doms_and_track)"
   ]
  },
  {
   "cell_type": "code",
   "execution_count": 39,
   "id": "d0b14a9f-5af1-4d45-b8de-e1519c48725a",
   "metadata": {},
   "outputs": [
    {
     "name": "stdout",
     "output_type": "stream",
     "text": [
      "608.084529079064\n"
     ]
    }
   ],
   "source": [
    "print(neg_llh(track_src, centered_track_pos, centered_track_time, d_clean_padded))"
   ]
  },
  {
   "cell_type": "code",
   "execution_count": 40,
   "id": "b17dbb66-1bc4-4803-bf17-b9163a1101a3",
   "metadata": {},
   "outputs": [],
   "source": [
    "centered_track_positions, centered_track_times = center_track_pos_and_time_based_on_data_v(\n",
    "    data_clean_padded, mctruth)"
   ]
  },
  {
   "cell_type": "code",
   "execution_count": 41,
   "id": "c6f91afe-df4f-4b4f-91bb-599d03b80a4f",
   "metadata": {},
   "outputs": [
    {
     "name": "stdout",
     "output_type": "stream",
     "text": [
      "[267.12260953 187.19279924 278.2870948 ]\n"
     ]
    }
   ],
   "source": [
    "print(centered_track_positions[4])"
   ]
  },
  {
   "cell_type": "code",
   "execution_count": 42,
   "id": "b66526cc-e0d8-4675-8c78-9f7d6ff10f1e",
   "metadata": {},
   "outputs": [],
   "source": [
    "import optimistix as optx \n",
    "\n",
    "scale = 20.0\n",
    "@jax.jit\n",
    "def neg_llh_5D(x, args):\n",
    "        centered_track_time = args[0]\n",
    "        fitting_event_data = args[1]\n",
    "\t\t# project back if outside of [0, pi] x [0, 2*pi]\n",
    "        zenith = x[0] / scale\n",
    "        azimuth = x[1] / scale\n",
    "        zenith = jnp.fmod(zenith, 2.0*jnp.pi)\n",
    "        zenith = jnp.where(zenith < 0, zenith+2.0*jnp.pi, zenith)\n",
    "        cond = zenith > jnp.pi\n",
    "        zenith = jnp.where(cond, -1.0*zenith+2.0*jnp.pi, zenith)\n",
    "        azimuth = jnp.where(cond, azimuth-jnp.pi, azimuth)\n",
    "\n",
    "        azimuth = jnp.fmod(azimuth, 2.0*jnp.pi)\n",
    "        azimuth = jnp.where(azimuth < 0, azimuth+2.0*jnp.pi, azimuth)\n",
    "\n",
    "        projected_dir = jnp.array([zenith, azimuth])\n",
    "        return neg_llh(projected_dir, x[2:]*scale, centered_track_time, fitting_event_data)"
   ]
  },
  {
   "cell_type": "code",
   "execution_count": 43,
   "id": "31d09d10-efe3-49d5-a4b4-5dc55225e297",
   "metadata": {},
   "outputs": [],
   "source": [
    "args=[centered_track_time, d_clean_padded]\n",
    "solver = optx.BFGS(rtol=1e-7, atol=1e-3, use_inverse=True)\n",
    "x0 = jnp.concatenate([track_src*scale, centered_track_pos/scale])\n",
    "best_x = optx.minimise(neg_llh_5D, solver, x0, args=args).value\n",
    "best_logl = neg_llh_5D(best_x, args=args)"
   ]
  },
  {
   "cell_type": "code",
   "execution_count": 44,
   "id": "8360a425-2825-43dc-8fdd-0872b1243121",
   "metadata": {},
   "outputs": [
    {
     "name": "stdout",
     "output_type": "stream",
     "text": [
      "597.523655243718\n"
     ]
    }
   ],
   "source": [
    "print(best_logl)"
   ]
  },
  {
   "cell_type": "code",
   "execution_count": 45,
   "id": "4fafa542-bfee-458b-a6e1-a7015c802091",
   "metadata": {},
   "outputs": [],
   "source": [
    "def optimize_one_event(data, track_src, centered_track_time, centered_track_pos):\n",
    "    args=[centered_track_time, data]\n",
    "    solver = optx.BFGS(rtol=1e-7, atol=1e-3, use_inverse=True)\n",
    "    x0 = jnp.concatenate([track_src*scale, centered_track_pos/scale])\n",
    "    best_x = optx.minimise(neg_llh_5D, solver, x0, args=args).value\n",
    "    best_logl = neg_llh_5D(best_x, args=args)\n",
    "    return best_logl, best_x"
   ]
  },
  {
   "cell_type": "code",
   "execution_count": 46,
   "id": "806e045d-b700-4968-beb4-48b29a8e516b",
   "metadata": {},
   "outputs": [],
   "source": [
    "bl, bx = optimize_one_event(d_clean_padded, track_src, centered_track_time, centered_track_pos)"
   ]
  },
  {
   "cell_type": "code",
   "execution_count": 47,
   "id": "8401ff4c-6f58-4471-85f2-84d8c58e9a77",
   "metadata": {},
   "outputs": [
    {
     "name": "stdout",
     "output_type": "stream",
     "text": [
      "597.523655243718 [34.30321955 39.6672538  13.28365175  9.31181204 14.00355037]\n"
     ]
    }
   ],
   "source": [
    "print(bl, bx)"
   ]
  },
  {
   "cell_type": "code",
   "execution_count": 48,
   "id": "8385ab23-3edd-448c-94d6-d1d2b8926d49",
   "metadata": {},
   "outputs": [],
   "source": [
    "optimize_batch = jax.jit(jax.vmap(optimize_one_event, (0, 0, 0, 0), (0, 0)))"
   ]
  },
  {
   "cell_type": "code",
   "execution_count": 49,
   "id": "db44bc67-4dbe-4dec-bea7-10337113d673",
   "metadata": {},
   "outputs": [],
   "source": [
    "track_src_v = mctruth[:, 2:4]\n",
    "bl, bx = optimize_batch(data_clean_padded, track_src_v, centered_track_times, centered_track_positions)"
   ]
  },
  {
   "cell_type": "code",
   "execution_count": 50,
   "id": "12b29b0e-7806-4b5e-a043-4b5413566a65",
   "metadata": {},
   "outputs": [
    {
     "data": {
      "text/plain": [
       "(236,)"
      ]
     },
     "execution_count": 50,
     "metadata": {},
     "output_type": "execute_result"
    }
   ],
   "source": [
    "bl.shape"
   ]
  },
  {
   "cell_type": "code",
   "execution_count": 51,
   "id": "bf287f38-62c0-4aa5-a086-1846fff254f4",
   "metadata": {},
   "outputs": [
    {
     "data": {
      "text/plain": [
       "Array([[ 40.39044758,  36.80280648,  20.1768865 ,   7.98255375,\n",
       "        -11.79971403],\n",
       "       [ 53.31875854, 104.64711352,  -1.25005203,  20.14845988,\n",
       "         -7.8267977 ],\n",
       "       [ 41.14898961,  70.15126523,   7.58854976,  -2.87280113,\n",
       "          2.68714553],\n",
       "       ...,\n",
       "       [ 54.67202049, 104.56433041,  13.51242841, -16.89500909,\n",
       "         10.69555823],\n",
       "       [ 34.12016352, 104.09423053,   5.75724124,  14.34410212,\n",
       "         13.68296215],\n",
       "       [ 32.78091287,  91.42869069,  -7.09815237,  -3.4128863 ,\n",
       "          3.91346566]], dtype=float64)"
      ]
     },
     "execution_count": 51,
     "metadata": {},
     "output_type": "execute_result"
    }
   ],
   "source": [
    "bx"
   ]
  },
  {
   "cell_type": "code",
   "execution_count": 52,
   "id": "253dddce-f165-43f2-9ea7-d7b26e62f7c8",
   "metadata": {},
   "outputs": [
    {
     "name": "stdout",
     "output_type": "stream",
     "text": [
      "1.39 s ± 939 μs per loop (mean ± std. dev. of 7 runs, 1 loop each)\n"
     ]
    }
   ],
   "source": [
    "%timeit optimize_batch(data_clean_padded, track_src_v, centered_track_times, centered_track_positions)"
   ]
  },
  {
   "cell_type": "code",
   "execution_count": 53,
   "id": "358ed811-0b25-46da-9067-a28f515968d5",
   "metadata": {},
   "outputs": [],
   "source": [
    "reco_zenith, reco_azimuth = bx[:, 0]/scale, bx[:, 1]/scale"
   ]
  },
  {
   "cell_type": "code",
   "execution_count": 54,
   "id": "99ed5e19-98f3-46d0-9cef-9c355db4e78d",
   "metadata": {},
   "outputs": [],
   "source": [
    "true_zenith, true_azimuth = track_src_v[:, 0], track_src_v[:, 1]"
   ]
  },
  {
   "cell_type": "code",
   "execution_count": 55,
   "id": "e1f0cfe6-f90a-433f-8f22-b0529558e5d0",
   "metadata": {},
   "outputs": [],
   "source": [
    "smpe_zenith, smpe_azimuth = mctruth[:, 8], mctruth[:, 9]"
   ]
  },
  {
   "cell_type": "code",
   "execution_count": 56,
   "id": "fadbb8f4-dec0-4a94-9503-f035317ff4a2",
   "metadata": {},
   "outputs": [],
   "source": [
    "def GreatCircleDistance(azi_1, zen_1, azi_2, zen_2):\n",
    "        ra_1 = azi_1\n",
    "        ra_2 = azi_2\n",
    "        dec_1 = np.pi/2.0 - zen_1\n",
    "        dec_2 = np.pi/2.0 - zen_2\n",
    "        '''Compute the great circle distance between two events'''\n",
    "        '''All coordinates must be given in radians'''\n",
    "        delta_dec = np.abs(dec_1 - dec_2)\n",
    "        delta_ra = np.abs(ra_1 - ra_2)\n",
    "        x = (np.sin(delta_dec / 2.))**2. + np.cos(dec_1) *\\\n",
    "            np.cos(dec_2) * (np.sin(delta_ra / 2.))**2.\n",
    "        return 2. * np.arcsin(np.sqrt(x))"
   ]
  },
  {
   "cell_type": "code",
   "execution_count": 57,
   "id": "1aec98c2-dccb-4890-813c-bd85327baf4c",
   "metadata": {},
   "outputs": [],
   "source": [
    "gcd = np.rad2deg(GreatCircleDistance(true_azimuth, true_zenith, reco_azimuth, reco_zenith))\n",
    "gcd_smpe = np.rad2deg(GreatCircleDistance(true_azimuth, true_zenith, smpe_azimuth, smpe_zenith))"
   ]
  },
  {
   "cell_type": "code",
   "execution_count": 58,
   "id": "6df34b46-ba43-4ed4-837e-53c6499e478b",
   "metadata": {},
   "outputs": [
    {
     "name": "stdout",
     "output_type": "stream",
     "text": [
      "[0.01198028 0.02509618 0.04177749 0.0584566  0.0686348  0.07227818\n",
      " 0.07412654 0.09216557 0.09401294 0.09669832 0.09850975 0.10413292\n",
      " 0.10445413 0.11194947 0.1126404  0.11456751 0.11960384 0.12348376\n",
      " 0.13769344 0.13983633 0.14799737 0.15210002 0.15256961 0.155399\n",
      " 0.15567128 0.16066522 0.16713155 0.17221817 0.17398392 0.17776383\n",
      " 0.1806782  0.18101297 0.18163116 0.18232149 0.18656734 0.19305381\n",
      " 0.19454796 0.19597413 0.19858761 0.20044683 0.20283234 0.20481345\n",
      " 0.21185282 0.21334916 0.21847711 0.22460822 0.227861   0.22795918\n",
      " 0.23044404 0.23905267 0.24173989 0.24520942 0.25452444 0.25589265\n",
      " 0.27066173 0.27419829 0.28276925 0.28616413 0.28657016 0.30003858\n",
      " 0.30310556 0.30316684 0.30860524 0.31007757 0.31501861 0.33058279\n",
      " 0.34198581 0.3450193  0.34516112 0.34706821 0.3508731  0.35765209\n",
      " 0.35799022 0.36074894 0.36138526 0.37035461 0.37494561 0.37504778\n",
      " 0.37523055 0.37625278 0.37880716 0.39767272 0.3999463  0.4028068\n",
      " 0.40346868 0.40438448 0.40627548 0.41439112 0.4147271  0.41634945\n",
      " 0.41651513 0.41841063 0.42174662 0.43302106 0.43982402 0.43990607\n",
      " 0.44309863 0.44382436 0.44417645 0.44932652 0.45123543 0.45765751\n",
      " 0.45929316 0.4635653  0.46489208 0.46529242 0.47773568 0.48173003\n",
      " 0.4824683  0.48488237 0.48741335 0.48779537 0.48955373 0.49224212\n",
      " 0.49561528 0.49566795 0.49875055 0.49970839 0.49998735 0.5030385\n",
      " 0.50386154 0.52228758 0.52501238 0.52853406 0.54190686 0.54467306\n",
      " 0.55247658 0.56043471 0.56417074 0.56879819 0.57359536 0.57660076\n",
      " 0.59260583 0.59409548 0.59491095 0.59581459 0.59652106 0.60298089\n",
      " 0.61672645 0.6241061  0.63715224 0.64345565 0.64831064 0.64905712\n",
      " 0.65133162 0.65469291 0.66666834 0.66692639 0.69321731 0.7144221\n",
      " 0.71545977 0.71882066 0.71889039 0.72577145 0.72636134 0.73918048\n",
      " 0.74091417 0.74623828 0.74643935 0.75174529 0.75801805 0.76702796\n",
      " 0.76934169 0.77547477 0.81915464 0.83062568 0.83173247 0.84275827\n",
      " 0.8435571  0.84510042 0.85047218 0.85383779 0.87060948 0.88126639\n",
      " 0.88131175 0.88687093 0.91015401 0.91038903 0.91188277 0.91407079\n",
      " 0.92142717 0.94050407 0.96116947 0.97697586 0.99104264 0.99876161\n",
      " 1.0115066  1.02238501 1.04278725 1.09620905 1.10567491 1.14433203\n",
      " 1.14699541 1.15342666 1.16321898 1.16801731 1.17923127 1.21248387\n",
      " 1.22414921 1.22610271 1.26167078 1.3329672  1.33893601 1.34886882\n",
      " 1.35979781 1.36849026 1.43146236 1.43629184 1.45130912 1.47516361\n",
      " 1.48857992 1.56963533 1.5887221  1.62344403 1.64470449 1.66613557\n",
      " 1.70080862 1.70817632 1.72546061 1.7316     1.91201221 1.94839373\n",
      " 1.97871718 2.00528426 2.12297126 2.13473233 2.16991019 2.19056085\n",
      " 2.22585507 2.37816222 2.64317532 2.7326107  2.75607146 3.28714602\n",
      " 3.55683681 3.71651244]\n"
     ]
    }
   ],
   "source": [
    "print(jnp.sort(gcd))"
   ]
  },
  {
   "cell_type": "code",
   "execution_count": 59,
   "id": "3f92cba3-bc44-4a16-aeab-e08544b17ebf",
   "metadata": {},
   "outputs": [],
   "source": [
    "import matplotlib.pyplot as plt"
   ]
  },
  {
   "cell_type": "code",
   "execution_count": 60,
   "id": "b8cbacb1-ec45-45b8-a333-985eca197a49",
   "metadata": {},
   "outputs": [
    {
     "data": {
      "text/plain": [
       "(array([ 3.,  8., 10., 18., 13.,  7., 11., 13., 17., 19.,  7., 11.,  7.,\n",
       "         5., 10.,  5.,  6.,  6.,  6.,  4.]),\n",
       " array([0.  , 0.05, 0.1 , 0.15, 0.2 , 0.25, 0.3 , 0.35, 0.4 , 0.45, 0.5 ,\n",
       "        0.55, 0.6 , 0.65, 0.7 , 0.75, 0.8 , 0.85, 0.9 , 0.95, 1.  ]),\n",
       " <BarContainer object of 20 artists>)"
      ]
     },
     "execution_count": 60,
     "metadata": {},
     "output_type": "execute_result"
    },
    {
     "data": {
      "image/png": "[encoded data removed]",
      "text/plain": [
       "<Figure size 640x480 with 1 Axes>"
      ]
     },
     "metadata": {},
     "output_type": "display_data"
    }
   ],
   "source": [
    "plt.hist(gcd, bins=np.linspace(0.0, 1.0, 21))"
   ]
  },
  {
   "cell_type": "code",
   "execution_count": 61,
   "id": "40804da3-c3ac-4fb3-95f2-6fb0e1ca32e0",
   "metadata": {},
   "outputs": [
    {
     "data": {
      "text/plain": [
       "<matplotlib.collections.PathCollection at 0x7229fda45250>"
      ]
     },
     "execution_count": 61,
     "metadata": {},
     "output_type": "execute_result"
    },
    {
     "data": {
      "image/png": "[encoded data removed]",
      "text/plain": [
       "<Figure size 640x480 with 1 Axes>"
      ]
     },
     "metadata": {},
     "output_type": "display_data"
    }
   ],
   "source": [
    "plt.scatter(jnp.log10(mctruth[:,0]), gcd)"
   ]
  },
  {
   "cell_type": "code",
   "execution_count": 64,
   "id": "cf1a17df-26b3-41c9-8143-fc7c95102104",
   "metadata": {},
   "outputs": [
    {
     "data": {
      "text/plain": [
       "Text(0, 0.5, 'tpn_spe1st [deg]')"
      ]
     },
     "execution_count": 64,
     "metadata": {},
     "output_type": "execute_result"
    },
    {
     "data": {
      "image/png": "[encoded data removed]",
      "text/plain": [
       "<Figure size 640x480 with 1 Axes>"
      ]
     },
     "metadata": {},
     "output_type": "display_data"
    }
   ],
   "source": [
    "plt.scatter(gcd_smpe, gcd, s=5)\n",
    "plt.xlim([0.0, 3.0])\n",
    "plt.ylim([0.0, 3.0])\n",
    "plt.plot([0.0, 3.0], [0.0, 3.0], \"r--\")\n",
    "plt.xlabel(\"spline_mpe [deg]\")\n",
    "plt.ylabel(\"tpn_spe1st [deg]\")"
   ]
  },
  {
   "cell_type": "code",
   "execution_count": 72,
   "id": "458cc8ae-bee6-45ba-a33d-232464592f86",
   "metadata": {},
   "outputs": [
    {
     "data": {
      "image/png": "[encoded data removed]",
      "text/plain": [
       "<Figure size 640x480 with 1 Axes>"
      ]
     },
     "metadata": {},
     "output_type": "display_data"
    }
   ],
   "source": [
    "fig, ax = plt.subplots()\n",
    "bins = np.linspace(0.0, 3.0, 31)\n",
    "ax.hist(gcd_smpe, bins=bins, histtype='step', color='tab:blue', label='spline MPE')\n",
    "ax.hist(gcd_smpe, bins=bins, color='tab:blue', alpha=0.2)\n",
    "ax.hist(gcd, bins=bins, histtype='step', color='tab:orange', label='TPN SPE1st')\n",
    "ax.hist(gcd, bins=bins, color='tab:orange', alpha=0.2)\n",
    "ax.legend()\n",
    "plt.show()"
   ]
  },
  {
   "cell_type": "code",
   "execution_count": null,
   "id": "872e05bd-1d8e-4db1-87de-79ce55c0a51f",
   "metadata": {},
   "outputs": [],
   "source": []
  }
 ],
 "metadata": {
  "kernelspec": {
   "display_name": "Python 3 (ipykernel)",
   "language": "python",
   "name": "python3"
  },
  "language_info": {
   "codemirror_mode": {
    "name": "ipython",
    "version": 3
   },
   "file_extension": ".py",
   "mimetype": "text/x-python",
   "name": "python",
   "nbconvert_exporter": "python",
   "pygments_lexer": "ipython3",
   "version": "3.11.5"
  }
 },
 "nbformat": 4,
 "nbformat_minor": 5
}
