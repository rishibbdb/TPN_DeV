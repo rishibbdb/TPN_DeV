{
 "cells": [
  {
   "cell_type": "code",
   "execution_count": 1,
   "id": "ae333ff6-d437-415c-acf6-e2ed0870a60e",
   "metadata": {},
   "outputs": [],
   "source": [
    "import sys, os\n",
    "sys.path.insert(0, \"/home/storage/hans/jax_reco_new\")\n",
    "os.environ['CUDA_VISIBLE_DEVICES'] = '0'\n",
    "\n",
    "import jax.numpy as jnp\n",
    "from jax.scipy import optimize\n",
    "import jax\n",
    "jax.config.update(\"jax_enable_x64\", True)\n",
    "\n",
    "import tensorflow as tf\n",
    "\n",
    "import pandas as pd\n",
    "import numpy as np\n",
    "import matplotlib.pyplot as plt\n",
    "\n",
    "from lib.simdata_i3 import I3SimHandlerFtr, I3SimBatchHandler\n",
    "from lib.geo import center_track_pos_and_time_based_on_data\n",
    "from lib.experimental_methods import remove_early_pulses\n",
    "\n",
    "from lib.network import get_network_eval_v_fn\n",
    "from dom_track_eval import get_eval_network_doms_and_track"
   ]
  },
  {
   "cell_type": "code",
   "execution_count": 73,
   "id": "a8db1da4-2d50-4704-8430-060e182196a5",
   "metadata": {},
   "outputs": [],
   "source": [
    "# Get an IceCube event.\n",
    "bp = '/home/storage2/hans/i3files/21217'\n",
    "sim_handler = I3SimHandlerFtr(os.path.join(bp, 'meta_ds_21217_from_35000_to_53530_nchannel_50_to_100.ftr'),\n",
    "                              os.path.join(bp, 'pulses_ds_21217_from_35000_to_53530_nchannel_50_to_100.ftr'),\n",
    "                              '/home/storage/hans/jax_reco/data/icecube/detector_geometry.csv')"
   ]
  },
  {
   "cell_type": "code",
   "execution_count": 74,
   "id": "42124ae0-a9d3-41b5-b08b-bdd5fddeee34",
   "metadata": {},
   "outputs": [],
   "source": [
    "dtype = jnp.float32\n",
    "eval_network_v = get_network_eval_v_fn(bpath='/home/storage/hans/jax_reco/data/network', dtype=dtype)\n",
    "eval_network_doms_and_track = get_eval_network_doms_and_track(eval_network_v, dtype=dtype)"
   ]
  },
  {
   "cell_type": "code",
   "execution_count": 75,
   "id": "85a63ce2-1d84-44c3-b5d2-5467a28b4aba",
   "metadata": {},
   "outputs": [],
   "source": [
    "batch_maker = I3SimBatchHandler(sim_handler, batch_size=1024)"
   ]
  },
  {
   "cell_type": "code",
   "execution_count": 116,
   "id": "22526e9d-4050-4822-8e63-5c6a81c65b1e",
   "metadata": {},
   "outputs": [],
   "source": [
    "batch_iter = batch_maker.get_batch_iterator()"
   ]
  },
  {
   "cell_type": "code",
   "execution_count": 121,
   "id": "e9129efc-f0bf-47d8-9a34-029e7f906d45",
   "metadata": {},
   "outputs": [
    {
     "name": "stdout",
     "output_type": "stream",
     "text": [
      "(575, 51, 5)\n"
     ]
    }
   ],
   "source": [
    "data, mctruth = batch_iter.next()\n",
    "orig_length = data.shape[1]\n",
    "\n",
    "data = jnp.array(data.numpy())\n",
    "mctruth = jnp.array(mctruth.numpy())\n",
    "print(data.shape)"
   ]
  },
  {
   "cell_type": "code",
   "execution_count": 122,
   "id": "7ad9eb0e-314e-4bad-b71e-62146f3b0ae8",
   "metadata": {},
   "outputs": [
    {
     "name": "stdout",
     "output_type": "stream",
     "text": [
      "(51, 5)\n",
      "(14,)\n"
     ]
    }
   ],
   "source": [
    "idx = 4\n",
    "d = data[idx]\n",
    "t = mctruth[idx]\n",
    "print(d.shape)\n",
    "print(t.shape)"
   ]
  },
  {
   "cell_type": "code",
   "execution_count": 123,
   "id": "057b6141-11ee-40e6-bdc5-d030a2d02eec",
   "metadata": {},
   "outputs": [
    {
     "name": "stdout",
     "output_type": "stream",
     "text": [
      "[1.64026205 0.3495006 ]\n",
      "9678.164644092787\n",
      "[ 234.72946991  158.30904153 -487.11652272]\n"
     ]
    }
   ],
   "source": [
    "track_src = t[2:4]\n",
    "track_time = t[4]\n",
    "track_pos = t[5:8]\n",
    "print(track_src)\n",
    "print(track_time)\n",
    "print(track_pos)"
   ]
  },
  {
   "cell_type": "code",
   "execution_count": 124,
   "id": "f39dc461-a033-4412-95a7-a181296f0dc1",
   "metadata": {},
   "outputs": [],
   "source": [
    "d_clean = remove_early_pulses(eval_network_doms_and_track, \n",
    "                              d, \n",
    "                              track_pos, \n",
    "                              track_src, \n",
    "                              track_time)"
   ]
  },
  {
   "cell_type": "code",
   "execution_count": 125,
   "id": "42f628bf-cb45-4649-858b-b0c3cdab0bea",
   "metadata": {},
   "outputs": [
    {
     "name": "stdout",
     "output_type": "stream",
     "text": [
      "(48, 5)\n",
      "[ 1.74470000e+02  3.15540000e+02 -4.74460000e+02  1.05990000e+04\n",
      "  9.25000012e-01]\n"
     ]
    }
   ],
   "source": [
    "print(d_clean.shape)\n",
    "print(d_clean[-1])"
   ]
  },
  {
   "cell_type": "code",
   "execution_count": 126,
   "id": "4a68db31-9046-4bf1-8569-02855219380f",
   "metadata": {},
   "outputs": [],
   "source": [
    "#d_clean_padded = jnp.pad(d_clean, ((0, orig_length-d_clean.shape[0]), (0, 0)))"
   ]
  },
  {
   "cell_type": "code",
   "execution_count": 127,
   "id": "86de43aa-3e16-4b3e-a876-d4871e1e9135",
   "metadata": {},
   "outputs": [],
   "source": [
    "def get_clean_pulses_fn(eval_network_doms_and_track_fn, orig_length):\n",
    "    \n",
    "    def clean_pulses(data, mctruth):\n",
    "        track_src = mctruth[2:4]\n",
    "        track_time = mctruth[4]\n",
    "        track_pos = mctruth[5:8]\n",
    "        \n",
    "        crit = -60.0\n",
    "        _, _, _, geo_times = eval_network_doms_and_track_fn(data[:,:3], track_pos, track_src)\n",
    "        delay_times = data[:, 3] - geo_times - track_time\n",
    "        print(jnp.sort(delay_times))\n",
    "        idx = delay_times > crit\n",
    "        idx = idx.reshape((orig_length, 1))\n",
    "        data_clean = jnp.where(idx, data, jnp.zeros((1,5)))\n",
    "        return data_clean\n",
    "\n",
    "    return clean_pulses"
   ]
  },
  {
   "cell_type": "code",
   "execution_count": 128,
   "id": "bb40f92d-ab95-411d-81dd-dfe12692370b",
   "metadata": {},
   "outputs": [],
   "source": [
    "clean_pulses = get_clean_pulses_fn(eval_network_doms_and_track, orig_length)"
   ]
  },
  {
   "cell_type": "code",
   "execution_count": 129,
   "id": "13b0682d-1baa-4452-b626-6a9cff59f27f",
   "metadata": {},
   "outputs": [],
   "source": [
    "clean_pulses_v = jax.jit(jax.vmap(clean_pulses, (0, 0), 0))"
   ]
  },
  {
   "cell_type": "code",
   "execution_count": 130,
   "id": "d7845124-c3bf-405f-b9dd-0a922af9da11",
   "metadata": {},
   "outputs": [
    {
     "name": "stdout",
     "output_type": "stream",
     "text": [
      "[-1.20749032e+04 -1.20749032e+04 -1.20749032e+04 -2.48265948e+00\n",
      " -1.12423773e-02  1.65345623e+00  3.83995254e+00  5.52996305e+00\n",
      "  5.76897905e+00  6.03431359e+00  7.51988592e+00  7.90961361e+00\n",
      "  9.05140570e+00  9.93728679e+00  1.22764917e+01  2.45785328e+01\n",
      "  2.62195910e+01  3.03446731e+01  4.13069485e+01  4.31695377e+01\n",
      "  5.58769438e+01  5.71890708e+01  6.39543404e+01  6.44595472e+01\n",
      "  8.55330615e+01  9.56118107e+01  2.15707213e+02  2.23980180e+02\n",
      "  2.74345861e+02  3.06459731e+02  3.07089418e+02  3.21799755e+02\n",
      "  3.40429787e+02  4.18613518e+02  5.40208634e+02  5.56397159e+02\n",
      "  5.71602040e+02  6.75396806e+02  7.75785024e+02  8.35983304e+02\n",
      "  8.98663162e+02  1.14260303e+03  1.18643290e+03  1.22784438e+03\n",
      "  1.25525735e+03  1.32239203e+03  1.33426833e+03  1.33553802e+03\n",
      "  1.34141759e+03  1.39601697e+03  1.47039862e+03]\n",
      "(51, 5)\n",
      "[[ 2.57310000e+02  2.11660000e+02 -4.31720000e+02  1.09960000e+04\n",
      "   1.30000001e+00]\n",
      " [ 2.57310000e+02  2.11660000e+02 -4.48740000e+02  1.00340000e+04\n",
      "   8.60000002e+00]\n",
      " [ 2.57310000e+02  2.11660000e+02 -4.65760000e+02  1.00150000e+04\n",
      "   2.90000007e+00]\n",
      " [ 2.57310000e+02  2.11660000e+02 -4.82780000e+02  9.97900000e+03\n",
      "   4.20000005e+00]\n",
      " [ 2.57310000e+02  2.11660000e+02 -5.00200000e+02  1.08130000e+04\n",
      "   9.75000024e-01]\n",
      " [ 1.74470000e+02  3.15540000e+02 -4.57440000e+02  1.07620000e+04\n",
      "   1.17499995e+00]\n",
      " [ 1.74470000e+02  3.15540000e+02 -4.74460000e+02  1.05990000e+04\n",
      "   9.25000012e-01]\n",
      " [ 0.00000000e+00  0.00000000e+00  0.00000000e+00  0.00000000e+00\n",
      "   0.00000000e+00]\n",
      " [ 0.00000000e+00  0.00000000e+00  0.00000000e+00  0.00000000e+00\n",
      "   0.00000000e+00]\n",
      " [ 0.00000000e+00  0.00000000e+00  0.00000000e+00  0.00000000e+00\n",
      "   0.00000000e+00]]\n"
     ]
    }
   ],
   "source": [
    "d_clean_padded = clean_pulses(d, t)\n",
    "print(d_clean_padded.shape)\n",
    "print(d_clean_padded[-10:])"
   ]
  },
  {
   "cell_type": "code",
   "execution_count": 131,
   "id": "09fdba51-8db6-465a-ab11-a9c1d1c207bc",
   "metadata": {},
   "outputs": [
    {
     "name": "stdout",
     "output_type": "stream",
     "text": [
      "Traced<ShapedArray(float64[51])>with<BatchTrace(level=2/0)> with\n",
      "  val = Traced<ShapedArray(float64[575,51])>with<DynamicJaxprTrace(level=1/0)>\n",
      "  batch_dim = 0\n"
     ]
    }
   ],
   "source": [
    "data_clean_padded = clean_pulses_v(data, mctruth)"
   ]
  },
  {
   "cell_type": "code",
   "execution_count": 132,
   "id": "86276503-b905-4f5e-a49d-6f59f035c529",
   "metadata": {},
   "outputs": [
    {
     "data": {
      "text/plain": [
       "(575, 51, 5)"
      ]
     },
     "execution_count": 132,
     "metadata": {},
     "output_type": "execute_result"
    }
   ],
   "source": [
    "data_clean_padded.shape"
   ]
  },
  {
   "cell_type": "code",
   "execution_count": 133,
   "id": "75789708-e2a5-4b3f-b031-635185516390",
   "metadata": {},
   "outputs": [],
   "source": [
    "from likelihood_spe_batched import get_neg_c_triple_gamma_llh\n",
    "from lib.geo import get_xyz_from_zenith_azimuth, __c"
   ]
  },
  {
   "cell_type": "code",
   "execution_count": 134,
   "id": "428e56d1-f006-4d3a-8f01-4f1f8774a9c7",
   "metadata": {},
   "outputs": [],
   "source": [
    "def center_track_pos_and_time_based_on_data(data, mctruth):\n",
    "    track_dir = mctruth[2:4]\n",
    "    track_time = mctruth[4]\n",
    "    track_pos = mctruth[5:8]\n",
    "    \n",
    "    track_dir_xyz = get_xyz_from_zenith_azimuth(track_dir)\n",
    "    charge = data[:, 4]\n",
    "    time = data[:, 3]\n",
    "    \n",
    "    centered_track_time = np.sum(charge * time) / np.sum(charge)\n",
    "    centered_track_pos = track_pos + (centered_track_time - track_time) * __c * track_dir_xyz\n",
    "    return jnp.array(centered_track_pos), jnp.float64(centered_track_time)\n",
    "\n",
    "center_track_pos_and_time_based_on_data_v = jax.jit(jax.vmap(center_track_pos_and_time_based_on_data,\n",
    "                                                            (0, 0),\n",
    "                                                            (0, 0)))"
   ]
  },
  {
   "cell_type": "code",
   "execution_count": 135,
   "id": "400dce6c-085b-4779-814f-6c7c831c2176",
   "metadata": {},
   "outputs": [],
   "source": [
    "centered_track_pos, centered_track_time = center_track_pos_and_time_based_on_data(\n",
    "    d_clean_padded, t\n",
    ")"
   ]
  },
  {
   "cell_type": "code",
   "execution_count": 136,
   "id": "89501f9b-96cb-4057-9185-32d858d680ed",
   "metadata": {},
   "outputs": [
    {
     "data": {
      "text/plain": [
       "(Array([  61.13113197,   95.03893121, -474.2607426 ], dtype=float64),\n",
       " Array(10295.97686565, dtype=float64))"
      ]
     },
     "execution_count": 136,
     "metadata": {},
     "output_type": "execute_result"
    }
   ],
   "source": [
    "centered_track_pos, centered_track_time"
   ]
  },
  {
   "cell_type": "code",
   "execution_count": 137,
   "id": "1b0dfd57-7e5c-4ad5-bb1d-cf37137f7cd2",
   "metadata": {},
   "outputs": [],
   "source": [
    "neg_llh = get_neg_c_triple_gamma_llh(eval_network_doms_and_track)"
   ]
  },
  {
   "cell_type": "code",
   "execution_count": 138,
   "id": "d0b14a9f-5af1-4d45-b8de-e1519c48725a",
   "metadata": {},
   "outputs": [
    {
     "name": "stdout",
     "output_type": "stream",
     "text": [
      "638.5422080175778\n"
     ]
    }
   ],
   "source": [
    "print(neg_llh(track_src, centered_track_pos, centered_track_time, d_clean_padded))"
   ]
  },
  {
   "cell_type": "code",
   "execution_count": 139,
   "id": "b17dbb66-1bc4-4803-bf17-b9163a1101a3",
   "metadata": {},
   "outputs": [],
   "source": [
    "centered_track_positions, centered_track_times = center_track_pos_and_time_based_on_data_v(\n",
    "    data_clean_padded, mctruth)"
   ]
  },
  {
   "cell_type": "code",
   "execution_count": 140,
   "id": "c6f91afe-df4f-4b4f-91bb-599d03b80a4f",
   "metadata": {},
   "outputs": [
    {
     "name": "stdout",
     "output_type": "stream",
     "text": [
      "[  61.13113197   95.03893121 -474.2607426 ]\n"
     ]
    }
   ],
   "source": [
    "print(centered_track_positions[4])"
   ]
  },
  {
   "cell_type": "code",
   "execution_count": 141,
   "id": "b66526cc-e0d8-4675-8c78-9f7d6ff10f1e",
   "metadata": {},
   "outputs": [],
   "source": [
    "import optimistix as optx \n",
    "\n",
    "scale = 20.0\n",
    "@jax.jit\n",
    "def neg_llh_5D(x, args):\n",
    "        centered_track_time = args[0]\n",
    "        fitting_event_data = args[1]\n",
    "\t\t# project back if outside of [0, pi] x [0, 2*pi]\n",
    "        zenith = x[0] / scale\n",
    "        azimuth = x[1] / scale\n",
    "        zenith = jnp.fmod(zenith, 2.0*jnp.pi)\n",
    "        zenith = jnp.where(zenith < 0, zenith+2.0*jnp.pi, zenith)\n",
    "        cond = zenith > jnp.pi\n",
    "        zenith = jnp.where(cond, -1.0*zenith+2.0*jnp.pi, zenith)\n",
    "        azimuth = jnp.where(cond, azimuth-jnp.pi, azimuth)\n",
    "\n",
    "        azimuth = jnp.fmod(azimuth, 2.0*jnp.pi)\n",
    "        azimuth = jnp.where(azimuth < 0, azimuth+2.0*jnp.pi, azimuth)\n",
    "\n",
    "        projected_dir = jnp.array([zenith, azimuth])\n",
    "        return neg_llh(projected_dir, x[2:]*scale, centered_track_time, fitting_event_data)"
   ]
  },
  {
   "cell_type": "code",
   "execution_count": 142,
   "id": "31d09d10-efe3-49d5-a4b4-5dc55225e297",
   "metadata": {},
   "outputs": [],
   "source": [
    "args=[centered_track_time, d_clean_padded]\n",
    "solver = optx.BFGS(rtol=1e-7, atol=1e-3, use_inverse=True)\n",
    "x0 = jnp.concatenate([track_src*scale, centered_track_pos/scale])\n",
    "best_x = optx.minimise(neg_llh_5D, solver, x0, args=args).value\n",
    "best_logl = neg_llh_5D(best_x, args=args)"
   ]
  },
  {
   "cell_type": "code",
   "execution_count": 143,
   "id": "8360a425-2825-43dc-8fdd-0872b1243121",
   "metadata": {},
   "outputs": [
    {
     "name": "stdout",
     "output_type": "stream",
     "text": [
      "620.8170750888826\n"
     ]
    }
   ],
   "source": [
    "print(best_logl)"
   ]
  },
  {
   "cell_type": "code",
   "execution_count": 144,
   "id": "4fafa542-bfee-458b-a6e1-a7015c802091",
   "metadata": {},
   "outputs": [],
   "source": [
    "def optimize_one_event(data, track_src, centered_track_time, centered_track_pos):\n",
    "    args=[centered_track_time, data]\n",
    "    solver = optx.BFGS(rtol=1e-7, atol=1e-3, use_inverse=True)\n",
    "    x0 = jnp.concatenate([track_src*scale, centered_track_pos/scale])\n",
    "    best_x = optx.minimise(neg_llh_5D, solver, x0, args=args).value\n",
    "    best_logl = neg_llh_5D(best_x, args=args)\n",
    "    return best_logl, best_x"
   ]
  },
  {
   "cell_type": "code",
   "execution_count": 145,
   "id": "806e045d-b700-4968-beb4-48b29a8e516b",
   "metadata": {},
   "outputs": [],
   "source": [
    "bl, bx = optimize_one_event(d_clean_padded, track_src, centered_track_time, centered_track_pos)"
   ]
  },
  {
   "cell_type": "code",
   "execution_count": 146,
   "id": "8401ff4c-6f58-4471-85f2-84d8c58e9a77",
   "metadata": {},
   "outputs": [
    {
     "name": "stdout",
     "output_type": "stream",
     "text": [
      "620.8170750888826 [ 32.77884775   6.99658669   2.97047522   4.75687575 -23.64777975]\n"
     ]
    }
   ],
   "source": [
    "print(bl, bx)"
   ]
  },
  {
   "cell_type": "code",
   "execution_count": 147,
   "id": "8385ab23-3edd-448c-94d6-d1d2b8926d49",
   "metadata": {},
   "outputs": [],
   "source": [
    "optimize_batch = jax.jit(jax.vmap(optimize_one_event, (0, 0, 0, 0), (0, 0)))"
   ]
  },
  {
   "cell_type": "code",
   "execution_count": 148,
   "id": "db44bc67-4dbe-4dec-bea7-10337113d673",
   "metadata": {},
   "outputs": [],
   "source": [
    "track_src_v = mctruth[:, 2:4]\n",
    "bl, bx = optimize_batch(data_clean_padded, track_src_v, centered_track_times, centered_track_positions)"
   ]
  },
  {
   "cell_type": "code",
   "execution_count": 150,
   "id": "12b29b0e-7806-4b5e-a043-4b5413566a65",
   "metadata": {},
   "outputs": [
    {
     "data": {
      "text/plain": [
       "(575,)"
      ]
     },
     "execution_count": 150,
     "metadata": {},
     "output_type": "execute_result"
    }
   ],
   "source": [
    "bl.shape"
   ]
  },
  {
   "cell_type": "code",
   "execution_count": 151,
   "id": "bf287f38-62c0-4aa5-a086-1846fff254f4",
   "metadata": {},
   "outputs": [
    {
     "data": {
      "text/plain": [
       "Array([[ 50.71224728,  46.15184489,  26.32240347,   9.81567461,\n",
       "          4.14526925],\n",
       "       [ 35.37303799,  16.15060705, -20.77720979,  14.24713741,\n",
       "        -18.88731303],\n",
       "       [ 34.11378634,  27.00256211, -22.42306396,  -6.3040975 ,\n",
       "         23.11495354],\n",
       "       ...,\n",
       "       [ 42.33067755,  95.0834139 ,  -8.35500274,  -8.76545133,\n",
       "          7.93195864],\n",
       "       [ 38.86483146,  49.63903809, -18.68895731,  -4.44321669,\n",
       "         15.88098583],\n",
       "       [ 44.18631833,  41.18859899,   0.38500361,  -2.85771919,\n",
       "        -12.78733823]], dtype=float64)"
      ]
     },
     "execution_count": 151,
     "metadata": {},
     "output_type": "execute_result"
    }
   ],
   "source": [
    "bx"
   ]
  },
  {
   "cell_type": "code",
   "execution_count": 152,
   "id": "253dddce-f165-43f2-9ea7-d7b26e62f7c8",
   "metadata": {},
   "outputs": [
    {
     "name": "stdout",
     "output_type": "stream",
     "text": [
      "1.94 s ± 10.8 ms per loop (mean ± std. dev. of 7 runs, 1 loop each)\n"
     ]
    }
   ],
   "source": [
    "%timeit optimize_batch(data_clean_padded, track_src_v, centered_track_times, centered_track_positions)"
   ]
  },
  {
   "cell_type": "code",
   "execution_count": 153,
   "id": "358ed811-0b25-46da-9067-a28f515968d5",
   "metadata": {},
   "outputs": [],
   "source": [
    "reco_zenith, reco_azimuth = bx[:, 0]/scale, bx[:, 1]/scale"
   ]
  },
  {
   "cell_type": "code",
   "execution_count": 154,
   "id": "99ed5e19-98f3-46d0-9cef-9c355db4e78d",
   "metadata": {},
   "outputs": [],
   "source": [
    "true_zenith, true_azimuth = track_src_v[:, 0], track_src_v[:, 1]"
   ]
  },
  {
   "cell_type": "code",
   "execution_count": 155,
   "id": "e1f0cfe6-f90a-433f-8f22-b0529558e5d0",
   "metadata": {},
   "outputs": [],
   "source": [
    "smpe_zenith, smpe_azimuth = mctruth[:, 8], mctruth[:, 9]"
   ]
  },
  {
   "cell_type": "code",
   "execution_count": 156,
   "id": "fadbb8f4-dec0-4a94-9503-f035317ff4a2",
   "metadata": {},
   "outputs": [],
   "source": [
    "def GreatCircleDistance(azi_1, zen_1, azi_2, zen_2):\n",
    "        ra_1 = azi_1\n",
    "        ra_2 = azi_2\n",
    "        dec_1 = np.pi/2.0 - zen_1\n",
    "        dec_2 = np.pi/2.0 - zen_2\n",
    "        '''Compute the great circle distance between two events'''\n",
    "        '''All coordinates must be given in radians'''\n",
    "        delta_dec = np.abs(dec_1 - dec_2)\n",
    "        delta_ra = np.abs(ra_1 - ra_2)\n",
    "        x = (np.sin(delta_dec / 2.))**2. + np.cos(dec_1) *\\\n",
    "            np.cos(dec_2) * (np.sin(delta_ra / 2.))**2.\n",
    "        return 2. * np.arcsin(np.sqrt(x))"
   ]
  },
  {
   "cell_type": "code",
   "execution_count": 157,
   "id": "1aec98c2-dccb-4890-813c-bd85327baf4c",
   "metadata": {},
   "outputs": [],
   "source": [
    "gcd = np.rad2deg(GreatCircleDistance(true_azimuth, true_zenith, reco_azimuth, reco_zenith))\n",
    "gcd_smpe = np.rad2deg(GreatCircleDistance(true_azimuth, true_zenith, smpe_azimuth, smpe_zenith))"
   ]
  },
  {
   "cell_type": "code",
   "execution_count": 158,
   "id": "6df34b46-ba43-4ed4-837e-53c6499e478b",
   "metadata": {},
   "outputs": [
    {
     "name": "stdout",
     "output_type": "stream",
     "text": [
      "[0.01533012 0.01614676 0.03535977 0.03544153 0.03773093 0.04140015\n",
      " 0.04627688 0.04647351 0.04799916 0.04890512 0.05053892 0.05067677\n",
      " 0.05254907 0.05358378 0.0552482  0.05760339 0.06038353 0.06082703\n",
      " 0.06558727 0.06664485 0.06750645 0.06880848 0.06918548 0.07018876\n",
      " 0.07356893 0.07363824 0.07482829 0.07605147 0.07714621 0.07759464\n",
      " 0.07855029 0.08035732 0.08083554 0.08218243 0.08245452 0.08299059\n",
      " 0.08473443 0.08546076 0.08856186 0.09042978 0.09437986 0.09748278\n",
      " 0.09763233 0.09846954 0.10413034 0.10432051 0.10535001 0.10631369\n",
      " 0.10832401 0.10902964 0.11034298 0.11190433 0.11270669 0.11452948\n",
      " 0.11903472 0.12124585 0.12142733 0.12541175 0.12629478 0.12749544\n",
      " 0.12786637 0.12832587 0.12995842 0.13000782 0.13010265 0.13106048\n",
      " 0.13252457 0.13259763 0.13476842 0.13484113 0.13518707 0.13746826\n",
      " 0.1410887  0.14137327 0.14178161 0.14338052 0.14406254 0.14409495\n",
      " 0.14475314 0.14513356 0.14881446 0.14960348 0.15023368 0.15206298\n",
      " 0.15271193 0.15296412 0.15311671 0.15438675 0.15504775 0.15886266\n",
      " 0.15936183 0.15943191 0.16319409 0.16369575 0.16440408 0.16538428\n",
      " 0.16567049 0.16831572 0.16976233 0.17169728 0.17289838 0.17385464\n",
      " 0.17494815 0.17581904 0.17802595 0.17950308 0.18044549 0.18375133\n",
      " 0.18618315 0.18619934 0.18624262 0.18644592 0.18927018 0.18931896\n",
      " 0.18940121 0.19062431 0.19133859 0.1914835  0.19170714 0.19220714\n",
      " 0.19688214 0.19714279 0.19861547 0.19907114 0.20115156 0.20226415\n",
      " 0.20429247 0.20466904 0.20498833 0.20601859 0.20732352 0.20940977\n",
      " 0.20997823 0.21127306 0.2133242  0.21400693 0.21576012 0.21781389\n",
      " 0.21860169 0.22190703 0.22307737 0.22418618 0.22476961 0.2249735\n",
      " 0.22675301 0.23035997 0.23158393 0.23464681 0.23873017 0.23914153\n",
      " 0.23996101 0.24136351 0.24326763 0.24518206 0.2471791  0.2476142\n",
      " 0.24767217 0.24797343 0.24890358 0.24925074 0.25010387 0.25055571\n",
      " 0.25167909 0.25219055 0.25327168 0.25514235 0.25527115 0.2557104\n",
      " 0.2559608  0.25611959 0.25909223 0.25936826 0.26078576 0.26470555\n",
      " 0.26556948 0.2663226  0.26655538 0.26727407 0.26886585 0.26897413\n",
      " 0.26947447 0.26968252 0.27018747 0.27107873 0.27235029 0.27361264\n",
      " 0.2744627  0.27451214 0.27494075 0.27614354 0.27793011 0.27982673\n",
      " 0.28197617 0.28294341 0.28336123 0.28595558 0.28615648 0.28680082\n",
      " 0.28878403 0.29059161 0.29092737 0.29248616 0.29260858 0.29513664\n",
      " 0.29797864 0.30504818 0.30815945 0.31106005 0.31131147 0.31260433\n",
      " 0.31544559 0.31581988 0.31607824 0.31627796 0.31878467 0.31940016\n",
      " 0.32082019 0.32225918 0.32232696 0.32478072 0.32875043 0.33000616\n",
      " 0.3328512  0.33580572 0.34030889 0.34224446 0.34306741 0.34557263\n",
      " 0.3478569  0.34990064 0.35074346 0.35076494 0.35267083 0.35309812\n",
      " 0.35387939 0.35589442 0.35835459 0.35847262 0.35874483 0.35958794\n",
      " 0.3606718  0.36276766 0.36340022 0.36445112 0.36524337 0.3657372\n",
      " 0.36608955 0.36886732 0.37011542 0.37207268 0.37442379 0.37590571\n",
      " 0.37621704 0.37874856 0.38035281 0.38169874 0.3818241  0.38198706\n",
      " 0.38226982 0.38264982 0.3845017  0.38599054 0.39332361 0.39418963\n",
      " 0.39686927 0.39734649 0.39740875 0.40165576 0.40248291 0.40258875\n",
      " 0.40341761 0.40659388 0.41421105 0.41503689 0.41718755 0.41850389\n",
      " 0.42112914 0.4217222  0.42311525 0.42346526 0.43288962 0.43297054\n",
      " 0.43298427 0.43568817 0.43630378 0.43811802 0.44114151 0.44159514\n",
      " 0.4417194  0.44457664 0.44895347 0.44927803 0.45175414 0.45905576\n",
      " 0.45925712 0.45963808 0.46154306 0.46176068 0.4617702  0.46232524\n",
      " 0.46414002 0.46546934 0.46613062 0.47037182 0.47117207 0.47477388\n",
      " 0.47523149 0.47661352 0.47678286 0.47988796 0.48316016 0.48444135\n",
      " 0.48632671 0.48639565 0.4893445  0.48984642 0.49035072 0.49064717\n",
      " 0.49336505 0.49598042 0.49666849 0.49840326 0.50140023 0.50153386\n",
      " 0.50413575 0.50872268 0.51032452 0.51141423 0.51311658 0.52033704\n",
      " 0.52055178 0.52230145 0.52319435 0.52610702 0.53030045 0.53354298\n",
      " 0.53491317 0.53797958 0.53822842 0.54056471 0.54365207 0.54512816\n",
      " 0.54533839 0.55078971 0.55103917 0.55701569 0.55852003 0.559005\n",
      " 0.55955116 0.55968836 0.56003001 0.56197597 0.5619811  0.56534708\n",
      " 0.56614928 0.56953213 0.57326131 0.58087512 0.58102717 0.58561735\n",
      " 0.58651847 0.58713911 0.59006803 0.59630638 0.6031252  0.60596237\n",
      " 0.61661399 0.61841255 0.62254392 0.62343824 0.62558296 0.62719326\n",
      " 0.62831158 0.63016806 0.63047177 0.63312611 0.6338276  0.63646385\n",
      " 0.63993718 0.64391307 0.64485078 0.65362835 0.65611288 0.67356741\n",
      " 0.67756854 0.68044357 0.68198725 0.6822635  0.68308982 0.68411853\n",
      " 0.68714784 0.69313178 0.69332868 0.69680014 0.70004462 0.70049343\n",
      " 0.70532908 0.7092234  0.71106089 0.71208334 0.71210258 0.71435509\n",
      " 0.71501818 0.72311373 0.72508891 0.72610424 0.72865705 0.72879065\n",
      " 0.73263206 0.73331114 0.73389106 0.73913475 0.73929425 0.74369697\n",
      " 0.74596116 0.76077788 0.76218334 0.76353411 0.77799601 0.78063346\n",
      " 0.78192664 0.78202604 0.79031048 0.80435368 0.80620462 0.80697605\n",
      " 0.8161975  0.81807717 0.81946882 0.82217847 0.82423347 0.82471758\n",
      " 0.82842213 0.83792378 0.84018376 0.84580111 0.8481309  0.84842073\n",
      " 0.84990195 0.85148373 0.85381725 0.85466105 0.85607478 0.86389542\n",
      " 0.87453797 0.87476206 0.88101849 0.88166484 0.8923508  0.89298273\n",
      " 0.90038764 0.90101225 0.90492796 0.91481752 0.91663474 0.9195694\n",
      " 0.92018756 0.93681178 0.94137068 0.94498241 0.95093332 0.95686933\n",
      " 0.96282939 0.96734684 0.96855342 0.97299575 0.98051338 0.98294891\n",
      " 0.98743173 0.99825078 1.01297665 1.0188704  1.02210082 1.02459623\n",
      " 1.05513991 1.05678841 1.07335705 1.07730048 1.08314148 1.08504124\n",
      " 1.08617895 1.0866668  1.11285986 1.11367382 1.13047457 1.14393691\n",
      " 1.15736348 1.17861593 1.18289706 1.19018883 1.19264026 1.20398755\n",
      " 1.21463969 1.22519387 1.22653066 1.23533109 1.23915844 1.25484134\n",
      " 1.27456187 1.29386398 1.29730458 1.30278141 1.30610563 1.30778458\n",
      " 1.31255645 1.31322501 1.31844333 1.33913152 1.36388826 1.36885146\n",
      " 1.38089604 1.3922714  1.39459795 1.39479819 1.40096931 1.41428223\n",
      " 1.41683811 1.42805673 1.455585   1.46278899 1.46692106 1.48261975\n",
      " 1.49047239 1.49960286 1.51160643 1.51836259 1.52374377 1.52764909\n",
      " 1.54666763 1.54923838 1.55231228 1.55497977 1.56111415 1.56262595\n",
      " 1.59364873 1.59748189 1.60431675 1.60812762 1.63602077 1.63876047\n",
      " 1.63907403 1.65088736 1.65388016 1.65425174 1.69079403 1.73209817\n",
      " 1.76545831 1.77601768 1.84448688 1.88895545 1.89783583 1.90517353\n",
      " 2.05517405 2.16205102 2.17025657 2.22109518 2.46208968 2.53130501\n",
      " 2.59346775 2.68412927 2.80575946 2.86860622 2.97564981 3.00085322\n",
      " 3.0598922  3.13205649 3.3537538  3.47247877 3.61821823 3.79472129\n",
      " 3.9257649  4.57649526 4.78563626 4.87901335 5.83818107]\n"
     ]
    }
   ],
   "source": [
    "print(jnp.sort(gcd))"
   ]
  },
  {
   "cell_type": "code",
   "execution_count": 159,
   "id": "3f92cba3-bc44-4a16-aeab-e08544b17ebf",
   "metadata": {},
   "outputs": [],
   "source": [
    "import matplotlib.pyplot as plt"
   ]
  },
  {
   "cell_type": "code",
   "execution_count": 160,
   "id": "b8cbacb1-ec45-45b8-a333-985eca197a49",
   "metadata": {},
   "outputs": [
    {
     "data": {
      "text/plain": [
       "(array([10., 34., 38., 42., 36., 45., 25., 37., 25., 30., 21., 21., 17.,\n",
       "        13., 21.,  8., 16., 11., 10., 10.]),\n",
       " array([0.  , 0.05, 0.1 , 0.15, 0.2 , 0.25, 0.3 , 0.35, 0.4 , 0.45, 0.5 ,\n",
       "        0.55, 0.6 , 0.65, 0.7 , 0.75, 0.8 , 0.85, 0.9 , 0.95, 1.  ]),\n",
       " <BarContainer object of 20 artists>)"
      ]
     },
     "execution_count": 160,
     "metadata": {},
     "output_type": "execute_result"
    },
    {
     "data": {
      "image/png": "[encoded data removed]",
      "text/plain": [
       "<Figure size 640x480 with 1 Axes>"
      ]
     },
     "metadata": {},
     "output_type": "display_data"
    }
   ],
   "source": [
    "plt.hist(gcd, bins=np.linspace(0.0, 1.0, 21))"
   ]
  },
  {
   "cell_type": "code",
   "execution_count": 162,
   "id": "40804da3-c3ac-4fb3-95f2-6fb0e1ca32e0",
   "metadata": {},
   "outputs": [
    {
     "data": {
      "text/plain": [
       "<matplotlib.collections.PathCollection at 0x7229cecdc550>"
      ]
     },
     "execution_count": 162,
     "metadata": {},
     "output_type": "execute_result"
    },
    {
     "data": {
      "image/png": "[encoded data removed]",
      "text/plain": [
       "<Figure size 640x480 with 1 Axes>"
      ]
     },
     "metadata": {},
     "output_type": "display_data"
    }
   ],
   "source": [
    "plt.scatter(jnp.log10(mctruth[:,1]), gcd)"
   ]
  },
  {
   "cell_type": "code",
   "execution_count": 163,
   "id": "cf1a17df-26b3-41c9-8143-fc7c95102104",
   "metadata": {},
   "outputs": [
    {
     "data": {
      "text/plain": [
       "Text(0, 0.5, 'tpn_spe1st [deg]')"
      ]
     },
     "execution_count": 163,
     "metadata": {},
     "output_type": "execute_result"
    },
    {
     "data": {
      "image/png": "[encoded data removed]",
      "text/plain": [
       "<Figure size 640x480 with 1 Axes>"
      ]
     },
     "metadata": {},
     "output_type": "display_data"
    }
   ],
   "source": [
    "plt.scatter(gcd_smpe, gcd, s=5)\n",
    "plt.xlim([0.0, 3.0])\n",
    "plt.ylim([0.0, 3.0])\n",
    "plt.plot([0.0, 3.0], [0.0, 3.0], \"r--\")\n",
    "plt.xlabel(\"spline_mpe [deg]\")\n",
    "plt.ylabel(\"tpn_spe1st [deg]\")"
   ]
  },
  {
   "cell_type": "code",
   "execution_count": 164,
   "id": "458cc8ae-bee6-45ba-a33d-232464592f86",
   "metadata": {},
   "outputs": [
    {
     "data": {
      "image/png": "[encoded data removed]",
      "text/plain": [
       "<Figure size 640x480 with 1 Axes>"
      ]
     },
     "metadata": {},
     "output_type": "display_data"
    }
   ],
   "source": [
    "fig, ax = plt.subplots()\n",
    "bins = np.linspace(0.0, 3.0, 31)\n",
    "ax.hist(gcd_smpe, bins=bins, histtype='step', color='tab:blue', label='spline MPE')\n",
    "ax.hist(gcd_smpe, bins=bins, color='tab:blue', alpha=0.2)\n",
    "ax.hist(gcd, bins=bins, histtype='step', color='tab:orange', label='TPN SPE1st')\n",
    "ax.hist(gcd, bins=bins, color='tab:orange', alpha=0.2)\n",
    "ax.legend()\n",
    "plt.show()"
   ]
  },
  {
   "cell_type": "code",
   "execution_count": null,
   "id": "872e05bd-1d8e-4db1-87de-79ce55c0a51f",
   "metadata": {},
   "outputs": [],
   "source": []
  }
 ],
 "metadata": {
  "kernelspec": {
   "display_name": "Python 3 (ipykernel)",
   "language": "python",
   "name": "python3"
  },
  "language_info": {
   "codemirror_mode": {
    "name": "ipython",
    "version": 3
   },
   "file_extension": ".py",
   "mimetype": "text/x-python",
   "name": "python",
   "nbconvert_exporter": "python",
   "pygments_lexer": "ipython3",
   "version": "3.11.5"
  }
 },
 "nbformat": 4,
 "nbformat_minor": 5
}
