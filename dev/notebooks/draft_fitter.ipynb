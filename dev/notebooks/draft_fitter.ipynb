{
 "cells": [
  {
   "cell_type": "code",
   "execution_count": 12,
   "id": "a01ffd94-7287-4183-b212-9f943a9e294e",
   "metadata": {},
   "outputs": [],
   "source": [
    "def get_fitter(neg_llh, \n",
    "                use_multiple_vertex_seeds=False, \n",
    "                prescan_time=False,\n",
    "                scale=100.0,\n",
    "                scale_rad=50.0,\n",
    "                rtol=1e-8, \n",
    "                atol=1e-4):\n",
    "    \"\"\"Creates a fitter() function that performs a 5D likelihood optimization. \n",
    "    Note: The argumenst are used globally\n",
    "    within functions defined in the body.\n",
    "    \n",
    "    Args\n",
    "    ----\n",
    "        neg_llh: A valid negative log likelihood function.\n",
    "        use_multiple_vertex_seeds: If True, the fitter will perform the \n",
    "            reconstruction starting from additional vertex seeds.\n",
    "            This increases robustness against local minima\n",
    "            but increases the run-time. \n",
    "        prescan_time: If True, the fitter will search for the best time \n",
    "            for a given vertex seed.\n",
    "            This can improve convergence at the cost of run-time.\n",
    "        scale: Re-scales the vertex coordinate units during optimization.\n",
    "            (maps step size of 1 to value of scale).\n",
    "        scale_rad: Re-scales the directional coordinate units during optimization.\n",
    "            (maps step size of 1 to value of scale).\n",
    "        rtol: relative tolerance of the optimizer (see optimistix.BFGS)\n",
    "        atol: abolsute tolerance of the optimizer (see optimistix.BFGS)\n",
    "            \n",
    "    Returns\n",
    "    -------\n",
    "        fitter: A function that performs the likelihood fit\n",
    "            according with the given properties / behavior.\n",
    "    \"\"\"\n",
    "    \n",
    "    # Vectorize likelihood along time argument.\n",
    "    # Reminder: arguments are (direction, vertex, time, data).\n",
    "    neg_llh_time_v = jax.vmap(neg_llh, (None, None, 0, None), 0)\n",
    "    \n",
    "    def get_track_time(track_dir, track_vertex, seed_time, data):\n",
    "        \"\"\"Find time that best matches the given vertex seed \n",
    "        and track direction. I.e. the time that yields the lowest \n",
    "        log likelihood value for the given track parameters.\n",
    "        \n",
    "        Args\n",
    "        ----\n",
    "            track_dir: jnp.array([zenith, azimuth]) in radians\n",
    "            track_vertex: jnp.array([x, y, z]) in m\n",
    "            seed_time: jnp.array(t) in ns\n",
    "            data: jnp.array(data) with shape \n",
    "                (n_sensors, n_features) = (N, 5)\n",
    "                \n",
    "        Returns\n",
    "        -------\n",
    "            best_time: jnp.array(float)\n",
    "        \"\"\"\n",
    "        dt = 100. # we search 100ns before and after seed_time\n",
    "        nt = 20 # number of evaluation points\n",
    "        time = jnp.linspace(seed_time - dt, seed_time + dt, nt)\n",
    "        llh = neg_llh_time_v(track_dir, track_vertex, time, data)\n",
    "        \n",
    "        return time[jnp.argmin(llh, axis=0)]\n",
    "    \n",
    "    # Vectorize across vertex dimension. This allows performing\n",
    "    # this operation for multiple vertex seeds at the \n",
    "    # given track direction.\n",
    "    # Reminder: arguments are (direction, vertex, time, data).\n",
    "    get_track_time_v = jax.vmap(\n",
    "        get_track_time, \n",
    "        (None, 0, None, None), \n",
    "        0\n",
    "    )\n",
    "\n",
    "    # Define the likelihood function for the 5D optimization\n",
    "    def neg_llh_5D(x, args):\n",
    "        # project back if outside of [0, pi] x [0, 2*pi]\n",
    "        zenith = x[0] / scale_rad\n",
    "        azimuth = x[1] / scale_rad\n",
    "        zenith = jnp.fmod(zenith, 2.0*jnp.pi)\n",
    "        zenith = jnp.where(zenith < 0, zenith+2.0*jnp.pi, zenith)\n",
    "        cond = zenith > jnp.pi\n",
    "        zenith = jnp.where(cond, -1.0*zenith+2.0*jnp.pi, zenith)\n",
    "        azimuth = jnp.where(cond, azimuth-jnp.pi, azimuth)\n",
    "\n",
    "        azimuth = jnp.fmod(azimuth, 2.0*jnp.pi)\n",
    "        azimuth = jnp.where(azimuth < 0, azimuth+2.0*jnp.pi, azimuth)\n",
    "        projected_dir = jnp.array([zenith, azimuth])\n",
    "        \n",
    "        track_time, data = args\n",
    "        return neg_llh(projected_dir, x[2:]*scale, track_time, data)\n",
    "\n",
    "    \n",
    "    def reconstruct_event(track_vertex_seed, track_dir_seed, track_time, data):\n",
    "        \"\"\"Performs a single event reconstruction.\n",
    "        \n",
    "        Args\n",
    "        ----\n",
    "        track_vertex_seed: jnp.array([x, y, z]) in m\n",
    "        track_dir_seed: jnp.array([zenith, azimuth]) in radians\n",
    "        track_time: jnp.array(t) in ns\n",
    "        data: jnp.array(data) with shape \n",
    "                (n_sensors, n_features) = (N, 5)\n",
    "            \n",
    "        Returns\n",
    "        -------\n",
    "            Best-fit Negative loglikelihood value (neglogl) and \n",
    "            corresponding coordinates as tuple(jnp.array, jnp.array([zenith, azimuth, x,y,z]).\n",
    "        \"\"\"\n",
    "        solver = optx.BestSoFarMinimiser(optx.BFGS(rtol=rtol, atol=atol, use_inverse=True))\n",
    "        args = (track_time, data)\n",
    "        x0 = jnp.concatenate([track_dir_seed*scale_rad, track_vertex_seed/scale])\n",
    "        sol = optx.minimise(neg_llh_5D, \n",
    "                            solver, \n",
    "                            x0, \n",
    "                            args=args, \n",
    "                            throw=False).value\n",
    "        \n",
    "        sol_dir = sol[:2] / scale_rad\n",
    "        sol_pos = sol[2:] * scale\n",
    "        \n",
    "        return neg_llh_5D(sol, args), sol_dir, sol_pos\n",
    "    \n",
    "    # Vectorize over vertex argument\n",
    "    reconstruct_event_v = jax.vmap(reconstruct_event, (0, None, None, None), 0)\n",
    "    \n",
    "    # Vectorize over vertex and time arguments\n",
    "    reconstruct_event_vt = jax.vmap(reconstruct_event, (0, None, 0, None), 0)\n",
    "    \n",
    "    def run_reconstruction(track_dir_seed, vertex_seed, track_time, data):\n",
    "        \"\"\"Wraps a single reconstruction for a given track direction seed.\n",
    "        Allows reconstructing that event multiple times with different\n",
    "        track seed values. And provides possibility to adjust the corresponding \n",
    "        time constant to provide best starting conditions for the \n",
    "        reconstruction.\n",
    "        \n",
    "        Args\n",
    "        ----\n",
    "        \n",
    "        Returns\n",
    "        -------\n",
    "            \n",
    "        \"\"\"\n",
    "        \n",
    "        if use_multiple_vertex_seeds:\n",
    "            # Get additional vertex seeds using cylindrical geometry\n",
    "            vertex_seeds = get_vertex_seeds(vertex_seed, track_dir_seed)\n",
    "\n",
    "            if prescan_time:\n",
    "                # For each vertex seed, we should optimize the track time.\n",
    "                # i.e. we use the best-matching time for each vertex reconstruction\n",
    "                seed_times = get_track_time_v(track_dir_seed, vertex_seeds, track_time, data)\n",
    "                logls, dirs, verts = reconstruct_event_vt(vertex_seeds, track_dir_seed, seed_times, data)\n",
    "            \n",
    "            else:\n",
    "                # Do not perform additional time matching. We reconstruct\n",
    "                # each vertex seed with a fixed intial track time.\n",
    "                logls, dirs, verts = reconstruct_event_v(vertex_seeds, track_dir_seed, track_time, data)\n",
    "                seed_times = jnp.ones(vertex_seeds.shape[0]) * track_time\n",
    "                \n",
    "            # The solution is given by the fit with the best likelihood value\n",
    "            # across all fits performed.\n",
    "            ix = jnp.argmin(logls)\n",
    "            return logls[ix], dirs[ix], verts[ix], seed_times[ix]\n",
    "        \n",
    "        # We are using only a single vertex seed\n",
    "        if prescan_time:\n",
    "            # Update time with best-match for given vertex_seed\n",
    "            track_time = get_track_time(track_dir_seed, vertex_seeed, track_time, data)\n",
    "            \n",
    "        logl, direction, vertex = reconstruct_event(vertex_seed, track_dir_seed, track_time, data)\n",
    "        return logl, direction, vertex, track_time\n",
    "    \n",
    "    # Vectorize directions vertices in grid\n",
    "    #run_reconstruction_v = jax.vmap(run_reconstruction, (0, None, None, None), 0)\n",
    "        \n",
    "    return run_reconstruction"
   ]
  },
  {
   "cell_type": "code",
   "execution_count": 13,
   "id": "22c2bbff-1776-442b-ad1c-a0d4843b7e5b",
   "metadata": {
    "tags": []
   },
   "outputs": [],
   "source": [
    "import sys, os\n",
    "sys.path.insert(0, \"/home/storage/hans/jax_reco_gupta_corrections4/\")\n",
    "os.environ['CUDA_VISIBLE_DEVICES'] = '0'\n",
    "\n",
    "from tensorflow_probability.substrates import jax as tfp\n",
    "\n",
    "import jax.numpy as jnp\n",
    "import jax\n",
    "jax.config.update(\"jax_enable_x64\", True)\n",
    "import optimistix as optx\n",
    "\n",
    "import pandas as pd\n",
    "import numpy as np\n",
    "import matplotlib.pyplot as plt\n",
    "import matplotlib as mpl\n",
    "\n",
    "# TriplePandelSPE/JAX stuff\n",
    "from lib.simdata_i3 import I3SimHandler\n",
    "from lib.geo import center_track_pos_and_time_based_on_data\n",
    "from lib.gupta_network_eqx_4comp import get_network_eval_v_fn\n",
    "from lib.experimental_methods import get_vertex_seeds\n",
    "\n",
    "from dom_track_eval import get_eval_network_doms_and_track\n",
    "from likelihood_conv_mpe_logsumexp_gupta import get_neg_c_triple_gamma_llh\n",
    "from palettable.cubehelix import Cubehelix\n",
    "cx =Cubehelix.make(start=0.3, rotation=-0.5, n=16, reverse=False, gamma=1.0,\n",
    "                           max_light=1.0,max_sat=0.5, min_sat=1.4).get_mpl_colormap()\n",
    "\n",
    "import time"
   ]
  },
  {
   "cell_type": "code",
   "execution_count": 21,
   "id": "4066a716-7c1d-45a2-8441-7a7d0033c2a4",
   "metadata": {
    "tags": []
   },
   "outputs": [
    {
     "name": "stdout",
     "output_type": "stream",
     "text": [
      "muon energy: 37.3 TeV\n",
      "n_doms 77\n"
     ]
    }
   ],
   "source": [
    "# Event Index.\n",
    "event_index = 2\n",
    "\n",
    "# Get network and eval logic.\n",
    "dtype = jnp.float64\n",
    "\n",
    "eval_network_v = get_network_eval_v_fn(bpath='/home/storage/hans/photondata/gupta/ftpv1/n96_errscale1_32bit_4comp_update_regularized/cache/new_model_no_penalties_tree_start_epoch_1000.eqx', dtype=dtype, n_hidden=96)\n",
    "eval_network_doms_and_track = get_eval_network_doms_and_track(eval_network_v, dtype=dtype, gupta=True, n_comp=4)\n",
    "\n",
    "# Get an IceCube event.\n",
    "bp = '/home/fast_storage/i3/22645/ftr/'\n",
    "\n",
    "sim_handler = I3SimHandler(os.path.join(bp, f'meta_ds_22645_from_0_to_1000_10_to_100TeV.ftr'),\n",
    "                                os.path.join(bp, f'pulses_ds_22645_from_0_to_1000_10_to_100TeV.ftr'),\n",
    "                                '/home/storage/hans/jax_reco_new/data/icecube/detector_geometry.csv')\n",
    "\n",
    "meta, pulses = sim_handler.get_event_data(event_index)\n",
    "print(f\"muon energy: {meta['muon_energy_at_detector']/1.e3:.1f} TeV\")\n",
    "\n",
    "# Get dom locations, first hit times, and total charges (for each dom).\n",
    "event_data = sim_handler.get_per_dom_summary_from_sim_data(meta, pulses)\n",
    "\n",
    "# Remove early pulses.\n",
    "sim_handler.replace_early_pulse(event_data, pulses)\n",
    "print(\"n_doms\", len(event_data))"
   ]
  },
  {
   "cell_type": "code",
   "execution_count": 22,
   "id": "f7e9b7c5-4b92-421c-97bd-e4cf14afbd87",
   "metadata": {
    "tags": []
   },
   "outputs": [
    {
     "name": "stdout",
     "output_type": "stream",
     "text": [
      "true direction: [1.57599182 2.28262353]\n",
      "seed direction: [1.58173391 2.22337364]\n",
      "original seed vertex: [ 477.84495319  267.44606706 -413.56920501]\n",
      "shifted seed vertex: [ 547.41093803  176.4243718  -412.31612685]\n"
     ]
    }
   ],
   "source": [
    "# Get MCTruth.\n",
    "true_pos = jnp.array([meta['muon_pos_x'], meta['muon_pos_y'], meta['muon_pos_z']])\n",
    "true_time = meta['muon_time']\n",
    "true_zenith = meta['muon_zenith']\n",
    "true_azimuth = meta['muon_azimuth']\n",
    "true_src = jnp.array([true_zenith, true_azimuth])\n",
    "print(\"true direction:\", true_src)\n",
    "\n",
    "# Use SplineMPE as a seed.\n",
    "track_pos = jnp.array([meta['spline_mpe_pos_x'], meta['spline_mpe_pos_y'], meta['spline_mpe_pos_z']])\n",
    "track_time = meta['spline_mpe_time']\n",
    "track_zenith = meta['spline_mpe_zenith']\n",
    "track_azimuth = meta['spline_mpe_azimuth']\n",
    "track_src = jnp.array([track_zenith, track_azimuth])\n",
    "print(\"seed direction:\", track_src)\n",
    "\n",
    "print(\"original seed vertex:\", track_pos)\n",
    "centered_track_pos, centered_track_time = center_track_pos_and_time_based_on_data(event_data, track_pos, track_time, track_src)\n",
    "print(\"shifted seed vertex:\", centered_track_pos)"
   ]
  },
  {
   "cell_type": "code",
   "execution_count": 23,
   "id": "b1c08641-cf2b-45d7-982e-d9b1aec583d6",
   "metadata": {
    "tags": []
   },
   "outputs": [
    {
     "name": "stdout",
     "output_type": "stream",
     "text": [
      "(77, 5)\n"
     ]
    }
   ],
   "source": [
    "fitting_event_data = jnp.array(event_data[['x', 'y', 'z', 'time', 'charge']].to_numpy())\n",
    "print(fitting_event_data.shape)\n",
    "\n",
    "# Setup likelihood.\n",
    "neg_llh = get_neg_c_triple_gamma_llh(eval_network_doms_and_track)"
   ]
  },
  {
   "cell_type": "code",
   "execution_count": 24,
   "id": "513761d4-c4f8-4347-ad1a-dbc035e49698",
   "metadata": {
    "tags": []
   },
   "outputs": [],
   "source": [
    "# Setup fitter.\n",
    "fit_llh = get_fitter(neg_llh)"
   ]
  },
  {
   "cell_type": "code",
   "execution_count": 25,
   "id": "b37776c5-7e40-4841-abb0-87da42b415eb",
   "metadata": {
    "tags": []
   },
   "outputs": [
    {
     "data": {
      "text/plain": [
       "(Array(1051.13267881, dtype=float64),\n",
       " Array([1.58097487, 2.22337661], dtype=float64),\n",
       " Array([ 546.73316124,  173.68773598, -412.38368277], dtype=float64),\n",
       " Array(11054.31841689, dtype=float64))"
      ]
     },
     "execution_count": 25,
     "metadata": {},
     "output_type": "execute_result"
    }
   ],
   "source": [
    "fit_llh(track_src, centered_track_pos, centered_track_time, fitting_event_data)"
   ]
  },
  {
   "cell_type": "code",
   "execution_count": 26,
   "id": "88931ab5-e719-4ed3-ab09-e65fb243db1c",
   "metadata": {
    "tags": []
   },
   "outputs": [
    {
     "data": {
      "text/plain": [
       "(Array(1042.50581372, dtype=float64),\n",
       " Array([1.58193127, 2.2828955 ], dtype=float64),\n",
       " Array([ 582.44798209,  200.18097542, -412.63000858], dtype=float64),\n",
       " Array(11054.31841689, dtype=float64))"
      ]
     },
     "execution_count": 26,
     "metadata": {},
     "output_type": "execute_result"
    }
   ],
   "source": [
    "fit_llh = get_fitter(neg_llh, use_multiple_vertex_seeds=True)\n",
    "fit_llh(track_src, centered_track_pos, centered_track_time, fitting_event_data)"
   ]
  },
  {
   "cell_type": "code",
   "execution_count": 27,
   "id": "7df5d5a5-791b-4f4b-a810-38a8aebbe6d2",
   "metadata": {
    "tags": []
   },
   "outputs": [
    {
     "data": {
      "text/plain": [
       "(Array(1042.50581527, dtype=float64),\n",
       " Array([1.58193004, 2.28289371], dtype=float64),\n",
       " Array([ 599.97320828,  179.87708047, -412.33059148], dtype=float64),\n",
       " Array(11143.7921011, dtype=float64))"
      ]
     },
     "execution_count": 27,
     "metadata": {},
     "output_type": "execute_result"
    }
   ],
   "source": [
    "fit_llh = get_fitter(neg_llh, use_multiple_vertex_seeds=True, prescan_time=True)\n",
    "fit_llh(track_src, centered_track_pos, centered_track_time, fitting_event_data)"
   ]
  },
  {
   "cell_type": "code",
   "execution_count": 28,
   "id": "bf05d1a4-a29e-4987-80f3-6815488abac6",
   "metadata": {
    "tags": []
   },
   "outputs": [
    {
     "data": {
      "text/plain": [
       "Array([ 90.63798525, 130.80027722], dtype=float64)"
      ]
     },
     "execution_count": 28,
     "metadata": {},
     "output_type": "execute_result"
    }
   ],
   "source": [
    "sol_dir = jnp.array([1.58193127, 2.2828955])\n",
    "jnp.rad2deg(sol_dir)"
   ]
  },
  {
   "cell_type": "code",
   "execution_count": null,
   "id": "856592e3-a8e3-4c79-a9c6-bbf6ebf10118",
   "metadata": {},
   "outputs": [],
   "source": []
  }
 ],
 "metadata": {
  "kernelspec": {
   "display_name": "Python 3 (ipykernel)",
   "language": "python",
   "name": "python3"
  },
  "language_info": {
   "codemirror_mode": {
    "name": "ipython",
    "version": 3
   },
   "file_extension": ".py",
   "mimetype": "text/x-python",
   "name": "python",
   "nbconvert_exporter": "python",
   "pygments_lexer": "ipython3",
   "version": "3.11.5"
  }
 },
 "nbformat": 4,
 "nbformat_minor": 5
}
