{
 "cells": [
  {
   "cell_type": "code",
   "execution_count": 1,
   "id": "1062b09b-e170-4825-99a1-f5a6d790ae38",
   "metadata": {},
   "outputs": [],
   "source": [
    "import jax.numpy as jnp\n",
    "import jax\n",
    "jax.config.update(\"jax_enable_x64\", True)\n",
    "\n",
    "import pandas as pd\n",
    "import numpy as np\n",
    "import matplotlib.pyplot as plt\n",
    "\n",
    "import sys, os\n",
    "sys.path.insert(0, \"/home/storage/hans/jax_reco\")\n",
    "\n",
    "import logging\n",
    "logging.getLogger(\"jax\").setLevel(logging.ERROR)"
   ]
  },
  {
   "cell_type": "code",
   "execution_count": 2,
   "id": "71446a53-d1aa-413b-9658-65d2a79d8453",
   "metadata": {},
   "outputs": [
    {
     "name": "stderr",
     "output_type": "stream",
     "text": [
      "2024-05-28 16:40:02.004324: W tensorflow/compiler/tf2tensorrt/utils/py_utils.cc:38] TF-TRT Warning: Could not find TensorRT\n"
     ]
    }
   ],
   "source": [
    "from lib.sim_data_i3 import I3SimHandlerFtr\n",
    "from lib.geo import center_track_pos_and_time_based_on_data\n",
    "\n",
    "from lib.network import get_network_eval_v_fn\n",
    "#from lib.network import get_network_matmul_eval_v_fn as get_network_eval_v_fn\n",
    "\n",
    "from dom_track_eval import get_eval_network_doms_and_track\n",
    "from time_sampler import sample_times_clean"
   ]
  },
  {
   "cell_type": "code",
   "execution_count": 3,
   "id": "0e578a12-abca-44aa-8060-2465660e4c5e",
   "metadata": {},
   "outputs": [],
   "source": [
    "key = jax.random.PRNGKey(2)\n",
    "\n",
    "dtype = jnp.float64"
   ]
  },
  {
   "cell_type": "code",
   "execution_count": 4,
   "id": "0d32274f-5cea-4806-9d69-2e4ef399d5bd",
   "metadata": {},
   "outputs": [],
   "source": [
    "eval_network_v = get_network_eval_v_fn(bpath='/home/storage/hans/jax_reco/data/network', dtype=dtype)\n",
    "eval_network_doms_and_track = get_eval_network_doms_and_track(eval_network_v, dtype=dtype)"
   ]
  },
  {
   "cell_type": "code",
   "execution_count": 5,
   "id": "cdf85565-0644-4ddc-a9b4-d2c783853f4a",
   "metadata": {},
   "outputs": [
    {
     "name": "stdout",
     "output_type": "stream",
     "text": [
      "muon energy: 3.4 TeV\n",
      "n_doms 43\n"
     ]
    }
   ],
   "source": [
    "bp = '/home/storage2/hans/i3files/21217'\n",
    "sim_handler = I3SimHandlerFtr(os.path.join(bp, 'meta_ds_21217_from_35000_to_53530.ftr'),\n",
    "                              os.path.join(bp, 'pulses_ds_21217_from_35000_to_53530.ftr'),\n",
    "                              '/home/storage/hans/jax_reco/data/icecube/detector_geometry.csv')\n",
    "\n",
    "# Get a simulated muon event.\n",
    "event_index = 5\n",
    "meta, pulses = sim_handler.get_event_data(event_index)\n",
    "print(f\"muon energy: {meta['muon_energy_at_detector']/1.e3:.1f} TeV\")\n",
    "\n",
    "# Get dom locations, first hit times, and total charges (for each dom).\n",
    "event_data = sim_handler.get_per_dom_summary_from_sim_data(meta, pulses)\n",
    "\n",
    "print(\"n_doms\", len(event_data))"
   ]
  },
  {
   "cell_type": "code",
   "execution_count": 6,
   "id": "74cd7dff-8b4f-4098-90f2-9e469160be3d",
   "metadata": {},
   "outputs": [
    {
     "name": "stdout",
     "output_type": "stream",
     "text": [
      "old track vertex: [ 143.40123598  106.94081331 -815.20509865]\n",
      "new track vertex: [ -25.42355091  403.14288541 -154.63778486]\n"
     ]
    }
   ],
   "source": [
    "# Let's generate some new first hit times following our triple pandel model.\n",
    "# (avoid problems with time smearing for now -> to be implemented: gaussian convoluted triple pandel.)\n",
    "\n",
    "track_pos = jnp.array([meta['muon_pos_x'], meta['muon_pos_y'], meta['muon_pos_z']])\n",
    "track_time = meta['muon_time']\n",
    "track_zenith = meta['muon_zenith']\n",
    "track_azimuth = meta['muon_azimuth']\n",
    "track_src = jnp.array([track_zenith, track_azimuth])\n",
    "\n",
    "print(\"old track vertex:\", track_pos)\n",
    "centered_track_pos, centered_track_time = center_track_pos_and_time_based_on_data(event_data, track_pos, track_time, track_src)\n",
    "print(\"new track vertex:\", centered_track_pos)\n",
    "\n",
    "key, subkey = jax.random.split(key)\n",
    "first_times = sample_times_clean(eval_network_doms_and_track, event_data, track_pos, track_src, track_time, subkey)"
   ]
  },
  {
   "cell_type": "code",
   "execution_count": 7,
   "id": "a12ad948-06b8-4c1c-a6ec-f91b1360b95b",
   "metadata": {},
   "outputs": [
    {
     "name": "stdout",
     "output_type": "stream",
     "text": [
      "(43, 5)\n"
     ]
    },
    {
     "data": {
      "text/plain": [
       "{cuda(id=0)}"
      ]
     },
     "execution_count": 7,
     "metadata": {},
     "output_type": "execute_result"
    }
   ],
   "source": [
    "# Create some n_photons from qtot (by rounding up).\n",
    "n_photons = np.round(event_data['charge'].to_numpy()+0.5)\n",
    "\n",
    "# Combine into single data tensor for fitting.\n",
    "fake_event_data = jnp.column_stack([jnp.array(event_data[['x', 'y', 'z']].to_numpy()), \n",
    "                                    jnp.array(first_times), \n",
    "                                    jnp.array(n_photons)])\n",
    "print(fake_event_data.shape)\n",
    "\n",
    "# Send to GPU.\n",
    "fake_event_data.devices()\n",
    "centered_track_pos.devices()\n",
    "centered_track_time.devices()\n",
    "track_src.devices()"
   ]
  },
  {
   "cell_type": "code",
   "execution_count": 8,
   "id": "dec12b89-71e6-4017-a617-1a85f9c1d923",
   "metadata": {},
   "outputs": [],
   "source": [
    "# padding\n",
    "\n",
    "fake_event_data_padded = jnp.pad(fake_event_data, ((0, 50-fake_event_data.shape[0]), (0 ,0)))"
   ]
  },
  {
   "cell_type": "code",
   "execution_count": 9,
   "id": "6e7d4225-e152-4d16-95b2-d8f71457599c",
   "metadata": {},
   "outputs": [
    {
     "data": {
      "text/plain": [
       "(50, 5)"
      ]
     },
     "execution_count": 9,
     "metadata": {},
     "output_type": "execute_result"
    }
   ],
   "source": [
    "fake_event_data_padded.shape"
   ]
  },
  {
   "cell_type": "code",
   "execution_count": 10,
   "id": "b7036f53-50ee-4cd1-bddc-6b0de4e47a1f",
   "metadata": {},
   "outputs": [
    {
     "name": "stdout",
     "output_type": "stream",
     "text": [
      "[[0. 0. 0. 0. 0.]\n",
      " [0. 0. 0. 0. 0.]\n",
      " [0. 0. 0. 0. 0.]\n",
      " [0. 0. 0. 0. 0.]\n",
      " [0. 0. 0. 0. 0.]\n",
      " [0. 0. 0. 0. 0.]\n",
      " [0. 0. 0. 0. 0.]]\n"
     ]
    }
   ],
   "source": [
    "print(fake_event_data_padded[43:])"
   ]
  },
  {
   "cell_type": "code",
   "execution_count": 11,
   "id": "7a26c82c-b85b-43ef-b7c0-de406bd38c02",
   "metadata": {},
   "outputs": [],
   "source": [
    "from likelihood_const_vertex_vectorized import get_neg_mpe_llh_const_vertex_v2_padded\n",
    "neg_llh_padded = get_neg_mpe_llh_const_vertex_v2_padded(eval_network_doms_and_track)"
   ]
  },
  {
   "cell_type": "code",
   "execution_count": 12,
   "id": "6cd399a2-7382-4162-a2ed-b197761da003",
   "metadata": {},
   "outputs": [
    {
     "name": "stdout",
     "output_type": "stream",
     "text": [
      "470.3698367909118\n"
     ]
    }
   ],
   "source": [
    "print(neg_llh_padded(track_src, centered_track_pos, centered_track_time, fake_event_data_padded))"
   ]
  },
  {
   "cell_type": "code",
   "execution_count": 16,
   "id": "9b49a36a-625b-444c-ae01-067926e9fd5f",
   "metadata": {},
   "outputs": [],
   "source": [
    "from jax.scipy import optimize\n",
    "\n",
    "@jax.jit\n",
    "def minimize(x0, track_vertex, track_time, event_data):\n",
    "    return optimize.minimize(neg_llh_padded, x0, args=(track_vertex, track_time, event_data), method=\"BFGS\", tol=1.e-5)\n",
    "\n",
    "result = minimize(track_src, centered_track_pos, centered_track_time, fake_event_data_padded)"
   ]
  },
  {
   "cell_type": "code",
   "execution_count": 17,
   "id": "8ec8b230-9fec-433b-bbe0-7069f7a0f779",
   "metadata": {},
   "outputs": [
    {
     "name": "stdout",
     "output_type": "stream",
     "text": [
      "OptimizeResults(x=Array([2.66344555, 5.23024581], dtype=float64), success=Array(False, dtype=bool), status=Array(3, dtype=int64, weak_type=True), fun=Array(469.41627225, dtype=float64), jac=Array([ 7.04646980e-05, -9.19381577e-06], dtype=float64), hess_inv=Array([[1.62390920e-06, 1.40989147e-06],\n",
      "       [1.40989147e-06, 1.23676182e-05]], dtype=float64), nfev=Array(61, dtype=int64, weak_type=True), njev=Array(61, dtype=int64, weak_type=True), nit=Array(12, dtype=int64, weak_type=True))\n"
     ]
    }
   ],
   "source": [
    "print(result)"
   ]
  },
  {
   "cell_type": "code",
   "execution_count": 15,
   "id": "f1954e1a-65dd-4052-82ad-4b1b35907e22",
   "metadata": {},
   "outputs": [
    {
     "name": "stdout",
     "output_type": "stream",
     "text": [
      "218 ms ± 1.41 ms per loop (mean ± std. dev. of 7 runs, 5 loops each)\n"
     ]
    }
   ],
   "source": [
    "%timeit -n5 minimize(track_src, centered_track_pos, centered_track_time, fake_event_data_padded).block_until_ready()"
   ]
  },
  {
   "cell_type": "code",
   "execution_count": 27,
   "id": "8fa88c79-4810-468a-97f9-3395e14817e9",
   "metadata": {},
   "outputs": [],
   "source": [
    "from likelihood_const_vertex_vectorized import get_neg_mpe_llh_const_vertex_v2\n",
    "neg_llh = get_neg_mpe_llh_const_vertex_v2(eval_network_doms_and_track)"
   ]
  },
  {
   "cell_type": "code",
   "execution_count": 28,
   "id": "663e267c-fa90-4f5d-a95c-ee43d0dd6685",
   "metadata": {},
   "outputs": [
    {
     "name": "stdout",
     "output_type": "stream",
     "text": [
      "470.3698367909118\n"
     ]
    }
   ],
   "source": [
    "print(neg_llh(track_src, centered_track_pos, centered_track_time, fake_event_data))"
   ]
  },
  {
   "cell_type": "code",
   "execution_count": 29,
   "id": "0d66438c-71bd-4ed9-99f8-686a38316816",
   "metadata": {},
   "outputs": [],
   "source": [
    "from jax.scipy import optimize\n",
    "\n",
    "@jax.jit\n",
    "def minimize(x0, track_vertex, track_time, event_data):\n",
    "    return optimize.minimize(neg_llh, x0, args=(track_vertex, track_time, event_data), method=\"BFGS\", tol=1.e-5).x\n",
    "\n",
    "result = minimize(track_src, centered_track_pos, centered_track_time, fake_event_data)\n"
   ]
  },
  {
   "cell_type": "code",
   "execution_count": 30,
   "id": "aa8f8922-7680-4c30-a580-f1b2be6057bf",
   "metadata": {},
   "outputs": [
    {
     "name": "stdout",
     "output_type": "stream",
     "text": [
      "[2.66344555 5.23024581]\n"
     ]
    }
   ],
   "source": [
    "print(result)"
   ]
  },
  {
   "cell_type": "code",
   "execution_count": 31,
   "id": "c8dccbea-d29e-46e5-8e15-d5d1370b349c",
   "metadata": {},
   "outputs": [
    {
     "name": "stdout",
     "output_type": "stream",
     "text": [
      "209 ms ± 1.92 ms per loop (mean ± std. dev. of 7 runs, 5 loops each)\n"
     ]
    }
   ],
   "source": [
    "%timeit -n5 minimize(track_src, centered_track_pos, centered_track_time, fake_event_data).block_until_ready()"
   ]
  },
  {
   "cell_type": "code",
   "execution_count": null,
   "id": "bcf6685e-4dfc-49ee-a090-da107d9cb0d7",
   "metadata": {},
   "outputs": [],
   "source": [
    "print(result)"
   ]
  },
  {
   "cell_type": "code",
   "execution_count": null,
   "id": "d7d90639-790e-4dc7-b606-30f128d6ef31",
   "metadata": {},
   "outputs": [],
   "source": [
    "print(track_src)"
   ]
  },
  {
   "cell_type": "code",
   "execution_count": null,
   "id": "7ef92e5b-77df-4302-8766-85c32b6d448b",
   "metadata": {},
   "outputs": [],
   "source": [
    "#from likelihood_const_vertex import get_neg_mpe_llh_const_vertex\n",
    "#neg_llh = get_neg_mpe_llh_const_vertex(eval_network_doms_and_track, fake_event_data, centered_track_pos, centered_track_time)"
   ]
  },
  {
   "cell_type": "code",
   "execution_count": null,
   "id": "6ead1ba9-ff49-4fa3-9afa-91a21b547690",
   "metadata": {},
   "outputs": [],
   "source": [
    "#from jax.scipy import optimize\n",
    "#\n",
    "#@jax.jit\n",
    "#def minimize(x0):\n",
    "#    return optimize.minimize(neg_llh, x0, method=\"BFGS\", tol=1.e-5)\n",
    "\n",
    "#result = minimize(track_src)"
   ]
  },
  {
   "cell_type": "code",
   "execution_count": null,
   "id": "c4dce813-ecc0-4aa3-9c79-72ee5f7d6909",
   "metadata": {},
   "outputs": [],
   "source": [
    "print(fake_event_data.shape)"
   ]
  },
  {
   "cell_type": "code",
   "execution_count": null,
   "id": "caf0c999-6752-48c2-81d8-d2edd10e43ee",
   "metadata": {},
   "outputs": [],
   "source": [
    "minimize_v = jax.jit(jax.vmap(minimize, (0, 0, 0, 0), 0))"
   ]
  },
  {
   "cell_type": "code",
   "execution_count": null,
   "id": "bd02792b-3fb9-4175-bb11-d13f0bf77250",
   "metadata": {},
   "outputs": [],
   "source": [
    "n_ev = 1000\n",
    "\n",
    "centered_track_pos_v = jnp.repeat(centered_track_pos.reshape(1,3), n_ev, axis=0)\n",
    "print(centered_track_pos_v.shape)\n",
    "\n",
    "centered_track_time_v = jnp.repeat(centered_track_time, n_ev)\n",
    "print(centered_track_time_v.shape)\n",
    "\n",
    "track_src_v = jnp.repeat(track_src.reshape(1,2), n_ev, axis=0)\n",
    "print(track_src_v.shape)\n",
    "\n",
    "fake_event_data_v = jnp.repeat(fake_event_data.reshape(1, fake_event_data.shape[0], fake_event_data.shape[1]), n_ev, axis=0)\n",
    "print(fake_event_data_v.shape)"
   ]
  },
  {
   "cell_type": "code",
   "execution_count": null,
   "id": "383ddc59-50e7-42fa-8da9-eac21bf4a035",
   "metadata": {},
   "outputs": [],
   "source": [
    "result_v = minimize_v(track_src_v, centered_track_pos_v, centered_track_time_v, fake_event_data_v)"
   ]
  },
  {
   "cell_type": "code",
   "execution_count": null,
   "id": "4fb78a3d-a852-47eb-afe9-8c9ac6a07efc",
   "metadata": {},
   "outputs": [],
   "source": [
    "print(result_v)"
   ]
  },
  {
   "cell_type": "code",
   "execution_count": null,
   "id": "c2072563-9106-43fd-bdc4-243412645d6a",
   "metadata": {},
   "outputs": [],
   "source": [
    "%timeit -n5 minimize_v(track_src_v, centered_track_pos_v, centered_track_time_v, fake_event_data_v).block_until_ready()"
   ]
  },
  {
   "cell_type": "code",
   "execution_count": null,
   "id": "3e3a9c8f-6b72-4eae-8983-fdd69578bdfa",
   "metadata": {},
   "outputs": [],
   "source": [
    "# 2.17s for 1000 event reconstructions"
   ]
  },
  {
   "cell_type": "code",
   "execution_count": 19,
   "id": "cb5093e7-18fc-4656-81b0-9e0ac93e5ecb",
   "metadata": {},
   "outputs": [
    {
     "name": "stdout",
     "output_type": "stream",
     "text": [
      "[[-101.06  490.22   -9.14]\n",
      " [-101.06  490.22 -196.37]\n",
      " [  22.11  509.5  -295.31]\n",
      " [   0.      0.      0.  ]\n",
      " [   0.      0.      0.  ]\n",
      " [   0.      0.      0.  ]\n",
      " [   0.      0.      0.  ]\n",
      " [   0.      0.      0.  ]\n",
      " [   0.      0.      0.  ]\n",
      " [   0.      0.      0.  ]]\n"
     ]
    }
   ],
   "source": [
    "dom_pos = fake_event_data_padded[:, :3]\n",
    "print(dom_pos[40:])\n",
    "logits, av, bv, geo_time = eval_network_doms_and_track(dom_pos, centered_track_pos, track_src)"
   ]
  },
  {
   "cell_type": "code",
   "execution_count": 21,
   "id": "3484bb62-06b8-4f73-a1e1-ee8dac50fc67",
   "metadata": {},
   "outputs": [
    {
     "name": "stdout",
     "output_type": "stream",
     "text": [
      "[[ 0.93037825  0.97019836  1.01150626]\n",
      " [ 0.98164109  0.7572359  -0.27043317]\n",
      " [ 1.18283628  0.53470128  0.00219727]\n",
      " [ 1.95618561 -0.06914704  1.62119527]\n",
      " [ 1.95618561 -0.06914704  1.62119527]\n",
      " [ 1.95618561 -0.06914704  1.62119527]\n",
      " [ 1.95618561 -0.06914704  1.62119527]\n",
      " [ 1.95618561 -0.06914704  1.62119527]\n",
      " [ 1.95618561 -0.06914704  1.62119527]\n",
      " [ 1.95618561 -0.06914704  1.62119527]]\n"
     ]
    }
   ],
   "source": [
    "print(logits[40:])"
   ]
  },
  {
   "cell_type": "code",
   "execution_count": 22,
   "id": "8395e6a3-6d99-4153-86d5-dd4c441cd23a",
   "metadata": {},
   "outputs": [
    {
     "name": "stdout",
     "output_type": "stream",
     "text": [
      "[[ 3.62614324  5.8580399   1.83043423]\n",
      " [ 6.57806378  8.45045441  5.09057448]\n",
      " [ 5.45248613  6.65534714  4.45239311]\n",
      " [20.08752932 18.82070978 20.69526838]\n",
      " [20.08752932 18.82070978 20.69526838]\n",
      " [20.08752932 18.82070978 20.69526838]\n",
      " [20.08752932 18.82070978 20.69526838]\n",
      " [20.08752932 18.82070978 20.69526838]\n",
      " [20.08752932 18.82070978 20.69526838]\n",
      " [20.08752932 18.82070978 20.69526838]]\n"
     ]
    }
   ],
   "source": [
    "print(av[40:])"
   ]
  },
  {
   "cell_type": "code",
   "execution_count": 23,
   "id": "68391ac4-bea8-4d4b-a26c-c34b92968315",
   "metadata": {},
   "outputs": [
    {
     "name": "stdout",
     "output_type": "stream",
     "text": [
      "[[0.0246426  0.09617788 0.00340015]\n",
      " [0.00896593 0.02044258 0.00379655]\n",
      " [0.00590327 0.01235341 0.00296858]\n",
      " [0.00511689 0.00469212 0.00561909]\n",
      " [0.00511689 0.00469212 0.00561909]\n",
      " [0.00511689 0.00469212 0.00561909]\n",
      " [0.00511689 0.00469212 0.00561909]\n",
      " [0.00511689 0.00469212 0.00561909]\n",
      " [0.00511689 0.00469212 0.00561909]\n",
      " [0.00511689 0.00469212 0.00561909]]\n"
     ]
    }
   ],
   "source": [
    "print(bv[40:])"
   ]
  },
  {
   "cell_type": "code",
   "execution_count": 24,
   "id": "33e241ee-ecac-4d11-8452-3e0a00246613",
   "metadata": {},
   "outputs": [
    {
     "name": "stdout",
     "output_type": "stream",
     "text": [
      "[ 722.27043866  402.79418785  143.97842871 1156.0242326  1156.0242326\n",
      " 1156.0242326  1156.0242326  1156.0242326  1156.0242326  1156.0242326 ]\n"
     ]
    }
   ],
   "source": [
    "print(geo_time[40:])"
   ]
  },
  {
   "cell_type": "code",
   "execution_count": 25,
   "id": "cd11f234-4a23-4884-9c97-065717ff6516",
   "metadata": {},
   "outputs": [
    {
     "data": {
      "text/plain": [
       "array([0.54133207, 0.07142874, 0.38723919])"
      ]
     },
     "execution_count": 25,
     "metadata": {},
     "output_type": "execute_result"
    }
   ],
   "source": [
    "from scipy.special import softmax\n",
    "softmax([ 1.95618561, -0.06914704,  1.62119527])"
   ]
  },
  {
   "cell_type": "code",
   "execution_count": 92,
   "id": "a25237ad-b9e0-4eb3-8ba5-116459ef2ea9",
   "metadata": {},
   "outputs": [],
   "source": [
    "\n",
    "from tensorflow_probability.substrates import jax as tfp\n",
    "tfd = tfp.distributions\n",
    "\n",
    "\n",
    "def get_neg_mpe_llh_const_vertex_v2_padded(eval_network_doms_and_track_fn, eps=jnp.float64(1.e-20), dtype=jnp.float64):\n",
    "\n",
    "    def neg_mpe_llh_direction(track_direction, track_vertex, track_time, event_data):\n",
    "        \"\"\"\n",
    "        track_direction: (zenith, azimuth) in radians\n",
    "        track_vertex: (x, y, z)\n",
    "        track_time: t (this time defines the fit vertex)\n",
    "        event_data: 2D array (n_doms X 5) where columns are x,y,z of dom location, and t for first hit time, and estimated number of photon hits from Qtot.\n",
    "        \"\"\"\n",
    "\n",
    "        dom_pos = event_data[:, :3]\n",
    "        first_hit_times = event_data[:, 3]\n",
    "        n_photons = event_data[:, 4]\n",
    "        \n",
    "        logits, av, bv, geo_time = eval_network_doms_and_track_fn(dom_pos, track_vertex, track_direction)\n",
    "        delay_time = first_hit_times - (geo_time + track_time) \n",
    "\n",
    "        #logits = jnp.where(dom_pos != 0, logits, 1.0)\n",
    "        #av = jnp.where(dom_pos != 0, av, 9.0)\n",
    "        #bv = jnp.where(dom_pos != 0, bv, 2.0)\n",
    "        delay_time = jnp.where(n_photons > 0, delay_time, 5.0)\n",
    "\n",
    "        gm = tfd.MixtureSameFamily(\n",
    "                  mixture_distribution=tfd.Categorical(\n",
    "                      logits=logits\n",
    "                      ),\n",
    "                  components_distribution=tfd.Gamma(\n",
    "                    concentration=av,\n",
    "                    rate=bv,\n",
    "                    force_probs_to_zero_outside_support=True\n",
    "                      )\n",
    "                )\n",
    "\n",
    "        prob = jnp.where(n_photons > 0, n_photons * gm.prob(delay_time) * (1-gm.cdf(delay_time))**(n_photons-1) + eps, 1.)\n",
    "        #llh = jnp.sum(jnp.where(n_photons > 0., jnp.log(prob), 0.0))\n",
    "        llh = jnp.sum(jnp.log(prob))\n",
    "\n",
    "        return -2*llh\n",
    "\n",
    "    return neg_mpe_llh_direction"
   ]
  },
  {
   "cell_type": "code",
   "execution_count": 93,
   "id": "1a42cb54-4feb-4342-819c-bf70884a6418",
   "metadata": {},
   "outputs": [],
   "source": [
    "neg_llh_padded = get_neg_mpe_llh_const_vertex_v2_padded(eval_network_doms_and_track)\n",
    "\n",
    "neg_llh_padded_grad = jax.grad(neg_llh_padded)"
   ]
  },
  {
   "cell_type": "code",
   "execution_count": 94,
   "id": "63f64604-5ac3-4cd2-8c85-989eb6f39f70",
   "metadata": {},
   "outputs": [
    {
     "name": "stdout",
     "output_type": "stream",
     "text": [
      "470.3698367909118\n"
     ]
    }
   ],
   "source": [
    "print(neg_llh_padded(track_src, centered_track_pos, centered_track_time, fake_event_data_padded))"
   ]
  },
  {
   "cell_type": "code",
   "execution_count": 95,
   "id": "3e74cab6-8559-4bf2-8d1c-981fd65912ee",
   "metadata": {},
   "outputs": [
    {
     "name": "stdout",
     "output_type": "stream",
     "text": [
      "[1102.27517602  -96.70991096]\n"
     ]
    }
   ],
   "source": [
    "print(neg_llh_padded_grad(track_src, centered_track_pos, centered_track_time, fake_event_data_padded))"
   ]
  },
  {
   "cell_type": "code",
   "execution_count": 96,
   "id": "1e2b8c29-72c6-4175-a221-f6ca6c18137d",
   "metadata": {},
   "outputs": [
    {
     "data": {
      "text/plain": [
       "Array([[-101.06,  490.22,   -9.14],\n",
       "       [-101.06,  490.22, -196.37],\n",
       "       [  22.11,  509.5 , -295.31],\n",
       "       [   0.  ,    0.  ,    0.  ],\n",
       "       [   0.  ,    0.  ,    0.  ],\n",
       "       [   0.  ,    0.  ,    0.  ],\n",
       "       [   0.  ,    0.  ,    0.  ],\n",
       "       [   0.  ,    0.  ,    0.  ],\n",
       "       [   0.  ,    0.  ,    0.  ],\n",
       "       [   0.  ,    0.  ,    0.  ]], dtype=float64)"
      ]
     },
     "execution_count": 96,
     "metadata": {},
     "output_type": "execute_result"
    }
   ],
   "source": [
    "fake_event_data_padded[40:, :3]"
   ]
  },
  {
   "cell_type": "code",
   "execution_count": null,
   "id": "119d24ff-3cba-40ff-829b-d4f66def8184",
   "metadata": {},
   "outputs": [],
   "source": []
  },
  {
   "cell_type": "code",
   "execution_count": null,
   "id": "4b587119-f23d-4c16-aef2-86c988272b16",
   "metadata": {},
   "outputs": [],
   "source": []
  }
 ],
 "metadata": {
  "kernelspec": {
   "display_name": "Python 3 (ipykernel)",
   "language": "python",
   "name": "python3"
  },
  "language_info": {
   "codemirror_mode": {
    "name": "ipython",
    "version": 3
   },
   "file_extension": ".py",
   "mimetype": "text/x-python",
   "name": "python",
   "nbconvert_exporter": "python",
   "pygments_lexer": "ipython3",
   "version": "3.11.5"
  }
 },
 "nbformat": 4,
 "nbformat_minor": 5
}
