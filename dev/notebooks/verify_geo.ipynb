{
 "cells": [
  {
   "cell_type": "code",
   "execution_count": 1,
   "id": "0c7ea74e-7909-4c9b-81e9-e54280dca3c7",
   "metadata": {},
   "outputs": [],
   "source": [
    "%load_ext autoreload\n",
    "%autoreload 2"
   ]
  },
  {
   "cell_type": "code",
   "execution_count": 2,
   "id": "095f29db-a553-487a-a8c2-480d5d29bcd7",
   "metadata": {},
   "outputs": [],
   "source": [
    "import jax.numpy as jnp\n",
    "import jax\n",
    "jax.config.update(\"jax_enable_x64\", True)\n",
    "\n",
    "import numpy as np"
   ]
  },
  {
   "cell_type": "code",
   "execution_count": 6,
   "id": "6da9ff5a-5e60-4c4e-a4f3-bcb79b67a831",
   "metadata": {},
   "outputs": [],
   "source": [
    "import sys\n",
    "sys.path.insert(0, \"/home/storage/hans/jax_reco/python\")\n",
    "from geo import closest_distance_dom_track, closest_distance_dom_track_v\n",
    "from geo import light_travel_time, light_travel_time_v\n",
    "from geo import z_component_closest_point_on_track, z_component_closest_point_on_track\n",
    "from geo import light_travel_time_i3calculator, light_travel_time_i3calculator_v\n",
    "from geo import convert_spherical_to_cartesian_direction\n",
    "from geo import cherenkov_cylinder_coordinates, cherenkov_cylinder_coordinates_v"
   ]
  },
  {
   "cell_type": "code",
   "execution_count": 7,
   "id": "8e3000c6-1a7a-44c3-b559-581527920bb7",
   "metadata": {},
   "outputs": [],
   "source": [
    "from icecube import dataclasses\n",
    "from icecube.phys_services import I3Calculator\n",
    "# can use the following functions:\n",
    "#    I3Calculator.cherenkov_time\n",
    "#    I3Calculator.closest_approach_distance\n",
    "#    I3Calculator.closest_approach_position\n",
    "# example: double I3Calculator::CherenkovTime(const I3Particle& particle, \n",
    "# const I3Position& position, const double IndexRefG, const double IndexRefP )\n",
    "\n",
    "from icecube.icetray import I3Units"
   ]
  },
  {
   "cell_type": "code",
   "execution_count": 18,
   "id": "f89e79d2-bed6-436c-a6d2-88c5cc9f886c",
   "metadata": {},
   "outputs": [],
   "source": [
    "# from icetray\n",
    "# https://github.com/icecube/icetray/blob/main/dataclasses/public/dataclasses/I3Constants.h\n",
    "__n_ice_phase = 1.3195;\n",
    "__n_ice_group = 1.35634;\n",
    "__n_ice = __n_ice_group\n",
    "\n",
    "# or use the values from clsim in our tables\n",
    "#  'n_group': 1.32548384613875,\n",
    "#  'n_phase': 1.30799291638281\n",
    "__n_ice_phase_clsim = 1.30799291638281;\n",
    "__n_ice_group_clsim = 1.32548384613875;\n",
    "__n_ice_clsim = __n_ice_group\n",
    "\n",
    "__theta_cherenkov = np.arccos(1/__n_ice_phase)\n",
    "__c = 0.299792458 # m / ns\n",
    "__c_ice = __c/__n_ice_group\n",
    "\n",
    "# from Matti's code\n",
    "# https://github.com/HansN87/gamma_mixture_photonics/blob/reconstruction/evaluation%20scripts/GetLLHs.py\n",
    "\n",
    "_recip__speedOfLight = 3.3356409519815204\n",
    "#_n__ = 1.32548384613875\n",
    "#_tan__thetaC = (_n__**2.-1.)**0.5\n",
    "\n",
    "# some comparisons point to difference in n_phase:\n",
    "#print(np.tan(__theta_cherenkov), _tan__thetaC)\n",
    "# 0.8608601802848123 0.8700042680210099\n",
    "\n",
    "#print(__n_ice_phase, _n__)\n",
    "# 1.3195 1.32548384613875\n",
    "\n",
    "#print((__n_ice_phase**2.-1.)**0.5)\n",
    "# 0.8608601802848125"
   ]
  },
  {
   "cell_type": "code",
   "execution_count": 9,
   "id": "a87f33f3-06e1-410c-bb66-818d369c14ce",
   "metadata": {},
   "outputs": [],
   "source": [
    "# the icetray way ... ugh. ever heard the phrase \"something being non-pythonic\" ....\n",
    "# will use these as point of comparison.\n",
    "\n",
    "def get_icecube_track_i3particle(track_pos, track_dir):\n",
    "    # track_pos: 3 component cartesian vector\n",
    "    # track_dir: 2 component spherical vector (theta, phi)\n",
    "    pos = dataclasses.I3Position(track_pos[0], track_pos[1], track_pos[2])\n",
    "    d = dataclasses.I3Direction()\n",
    "    d.set_theta_phi(track_dir[0], track_dir[1])\n",
    "    pt = 0.0 # set vertex time to 0\n",
    "    i3p = dataclasses.I3Particle(pos, d, pt, dataclasses.I3Particle.ParticleShape.InfiniteTrack, 100000 * I3Units.m)\n",
    "    return i3p\n",
    "\n",
    "def get_cherenkov_time(p, dom_pos):\n",
    "    pos = dataclasses.I3Position(dom_pos[0] * I3Units.m, dom_pos[1] * I3Units.m, dom_pos[2] * I3Units.m)\n",
    "    return I3Calculator.cherenkov_time(p, pos, __n_ice_group, __n_ice_phase)\n",
    "\n",
    "def get_closest_approach_distance(p, dom_pos):\n",
    "    pos = dataclasses.I3Position(dom_pos[0] * I3Units.m, dom_pos[1] * I3Units.m, dom_pos[2] * I3Units.m)\n",
    "    return I3Calculator.closest_approach_distance(p, pos)\n",
    "\n",
    "def get_closest_approach_position(p, dom_pos):\n",
    "    pos = dataclasses.I3Position(dom_pos[0] * I3Units.m, dom_pos[1] * I3Units.m, dom_pos[2] * I3Units.m)\n",
    "    return I3Calculator.closest_approach_position(p, pos)"
   ]
  },
  {
   "cell_type": "code",
   "execution_count": 19,
   "id": "8866ca5e-14a8-4569-806e-403a1a68eef1",
   "metadata": {},
   "outputs": [],
   "source": [
    "def light_travel_time_eijndhoven(dom_pos, track_pos, track_dir):\n",
    "    \"\"\"\n",
    "    eq. 3 / Fig. 1 of https://arxiv.org/pdf/0704.1706\n",
    "    \"\"\"\n",
    "    v_a = dom_pos - track_pos\n",
    "\n",
    "    closest_dist = closest_distance_dom_track(dom_pos, track_pos, track_dir)\n",
    "    d1 = jnp.dot(v_a, track_dir)\n",
    "    \n",
    "    dt = _recip__speedOfLight * (d1 + closest_dist * (__n_ice_group_clsim * __n_ice_phase_clsim - 1) / jnp.sqrt(__n_ice_phase_clsim * __n_ice_phase_clsim -1))\n",
    "    return dt"
   ]
  },
  {
   "cell_type": "code",
   "execution_count": 20,
   "id": "9e90bb21-30e1-4c6b-ad0f-d336ef37568a",
   "metadata": {},
   "outputs": [
    {
     "name": "stdout",
     "output_type": "stream",
     "text": [
      "201.58118244011703\n",
      "10.375040484114887\n",
      "-149.85830716519607\n"
     ]
    }
   ],
   "source": [
    "# single example:\n",
    "\n",
    "track_pos = np.array([-10., 10., -200.])\n",
    "track_theta = np.deg2rad(10.)\n",
    "track_phi = np.deg2rad(2.)\n",
    "track_dir_sph = np.array([track_theta, track_phi])\n",
    "track_dir = np.array(convert_spherical_to_cartesian_direction(jnp.array(track_dir_sph)))\n",
    "\n",
    "i3track = get_icecube_track_i3particle(track_pos, track_dir_sph)\n",
    "dom_pos = np.array([0, 0, -150])\n",
    "\n",
    "print(get_cherenkov_time(i3track, dom_pos)) # geo time\n",
    "print(get_closest_approach_distance(i3track, dom_pos)) # closest distance to dom\n",
    "print(get_closest_approach_position(i3track, dom_pos)[2]) # z component of closest position on track"
   ]
  },
  {
   "cell_type": "code",
   "execution_count": 21,
   "id": "20ed1c95-1724-4aa4-86b8-d2f5106548ce",
   "metadata": {},
   "outputs": [
    {
     "name": "stdout",
     "output_type": "stream",
     "text": [
      "201.58118244011706\n"
     ]
    }
   ],
   "source": [
    "print(light_travel_time_i3calculator(dom_pos, track_pos, track_dir))"
   ]
  },
  {
   "cell_type": "code",
   "execution_count": 22,
   "id": "0144ff0a-f2d0-48dc-88e8-b82782e9dfeb",
   "metadata": {},
   "outputs": [
    {
     "name": "stdout",
     "output_type": "stream",
     "text": [
      "201.58118244011706\n",
      "10.375040484114885\n",
      "-149.85830716519607\n"
     ]
    }
   ],
   "source": [
    "dt, s, z = cherenkov_cylinder_coordinates(dom_pos, track_pos, track_dir)\n",
    "print(dt)\n",
    "print(s)\n",
    "print(z)"
   ]
  },
  {
   "cell_type": "code",
   "execution_count": 23,
   "id": "100ffe35-cbe3-407b-b8a7-8272bcd7154a",
   "metadata": {},
   "outputs": [
    {
     "name": "stdout",
     "output_type": "stream",
     "text": [
      "199.94345145110827\n",
      "10.375040484114885\n",
      "-149.85830716519607\n"
     ]
    }
   ],
   "source": [
    "print(light_travel_time(dom_pos, track_pos, track_dir)) # ~1.5 ns difference compared to icetray's I3Calculator.\n",
    "print(closest_distance_dom_track(dom_pos, track_pos, track_dir))\n",
    "print(z_component_closest_point_on_track(dom_pos, track_pos, track_dir))"
   ]
  },
  {
   "cell_type": "code",
   "execution_count": 24,
   "id": "6e8e977d-9c5d-413a-8999-0874b22616b1",
   "metadata": {},
   "outputs": [
    {
     "name": "stdout",
     "output_type": "stream",
     "text": [
      "199.95201012714827\n"
     ]
    }
   ],
   "source": [
    "print(light_travel_time_eijndhoven(dom_pos, track_pos, track_dir))"
   ]
  },
  {
   "cell_type": "code",
   "execution_count": 234,
   "id": "dfa21579-aa9e-4008-a7e5-b38ce0dc30ef",
   "metadata": {},
   "outputs": [],
   "source": [
    "# now demonstrate a vectorized example\n",
    "\n",
    "track_pos = np.array([-10., 10., -200.])\n",
    "track_theta = np.deg2rad(10.)\n",
    "track_phi = np.deg2rad(2.)\n",
    "track_dir_sph = np.array([track_theta, track_phi])\n",
    "track_dir = np.array(convert_spherical_to_cartesian_direction(jnp.array(track_dir_sph)))\n",
    "\n",
    "i3track = get_icecube_track_i3particle(track_pos, track_dir_sph)\n",
    "\n",
    "n_doms = 50\n",
    "dom_pos = np.random.normal(0.0, 300, (n_doms, 3))\n",
    "\n",
    "# single call that computes everything over the n_doms matrix\n",
    "dt, s, z = cherenkov_cylinder_coordinates_v(dom_pos, track_pos, track_dir)"
   ]
  },
  {
   "cell_type": "code",
   "execution_count": 237,
   "id": "d276b558-28e3-42d7-9a51-9040a3f16653",
   "metadata": {},
   "outputs": [
    {
     "name": "stdout",
     "output_type": "stream",
     "text": [
      "delay time: 775.516095032946, 775.516095032946\n",
      "delay time: 1008.6407611362945, 1008.6407611362956\n",
      "delay time: 2098.567612931028, 2098.5676129310277\n",
      "delay time: 2655.678073021857, 2655.6780730218575\n",
      "delay time: 3566.1456003985218, 3566.1456003985213\n",
      "delay time: 1668.5422658959055, 1668.5422658959062\n",
      "delay time: 2331.3123639501923, 2331.3123639501932\n",
      "delay time: 2880.5486666943584, 2880.548666694359\n",
      "delay time: 3755.6406023223867, 3755.6406023223867\n",
      "delay time: 2895.536092737, 2895.5360927370007\n",
      "delay time: 397.4963273040678, 397.49632730406796\n",
      "delay time: 1737.081377824967, 1737.081377824967\n",
      "delay time: 1586.1149150781494, 1586.1149150781496\n",
      "delay time: -659.2080247032454, -659.2080247032454\n",
      "delay time: 859.4893995205834, 859.4893995205838\n",
      "delay time: 2362.541600081884, 2362.541600081884\n",
      "delay time: 241.59319981284833, 241.59319981284906\n",
      "delay time: 1258.981871927281, 1258.9818719272814\n",
      "delay time: 1251.8239846690653, 1251.8239846690656\n",
      "delay time: 1872.2280378006126, 1872.2280378006128\n",
      "delay time: 1427.4221965173665, 1427.4221965173672\n",
      "delay time: 3264.0646534006187, 3264.064653400618\n",
      "delay time: 1412.173039836508, 1412.1730398365082\n",
      "delay time: 1280.404016152036, 1280.4040161520365\n",
      "delay time: 5038.371318325327, 5038.371318325327\n",
      "delay time: 1826.2675053981557, 1826.267505398156\n",
      "delay time: 2432.153381974372, 2432.153381974372\n",
      "delay time: 3186.5075982587614, 3186.5075982587623\n",
      "delay time: 488.32810316973917, 488.3281031697393\n",
      "delay time: 2395.7961953330205, 2395.7961953330214\n",
      "delay time: 3722.3366350520573, 3722.3366350520564\n",
      "delay time: 2011.8976571342243, 2011.897657134225\n",
      "delay time: 2518.804808928893, 2518.8048089288927\n",
      "delay time: 2037.8002773034175, 2037.8002773034175\n",
      "delay time: 2615.7454950982637, 2615.745495098264\n",
      "delay time: 1423.5652022351087, 1423.565202235109\n",
      "delay time: -38.92952710785818, -38.92952710785818\n",
      "delay time: 2042.077863056024, 2042.0778630560242\n",
      "delay time: 3098.0234519475384, 3098.023451947539\n",
      "delay time: 2949.9398510267156, 2949.939851026715\n",
      "delay time: 1752.330346071273, 1752.3303460712732\n",
      "delay time: 3518.153129317715, 3518.153129317715\n",
      "delay time: 1706.5172480519213, 1706.517248051922\n",
      "delay time: 2553.390547373138, 2553.3905473731375\n",
      "delay time: 2577.2971670176216, 2577.297167017622\n",
      "delay time: 1815.846694804155, 1815.8466948041548\n",
      "delay time: 733.6018799917282, 733.6018799917297\n",
      "delay time: 1352.004341402624, 1352.004341402624\n",
      "delay time: 503.8341695300438, 503.83416953004416\n",
      "delay time: 2292.246272333665, 2292.2462723336653\n"
     ]
    }
   ],
   "source": [
    "# and the awkward icetray style loop\n",
    "for i, d_pos in enumerate(dom_pos):\n",
    "    dt_i3c = get_cherenkov_time(i3track, d_pos)\n",
    "    print(f\"delay time: {dt[i]}, {dt_i3c}\") "
   ]
  },
  {
   "cell_type": "code",
   "execution_count": 240,
   "id": "c064aca1-0d4f-4d31-8d17-57cb2260ed3d",
   "metadata": {},
   "outputs": [
    {
     "name": "stdout",
     "output_type": "stream",
     "text": [
      "closest approach distance: 252.2786283094839, 252.2786283094839\n",
      "closest approach distance: 547.0912807405737, 547.0912807405737\n",
      "closest approach distance: 774.9223130782854, 774.9223130782854\n",
      "closest approach distance: 489.55568950401045, 489.55568950401045\n",
      "closest approach distance: 435.5407112064571, 435.54071120645716\n",
      "closest approach distance: 821.7018744042626, 821.7018744042625\n",
      "closest approach distance: 599.7894163065424, 599.7894163065424\n",
      "closest approach distance: 355.12949989498435, 355.12949989498424\n",
      "closest approach distance: 451.78638554785067, 451.7863855478506\n",
      "closest approach distance: 597.7924558368042, 597.7924558368042\n",
      "closest approach distance: 301.90142213903783, 301.9014221390378\n",
      "closest approach distance: 420.36928897209714, 420.36928897209714\n",
      "closest approach distance: 439.6072269226629, 439.6072269226629\n",
      "closest approach distance: 290.9073326019394, 290.90733260193934\n",
      "closest approach distance: 242.65403780284623, 242.65403780284623\n",
      "closest approach distance: 402.702988118361, 402.702988118361\n",
      "closest approach distance: 609.1256107265319, 609.1256107265319\n",
      "closest approach distance: 130.68255797392598, 130.682557973926\n",
      "closest approach distance: 235.42654665930715, 235.42654665930715\n",
      "closest approach distance: 362.3863334446819, 362.3863334446819\n",
      "closest approach distance: 514.3723796659909, 514.3723796659909\n",
      "closest approach distance: 683.713553350391, 683.7135533503908\n",
      "closest approach distance: 127.89591687865786, 127.89591687865787\n",
      "closest approach distance: 454.8901718427632, 454.8901718427632\n",
      "closest approach distance: 362.430265610166, 362.430265610166\n",
      "closest approach distance: 250.92836517870833, 250.92836517870833\n",
      "closest approach distance: 546.1265800885094, 546.1265800885094\n",
      "closest approach distance: 266.7493978072664, 266.74939780726646\n",
      "closest approach distance: 165.8613784720635, 165.8613784720635\n",
      "closest approach distance: 643.0570032600853, 643.0570032600853\n",
      "closest approach distance: 426.27571443645206, 426.27571443645206\n",
      "closest approach distance: 623.8385398496146, 623.8385398496146\n",
      "closest approach distance: 556.1645893460613, 556.1645893460615\n",
      "closest approach distance: 447.2570854074798, 447.2570854074798\n",
      "closest approach distance: 457.56054253094817, 457.56054253094817\n",
      "closest approach distance: 403.552716139371, 403.552716139371\n",
      "closest approach distance: 246.91172482877778, 246.91172482877778\n",
      "closest approach distance: 489.10309377023253, 489.10309377023253\n",
      "closest approach distance: 394.913192052673, 394.913192052673\n",
      "closest approach distance: 473.245291900298, 473.245291900298\n",
      "closest approach distance: 381.9670551629, 381.9670551629\n",
      "closest approach distance: 735.0623996261406, 735.0623996261406\n",
      "closest approach distance: 565.817320064562, 565.817320064562\n",
      "closest approach distance: 198.21720595486792, 198.21720595486786\n",
      "closest approach distance: 761.4259734144503, 761.4259734144503\n",
      "closest approach distance: 256.0295944134, 256.0295944134\n",
      "closest approach distance: 530.0106096467398, 530.0106096467398\n",
      "closest approach distance: 308.5939167040161, 308.5939167040161\n",
      "closest approach distance: 463.3674159324072, 463.36741593240725\n",
      "closest approach distance: 392.5265715165382, 392.5265715165382\n"
     ]
    }
   ],
   "source": [
    "for i, d_pos in enumerate(dom_pos):\n",
    "    s_i3c = get_closest_approach_distance(i3track, d_pos)\n",
    "    print(f\"closest approach distance: {s[i]}, {s_i3c}\") "
   ]
  },
  {
   "cell_type": "code",
   "execution_count": 241,
   "id": "b03b9024-f48c-4830-b26b-0560e9506dcb",
   "metadata": {},
   "outputs": [
    {
     "name": "stdout",
     "output_type": "stream",
     "text": [
      "closest approach point (z-component): -198.94450428033008, -198.94450428033008\n",
      "closest approach point (z-component): -396.4483953536279, -396.4483953536279\n",
      "closest approach point (z-component): -280.48117499756705, -280.48117499756705\n",
      "closest approach point (z-component): 141.79664569989149, 141.79664569989149\n",
      "closest approach point (z-component): 459.3978526507559, 459.3978526507559\n",
      "closest approach point (z-component): -449.7012122623454, -449.7012122623454\n",
      "closest approach point (z-component): -53.55258857347468, -53.55258857347468\n",
      "closest approach point (z-component): 329.6264037887747, 329.62640378877484\n",
      "closest approach point (z-component): 500.66776790403753, 500.66776790403753\n",
      "closest approach point (z-component): 114.83169746646871, 114.83169746646871\n",
      "closest approach point (z-component): -355.3790726387541, -355.3790726387541\n",
      "closest approach point (z-component): -66.9055665956665, -66.9055665956665\n",
      "closest approach point (z-component): -128.85597619352478, -128.85597619352478\n",
      "closest approach point (z-component): -657.4263224538936, -657.4263224538936\n",
      "closest approach point (z-component): -165.4576293691576, -165.4576293691576\n",
      "closest approach point (z-component): 133.71359862761824, 133.71359862761824\n",
      "closest approach point (z-component): -678.9511986316069, -678.9511986316069\n",
      "closest approach point (z-component): 53.64174619766959, 53.64174619766959\n",
      "closest approach point (z-component): -43.09632443877965, -43.09632443877965\n",
      "closest approach point (z-component): 25.376142453944254, 25.376142453944283\n",
      "closest approach point (z-component): -243.25026318483938, -243.2502631848394\n",
      "closest approach point (z-component): 146.0149516582203, 146.0149516582203\n",
      "closest approach point (z-component): 101.38701742801629, 101.38701742801629\n",
      "closest approach point (z-component): -232.91990824012274, -232.9199082401227\n",
      "closest approach point (z-component): 960.1020647014823, 960.1020647014823\n",
      "closest approach point (z-component): 112.49699008689242, 112.49699008689242\n",
      "closest approach point (z-component): 24.698036037186853, 24.69803603718688\n",
      "closest approach point (z-component): 499.7988882214696, 499.7988882214696\n",
      "closest approach point (z-component): -205.66471713978427, -205.66471713978427\n",
      "closest approach point (z-component): -73.6020696950963, -73.60206969509633\n",
      "closest approach point (z-component): 513.8812874323988, 513.8812874323988\n",
      "closest approach point (z-component): -169.5816926409513, -169.58169264095127\n",
      "closest approach point (z-component): 41.212575992334166, 41.21257599233414\n",
      "closest approach point (z-component): -2.4121360425974103, -2.4121360425974103\n",
      "closest approach point (z-component): 158.91116589949547, 158.91116589949553\n",
      "closest approach point (z-component): -144.2754926623395, -144.27549266233953\n",
      "closest approach point (z-component): -434.5513364811484, -434.5513364811484\n",
      "closest approach point (z-component): -38.95254341866536, -38.95254341866533\n",
      "closest approach point (z-component): 357.89297592931734, 357.89297592931734\n",
      "closest approach point (z-component): 243.4085545514854, 243.4085545514854\n",
      "closest approach point (z-component): -27.711255102414924, -27.711255102414896\n",
      "closest approach point (z-component): 174.6434165946087, 174.64341659460865\n",
      "closest approach point (z-component): -207.32571903202725, -207.32571903202728\n",
      "closest approach point (z-component): 374.7900908275524, 374.7900908275524\n",
      "closest approach point (z-component): -126.9495754998128, -126.9495754998128\n",
      "closest approach point (z-component): 104.81196620032671, 104.81196620032671\n",
      "closest approach point (z-component): -462.21978036179087, -462.21978036179087\n",
      "closest approach point (z-component): -79.61803602792068, -79.61803602792067\n",
      "closest approach point (z-component): -469.8510547966611, -469.85105479666106\n",
      "closest approach point (z-component): 122.15303562617339, 122.15303562617339\n"
     ]
    }
   ],
   "source": [
    "for i, d_pos in enumerate(dom_pos):\n",
    "    z_i3c = get_closest_approach_position(i3track, d_pos)[2]\n",
    "    print(f\"closest approach point (z-component): {z[i]}, {z_i3c}\") \n",
    "\n"
   ]
  },
  {
   "cell_type": "code",
   "execution_count": null,
   "id": "be946c73-c661-4566-a1a1-bcb41c2f7348",
   "metadata": {},
   "outputs": [],
   "source": []
  }
 ],
 "metadata": {
  "kernelspec": {
   "display_name": "Python 3 (ipykernel)",
   "language": "python",
   "name": "python3"
  },
  "language_info": {
   "codemirror_mode": {
    "name": "ipython",
    "version": 3
   },
   "file_extension": ".py",
   "mimetype": "text/x-python",
   "name": "python",
   "nbconvert_exporter": "python",
   "pygments_lexer": "ipython3",
   "version": "3.11.5"
  }
 },
 "nbformat": 4,
 "nbformat_minor": 5
}
