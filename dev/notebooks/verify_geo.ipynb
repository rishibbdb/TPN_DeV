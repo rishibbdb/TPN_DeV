{
 "cells": [
  {
   "cell_type": "code",
   "execution_count": 1,
   "id": "0c7ea74e-7909-4c9b-81e9-e54280dca3c7",
   "metadata": {},
   "outputs": [],
   "source": [
    "%load_ext autoreload\n",
    "%autoreload 2"
   ]
  },
  {
   "cell_type": "code",
   "execution_count": 2,
   "id": "095f29db-a553-487a-a8c2-480d5d29bcd7",
   "metadata": {},
   "outputs": [],
   "source": [
    "import jax.numpy as jnp\n",
    "import jax\n",
    "jax.config.update(\"jax_enable_x64\", True)\n",
    "\n",
    "import numpy as np"
   ]
  },
  {
   "cell_type": "code",
   "execution_count": 3,
   "id": "6da9ff5a-5e60-4c4e-a4f3-bcb79b67a831",
   "metadata": {},
   "outputs": [],
   "source": [
    "import sys\n",
    "sys.path.insert(0, \"/home/storage/hans/jax_reco/python\")\n",
    "from geo import closest_distance_dom_track, closest_distance_dom_track_v\n",
    "from geo import light_travel_time, light_travel_time_v\n",
    "from geo import z_component_closest_point_on_track, z_component_closest_point_on_track\n",
    "from geo import light_travel_time_i3calculator, light_travel_time_i3calculator_v\n",
    "from geo import convert_spherical_to_cartesian_direction\n",
    "from geo import cherenkov_cylinder_coordinates, cherenkov_cylinder_coordinates_v"
   ]
  },
  {
   "cell_type": "code",
   "execution_count": 4,
   "id": "8e3000c6-1a7a-44c3-b559-581527920bb7",
   "metadata": {},
   "outputs": [],
   "source": [
    "from icecube import dataclasses\n",
    "from icecube.phys_services import I3Calculator\n",
    "# can use the following functions:\n",
    "#    I3Calculator.cherenkov_time\n",
    "#    I3Calculator.closest_approach_distance\n",
    "#    I3Calculator.closest_approach_position\n",
    "# example: double I3Calculator::CherenkovTime(const I3Particle& particle, \n",
    "# const I3Position& position, const double IndexRefG, const double IndexRefP )\n",
    "\n",
    "from icecube.icetray import I3Units"
   ]
  },
  {
   "cell_type": "code",
   "execution_count": 5,
   "id": "f89e79d2-bed6-436c-a6d2-88c5cc9f886c",
   "metadata": {},
   "outputs": [],
   "source": [
    "# from icetray\n",
    "# https://github.com/icecube/icetray/blob/main/dataclasses/public/dataclasses/I3Constants.h\n",
    "#__n_ice_phase = 1.3195;\n",
    "#__n_ice_group = 1.35634;\n",
    "#__n_ice = __n_ice_group\n",
    "\n",
    "# or use the values from clsim in our tables\n",
    "#  'n_group': 1.32548384613875,\n",
    "#  'n_phase': 1.30799291638281\n",
    "__n_ice_phase_clsim = 1.30799291638281\n",
    "__n_ice_group_clsim = 1.32548384613875\n",
    "__n_ice_clsim = __n_ice_group_clsim\n",
    "\n",
    "__n_ice_phase = __n_ice_phase_clsim\n",
    "__n_ice_group = __n_ice_group_clsim\n",
    "__n_ice = __n_ice_clsim\n",
    "\n",
    "__theta_cherenkov = np.arccos(1/__n_ice_phase)\n",
    "__c = 0.299792458 # m / ns\n",
    "__c_ice = __c/__n_ice_group\n",
    "\n",
    "# from Matti's code\n",
    "# https://github.com/HansN87/gamma_mixture_photonics/blob/reconstruction/evaluation%20scripts/GetLLHs.py\n",
    "\n",
    "_recip__speedOfLight = 3.3356409519815204\n",
    "#_n__ = 1.32548384613875\n",
    "#_tan__thetaC = (_n__**2.-1.)**0.5\n",
    "\n",
    "# some comparisons point to difference in n_phase:\n",
    "#print(np.tan(__theta_cherenkov), _tan__thetaC)\n",
    "# 0.8608601802848123 0.8700042680210099\n",
    "\n",
    "#print(__n_ice_phase, _n__)\n",
    "# 1.3195 1.32548384613875\n",
    "\n",
    "#print((__n_ice_phase**2.-1.)**0.5)\n",
    "# 0.8608601802848125"
   ]
  },
  {
   "cell_type": "code",
   "execution_count": 6,
   "id": "a87f33f3-06e1-410c-bb66-818d369c14ce",
   "metadata": {},
   "outputs": [],
   "source": [
    "# the icetray way ... ugh. ever heard the phrase \"something being non-pythonic\" ....\n",
    "# will use these as point of comparison.\n",
    "\n",
    "def get_icecube_track_i3particle(track_pos, track_dir):\n",
    "    # track_pos: 3 component cartesian vector\n",
    "    # track_dir: 2 component spherical vector (theta, phi)\n",
    "    pos = dataclasses.I3Position(track_pos[0], track_pos[1], track_pos[2])\n",
    "    d = dataclasses.I3Direction()\n",
    "    d.set_theta_phi(track_dir[0], track_dir[1])\n",
    "    pt = 0.0 # set vertex time to 0\n",
    "    i3p = dataclasses.I3Particle(pos, d, pt, dataclasses.I3Particle.ParticleShape.InfiniteTrack, 100000 * I3Units.m)\n",
    "    return i3p\n",
    "\n",
    "def get_cherenkov_time(p, dom_pos):\n",
    "    pos = dataclasses.I3Position(dom_pos[0] * I3Units.m, dom_pos[1] * I3Units.m, dom_pos[2] * I3Units.m)\n",
    "    return I3Calculator.cherenkov_time(p, pos, __n_ice_group, __n_ice_phase)\n",
    "\n",
    "def get_closest_approach_distance(p, dom_pos):\n",
    "    pos = dataclasses.I3Position(dom_pos[0] * I3Units.m, dom_pos[1] * I3Units.m, dom_pos[2] * I3Units.m)\n",
    "    return I3Calculator.closest_approach_distance(p, pos)\n",
    "\n",
    "def get_closest_approach_position(p, dom_pos):\n",
    "    pos = dataclasses.I3Position(dom_pos[0] * I3Units.m, dom_pos[1] * I3Units.m, dom_pos[2] * I3Units.m)\n",
    "    return I3Calculator.closest_approach_position(p, pos)"
   ]
  },
  {
   "cell_type": "code",
   "execution_count": 7,
   "id": "8866ca5e-14a8-4569-806e-403a1a68eef1",
   "metadata": {},
   "outputs": [],
   "source": [
    "def light_travel_time_eijndhoven(dom_pos, track_pos, track_dir):\n",
    "    \"\"\"\n",
    "    eq. 3 / Fig. 1 of https://arxiv.org/pdf/0704.1706\n",
    "    \"\"\"\n",
    "    v_a = dom_pos - track_pos\n",
    "\n",
    "    closest_dist = closest_distance_dom_track(dom_pos, track_pos, track_dir)\n",
    "    d1 = jnp.dot(v_a, track_dir)\n",
    "    \n",
    "    dt = _recip__speedOfLight * (d1 + closest_dist * (__n_ice_group_clsim * __n_ice_phase_clsim - 1) / jnp.sqrt(__n_ice_phase_clsim * __n_ice_phase_clsim -1))\n",
    "    return dt"
   ]
  },
  {
   "cell_type": "code",
   "execution_count": 8,
   "id": "9e90bb21-30e1-4c6b-ad0f-d336ef37568a",
   "metadata": {},
   "outputs": [
    {
     "name": "stderr",
     "output_type": "stream",
     "text": [
      "CUDA backend failed to initialize: Unable to use CUDA because of the following issues with CUDA components:\n",
      "Outdated cuDNN installation found.\n",
      "Version JAX was built against: 8906\n",
      "Minimum supported: 8900\n",
      "Installed version: 8101\n",
      "The local installation version must be no lower than 8900. (Set TF_CPP_MIN_LOG_LEVEL=0 and rerun for more info.)\n"
     ]
    },
    {
     "name": "stdout",
     "output_type": "stream",
     "text": [
      "199.95201012714827\n",
      "10.375040484114887\n",
      "-149.85830716519607\n"
     ]
    }
   ],
   "source": [
    "# single example:\n",
    "\n",
    "track_pos = np.array([-10., 10., -200.])\n",
    "track_theta = np.deg2rad(10.)\n",
    "track_phi = np.deg2rad(2.)\n",
    "track_dir_sph = np.array([track_theta, track_phi])\n",
    "track_dir = np.array(convert_spherical_to_cartesian_direction(jnp.array(track_dir_sph)))\n",
    "\n",
    "i3track = get_icecube_track_i3particle(track_pos, track_dir_sph)\n",
    "dom_pos = np.array([0, 0, -150])\n",
    "\n",
    "print(get_cherenkov_time(i3track, dom_pos)) # geo time\n",
    "print(get_closest_approach_distance(i3track, dom_pos)) # closest distance to dom\n",
    "print(get_closest_approach_position(i3track, dom_pos)[2]) # z component of closest position on track"
   ]
  },
  {
   "cell_type": "code",
   "execution_count": 9,
   "id": "20ed1c95-1724-4aa4-86b8-d2f5106548ce",
   "metadata": {},
   "outputs": [
    {
     "name": "stdout",
     "output_type": "stream",
     "text": [
      "199.95201012714833\n"
     ]
    }
   ],
   "source": [
    "print(light_travel_time_i3calculator(dom_pos, track_pos, track_dir))"
   ]
  },
  {
   "cell_type": "code",
   "execution_count": 10,
   "id": "0144ff0a-f2d0-48dc-88e8-b82782e9dfeb",
   "metadata": {},
   "outputs": [
    {
     "name": "stdout",
     "output_type": "stream",
     "text": [
      "199.95201012714833\n",
      "10.375040484114885\n",
      "-149.85830716519607\n"
     ]
    }
   ],
   "source": [
    "dt, s, z = cherenkov_cylinder_coordinates(dom_pos, track_pos, track_dir)\n",
    "print(dt)\n",
    "print(s)\n",
    "print(z)"
   ]
  },
  {
   "cell_type": "code",
   "execution_count": 11,
   "id": "100ffe35-cbe3-407b-b8a7-8272bcd7154a",
   "metadata": {},
   "outputs": [
    {
     "name": "stdout",
     "output_type": "stream",
     "text": [
      "199.94345145110827\n",
      "10.375040484114885\n",
      "-149.85830716519607\n"
     ]
    }
   ],
   "source": [
    "print(light_travel_time(dom_pos, track_pos, track_dir)) # ~1.5 ns difference compared to icetray's I3Calculator.\n",
    "print(closest_distance_dom_track(dom_pos, track_pos, track_dir))\n",
    "print(z_component_closest_point_on_track(dom_pos, track_pos, track_dir))"
   ]
  },
  {
   "cell_type": "code",
   "execution_count": 12,
   "id": "6e8e977d-9c5d-413a-8999-0874b22616b1",
   "metadata": {},
   "outputs": [
    {
     "name": "stdout",
     "output_type": "stream",
     "text": [
      "199.95201012714827\n"
     ]
    }
   ],
   "source": [
    "print(light_travel_time_eijndhoven(dom_pos, track_pos, track_dir))"
   ]
  },
  {
   "cell_type": "code",
   "execution_count": 13,
   "id": "dfa21579-aa9e-4008-a7e5-b38ce0dc30ef",
   "metadata": {},
   "outputs": [],
   "source": [
    "# now demonstrate a vectorized example\n",
    "\n",
    "track_pos = np.array([-10., 10., -200.])\n",
    "track_theta = np.deg2rad(10.)\n",
    "track_phi = np.deg2rad(2.)\n",
    "track_dir_sph = np.array([track_theta, track_phi])\n",
    "track_dir = np.array(convert_spherical_to_cartesian_direction(jnp.array(track_dir_sph)))\n",
    "\n",
    "i3track = get_icecube_track_i3particle(track_pos, track_dir_sph)\n",
    "\n",
    "n_doms = 50\n",
    "dom_pos = np.random.normal(0.0, 300, (n_doms, 3))\n",
    "\n",
    "# single call that computes everything over the n_doms matrix\n",
    "dt, s, z = cherenkov_cylinder_coordinates_v(dom_pos, track_pos, track_dir)"
   ]
  },
  {
   "cell_type": "code",
   "execution_count": 14,
   "id": "d276b558-28e3-42d7-9a51-9040a3f16653",
   "metadata": {},
   "outputs": [
    {
     "name": "stdout",
     "output_type": "stream",
     "text": [
      "delay time: 2502.606495584674, 2502.6064955846737\n",
      "delay time: 2267.6818630254643, 2267.6818630254634\n",
      "delay time: 2376.3251783492783, 2376.3251783492774\n",
      "delay time: 4219.273263313385, 4219.273263313384\n",
      "delay time: 431.9806665220028, 431.98066652200276\n",
      "delay time: 2601.084912417482, 2601.0849124174815\n",
      "delay time: 196.62487330799124, 196.624873307991\n",
      "delay time: -787.0641232809071, -787.0641232809071\n",
      "delay time: 380.32508516939185, 380.3250851693915\n",
      "delay time: 2157.473528964438, 2157.4735289644377\n",
      "delay time: 2668.5801002497565, 2668.580100249757\n",
      "delay time: 2884.962587987351, 2884.96258798735\n",
      "delay time: 2438.789917473103, 2438.7899174731024\n",
      "delay time: 2255.6115603055764, 2255.611560305576\n",
      "delay time: 3348.161386384631, 3348.1613863846305\n",
      "delay time: 2269.1503055888793, 2269.1503055888793\n",
      "delay time: 172.39154892376013, 172.39154892375979\n",
      "delay time: 348.2320633923217, 348.2320633923217\n",
      "delay time: 923.5469545768229, 923.5469545768228\n",
      "delay time: 704.3774863814526, 704.3774863814523\n",
      "delay time: 2759.0891375406004, 2759.0891375406004\n",
      "delay time: 882.9392793381678, 882.9392793381679\n",
      "delay time: 2241.8924988725757, 2241.892498872576\n",
      "delay time: 653.8877021542118, 653.8877021542116\n",
      "delay time: 1200.510503248459, 1200.5105032484585\n",
      "delay time: 2116.857828278787, 2116.8578282787867\n",
      "delay time: 1670.4138215960577, 1670.413821596058\n",
      "delay time: 1550.938735970625, 1550.9387359706247\n",
      "delay time: -211.83631861253738, -211.83631861253696\n",
      "delay time: 2694.950151062584, 2694.9501510625837\n",
      "delay time: 2757.096169930858, 2757.0961699308573\n",
      "delay time: 3080.4215760684715, 3080.4215760684715\n",
      "delay time: 2831.2720427746694, 2831.2720427746694\n",
      "delay time: 109.57814326739049, 109.57814326739074\n",
      "delay time: 3532.397151708033, 3532.397151708033\n",
      "delay time: 2652.6573610491428, 2652.6573610491428\n",
      "delay time: 1381.6985102230708, 1381.6985102230703\n",
      "delay time: 1414.0828552330029, 1414.0828552330026\n",
      "delay time: 1135.7153544530468, 1135.7153544530468\n",
      "delay time: 1606.4723949014367, 1606.4723949014362\n",
      "delay time: 807.3969496194737, 807.3969496194736\n",
      "delay time: 1491.0681717969248, 1491.0681717969248\n",
      "delay time: 3062.560127688842, 3062.5601276888415\n",
      "delay time: 1515.9667308326318, 1515.9667308326314\n",
      "delay time: 1165.5142874827177, 1165.514287482717\n",
      "delay time: 1228.0183737227562, 1228.0183737227555\n",
      "delay time: 3008.404280701028, 3008.404280701028\n",
      "delay time: 3504.2956877430247, 3504.2956877430242\n",
      "delay time: 3229.643438841542, 3229.6434388415414\n",
      "delay time: 2788.5358999136142, 2788.5358999136133\n"
     ]
    }
   ],
   "source": [
    "# and the awkward icetray style loop\n",
    "for i, d_pos in enumerate(dom_pos):\n",
    "    dt_i3c = get_cherenkov_time(i3track, d_pos)\n",
    "    print(f\"delay time: {dt[i]}, {dt_i3c}\") "
   ]
  },
  {
   "cell_type": "code",
   "execution_count": 15,
   "id": "c064aca1-0d4f-4d31-8d17-57cb2260ed3d",
   "metadata": {},
   "outputs": [
    {
     "name": "stdout",
     "output_type": "stream",
     "text": [
      "closest approach distance: 715.5823913322533, 715.5823913322533\n",
      "closest approach distance: 353.7632565286089, 353.7632565286089\n",
      "closest approach distance: 623.2161477779713, 623.2161477779713\n",
      "closest approach distance: 509.1559049936035, 509.1559049936035\n",
      "closest approach distance: 69.46732411138396, 69.46732411138396\n",
      "closest approach distance: 383.6646137585335, 383.6646137585335\n",
      "closest approach distance: 430.88497456032604, 430.88497456032604\n",
      "closest approach distance: 188.37341408407613, 188.3734140840761\n",
      "closest approach distance: 484.64956283417285, 484.64956283417285\n",
      "closest approach distance: 227.82347420860788, 227.82347420860788\n",
      "closest approach distance: 106.3425519279895, 106.34255192798953\n",
      "closest approach distance: 551.0165673706605, 551.0165673706605\n",
      "closest approach distance: 394.44476066478745, 394.4447606647874\n",
      "closest approach distance: 23.59177771206387, 23.59177771206383\n",
      "closest approach distance: 549.4947246176787, 549.4947246176786\n",
      "closest approach distance: 887.6576180781565, 887.6576180781565\n",
      "closest approach distance: 435.9370932531118, 435.9370932531118\n",
      "closest approach distance: 127.46795050852681, 127.46795050852681\n",
      "closest approach distance: 81.50235614093057, 81.50235614093057\n",
      "closest approach distance: 412.9119051296302, 412.9119051296302\n",
      "closest approach distance: 563.4511304581314, 563.4511304581315\n",
      "closest approach distance: 357.1489850583797, 357.1489850583797\n",
      "closest approach distance: 168.12916319221367, 168.12916319221367\n",
      "closest approach distance: 188.59696778600744, 188.59696778600747\n",
      "closest approach distance: 418.6049534856526, 418.6049534856526\n",
      "closest approach distance: 154.9117729859298, 154.91177298592976\n",
      "closest approach distance: 172.3220215370884, 172.32202153708843\n",
      "closest approach distance: 259.23103672247555, 259.2310367224756\n",
      "closest approach distance: 560.1505981657746, 560.1505981657747\n",
      "closest approach distance: 209.39820208871194, 209.39820208871194\n",
      "closest approach distance: 671.9348728115203, 671.9348728115203\n",
      "closest approach distance: 45.7764246659443, 45.77642466594426\n",
      "closest approach distance: 355.2225344777986, 355.22253447779855\n",
      "closest approach distance: 415.15488301695507, 415.15488301695507\n",
      "closest approach distance: 702.6410707334917, 702.6410707334917\n",
      "closest approach distance: 749.2127793212883, 749.2127793212882\n",
      "closest approach distance: 245.96238586048673, 245.96238586048673\n",
      "closest approach distance: 263.761390491241, 263.761390491241\n",
      "closest approach distance: 143.60341681697625, 143.60341681697625\n",
      "closest approach distance: 597.5666702001513, 597.5666702001513\n",
      "closest approach distance: 169.22321744787234, 169.22321744787234\n",
      "closest approach distance: 236.9301485574797, 236.9301485574797\n",
      "closest approach distance: 247.62157603954986, 247.6215760395498\n",
      "closest approach distance: 387.60433925455686, 387.6043392545568\n",
      "closest approach distance: 444.0167477091448, 444.0167477091448\n",
      "closest approach distance: 613.3527135847921, 613.3527135847921\n",
      "closest approach distance: 374.1542981739513, 374.15429817395125\n",
      "closest approach distance: 829.2807867059365, 829.2807867059366\n",
      "closest approach distance: 273.80466439407337, 273.80466439407337\n",
      "closest approach distance: 443.9641436965713, 443.9641436965712\n"
     ]
    }
   ],
   "source": [
    "for i, d_pos in enumerate(dom_pos):\n",
    "    s_i3c = get_closest_approach_distance(i3track, d_pos)\n",
    "    print(f\"closest approach distance: {s[i]}, {s_i3c}\") "
   ]
  },
  {
   "cell_type": "code",
   "execution_count": 16,
   "id": "b03b9024-f48c-4830-b26b-0560e9506dcb",
   "metadata": {},
   "outputs": [
    {
     "name": "stdout",
     "output_type": "stream",
     "text": [
      "closest approach point (z-component): -74.41155503465858, -74.41155503465859\n",
      "closest approach point (z-component): 166.3198146749002, 166.31981467490016\n",
      "closest approach point (z-component): -32.53390282665582, -32.53390282665586\n",
      "closest approach point (z-component): 609.3273944147302, 609.3273944147302\n",
      "closest approach point (z-component): -131.99853465169429, -131.99853465169429\n",
      "closest approach point (z-component): 239.12666804425245, 239.12666804425248\n",
      "closest approach point (z-component): -511.2304427097513, -511.2304427097513\n",
      "closest approach point (z-component): -593.8129490167128, -593.8129490167128\n",
      "closest approach point (z-component): -503.0730630495108, -503.07306304951084\n",
      "closest approach point (z-component): 241.71636794912916, 241.71636794912916\n",
      "closest approach point (z-component): 496.7272730200811, 496.72727302008116\n",
      "closest approach point (z-component): 179.51239904844795, 179.5123990484479\n",
      "closest approach point (z-component): 181.97211388256946, 181.97211388256943\n",
      "closest approach point (z-component): 445.7232305676474, 445.7232305676474\n",
      "closest approach point (z-component): 317.570522330719, 317.5705223307191\n",
      "closest approach point (z-component): -290.8103963352488, -290.8103963352488\n",
      "closest approach point (z-component): -522.714859209044, -522.7148592090441\n",
      "closest approach point (z-component): -206.4326052301605, -206.4326052301605\n",
      "closest approach point (z-component): 2.8160925965621075, 2.8160925965621004\n",
      "closest approach point (z-component): -345.9191400952019, -345.9191400952019\n",
      "closest approach point (z-component): 131.69298141921547, 131.6929814192154\n",
      "closest approach point (z-component): -245.41040152672076, -245.41040152672073\n",
      "closest approach point (z-component): 317.79989560623164, 317.79989560623176\n",
      "closest approach point (z-component): -168.5808971960925, -168.5808971960925\n",
      "closest approach point (z-component): -204.32096782306553, -204.32096782306556\n",
      "closest approach point (z-component): 292.21262393580105, 292.21262393580105\n",
      "closest approach point (z-component): 145.4843024473893, 145.48430244738927\n",
      "closest approach point (z-component): 35.727048021515685, 35.72704802151566\n",
      "closest approach point (z-component): -742.6082642004429, -742.6082642004428\n",
      "closest approach point (z-component): 416.19087716176887, 416.19087716176887\n",
      "closest approach point (z-component): 38.130705957444285, 38.13070595744429\n",
      "closest approach point (z-component): 670.225518939487, 670.225518939487\n",
      "closest approach point (z-component): 331.46237091112556, 331.46237091112573\n",
      "closest approach point (z-component): -523.4487715027714, -523.4487715027713\n",
      "closest approach point (z-component): 240.7128201994171, 240.71282019941714\n",
      "closest approach point (z-component): -58.933115271598865, -58.933115271598865\n",
      "closest approach point (z-component): -2.867448608164532, -2.867448608164551\n",
      "closest approach point (z-component): -8.56065121460352, -8.560651214603524\n",
      "closest approach point (z-component): 12.23375025377777, 12.233750253777743\n",
      "closest approach point (z-component): -237.84126579250398, -237.841265792504\n",
      "closest approach point (z-component): -106.65524875920168, -106.65524875920168\n",
      "closest approach point (z-component): 37.163527478658956, 37.16352747865895\n",
      "closest approach point (z-component): 491.9646910155754, 491.96469101557545\n",
      "closest approach point (z-component): -84.61785012216063, -84.61785012216062\n",
      "closest approach point (z-component): -236.4318610439086, -236.4318610439086\n",
      "closest approach point (z-component): -363.1043708646501, -363.10437086465015\n",
      "closest approach point (z-component): 367.5334285179377, 367.53342851793775\n",
      "closest approach point (z-component): 123.88210301111188, 123.88210301111184\n",
      "closest approach point (z-component): 518.8543178247198, 518.8543178247198\n",
      "closest approach point (z-component): 242.79077465097149, 242.79077465097146\n"
     ]
    }
   ],
   "source": [
    "for i, d_pos in enumerate(dom_pos):\n",
    "    z_i3c = get_closest_approach_position(i3track, d_pos)[2]\n",
    "    print(f\"closest approach point (z-component): {z[i]}, {z_i3c}\") \n",
    "\n"
   ]
  },
  {
   "cell_type": "code",
   "execution_count": null,
   "id": "be946c73-c661-4566-a1a1-bcb41c2f7348",
   "metadata": {},
   "outputs": [],
   "source": []
  }
 ],
 "metadata": {
  "kernelspec": {
   "display_name": "Python 3 (ipykernel)",
   "language": "python",
   "name": "python3"
  },
  "language_info": {
   "codemirror_mode": {
    "name": "ipython",
    "version": 3
   },
   "file_extension": ".py",
   "mimetype": "text/x-python",
   "name": "python",
   "nbconvert_exporter": "python",
   "pygments_lexer": "ipython3",
   "version": "3.11.5"
  }
 },
 "nbformat": 4,
 "nbformat_minor": 5
}
