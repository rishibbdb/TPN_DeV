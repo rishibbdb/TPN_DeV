{
 "cells": [
  {
   "cell_type": "code",
   "execution_count": 1,
   "id": "0c7ea74e-7909-4c9b-81e9-e54280dca3c7",
   "metadata": {},
   "outputs": [],
   "source": [
    "%load_ext autoreload\n",
    "%autoreload 2"
   ]
  },
  {
   "cell_type": "code",
   "execution_count": 2,
   "id": "095f29db-a553-487a-a8c2-480d5d29bcd7",
   "metadata": {},
   "outputs": [],
   "source": [
    "import jax.numpy as jnp\n",
    "import jax\n",
    "jax.config.update(\"jax_enable_x64\", True)\n",
    "\n",
    "import numpy as np"
   ]
  },
  {
   "cell_type": "code",
   "execution_count": 3,
   "id": "6da9ff5a-5e60-4c4e-a4f3-bcb79b67a831",
   "metadata": {},
   "outputs": [],
   "source": [
    "import sys\n",
    "sys.path.insert(0, \"/home/storage/hans/jax_reco/python\")\n",
    "from geo import closest_distance_dom_track, closest_distance_dom_track_v\n",
    "from geo import light_travel_time, light_travel_time_v\n",
    "from geo import z_component_closest_point_on_track, z_component_closest_point_on_track\n",
    "from geo import light_travel_time_i3calculator, light_travel_time_i3calculator_v\n",
    "from geo import convert_spherical_to_cartesian_direction\n",
    "from geo import cherenkov_cylinder_coordinates, cherenkov_cylinder_coordinates_v"
   ]
  },
  {
   "cell_type": "code",
   "execution_count": 4,
   "id": "8e3000c6-1a7a-44c3-b559-581527920bb7",
   "metadata": {},
   "outputs": [],
   "source": [
    "from icecube import dataclasses\n",
    "from icecube.phys_services import I3Calculator\n",
    "# can use the following functions:\n",
    "#    I3Calculator.cherenkov_time\n",
    "#    I3Calculator.closest_approach_distance\n",
    "#    I3Calculator.closest_approach_position\n",
    "# example: double I3Calculator::CherenkovTime(const I3Particle& particle, \n",
    "# const I3Position& position, const double IndexRefG, const double IndexRefP )\n",
    "\n",
    "from icecube.icetray import I3Units"
   ]
  },
  {
   "cell_type": "code",
   "execution_count": 6,
   "id": "f89e79d2-bed6-436c-a6d2-88c5cc9f886c",
   "metadata": {},
   "outputs": [],
   "source": [
    "# from icetray\n",
    "# https://github.com/icecube/icetray/blob/main/dataclasses/public/dataclasses/I3Constants.h\n",
    "#__n_ice_phase = 1.3195;\n",
    "#__n_ice_group = 1.35634;\n",
    "#__n_ice = __n_ice_group\n",
    "\n",
    "# or use the values from clsim in our tables\n",
    "#  'n_group': 1.32548384613875,\n",
    "#  'n_phase': 1.30799291638281\n",
    "__n_ice_phase_clsim = 1.30799291638281\n",
    "__n_ice_group_clsim = 1.32548384613875\n",
    "__n_ice_clsim = __n_ice_group_clsim\n",
    "\n",
    "__n_ice_phase = __n_ice_phase_clsim\n",
    "__n_ice_group = __n_ice_group_clsim\n",
    "__n_ice = __n_ice_clsim\n",
    "\n",
    "__theta_cherenkov = np.arccos(1/__n_ice_phase)\n",
    "__c = 0.299792458 # m / ns\n",
    "__c_ice = __c/__n_ice_group\n",
    "\n",
    "# from Matti's code\n",
    "# https://github.com/HansN87/gamma_mixture_photonics/blob/reconstruction/evaluation%20scripts/GetLLHs.py\n",
    "\n",
    "_recip__speedOfLight = 3.3356409519815204\n",
    "#_n__ = 1.32548384613875\n",
    "#_tan__thetaC = (_n__**2.-1.)**0.5\n",
    "\n",
    "# some comparisons point to difference in n_phase:\n",
    "#print(np.tan(__theta_cherenkov), _tan__thetaC)\n",
    "# 0.8608601802848123 0.8700042680210099\n",
    "\n",
    "#print(__n_ice_phase, _n__)\n",
    "# 1.3195 1.32548384613875\n",
    "\n",
    "#print((__n_ice_phase**2.-1.)**0.5)\n",
    "# 0.8608601802848125"
   ]
  },
  {
   "cell_type": "code",
   "execution_count": 7,
   "id": "a87f33f3-06e1-410c-bb66-818d369c14ce",
   "metadata": {},
   "outputs": [],
   "source": [
    "# the icetray way ... ugh. ever heard the phrase \"something being non-pythonic\" ....\n",
    "# will use these as point of comparison.\n",
    "\n",
    "def get_icecube_track_i3particle(track_pos, track_dir):\n",
    "    # track_pos: 3 component cartesian vector\n",
    "    # track_dir: 2 component spherical vector (theta, phi)\n",
    "    pos = dataclasses.I3Position(track_pos[0], track_pos[1], track_pos[2])\n",
    "    d = dataclasses.I3Direction()\n",
    "    d.set_theta_phi(track_dir[0], track_dir[1])\n",
    "    pt = 0.0 # set vertex time to 0\n",
    "    i3p = dataclasses.I3Particle(pos, d, pt, dataclasses.I3Particle.ParticleShape.InfiniteTrack, 100000 * I3Units.m)\n",
    "    return i3p\n",
    "\n",
    "def get_cherenkov_time(p, dom_pos):\n",
    "    pos = dataclasses.I3Position(dom_pos[0] * I3Units.m, dom_pos[1] * I3Units.m, dom_pos[2] * I3Units.m)\n",
    "    return I3Calculator.cherenkov_time(p, pos, __n_ice_group, __n_ice_phase)\n",
    "\n",
    "def get_closest_approach_distance(p, dom_pos):\n",
    "    pos = dataclasses.I3Position(dom_pos[0] * I3Units.m, dom_pos[1] * I3Units.m, dom_pos[2] * I3Units.m)\n",
    "    return I3Calculator.closest_approach_distance(p, pos)\n",
    "\n",
    "def get_closest_approach_position(p, dom_pos):\n",
    "    pos = dataclasses.I3Position(dom_pos[0] * I3Units.m, dom_pos[1] * I3Units.m, dom_pos[2] * I3Units.m)\n",
    "    return I3Calculator.closest_approach_position(p, pos)"
   ]
  },
  {
   "cell_type": "code",
   "execution_count": 8,
   "id": "8866ca5e-14a8-4569-806e-403a1a68eef1",
   "metadata": {},
   "outputs": [],
   "source": [
    "def light_travel_time_eijndhoven(dom_pos, track_pos, track_dir):\n",
    "    \"\"\"\n",
    "    eq. 3 / Fig. 1 of https://arxiv.org/pdf/0704.1706\n",
    "    \"\"\"\n",
    "    v_a = dom_pos - track_pos\n",
    "\n",
    "    closest_dist = closest_distance_dom_track(dom_pos, track_pos, track_dir)\n",
    "    d1 = jnp.dot(v_a, track_dir)\n",
    "    \n",
    "    dt = _recip__speedOfLight * (d1 + closest_dist * (__n_ice_group_clsim * __n_ice_phase_clsim - 1) / jnp.sqrt(__n_ice_phase_clsim * __n_ice_phase_clsim -1))\n",
    "    return dt"
   ]
  },
  {
   "cell_type": "code",
   "execution_count": 9,
   "id": "9e90bb21-30e1-4c6b-ad0f-d336ef37568a",
   "metadata": {},
   "outputs": [
    {
     "name": "stderr",
     "output_type": "stream",
     "text": [
      "CUDA backend failed to initialize: Unable to use CUDA because of the following issues with CUDA components:\n",
      "Outdated cuDNN installation found.\n",
      "Version JAX was built against: 8906\n",
      "Minimum supported: 8900\n",
      "Installed version: 8101\n",
      "The local installation version must be no lower than 8900. (Set TF_CPP_MIN_LOG_LEVEL=0 and rerun for more info.)\n"
     ]
    },
    {
     "name": "stdout",
     "output_type": "stream",
     "text": [
      "199.95201012714827\n",
      "10.375040484114887\n",
      "-149.85830716519607\n"
     ]
    }
   ],
   "source": [
    "# single example:\n",
    "\n",
    "track_pos = np.array([-10., 10., -200.])\n",
    "track_theta = np.deg2rad(10.)\n",
    "track_phi = np.deg2rad(2.)\n",
    "track_dir_sph = np.array([track_theta, track_phi])\n",
    "track_dir = np.array(convert_spherical_to_cartesian_direction(jnp.array(track_dir_sph)))\n",
    "\n",
    "i3track = get_icecube_track_i3particle(track_pos, track_dir_sph)\n",
    "dom_pos = np.array([0, 0, -150])\n",
    "\n",
    "print(get_cherenkov_time(i3track, dom_pos)) # geo time\n",
    "print(get_closest_approach_distance(i3track, dom_pos)) # closest distance to dom\n",
    "print(get_closest_approach_position(i3track, dom_pos)[2]) # z component of closest position on track"
   ]
  },
  {
   "cell_type": "code",
   "execution_count": 10,
   "id": "20ed1c95-1724-4aa4-86b8-d2f5106548ce",
   "metadata": {},
   "outputs": [
    {
     "name": "stdout",
     "output_type": "stream",
     "text": [
      "199.95201012714833\n"
     ]
    }
   ],
   "source": [
    "print(light_travel_time_i3calculator(dom_pos, track_pos, track_dir))"
   ]
  },
  {
   "cell_type": "code",
   "execution_count": 11,
   "id": "0144ff0a-f2d0-48dc-88e8-b82782e9dfeb",
   "metadata": {},
   "outputs": [
    {
     "name": "stdout",
     "output_type": "stream",
     "text": [
      "199.95201012714833\n",
      "10.375040484114885\n",
      "-149.85830716519607\n"
     ]
    }
   ],
   "source": [
    "dt, s, z = cherenkov_cylinder_coordinates(dom_pos, track_pos, track_dir)\n",
    "print(dt)\n",
    "print(s)\n",
    "print(z)"
   ]
  },
  {
   "cell_type": "code",
   "execution_count": 12,
   "id": "100ffe35-cbe3-407b-b8a7-8272bcd7154a",
   "metadata": {},
   "outputs": [
    {
     "name": "stdout",
     "output_type": "stream",
     "text": [
      "199.94345145110827\n",
      "10.375040484114885\n",
      "-149.85830716519607\n"
     ]
    }
   ],
   "source": [
    "print(light_travel_time(dom_pos, track_pos, track_dir)) # ~1.5 ns difference compared to icetray's I3Calculator.\n",
    "print(closest_distance_dom_track(dom_pos, track_pos, track_dir))\n",
    "print(z_component_closest_point_on_track(dom_pos, track_pos, track_dir))"
   ]
  },
  {
   "cell_type": "code",
   "execution_count": 13,
   "id": "6e8e977d-9c5d-413a-8999-0874b22616b1",
   "metadata": {},
   "outputs": [
    {
     "name": "stdout",
     "output_type": "stream",
     "text": [
      "199.95201012714827\n"
     ]
    }
   ],
   "source": [
    "print(light_travel_time_eijndhoven(dom_pos, track_pos, track_dir))"
   ]
  },
  {
   "cell_type": "code",
   "execution_count": null,
   "id": "dfa21579-aa9e-4008-a7e5-b38ce0dc30ef",
   "metadata": {},
   "outputs": [],
   "source": [
    "# now demonstrate a vectorized example\n",
    "\n",
    "track_pos = np.array([-10., 10., -200.])\n",
    "track_theta = np.deg2rad(10.)\n",
    "track_phi = np.deg2rad(2.)\n",
    "track_dir_sph = np.array([track_theta, track_phi])\n",
    "track_dir = np.array(convert_spherical_to_cartesian_direction(jnp.array(track_dir_sph)))\n",
    "\n",
    "i3track = get_icecube_track_i3particle(track_pos, track_dir_sph)\n",
    "\n",
    "n_doms = 50\n",
    "dom_pos = np.random.normal(0.0, 300, (n_doms, 3))\n",
    "\n",
    "# single call that computes everything over the n_doms matrix\n",
    "dt, s, z = cherenkov_cylinder_coordinates_v(dom_pos, track_pos, track_dir)"
   ]
  },
  {
   "cell_type": "code",
   "execution_count": null,
   "id": "d276b558-28e3-42d7-9a51-9040a3f16653",
   "metadata": {},
   "outputs": [],
   "source": [
    "# and the awkward icetray style loop\n",
    "for i, d_pos in enumerate(dom_pos):\n",
    "    dt_i3c = get_cherenkov_time(i3track, d_pos)\n",
    "    print(f\"delay time: {dt[i]}, {dt_i3c}\") "
   ]
  },
  {
   "cell_type": "code",
   "execution_count": null,
   "id": "c064aca1-0d4f-4d31-8d17-57cb2260ed3d",
   "metadata": {},
   "outputs": [],
   "source": [
    "for i, d_pos in enumerate(dom_pos):\n",
    "    s_i3c = get_closest_approach_distance(i3track, d_pos)\n",
    "    print(f\"closest approach distance: {s[i]}, {s_i3c}\") "
   ]
  },
  {
   "cell_type": "code",
   "execution_count": null,
   "id": "b03b9024-f48c-4830-b26b-0560e9506dcb",
   "metadata": {},
   "outputs": [],
   "source": [
    "for i, d_pos in enumerate(dom_pos):\n",
    "    z_i3c = get_closest_approach_position(i3track, d_pos)[2]\n",
    "    print(f\"closest approach point (z-component): {z[i]}, {z_i3c}\") \n",
    "\n"
   ]
  },
  {
   "cell_type": "code",
   "execution_count": null,
   "id": "be946c73-c661-4566-a1a1-bcb41c2f7348",
   "metadata": {},
   "outputs": [],
   "source": []
  }
 ],
 "metadata": {
  "kernelspec": {
   "display_name": "Python 3 (ipykernel)",
   "language": "python",
   "name": "python3"
  },
  "language_info": {
   "codemirror_mode": {
    "name": "ipython",
    "version": 3
   },
   "file_extension": ".py",
   "mimetype": "text/x-python",
   "name": "python",
   "nbconvert_exporter": "python",
   "pygments_lexer": "ipython3",
   "version": "3.11.5"
  }
 },
 "nbformat": 4,
 "nbformat_minor": 5
}
