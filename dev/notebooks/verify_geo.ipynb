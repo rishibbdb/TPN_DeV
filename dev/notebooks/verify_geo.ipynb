{
 "cells": [
  {
   "cell_type": "code",
   "execution_count": 1,
   "id": "0c7ea74e-7909-4c9b-81e9-e54280dca3c7",
   "metadata": {},
   "outputs": [],
   "source": [
    "%load_ext autoreload\n",
    "%autoreload 2"
   ]
  },
  {
   "cell_type": "code",
   "execution_count": 2,
   "id": "095f29db-a553-487a-a8c2-480d5d29bcd7",
   "metadata": {},
   "outputs": [],
   "source": [
    "import jax.numpy as jnp\n",
    "import jax\n",
    "jax.config.update(\"jax_enable_x64\", True)\n",
    "\n",
    "import numpy as np"
   ]
  },
  {
   "cell_type": "code",
   "execution_count": 3,
   "id": "6da9ff5a-5e60-4c4e-a4f3-bcb79b67a831",
   "metadata": {},
   "outputs": [],
   "source": [
    "import sys\n",
    "sys.path.insert(0, \"/home/storage/hans/jax_reco/python\")\n",
    "from geo import closest_distance_dom_track, closest_distance_dom_track_v\n",
    "from geo import light_travel_time, light_travel_time_v\n",
    "from geo import z_component_closest_point_on_track, z_component_closest_point_on_track\n",
    "from geo import light_travel_time_i3calculator, light_travel_time_i3calculator_v\n",
    "from geo import convert_spherical_to_cartesian_direction\n",
    "from geo import cherenkov_cylinder_coordinates, cherenkov_cylinder_coordinates_v"
   ]
  },
  {
   "cell_type": "code",
   "execution_count": 4,
   "id": "8e3000c6-1a7a-44c3-b559-581527920bb7",
   "metadata": {},
   "outputs": [],
   "source": [
    "from icecube import dataclasses\n",
    "from icecube.phys_services import I3Calculator\n",
    "# can use the following functions:\n",
    "#    I3Calculator.cherenkov_time\n",
    "#    I3Calculator.closest_approach_distance\n",
    "#    I3Calculator.closest_approach_position\n",
    "# example: double I3Calculator::CherenkovTime(const I3Particle& particle, \n",
    "# const I3Position& position, const double IndexRefG, const double IndexRefP )\n",
    "\n",
    "from icecube.icetray import I3Units"
   ]
  },
  {
   "cell_type": "code",
   "execution_count": 5,
   "id": "f89e79d2-bed6-436c-a6d2-88c5cc9f886c",
   "metadata": {},
   "outputs": [],
   "source": [
    "# from icetray\n",
    "# https://github.com/icecube/icetray/blob/main/dataclasses/public/dataclasses/I3Constants.h\n",
    "#__n_ice_phase = 1.3195;\n",
    "#__n_ice_group = 1.35634;\n",
    "#__n_ice = __n_ice_group\n",
    "\n",
    "# or use the values from clsim in our tables\n",
    "#  'n_group': 1.32548384613875,\n",
    "#  'n_phase': 1.30799291638281\n",
    "__n_ice_phase_clsim = 1.30799291638281\n",
    "__n_ice_group_clsim = 1.32548384613875\n",
    "__n_ice_clsim = __n_ice_group_clsim\n",
    "\n",
    "__n_ice_phase = __n_ice_phase_clsim\n",
    "__n_ice_group = __n_ice_group_clsim\n",
    "__n_ice = __n_ice_clsim\n",
    "\n",
    "__theta_cherenkov = np.arccos(1/__n_ice_phase)\n",
    "__c = 0.299792458 # m / ns\n",
    "__c_ice = __c/__n_ice_group\n",
    "\n",
    "# from Matti's code\n",
    "# https://github.com/HansN87/gamma_mixture_photonics/blob/reconstruction/evaluation%20scripts/GetLLHs.py\n",
    "\n",
    "_recip__speedOfLight = 3.3356409519815204\n",
    "#_n__ = 1.32548384613875\n",
    "#_tan__thetaC = (_n__**2.-1.)**0.5\n",
    "\n",
    "# some comparisons point to difference in n_phase:\n",
    "#print(np.tan(__theta_cherenkov), _tan__thetaC)\n",
    "# 0.8608601802848123 0.8700042680210099\n",
    "\n",
    "#print(__n_ice_phase, _n__)\n",
    "# 1.3195 1.32548384613875\n",
    "\n",
    "#print((__n_ice_phase**2.-1.)**0.5)\n",
    "# 0.8608601802848125"
   ]
  },
  {
   "cell_type": "code",
   "execution_count": 6,
   "id": "a87f33f3-06e1-410c-bb66-818d369c14ce",
   "metadata": {},
   "outputs": [],
   "source": [
    "# the icetray way ... ugh. ever heard the phrase \"something being non-pythonic\" ....\n",
    "# will use these as point of comparison.\n",
    "\n",
    "def get_icecube_track_i3particle(track_pos, track_dir):\n",
    "    # track_pos: 3 component cartesian vector\n",
    "    # track_dir: 2 component spherical vector (theta, phi)\n",
    "    pos = dataclasses.I3Position(track_pos[0], track_pos[1], track_pos[2])\n",
    "    d = dataclasses.I3Direction()\n",
    "    d.set_theta_phi(track_dir[0], track_dir[1])\n",
    "    pt = 0.0 # set vertex time to 0\n",
    "    i3p = dataclasses.I3Particle(pos, d, pt, dataclasses.I3Particle.ParticleShape.InfiniteTrack, 100000 * I3Units.m)\n",
    "    return i3p\n",
    "\n",
    "def get_cherenkov_time(p, dom_pos):\n",
    "    pos = dataclasses.I3Position(dom_pos[0] * I3Units.m, dom_pos[1] * I3Units.m, dom_pos[2] * I3Units.m)\n",
    "    return I3Calculator.cherenkov_time(p, pos, __n_ice_group, __n_ice_phase)\n",
    "\n",
    "def get_closest_approach_distance(p, dom_pos):\n",
    "    pos = dataclasses.I3Position(dom_pos[0] * I3Units.m, dom_pos[1] * I3Units.m, dom_pos[2] * I3Units.m)\n",
    "    return I3Calculator.closest_approach_distance(p, pos)\n",
    "\n",
    "def get_closest_approach_position(p, dom_pos):\n",
    "    pos = dataclasses.I3Position(dom_pos[0] * I3Units.m, dom_pos[1] * I3Units.m, dom_pos[2] * I3Units.m)\n",
    "    return I3Calculator.closest_approach_position(p, pos)"
   ]
  },
  {
   "cell_type": "code",
   "execution_count": 7,
   "id": "8866ca5e-14a8-4569-806e-403a1a68eef1",
   "metadata": {},
   "outputs": [],
   "source": [
    "def light_travel_time_eijndhoven(dom_pos, track_pos, track_dir):\n",
    "    \"\"\"\n",
    "    eq. 3 / Fig. 1 of https://arxiv.org/pdf/0704.1706\n",
    "    \"\"\"\n",
    "    v_a = dom_pos - track_pos\n",
    "\n",
    "    closest_dist = closest_distance_dom_track(dom_pos, track_pos, track_dir)\n",
    "    d1 = jnp.dot(v_a, track_dir)\n",
    "    \n",
    "    dt = _recip__speedOfLight * (d1 + closest_dist * (__n_ice_group_clsim * __n_ice_phase_clsim - 1) / jnp.sqrt(__n_ice_phase_clsim * __n_ice_phase_clsim -1))\n",
    "    return dt"
   ]
  },
  {
   "cell_type": "code",
   "execution_count": 8,
   "id": "9e90bb21-30e1-4c6b-ad0f-d336ef37568a",
   "metadata": {},
   "outputs": [
    {
     "name": "stdout",
     "output_type": "stream",
     "text": [
      "199.95201012714827\n",
      "10.375040484114887\n",
      "-149.85830716519607\n"
     ]
    }
   ],
   "source": [
    "# single example:\n",
    "\n",
    "track_pos = np.array([-10., 10., -200.])\n",
    "track_theta = np.deg2rad(10.)\n",
    "track_phi = np.deg2rad(2.)\n",
    "track_dir_sph = np.array([track_theta, track_phi])\n",
    "track_dir = np.array(convert_spherical_to_cartesian_direction(jnp.array(track_dir_sph)))\n",
    "\n",
    "i3track = get_icecube_track_i3particle(track_pos, track_dir_sph)\n",
    "dom_pos = np.array([0, 0, -150])\n",
    "\n",
    "print(get_cherenkov_time(i3track, dom_pos)) # geo time\n",
    "print(get_closest_approach_distance(i3track, dom_pos)) # closest distance to dom\n",
    "print(get_closest_approach_position(i3track, dom_pos)[2]) # z component of closest position on track"
   ]
  },
  {
   "cell_type": "code",
   "execution_count": 9,
   "id": "20ed1c95-1724-4aa4-86b8-d2f5106548ce",
   "metadata": {},
   "outputs": [
    {
     "name": "stdout",
     "output_type": "stream",
     "text": [
      "199.9520101271483\n"
     ]
    }
   ],
   "source": [
    "print(light_travel_time_i3calculator(dom_pos, track_pos, track_dir))"
   ]
  },
  {
   "cell_type": "code",
   "execution_count": 10,
   "id": "0144ff0a-f2d0-48dc-88e8-b82782e9dfeb",
   "metadata": {},
   "outputs": [
    {
     "name": "stdout",
     "output_type": "stream",
     "text": [
      "199.9520101271483\n",
      "10.375040484114885\n",
      "-149.85830716519607\n"
     ]
    }
   ],
   "source": [
    "dt, s, z = cherenkov_cylinder_coordinates(dom_pos, track_pos, track_dir)\n",
    "print(dt)\n",
    "print(s)\n",
    "print(z)"
   ]
  },
  {
   "cell_type": "code",
   "execution_count": 11,
   "id": "100ffe35-cbe3-407b-b8a7-8272bcd7154a",
   "metadata": {},
   "outputs": [
    {
     "name": "stdout",
     "output_type": "stream",
     "text": [
      "199.94345145110827\n",
      "10.375040484114885\n",
      "-149.85830716519607\n"
     ]
    }
   ],
   "source": [
    "print(light_travel_time(dom_pos, track_pos, track_dir)) # ~1.5 ns difference compared to icetray's I3Calculator.\n",
    "print(closest_distance_dom_track(dom_pos, track_pos, track_dir))\n",
    "print(z_component_closest_point_on_track(dom_pos, track_pos, track_dir))"
   ]
  },
  {
   "cell_type": "code",
   "execution_count": 12,
   "id": "6e8e977d-9c5d-413a-8999-0874b22616b1",
   "metadata": {},
   "outputs": [
    {
     "name": "stdout",
     "output_type": "stream",
     "text": [
      "199.95201012714827\n"
     ]
    }
   ],
   "source": [
    "print(light_travel_time_eijndhoven(dom_pos, track_pos, track_dir))"
   ]
  },
  {
   "cell_type": "code",
   "execution_count": 13,
   "id": "dfa21579-aa9e-4008-a7e5-b38ce0dc30ef",
   "metadata": {},
   "outputs": [],
   "source": [
    "# now demonstrate a vectorized example\n",
    "\n",
    "track_pos = np.array([-10., 10., -200.])\n",
    "track_theta = np.deg2rad(10.)\n",
    "track_phi = np.deg2rad(2.)\n",
    "track_dir_sph = np.array([track_theta, track_phi])\n",
    "track_dir = np.array(convert_spherical_to_cartesian_direction(jnp.array(track_dir_sph)))\n",
    "\n",
    "i3track = get_icecube_track_i3particle(track_pos, track_dir_sph)\n",
    "\n",
    "n_doms = 50\n",
    "dom_pos = np.random.normal(0.0, 300, (n_doms, 3))\n",
    "\n",
    "# single call that computes everything over the n_doms matrix\n",
    "dt, s, z = cherenkov_cylinder_coordinates_v(dom_pos, track_pos, track_dir)"
   ]
  },
  {
   "cell_type": "code",
   "execution_count": 14,
   "id": "d276b558-28e3-42d7-9a51-9040a3f16653",
   "metadata": {},
   "outputs": [
    {
     "name": "stdout",
     "output_type": "stream",
     "text": [
      "delay time: 1884.698515916533, 1884.698515916533\n",
      "delay time: 3610.9923590396356, 3610.9923590396356\n",
      "delay time: 1952.9559119763908, 1952.9559119763906\n",
      "delay time: 1625.3913560175758, 1625.3913560175758\n",
      "delay time: 1312.6635251187663, 1312.6635251187658\n",
      "delay time: 2669.3316722180803, 2669.3316722180803\n",
      "delay time: 4685.405048016598, 4685.405048016597\n",
      "delay time: 1105.3329243723986, 1105.3329243723983\n",
      "delay time: 1489.0334008130096, 1489.0334008130094\n",
      "delay time: 2304.9776240589927, 2304.977624058992\n",
      "delay time: 2303.3012914522583, 2303.3012914522583\n",
      "delay time: 2377.84169706103, 2377.84169706103\n",
      "delay time: 806.0388450138894, 806.0388450138897\n",
      "delay time: 2459.3606370529005, 2459.3606370529005\n",
      "delay time: 346.2364353508182, 346.23643535081817\n",
      "delay time: 165.22969392609275, 165.22969392609255\n",
      "delay time: 880.5243851171149, 880.5243851171148\n",
      "delay time: -655.7543114653313, -655.7543114653317\n",
      "delay time: 1446.2677382968805, 1446.2677382968802\n",
      "delay time: 892.9454672512956, 892.9454672512954\n",
      "delay time: 2372.775906439099, 2372.775906439098\n",
      "delay time: 3831.4446295824905, 3831.4446295824905\n",
      "delay time: 1843.4777190840414, 1843.4777190840405\n",
      "delay time: 2906.530191031174, 2906.5301910311737\n",
      "delay time: 1330.3743520134, 1330.3743520133999\n",
      "delay time: 3763.5466041798995, 3763.5466041798995\n",
      "delay time: 742.5346049556572, 742.5346049556572\n",
      "delay time: 156.15551274899045, 156.15551274899045\n",
      "delay time: 1908.2315601256491, 1908.2315601256485\n",
      "delay time: 1826.0415825795035, 1826.041582579504\n",
      "delay time: 1216.9718989243077, 1216.9718989243072\n",
      "delay time: 2734.46396103333, 2734.46396103333\n",
      "delay time: 1962.5390266485213, 1962.5390266485213\n",
      "delay time: 1398.8920659550577, 1398.892065955056\n",
      "delay time: 3073.6751028832505, 3073.6751028832505\n",
      "delay time: 1988.7131896221408, 1988.7131896221406\n",
      "delay time: 1185.716247972365, 1185.7162479723647\n",
      "delay time: 3839.5133077784535, 3839.513307778453\n",
      "delay time: -230.2778021827664, -230.27780218276658\n",
      "delay time: 2457.8978950066617, 2457.897895006661\n",
      "delay time: 2717.554787014156, 2717.5547870141545\n",
      "delay time: 1960.0163007957399, 1960.01630079574\n",
      "delay time: 2083.6818646540382, 2083.681864654038\n",
      "delay time: 2097.806770200365, 2097.8067702003646\n",
      "delay time: -762.2118615115625, -762.2118615115623\n",
      "delay time: 1280.9563249107573, 1280.9563249107566\n",
      "delay time: 2618.8868408876324, 2618.886840887632\n",
      "delay time: 1670.7718809182968, 1670.7718809182966\n",
      "delay time: 70.22122779463005, 70.22122779463005\n",
      "delay time: -32.17512275023411, -32.17512275023406\n"
     ]
    }
   ],
   "source": [
    "# and the awkward icetray style loop\n",
    "for i, d_pos in enumerate(dom_pos):\n",
    "    dt_i3c = get_cherenkov_time(i3track, d_pos)\n",
    "    print(f\"delay time: {dt[i]}, {dt_i3c}\") "
   ]
  },
  {
   "cell_type": "code",
   "execution_count": 15,
   "id": "c064aca1-0d4f-4d31-8d17-57cb2260ed3d",
   "metadata": {},
   "outputs": [
    {
     "name": "stdout",
     "output_type": "stream",
     "text": [
      "closest approach distance: 365.3280630880061, 365.3280630880062\n",
      "closest approach distance: 353.37933002789106, 353.37933002789106\n",
      "closest approach distance: 243.3327190764864, 243.33271907648643\n",
      "closest approach distance: 160.4315576282276, 160.43155762822758\n",
      "closest approach distance: 29.61776122052171, 29.617761220521693\n",
      "closest approach distance: 607.4053959237596, 607.4053959237598\n",
      "closest approach distance: 919.6854408627439, 919.685440862744\n",
      "closest approach distance: 488.9165235104298, 488.9165235104298\n",
      "closest approach distance: 359.5653492286575, 359.56534922865745\n",
      "closest approach distance: 315.10760739389957, 315.10760739389957\n",
      "closest approach distance: 335.07301863799984, 335.07301863799984\n",
      "closest approach distance: 386.50390125157537, 386.50390125157537\n",
      "closest approach distance: 339.65671540227487, 339.65671540227487\n",
      "closest approach distance: 781.4218034597084, 781.4218034597084\n",
      "closest approach distance: 487.4320992576221, 487.43209925762216\n",
      "closest approach distance: 146.4260661212612, 146.42606612126116\n",
      "closest approach distance: 180.09503272194382, 180.09503272194382\n",
      "closest approach distance: 122.1231323375649, 122.1231323375649\n",
      "closest approach distance: 263.47130958627, 263.47130958627\n",
      "closest approach distance: 306.7384312177288, 306.7384312177288\n",
      "closest approach distance: 658.0400625199211, 658.0400625199211\n",
      "closest approach distance: 672.6838634129915, 672.6838634129916\n",
      "closest approach distance: 796.7196777201125, 796.7196777201125\n",
      "closest approach distance: 607.3541883492943, 607.3541883492943\n",
      "closest approach distance: 310.2041310155293, 310.2041310155293\n",
      "closest approach distance: 323.56725895687856, 323.56725895687856\n",
      "closest approach distance: 283.332649575226, 283.332649575226\n",
      "closest approach distance: 332.4081971509488, 332.40819715094887\n",
      "closest approach distance: 437.5421478417206, 437.5421478417206\n",
      "closest approach distance: 410.7542415532148, 410.7542415532148\n",
      "closest approach distance: 391.8482949683715, 391.8482949683715\n",
      "closest approach distance: 101.17149760182978, 101.17149760182978\n",
      "closest approach distance: 47.84980651612177, 47.84980651612178\n",
      "closest approach distance: 699.1403151486039, 699.1403151486039\n",
      "closest approach distance: 551.5963023676541, 551.5963023676541\n",
      "closest approach distance: 107.81815798610778, 107.81815798610778\n",
      "closest approach distance: 350.70764968354484, 350.70764968354484\n",
      "closest approach distance: 537.600301628752, 537.600301628752\n",
      "closest approach distance: 226.62992739965208, 226.62992739965208\n",
      "closest approach distance: 699.0792714816181, 699.0792714816181\n",
      "closest approach distance: 709.5478264592082, 709.5478264592082\n",
      "closest approach distance: 397.3690246802003, 397.36902468020037\n",
      "closest approach distance: 400.89153855937536, 400.8915385593754\n",
      "closest approach distance: 241.68467637304403, 241.68467637304403\n",
      "closest approach distance: 320.76281163731005, 320.76281163731005\n",
      "closest approach distance: 274.51833325407375, 274.51833325407375\n",
      "closest approach distance: 632.5036960253254, 632.5036960253254\n",
      "closest approach distance: 452.46973592131934, 452.46973592131934\n",
      "closest approach distance: 173.68695550958773, 173.68695550958773\n",
      "closest approach distance: 40.82142824983734, 40.82142824983734\n"
     ]
    }
   ],
   "source": [
    "for i, d_pos in enumerate(dom_pos):\n",
    "    s_i3c = get_closest_approach_distance(i3track, d_pos)\n",
    "    print(f\"closest approach distance: {s[i]}, {s_i3c}\") "
   ]
  },
  {
   "cell_type": "code",
   "execution_count": 16,
   "id": "b03b9024-f48c-4830-b26b-0560e9506dcb",
   "metadata": {},
   "outputs": [
    {
     "name": "stdout",
     "output_type": "stream",
     "text": [
      "closest approach point (z-component): 43.33720946112538, 43.337209461125354\n",
      "closest approach point (z-component): 563.2450708989481, 563.2450708989481\n",
      "closest approach point (z-component): 168.043112778644, 168.043112778644\n",
      "closest approach point (z-component): 142.38245280864095, 142.38245280864095\n",
      "closest approach point (z-component): 162.16474637231704, 162.16474637231698\n",
      "closest approach point (z-component): 67.52302647849649, 67.52302647849649\n",
      "closest approach point (z-component): 395.1108479884372, 395.1108479884372\n",
      "closest approach point (z-component): -292.68015977952723, -292.68015977952723\n",
      "closest approach point (z-component): -68.53932130531237, -68.53932130531234\n",
      "closest approach point (z-component): 210.46000847653227, 210.4600084765322\n",
      "closest approach point (z-component): 192.85412513965986, 192.85412513965986\n",
      "closest approach point (z-component): 170.78344573184728, 170.78344573184728\n",
      "closest approach point (z-component): -253.1229185180843, -253.12291851808433\n",
      "closest approach point (z-component): -143.60575730202416, -143.60575730202413\n",
      "closest approach point (z-component): -515.5220442735795, -515.5220442735795\n",
      "closest approach point (z-component): -276.7095305243182, -276.70953052431827\n",
      "closest approach point (z-component): -94.38273283642407, -94.38273283642407\n",
      "closest approach point (z-component): -498.2667990691301, -498.2667990691301\n",
      "closest approach point (z-component): 1.1901554442726479, 1.1901554442726763\n",
      "closest approach point (z-component): -199.25281314994777, -199.25281314994774\n",
      "closest approach point (z-component): -63.42693956304274, -63.42693956304274\n",
      "closest approach point (z-component): 354.67722094338023, 354.67722094338023\n",
      "closest approach point (z-component): -338.54850420275466, -338.54850420275477\n",
      "closest approach point (z-component): 137.59691426951866, 137.59691426951866\n",
      "closest approach point (z-component): -73.07742208414248, -73.07742208414248\n",
      "closest approach point (z-component): 633.8347256435377, 633.8347256435377\n",
      "closest approach point (z-component): -223.60033711152047, -223.60033711152047\n",
      "closest approach point (z-component): -438.78093157091496, -438.78093157091496\n",
      "closest approach point (z-component): -11.604616190675728, -11.604616190675728\n",
      "closest approach point (z-component): -12.912162910838077, -12.912162910838077\n",
      "closest approach point (z-component): -176.52966693051832, -176.52966693051835\n",
      "closest approach point (z-component): 520.6104394232586, 520.6104394232586\n",
      "closest approach point (z-component): 338.40722983417913, 338.40722983417913\n",
      "closest approach point (z-component): -386.17856544937905, -386.1785654493791\n",
      "closest approach point (z-component): 234.73064204612774, 234.7306420461278\n",
      "closest approach point (z-component): 294.7401295414206, 294.7401295414206\n",
      "closest approach point (z-component): -150.49873308737227, -150.4987330873723\n",
      "closest approach point (z-component): 472.8301331777328, 472.8301331777328\n",
      "closest approach point (z-component): -462.2155029507934, -462.2155029507934\n",
      "closest approach point (z-component): -73.46755299581336, -73.46755299581339\n",
      "closest approach point (z-component): -5.778858782812648, -5.77885878281262\n",
      "closest approach point (z-component): 38.113795589169854, 38.113795589169854\n",
      "closest approach point (z-component): 71.60565970559571, 71.60565970559571\n",
      "closest approach point (z-component): 212.22100418376908, 212.22100418376908\n",
      "closest approach point (z-component): -699.9373699391776, -699.9373699391776\n",
      "closest approach point (z-component): -57.083681399135514, -57.083681399135514\n",
      "closest approach point (z-component): 31.119789893530964, 31.11978989353102\n",
      "closest approach point (z-component): -94.50512024174076, -94.50512024174073\n",
      "closest approach point (z-component): -328.1230476852123, -328.1230476852123\n",
      "closest approach point (z-component): -244.48452587433076, -244.48452587433076\n"
     ]
    }
   ],
   "source": [
    "for i, d_pos in enumerate(dom_pos):\n",
    "    z_i3c = get_closest_approach_position(i3track, d_pos)[2]\n",
    "    print(f\"closest approach point (z-component): {z[i]}, {z_i3c}\") \n",
    "\n"
   ]
  },
  {
   "cell_type": "code",
   "execution_count": null,
   "id": "be946c73-c661-4566-a1a1-bcb41c2f7348",
   "metadata": {},
   "outputs": [],
   "source": []
  }
 ],
 "metadata": {
  "kernelspec": {
   "display_name": "Python 3 (ipykernel)",
   "language": "python",
   "name": "python3"
  },
  "language_info": {
   "codemirror_mode": {
    "name": "ipython",
    "version": 3
   },
   "file_extension": ".py",
   "mimetype": "text/x-python",
   "name": "python",
   "nbconvert_exporter": "python",
   "pygments_lexer": "ipython3",
   "version": "3.11.5"
  }
 },
 "nbformat": 4,
 "nbformat_minor": 5
}
