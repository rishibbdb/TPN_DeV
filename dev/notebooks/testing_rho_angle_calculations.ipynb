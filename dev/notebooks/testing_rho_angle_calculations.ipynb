{
 "cells": [
  {
   "cell_type": "code",
   "execution_count": 1,
   "id": "7cea442d-8736-4f12-9619-684045da1f13",
   "metadata": {},
   "outputs": [],
   "source": [
    "import numpy as np\n",
    "import jax\n",
    "import jax.numpy as jnp\n",
    "jax.config.update(\"jax_enable_x64\", True)"
   ]
  },
  {
   "cell_type": "code",
   "execution_count": 26,
   "id": "6c7f05a4-8363-4221-87dd-bef3e61abfab",
   "metadata": {},
   "outputs": [],
   "source": [
    "import sys, os\n",
    "sys.path.insert(0, \"/home/storage/hans/jax_reco_new\")\n",
    "\n",
    "from lib.geo import get_xyz_from_zenith_azimuth, rho_dom_relative_to_track, rho_dom_relative_to_track_v "
   ]
  },
  {
   "cell_type": "code",
   "execution_count": 10,
   "id": "99701ecb-1e2e-4cd4-8474-c4147eaff21d",
   "metadata": {},
   "outputs": [],
   "source": [
    "def get_perpendicular_dir(track_dir):\n",
    "    '''\n",
    "    track_dir: 1D jax array with 3 components [dir_x, dir_y, dir_z]\n",
    "    '''\n",
    "    dirx = track_dir[0]\n",
    "    diry = track_dir[1]\n",
    "    dirz = track_dir[2]\n",
    "\n",
    "    perpz = jnp.where(jnp.logical_or(dirz == 1.0, dirz == -1.0), 0.0, jnp.sqrt(dirx**2 + diry**2))\n",
    "    perpx = -dirx * dirz/perpz\n",
    "    perpy = -diry * dirz/perpz\n",
    "    return jnp.array([perpx, perpy, perpz])"
   ]
  },
  {
   "cell_type": "code",
   "execution_count": 9,
   "id": "fd13b439-cfa8-478a-ab41-b03b02ccc95b",
   "metadata": {},
   "outputs": [
    {
     "data": {
      "text/plain": [
       "True"
      ]
     },
     "execution_count": 9,
     "metadata": {},
     "output_type": "execute_result"
    }
   ],
   "source": [
    "np.arccos(-1.0) == np.pi"
   ]
  },
  {
   "cell_type": "code",
   "execution_count": 16,
   "id": "e83178ac-3769-43d8-8780-63d224c4bffc",
   "metadata": {},
   "outputs": [
    {
     "name": "stdout",
     "output_type": "stream",
     "text": [
      "[0.29619813 0.81379768 0.5       ]\n"
     ]
    }
   ],
   "source": [
    "zenith = jnp.deg2rad(120.0)\n",
    "azimuth = jnp.deg2rad(250.0)\n",
    "track_dir = get_xyz_from_zenith_azimuth(jnp.array([zenith, azimuth]))\n",
    "print(track_dir)"
   ]
  },
  {
   "cell_type": "code",
   "execution_count": 17,
   "id": "6c773aac-fe11-4cee-b7f9-f034a4bc6f77",
   "metadata": {},
   "outputs": [
    {
     "data": {
      "text/plain": [
       "Array([-0.17101007, -0.46984631,  0.8660254 ], dtype=float64)"
      ]
     },
     "execution_count": 17,
     "metadata": {},
     "output_type": "execute_result"
    }
   ],
   "source": [
    "get_perpendicular_dir(track_dir)"
   ]
  },
  {
   "cell_type": "code",
   "execution_count": 152,
   "id": "f503cd34-523e-467c-8133-c1bdb308f678",
   "metadata": {},
   "outputs": [],
   "source": [
    "__n_ice_phase = 1.30799291638281\n",
    "__n_ice_group = 1.32548384613875\n",
    "__n_ice = __n_ice_group\n",
    "__theta_cherenkov = np.arccos(1/__n_ice_phase)\n",
    "__sin_theta_cherenkov = np.sin(__theta_cherenkov)\n",
    "__tan_theta_cherenkov = np.tan(__theta_cherenkov)\n",
    "__c = 0.299792458 # m / ns\n",
    "__c_ice = __c/__n_ice_group\n",
    "\n",
    "def cherenkov_cylinder_coordinates_w_rho(dom_pos, track_pos, track_dir):\n",
    "    \"\"\"\n",
    "    dom_pos: 1D jax array with 3 components [x, y, z]\n",
    "    track_pos: 1D jax array with 3 components [x, y, z]\n",
    "    track_dir: 1D jax array with 3 components [dir_x, dir_y, dir_z]\n",
    "    \"\"\"\n",
    "    # vector from vertex to dom\n",
    "    v_a = dom_pos - track_pos\n",
    "\n",
    "    # distance muon travels from track vertex to point of closest approach.\n",
    "    ds = jnp.dot(v_a, track_dir)\n",
    "\n",
    "    # a vector parallel track with length ds\n",
    "    ds_v = ds * track_dir\n",
    "\n",
    "    # vector closest approach position to dom yields closest approach distance\n",
    "    v_d = v_a - ds_v\n",
    "    dc = jnp.linalg.norm(v_d)\n",
    "\n",
    "    # vector to closest approach position gives z-component\n",
    "    v_c = track_pos + ds_v\n",
    "    v_c_z = v_c[2]\n",
    "\n",
    "    # distance that the photon travel\n",
    "    dt = dc / __sin_theta_cherenkov\n",
    "\n",
    "    # distance emission point to closest approach point\n",
    "    dx = dc / __tan_theta_cherenkov\n",
    "\n",
    "    ### missing: add last return value -> rho angle of track\n",
    "    perp_dir = get_perpendicular_dir(track_dir)\n",
    "    cos_rho = -1.0 * jnp.dot(v_d, perp_dir) / dc\n",
    "    cos_rho = jnp.where(dc > 0.0, cos_rho, 0.0)\n",
    "    rho = jnp.arccos(cos_rho)\n",
    "    \n",
    "    rhosign = jnp.dot(jnp.cross(v_d, perp_dir), track_dir)\n",
    "    rho = jnp.where(rhosign <= 0.0, rho, 2.0*jnp.pi-rho)\n",
    "    rho = jnp.where(rho <= jnp.pi, rho, rho-2.0*jnp.pi) \n",
    "    \n",
    "    \n",
    "    return (ds - dx + dt * __n_ice_group) / __c, dc, v_c_z, rho\n",
    "\n",
    "\n",
    "cherenkov_cylinder_coordinates_w_rho_v = jax.jit(jax.vmap(cherenkov_cylinder_coordinates_w_rho, (0, None, None), (0, 0, 0, 0)))"
   ]
  },
  {
   "cell_type": "code",
   "execution_count": 153,
   "id": "d7fff4da-f05d-4790-9dd0-53cee43f0e40",
   "metadata": {},
   "outputs": [
    {
     "name": "stdout",
     "output_type": "stream",
     "text": [
      "muon energy: 4.7 TeV\n"
     ]
    }
   ],
   "source": [
    "from lib.simdata_i3 import I3SimHandler\n",
    "# Event Index.\n",
    "event_index = 2\n",
    "\n",
    "# Get an IceCube event.\n",
    "bp = '/home/storage2/hans/i3files/21217'\n",
    "sim_handler = I3SimHandler(os.path.join(bp, 'meta_ds_21217_from_35000_to_53530.ftr'),\n",
    "                              os.path.join(bp, 'pulses_ds_21217_from_35000_to_53530.ftr'),\n",
    "                              '/home/storage/hans/jax_reco/data/icecube/detector_geometry.csv')\n",
    "\n",
    "meta, pulses = sim_handler.get_event_data(event_index)\n",
    "print(f\"muon energy: {meta['muon_energy_at_detector']/1.e3:.1f} TeV\")\n",
    "\n",
    "# Get dom locations, first hit times, and total charges (for each dom).\n",
    "event_data = sim_handler.get_per_dom_summary_from_sim_data(meta, pulses)"
   ]
  },
  {
   "cell_type": "code",
   "execution_count": 165,
   "id": "98f0bb44-6285-4ab4-828c-106698152188",
   "metadata": {},
   "outputs": [],
   "source": [
    "# Make MCTruth seed.\n",
    "track_pos = jnp.array([meta['muon_pos_x'], meta['muon_pos_y'], meta['muon_pos_z']])\n",
    "track_time = meta['muon_time']\n",
    "track_zenith = meta['muon_zenith']\n",
    "track_azimuth = meta['muon_azimuth']\n",
    "track_src = jnp.array([track_zenith, track_azimuth])"
   ]
  },
  {
   "cell_type": "code",
   "execution_count": 166,
   "id": "859a9ce0-95e7-4b5a-809d-8ed04ab6ffb7",
   "metadata": {},
   "outputs": [],
   "source": [
    "track_src_xyz = get_xyz_from_zenith_azimuth(track_src)"
   ]
  },
  {
   "cell_type": "code",
   "execution_count": 167,
   "id": "e2a76b2d-dbab-4c34-ad49-c48bb658ddac",
   "metadata": {},
   "outputs": [],
   "source": [
    "dom_pos = event_data[['x', 'y', 'z']].to_numpy()"
   ]
  },
  {
   "cell_type": "code",
   "execution_count": 168,
   "id": "e8cc518b-6e95-4503-a0bf-6dc5428a8983",
   "metadata": {},
   "outputs": [],
   "source": [
    "rho1 = rho_dom_relative_to_track_v(dom_pos, track_pos, track_src_xyz)"
   ]
  },
  {
   "cell_type": "code",
   "execution_count": 169,
   "id": "d667eefa-6e67-46bf-ba69-014623ab8f25",
   "metadata": {},
   "outputs": [
    {
     "name": "stdout",
     "output_type": "stream",
     "text": [
      "[ 0.66340451  0.93601187  1.00735912  0.2172808   0.31648282  0.45011542\n",
      " -0.97000883  1.34606692  0.11915926  0.17554798  0.22949579  0.56809677\n",
      "  0.88505848  1.35305681 -0.57065445 -0.62294643 -0.68413604 -0.75610795\n",
      " -1.50186056 -1.19649709 -1.2619556   0.7672266   0.08505651  0.09343396\n",
      "  0.10363526  0.11632564  0.13253648  0.15395475  0.1835352   0.22693959\n",
      "  0.2964295   0.42364045  0.70977399 -1.56473782 -0.80450378 -0.46034039\n",
      " -0.31464    -0.23760561 -0.38290083 -0.61400418 -0.80441247 -0.8895663\n",
      " -0.98830683 -1.10172915 -1.22974942 -1.37027165 -1.51543875  1.46846368\n",
      "  1.32196137  1.06194009  0.9535126   0.8594966   1.10696121  0.78556949\n",
      "  0.85290916  0.92920458  1.01528567  1.21803893  1.3333851   1.45511885\n",
      " -1.55653649 -1.43354052 -0.99935241 -0.9150448   0.04776448  0.06334535\n",
      "  0.07568075  0.09396231  0.12382174  0.18115198  0.33312197 -1.47185509\n",
      " -0.41080795 -0.2026133  -0.13355379 -0.09947574 -0.07922108 -0.06580836\n",
      " -0.05627523  1.56322054  1.07199354  0.80290941 -1.55390273 -1.17405287\n",
      " -1.55208416 -0.87805475 -0.62908613 -0.06856651 -0.12923883  1.38353661\n",
      "  0.16083378  0.05016969  1.16918704 -0.84009752 -0.45005085 -0.22064085\n",
      " -0.57335759  1.56432642  0.62565774  0.22877647  0.17214331  0.07654215]\n"
     ]
    }
   ],
   "source": [
    "print(rho1)"
   ]
  },
  {
   "cell_type": "code",
   "execution_count": 170,
   "id": "25af017c-e806-47da-a5f6-4e1add1e7fb2",
   "metadata": {},
   "outputs": [],
   "source": [
    "_, _, _, rho2 = cherenkov_cylinder_coordinates_w_rho_v(dom_pos, track_pos, track_src_xyz)"
   ]
  },
  {
   "cell_type": "code",
   "execution_count": 171,
   "id": "b1ac4a0b-770f-457b-8b62-6d2cb67f9e2f",
   "metadata": {},
   "outputs": [
    {
     "data": {
      "text/plain": [
       "Array([-2.47527798, -2.20029657, -2.12839845, -2.9225295 , -2.82136705,\n",
       "       -2.68408998,  2.16187203, -1.78709432, -3.02168888, -2.96442816,\n",
       "       -2.90933861, -2.55750892, -2.2221581 , -1.65427679,  2.56717524,\n",
       "        2.51425111,  2.45229154,  2.37938666,  1.62298827,  1.94011261,\n",
       "        1.87439982, -2.36994462, -3.05594313, -3.04744247, -3.03707535,\n",
       "       -3.02415442, -3.00760994, -2.98568351, -2.95527544, -2.91039406,\n",
       "       -2.83790023, -2.70325518, -2.39294045, -1.59012789, -0.76691675,\n",
       "       -0.44540826, -0.30724579, -0.23327978,  2.75705083,  2.52366628,\n",
       "        2.33102078,  2.24484913,  2.14496479,  2.03032243,  1.90108907,\n",
       "        1.75937398,  1.60952623,  1.45801948,  1.31150383,  1.05327329,\n",
       "        0.94592803,  0.85293513, -2.0306113 , -2.35110706, -2.28309969,\n",
       "       -2.20605938, -2.11917156, -1.91475943, -1.79863746, -1.67593956,\n",
       "       -1.54992267, -1.42463456, -0.99262982, -0.90906305, -3.09336896,\n",
       "       -3.07743496, -3.06474714, -3.0458231 , -3.01459979, -2.95352416,\n",
       "       -2.78405082, -1.66943449, -0.38345931, -0.19519053, -0.13022302,\n",
       "       -0.09759965, -0.07802071, -0.0649753 , -0.05566359,  1.5767979 ,\n",
       "        1.06389256,  0.79743286, -1.54976799, -1.16973323, -1.54464646,\n",
       "       -0.87200228, -0.6255296 ,  3.07034977,  3.00213527,  1.80205547,\n",
       "        0.14918776,  0.04890758, -1.96256959, -0.83397013, -0.44794314,\n",
       "        2.91531982,  2.5304886 ,  1.54048715,  0.59169702,  0.22330282,\n",
       "        0.16898408,  0.07589963], dtype=float64)"
      ]
     },
     "execution_count": 171,
     "metadata": {},
     "output_type": "execute_result"
    }
   ],
   "source": [
    "rho2"
   ]
  },
  {
   "cell_type": "code",
   "execution_count": 173,
   "id": "3064258f-2205-4edb-9479-796b43519077",
   "metadata": {},
   "outputs": [
    {
     "data": {
      "text/plain": [
       "(-180.0, 180.0)"
      ]
     },
     "execution_count": 173,
     "metadata": {},
     "output_type": "execute_result"
    },
    {
     "data": {
      "image/png": "[encoded data removed]",
      "text/plain": [
       "<Figure size 640x480 with 1 Axes>"
      ]
     },
     "metadata": {},
     "output_type": "display_data"
    }
   ],
   "source": [
    "import matplotlib.pyplot as plt\n",
    "plt.scatter(np.rad2deg(rho1), np.rad2deg(rho2))\n",
    "plt.xlabel('rho angle (from mattis fn) [deg]')\n",
    "plt.ylabel('rho angle (following photonics-service) [deg]')\n",
    "plt.xlim([-180, 180])\n",
    "plt.ylim([-180, 180])"
   ]
  },
  {
   "cell_type": "code",
   "execution_count": null,
   "id": "be78ddea-c6d3-431c-9e2c-d0596e0bec51",
   "metadata": {},
   "outputs": [],
   "source": []
  },
  {
   "cell_type": "code",
   "execution_count": null,
   "id": "3c9e1116-f57c-4be0-9405-af92adc14030",
   "metadata": {},
   "outputs": [],
   "source": []
  },
  {
   "cell_type": "code",
   "execution_count": null,
   "id": "e21227d1-b6c9-4c9a-8071-1768340a6160",
   "metadata": {},
   "outputs": [],
   "source": []
  }
 ],
 "metadata": {
  "kernelspec": {
   "display_name": "Python 3 (ipykernel)",
   "language": "python",
   "name": "python3"
  },
  "language_info": {
   "codemirror_mode": {
    "name": "ipython",
    "version": 3
   },
   "file_extension": ".py",
   "mimetype": "text/x-python",
   "name": "python",
   "nbconvert_exporter": "python",
   "pygments_lexer": "ipython3",
   "version": "3.11.5"
  }
 },
 "nbformat": 4,
 "nbformat_minor": 5
}
