{
 "cells": [
  {
   "cell_type": "code",
   "execution_count": 1,
   "id": "4a13c8c3-ec49-4eac-ab79-5711e4b4ac0a",
   "metadata": {},
   "outputs": [
    {
     "name": "stderr",
     "output_type": "stream",
     "text": [
      "2024-06-03 10:49:00.418738: W tensorflow/compiler/tf2tensorrt/utils/py_utils.cc:38] TF-TRT Warning: Could not find TensorRT\n"
     ]
    }
   ],
   "source": [
    "import jax.numpy as jnp\n",
    "import jax\n",
    "from jax.scipy import optimize\n",
    "jax.config.update(\"jax_enable_x64\", True)\n",
    "from tensorflow_probability.substrates import jax as tfp\n",
    "tfd = tfp.distributions\n",
    "\n",
    "import numpy as np\n",
    "import scipy\n",
    "import matplotlib.pyplot as plt\n",
    "\n",
    "import sys, os"
   ]
  },
  {
   "cell_type": "code",
   "execution_count": 2,
   "id": "66aa8974-a281-4221-88c9-4d7fd13519af",
   "metadata": {},
   "outputs": [],
   "source": [
    "sys.path.insert(0, \"/home/storage/hans/jax_reco\")\n",
    "from lib.cgamma import c_gamma_prob"
   ]
  },
  {
   "cell_type": "code",
   "execution_count": 3,
   "id": "db6e0d39-575b-401b-8077-7f7b26407698",
   "metadata": {},
   "outputs": [],
   "source": [
    "from lib.plotting_tools import adjust_plot_1d\n",
    "from lib.network import get_network_eval_fn\n",
    "from lib.geo import get_xyz_from_zenith_azimuth\n",
    "from lib.trafos import transform_network_outputs, transform_network_inputs"
   ]
  },
  {
   "cell_type": "code",
   "execution_count": 4,
   "id": "7b32ebf3-7c50-4d5e-a98c-691eb77d50c9",
   "metadata": {},
   "outputs": [],
   "source": [
    "eval_network = get_network_eval_fn(bpath='/home/storage/hans/jax_reco/data/network')"
   ]
  },
  {
   "cell_type": "code",
   "execution_count": 5,
   "id": "1dd4a32e-6e52-4a74-a703-0ce2a5f1f322",
   "metadata": {},
   "outputs": [],
   "source": [
    "# Set choice of parameters.\n",
    "\n",
    "dist = 10\n",
    "z = -210\n",
    "rho = 0.0\n",
    "zenith = np.pi/2\n",
    "azimuth = 0.0\n",
    "\n",
    "x = jnp.array([dist, rho, z, zenith, azimuth])\n",
    "x_prime = transform_network_inputs(x)\n",
    "y = eval_network(x_prime)\n",
    "logits, gamma_a, gamma_b = transform_network_outputs(y)"
   ]
  },
  {
   "cell_type": "code",
   "execution_count": 7,
   "id": "5ec48c5f-3037-461a-87bd-683d370e6e22",
   "metadata": {},
   "outputs": [
    {
     "name": "stdout",
     "output_type": "stream",
     "text": [
      "[0.01023211 0.05535401 0.00169289]\n"
     ]
    }
   ],
   "source": [
    "print(c_gamma_prob(0.0, gamma_a, gamma_b))"
   ]
  },
  {
   "cell_type": "code",
   "execution_count": 10,
   "id": "c6ddab1b-feae-4ea3-a7c4-75875ff1ef8d",
   "metadata": {},
   "outputs": [],
   "source": [
    "n_ev = 10\n",
    "gamma_a_v = jnp.repeat(gamma_a.reshape((1,3)), n_ev, axis=0)\n",
    "gamma_b_v = jnp.repeat(gamma_b.reshape((1,3)), n_ev, axis=0)"
   ]
  },
  {
   "cell_type": "code",
   "execution_count": 12,
   "id": "4b317ec7-4d00-45b9-8074-fb86753d1049",
   "metadata": {},
   "outputs": [
    {
     "name": "stdout",
     "output_type": "stream",
     "text": [
      "[[0.01023211 0.05535401 0.00169289]\n",
      " [0.01383071 0.07589159 0.00217874]\n",
      " [0.01732342 0.09372509 0.00260039]\n",
      " [0.02034257 0.10471538 0.0029184 ]\n",
      " [0.02267333 0.10635969 0.0031257 ]\n",
      " [0.02427747 0.09874732 0.00324088]\n",
      " [0.02524454 0.08430729 0.00329317]\n",
      " [0.0257174  0.06662201 0.0033094 ]\n",
      " [0.02583476 0.04906419 0.00330805]\n",
      " [0.02570489 0.03391365 0.00329938]]\n"
     ]
    }
   ],
   "source": [
    "print(c_gamma_prob(jnp.linspace(0.0, 10.0, n_ev).reshape((10, 1)), gamma_a_v, gamma_b_v))"
   ]
  },
  {
   "cell_type": "code",
   "execution_count": 31,
   "id": "0663caad-8dff-4bd6-abb1-183ce600a406",
   "metadata": {},
   "outputs": [],
   "source": [
    "from dom_track_eval import get_eval_network_doms_and_track\n",
    "from time_sampler import sample_times_clean\n",
    "from lib.sim_data_i3 import I3SimHandlerFtr\n",
    "from lib.geo import center_track_pos_and_time_based_on_data\n",
    "from lib.network import get_network_eval_v_fn\n",
    "\n",
    "# Get network and eval logic.\n",
    "eval_network_v = get_network_eval_v_fn(bpath='/home/storage/hans/jax_reco/data/network')\n",
    "eval_network_doms_and_track = get_eval_network_doms_and_track(eval_network_v)"
   ]
  },
  {
   "cell_type": "code",
   "execution_count": 32,
   "id": "806ac3b6-bed1-4d15-98c6-575689f6a1a2",
   "metadata": {},
   "outputs": [
    {
     "name": "stdout",
     "output_type": "stream",
     "text": [
      "muon energy: 2.1 TeV\n"
     ]
    }
   ],
   "source": [
    "# Get an IceCube event.\n",
    "event_index = 0\n",
    "key = jax.random.PRNGKey(event_index)\n",
    "\n",
    "bp = '/home/storage2/hans/i3files/21217'\n",
    "sim_handler = I3SimHandlerFtr(os.path.join(bp, 'meta_ds_21217_from_35000_to_53530.ftr'),\n",
    "                              os.path.join(bp, 'pulses_ds_21217_from_35000_to_53530.ftr'),\n",
    "                              '/home/storage/hans/jax_reco/data/icecube/detector_geometry.csv')\n",
    "\n",
    "meta, pulses = sim_handler.get_event_data(event_index)\n",
    "print(f\"muon energy: {meta['muon_energy_at_detector']/1.e3:.1f} TeV\")\n",
    "\n",
    "# Get dom locations, first hit times, and total charges (for each dom).\n",
    "event_data = sim_handler.get_per_dom_summary_from_sim_data(meta, pulses)"
   ]
  },
  {
   "cell_type": "code",
   "execution_count": 33,
   "id": "87195672-48ed-480d-a061-1cd879f18c37",
   "metadata": {},
   "outputs": [
    {
     "name": "stdout",
     "output_type": "stream",
     "text": [
      "old track vertex: [-1277.51128861 -1390.39564543 -1675.98024553]\n",
      "new track vertex: [ -53.74394146  162.12452256 -233.73599134]\n"
     ]
    }
   ],
   "source": [
    "# Let's generate some new first hit times following our triple pandel model.\n",
    "# (avoid problems with time smearing for now -> to be implemented: gaussian convoluted triple pandel.)\n",
    "track_pos = jnp.array([meta['muon_pos_x'], meta['muon_pos_y'], meta['muon_pos_z']])\n",
    "track_time = meta['muon_time']\n",
    "track_zenith = meta['muon_zenith']\n",
    "track_azimuth = meta['muon_azimuth']\n",
    "track_src = jnp.array([track_zenith, track_azimuth])\n",
    "\n",
    "print(\"old track vertex:\", track_pos)\n",
    "centered_track_pos, centered_track_time = center_track_pos_and_time_based_on_data(event_data, track_pos, track_time, track_src)\n",
    "print(\"new track vertex:\", centered_track_pos)\n",
    "\n",
    "key, subkey = jax.random.split(key)\n",
    "first_times = sample_times_clean(eval_network_doms_and_track, event_data, track_pos, track_src, track_time, subkey)\n"
   ]
  },
  {
   "cell_type": "code",
   "execution_count": 35,
   "id": "3406f643-d920-4e03-b7d3-05fd4b113fea",
   "metadata": {},
   "outputs": [],
   "source": [
    "n_photons = np.round(event_data['charge'].to_numpy()+0.5)\n",
    "fake_event_data = jnp.column_stack([\n",
    "                                        jnp.array(event_data[['x', 'y', 'z']].to_numpy()),\n",
    "                                        jnp.array(first_times),\n",
    "                                        jnp.array(n_photons)\n",
    "                                   ])"
   ]
  },
  {
   "cell_type": "code",
   "execution_count": 42,
   "id": "3b7f9526-bb06-45e6-9448-3dc3ec4d86e2",
   "metadata": {},
   "outputs": [
    {
     "name": "stdout",
     "output_type": "stream",
     "text": [
      "(29,)\n"
     ]
    }
   ],
   "source": [
    "logits, av, bv, geo_time = eval_network_doms_and_track(fake_event_data[:,:3], \n",
    "                                                          centered_track_pos, \n",
    "                                                          track_src)\n",
    "\n",
    "first_hit_times = fake_event_data[:, 3]\n",
    "delay_time = first_hit_times - (geo_time + centered_track_time)\n",
    "print(delay_time.shape)"
   ]
  },
  {
   "cell_type": "code",
   "execution_count": 76,
   "id": "66880f84-057e-4446-a285-11c1b8f7432a",
   "metadata": {},
   "outputs": [
    {
     "name": "stdout",
     "output_type": "stream",
     "text": [
      "(29, 3)\n"
     ]
    }
   ],
   "source": [
    "# now test triple pandel with convolution\n",
    "\n",
    "c_gamma_probs = c_gamma_prob(delay_time.reshape(delay_time.shape[0], 1), av, bv)\n",
    "print(c_gamma_probs.shape)"
   ]
  },
  {
   "cell_type": "code",
   "execution_count": 77,
   "id": "1c37d66b-dbca-436c-934f-c2b4dc94d50d",
   "metadata": {},
   "outputs": [
    {
     "name": "stdout",
     "output_type": "stream",
     "text": [
      "[[6.25946769e-04 2.61379252e-08 7.78013696e-04]\n",
      " [2.03995672e-03 1.13777375e-02 4.67251774e-04]\n",
      " [2.75403582e-03 1.20880631e-02 5.16731684e-04]\n",
      " [2.15274726e-03 5.04793260e-04 6.39291571e-04]\n",
      " [3.60529834e-03 2.40529777e-02 1.21162800e-03]\n",
      " [6.60763833e-03 7.06583491e-03 1.45530919e-03]\n",
      " [2.64308705e-03 1.99627758e-05 1.07430285e-03]\n",
      " [1.04124954e-03 4.27634905e-03 2.50331667e-04]\n",
      " [4.09051876e-04 2.72004325e-03 1.30159442e-04]\n",
      " [6.55117270e-04 4.71247893e-03 2.19989731e-04]\n",
      " [4.52236530e-03 2.69873404e-02 1.64063070e-03]\n",
      " [1.83825025e-02 8.47790634e-02 2.21541717e-03]\n",
      " [2.44095178e-02 1.16694012e-01 2.00141696e-03]\n",
      " [8.56929425e-03 4.60298337e-02 1.80495396e-03]\n",
      " [2.26763300e-04 9.89077526e-16 1.21013072e-03]\n",
      " [3.48303443e-04 5.79982163e-09 8.08234637e-04]\n",
      " [1.65240942e-03 3.51729667e-06 1.10745912e-03]\n",
      " [1.67570975e-07 1.02344299e-26 6.84466157e-04]\n",
      " [4.55137966e-03 2.80682177e-05 1.37584337e-03]\n",
      " [2.51985227e-03 6.19725052e-04 9.56105590e-04]\n",
      " [1.29305602e-02 6.29070159e-02 4.71610973e-03]\n",
      " [5.61959103e-03 4.87256801e-06 4.94291383e-03]\n",
      " [5.22195793e-03 2.49927233e-03 2.04762744e-03]\n",
      " [3.75586255e-04 2.25949552e-07 7.33704218e-04]\n",
      " [6.42998384e-04 1.99293956e-03 2.13531683e-04]\n",
      " [3.56650839e-03 5.13199610e-03 7.76985190e-04]\n",
      " [4.23728307e-03 5.71438425e-03 9.55821049e-04]\n",
      " [1.32487948e-03 9.15173441e-03 4.12749122e-04]\n",
      " [2.57097998e-03 7.81976977e-05 1.11261844e-03]]\n"
     ]
    }
   ],
   "source": [
    "print(c_gamma_probs)"
   ]
  },
  {
   "cell_type": "code",
   "execution_count": 67,
   "id": "3e8ae846-423c-45e9-8523-e7ac8039b002",
   "metadata": {},
   "outputs": [
    {
     "name": "stdout",
     "output_type": "stream",
     "text": [
      "8.85 ms ± 2.91 µs per loop (mean ± std. dev. of 7 runs, 100 loops each)\n"
     ]
    }
   ],
   "source": [
    "%timeit c_gamma_prob(delay_time.reshape(delay_time.shape[0], 1), av, bv)"
   ]
  },
  {
   "cell_type": "code",
   "execution_count": 78,
   "id": "b3c697b8-a8c5-47d5-93ee-e47b9df23c28",
   "metadata": {},
   "outputs": [],
   "source": [
    "c_gamma_prob_v = jax.jit(jax.vmap(c_gamma_prob, (0, 0, 0, None, None), 0))"
   ]
  },
  {
   "cell_type": "code",
   "execution_count": 79,
   "id": "3de20b28-c3f2-439d-a6ad-483503a5cf1c",
   "metadata": {},
   "outputs": [
    {
     "name": "stdout",
     "output_type": "stream",
     "text": [
      "[[6.25946769e-04 2.61379252e-08 7.78013696e-04]\n",
      " [2.03995672e-03 1.13777375e-02 4.67251774e-04]\n",
      " [2.75403582e-03 1.20880631e-02 5.16731684e-04]\n",
      " [2.15274726e-03 5.04793260e-04 6.39291571e-04]\n",
      " [3.60529834e-03 2.40529777e-02 1.21162800e-03]\n",
      " [6.60763833e-03 7.06583491e-03 1.45530919e-03]\n",
      " [2.64308705e-03 1.99627758e-05 1.07430285e-03]\n",
      " [1.04124954e-03 4.27634905e-03 2.50331667e-04]\n",
      " [4.09051876e-04 2.72004325e-03 1.30159442e-04]\n",
      " [6.55117270e-04 4.71247893e-03 2.19989731e-04]\n",
      " [4.52236530e-03 2.69873404e-02 1.64063070e-03]\n",
      " [1.83825025e-02 8.47790634e-02 2.21541717e-03]\n",
      " [2.44095178e-02 1.16694012e-01 2.00141696e-03]\n",
      " [8.56929425e-03 4.60298337e-02 1.80495396e-03]\n",
      " [2.26763300e-04 9.89077526e-16 1.21013072e-03]\n",
      " [3.48303443e-04 5.79982163e-09 8.08234637e-04]\n",
      " [1.65240942e-03 3.51729667e-06 1.10745912e-03]\n",
      " [1.67570975e-07 1.02344299e-26 6.84466157e-04]\n",
      " [4.55137966e-03 2.80682177e-05 1.37584337e-03]\n",
      " [2.51985227e-03 6.19725052e-04 9.56105590e-04]\n",
      " [1.29305602e-02 6.29070159e-02 4.71610973e-03]\n",
      " [5.61959103e-03 4.87256801e-06 4.94291383e-03]\n",
      " [5.22195793e-03 2.49927233e-03 2.04762744e-03]\n",
      " [3.75586255e-04 2.25949552e-07 7.33704218e-04]\n",
      " [6.42998384e-04 1.99293956e-03 2.13531683e-04]\n",
      " [3.56650839e-03 5.13199610e-03 7.76985190e-04]\n",
      " [4.23728307e-03 5.71438425e-03 9.55821049e-04]\n",
      " [1.32487948e-03 9.15173441e-03 4.12749122e-04]\n",
      " [2.57097998e-03 7.81976977e-05 1.11261844e-03]]\n"
     ]
    }
   ],
   "source": [
    "print(c_gamma_prob_v(delay_time, av, bv, 3.0, 10.0))"
   ]
  },
  {
   "cell_type": "code",
   "execution_count": 65,
   "id": "6265b821-bce2-41a9-9896-4a2a07e39457",
   "metadata": {},
   "outputs": [
    {
     "name": "stdout",
     "output_type": "stream",
     "text": [
      "(29, 3)\n"
     ]
    }
   ],
   "source": [
    "print(c_gamma_prob_v(delay_time, av, bv, 3.0, 10.0).shape)"
   ]
  },
  {
   "cell_type": "code",
   "execution_count": 66,
   "id": "2fde1d2e-b4c4-4669-99fc-a813628e6c30",
   "metadata": {},
   "outputs": [
    {
     "name": "stdout",
     "output_type": "stream",
     "text": [
      "8.87 ms ± 27.8 µs per loop (mean ± std. dev. of 7 runs, 100 loops each)\n"
     ]
    }
   ],
   "source": [
    "%timeit c_gamma_prob_v(delay_time, av, bv, 3.0, 10.0)"
   ]
  },
  {
   "cell_type": "code",
   "execution_count": 50,
   "id": "7c72c1c2-2b53-430d-b29f-c0642706795c",
   "metadata": {},
   "outputs": [
    {
     "name": "stdout",
     "output_type": "stream",
     "text": [
      "(29, 3)\n",
      "(29, 3)\n"
     ]
    }
   ],
   "source": [
    "print(c_gamma_probs.shape)\n",
    "print(logits.shape)\n",
    "mix_probs = jax.nn.softmax(logits)"
   ]
  },
  {
   "cell_type": "code",
   "execution_count": 51,
   "id": "c359460a-83eb-46ee-8085-c84ae03b168f",
   "metadata": {},
   "outputs": [
    {
     "data": {
      "text/plain": [
       "(29, 3)"
      ]
     },
     "execution_count": 51,
     "metadata": {},
     "output_type": "execute_result"
    }
   ],
   "source": [
    "mix_probs.shape"
   ]
  },
  {
   "cell_type": "code",
   "execution_count": 57,
   "id": "be3b79e9-93e9-4c04-a093-1fc2fc3e84a9",
   "metadata": {},
   "outputs": [
    {
     "data": {
      "text/plain": [
       "Array(341.65560723, dtype=float64)"
      ]
     },
     "execution_count": 57,
     "metadata": {},
     "output_type": "execute_result"
    }
   ],
   "source": [
    "-2*jnp.sum(jnp.log(jnp.sum(mix_probs * c_gamma_probs, axis=-1)))"
   ]
  },
  {
   "cell_type": "code",
   "execution_count": 91,
   "id": "ed19c421-a257-4b19-a2d1-c6b6b3f4710e",
   "metadata": {},
   "outputs": [],
   "source": [
    "@jax.jit\n",
    "def c_triple_gamma_prob(x, mix_probs, a, b, sigma, delta):\n",
    "    g_probs = c_gamma_prob_v(x, a, b, sigma, delta)\n",
    "    return jnp.sum(mix_probs * g_probs, axis=-1)"
   ]
  },
  {
   "cell_type": "code",
   "execution_count": 92,
   "id": "2403a464-151f-414f-b7f4-bb5d26171beb",
   "metadata": {},
   "outputs": [
    {
     "name": "stdout",
     "output_type": "stream",
     "text": [
      "[0.00000000e+000 9.13964284e-050 1.13991962e-053 2.13464238e-295\n",
      " 1.03262062e-010 4.31926657e-030 2.82099431e-160 6.69006205e-289\n",
      " 2.00292430e-161 3.59819301e-060 6.28935202e-003 1.48178214e-002\n",
      " 1.29997095e-001 1.03520036e-001 5.86031222e-112 0.00000000e+000\n",
      " 3.47631286e-278 0.00000000e+000 1.80710313e-096 0.00000000e+000\n",
      " 1.23918927e-001 3.89946597e-061 3.81039898e-131 0.00000000e+000\n",
      " 0.00000000e+000 2.22951279e-121 1.97464698e-078 2.88827316e-037\n",
      " 5.44533549e-286]\n"
     ]
    }
   ],
   "source": [
    "print(c_triple_gamma_prob(delay_time, mix_probs, av, av, 3.0, 10.0))"
   ]
  },
  {
   "cell_type": "code",
   "execution_count": 75,
   "id": "8080b842-9d5e-40e5-bdeb-702ed769cb2f",
   "metadata": {},
   "outputs": [
    {
     "name": "stdout",
     "output_type": "stream",
     "text": [
      "[[0.38102161 0.31853812 0.30044027]\n",
      " [0.34213766 0.33981617 0.31804617]\n",
      " [0.33457538 0.35614995 0.30927467]\n",
      " [0.43881224 0.31768618 0.24350158]\n",
      " [0.36701398 0.41494335 0.21804267]\n",
      " [0.36831803 0.39822807 0.2334539 ]\n",
      " [0.41111853 0.37520557 0.2136759 ]\n",
      " [0.37175665 0.309885   0.31835835]\n",
      " [0.36486899 0.32116195 0.31396906]\n",
      " [0.41046241 0.30773863 0.28179896]\n",
      " [0.3747033  0.4456408  0.1796559 ]\n",
      " [0.35821777 0.55163966 0.09014257]\n",
      " [0.27028351 0.67446183 0.05525466]\n",
      " [0.36600794 0.52633749 0.10765458]\n",
      " [0.35452917 0.44880993 0.1966609 ]\n",
      " [0.40700891 0.32196844 0.27102265]\n",
      " [0.41735839 0.32990915 0.25273246]\n",
      " [0.36529366 0.330786   0.30392034]\n",
      " [0.33694331 0.34171623 0.32134045]\n",
      " [0.51864232 0.4342015  0.04715617]\n",
      " [0.34063271 0.39377259 0.26559469]\n",
      " [0.37062639 0.31540087 0.31397274]\n",
      " [0.5351368  0.32890758 0.13595561]\n",
      " [0.41190759 0.31267058 0.27542183]\n",
      " [0.46683289 0.33053374 0.20263337]\n",
      " [0.36866516 0.32207533 0.30925951]\n",
      " [0.40448399 0.37253151 0.2229845 ]\n",
      " [0.43392179 0.37685668 0.18922153]\n",
      " [0.38468633 0.30640229 0.30891138]]\n"
     ]
    }
   ],
   "source": [
    "print(mix_probs)"
   ]
  },
  {
   "cell_type": "code",
   "execution_count": 87,
   "id": "c397448f-a4e6-4360-80ed-5be9997c21d6",
   "metadata": {},
   "outputs": [
    {
     "data": {
      "text/plain": [
       "Array([0.00047225, 0.00471289, 0.00538641, 0.00126069, 0.011568  ,\n",
       "       0.00558727, 0.00132366, 0.00179196, 0.00106369, 0.00178111,\n",
       "       0.01401595, 0.05355214, 0.08541373, 0.02755797, 0.00031838,\n",
       "       0.00036081, 0.0009707 , 0.00020808, 0.00198526, 0.00162107,\n",
       "       0.0304282 , 0.00363625, 0.00389488, 0.00035686, 0.00100218,\n",
       "       0.00320803, 0.00405583, 0.00410189, 0.00135668], dtype=float64)"
      ]
     },
     "execution_count": 87,
     "metadata": {},
     "output_type": "execute_result"
    }
   ],
   "source": [
    "jnp.sum(c_gamma_probs * mix_probs, axis=-1)"
   ]
  },
  {
   "cell_type": "code",
   "execution_count": 88,
   "id": "7a5c1afb-45a8-44d2-8257-574b7339ac4e",
   "metadata": {},
   "outputs": [],
   "source": [
    "c_gamma_probs = c_gamma_prob_v(delay_time, av, bv, 3.0, 10.0)"
   ]
  },
  {
   "cell_type": "code",
   "execution_count": 90,
   "id": "3f21c55a-b63a-4409-ac0f-534cd403855e",
   "metadata": {},
   "outputs": [
    {
     "data": {
      "text/plain": [
       "Array([0.00047225, 0.00471289, 0.00538641, 0.00126069, 0.011568  ,\n",
       "       0.00558727, 0.00132366, 0.00179196, 0.00106369, 0.00178111,\n",
       "       0.01401595, 0.05355214, 0.08541373, 0.02755797, 0.00031838,\n",
       "       0.00036081, 0.0009707 , 0.00020808, 0.00198526, 0.00162107,\n",
       "       0.0304282 , 0.00363625, 0.00389488, 0.00035686, 0.00100218,\n",
       "       0.00320803, 0.00405583, 0.00410189, 0.00135668], dtype=float64)"
      ]
     },
     "execution_count": 90,
     "metadata": {},
     "output_type": "execute_result"
    }
   ],
   "source": [
    "jnp.sum(c_gamma_probs * mix_probs, axis=-1)"
   ]
  },
  {
   "cell_type": "code",
   "execution_count": 103,
   "id": "701c64d1-8902-48b2-9d7a-adf3c345627f",
   "metadata": {},
   "outputs": [],
   "source": [
    "@jax.jit\n",
    "def test(x, m, a, b, sigma, delta):\n",
    "    return jnp.sum(m * c_gamma_prob(x, a, b, sigma, delta), axis=-1)\n",
    "\n",
    "test_v = jax.jit(jax.vmap(test, (0, 0, 0, 0, None, None), 0))"
   ]
  },
  {
   "cell_type": "code",
   "execution_count": 104,
   "id": "b125420d-52e4-4c10-8fa9-b2bc86744ddb",
   "metadata": {},
   "outputs": [
    {
     "data": {
      "text/plain": [
       "Array(0.00047225, dtype=float64)"
      ]
     },
     "execution_count": 104,
     "metadata": {},
     "output_type": "execute_result"
    }
   ],
   "source": [
    "test(delay_time[0], mix_probs[0], av[0], bv[0], 3.0, 10.0)"
   ]
  },
  {
   "cell_type": "code",
   "execution_count": 108,
   "id": "6254609e-e757-406d-a9b0-61a50c6855a9",
   "metadata": {},
   "outputs": [
    {
     "name": "stdout",
     "output_type": "stream",
     "text": [
      "[0.00047225 0.00471289 0.00538641 0.00126069 0.011568   0.00558727\n",
      " 0.00132366 0.00179196 0.00106369 0.00178111 0.01401595 0.05355214\n",
      " 0.08541373 0.02755797 0.00031838 0.00036081 0.0009707  0.00020808\n",
      " 0.00198526 0.00162107 0.0304282  0.00363625 0.00389488 0.00035686\n",
      " 0.00100218 0.00320803 0.00405583 0.00410189 0.00135668]\n"
     ]
    }
   ],
   "source": [
    "print(test_v(delay_time, mix_probs, av, bv, 3.0, 10.0))"
   ]
  },
  {
   "cell_type": "code",
   "execution_count": 109,
   "id": "347d2c48-5090-4e1d-b3ad-572fe2ca4fb8",
   "metadata": {},
   "outputs": [
    {
     "name": "stdout",
     "output_type": "stream",
     "text": [
      "8.87 ms ± 32.3 µs per loop (mean ± std. dev. of 7 runs, 100 loops each)\n"
     ]
    }
   ],
   "source": [
    "%timeit test_v(delay_time, mix_probs, av, bv, 3.0, 10.0)"
   ]
  }
 ],
 "metadata": {
  "kernelspec": {
   "display_name": "Python 3 (ipykernel)",
   "language": "python",
   "name": "python3"
  },
  "language_info": {
   "codemirror_mode": {
    "name": "ipython",
    "version": 3
   },
   "file_extension": ".py",
   "mimetype": "text/x-python",
   "name": "python",
   "nbconvert_exporter": "python",
   "pygments_lexer": "ipython3",
   "version": "3.11.5"
  }
 },
 "nbformat": 4,
 "nbformat_minor": 5
}
