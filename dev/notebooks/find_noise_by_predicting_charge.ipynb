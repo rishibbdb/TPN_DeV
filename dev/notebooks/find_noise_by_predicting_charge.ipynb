{
 "cells": [
  {
   "cell_type": "code",
   "execution_count": 1,
   "id": "767200e0-ea41-4298-b277-6d65e0ae5326",
   "metadata": {},
   "outputs": [
    {
     "name": "stdout",
     "output_type": "stream",
     "text": [
      "40.134791222536876\n"
     ]
    }
   ],
   "source": [
    "from icecube import dataio,dataclasses\n",
    "import matplotlib.pyplot as plt\n",
    "import numpy as np\n",
    "\n",
    "import os\n",
    "os.environ['CUDA_VISIBLE_DEVICES'] = '1'\n",
    "\n",
    "import jax\n",
    "jax.config.update(\"jax_enable_x64\", True)\n",
    "import jax.numpy as jnp\n",
    "\n",
    "import sys\n",
    "sys.path.insert(0, \"/home/storage/hans/jax_reco_new/\")\n",
    "\n",
    "from lib.geo import get_xyz_from_zenith_azimuth\n",
    "from lib.geo import __theta_cherenkov\n",
    "__theta_cherenkov_deg = np.rad2deg(__theta_cherenkov)\n",
    "print(__theta_cherenkov_deg)"
   ]
  },
  {
   "cell_type": "code",
   "execution_count": 2,
   "id": "f5d6bcd9-5cc9-492b-bb74-767b7448ca5d",
   "metadata": {},
   "outputs": [],
   "source": [
    "f = dataio.I3File('/home/storage/hans/jax_reco_new/extract_data_from_i3files/test.i3.zst')\n",
    "g = dataio.I3File('/home/storage2/hans/i3files/GeoCalibDetectorStatus_2020.Run134142.Pass2_V0.i3.gz')\n",
    "g_frame = g.pop_frame()\n",
    "geo = g_frame['I3Geometry'].omgeo"
   ]
  },
  {
   "cell_type": "code",
   "execution_count": 3,
   "id": "25ac7837-f704-4d3d-bdad-32df99209853",
   "metadata": {},
   "outputs": [
    {
     "data": {
      "text/plain": [
       "(0.001, 1000)"
      ]
     },
     "execution_count": 3,
     "metadata": {},
     "output_type": "execute_result"
    },
    {
     "data": {
      "image/png": "[encoded data removed]",
      "text/plain": [
       "<Figure size 640x480 with 1 Axes>"
      ]
     },
     "metadata": {},
     "output_type": "display_data"
    }
   ],
   "source": [
    "frame = f.pop_physics()\n",
    "expq_dict = frame['MCMostEnergeticTrack_I3MCTree_ExQ']\n",
    "obsq_dict = dict()\n",
    "min_time_dict = dict()\n",
    "\n",
    "pmap = dataclasses.I3RecoPulseSeriesMap.from_frame(frame, \"TWSRTHVInIcePulsesIC\")\n",
    "for om, pulses in pmap.items():\n",
    "    obsq_dict[om] = np.sum([p.charge for p in pulses])\n",
    "    min_time_dict[om] = np.min([[p.time for p in pulses]])\n",
    "\n",
    "\n",
    "qexp_list = []\n",
    "qtot_list = []\n",
    "#for key in pmap.keys():\n",
    "    #qtot = sum([p.charge for p in pulses[key]])\n",
    "\n",
    "for key, qtot in obsq_dict.items():\n",
    "    qexp = sum(expq_dict[key])\n",
    "    qexp_list.append(qexp)\n",
    "    qtot_list.append(qtot)\n",
    "\n",
    "\n",
    "fig, ax = plt.subplots()\n",
    "plt.scatter(qexp_list, qtot_list, s=2, alpha=0.2)\n",
    "plt.plot([0.001, 1000], [0.001, 1000])\n",
    "plt.xlabel('q_exp')\n",
    "plt.ylabel('q_tot')\n",
    "plt.yscale('log')\n",
    "plt.xscale('log')\n",
    "plt.ylim([0.1, 10**3])\n",
    "plt.xlim([0.001, 10**3])"
   ]
  },
  {
   "cell_type": "code",
   "execution_count": 4,
   "id": "4c03f430-0e74-49a3-bb15-c8e71acec05f",
   "metadata": {},
   "outputs": [
    {
     "name": "stdout",
     "output_type": "stream",
     "text": [
      "(345, 3)\n",
      "(201, 3)\n",
      "(201, 345)\n",
      "(201,)\n"
     ]
    }
   ],
   "source": [
    "I3MCTree = frame['I3MCTree']\n",
    "\n",
    "loss_pos = []\n",
    "for p in I3MCTree.get_daughters(I3MCTree[0]):\n",
    "     for loss in I3MCTree.get_daughters(p):\n",
    "           if not 'Mu' in str(loss.type):\n",
    "                pos = loss.pos\n",
    "                loss_pos.append([pos.x, pos.y, pos.z])\n",
    "\n",
    "loss_pos = jnp.array(loss_pos)\n",
    "print(loss_pos.shape)\n",
    "\n",
    "dom_pos = []\n",
    "q_exp = []\n",
    "q_tot = []\n",
    "t_obs = []\n",
    "for key in obsq_dict.keys():\n",
    "    pos = geo[key].position\n",
    "    dom_pos.append([pos.x, pos.y, pos.z])\n",
    "    q_exp.append(expq_dict[key])\n",
    "    q_tot.append(obsq_dict[key])\n",
    "    t_obs.append(min_time_dict[key])\n",
    "\n",
    "q_exp = jnp.array(q_exp)\n",
    "dom_pos = jnp.array(dom_pos)\n",
    "q_tot = jnp.array(q_tot)\n",
    "t_obs = jnp.array(t_obs)\n",
    "print(dom_pos.shape)\n",
    "print(q_exp.shape)\n",
    "print(q_tot.shape)\n",
    "\n",
    "mctruth = frame['MCMostEnergeticTrack']\n",
    "track_dir_xyz = get_xyz_from_zenith_azimuth([mctruth.dir.zenith, mctruth.dir.azimuth])\n",
    "track_pos = jnp.array([mctruth.pos.x, mctruth.pos.y, mctruth.pos.z])"
   ]
  },
  {
   "cell_type": "code",
   "execution_count": 5,
   "id": "06ebf25f-c4a7-4253-9d21-af06ce3978c9",
   "metadata": {},
   "outputs": [
    {
     "name": "stdout",
     "output_type": "stream",
     "text": [
      "2954.874999910593\n"
     ]
    }
   ],
   "source": [
    "print(np.sum(q_tot))"
   ]
  },
  {
   "cell_type": "code",
   "execution_count": 6,
   "id": "bce26b2b-6950-4433-8671-49a346bdc74c",
   "metadata": {},
   "outputs": [],
   "source": [
    "def get_charge_network_eval_fn(bpath: str = '../../data/network/', n_layer=7, dtype=jnp.float64):\n",
    "    \"\"\"\n",
    "    \"\"\"\n",
    "    params = []\n",
    "\n",
    "    for i in range(0, n_layer):\n",
    "        layer_weights = np.load(os.path.join(bpath, f'dense_{i}_weights.npy'))\n",
    "        layer_bias = np.load(os.path.join(bpath, f'dense_{i}_bias.npy'))\n",
    "        params.append((\n",
    "                        jnp.array(layer_weights, dtype=dtype),\n",
    "                        jnp.array(layer_bias, dtype=dtype)\n",
    "                    ))\n",
    "\n",
    "    params = tuple(params)\n",
    "\n",
    "    def eval_network(x):\n",
    "        \"\"\"\n",
    "        \"\"\"\n",
    "\n",
    "        x = jnp.tanh(jnp.dot(x, params[0][0]) + params[0][1])\n",
    "\n",
    "        # residual block 1\n",
    "        y = jnp.tanh(jnp.dot(x, params[1][0]) + params[1][1])\n",
    "        x = jnp.tanh(jnp.dot(y, params[2][0]) + params[2][1]) + x\n",
    "\n",
    "        # residual block 2\n",
    "        y = jnp.tanh(jnp.dot(x, params[3][0]) + params[3][1])\n",
    "        x = jnp.tanh(jnp.dot(y, params[4][0]) + params[4][1]) + x\n",
    "\n",
    "        # outputs\n",
    "        y = jnp.tanh(jnp.dot(x, params[5][0]) + params[5][1])\n",
    "        z = jnp.dot(y, params[6][0]) + params[6][1]\n",
    "\n",
    "        return z\n",
    "\n",
    "    return eval_network\n",
    "\n",
    "\n",
    "def get_charge_network_eval_v_fn(bpath: str = '../../data/network/', n_layer=9, dtype=jnp.float64):\n",
    "    \"\"\"\n",
    "    \"\"\"\n",
    "    eval_network = get_charge_network_eval_fn(bpath = bpath, n_layer=n_layer, dtype=dtype)\n",
    "    eval_network_v = jax.jit(jax.vmap(eval_network, 0, 0))\n",
    "    return eval_network_v"
   ]
  },
  {
   "cell_type": "code",
   "execution_count": 7,
   "id": "36527007-0283-48ea-b392-de757913c342",
   "metadata": {},
   "outputs": [],
   "source": [
    "eval_charge = get_charge_network_eval_v_fn(bpath='/home/storage/hans/photondata/amplitude_fractions/code/network/tmp2/extract/', n_layer=7)"
   ]
  },
  {
   "cell_type": "code",
   "execution_count": 8,
   "id": "c8d7a594-c019-447f-9223-0fb4ee1202b0",
   "metadata": {},
   "outputs": [],
   "source": [
    "from lib.geo import cherenkov_cylinder_coordinates_w_rho_v\n",
    "from lib.trafos import transform_network_inputs_v"
   ]
  },
  {
   "cell_type": "code",
   "execution_count": 9,
   "id": "698dc4ea-73cf-4aec-ae57-c0011d6c7391",
   "metadata": {},
   "outputs": [],
   "source": [
    "geo_time, closest_approach_dist, closest_approach_z, closest_approach_rho = \\\n",
    "            cherenkov_cylinder_coordinates_w_rho_v(dom_pos,\n",
    "                                         track_pos,\n",
    "                                         track_dir_xyz)\n",
    "\n",
    "track_zenith = mctruth.dir.zenith \n",
    "track_azimuth = mctruth.dir.azimuth\n",
    "x = jnp.column_stack([closest_approach_dist,\n",
    "                          closest_approach_rho,\n",
    "                          closest_approach_z,\n",
    "                          jnp.repeat(track_zenith, len(closest_approach_dist)),\n",
    "                          jnp.repeat(track_azimuth, len(closest_approach_dist))])"
   ]
  },
  {
   "cell_type": "code",
   "execution_count": 10,
   "id": "c596406b-06cc-4105-b79b-7e8391fdb28f",
   "metadata": {},
   "outputs": [],
   "source": [
    "x = jnp.array(x, dtype=jnp.float32)\n",
    "\n",
    "x_prime = transform_network_inputs_v(x)\n",
    "y_pred = jnp.exp(eval_charge(x_prime))"
   ]
  },
  {
   "cell_type": "code",
   "execution_count": 11,
   "id": "63ce0556-a9d1-4a27-a89c-6134f3e1b198",
   "metadata": {},
   "outputs": [
    {
     "name": "stdout",
     "output_type": "stream",
     "text": [
      "69.41063504641497\n"
     ]
    }
   ],
   "source": [
    "rescale = jnp.sum(q_tot) / jnp.sum(y_pred) \n",
    "print(rescale)"
   ]
  },
  {
   "cell_type": "code",
   "execution_count": 12,
   "id": "81c1d487-dd40-48fd-8128-fb0d9e177f64",
   "metadata": {},
   "outputs": [],
   "source": [
    "y_pred_rescaled = rescale * y_pred"
   ]
  },
  {
   "cell_type": "code",
   "execution_count": 13,
   "id": "00743b64-51fd-4c92-9331-60782b26b201",
   "metadata": {},
   "outputs": [
    {
     "data": {
      "text/plain": [
       "(0.1, 1000)"
      ]
     },
     "execution_count": 13,
     "metadata": {},
     "output_type": "execute_result"
    },
    {
     "data": {
      "image/png": "[encoded data removed]",
      "text/plain": [
       "<Figure size 640x480 with 1 Axes>"
      ]
     },
     "metadata": {},
     "output_type": "display_data"
    }
   ],
   "source": [
    "q_tot = jnp.array(q_tot)\n",
    "\n",
    "fig, ax = plt.subplots()\n",
    "plt.scatter(q_tot, y_pred_rescaled, s=2, alpha=0.2)\n",
    "plt.plot([0.001, 1000], [0.001, 1000])\n",
    "plt.xlabel('q_tot')\n",
    "plt.ylabel('q_pred_renormed')\n",
    "plt.yscale('log')\n",
    "plt.xscale('log')\n",
    "plt.ylim([0.001, 10**3])\n",
    "plt.xlim([0.1, 10**3])"
   ]
  },
  {
   "cell_type": "code",
   "execution_count": 14,
   "id": "91aee2f6-a940-46c4-82ff-4a611d394a68",
   "metadata": {},
   "outputs": [
    {
     "name": "stdout",
     "output_type": "stream",
     "text": [
      "20.898940578810816\n"
     ]
    }
   ],
   "source": [
    "print(jnp.min(closest_approach_dist))"
   ]
  },
  {
   "cell_type": "code",
   "execution_count": 15,
   "id": "418df06a-4457-476a-a092-81546ac70030",
   "metadata": {},
   "outputs": [],
   "source": [
    "delay_time = t_obs - (geo_time + mctruth.time)"
   ]
  },
  {
   "cell_type": "code",
   "execution_count": 16,
   "id": "f6aecf99-b71b-4584-8904-bd458b79c697",
   "metadata": {},
   "outputs": [
    {
     "name": "stdout",
     "output_type": "stream",
     "text": [
      "[-313.98045472 -668.43825695 2001.66013541 1873.67968622 1686.70004501]\n"
     ]
    }
   ],
   "source": [
    "idx = jnp.squeeze(y_pred_rescaled < 0.01)\n",
    "print(delay_time[idx])"
   ]
  },
  {
   "cell_type": "code",
   "execution_count": null,
   "id": "0209508e-e593-4ff1-a620-15e5cbe9ea60",
   "metadata": {},
   "outputs": [],
   "source": [
    "q_pred = "
   ]
  }
 ],
 "metadata": {
  "kernelspec": {
   "display_name": "Python 3 (ipykernel)",
   "language": "python",
   "name": "python3"
  },
  "language_info": {
   "codemirror_mode": {
    "name": "ipython",
    "version": 3
   },
   "file_extension": ".py",
   "mimetype": "text/x-python",
   "name": "python",
   "nbconvert_exporter": "python",
   "pygments_lexer": "ipython3",
   "version": "3.11.5"
  }
 },
 "nbformat": 4,
 "nbformat_minor": 5
}
