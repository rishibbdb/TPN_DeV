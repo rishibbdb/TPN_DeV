{
 "cells": [
  {
   "cell_type": "code",
   "execution_count": 5,
   "id": "7fae0017-0bbf-47d5-9d32-4366b9ff7d7e",
   "metadata": {},
   "outputs": [
    {
     "name": "stdout",
     "output_type": "stream",
     "text": [
      "The autoreload extension is already loaded. To reload it, use:\n",
      "  %reload_ext autoreload\n"
     ]
    }
   ],
   "source": [
    "%load_ext autoreload\n",
    "%autoreload 2"
   ]
  },
  {
   "cell_type": "code",
   "execution_count": 6,
   "id": "e784243d-310d-436d-ba39-a87dff465ed5",
   "metadata": {},
   "outputs": [],
   "source": [
    "import pandas as pd\n",
    "import numpy as np\n",
    "\n",
    "import jax.numpy as jnp\n",
    "import jax\n",
    "from jax import config\n",
    "config.update(\"jax_enable_x64\", True)\n",
    "\n",
    "import os, sys\n",
    "sys.path.insert(0, \"/home/storage/hans/jax_reco/python\")\n",
    "\n",
    "from geo import closest_point_on_track, closest_distance_dom_track\n",
    "from geo import __c\n",
    "\n",
    "from sim_data_i3 import I3SimHandlerFtr"
   ]
  },
  {
   "cell_type": "code",
   "execution_count": 7,
   "id": "c10f6b98-b1e0-47dd-89d7-fc73eb979e57",
   "metadata": {},
   "outputs": [],
   "source": [
    "bp = '/home/storage2/hans/i3files/21217'\n",
    "sim_handler = I3SimHandlerFtr(os.path.join(bp, 'meta_ds_21217_from_35000_to_53530.ftr'),\n",
    "                              os.path.join(bp, 'pulses_ds_21217_from_35000_to_53530.ftr'),\n",
    "                              '/home/storage/hans/jax_reco/detector_geometry.csv')"
   ]
  },
  {
   "cell_type": "code",
   "execution_count": 8,
   "id": "6cbd3618-7eeb-4715-b360-25dfbec7a499",
   "metadata": {},
   "outputs": [],
   "source": [
    "event_data = sim_handler.get_per_dom_summary(0)"
   ]
  },
  {
   "cell_type": "code",
   "execution_count": 9,
   "id": "6708078a-d087-494d-8240-0b6193ef1802",
   "metadata": {},
   "outputs": [
    {
     "name": "stdout",
     "output_type": "stream",
     "text": [
      "    sensor_id  charge       x       y       z     time\n",
      "0      1436.0   0.975 -245.65 -190.49 -451.07  11191.0\n",
      "1      1438.0   1.850 -245.65 -190.49 -484.99   9955.0\n",
      "2      1439.0   1.900 -245.65 -190.49 -502.01   9887.0\n",
      "3      1974.0   1.025 -324.39  -93.43 -418.99  10276.0\n",
      "4      2036.0   0.875 -200.55  -74.03 -429.74  10153.0\n",
      "5      2037.0   1.125 -200.55  -74.03 -446.76  10744.0\n",
      "6      2039.0   0.725 -200.55  -74.03 -480.80  10150.0\n",
      "7      2569.0   1.700 -279.53   23.17 -331.41  10908.0\n",
      "8      2570.0   0.825 -279.53   23.17 -348.43  10760.0\n",
      "9      2624.0   1.025 -156.23   43.37 -248.08  11195.0\n",
      "10     2628.0   2.150 -156.23   43.37 -316.16  10741.0\n",
      "11     2629.0   4.025 -156.23   43.37 -333.18  10592.0\n",
      "12     2630.0   8.275 -156.23   43.37 -350.20  10535.0\n",
      "13     2631.0   4.600 -156.23   43.37 -367.22  10529.0\n",
      "14     2632.0   1.450 -156.23   43.37 -384.24  10826.0\n",
      "15     2687.0   0.525  -32.96   62.44 -304.16  11231.0\n",
      "16     3223.0   1.275 -111.51  159.98 -231.36  11605.0\n",
      "17     3280.0   0.775   11.87  179.19 -178.49  11605.0\n",
      "18     3281.0   1.325   11.87  179.19 -195.51  11528.0\n",
      "19     3814.0   0.375   54.26  292.97  -54.15  12409.0\n",
      "20     3817.0   6.050   54.26  292.97 -105.21  11896.0\n",
      "21     3818.0   0.875   54.26  292.97 -122.23  11952.0\n",
      "22     3819.0   0.525   54.26  292.97 -139.25  12015.0\n",
      "23     3869.0   0.625  174.47  315.54   19.14  13220.0\n",
      "24     4227.0   1.175  -21.97  393.24   40.25  13935.0\n",
      "25     4288.0   0.475  101.04  412.79   27.83  12888.0\n",
      "26     4290.0   1.800  101.04  412.79   -6.21  12555.0\n",
      "27     4292.0   1.275  101.04  412.79  -40.25  13247.0\n",
      "28     4349.0   1.175  224.58  432.35    3.46  13107.0\n"
     ]
    }
   ],
   "source": [
    "print(event_data)"
   ]
  },
  {
   "cell_type": "code",
   "execution_count": null,
   "id": "177a1023-b649-4e80-bbb4-d383d7d9bb93",
   "metadata": {},
   "outputs": [],
   "source": []
  }
 ],
 "metadata": {
  "kernelspec": {
   "display_name": "Python 3 (ipykernel)",
   "language": "python",
   "name": "python3"
  },
  "language_info": {
   "codemirror_mode": {
    "name": "ipython",
    "version": 3
   },
   "file_extension": ".py",
   "mimetype": "text/x-python",
   "name": "python",
   "nbconvert_exporter": "python",
   "pygments_lexer": "ipython3",
   "version": "3.11.5"
  }
 },
 "nbformat": 4,
 "nbformat_minor": 5
}
