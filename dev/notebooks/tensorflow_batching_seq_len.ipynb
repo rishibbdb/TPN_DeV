{
 "cells": [
  {
   "cell_type": "code",
   "execution_count": 1,
   "id": "13224998-1456-42f5-b6f7-653f0a4b7c0e",
   "metadata": {},
   "outputs": [],
   "source": [
    "import sys, os\n",
    "sys.path.insert(0, \"/home/storage/hans/jax_reco\")\n",
    "os.environ['CUDA_VISIBLE_DEVICES'] = '0'\n",
    "\n",
    "import jax.numpy as jnp\n",
    "from jax.scipy import optimize\n",
    "import jax\n",
    "jax.config.update(\"jax_enable_x64\", True)\n",
    "\n",
    "import tensorflow as tf\n",
    "\n",
    "import pandas as pd\n",
    "import numpy as np\n",
    "import matplotlib.pyplot as plt\n",
    "\n",
    "from lib.simdata_i3 import I3SimHandlerFtr\n",
    "from lib.geo import center_track_pos_and_time_based_on_data"
   ]
  },
  {
   "cell_type": "code",
   "execution_count": 2,
   "id": "d3ed1e64-ba13-4be3-b80e-4ce188ddf505",
   "metadata": {},
   "outputs": [],
   "source": [
    "# Get an IceCube event.\n",
    "bp = '/home/storage2/hans/i3files/21217'\n",
    "sim_handler = I3SimHandlerFtr(os.path.join(bp, 'meta_ds_21217_from_35000_to_53530.ftr'),\n",
    "                              os.path.join(bp, 'pulses_ds_21217_from_35000_to_53530.ftr'),\n",
    "                              '/home/storage/hans/jax_reco/data/icecube/detector_geometry.csv')\n",
    "\n",
    "\n",
    "def get_event_data(event_index):\n",
    "    meta, pulses = sim_handler.get_event_data(event_index)\n",
    "    #print(f\"muon energy: {meta['muon_energy_at_detector']/1.e3:.1f} TeV\")\n",
    "\n",
    "    # Get dom locations, first hit times, and total charges (for each dom).\n",
    "    event_data = sim_handler.get_per_dom_summary_from_sim_data(meta, pulses)\n",
    "\n",
    "    return (event_data[['x', 'y','z','time']].to_numpy(), \n",
    "            meta[['muon_energy_at_detector', 'q_tot', 'muon_zenith', 'muon_azimuth', 'muon_time',\n",
    "                  'muon_pos_x', 'muon_pos_y', 'muon_pos_z', 'spline_mpe_zenith',\n",
    "                  'spline_mpe_azimuth', 'spline_mpe_time', 'spline_mpe_pos_x',\n",
    "                  'spline_mpe_pos_y', 'spline_mpe_pos_z']].to_numpy())"
   ]
  },
  {
   "cell_type": "code",
   "execution_count": 3,
   "id": "3dc99187-d66e-42f4-b075-9f409f477440",
   "metadata": {},
   "outputs": [
    {
     "name": "stdout",
     "output_type": "stream",
     "text": [
      "event_id                   2.121703e+09\n",
      "idx_start                  0.000000e+00\n",
      "idx_end                    4.600000e+01\n",
      "n_channel_HLC              2.100000e+01\n",
      "neutrino_energy            4.722192e+04\n",
      "muon_energy                3.391497e+04\n",
      "muon_energy_at_detector    2.139244e+03\n",
      "muon_energy_lost           8.823812e+02\n",
      "q_tot                      4.357500e+01\n",
      "n_channel                  2.900000e+01\n",
      "muon_zenith                2.201092e+00\n",
      "muon_azimuth               4.044857e+00\n",
      "muon_time                  3.002587e+03\n",
      "muon_pos_x                -1.277511e+03\n",
      "muon_pos_y                -1.390396e+03\n",
      "muon_pos_z                -1.675980e+03\n",
      "spline_mpe_zenith          2.224013e+00\n",
      "spline_mpe_azimuth         4.035248e+00\n",
      "spline_mpe_time            1.088498e+04\n",
      "spline_mpe_pos_x          -9.655990e+01\n",
      "spline_mpe_pos_y           1.078559e+02\n",
      "spline_mpe_pos_z          -2.819733e+02\n",
      "Name: 0, dtype: float64\n"
     ]
    }
   ],
   "source": [
    "meta, pulses = sim_handler.get_event_data(0)\n",
    "print(meta)"
   ]
  },
  {
   "cell_type": "code",
   "execution_count": 4,
   "id": "4f696ad1-4ea0-485e-b050-8cd0b55cfd26",
   "metadata": {},
   "outputs": [
    {
     "name": "stdout",
     "output_type": "stream",
     "text": [
      "[ 2.13924365e+03  4.35750000e+01  2.20109211e+00  4.04485650e+00\n",
      "  3.00258667e+03 -1.27751129e+03 -1.39039565e+03 -1.67598025e+03\n",
      "  2.22401345e+00  4.03524788e+00  1.08849820e+04 -9.65598967e+01\n",
      "  1.07855873e+02 -2.81973256e+02]\n"
     ]
    }
   ],
   "source": [
    "_, meta = get_event_data(0)\n",
    "print(meta)"
   ]
  },
  {
   "cell_type": "code",
   "execution_count": 5,
   "id": "308bf4b6-3dd3-4bc5-bbe2-eb98449c1249",
   "metadata": {},
   "outputs": [],
   "source": [
    "pulse_data = []\n",
    "meta_data = []\n",
    "n_doms = []\n",
    "\n",
    "for i in range(1000):\n",
    "    ev, meta = get_event_data(i)\n",
    "    pulse_data.append(ev)\n",
    "    meta_data.append(meta)\n",
    "    n_doms.append(ev.shape[0])"
   ]
  },
  {
   "cell_type": "code",
   "execution_count": 6,
   "id": "cc2dd595-dc91-4271-8577-6b2363ed6bd2",
   "metadata": {},
   "outputs": [
    {
     "name": "stdout",
     "output_type": "stream",
     "text": [
      "[ 2.01925366e+03  2.74200001e+02  2.28442419e+00  3.92640830e+00\n",
      "  9.63442488e+03 -5.75877731e+01  1.04949606e+02 -4.59586996e+02\n",
      "  2.29277311e+00  3.80837905e+00  9.91118734e+03 -1.49526274e+01\n",
      "  1.51046642e+02 -4.04819476e+02]\n"
     ]
    }
   ],
   "source": [
    "print(meta_data[1])"
   ]
  },
  {
   "cell_type": "code",
   "execution_count": 7,
   "id": "eb25c6fd-2b73-4d3b-bdfe-6d1d70905426",
   "metadata": {},
   "outputs": [
    {
     "name": "stdout",
     "output_type": "stream",
     "text": [
      "346 13\n"
     ]
    },
    {
     "data": {
      "image/png": "[encoded data removed]",
      "text/plain": [
       "<Figure size 640x480 with 1 Axes>"
      ]
     },
     "metadata": {},
     "output_type": "display_data"
    },
    {
     "name": "stdout",
     "output_type": "stream",
     "text": [
      "[  10.           12.58925412   15.84893192   19.95262315   25.11886432\n",
      "   31.6227766    39.81071706   50.11872336   63.09573445   79.43282347\n",
      "  100.          125.89254118  158.48931925  199.5262315   251.18864315\n",
      "  316.22776602  398.10717055  501.18723363  630.95734448  794.32823472\n",
      " 1000.        ]\n",
      "[  6  56 177 295 249 142  54  19   1   1   0   0]\n",
      "1000\n"
     ]
    }
   ],
   "source": [
    "print(max(n_doms), min(n_doms))\n",
    "\n",
    "plt.hist(n_doms, bins=np.logspace(1, 3, 13))\n",
    "plt.xscale('log')\n",
    "plt.show()\n",
    "\n",
    "print(np.logspace(1, 3, 21))\n",
    "cts, bins = np.histogram(n_doms, bins=np.logspace(1, 3, 13))\n",
    "print(cts)\n",
    "print(sum(cts))"
   ]
  },
  {
   "cell_type": "code",
   "execution_count": 8,
   "id": "ace9f174-1d0c-4070-a170-8768f4fb9282",
   "metadata": {},
   "outputs": [
    {
     "name": "stdout",
     "output_type": "stream",
     "text": [
      "[  10   14   21   31   46   68  100  146  215  316  464  681 1000]\n"
     ]
    }
   ],
   "source": [
    "print(bins.astype(int))"
   ]
  },
  {
   "cell_type": "code",
   "execution_count": 9,
   "id": "8aeeacf4-0267-46d0-80f1-3247e261792f",
   "metadata": {},
   "outputs": [],
   "source": [
    "pulse_data_tf = tf.ragged.constant(pulse_data, ragged_rank=1, dtype=tf.float32)"
   ]
  },
  {
   "cell_type": "code",
   "execution_count": 10,
   "id": "7cbfdfab-d4e9-4ed7-8b2f-e50395d0f6bd",
   "metadata": {},
   "outputs": [],
   "source": [
    "meta_data_tf = tf.constant(meta_data, dtype=tf.float32)"
   ]
  },
  {
   "cell_type": "code",
   "execution_count": 11,
   "id": "38cd1a9e-9990-4d9e-afc3-0fe2e3447c38",
   "metadata": {},
   "outputs": [],
   "source": [
    "ds = tf.data.Dataset.from_tensor_slices((pulse_data_tf, meta_data_tf))\n",
    "ds = ds.map(lambda x, y: (x, y))\n",
    "\n",
    "_element_length_funct = lambda x, y: tf.shape(x)[0]\n",
    "ds = ds.bucket_by_sequence_length(\n",
    "            element_length_func = _element_length_funct,\n",
    "            bucket_boundaries = np.logspace(1, 3, 13).astype(int).tolist(),\n",
    "            bucket_batch_sizes = [128]*14,\n",
    "            drop_remainder = False,\n",
    "            pad_to_bucket_boundary=True\n",
    "        )"
   ]
  },
  {
   "cell_type": "code",
   "execution_count": 12,
   "id": "ee44ef52-9a2d-425f-b198-f2d7e264edbd",
   "metadata": {},
   "outputs": [
    {
     "name": "stdout",
     "output_type": "stream",
     "text": [
      "(128, 45, 4) (128, 14)\n",
      "(128, 67, 4) (128, 14)\n",
      "(128, 30, 4) (128, 14)\n",
      "(128, 99, 4) (128, 14)\n",
      "(128, 45, 4) (128, 14)\n",
      "(2, 13, 4) (2, 14)\n",
      "(50, 20, 4) (50, 14)\n",
      "(41, 30, 4) (41, 14)\n",
      "(45, 45, 4) (45, 14)\n",
      "(123, 67, 4) (123, 14)\n",
      "(24, 99, 4) (24, 14)\n",
      "(53, 145, 4) (53, 14)\n",
      "(20, 214, 4) (20, 14)\n",
      "(1, 315, 4) (1, 14)\n",
      "(1, 463, 4) (1, 14)\n"
     ]
    },
    {
     "name": "stderr",
     "output_type": "stream",
     "text": [
      "2024-06-05 18:27:45.833676: W tensorflow/core/framework/local_rendezvous.cc:404] Local rendezvous is aborting with status: OUT_OF_RANGE: End of sequence\n"
     ]
    }
   ],
   "source": [
    "for x, y in ds:\n",
    "    print(x.shape, y.shape)"
   ]
  },
  {
   "cell_type": "code",
   "execution_count": 13,
   "id": "a88ca4a2-a86a-4181-b8d6-de39cb02fe3a",
   "metadata": {},
   "outputs": [],
   "source": [
    "for x, y in ds:\n",
    "    if x.shape[0]==128:\n",
    "        break"
   ]
  },
  {
   "cell_type": "code",
   "execution_count": 14,
   "id": "94547f56-f499-48b3-8ec9-1133d94641bc",
   "metadata": {},
   "outputs": [
    {
     "name": "stdout",
     "output_type": "stream",
     "text": [
      "(45, 4)\n",
      "(45, 4)\n",
      "(45, 4)\n",
      "(45, 4)\n",
      "(45, 4)\n",
      "(45, 4)\n",
      "(45, 4)\n",
      "(45, 4)\n",
      "(45, 4)\n",
      "(45, 4)\n",
      "(45, 4)\n",
      "(45, 4)\n",
      "(45, 4)\n",
      "(45, 4)\n",
      "(45, 4)\n",
      "(45, 4)\n",
      "(45, 4)\n",
      "(45, 4)\n",
      "(45, 4)\n",
      "(45, 4)\n",
      "(45, 4)\n",
      "(45, 4)\n",
      "(45, 4)\n",
      "(45, 4)\n",
      "(45, 4)\n",
      "(45, 4)\n",
      "(45, 4)\n",
      "(45, 4)\n",
      "(45, 4)\n",
      "(45, 4)\n",
      "(45, 4)\n",
      "(45, 4)\n",
      "(45, 4)\n",
      "(45, 4)\n",
      "(45, 4)\n",
      "(45, 4)\n",
      "(45, 4)\n",
      "(45, 4)\n",
      "(45, 4)\n",
      "(45, 4)\n",
      "(45, 4)\n",
      "(45, 4)\n",
      "(45, 4)\n",
      "(45, 4)\n",
      "(45, 4)\n",
      "(45, 4)\n",
      "(45, 4)\n",
      "(45, 4)\n",
      "(45, 4)\n",
      "(45, 4)\n",
      "(45, 4)\n",
      "(45, 4)\n",
      "(45, 4)\n",
      "(45, 4)\n",
      "(45, 4)\n",
      "(45, 4)\n",
      "(45, 4)\n",
      "(45, 4)\n",
      "(45, 4)\n",
      "(45, 4)\n",
      "(45, 4)\n",
      "(45, 4)\n",
      "(45, 4)\n",
      "(45, 4)\n",
      "(45, 4)\n",
      "(45, 4)\n",
      "(45, 4)\n",
      "(45, 4)\n",
      "(45, 4)\n",
      "(45, 4)\n",
      "(45, 4)\n",
      "(45, 4)\n",
      "(45, 4)\n",
      "(45, 4)\n",
      "(45, 4)\n",
      "(45, 4)\n",
      "(45, 4)\n",
      "(45, 4)\n",
      "(45, 4)\n",
      "(45, 4)\n",
      "(45, 4)\n",
      "(45, 4)\n",
      "(45, 4)\n",
      "(45, 4)\n",
      "(45, 4)\n",
      "(45, 4)\n",
      "(45, 4)\n",
      "(45, 4)\n",
      "(45, 4)\n",
      "(45, 4)\n",
      "(45, 4)\n",
      "(45, 4)\n",
      "(45, 4)\n",
      "(45, 4)\n",
      "(45, 4)\n",
      "(45, 4)\n",
      "(45, 4)\n",
      "(45, 4)\n",
      "(45, 4)\n",
      "(45, 4)\n",
      "(45, 4)\n",
      "(45, 4)\n",
      "(45, 4)\n",
      "(45, 4)\n",
      "(45, 4)\n",
      "(45, 4)\n",
      "(45, 4)\n",
      "(45, 4)\n",
      "(45, 4)\n",
      "(45, 4)\n",
      "(45, 4)\n",
      "(45, 4)\n",
      "(45, 4)\n",
      "(45, 4)\n",
      "(45, 4)\n",
      "(45, 4)\n",
      "(45, 4)\n",
      "(45, 4)\n",
      "(45, 4)\n",
      "(45, 4)\n",
      "(45, 4)\n",
      "(45, 4)\n",
      "(45, 4)\n",
      "(45, 4)\n",
      "(45, 4)\n",
      "(45, 4)\n",
      "(45, 4)\n",
      "(45, 4)\n"
     ]
    }
   ],
   "source": [
    "for d in x:\n",
    "    print(d.shape)"
   ]
  },
  {
   "cell_type": "code",
   "execution_count": 15,
   "id": "247e9a53-47af-4f0c-bf6d-0c6a88e8c61e",
   "metadata": {
    "scrolled": true
   },
   "outputs": [],
   "source": [
    "from lib.simdata_i3 import I3SimBatchHandler"
   ]
  },
  {
   "cell_type": "code",
   "execution_count": 16,
   "id": "0b4e66a4-70af-4c75-b060-0d3ea584b634",
   "metadata": {},
   "outputs": [],
   "source": [
    "batch_maker = I3SimBatchHandler(sim_handler)"
   ]
  },
  {
   "cell_type": "code",
   "execution_count": 17,
   "id": "d548544b-957b-45ef-ab78-81b4e8862864",
   "metadata": {},
   "outputs": [],
   "source": [
    "batch_iter = batch_maker.get_batch_iterator()"
   ]
  },
  {
   "cell_type": "code",
   "execution_count": 18,
   "id": "eea0ce42-8cb5-43d9-9814-d8f87cf00f5e",
   "metadata": {},
   "outputs": [],
   "source": [
    "a,b = batch_iter.next()"
   ]
  },
  {
   "cell_type": "code",
   "execution_count": null,
   "id": "d2693c30-b709-42af-8ebf-7f247dfadc92",
   "metadata": {},
   "outputs": [],
   "source": []
  },
  {
   "cell_type": "code",
   "execution_count": 19,
   "id": "a9add1ca-020f-4872-8852-7b17ceade6b1",
   "metadata": {},
   "outputs": [],
   "source": [
    "ev_idx = 0"
   ]
  },
  {
   "cell_type": "code",
   "execution_count": 20,
   "id": "f00a7c1f-3da3-45b2-af53-ac83bcf7221f",
   "metadata": {},
   "outputs": [
    {
     "name": "stdout",
     "output_type": "stream",
     "text": [
      "(57, 5)\n",
      "[115.76073569 106.1228205 ]\n",
      "4656.809303265065\n",
      "[  -65.71173861  1800.82339061 -1057.15159503]\n"
     ]
    }
   ],
   "source": [
    "fitting_event_data = jnp.array(a[ev_idx])\n",
    "print(fitting_event_data.shape)\n",
    "\n",
    "muon_truth = b[ev_idx, 2:8]\n",
    "track_src = jnp.array(muon_truth[:2])\n",
    "track_time = jnp.array(muon_truth[2])\n",
    "track_pos = jnp.array(muon_truth[3:])\n",
    "event_data = pd.DataFrame({'time': fitting_event_data[:, 3],\n",
    "                           'charge': fitting_event_data[:, 4]\n",
    "})\n",
    "\n",
    "centered_track_pos, centered_track_time = \\\n",
    "    center_track_pos_and_time_based_on_data(event_data, track_pos, track_time, track_src)\n",
    "\n",
    "fitting_event_data = fitting_event_data[:, :4]\n",
    "print(jnp.rad2deg(track_src))\n",
    "print(track_time)\n",
    "print(track_pos)"
   ]
  },
  {
   "cell_type": "code",
   "execution_count": 21,
   "id": "8d6cc07d-1373-479a-a840-eea91647665a",
   "metadata": {},
   "outputs": [
    {
     "name": "stdout",
     "output_type": "stream",
     "text": [
      "[ 407.88112043  162.47186024 -234.15666758]\n",
      "10973.254424115226\n"
     ]
    }
   ],
   "source": [
    "print(centered_track_pos)\n",
    "print(centered_track_time)"
   ]
  },
  {
   "cell_type": "code",
   "execution_count": 22,
   "id": "2dcd0625-aadf-4192-b700-c97bd377e2ed",
   "metadata": {},
   "outputs": [],
   "source": [
    "fitting_event_data = fitting_event_data[:-12]"
   ]
  },
  {
   "cell_type": "code",
   "execution_count": 23,
   "id": "c517877d-2bbd-44a4-8003-4b840a9ee41b",
   "metadata": {},
   "outputs": [
    {
     "name": "stdout",
     "output_type": "stream",
     "text": [
      "[[ 5.0043e+02 -5.8450e+01 -1.1089e+02  1.2156e+04]\n",
      " [ 5.0043e+02 -5.8450e+01 -1.2791e+02  1.2000e+04]\n",
      " [ 5.0043e+02 -5.8450e+01 -1.4493e+02  1.2414e+04]\n",
      " [ 5.0043e+02 -5.8450e+01 -1.6195e+02  1.2293e+04]\n",
      " [ 4.1181e+02  1.3000e+01 -1.4505e+02  1.1671e+04]\n",
      " [ 4.1181e+02  1.3000e+01 -1.6207e+02  1.1709e+04]\n",
      " [ 4.1181e+02  1.3000e+01 -1.7910e+02  1.2425e+04]\n",
      " [ 4.1181e+02  1.3000e+01 -1.9612e+02  1.1719e+04]\n",
      " [ 5.4407e+02  5.5890e+01 -1.2698e+02  1.2071e+04]\n",
      " [ 5.4407e+02  5.5890e+01 -1.9507e+02  1.2556e+04]\n",
      " [ 1.9503e+02  1.2559e+02 -3.8324e+02  1.3188e+04]\n",
      " [ 4.7205e+02  1.2790e+02 -1.4251e+02  1.2419e+04]\n",
      " [ 4.7205e+02  1.2790e+02 -1.5953e+02  1.1791e+04]\n",
      " [ 4.7205e+02  1.2790e+02 -1.9358e+02  1.1449e+04]\n",
      " [ 4.7205e+02  1.2790e+02 -2.1060e+02  1.2026e+04]\n",
      " [ 4.7205e+02  1.2790e+02 -2.2762e+02  1.1971e+04]\n",
      " [ 4.7205e+02  1.2790e+02 -2.4464e+02  1.1372e+04]\n",
      " [ 1.3203e+02  2.0298e+02 -3.8234e+02  1.2859e+04]\n",
      " [ 2.5731e+02  2.1166e+02 -3.2959e+02  1.2326e+04]\n",
      " [ 3.8235e+02  2.3890e+02 -1.8229e+02  1.1263e+04]\n",
      " [ 3.8235e+02  2.3890e+02 -2.1633e+02  1.1176e+04]\n",
      " [ 3.8235e+02  2.3890e+02 -2.3335e+02  1.0943e+04]\n",
      " [ 3.8235e+02  2.3890e+02 -2.5037e+02  1.0784e+04]\n",
      " [ 3.8235e+02  2.3890e+02 -2.6739e+02  1.0707e+04]\n",
      " [ 3.8235e+02  2.3890e+02 -3.1845e+02  1.1183e+04]\n",
      " [ 3.8235e+02  2.3890e+02 -3.3547e+02  1.0763e+04]\n",
      " [ 1.7447e+02  3.1554e+02 -3.0425e+02  1.1526e+04]\n",
      " [ 3.0341e+02  3.3564e+02 -2.7000e+02  1.0601e+04]\n",
      " [ 3.0341e+02  3.3564e+02 -2.8702e+02  1.0555e+04]\n",
      " [ 3.0341e+02  3.3564e+02 -3.0404e+02  1.0526e+04]\n",
      " [ 3.0341e+02  3.3564e+02 -3.2106e+02  1.0644e+04]\n",
      " [ 3.0341e+02  3.3564e+02 -3.3808e+02  1.0704e+04]\n",
      " [ 3.0341e+02  3.3564e+02 -3.5510e+02  1.0419e+04]\n",
      " [ 3.0341e+02  3.3564e+02 -3.7212e+02  1.0800e+04]\n",
      " [ 4.2976e+02  3.5102e+02 -2.9383e+02  1.0807e+04]\n",
      " [ 4.2976e+02  3.5102e+02 -3.4489e+02  1.0691e+04]\n",
      " [ 4.2976e+02  3.5102e+02 -3.9596e+02  1.0728e+04]\n",
      " [ 2.2458e+02  4.3235e+02 -4.7312e+02  1.0562e+04]\n",
      " [ 3.3844e+02  4.6372e+02 -2.9425e+02  1.0367e+04]\n",
      " [ 3.3844e+02  4.6372e+02 -3.1127e+02  1.0368e+04]\n",
      " [ 3.3844e+02  4.6372e+02 -3.4531e+02  1.0070e+04]\n",
      " [ 3.3844e+02  4.6372e+02 -3.7935e+02  9.8960e+03]\n",
      " [ 3.3844e+02  4.6372e+02 -3.9638e+02  9.8860e+03]\n",
      " [ 3.3844e+02  4.6372e+02 -4.1340e+02  9.9010e+03]\n",
      " [ 3.3844e+02  4.6372e+02 -4.3042e+02  1.0254e+04]]\n"
     ]
    }
   ],
   "source": [
    "print(fitting_event_data)"
   ]
  },
  {
   "cell_type": "code",
   "execution_count": 24,
   "id": "9ea4c1e6-e188-49f3-b6e1-ba5cd2216c94",
   "metadata": {},
   "outputs": [],
   "source": [
    "from lib.network import get_network_eval_v_fn\n",
    "from dom_track_eval import get_eval_network_doms_and_track\n",
    "from likelihood_spe import get_llh_and_grad_fs_for_iminuit_migrad\n",
    "from likelihood_spe import get_llh_and_grad_fs_for_iminuit_migrad_profile\n",
    "from likelihood_spe import get_neg_c_triple_gamma_llh"
   ]
  },
  {
   "cell_type": "code",
   "execution_count": 25,
   "id": "02e3acfd-06fb-45f4-a04e-13337ee5a84d",
   "metadata": {},
   "outputs": [],
   "source": [
    "# Get network and eval logic.\n",
    "eval_network_v = get_network_eval_v_fn(bpath='/home/storage/hans/jax_reco/data/network')\n",
    "eval_network_doms_and_track = get_eval_network_doms_and_track(eval_network_v)"
   ]
  },
  {
   "cell_type": "code",
   "execution_count": 26,
   "id": "83290aa0-7027-4477-99b3-b5652ac9c357",
   "metadata": {},
   "outputs": [],
   "source": [
    "obj_fn, obj_grad = get_llh_and_grad_fs_for_iminuit_migrad(eval_network_doms_and_track)\n",
    "\n",
    "# put the thing below into a for loop if you want to reconstruct many events (without jit-recompiling everything)\n",
    "f_prime = lambda x: obj_fn(x, centered_track_time, fitting_event_data)\n",
    "grad_prime = lambda x: obj_grad(x, centered_track_time, fitting_event_data)"
   ]
  },
  {
   "cell_type": "code",
   "execution_count": 27,
   "id": "2a1046a6-e006-4a65-a36b-2289ca64a0c5",
   "metadata": {},
   "outputs": [],
   "source": [
    "from iminuit import Minuit"
   ]
  },
  {
   "cell_type": "code",
   "execution_count": 28,
   "id": "37d5aa4c-f28e-43fe-96d9-0ddbd47fa8ba",
   "metadata": {},
   "outputs": [
    {
     "data": {
      "text/html": [
       "<table>\n",
       "    <tr>\n",
       "        <th colspan=\"2\" style=\"text-align:center\" title=\"Minimizer\"> Migrad </th>\n",
       "    </tr>\n",
       "    <tr>\n",
       "        <td style=\"text-align:left\" title=\"Minimum value of function\"> FCN = 573.3 </td>\n",
       "        <td style=\"text-align:center\" title=\"Total number of function and (optional) gradient evaluations\"> Nfcn = 113, Ngrad = 12 </td>\n",
       "    </tr>\n",
       "    <tr>\n",
       "        <td style=\"text-align:left\" title=\"Estimated distance to minimum and goal\"> EDM = 3.28e-05 (Goal: 0.0001) </td>\n",
       "        <td style=\"text-align:center\" title=\"Total run time of algorithms\"> time = 4.5 sec </td>\n",
       "    </tr>\n",
       "    <tr>\n",
       "        <td style=\"text-align:center;background-color:#92CCA6;color:black\"> Valid Minimum </td>\n",
       "        <td style=\"text-align:center;background-color:#92CCA6;color:black\"> Below EDM threshold (goal x 10) </td>\n",
       "    </tr>\n",
       "    <tr>\n",
       "        <td style=\"text-align:center;background-color:#92CCA6;color:black\"> No parameters at limit </td>\n",
       "        <td style=\"text-align:center;background-color:#92CCA6;color:black\"> Below call limit </td>\n",
       "    </tr>\n",
       "    <tr>\n",
       "        <td style=\"text-align:center;background-color:#FFF79A;color:black\"> Hesse ok </td>\n",
       "        <td style=\"text-align:center;background-color:#FFF79A;color:black\"> Covariance FORCED pos. def. </td>\n",
       "    </tr>\n",
       "</table><table>\n",
       "    <tr>\n",
       "        <td></td>\n",
       "        <th title=\"Variable name\"> Name </th>\n",
       "        <th title=\"Value of parameter\"> Value </th>\n",
       "        <th title=\"Hesse error\"> Hesse Error </th>\n",
       "        <th title=\"Minos lower error\"> Minos Error- </th>\n",
       "        <th title=\"Minos upper error\"> Minos Error+ </th>\n",
       "        <th title=\"Lower limit of the parameter\"> Limit- </th>\n",
       "        <th title=\"Upper limit of the parameter\"> Limit+ </th>\n",
       "        <th title=\"Is the parameter fixed in the fit\"> Fixed </th>\n",
       "    </tr>\n",
       "    <tr>\n",
       "        <th> 0 </th>\n",
       "        <td> x0 </td>\n",
       "        <td> 2.028 </td>\n",
       "        <td> 0.004 </td>\n",
       "        <td>  </td>\n",
       "        <td>  </td>\n",
       "        <td> 0 </td>\n",
       "        <td> 3.14 </td>\n",
       "        <td>  </td>\n",
       "    </tr>\n",
       "    <tr>\n",
       "        <th> 1 </th>\n",
       "        <td> x1 </td>\n",
       "        <td> 1.841 </td>\n",
       "        <td> 0.005 </td>\n",
       "        <td>  </td>\n",
       "        <td>  </td>\n",
       "        <td> 0 </td>\n",
       "        <td> 6.28 </td>\n",
       "        <td>  </td>\n",
       "    </tr>\n",
       "    <tr>\n",
       "        <th> 2 </th>\n",
       "        <td> x2 </td>\n",
       "        <td> 404.2 </td>\n",
       "        <td> 1.4 </td>\n",
       "        <td>  </td>\n",
       "        <td>  </td>\n",
       "        <td> -500 </td>\n",
       "        <td> 500 </td>\n",
       "        <td>  </td>\n",
       "    </tr>\n",
       "    <tr>\n",
       "        <th> 3 </th>\n",
       "        <td> x3 </td>\n",
       "        <td> 161.6 </td>\n",
       "        <td> 1.2 </td>\n",
       "        <td>  </td>\n",
       "        <td>  </td>\n",
       "        <td> -500 </td>\n",
       "        <td> 500 </td>\n",
       "        <td>  </td>\n",
       "    </tr>\n",
       "    <tr>\n",
       "        <th> 4 </th>\n",
       "        <td> x4 </td>\n",
       "        <td> -234.7 </td>\n",
       "        <td> 0.4 </td>\n",
       "        <td>  </td>\n",
       "        <td>  </td>\n",
       "        <td> -500 </td>\n",
       "        <td> 500 </td>\n",
       "        <td>  </td>\n",
       "    </tr>\n",
       "</table><table>\n",
       "    <tr>\n",
       "        <td></td>\n",
       "        <th> x0 </th>\n",
       "        <th> x1 </th>\n",
       "        <th> x2 </th>\n",
       "        <th> x3 </th>\n",
       "        <th> x4 </th>\n",
       "    </tr>\n",
       "    <tr>\n",
       "        <th> x0 </th>\n",
       "        <td> 1.44e-05 </td>\n",
       "        <td style=\"background-color:rgb(250,210,210);color:black\"> 0.005e-3 <strong>(0.270)</strong> </td>\n",
       "        <td style=\"background-color:rgb(250,235,235);color:black\"> 0.538e-3 <strong>(0.100)</strong> </td>\n",
       "        <td style=\"background-color:rgb(144,144,250);color:black\"> -3.820e-3 <strong>(-0.814)</strong> </td>\n",
       "        <td style=\"background-color:rgb(188,188,250);color:black\"> -0.641e-3 <strong>(-0.475)</strong> </td>\n",
       "    </tr>\n",
       "    <tr>\n",
       "        <th> x1 </th>\n",
       "        <td style=\"background-color:rgb(250,210,210);color:black\"> 0.005e-3 <strong>(0.270)</strong> </td>\n",
       "        <td> 2.78e-05 </td>\n",
       "        <td style=\"background-color:rgb(250,130,130);color:black\"> 5.948e-3 <strong>(0.799)</strong> </td>\n",
       "        <td style=\"background-color:rgb(240,240,250);color:black\"> -0.480e-3 <strong>(-0.074)</strong> </td>\n",
       "        <td style=\"background-color:rgb(250,213,213);color:black\"> 0.460e-3 <strong>(0.245)</strong> </td>\n",
       "    </tr>\n",
       "    <tr>\n",
       "        <th> x2 </th>\n",
       "        <td style=\"background-color:rgb(250,235,235);color:black\"> 0.538e-3 <strong>(0.100)</strong> </td>\n",
       "        <td style=\"background-color:rgb(250,130,130);color:black\"> 5.948e-3 <strong>(0.799)</strong> </td>\n",
       "        <td> 1.99 </td>\n",
       "        <td style=\"background-color:rgb(250,216,216);color:black\"> 0.4 <strong>(0.228)</strong> </td>\n",
       "        <td style=\"background-color:rgb(250,230,230);color:black\"> 0.07 <strong>(0.133)</strong> </td>\n",
       "    </tr>\n",
       "    <tr>\n",
       "        <th> x3 </th>\n",
       "        <td style=\"background-color:rgb(144,144,250);color:black\"> -3.820e-3 <strong>(-0.814)</strong> </td>\n",
       "        <td style=\"background-color:rgb(240,240,250);color:black\"> -0.480e-3 <strong>(-0.074)</strong> </td>\n",
       "        <td style=\"background-color:rgb(250,216,216);color:black\"> 0.4 <strong>(0.228)</strong> </td>\n",
       "        <td> 1.53 </td>\n",
       "        <td style=\"background-color:rgb(250,245,245);color:black\"> 0.01 <strong>(0.034)</strong> </td>\n",
       "    </tr>\n",
       "    <tr>\n",
       "        <th> x4 </th>\n",
       "        <td style=\"background-color:rgb(188,188,250);color:black\"> -0.641e-3 <strong>(-0.475)</strong> </td>\n",
       "        <td style=\"background-color:rgb(250,213,213);color:black\"> 0.460e-3 <strong>(0.245)</strong> </td>\n",
       "        <td style=\"background-color:rgb(250,230,230);color:black\"> 0.07 <strong>(0.133)</strong> </td>\n",
       "        <td style=\"background-color:rgb(250,245,245);color:black\"> 0.01 <strong>(0.034)</strong> </td>\n",
       "        <td> 0.127 </td>\n",
       "    </tr>\n",
       "</table>"
      ],
      "text/plain": [
       "┌─────────────────────────────────────────────────────────────────────────┐\n",
       "│                                Migrad                                   │\n",
       "├──────────────────────────────────┬──────────────────────────────────────┤\n",
       "│ FCN = 573.3                      │        Nfcn = 113, Ngrad = 12        │\n",
       "│ EDM = 3.28e-05 (Goal: 0.0001)    │            time = 4.5 sec            │\n",
       "├──────────────────────────────────┼──────────────────────────────────────┤\n",
       "│          Valid Minimum           │   Below EDM threshold (goal x 10)    │\n",
       "├──────────────────────────────────┼──────────────────────────────────────┤\n",
       "│      No parameters at limit      │           Below call limit           │\n",
       "├──────────────────────────────────┼──────────────────────────────────────┤\n",
       "│             Hesse ok             │     Covariance FORCED pos. def.      │\n",
       "└──────────────────────────────────┴──────────────────────────────────────┘\n",
       "┌───┬──────┬───────────┬───────────┬────────────┬────────────┬─────────┬─────────┬───────┐\n",
       "│   │ Name │   Value   │ Hesse Err │ Minos Err- │ Minos Err+ │ Limit-  │ Limit+  │ Fixed │\n",
       "├───┼──────┼───────────┼───────────┼────────────┼────────────┼─────────┼─────────┼───────┤\n",
       "│ 0 │ x0   │   2.028   │   0.004   │            │            │    0    │ 3.14159 │       │\n",
       "│ 1 │ x1   │   1.841   │   0.005   │            │            │    0    │ 6.28319 │       │\n",
       "│ 2 │ x2   │   404.2   │    1.4    │            │            │  -500   │   500   │       │\n",
       "│ 3 │ x3   │   161.6   │    1.2    │            │            │  -500   │   500   │       │\n",
       "│ 4 │ x4   │  -234.7   │    0.4    │            │            │  -500   │   500   │       │\n",
       "└───┴──────┴───────────┴───────────┴────────────┴────────────┴─────────┴─────────┴───────┘\n",
       "┌────┬───────────────────────────────────────────────────┐\n",
       "│    │        x0        x1        x2        x3        x4 │\n",
       "├────┼───────────────────────────────────────────────────┤\n",
       "│ x0 │  1.44e-05  0.005e-3  0.538e-3 -3.820e-3 -0.641e-3 │\n",
       "│ x1 │  0.005e-3  2.78e-05  5.948e-3 -0.480e-3  0.460e-3 │\n",
       "│ x2 │  0.538e-3  5.948e-3      1.99       0.4      0.07 │\n",
       "│ x3 │ -3.820e-3 -0.480e-3       0.4      1.53      0.01 │\n",
       "│ x4 │ -0.641e-3  0.460e-3      0.07      0.01     0.127 │\n",
       "└────┴───────────────────────────────────────────────────┘"
      ]
     },
     "execution_count": 28,
     "metadata": {},
     "output_type": "execute_result"
    }
   ],
   "source": [
    "x0 = jnp.concatenate([track_src, centered_track_pos])\n",
    "m = Minuit(f_prime, x0, grad=grad_prime)\n",
    "m.errordef = Minuit.LIKELIHOOD\n",
    "m.limits = ((0.0, np.pi), (0.0, 2.0 * np.pi), (-500.0, 500.0),  (-500.0, 500.0),  (-500.0, 500.0))\n",
    "m.strategy = 1\n",
    "m.migrad()"
   ]
  },
  {
   "cell_type": "code",
   "execution_count": 29,
   "id": "44a1b21b-e8c9-4527-834f-a54a6f07f04c",
   "metadata": {},
   "outputs": [
    {
     "name": "stdout",
     "output_type": "stream",
     "text": [
      "... solution found.\n",
      "-2*logl=573.346\n",
      "zenith=2.028rad\n",
      "azimuth=1.841rad\n",
      "x=404.210m\n",
      "y=161.569m\n",
      "z=-234.690m\n",
      "at fix time t=10973.254ns\n"
     ]
    }
   ],
   "source": [
    "print(\"... solution found.\")\n",
    "print(f\"-2*logl={m.fval:.3f}\")\n",
    "print(f\"zenith={m.values[0]:.3f}rad\")\n",
    "print(f\"azimuth={m.values[1]:.3f}rad\")\n",
    "print(f\"x={m.values[2]:.3f}m\")\n",
    "print(f\"y={m.values[3]:.3f}m\")\n",
    "print(f\"z={m.values[4]:.3f}m\")\n",
    "print(f\"at fix time t={centered_track_time:.3f}ns\")"
   ]
  },
  {
   "cell_type": "code",
   "execution_count": 30,
   "id": "308fc4c6-8605-445e-893c-dee906b3df13",
   "metadata": {},
   "outputs": [
    {
     "name": "stdout",
     "output_type": "stream",
     "text": [
      "[2.02040598 1.85219263]\n"
     ]
    }
   ],
   "source": [
    "print(track_src)"
   ]
  },
  {
   "cell_type": "code",
   "execution_count": 31,
   "id": "dccdaea0-a5ae-42c1-92b6-5f7e5eb99cc7",
   "metadata": {},
   "outputs": [
    {
     "name": "stdout",
     "output_type": "stream",
     "text": [
      "578.4324327091223\n"
     ]
    }
   ],
   "source": [
    "print(f_prime(x0))"
   ]
  },
  {
   "cell_type": "code",
   "execution_count": 39,
   "id": "8ea12448-7c66-40db-847e-8bfe8331d40d",
   "metadata": {},
   "outputs": [
    {
     "name": "stdout",
     "output_type": "stream",
     "text": [
      "... solution found.\n",
      "-2*logl=572.894\n",
      "zenith=2.022rad\n",
      "azimuth=1.840rad\n",
      "x=403.841m\n",
      "y=160.319m\n",
      "z=-235.551m\n",
      "at fix time t=10973.254ns\n"
     ]
    }
   ],
   "source": [
    "neg_llh = get_neg_c_triple_gamma_llh(eval_network_doms_and_track)\n",
    "scale = 10.0\n",
    "\n",
    "@jax.jit\n",
    "def neg_llh_5D(x, track_time, data):\n",
    "    return neg_llh(x[:2], x[2:]*scale, track_time, data)\n",
    "\n",
    "@jax.jit\n",
    "def minimize_bfgs(x0, track_time, data):\n",
    "    result = optimize.minimize(neg_llh_5D,\n",
    "                                x0,\n",
    "                                args=(track_time, data),\n",
    "                                method=\"BFGS\", \n",
    "                                options={'maxiter':50, 'gtol':1.e-3})\n",
    "    \n",
    "    return result.fun, result.x\n",
    "\n",
    "x0 = jnp.concatenate([track_src, centered_track_pos/scale])\n",
    "best_logl, best_x = minimize_bfgs(x0, centered_track_time, fitting_event_data)\n",
    "\n",
    "print(\"... solution found.\")\n",
    "print(f\"-2*logl={best_logl:.3f}\")\n",
    "print(f\"zenith={best_x[0]:.3f}rad\")\n",
    "print(f\"azimuth={best_x[1]:.3f}rad\")\n",
    "print(f\"x={best_x[2]*scale:.3f}m\")\n",
    "print(f\"y={best_x[3]*scale:.3f}m\")\n",
    "print(f\"z={best_x[4]*scale:.3f}m\")\n",
    "print(f\"at fix time t={centered_track_time:.3f}ns\")"
   ]
  },
  {
   "cell_type": "code",
   "execution_count": 40,
   "id": "c258d6ac-ec99-4295-be67-c71ef9b1506d",
   "metadata": {},
   "outputs": [
    {
     "name": "stdout",
     "output_type": "stream",
     "text": [
      "58.9 ms ± 40.8 μs per loop (mean ± std. dev. of 7 runs, 10 loops each)\n"
     ]
    }
   ],
   "source": [
    "%timeit minimize_bfgs(x0, centered_track_time, fitting_event_data)"
   ]
  },
  {
   "cell_type": "code",
   "execution_count": 34,
   "id": "749a1ebd-2fa9-4697-b6a9-61b659008b9c",
   "metadata": {},
   "outputs": [],
   "source": [
    "@jax.jit\n",
    "def minimize_bfgs(x0, track_time, data):\n",
    "    result = optimize.minimize(neg_llh_5D,\n",
    "                                x0,\n",
    "                                args=(track_time, data),\n",
    "                                method=\"BFGS\", \n",
    "                                options={'maxiter':50, 'gtol':1.e-3})\n",
    "    \n",
    "    return result"
   ]
  },
  {
   "cell_type": "code",
   "execution_count": 35,
   "id": "dad958f9-66c4-4f66-91ad-6b7ec418d474",
   "metadata": {},
   "outputs": [],
   "source": [
    "result = minimize_bfgs(x0, centered_track_time, fitting_event_data)"
   ]
  },
  {
   "cell_type": "code",
   "execution_count": 36,
   "id": "1f4e7781-bb0e-421d-adbf-51f1e15b5819",
   "metadata": {},
   "outputs": [
    {
     "name": "stdout",
     "output_type": "stream",
     "text": [
      "OptimizeResults(x=Array([ 2.0198695 ,  1.84010394,  4.03617128,  1.59866496, -2.35893489],      dtype=float64), success=Array(True, dtype=bool), status=Array(0, dtype=int64, weak_type=True), fun=Array(572.56498299, dtype=float64), jac=Array([-3.44216129e-04, -4.63336573e-05, -6.42294918e-05,  5.92673834e-05,\n",
      "        3.98623429e-04], dtype=float64), hess_inv=Array([[ 2.98532616e-05,  6.09268427e-06,  1.69518371e-05,\n",
      "         1.08225752e-05,  2.19924615e-05],\n",
      "       [ 6.09268427e-06,  3.00892198e-05,  6.57211604e-05,\n",
      "        -2.38957774e-06,  3.22434643e-06],\n",
      "       [ 1.69518371e-05,  6.57211604e-05,  2.16860006e-04,\n",
      "         4.96030210e-05,  1.00028137e-05],\n",
      "       [ 1.08225752e-05, -2.38957774e-06,  4.96030210e-05,\n",
      "         1.44765612e-04,  3.16079189e-05],\n",
      "       [ 2.19924615e-05,  3.22434643e-06,  1.00028137e-05,\n",
      "         3.16079189e-05,  4.10261027e-05]], dtype=float64), nfev=Array(30, dtype=int64, weak_type=True), njev=Array(30, dtype=int64, weak_type=True), nit=Array(21, dtype=int64, weak_type=True))\n"
     ]
    }
   ],
   "source": [
    "print(result)"
   ]
  },
  {
   "cell_type": "code",
   "execution_count": 62,
   "id": "8d8fd293-0776-4d75-9cfb-c2f28bbedeb9",
   "metadata": {},
   "outputs": [
    {
     "name": "stdout",
     "output_type": "stream",
     "text": [
      "68.1 ms ± 138 μs per loop (mean ± std. dev. of 7 runs, 10 loops each)\n"
     ]
    }
   ],
   "source": [
    "%timeit minimize_bfgs(x0, centered_track_time, fitting_event_data)"
   ]
  },
  {
   "cell_type": "code",
   "execution_count": null,
   "id": "507071ed-c8c5-45dc-8389-8525d06a5527",
   "metadata": {},
   "outputs": [],
   "source": []
  }
 ],
 "metadata": {
  "kernelspec": {
   "display_name": "Python 3 (ipykernel)",
   "language": "python",
   "name": "python3"
  },
  "language_info": {
   "codemirror_mode": {
    "name": "ipython",
    "version": 3
   },
   "file_extension": ".py",
   "mimetype": "text/x-python",
   "name": "python",
   "nbconvert_exporter": "python",
   "pygments_lexer": "ipython3",
   "version": "3.11.5"
  }
 },
 "nbformat": 4,
 "nbformat_minor": 5
}
