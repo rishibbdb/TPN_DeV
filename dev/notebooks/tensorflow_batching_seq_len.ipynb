{
 "cells": [
  {
   "cell_type": "code",
   "execution_count": 1,
   "id": "13224998-1456-42f5-b6f7-653f0a4b7c0e",
   "metadata": {},
   "outputs": [],
   "source": [
    "import sys, os\n",
    "sys.path.insert(0, \"/home/storage/hans/jax_reco\")\n",
    "os.environ['CUDA_VISIBLE_DEVICES'] = '0'\n",
    "\n",
    "import jax.numpy as jnp\n",
    "from jax.scipy import optimize\n",
    "import jax\n",
    "jax.config.update(\"jax_enable_x64\", True)\n",
    "\n",
    "import tensorflow as tf\n",
    "\n",
    "import pandas as pd\n",
    "import numpy as np\n",
    "import matplotlib.pyplot as plt\n",
    "\n",
    "from lib.simdata_i3 import I3SimHandlerFtr\n",
    "from lib.geo import center_track_pos_and_time_based_on_data"
   ]
  },
  {
   "cell_type": "code",
   "execution_count": 2,
   "id": "d3ed1e64-ba13-4be3-b80e-4ce188ddf505",
   "metadata": {},
   "outputs": [],
   "source": [
    "# Get an IceCube event.\n",
    "bp = '/home/storage2/hans/i3files/21217'\n",
    "sim_handler = I3SimHandlerFtr(os.path.join(bp, 'meta_ds_21217_from_35000_to_53530.ftr'),\n",
    "                              os.path.join(bp, 'pulses_ds_21217_from_35000_to_53530.ftr'),\n",
    "                              '/home/storage/hans/jax_reco/data/icecube/detector_geometry.csv')\n",
    "\n",
    "\n",
    "def get_event_data(event_index):\n",
    "    meta, pulses = sim_handler.get_event_data(event_index)\n",
    "    #print(f\"muon energy: {meta['muon_energy_at_detector']/1.e3:.1f} TeV\")\n",
    "\n",
    "    # Get dom locations, first hit times, and total charges (for each dom).\n",
    "    event_data = sim_handler.get_per_dom_summary_from_sim_data(meta, pulses)\n",
    "\n",
    "    return (event_data[['x', 'y','z','time']].to_numpy(), \n",
    "            meta[['muon_energy_at_detector', 'q_tot', 'muon_zenith', 'muon_azimuth', 'muon_time',\n",
    "                  'muon_pos_x', 'muon_pos_y', 'muon_pos_z', 'spline_mpe_zenith',\n",
    "                  'spline_mpe_azimuth', 'spline_mpe_time', 'spline_mpe_pos_x',\n",
    "                  'spline_mpe_pos_y', 'spline_mpe_pos_z']].to_numpy())"
   ]
  },
  {
   "cell_type": "code",
   "execution_count": 3,
   "id": "3dc99187-d66e-42f4-b075-9f409f477440",
   "metadata": {},
   "outputs": [
    {
     "name": "stdout",
     "output_type": "stream",
     "text": [
      "event_id                   2.121703e+09\n",
      "idx_start                  0.000000e+00\n",
      "idx_end                    4.600000e+01\n",
      "n_channel_HLC              2.100000e+01\n",
      "neutrino_energy            4.722192e+04\n",
      "muon_energy                3.391497e+04\n",
      "muon_energy_at_detector    2.139244e+03\n",
      "muon_energy_lost           8.823812e+02\n",
      "q_tot                      4.357500e+01\n",
      "n_channel                  2.900000e+01\n",
      "muon_zenith                2.201092e+00\n",
      "muon_azimuth               4.044857e+00\n",
      "muon_time                  3.002587e+03\n",
      "muon_pos_x                -1.277511e+03\n",
      "muon_pos_y                -1.390396e+03\n",
      "muon_pos_z                -1.675980e+03\n",
      "spline_mpe_zenith          2.224013e+00\n",
      "spline_mpe_azimuth         4.035248e+00\n",
      "spline_mpe_time            1.088498e+04\n",
      "spline_mpe_pos_x          -9.655990e+01\n",
      "spline_mpe_pos_y           1.078559e+02\n",
      "spline_mpe_pos_z          -2.819733e+02\n",
      "Name: 0, dtype: float64\n"
     ]
    }
   ],
   "source": [
    "meta, pulses = sim_handler.get_event_data(0)\n",
    "print(meta)"
   ]
  },
  {
   "cell_type": "code",
   "execution_count": 4,
   "id": "4f696ad1-4ea0-485e-b050-8cd0b55cfd26",
   "metadata": {},
   "outputs": [
    {
     "name": "stdout",
     "output_type": "stream",
     "text": [
      "[ 2.13924365e+03  4.35750000e+01  2.20109211e+00  4.04485650e+00\n",
      "  3.00258667e+03 -1.27751129e+03 -1.39039565e+03 -1.67598025e+03\n",
      "  2.22401345e+00  4.03524788e+00  1.08849820e+04 -9.65598967e+01\n",
      "  1.07855873e+02 -2.81973256e+02]\n"
     ]
    }
   ],
   "source": [
    "_, meta = get_event_data(0)\n",
    "print(meta)"
   ]
  },
  {
   "cell_type": "code",
   "execution_count": 5,
   "id": "308bf4b6-3dd3-4bc5-bbe2-eb98449c1249",
   "metadata": {},
   "outputs": [],
   "source": [
    "pulse_data = []\n",
    "meta_data = []\n",
    "n_doms = []\n",
    "\n",
    "for i in range(1000):\n",
    "    ev, meta = get_event_data(i)\n",
    "    pulse_data.append(ev)\n",
    "    meta_data.append(meta)\n",
    "    n_doms.append(ev.shape[0])"
   ]
  },
  {
   "cell_type": "code",
   "execution_count": 6,
   "id": "cc2dd595-dc91-4271-8577-6b2363ed6bd2",
   "metadata": {},
   "outputs": [
    {
     "name": "stdout",
     "output_type": "stream",
     "text": [
      "[ 2.01925366e+03  2.74200001e+02  2.28442419e+00  3.92640830e+00\n",
      "  9.63442488e+03 -5.75877731e+01  1.04949606e+02 -4.59586996e+02\n",
      "  2.29277311e+00  3.80837905e+00  9.91118734e+03 -1.49526274e+01\n",
      "  1.51046642e+02 -4.04819476e+02]\n"
     ]
    }
   ],
   "source": [
    "print(meta_data[1])"
   ]
  },
  {
   "cell_type": "code",
   "execution_count": 7,
   "id": "eb25c6fd-2b73-4d3b-bdfe-6d1d70905426",
   "metadata": {},
   "outputs": [
    {
     "name": "stdout",
     "output_type": "stream",
     "text": [
      "346 13\n"
     ]
    },
    {
     "data": {
      "image/png": "[encoded data removed]",
      "text/plain": [
       "<Figure size 640x480 with 1 Axes>"
      ]
     },
     "metadata": {},
     "output_type": "display_data"
    },
    {
     "name": "stdout",
     "output_type": "stream",
     "text": [
      "[  10.           12.58925412   15.84893192   19.95262315   25.11886432\n",
      "   31.6227766    39.81071706   50.11872336   63.09573445   79.43282347\n",
      "  100.          125.89254118  158.48931925  199.5262315   251.18864315\n",
      "  316.22776602  398.10717055  501.18723363  630.95734448  794.32823472\n",
      " 1000.        ]\n",
      "[  6  56 177 295 249 142  54  19   1   1   0   0]\n",
      "1000\n"
     ]
    }
   ],
   "source": [
    "print(max(n_doms), min(n_doms))\n",
    "\n",
    "plt.hist(n_doms, bins=np.logspace(1, 3, 13))\n",
    "plt.xscale('log')\n",
    "plt.show()\n",
    "\n",
    "print(np.logspace(1, 3, 21))\n",
    "cts, bins = np.histogram(n_doms, bins=np.logspace(1, 3, 13))\n",
    "print(cts)\n",
    "print(sum(cts))"
   ]
  },
  {
   "cell_type": "code",
   "execution_count": 8,
   "id": "ace9f174-1d0c-4070-a170-8768f4fb9282",
   "metadata": {},
   "outputs": [
    {
     "name": "stdout",
     "output_type": "stream",
     "text": [
      "[  10   14   21   31   46   68  100  146  215  316  464  681 1000]\n"
     ]
    }
   ],
   "source": [
    "print(bins.astype(int))"
   ]
  },
  {
   "cell_type": "code",
   "execution_count": 9,
   "id": "8aeeacf4-0267-46d0-80f1-3247e261792f",
   "metadata": {},
   "outputs": [],
   "source": [
    "pulse_data_tf = tf.ragged.constant(pulse_data, ragged_rank=1, dtype=tf.float32)"
   ]
  },
  {
   "cell_type": "code",
   "execution_count": 10,
   "id": "7cbfdfab-d4e9-4ed7-8b2f-e50395d0f6bd",
   "metadata": {},
   "outputs": [],
   "source": [
    "meta_data_tf = tf.constant(meta_data, dtype=tf.float32)"
   ]
  },
  {
   "cell_type": "code",
   "execution_count": 11,
   "id": "38cd1a9e-9990-4d9e-afc3-0fe2e3447c38",
   "metadata": {},
   "outputs": [],
   "source": [
    "ds = tf.data.Dataset.from_tensor_slices((pulse_data_tf, meta_data_tf))\n",
    "ds = ds.map(lambda x, y: (x, y))\n",
    "\n",
    "_element_length_funct = lambda x, y: tf.shape(x)[0]\n",
    "ds = ds.bucket_by_sequence_length(\n",
    "            element_length_func = _element_length_funct,\n",
    "            bucket_boundaries = np.logspace(1, 3, 13).astype(int).tolist(),\n",
    "            bucket_batch_sizes = [128]*14,\n",
    "            drop_remainder = False,\n",
    "            pad_to_bucket_boundary=True\n",
    "        )"
   ]
  },
  {
   "cell_type": "code",
   "execution_count": 12,
   "id": "ee44ef52-9a2d-425f-b198-f2d7e264edbd",
   "metadata": {},
   "outputs": [
    {
     "name": "stdout",
     "output_type": "stream",
     "text": [
      "(128, 45, 4) (128, 14)\n",
      "(128, 67, 4) (128, 14)\n",
      "(128, 30, 4) (128, 14)\n",
      "(128, 99, 4) (128, 14)\n",
      "(128, 45, 4) (128, 14)\n",
      "(2, 13, 4) (2, 14)\n",
      "(50, 20, 4) (50, 14)\n",
      "(41, 30, 4) (41, 14)\n",
      "(45, 45, 4) (45, 14)\n",
      "(123, 67, 4) (123, 14)\n",
      "(24, 99, 4) (24, 14)\n",
      "(53, 145, 4) (53, 14)\n",
      "(20, 214, 4) (20, 14)\n",
      "(1, 315, 4) (1, 14)\n",
      "(1, 463, 4) (1, 14)\n"
     ]
    },
    {
     "name": "stderr",
     "output_type": "stream",
     "text": [
      "2024-06-05 19:33:56.843653: W tensorflow/core/framework/local_rendezvous.cc:404] Local rendezvous is aborting with status: OUT_OF_RANGE: End of sequence\n"
     ]
    }
   ],
   "source": [
    "for x, y in ds:\n",
    "    print(x.shape, y.shape)"
   ]
  },
  {
   "cell_type": "code",
   "execution_count": 13,
   "id": "a88ca4a2-a86a-4181-b8d6-de39cb02fe3a",
   "metadata": {},
   "outputs": [],
   "source": [
    "for x, y in ds:\n",
    "    if x.shape[0]==128:\n",
    "        break"
   ]
  },
  {
   "cell_type": "code",
   "execution_count": 14,
   "id": "94547f56-f499-48b3-8ec9-1133d94641bc",
   "metadata": {},
   "outputs": [
    {
     "name": "stdout",
     "output_type": "stream",
     "text": [
      "(45, 4)\n",
      "(45, 4)\n",
      "(45, 4)\n",
      "(45, 4)\n",
      "(45, 4)\n",
      "(45, 4)\n",
      "(45, 4)\n",
      "(45, 4)\n",
      "(45, 4)\n",
      "(45, 4)\n",
      "(45, 4)\n",
      "(45, 4)\n",
      "(45, 4)\n",
      "(45, 4)\n",
      "(45, 4)\n",
      "(45, 4)\n",
      "(45, 4)\n",
      "(45, 4)\n",
      "(45, 4)\n",
      "(45, 4)\n",
      "(45, 4)\n",
      "(45, 4)\n",
      "(45, 4)\n",
      "(45, 4)\n",
      "(45, 4)\n",
      "(45, 4)\n",
      "(45, 4)\n",
      "(45, 4)\n",
      "(45, 4)\n",
      "(45, 4)\n",
      "(45, 4)\n",
      "(45, 4)\n",
      "(45, 4)\n",
      "(45, 4)\n",
      "(45, 4)\n",
      "(45, 4)\n",
      "(45, 4)\n",
      "(45, 4)\n",
      "(45, 4)\n",
      "(45, 4)\n",
      "(45, 4)\n",
      "(45, 4)\n",
      "(45, 4)\n",
      "(45, 4)\n",
      "(45, 4)\n",
      "(45, 4)\n",
      "(45, 4)\n",
      "(45, 4)\n",
      "(45, 4)\n",
      "(45, 4)\n",
      "(45, 4)\n",
      "(45, 4)\n",
      "(45, 4)\n",
      "(45, 4)\n",
      "(45, 4)\n",
      "(45, 4)\n",
      "(45, 4)\n",
      "(45, 4)\n",
      "(45, 4)\n",
      "(45, 4)\n",
      "(45, 4)\n",
      "(45, 4)\n",
      "(45, 4)\n",
      "(45, 4)\n",
      "(45, 4)\n",
      "(45, 4)\n",
      "(45, 4)\n",
      "(45, 4)\n",
      "(45, 4)\n",
      "(45, 4)\n",
      "(45, 4)\n",
      "(45, 4)\n",
      "(45, 4)\n",
      "(45, 4)\n",
      "(45, 4)\n",
      "(45, 4)\n",
      "(45, 4)\n",
      "(45, 4)\n",
      "(45, 4)\n",
      "(45, 4)\n",
      "(45, 4)\n",
      "(45, 4)\n",
      "(45, 4)\n",
      "(45, 4)\n",
      "(45, 4)\n",
      "(45, 4)\n",
      "(45, 4)\n",
      "(45, 4)\n",
      "(45, 4)\n",
      "(45, 4)\n",
      "(45, 4)\n",
      "(45, 4)\n",
      "(45, 4)\n",
      "(45, 4)\n",
      "(45, 4)\n",
      "(45, 4)\n",
      "(45, 4)\n",
      "(45, 4)\n",
      "(45, 4)\n",
      "(45, 4)\n",
      "(45, 4)\n",
      "(45, 4)\n",
      "(45, 4)\n",
      "(45, 4)\n",
      "(45, 4)\n",
      "(45, 4)\n",
      "(45, 4)\n",
      "(45, 4)\n",
      "(45, 4)\n",
      "(45, 4)\n",
      "(45, 4)\n",
      "(45, 4)\n",
      "(45, 4)\n",
      "(45, 4)\n",
      "(45, 4)\n",
      "(45, 4)\n",
      "(45, 4)\n",
      "(45, 4)\n",
      "(45, 4)\n",
      "(45, 4)\n",
      "(45, 4)\n",
      "(45, 4)\n",
      "(45, 4)\n",
      "(45, 4)\n",
      "(45, 4)\n",
      "(45, 4)\n",
      "(45, 4)\n",
      "(45, 4)\n"
     ]
    }
   ],
   "source": [
    "for d in x:\n",
    "    print(d.shape)"
   ]
  },
  {
   "cell_type": "code",
   "execution_count": 15,
   "id": "247e9a53-47af-4f0c-bf6d-0c6a88e8c61e",
   "metadata": {
    "scrolled": true
   },
   "outputs": [],
   "source": [
    "from lib.simdata_i3 import I3SimBatchHandler"
   ]
  },
  {
   "cell_type": "code",
   "execution_count": 16,
   "id": "0b4e66a4-70af-4c75-b060-0d3ea584b634",
   "metadata": {},
   "outputs": [],
   "source": [
    "batch_maker = I3SimBatchHandler(sim_handler)"
   ]
  },
  {
   "cell_type": "code",
   "execution_count": 17,
   "id": "d548544b-957b-45ef-ab78-81b4e8862864",
   "metadata": {},
   "outputs": [],
   "source": [
    "batch_iter = batch_maker.get_batch_iterator()"
   ]
  },
  {
   "cell_type": "code",
   "execution_count": 18,
   "id": "eea0ce42-8cb5-43d9-9814-d8f87cf00f5e",
   "metadata": {},
   "outputs": [],
   "source": [
    "a,b = batch_iter.next()"
   ]
  },
  {
   "cell_type": "code",
   "execution_count": null,
   "id": "d2693c30-b709-42af-8ebf-7f247dfadc92",
   "metadata": {},
   "outputs": [],
   "source": []
  },
  {
   "cell_type": "code",
   "execution_count": 116,
   "id": "a9add1ca-020f-4872-8852-7b17ceade6b1",
   "metadata": {},
   "outputs": [],
   "source": [
    "ev_idx = 2"
   ]
  },
  {
   "cell_type": "code",
   "execution_count": 117,
   "id": "f00a7c1f-3da3-45b2-af53-ac83bcf7221f",
   "metadata": {},
   "outputs": [
    {
     "name": "stdout",
     "output_type": "stream",
     "text": [
      "(57, 5)\n",
      "[117.61235437 201.11450864]\n",
      "9512.693124104291\n",
      "[-311.50606825 -237.85870606 -206.15769315]\n"
     ]
    }
   ],
   "source": [
    "fitting_event_data = jnp.array(a[ev_idx])\n",
    "print(fitting_event_data.shape)\n",
    "\n",
    "muon_truth = b[ev_idx, 2:8]\n",
    "track_src = jnp.array(muon_truth[:2])\n",
    "track_time = jnp.array(muon_truth[2])\n",
    "track_pos = jnp.array(muon_truth[3:])\n",
    "event_data = pd.DataFrame({'time': fitting_event_data[:, 3],\n",
    "                           'charge': fitting_event_data[:, 4]\n",
    "})\n",
    "\n",
    "centered_track_pos, centered_track_time = \\\n",
    "    center_track_pos_and_time_based_on_data(event_data, track_pos, track_time, track_src)\n",
    "\n",
    "fitting_event_data = fitting_event_data[:, :4]\n",
    "print(jnp.rad2deg(track_src))\n",
    "print(track_time)\n",
    "print(track_pos)"
   ]
  },
  {
   "cell_type": "code",
   "execution_count": 118,
   "id": "8d6cc07d-1373-479a-a840-eea91647665a",
   "metadata": {},
   "outputs": [
    {
     "name": "stdout",
     "output_type": "stream",
     "text": [
      "[152.80030886 -58.56269346  54.18189689]\n",
      "11386.314582668698\n"
     ]
    }
   ],
   "source": [
    "print(centered_track_pos)\n",
    "print(centered_track_time)"
   ]
  },
  {
   "cell_type": "code",
   "execution_count": 119,
   "id": "73c83e2b-d0b4-421f-a2b1-8d716763caee",
   "metadata": {},
   "outputs": [
    {
     "name": "stdout",
     "output_type": "stream",
     "text": [
      "[[-2.9066e+02 -3.0738e+02 -1.4264e+02  1.0379e+04]\n",
      " [-2.9066e+02 -3.0738e+02 -1.5966e+02  1.0387e+04]\n",
      " [-2.9066e+02 -3.0738e+02 -2.7881e+02  1.1734e+04]\n",
      " [-3.6893e+02 -2.1023e+02 -1.2923e+02  1.0617e+04]\n",
      " [-3.6893e+02 -2.1023e+02 -1.8030e+02  9.9460e+03]\n",
      " [-3.6893e+02 -2.1023e+02 -1.9732e+02  1.0741e+04]\n",
      " [-3.6893e+02 -2.1023e+02 -2.3136e+02  1.0092e+04]\n",
      " [-3.6893e+02 -2.1023e+02 -2.4838e+02  1.0269e+04]\n",
      " [-2.4565e+02 -1.9049e+02 -1.4492e+02  9.9520e+03]\n",
      " [-2.4565e+02 -1.9049e+02 -1.6195e+02  9.8850e+03]\n",
      " [-2.4565e+02 -1.9049e+02 -1.7897e+02  9.8700e+03]\n",
      " [-2.4565e+02 -1.9049e+02 -1.9599e+02  9.9120e+03]\n",
      " [-2.4565e+02 -1.9049e+02 -2.1301e+02  9.9190e+03]\n",
      " [-1.2177e+02 -1.7103e+02 -9.3450e+01  1.0439e+04]\n",
      " [-1.2177e+02 -1.7103e+02 -1.1047e+02  1.0368e+04]\n",
      " [-1.2177e+02 -1.7103e+02 -1.2749e+02  1.0371e+04]\n",
      " [ 1.7100e+00 -1.5063e+02  5.4720e+01  1.1405e+04]\n",
      " [ 1.7100e+00 -1.5063e+02 -1.3370e+01  1.1061e+04]\n",
      " [ 1.7100e+00 -1.5063e+02 -6.4430e+01  1.0888e+04]\n",
      " [ 1.2497e+02 -1.3125e+02  3.4090e+01  1.2274e+04]\n",
      " [-4.4774e+02 -1.1313e+02 -2.3122e+02  9.9210e+03]\n",
      " [-3.2439e+02 -9.3430e+01 -1.2963e+02  1.0467e+04]\n",
      " [ 4.6290e+01 -3.4880e+01  4.1410e+01  1.1909e+04]\n",
      " [ 4.6290e+01 -3.4880e+01 -2.6670e+01  1.1425e+04]\n",
      " [ 1.9434e+02 -3.0920e+01  1.6368e+02  1.2190e+04]\n",
      " [ 1.9434e+02 -3.0920e+01  1.1262e+02  1.2508e+04]\n",
      " [ 1.9434e+02 -3.0920e+01  9.5600e+01  1.1653e+04]\n",
      " [ 1.9434e+02 -3.0920e+01  7.8580e+01  1.1606e+04]\n",
      " [ 1.9434e+02 -3.0920e+01  4.4530e+01  1.1642e+04]\n",
      " [ 1.9434e+02 -3.0920e+01  1.0490e+01  1.2521e+04]\n",
      " [ 2.9290e+02  5.2000e+00  1.5099e+02  1.2069e+04]\n",
      " [ 2.9290e+02  5.2000e+00  1.3397e+02  1.1993e+04]\n",
      " [ 2.9290e+02  5.2000e+00  1.1695e+02  1.2000e+04]\n",
      " [ 2.9290e+02  5.2000e+00  9.9930e+01  1.2088e+04]\n",
      " [ 4.1181e+02  1.3000e+01  1.9536e+02  1.2537e+04]\n",
      " [ 5.4407e+02  5.5890e+01  2.9854e+02  1.3217e+04]\n",
      " [ 5.4407e+02  5.5890e+01  2.8152e+02  1.3063e+04]\n",
      " [ 5.4407e+02  5.5890e+01  2.6450e+02  1.3139e+04]\n",
      " [ 5.4407e+02  5.5890e+01  2.4747e+02  1.3990e+04]\n",
      " [ 5.4407e+02  5.5890e+01  2.3045e+02  1.3111e+04]\n",
      " [ 3.3003e+02  1.2720e+02  2.4556e+02  1.3321e+04]\n",
      " [ 3.3003e+02  1.2720e+02  1.7747e+02  1.3142e+04]\n",
      " [ 5.7637e+02  1.7092e+02  2.8980e+02  1.3605e+04]\n",
      " [ 0.0000e+00  0.0000e+00  0.0000e+00  0.0000e+00]\n",
      " [ 0.0000e+00  0.0000e+00  0.0000e+00  0.0000e+00]\n",
      " [ 0.0000e+00  0.0000e+00  0.0000e+00  0.0000e+00]\n",
      " [ 0.0000e+00  0.0000e+00  0.0000e+00  0.0000e+00]\n",
      " [ 0.0000e+00  0.0000e+00  0.0000e+00  0.0000e+00]\n",
      " [ 0.0000e+00  0.0000e+00  0.0000e+00  0.0000e+00]\n",
      " [ 0.0000e+00  0.0000e+00  0.0000e+00  0.0000e+00]\n",
      " [ 0.0000e+00  0.0000e+00  0.0000e+00  0.0000e+00]\n",
      " [ 0.0000e+00  0.0000e+00  0.0000e+00  0.0000e+00]\n",
      " [ 0.0000e+00  0.0000e+00  0.0000e+00  0.0000e+00]\n",
      " [ 0.0000e+00  0.0000e+00  0.0000e+00  0.0000e+00]\n",
      " [ 0.0000e+00  0.0000e+00  0.0000e+00  0.0000e+00]\n",
      " [ 0.0000e+00  0.0000e+00  0.0000e+00  0.0000e+00]\n",
      " [ 0.0000e+00  0.0000e+00  0.0000e+00  0.0000e+00]]\n"
     ]
    }
   ],
   "source": [
    "print(fitting_event_data)"
   ]
  },
  {
   "cell_type": "code",
   "execution_count": 120,
   "id": "2dcd0625-aadf-4192-b700-c97bd377e2ed",
   "metadata": {},
   "outputs": [],
   "source": [
    "fitting_event_data = fitting_event_data[:-14]"
   ]
  },
  {
   "cell_type": "code",
   "execution_count": 121,
   "id": "c517877d-2bbd-44a4-8003-4b840a9ee41b",
   "metadata": {},
   "outputs": [
    {
     "name": "stdout",
     "output_type": "stream",
     "text": [
      "[[-2.9066e+02 -3.0738e+02 -1.4264e+02  1.0379e+04]\n",
      " [-2.9066e+02 -3.0738e+02 -1.5966e+02  1.0387e+04]\n",
      " [-2.9066e+02 -3.0738e+02 -2.7881e+02  1.1734e+04]\n",
      " [-3.6893e+02 -2.1023e+02 -1.2923e+02  1.0617e+04]\n",
      " [-3.6893e+02 -2.1023e+02 -1.8030e+02  9.9460e+03]\n",
      " [-3.6893e+02 -2.1023e+02 -1.9732e+02  1.0741e+04]\n",
      " [-3.6893e+02 -2.1023e+02 -2.3136e+02  1.0092e+04]\n",
      " [-3.6893e+02 -2.1023e+02 -2.4838e+02  1.0269e+04]\n",
      " [-2.4565e+02 -1.9049e+02 -1.4492e+02  9.9520e+03]\n",
      " [-2.4565e+02 -1.9049e+02 -1.6195e+02  9.8850e+03]\n",
      " [-2.4565e+02 -1.9049e+02 -1.7897e+02  9.8700e+03]\n",
      " [-2.4565e+02 -1.9049e+02 -1.9599e+02  9.9120e+03]\n",
      " [-2.4565e+02 -1.9049e+02 -2.1301e+02  9.9190e+03]\n",
      " [-1.2177e+02 -1.7103e+02 -9.3450e+01  1.0439e+04]\n",
      " [-1.2177e+02 -1.7103e+02 -1.1047e+02  1.0368e+04]\n",
      " [-1.2177e+02 -1.7103e+02 -1.2749e+02  1.0371e+04]\n",
      " [ 1.7100e+00 -1.5063e+02  5.4720e+01  1.1405e+04]\n",
      " [ 1.7100e+00 -1.5063e+02 -1.3370e+01  1.1061e+04]\n",
      " [ 1.7100e+00 -1.5063e+02 -6.4430e+01  1.0888e+04]\n",
      " [ 1.2497e+02 -1.3125e+02  3.4090e+01  1.2274e+04]\n",
      " [-4.4774e+02 -1.1313e+02 -2.3122e+02  9.9210e+03]\n",
      " [-3.2439e+02 -9.3430e+01 -1.2963e+02  1.0467e+04]\n",
      " [ 4.6290e+01 -3.4880e+01  4.1410e+01  1.1909e+04]\n",
      " [ 4.6290e+01 -3.4880e+01 -2.6670e+01  1.1425e+04]\n",
      " [ 1.9434e+02 -3.0920e+01  1.6368e+02  1.2190e+04]\n",
      " [ 1.9434e+02 -3.0920e+01  1.1262e+02  1.2508e+04]\n",
      " [ 1.9434e+02 -3.0920e+01  9.5600e+01  1.1653e+04]\n",
      " [ 1.9434e+02 -3.0920e+01  7.8580e+01  1.1606e+04]\n",
      " [ 1.9434e+02 -3.0920e+01  4.4530e+01  1.1642e+04]\n",
      " [ 1.9434e+02 -3.0920e+01  1.0490e+01  1.2521e+04]\n",
      " [ 2.9290e+02  5.2000e+00  1.5099e+02  1.2069e+04]\n",
      " [ 2.9290e+02  5.2000e+00  1.3397e+02  1.1993e+04]\n",
      " [ 2.9290e+02  5.2000e+00  1.1695e+02  1.2000e+04]\n",
      " [ 2.9290e+02  5.2000e+00  9.9930e+01  1.2088e+04]\n",
      " [ 4.1181e+02  1.3000e+01  1.9536e+02  1.2537e+04]\n",
      " [ 5.4407e+02  5.5890e+01  2.9854e+02  1.3217e+04]\n",
      " [ 5.4407e+02  5.5890e+01  2.8152e+02  1.3063e+04]\n",
      " [ 5.4407e+02  5.5890e+01  2.6450e+02  1.3139e+04]\n",
      " [ 5.4407e+02  5.5890e+01  2.4747e+02  1.3990e+04]\n",
      " [ 5.4407e+02  5.5890e+01  2.3045e+02  1.3111e+04]\n",
      " [ 3.3003e+02  1.2720e+02  2.4556e+02  1.3321e+04]\n",
      " [ 3.3003e+02  1.2720e+02  1.7747e+02  1.3142e+04]\n",
      " [ 5.7637e+02  1.7092e+02  2.8980e+02  1.3605e+04]]\n"
     ]
    }
   ],
   "source": [
    "print(fitting_event_data)"
   ]
  },
  {
   "cell_type": "code",
   "execution_count": 122,
   "id": "9ea4c1e6-e188-49f3-b6e1-ba5cd2216c94",
   "metadata": {},
   "outputs": [],
   "source": [
    "from lib.network import get_network_eval_v_fn\n",
    "from dom_track_eval import get_eval_network_doms_and_track\n",
    "from likelihood_spe import get_llh_and_grad_fs_for_iminuit_migrad\n",
    "from likelihood_spe import get_llh_and_grad_fs_for_iminuit_migrad_profile\n",
    "from likelihood_spe import get_neg_c_triple_gamma_llh"
   ]
  },
  {
   "cell_type": "code",
   "execution_count": 123,
   "id": "02e3acfd-06fb-45f4-a04e-13337ee5a84d",
   "metadata": {},
   "outputs": [],
   "source": [
    "# Get network and eval logic.\n",
    "eval_network_v = get_network_eval_v_fn(bpath='/home/storage/hans/jax_reco/data/network')\n",
    "eval_network_doms_and_track = get_eval_network_doms_and_track(eval_network_v)"
   ]
  },
  {
   "cell_type": "code",
   "execution_count": 124,
   "id": "83290aa0-7027-4477-99b3-b5652ac9c357",
   "metadata": {},
   "outputs": [],
   "source": [
    "obj_fn, obj_grad = get_llh_and_grad_fs_for_iminuit_migrad(eval_network_doms_and_track)\n",
    "\n",
    "# put the thing below into a for loop if you want to reconstruct many events (without jit-recompiling everything)\n",
    "f_prime = lambda x: obj_fn(x, centered_track_time, fitting_event_data)\n",
    "grad_prime = lambda x: obj_grad(x, centered_track_time, fitting_event_data)"
   ]
  },
  {
   "cell_type": "code",
   "execution_count": 125,
   "id": "2a1046a6-e006-4a65-a36b-2289ca64a0c5",
   "metadata": {},
   "outputs": [],
   "source": [
    "from iminuit import Minuit"
   ]
  },
  {
   "cell_type": "code",
   "execution_count": 126,
   "id": "37d5aa4c-f28e-43fe-96d9-0ddbd47fa8ba",
   "metadata": {},
   "outputs": [
    {
     "data": {
      "text/html": [
       "<table>\n",
       "    <tr>\n",
       "        <th colspan=\"2\" style=\"text-align:center\" title=\"Minimizer\"> Migrad </th>\n",
       "    </tr>\n",
       "    <tr>\n",
       "        <td style=\"text-align:left\" title=\"Minimum value of function\"> FCN = 542.8 </td>\n",
       "        <td style=\"text-align:center\" title=\"Total number of function and (optional) gradient evaluations\"> Nfcn = 157, Ngrad = 5 </td>\n",
       "    </tr>\n",
       "    <tr>\n",
       "        <td style=\"text-align:left\" title=\"Estimated distance to minimum and goal\"> EDM = 8.53e-05 (Goal: 0.0001) </td>\n",
       "        <td style=\"text-align:center\" title=\"Total run time of algorithms\"> time = 4.6 sec </td>\n",
       "    </tr>\n",
       "    <tr>\n",
       "        <td style=\"text-align:center;background-color:#92CCA6;color:black\"> Valid Minimum </td>\n",
       "        <td style=\"text-align:center;background-color:#92CCA6;color:black\"> Below EDM threshold (goal x 10) </td>\n",
       "    </tr>\n",
       "    <tr>\n",
       "        <td style=\"text-align:center;background-color:#92CCA6;color:black\"> No parameters at limit </td>\n",
       "        <td style=\"text-align:center;background-color:#92CCA6;color:black\"> Below call limit </td>\n",
       "    </tr>\n",
       "    <tr>\n",
       "        <td style=\"text-align:center;background-color:#92CCA6;color:black\"> Hesse ok </td>\n",
       "        <td style=\"text-align:center;background-color:#92CCA6;color:black\"> Covariance accurate </td>\n",
       "    </tr>\n",
       "</table><table>\n",
       "    <tr>\n",
       "        <td></td>\n",
       "        <th title=\"Variable name\"> Name </th>\n",
       "        <th title=\"Value of parameter\"> Value </th>\n",
       "        <th title=\"Hesse error\"> Hesse Error </th>\n",
       "        <th title=\"Minos lower error\"> Minos Error- </th>\n",
       "        <th title=\"Minos upper error\"> Minos Error+ </th>\n",
       "        <th title=\"Lower limit of the parameter\"> Limit- </th>\n",
       "        <th title=\"Upper limit of the parameter\"> Limit+ </th>\n",
       "        <th title=\"Is the parameter fixed in the fit\"> Fixed </th>\n",
       "    </tr>\n",
       "    <tr>\n",
       "        <th> 0 </th>\n",
       "        <td> x0 </td>\n",
       "        <td> 2.0554 </td>\n",
       "        <td> 0.0017 </td>\n",
       "        <td>  </td>\n",
       "        <td>  </td>\n",
       "        <td> 0 </td>\n",
       "        <td> 3.14 </td>\n",
       "        <td>  </td>\n",
       "    </tr>\n",
       "    <tr>\n",
       "        <th> 1 </th>\n",
       "        <td> x1 </td>\n",
       "        <td> 3.5071 </td>\n",
       "        <td> 0.0023 </td>\n",
       "        <td>  </td>\n",
       "        <td>  </td>\n",
       "        <td> 0 </td>\n",
       "        <td> 6.28 </td>\n",
       "        <td>  </td>\n",
       "    </tr>\n",
       "    <tr>\n",
       "        <th> 2 </th>\n",
       "        <td> x2 </td>\n",
       "        <td> 152.1 </td>\n",
       "        <td> 2.8 </td>\n",
       "        <td>  </td>\n",
       "        <td>  </td>\n",
       "        <td> -500 </td>\n",
       "        <td> 500 </td>\n",
       "        <td>  </td>\n",
       "    </tr>\n",
       "    <tr>\n",
       "        <th> 3 </th>\n",
       "        <td> x3 </td>\n",
       "        <td> -57.5 </td>\n",
       "        <td> 1.3 </td>\n",
       "        <td>  </td>\n",
       "        <td>  </td>\n",
       "        <td> -500 </td>\n",
       "        <td> 500 </td>\n",
       "        <td>  </td>\n",
       "    </tr>\n",
       "    <tr>\n",
       "        <th> 4 </th>\n",
       "        <td> x4 </td>\n",
       "        <td> 53.1 </td>\n",
       "        <td> 0.7 </td>\n",
       "        <td>  </td>\n",
       "        <td>  </td>\n",
       "        <td> -500 </td>\n",
       "        <td> 500 </td>\n",
       "        <td>  </td>\n",
       "    </tr>\n",
       "</table><table>\n",
       "    <tr>\n",
       "        <td></td>\n",
       "        <th> x0 </th>\n",
       "        <th> x1 </th>\n",
       "        <th> x2 </th>\n",
       "        <th> x3 </th>\n",
       "        <th> x4 </th>\n",
       "    </tr>\n",
       "    <tr>\n",
       "        <th> x0 </th>\n",
       "        <td> 3.06e-06 </td>\n",
       "        <td style=\"background-color:rgb(250,213,213);color:black\"> 1.0e-6 <strong>(0.245)</strong> </td>\n",
       "        <td style=\"background-color:rgb(250,114,114);color:black\"> 4.4202e-3 <strong>(0.908)</strong> </td>\n",
       "        <td style=\"background-color:rgb(144,144,250);color:black\"> -1.8073e-3 <strong>(-0.815)</strong> </td>\n",
       "        <td style=\"background-color:rgb(250,143,143);color:black\"> 819.7e-6 <strong>(0.710)</strong> </td>\n",
       "    </tr>\n",
       "    <tr>\n",
       "        <th> x1 </th>\n",
       "        <td style=\"background-color:rgb(250,213,213);color:black\"> 1.0e-6 <strong>(0.245)</strong> </td>\n",
       "        <td> 5.33e-06 </td>\n",
       "        <td style=\"background-color:rgb(250,208,208);color:black\"> 1.802e-3 <strong>(0.280)</strong> </td>\n",
       "        <td style=\"background-color:rgb(210,210,250);color:black\"> -908e-6 <strong>(-0.310)</strong> </td>\n",
       "        <td style=\"background-color:rgb(250,204,204);color:black\"> 463e-6 <strong>(0.304)</strong> </td>\n",
       "    </tr>\n",
       "    <tr>\n",
       "        <th> x2 </th>\n",
       "        <td style=\"background-color:rgb(250,114,114);color:black\"> 4.4202e-3 <strong>(0.908)</strong> </td>\n",
       "        <td style=\"background-color:rgb(250,208,208);color:black\"> 1.802e-3 <strong>(0.280)</strong> </td>\n",
       "        <td> 7.74 </td>\n",
       "        <td style=\"background-color:rgb(127,127,250);color:black\"> -3.3 <strong>(-0.950)</strong> </td>\n",
       "        <td style=\"background-color:rgb(250,110,110);color:black\"> 1.7 <strong>(0.933)</strong> </td>\n",
       "    </tr>\n",
       "    <tr>\n",
       "        <th> x3 </th>\n",
       "        <td style=\"background-color:rgb(144,144,250);color:black\"> -1.8073e-3 <strong>(-0.815)</strong> </td>\n",
       "        <td style=\"background-color:rgb(210,210,250);color:black\"> -908e-6 <strong>(-0.310)</strong> </td>\n",
       "        <td style=\"background-color:rgb(127,127,250);color:black\"> -3.3 <strong>(-0.950)</strong> </td>\n",
       "        <td> 1.61 </td>\n",
       "        <td style=\"background-color:rgb(134,134,250);color:black\"> -0.7 <strong>(-0.896)</strong> </td>\n",
       "    </tr>\n",
       "    <tr>\n",
       "        <th> x4 </th>\n",
       "        <td style=\"background-color:rgb(250,143,143);color:black\"> 819.7e-6 <strong>(0.710)</strong> </td>\n",
       "        <td style=\"background-color:rgb(250,204,204);color:black\"> 463e-6 <strong>(0.304)</strong> </td>\n",
       "        <td style=\"background-color:rgb(250,110,110);color:black\"> 1.7 <strong>(0.933)</strong> </td>\n",
       "        <td style=\"background-color:rgb(134,134,250);color:black\"> -0.7 <strong>(-0.896)</strong> </td>\n",
       "        <td> 0.435 </td>\n",
       "    </tr>\n",
       "</table>"
      ],
      "text/plain": [
       "┌─────────────────────────────────────────────────────────────────────────┐\n",
       "│                                Migrad                                   │\n",
       "├──────────────────────────────────┬──────────────────────────────────────┤\n",
       "│ FCN = 542.8                      │        Nfcn = 157, Ngrad = 5         │\n",
       "│ EDM = 8.53e-05 (Goal: 0.0001)    │            time = 4.6 sec            │\n",
       "├──────────────────────────────────┼──────────────────────────────────────┤\n",
       "│          Valid Minimum           │   Below EDM threshold (goal x 10)    │\n",
       "├──────────────────────────────────┼──────────────────────────────────────┤\n",
       "│      No parameters at limit      │           Below call limit           │\n",
       "├──────────────────────────────────┼──────────────────────────────────────┤\n",
       "│             Hesse ok             │         Covariance accurate          │\n",
       "└──────────────────────────────────┴──────────────────────────────────────┘\n",
       "┌───┬──────┬───────────┬───────────┬────────────┬────────────┬─────────┬─────────┬───────┐\n",
       "│   │ Name │   Value   │ Hesse Err │ Minos Err- │ Minos Err+ │ Limit-  │ Limit+  │ Fixed │\n",
       "├───┼──────┼───────────┼───────────┼────────────┼────────────┼─────────┼─────────┼───────┤\n",
       "│ 0 │ x0   │  2.0554   │  0.0017   │            │            │    0    │ 3.14159 │       │\n",
       "│ 1 │ x1   │  3.5071   │  0.0023   │            │            │    0    │ 6.28319 │       │\n",
       "│ 2 │ x2   │   152.1   │    2.8    │            │            │  -500   │   500   │       │\n",
       "│ 3 │ x3   │   -57.5   │    1.3    │            │            │  -500   │   500   │       │\n",
       "│ 4 │ x4   │   53.1    │    0.7    │            │            │  -500   │   500   │       │\n",
       "└───┴──────┴───────────┴───────────┴────────────┴────────────┴─────────┴─────────┴───────┘\n",
       "┌────┬────────────────────────────────────────────────────────┐\n",
       "│    │         x0         x1         x2         x3         x4 │\n",
       "├────┼────────────────────────────────────────────────────────┤\n",
       "│ x0 │   3.06e-06     1.0e-6  4.4202e-3 -1.8073e-3   819.7e-6 │\n",
       "│ x1 │     1.0e-6   5.33e-06   1.802e-3    -908e-6     463e-6 │\n",
       "│ x2 │  4.4202e-3   1.802e-3       7.74       -3.3        1.7 │\n",
       "│ x3 │ -1.8073e-3    -908e-6       -3.3       1.61       -0.7 │\n",
       "│ x4 │   819.7e-6     463e-6        1.7       -0.7      0.435 │\n",
       "└────┴────────────────────────────────────────────────────────┘"
      ]
     },
     "execution_count": 126,
     "metadata": {},
     "output_type": "execute_result"
    }
   ],
   "source": [
    "x0 = jnp.concatenate([track_src, centered_track_pos])\n",
    "m = Minuit(f_prime, x0, grad=grad_prime)\n",
    "m.errordef = Minuit.LIKELIHOOD\n",
    "m.limits = ((0.0, np.pi), (0.0, 2.0 * np.pi), (-500.0, 500.0),  (-500.0, 500.0),  (-500.0, 500.0))\n",
    "m.strategy = 2\n",
    "m.migrad()"
   ]
  },
  {
   "cell_type": "code",
   "execution_count": 127,
   "id": "f6fd7916-11b3-4518-9b42-eb89ba902832",
   "metadata": {},
   "outputs": [
    {
     "name": "stdout",
     "output_type": "stream",
     "text": [
      "178 ms ± 562 μs per loop (mean ± std. dev. of 7 runs, 10 loops each)\n"
     ]
    }
   ],
   "source": [
    "def run():\n",
    "    m = Minuit(f_prime, x0, grad=grad_prime)\n",
    "    m.errordef = Minuit.LIKELIHOOD\n",
    "    m.limits = ((0.0, np.pi), (0.0, 2.0 * np.pi), (-500.0, 500.0),  (-500.0, 500.0),  (-500.0, 500.0))\n",
    "    m.strategy = 1\n",
    "    m.migrad()\n",
    "\n",
    "%timeit run()"
   ]
  },
  {
   "cell_type": "code",
   "execution_count": 128,
   "id": "44a1b21b-e8c9-4527-834f-a54a6f07f04c",
   "metadata": {},
   "outputs": [
    {
     "name": "stdout",
     "output_type": "stream",
     "text": [
      "... solution found.\n",
      "-2*logl=542.788\n",
      "zenith=2.055rad\n",
      "azimuth=3.507rad\n",
      "x=152.111m\n",
      "y=-57.460m\n",
      "z=53.148m\n",
      "at fix time t=11386.315ns\n"
     ]
    }
   ],
   "source": [
    "print(\"... solution found.\")\n",
    "print(f\"-2*logl={m.fval:.3f}\")\n",
    "print(f\"zenith={m.values[0]:.3f}rad\")\n",
    "print(f\"azimuth={m.values[1]:.3f}rad\")\n",
    "print(f\"x={m.values[2]:.3f}m\")\n",
    "print(f\"y={m.values[3]:.3f}m\")\n",
    "print(f\"z={m.values[4]:.3f}m\")\n",
    "print(f\"at fix time t={centered_track_time:.3f}ns\")"
   ]
  },
  {
   "cell_type": "code",
   "execution_count": 129,
   "id": "308fc4c6-8605-445e-893c-dee906b3df13",
   "metadata": {},
   "outputs": [
    {
     "name": "stdout",
     "output_type": "stream",
     "text": [
      "[2.05272282 3.51011035]\n"
     ]
    }
   ],
   "source": [
    "print(track_src)"
   ]
  },
  {
   "cell_type": "code",
   "execution_count": 130,
   "id": "dccdaea0-a5ae-42c1-92b6-5f7e5eb99cc7",
   "metadata": {},
   "outputs": [
    {
     "name": "stdout",
     "output_type": "stream",
     "text": [
      "545.2664483049243\n"
     ]
    }
   ],
   "source": [
    "print(f_prime(x0))"
   ]
  },
  {
   "cell_type": "code",
   "execution_count": 131,
   "id": "8ea12448-7c66-40db-847e-8bfe8331d40d",
   "metadata": {
    "scrolled": true
   },
   "outputs": [
    {
     "name": "stdout",
     "output_type": "stream",
     "text": [
      "... solution found.\n",
      "-2*logl=542.207\n",
      "zenith=2.059rad\n",
      "azimuth=3.507rad\n",
      "x=151.706m\n",
      "y=-57.338m\n",
      "z=53.643m\n",
      "at fix time t=11386.315ns\n"
     ]
    }
   ],
   "source": [
    "neg_llh = get_neg_c_triple_gamma_llh(eval_network_doms_and_track)\n",
    "scale1 = 10.0\n",
    "scale2 = 10.0\n",
    "\n",
    "@jax.jit\n",
    "def neg_llh_5D(x, track_time, data):\n",
    "    return neg_llh(x[:2]/scale2, x[2:]*scale1, track_time, data)\n",
    "\n",
    "@jax.jit\n",
    "def minimize_bfgs(x0, track_time, data):\n",
    "    result = optimize.minimize(neg_llh_5D,\n",
    "                                x0,\n",
    "                                args=(track_time, data),\n",
    "                                method=\"BFGS\", \n",
    "                                options={'maxiter':50, 'gtol':1.e-3})\n",
    "    \n",
    "    return result.fun, result.x\n",
    "\n",
    "x0 = jnp.concatenate([track_src*scale2, centered_track_pos/scale1])\n",
    "best_logl, best_x = minimize_bfgs(x0, centered_track_time, fitting_event_data)\n",
    "\n",
    "print(\"... solution found.\")\n",
    "print(f\"-2*logl={best_logl:.3f}\")\n",
    "print(f\"zenith={best_x[0]/scale2:.3f}rad\")\n",
    "print(f\"azimuth={best_x[1]/scale2:.3f}rad\")\n",
    "print(f\"x={best_x[2]*scale1:.3f}m\")\n",
    "print(f\"y={best_x[3]*scale1:.3f}m\")\n",
    "print(f\"z={best_x[4]*scale1:.3f}m\")\n",
    "print(f\"at fix time t={centered_track_time:.3f}ns\")"
   ]
  },
  {
   "cell_type": "code",
   "execution_count": 132,
   "id": "c258d6ac-ec99-4295-be67-c71ef9b1506d",
   "metadata": {},
   "outputs": [
    {
     "name": "stdout",
     "output_type": "stream",
     "text": [
      "53.6 ms ± 82.7 μs per loop (mean ± std. dev. of 7 runs, 10 loops each)\n"
     ]
    }
   ],
   "source": [
    "%timeit minimize_bfgs(x0, centered_track_time, fitting_event_data)"
   ]
  },
  {
   "cell_type": "code",
   "execution_count": 133,
   "id": "749a1ebd-2fa9-4697-b6a9-61b659008b9c",
   "metadata": {},
   "outputs": [],
   "source": [
    "@jax.jit\n",
    "def minimize_bfgs(x0, track_time, data):\n",
    "    result = optimize.minimize(neg_llh_5D,\n",
    "                                x0,\n",
    "                                args=(track_time, data),\n",
    "                                method=\"BFGS\", \n",
    "                                options={'maxiter':50, 'gtol':1.e-3})\n",
    "    \n",
    "    return result"
   ]
  },
  {
   "cell_type": "code",
   "execution_count": 134,
   "id": "dad958f9-66c4-4f66-91ad-6b7ec418d474",
   "metadata": {},
   "outputs": [],
   "source": [
    "result = minimize_bfgs(x0, centered_track_time, fitting_event_data)"
   ]
  },
  {
   "cell_type": "code",
   "execution_count": 135,
   "id": "1f4e7781-bb0e-421d-adbf-51f1e15b5819",
   "metadata": {},
   "outputs": [
    {
     "name": "stdout",
     "output_type": "stream",
     "text": [
      "OptimizeResults(x=Array([20.59277648, 35.07255389, 15.17062953, -5.7338198 ,  5.36426011],      dtype=float64), success=Array(True, dtype=bool), status=Array(0, dtype=int64, weak_type=True), fun=Array(542.20749242, dtype=float64), jac=Array([ 1.40447775e-04, -2.83146884e-04,  5.25167443e-05, -2.78237327e-04,\n",
      "       -1.08377070e-04], dtype=float64), hess_inv=Array([[ 1.78233263e-03, -2.19980502e-04, -8.85363377e-05,\n",
      "         8.22873628e-04, -5.35409671e-05],\n",
      "       [-2.19980502e-04,  6.36727660e-04,  7.22296732e-05,\n",
      "        -4.83562460e-04,  8.52613118e-04],\n",
      "       [-8.85363377e-05,  7.22296732e-05,  8.89250140e-03,\n",
      "        -3.80000807e-03,  1.46370724e-03],\n",
      "       [ 8.22873628e-04, -4.83562460e-04, -3.80000807e-03,\n",
      "         4.17298162e-03, -3.03824144e-03],\n",
      "       [-5.35409671e-05,  8.52613118e-04,  1.46370724e-03,\n",
      "        -3.03824144e-03,  9.24062002e-03]], dtype=float64), nfev=Array(23, dtype=int64, weak_type=True), njev=Array(23, dtype=int64, weak_type=True), nit=Array(14, dtype=int64, weak_type=True))\n"
     ]
    }
   ],
   "source": [
    "print(result)"
   ]
  },
  {
   "cell_type": "code",
   "execution_count": 136,
   "id": "8d8fd293-0776-4d75-9cfb-c2f28bbedeb9",
   "metadata": {},
   "outputs": [
    {
     "name": "stdout",
     "output_type": "stream",
     "text": [
      "53.8 ms ± 103 μs per loop (mean ± std. dev. of 7 runs, 10 loops each)\n"
     ]
    }
   ],
   "source": [
    "%timeit minimize_bfgs(x0, centered_track_time, fitting_event_data)"
   ]
  },
  {
   "cell_type": "code",
   "execution_count": 137,
   "id": "507071ed-c8c5-45dc-8389-8525d06a5527",
   "metadata": {},
   "outputs": [],
   "source": [
    "x = jnp.array(-0.5)\n",
    "y = jnp.where(x>0, 1.0, 0.0)"
   ]
  },
  {
   "cell_type": "code",
   "execution_count": 138,
   "id": "e344d8e1-ff23-4e7b-8ba3-565397246e6d",
   "metadata": {},
   "outputs": [
    {
     "name": "stdout",
     "output_type": "stream",
     "text": [
      "... solution found.\n",
      "-2*logl=542.207\n",
      "zenith=2.059rad\n",
      "azimuth=3.507rad\n",
      "x=151.706m\n",
      "y=-57.338m\n",
      "z=53.643m\n",
      "at fix time t=11386.315ns\n"
     ]
    }
   ],
   "source": [
    "neg_llh = get_neg_c_triple_gamma_llh(eval_network_doms_and_track)\n",
    "scale1 = 10.0\n",
    "\n",
    "@jax.jit\n",
    "def neg_llh_5D(x, track_time, data):\n",
    "    return neg_llh(x[:2], x[2:]*scale1, track_time, data)\n",
    "\n",
    "@jax.jit\n",
    "def minimize_bfgs(x0, track_time, data):\n",
    "    result = optimize.minimize(neg_llh_5D,\n",
    "                                x0,\n",
    "                                args=(track_time, data),\n",
    "                                method=\"BFGS\", \n",
    "                                options={'maxiter':50, 'gtol':1.e-3})\n",
    "    \n",
    "    return result.fun, result.x\n",
    "\n",
    "x0 = jnp.concatenate([track_src, centered_track_pos/scale1])\n",
    "best_logl, best_x = minimize_bfgs(x0, centered_track_time, fitting_event_data)\n",
    "\n",
    "print(\"... solution found.\")\n",
    "print(f\"-2*logl={best_logl:.3f}\")\n",
    "print(f\"zenith={best_x[0]:.3f}rad\")\n",
    "print(f\"azimuth={best_x[1]:.3f}rad\")\n",
    "print(f\"x={best_x[2]*scale1:.3f}m\")\n",
    "print(f\"y={best_x[3]*scale1:.3f}m\")\n",
    "print(f\"z={best_x[4]*scale1:.3f}m\")\n",
    "print(f\"at fix time t={centered_track_time:.3f}ns\")"
   ]
  },
  {
   "cell_type": "code",
   "execution_count": 139,
   "id": "57c33ed3-f97d-400c-9346-5979e29748d4",
   "metadata": {},
   "outputs": [],
   "source": [
    "scale = 10\n",
    "\n",
    "@jax.jit\n",
    "def neg_llh_3D(x, track_dir, track_time, data):\n",
    "    return neg_llh(track_dir, x*scale, track_time, data)\n",
    "\n",
    "@jax.jit\n",
    "def minimize_bfgs_profile(track_dir, x0, track_time, data):\n",
    "    return optimize.minimize(neg_llh_3D,\n",
    "                             x0/scale,\n",
    "                             args=(track_dir,\n",
    "                                   track_time,\n",
    "                                   data),\n",
    "                             method='BFGS',\n",
    "                             options={'maxiter':50, 'gtol':1.e-5}).fun"
   ]
  },
  {
   "cell_type": "code",
   "execution_count": 140,
   "id": "5765a097-8614-4def-bc12-0f8da5236b96",
   "metadata": {},
   "outputs": [],
   "source": [
    "minimize_bfgs_profile_v = jax.jit(jax.vmap(minimize_bfgs_profile, (0, None, None, None), 0))"
   ]
  },
  {
   "cell_type": "code",
   "execution_count": 141,
   "id": "8d25eb47-269d-4b13-90d3-4b83d2f505f3",
   "metadata": {},
   "outputs": [
    {
     "data": {
      "text/plain": [
       "Array(544.24458213, dtype=float64)"
      ]
     },
     "execution_count": 141,
     "metadata": {},
     "output_type": "execute_result"
    }
   ],
   "source": [
    "x0 = centered_track_pos\n",
    "minimize_bfgs_profile(track_src, x0, centered_track_time, fitting_event_data)"
   ]
  },
  {
   "cell_type": "code",
   "execution_count": 142,
   "id": "2476a439-b690-40de-9794-7bc2071fa673",
   "metadata": {},
   "outputs": [
    {
     "name": "stdout",
     "output_type": "stream",
     "text": [
      "37.6 ms ± 106 μs per loop (mean ± std. dev. of 7 runs, 10 loops each)\n"
     ]
    }
   ],
   "source": [
    "%timeit minimize_bfgs_profile(track_src, x0, centered_track_time, fitting_event_data)"
   ]
  },
  {
   "cell_type": "code",
   "execution_count": 143,
   "id": "091291dc-48c9-4408-82fc-3c086773172a",
   "metadata": {},
   "outputs": [
    {
     "data": {
      "text/plain": [
       "Array(576.27249728, dtype=float64)"
      ]
     },
     "execution_count": 143,
     "metadata": {},
     "output_type": "execute_result"
    }
   ],
   "source": [
    "minimize_bfgs_profile(track_src-0.03, x0, centered_track_time, fitting_event_data)"
   ]
  },
  {
   "cell_type": "code",
   "execution_count": 144,
   "id": "325e5d4b-3f96-4569-bdd8-07336e998a06",
   "metadata": {
    "scrolled": true
   },
   "outputs": [
    {
     "name": "stdout",
     "output_type": "stream",
     "text": [
      "43.8 ms ± 142 μs per loop (mean ± std. dev. of 7 runs, 10 loops each)\n"
     ]
    }
   ],
   "source": [
    "%timeit minimize_bfgs_profile(track_src-0.03, x0, centered_track_time, fitting_event_data)"
   ]
  },
  {
   "cell_type": "code",
   "execution_count": 145,
   "id": "a901e8b2-cf66-42e0-8415-2d986e100ff9",
   "metadata": {},
   "outputs": [
    {
     "data": {
      "text/plain": [
       "Array(586.92127487, dtype=float64)"
      ]
     },
     "execution_count": 145,
     "metadata": {},
     "output_type": "execute_result"
    }
   ],
   "source": [
    "minimize_bfgs_profile(track_src+0.03, x0, centered_track_time, fitting_event_data)"
   ]
  },
  {
   "cell_type": "code",
   "execution_count": 146,
   "id": "d8110e24-a3e8-48db-bfc3-b2598a46db12",
   "metadata": {},
   "outputs": [
    {
     "name": "stdout",
     "output_type": "stream",
     "text": [
      "58.9 ms ± 88.9 μs per loop (mean ± std. dev. of 7 runs, 10 loops each)\n"
     ]
    }
   ],
   "source": [
    "%timeit minimize_bfgs_profile(track_src+0.03, x0, centered_track_time, fitting_event_data)"
   ]
  },
  {
   "cell_type": "code",
   "execution_count": 147,
   "id": "e05104b0-681a-4e60-a060-3cea52995b59",
   "metadata": {},
   "outputs": [],
   "source": [
    "dzen = 0.03\n",
    "dazi = 0.03\n",
    "n_eval = 20\n",
    "zenith = jnp.linspace(track_src[0]-dzen, track_src[0]+dazi, n_eval)\n",
    "azimuth = jnp.linspace(track_src[1]-dzen, track_src[1]+dazi, n_eval)\n",
    "X, Y = jnp.meshgrid(zenith, azimuth)\n",
    "init_dirs = jnp.column_stack([X.flatten(), Y.flatten()])"
   ]
  },
  {
   "cell_type": "code",
   "execution_count": 148,
   "id": "05ce0786-69fd-46c4-8107-98ee89186f37",
   "metadata": {},
   "outputs": [],
   "source": [
    "def get_grid():\n",
    "    logls = []\n",
    "    for current_dir in init_dirs:\n",
    "        logls.append(minimize_bfgs_profile(current_dir, x0, centered_track_time, fitting_event_data))\n",
    "    return logls"
   ]
  },
  {
   "cell_type": "code",
   "execution_count": 149,
   "id": "ed40abeb-ddb5-4812-8f25-80e6d4e44942",
   "metadata": {},
   "outputs": [],
   "source": [
    "logls = get_grid()"
   ]
  },
  {
   "cell_type": "code",
   "execution_count": 150,
   "id": "32564c0f-bf95-4c2d-b238-d8cffc21508e",
   "metadata": {},
   "outputs": [],
   "source": [
    "#%timeit get_grid()"
   ]
  },
  {
   "cell_type": "code",
   "execution_count": 151,
   "id": "c247870e-b2df-40fa-bf36-d663d30c29c7",
   "metadata": {},
   "outputs": [
    {
     "data": {
      "image/png": "[encoded data removed]",
      "text/plain": [
       "<Figure size 640x480 with 2 Axes>"
      ]
     },
     "metadata": {},
     "output_type": "display_data"
    }
   ],
   "source": [
    "from palettable.cubehelix import Cubehelix\n",
    "cx =Cubehelix.make(start=0.3, rotation=-0.5, n=16, reverse=False, gamma=1.0,\n",
    "                           max_light=1.0,max_sat=0.5, min_sat=1.4).get_mpl_colormap()\n",
    "\n",
    "\n",
    "logls = np.array(logls).reshape(X.shape)\n",
    "\n",
    "fig, ax = plt.subplots()\n",
    "min_logl = np.amin(logls)\n",
    "delta_logl = logls - np.amin(logls)\n",
    "pc = ax.pcolormesh(np.rad2deg(X), np.rad2deg(Y), delta_logl, vmin=0, vmax=np.min([25, 1.2*np.amax(delta_logl)]), shading='auto', cmap=cx)\n",
    "cbar = fig.colorbar(pc)\n",
    "cbar.ax.tick_params(labelsize=16)\n",
    "cbar.ax.get_yaxis().labelpad = 5\n",
    "cbar.set_label(\"-2$\\\\Delta$log $L_{SPE}$\", fontsize=20)\n",
    "cbar.outline.set_linewidth(1.5)\n",
    "\n",
    "ax.set_xlabel(\"zenith [deg]\", fontsize=16)\n",
    "ax.set_ylabel(\"azimuth [deg]\", fontsize=16)\n",
    "ax.set_xlim(np.rad2deg([track_src[0]-dzen, track_src[0]+dzen]))\n",
    "ax.set_ylim(np.rad2deg([track_src[1]-dazi, track_src[1]+dazi]))\n",
    "ax.tick_params(axis='both', which='both', width=1.5, colors='0.0', labelsize=16)\n",
    "\n",
    "ax.scatter(np.rad2deg(track_src[0]), np.rad2deg(track_src[1]), marker=\"*\", color='red', label=\"truth\", zorder=200)\n",
    "\n",
    "#smpe_zenith = meta['spline_mpe_zenith']\n",
    "#smpe_azimuth = meta['spline_mpe_azimuth']\n",
    "#ax.scatter(np.rad2deg([smpe_zenith]), np.rad2deg([smpe_azimuth]), marker=\"x\", color='lime', label='splineMPE')\n",
    "\n",
    "zenith = best_x[0]\n",
    "azimuth = best_x[1]\n",
    "ax.scatter(np.rad2deg(zenith), np.rad2deg(azimuth), marker='+', color='magenta', label='bfgs')\n",
    "\n",
    "contours = [4.61]\n",
    "ix1, ix2 = np.where(delta_logl==0)\n",
    "ax.scatter(np.rad2deg([X[ix1, ix2]]), np.rad2deg([Y[ix1, ix2]]), s=50, marker='o', facecolors='none', edgecolors='khaki', zorder=100., label='grid min')\n",
    "ct = plt.contour(np.rad2deg(X), np.rad2deg(Y), delta_logl, levels=contours, linestyles=['solid'], colors=['khaki'], linewidths=1.0)\n",
    "\n",
    "plt.legend()\n",
    "plt.tight_layout()\n",
    "plt.show()"
   ]
  },
  {
   "cell_type": "code",
   "execution_count": 152,
   "id": "f17e2be8-3b23-46aa-9a35-14784789fc48",
   "metadata": {},
   "outputs": [],
   "source": [
    "#minimize_bfgs_profile_v(init_dirs, x0, centered_track_time, fitting_event_data)"
   ]
  },
  {
   "cell_type": "code",
   "execution_count": 153,
   "id": "2337f513-e44e-4081-8500-4d1468d55053",
   "metadata": {},
   "outputs": [],
   "source": [
    "from likelihood_spe import get_llh_and_grad_fs_for_iminuit_migrad_profile"
   ]
  },
  {
   "cell_type": "code",
   "execution_count": 154,
   "id": "503d7dd6-1f4c-4c99-9369-aea3a979334f",
   "metadata": {},
   "outputs": [],
   "source": [
    "neg_llh_3D_m, neg_llh_3D_grad_m = get_llh_and_grad_fs_for_iminuit_migrad_profile(eval_network_doms_and_track)"
   ]
  },
  {
   "cell_type": "code",
   "execution_count": 155,
   "id": "95ef64fb-e20b-45b7-aba3-ca1720662377",
   "metadata": {},
   "outputs": [],
   "source": [
    "def lets_profile(track_dir, obj_fn, obj_grad, vertex_seed, time, data):\n",
    "    f_prime = lambda x: obj_fn(track_dir, x, time, data)\n",
    "    grad_prime = lambda x: obj_grad(track_dir, x, time, data)\n",
    "\n",
    "    x0 = jnp.array(vertex_seed)\n",
    "    m = Minuit(f_prime, x0, grad=grad_prime)\n",
    "    m.errordef = Minuit.LIKELIHOOD\n",
    "    m.limits = ((-500.0, 500.0),  (-500.0, 500.0),  (-500.0, 500.0))\n",
    "    m.strategy = 0\n",
    "    m.migrad()\n",
    "    return m.fval"
   ]
  },
  {
   "cell_type": "code",
   "execution_count": 156,
   "id": "98187604-490e-4b64-855b-159b644595cd",
   "metadata": {},
   "outputs": [],
   "source": [
    "logls = np.zeros(len(init_dirs))\n",
    "\n",
    "for i, tdir in enumerate(init_dirs):\n",
    "    logls[i] = lets_profile(tdir, neg_llh_3D_m, neg_llh_3D_grad_m,\n",
    "            centered_track_pos,\n",
    "            centered_track_time,\n",
    "            fitting_event_data)"
   ]
  },
  {
   "cell_type": "code",
   "execution_count": 157,
   "id": "7adeb08c-562d-4032-8ff2-500c32548f65",
   "metadata": {},
   "outputs": [
    {
     "data": {
      "image/png": "[encoded data removed]",
      "text/plain": [
       "<Figure size 640x480 with 2 Axes>"
      ]
     },
     "metadata": {},
     "output_type": "display_data"
    }
   ],
   "source": [
    "from palettable.cubehelix import Cubehelix\n",
    "cx =Cubehelix.make(start=0.3, rotation=-0.5, n=16, reverse=False, gamma=1.0,\n",
    "                           max_light=1.0,max_sat=0.5, min_sat=1.4).get_mpl_colormap()\n",
    "\n",
    "\n",
    "logls = np.array(logls).reshape(X.shape)\n",
    "\n",
    "fig, ax = plt.subplots()\n",
    "min_logl = np.amin(logls)\n",
    "delta_logl = logls - np.amin(logls)\n",
    "pc = ax.pcolormesh(np.rad2deg(X), np.rad2deg(Y), delta_logl, vmin=0, vmax=np.min([25, 1.2*np.amax(delta_logl)]), shading='auto', cmap=cx)\n",
    "cbar = fig.colorbar(pc)\n",
    "cbar.ax.tick_params(labelsize=16)\n",
    "cbar.ax.get_yaxis().labelpad = 5\n",
    "cbar.set_label(\"-2$\\\\Delta$log $L_{SPE}$\", fontsize=20)\n",
    "cbar.outline.set_linewidth(1.5)\n",
    "\n",
    "ax.set_xlabel(\"zenith [deg]\", fontsize=16)\n",
    "ax.set_ylabel(\"azimuth [deg]\", fontsize=16)\n",
    "ax.set_xlim(np.rad2deg([track_src[0]-dzen, track_src[0]+dzen]))\n",
    "ax.set_ylim(np.rad2deg([track_src[1]-dazi, track_src[1]+dazi]))\n",
    "ax.tick_params(axis='both', which='both', width=1.5, colors='0.0', labelsize=16)\n",
    "\n",
    "ax.scatter(np.rad2deg(track_src[0]), np.rad2deg(track_src[1]), marker=\"*\", color='red', label=\"truth\", zorder=200)\n",
    "\n",
    "#smpe_zenith = meta['spline_mpe_zenith']\n",
    "#smpe_azimuth = meta['spline_mpe_azimuth']\n",
    "#ax.scatter(np.rad2deg([smpe_zenith]), np.rad2deg([smpe_azimuth]), marker=\"x\", color='lime', label='splineMPE')\n",
    "\n",
    "zenith = best_x[0]\n",
    "azimuth = best_x[1]\n",
    "ax.scatter(np.rad2deg(zenith), np.rad2deg(azimuth), marker='+', color='magenta', label='bfgs')\n",
    "\n",
    "zenith = m.values[0]\n",
    "azimuth = m.values[1]\n",
    "ax.scatter(np.rad2deg(zenith), np.rad2deg(azimuth), marker='+', color='green', label='migrad')\n",
    "\n",
    "contours = [4.61]\n",
    "ix1, ix2 = np.where(delta_logl==0)\n",
    "ax.scatter(np.rad2deg([X[ix1, ix2]]), np.rad2deg([Y[ix1, ix2]]), s=50, marker='o', facecolors='none', edgecolors='khaki', zorder=100., label='grid min')\n",
    "ct = plt.contour(np.rad2deg(X), np.rad2deg(Y), delta_logl, levels=contours, linestyles=['solid'], colors=['khaki'], linewidths=1.0)\n",
    "\n",
    "plt.legend()\n",
    "plt.tight_layout()\n",
    "plt.show()"
   ]
  },
  {
   "cell_type": "code",
   "execution_count": null,
   "id": "a64600fc-c1ba-4ab1-8bfa-ab7115562509",
   "metadata": {},
   "outputs": [],
   "source": []
  },
  {
   "cell_type": "code",
   "execution_count": null,
   "id": "2eaadb95-09b5-47b8-b657-07accb19d8b3",
   "metadata": {},
   "outputs": [],
   "source": []
  },
  {
   "cell_type": "code",
   "execution_count": null,
   "id": "77787353-3583-410f-9af8-1f940e684e0e",
   "metadata": {},
   "outputs": [],
   "source": []
  }
 ],
 "metadata": {
  "kernelspec": {
   "display_name": "Python 3 (ipykernel)",
   "language": "python",
   "name": "python3"
  },
  "language_info": {
   "codemirror_mode": {
    "name": "ipython",
    "version": 3
   },
   "file_extension": ".py",
   "mimetype": "text/x-python",
   "name": "python",
   "nbconvert_exporter": "python",
   "pygments_lexer": "ipython3",
   "version": "3.11.5"
  }
 },
 "nbformat": 4,
 "nbformat_minor": 5
}
