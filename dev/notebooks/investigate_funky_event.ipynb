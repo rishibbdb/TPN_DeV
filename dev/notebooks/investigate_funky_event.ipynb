{
 "cells": [
  {
   "cell_type": "code",
   "execution_count": null,
   "id": "99693ec3-79e0-41ee-bcd2-13f97e2c3d01",
   "metadata": {},
   "outputs": [],
   "source": [
    "import sys, os\n",
    "sys.path.insert(0, \"/home/storage/hans/jax_reco_new\")\n",
    "os.environ['CUDA_VISIBLE_DEVICES'] = '1'\n",
    "\n",
    "import jax.numpy as jnp\n",
    "from jax.scipy import optimize\n",
    "import jax\n",
    "jax.config.update(\"jax_enable_x64\", True)\n",
    "import optimistix as optx\n",
    "\n",
    "import pandas as pd\n",
    "import numpy as np\n",
    "import matplotlib.pyplot as plt\n",
    "\n",
    "from lib.simdata_i3 import I3SimBatchHandlerTFRecord\n",
    "from lib.geo import center_track_pos_and_time_based_on_data_batched_v\n",
    "from lib.experimental_methods import get_clean_pulses_fn_v\n",
    "from lib.network import get_network_eval_v_fn\n",
    "\n",
    "from likelihood_mpe_padded_input import get_neg_c_triple_gamma_llh\n",
    "from lib.geo import get_xyz_from_zenith_azimuth, __c\n",
    "from dom_track_eval import get_eval_network_doms_and_track2 as get_eval_network_doms_and_track\n",
    "import time\n",
    "\n",
    "dtype = jnp.float32\n",
    "eval_network_v = get_network_eval_v_fn(bpath='/home/storage/hans/jax_reco/data/network',\n",
    "                                       dtype=dtype)\n",
    "eval_network_doms_and_track = get_eval_network_doms_and_track(eval_network_v, dtype=dtype)\n",
    "\n",
    "# Create padded batches (with different seq length).\n",
    "event_ids = ['1022', '10393', '10644', '10738', '11086', '11232', '13011',\n",
    "       '13945', '14017', '14230', '15243', '16416', '16443', '1663',\n",
    "       '1722', '17475', '18846', '19455', '20027', '21113', '21663',\n",
    "       '22232', '22510', '22617', '23574', '23638', '23862', '24530',\n",
    "       '24726', '25181', '25596', '25632', '27063', '27188', '27285',\n",
    "       '28188', '28400', '29040', '29707', '3062', '31920', '31989',\n",
    "       '32781', '32839', '33119', '33656', '34506', '35349', '37086',\n",
    "       '37263', '37448', '37786', '37811', '39166', '39962', '40023',\n",
    "       '41381', '41586', '42566', '42568', '42677', '43153', '43483',\n",
    "       '4397', '44081', '48309', '48448', '48632', '49067', '50832',\n",
    "       '51687', '51956', '54374', '55301', '55526', '55533', '56041',\n",
    "       '5620', '56741', '56774', '57174', '57394', '57723', '59010',\n",
    "       '59029', '59089', '59099', '59228', '62274', '62512', '63373',\n",
    "       '65472', '6586', '8', '8604', '8674', '8840', '9410', '9419',\n",
    "       '9505']\n",
    "\n",
    "ix = 0\n",
    "print(event_ids[ix])\n",
    "tfrecord = f\"/home/storage2/hans/i3files/alerts/bfrv2/event_{event_ids[ix]}_N100_from_0_to_10_1st_pulse.tfrecord\"\n",
    "\n",
    "\n",
    "\n",
    "#tfrecord = \"/home/storage2/hans/i3files/golden_muons/IC/NominalIce/MuMinus_150e3GeV_Horizontal_CloseToDOMs_Smooth_N100_from_0_to_10_1st_pulse.tfrecord\"\n",
    "#tfrecord = \"/home/storage2/hans/i3files/golden_muons/IC/NominalIce/MuMinus_150e3GeV_Horizontal_CloseToDOMs_Stochastic_N100_from_0_to_10_1st_pulse.tfrecord\"\n",
    "# ridiculous pulse: 2063.8000043034554pe\n",
    "# ridiculous pulse 97pe\n",
    "\n",
    "#tfrecord = \"/home/storage2/hans/i3files/golden_muons/IC/NominalIce/MuMinus_150e3GeV_Horizontal_FarFromDOMs_Stochastic_N100_from_0_to_10_1st_pulse.tfrecord\"\n",
    "#tfrecord = \"/home/storage2/hans/i3files/golden_muons/IC/NominalIce/MuMinus_150e3GeV_Horizontal_FarFromDOMs_Smooth_N100_from_0_to_10_1st_pulse.tfrecord\"\n",
    "# ridiculous pulse: 2063.8000043034554pe\n",
    "# ridiculous pulse 97pe\n",
    "\n",
    "batch_maker = I3SimBatchHandlerTFRecord(tfrecord, batch_size=100)\n",
    "batch_iter = batch_maker.get_batch_iterator()\n",
    "\n",
    "# Until LLH has a noise-term, we need to remove crazy early noise pulses\n",
    "clean_pulses_fn_v = get_clean_pulses_fn_v(eval_network_doms_and_track)\n",
    "\n",
    "data, mctruth = batch_iter.next()\n",
    "data = jnp.array(data.numpy())\n",
    "mctruth = jnp.array(mctruth.numpy())\n",
    "data_clean_padded = clean_pulses_fn_v(data, mctruth)\n",
    "\n",
    "track_times = mctruth[:, 4]\n",
    "track_positions = mctruth[:, 5:8]\n",
    "track_srcs = mctruth[:,2:4]"
   ]
  },
  {
   "cell_type": "code",
   "execution_count": null,
   "id": "3fa521ca-17fd-46d9-8fbc-fd0ed1fdff81",
   "metadata": {},
   "outputs": [],
   "source": [
    "track_times_ = track_times.reshape((len(track_times), 1))"
   ]
  },
  {
   "cell_type": "code",
   "execution_count": null,
   "id": "723e3ccf-c588-4ec7-b012-8cf10f600e59",
   "metadata": {},
   "outputs": [],
   "source": [
    "geo = pd.read_csv('/home/storage/hans/jax_reco_new/data/icecube/detector_geometry.csv')\n",
    "pulses = data_clean_padded[0]\n",
    "df = pd.DataFrame(data=pulses, columns = [\"x\", \"y\", \"z\", \"time\", \"charge\"])\n",
    "\n",
    "def plot_event(df, geo=None):\n",
    "    fig = plt.figure(figsize=(8,6))\n",
    "    ax = plt.subplot(projection='3d')\n",
    "    ax.set_xlabel('pos.x [m]', fontsize=16, labelpad=-25)\n",
    "    ax.set_ylabel('pos.y [m]', fontsize=16, labelpad=-25)\n",
    "    ax.set_zlabel('pos.z [m]', fontsize=16, labelpad=-25)\n",
    "\n",
    "    idx = df['charge'] > 0\n",
    "    \n",
    "    try:\n",
    "        im = ax.scatter(geo['x'], geo['y'], geo['z'], s=0.5, c='0.7', alpha=0.4)\n",
    "    except:\n",
    "        pass\n",
    "    \n",
    "    im = ax.scatter(df[idx]['x'], df[idx]['y'], df[idx]['z'], s=np.sqrt(df[idx]['charge']*100), c=df[idx]['time'], \n",
    "                    cmap='rainbow_r',  edgecolors='k', zorder=1000)\n",
    "    ax.tick_params(axis='both', which='both', width=1.5, colors='0.0', labelsize=16)\n",
    "    cb = plt.colorbar(im, orientation=\"vertical\", pad=0.1)\n",
    "    cb.set_label(label='time [ns]', size='x-large')\n",
    "    cb.ax.tick_params(labelsize='x-large')\n",
    "        \n",
    "    plt.show()\n",
    "\n",
    "plot_event(df, geo)"
   ]
  },
  {
   "cell_type": "code",
   "execution_count": null,
   "id": "9a84d2cb-202b-4906-86f8-59153c5af659",
   "metadata": {},
   "outputs": [],
   "source": [
    "hit_x = np.array(data_clean_padded[..., 0].flatten())\n",
    "hit_y = np.array(data_clean_padded[..., 1].flatten())\n",
    "hit_z = np.array(data_clean_padded[..., 2].flatten())\n",
    "hit_t = np.array((data_clean_padded[..., 3]-track_times_).flatten())\n",
    "hit_q = np.array(data_clean_padded[..., 4].flatten())"
   ]
  },
  {
   "cell_type": "code",
   "execution_count": null,
   "id": "056c6006-599b-4e33-aec8-c215bb47a4a3",
   "metadata": {},
   "outputs": [],
   "source": [
    "from collections import defaultdict\n",
    "times_dict = defaultdict(list)\n",
    "charges_dict = defaultdict(list)\n",
    "\n",
    "for i in range(len(hit_x)):\n",
    "    q = hit_q[i]\n",
    "    if q < 1.e-3:\n",
    "        continue\n",
    "\n",
    "    if q > 1000:\n",
    "        continue\n",
    "        \n",
    "    x = hit_x[i]\n",
    "    y = hit_y[i]\n",
    "    z = hit_z[i]\n",
    "   \n",
    "    t = hit_t[i]\n",
    "    times_dict[(x,y,z)].append(t)\n",
    "    charges_dict[(x,y,z)].append(q)\n",
    "\n",
    "qtot_dict = dict()\n",
    "for key, qs in charges_dict.items():\n",
    "    qtot_dict[key]=sum(qs) / len(qs)"
   ]
  },
  {
   "cell_type": "code",
   "execution_count": null,
   "id": "58d38a30-d43c-4d7c-85be-222822db9ff0",
   "metadata": {},
   "outputs": [],
   "source": [
    "max_om = max(qtot_dict, key=charges_dict.get)"
   ]
  },
  {
   "cell_type": "code",
   "execution_count": null,
   "id": "7d2bbec7-882e-4bcb-8cc6-88649562ed6b",
   "metadata": {},
   "outputs": [],
   "source": [
    "print(qtot_dict[max_om])"
   ]
  },
  {
   "cell_type": "code",
   "execution_count": null,
   "id": "90ce019a-6759-4c42-8a68-09eec9612db5",
   "metadata": {},
   "outputs": [],
   "source": [
    "print(charges_dict[max_om])"
   ]
  },
  {
   "cell_type": "code",
   "execution_count": null,
   "id": "f43d9cbc-bf58-4a5d-b085-c2b19b7d1715",
   "metadata": {},
   "outputs": [],
   "source": [
    "print(times_dict[max_om])\n",
    "print(np.min(times_dict[max_om]))\n",
    "print(np.max(times_dict[max_om]))\n",
    "print(np.std(times_dict[max_om]))"
   ]
  },
  {
   "cell_type": "code",
   "execution_count": null,
   "id": "e713794b-b521-425f-9df2-132c154bd00d",
   "metadata": {},
   "outputs": [],
   "source": [
    "plt.hist(times_dict[max_om]-np.median(times_dict[max_om]), bins=np.linspace(-20, 20, 31), density=True)\n",
    "plt.show()"
   ]
  },
  {
   "cell_type": "code",
   "execution_count": null,
   "id": "02108327-5946-411a-b399-890298f3a8d3",
   "metadata": {},
   "outputs": [],
   "source": [
    "positions_batch = []\n",
    "for key in times_dict.keys():\n",
    "    positions_batch.append(jnp.array(key).reshape((1,3)))\n",
    "\n",
    "positions_batch = jnp.concatenate(positions_batch, axis=0)"
   ]
  },
  {
   "cell_type": "code",
   "execution_count": null,
   "id": "2a91d635-01f5-4ab6-9576-6ce13bb49e85",
   "metadata": {},
   "outputs": [],
   "source": [
    "logits, av, bv, geo_time = eval_network_doms_and_track(positions_batch, track_positions[0], track_srcs[0])\n",
    "mix_probs = jax.nn.softmax(logits)"
   ]
  },
  {
   "cell_type": "code",
   "execution_count": null,
   "id": "908453c5-41f4-4ec0-9c28-ac8c5a0a0a28",
   "metadata": {},
   "outputs": [],
   "source": [
    "for i in range(len(positions_batch)):\n",
    "    pos = tuple(np.array(positions_batch[i]))\n",
    "    gt = geo_time[i]\n",
    "    for j in range(len(times_dict[pos])):\n",
    "        times_dict[pos][j] -= float(gt)"
   ]
  },
  {
   "cell_type": "code",
   "execution_count": null,
   "id": "6d47a6d0-e75c-4ff2-a470-e6dead9a74f4",
   "metadata": {},
   "outputs": [],
   "source": [
    "plt.hist(times_dict[max_om], bins=np.linspace(-10, 10, 31), density=True)\n",
    "plt.xlabel('delay time [ns]')\n",
    "plt.show()\n",
    "\n",
    "print(np.std(times_dict[max_om]))"
   ]
  },
  {
   "cell_type": "code",
   "execution_count": null,
   "id": "2749edcc-81a5-427d-a3c4-e0dfdd2eee16",
   "metadata": {},
   "outputs": [],
   "source": [
    "print(times_dict[max_om])"
   ]
  },
  {
   "cell_type": "code",
   "execution_count": null,
   "id": "81798e0f-2a4f-48ef-956d-6f875285c280",
   "metadata": {},
   "outputs": [],
   "source": [
    "from lib.geo import cherenkov_cylinder_coordinates_w_rho2_v as cherenkov_cylinder_coordinates_w_rho_v\n",
    "from lib.geo import get_xyz_from_zenith_azimuth"
   ]
  },
  {
   "cell_type": "code",
   "execution_count": null,
   "id": "70b8fb65-c265-49ac-a2c8-1712fb2840a1",
   "metadata": {},
   "outputs": [],
   "source": [
    "track_dir_xyz = get_xyz_from_zenith_azimuth(track_srcs[0])\n",
    "\n",
    "geo_time, closest_approach_dist, closest_approach_z, closest_approach_rho = \\\n",
    "            cherenkov_cylinder_coordinates_w_rho_v(positions_batch,\n",
    "                                         track_positions[0],\n",
    "                                         track_dir_xyz)"
   ]
  },
  {
   "cell_type": "code",
   "execution_count": null,
   "id": "3319fe00-5550-42cb-afd9-21ee551b9dd2",
   "metadata": {},
   "outputs": [],
   "source": [
    "print(closest_approach_dist)"
   ]
  },
  {
   "cell_type": "code",
   "execution_count": null,
   "id": "86237d23-9a96-46e3-b838-3afe929c4e78",
   "metadata": {},
   "outputs": [],
   "source": [
    "dom_i = None\n",
    "for i in range(len(positions_batch)):\n",
    "    if tuple(np.array(positions_batch[i]))==max_om:\n",
    "        dom_i = i"
   ]
  },
  {
   "cell_type": "code",
   "execution_count": null,
   "id": "a874b8b2-0d95-4db8-aab8-b9a0b39b5a7a",
   "metadata": {},
   "outputs": [],
   "source": [
    "print(closest_approach_dist[dom_i])\n",
    "print(closest_approach_z[dom_i])\n",
    "print(closest_approach_rho[dom_i])"
   ]
  },
  {
   "cell_type": "code",
   "execution_count": null,
   "id": "8e7aba6c-bf0b-4f02-b02e-32c9ac27bdc7",
   "metadata": {},
   "outputs": [],
   "source": [
    "from lib.cgamma import c_multi_gamma_prob, c_multi_gamma_sf\n",
    "from lib.plotting import adjust_plot_1d"
   ]
  },
  {
   "cell_type": "code",
   "execution_count": null,
   "id": "33dd1376-cfcd-4e09-ae48-8b1248f3e925",
   "metadata": {},
   "outputs": [],
   "source": [
    "c_multi_gamma_prob_vx = jax.vmap(c_multi_gamma_prob, (0, None, None, None, None, None), 0)\n",
    "\n",
    "xvals = np.linspace(-10, 3000, 30000)\n",
    "\n",
    "m = mix_probs[dom_i]\n",
    "a = av[dom_i]\n",
    "b = bv[dom_i]\n",
    "yval = c_multi_gamma_prob_vx(xvals, m, a, b, 2.0, 0.1)\n",
    "mode = (a[1]-1)/b[1]\n",
    "fig, ax = plt.subplots()\n",
    "plt.plot(xvals, yval)\n",
    "    \n",
    "plot_args = {'xlim':[-10, np.max([20, 10 * mode])],\n",
    "                     'ylim':[0.0, 1.2 * np.amax(yval)],\n",
    "                     'xlabel':'delay time [ns]',\n",
    "                     'ylabel':'pdf'}\n",
    "\n",
    "for tx in times_dict[max_om]:\n",
    "    plt.axvline(tx, alpha=0.2, color='black', lw=0.5)\n",
    "\n",
    "adjust_plot_1d(fig, ax, plot_args=plot_args)\n",
    "plt.tight_layout()\n",
    "plt.show()"
   ]
  },
  {
   "cell_type": "code",
   "execution_count": null,
   "id": "d1c892df-677e-4985-a921-288709506d97",
   "metadata": {},
   "outputs": [],
   "source": [
    "c_multi_gamma_sf_vx = jax.vmap(c_multi_gamma_sf, (0, None, None, None, None), 0)\n",
    "\n",
    "n_p = qtot_dict[tuple(np.array(positions_batch[dom_i]))]\n",
    "n_p = np.round(n_p+0.5)\n",
    "print(n_p)\n",
    "n_p = np.min([3.0, n_p])\n",
    "print(n_p)\n",
    "\n",
    "m = mix_probs[dom_i]\n",
    "a = av[dom_i]\n",
    "b = bv[dom_i]\n",
    "\n",
    "probs = c_multi_gamma_prob_vx(xvals, m, a, b, 3.0, 0.1)\n",
    "sfs = c_multi_gamma_sf_vx(xvals, m, a, b, 3.0)\n",
    "yval = n_p * probs * sfs**(n_p-1)\n",
    "\n",
    "mode = (a[1]-1)/b[1]\n",
    "fig, ax = plt.subplots()\n",
    "plt.title(f\"event {event_ids[ix]}\")\n",
    "plt.plot(xvals, yval)\n",
    "    \n",
    "plot_args = {'xlim':[-10, np.max([20, 5 * np.amax(tx)])],\n",
    "                     'ylim':[0.0, 1.2 * np.amax(yval)],\n",
    "                     'xlabel':'delay time [ns]',\n",
    "                     'ylabel':'pdf'}\n",
    "\n",
    "for tx in times_dict[max_om]:\n",
    "    plt.axvline(tx, alpha=0.2, color='black', lw=0.5)\n",
    "\n",
    "adjust_plot_1d(fig, ax, plot_args=plot_args)\n",
    "plt.tight_layout()\n",
    "plt.show()"
   ]
  },
  {
   "cell_type": "code",
   "execution_count": null,
   "id": "4d595804-d268-4e44-aaac-7bd1992d995c",
   "metadata": {},
   "outputs": [],
   "source": [
    "qtots = []\n",
    "for dom_pos in positions_batch:\n",
    "    qtots.append(qtot_dict[tuple(np.array(dom_pos))])\n",
    "\n",
    "fig, ax = plt.subplots()\n",
    "plt.scatter(closest_approach_dist, qtots)\n",
    "plot_args = {'xlim':[0.0, 500],\n",
    "                     'ylim':[0.0, 500],\n",
    "                     'xlabel':'distance to track [m]',\n",
    "                     'ylabel':'qtot [p.e.]'}\n",
    "adjust_plot_1d(fig, ax, plot_args=plot_args)\n",
    "plt.yscale('log')\n",
    "plt.ylim([1.0, 500])\n",
    "plt.show()"
   ]
  },
  {
   "cell_type": "code",
   "execution_count": null,
   "id": "87bc59dc-0cfc-4985-ab78-98a2b0549d91",
   "metadata": {},
   "outputs": [],
   "source": []
  },
  {
   "cell_type": "code",
   "execution_count": null,
   "id": "7cb62dde-cd50-413b-b066-b595aec9165a",
   "metadata": {},
   "outputs": [],
   "source": []
  },
  {
   "cell_type": "code",
   "execution_count": null,
   "id": "0ccea192-ba63-41f7-9ee2-e1ff51ef2bb2",
   "metadata": {},
   "outputs": [],
   "source": []
  },
  {
   "cell_type": "code",
   "execution_count": null,
   "id": "5401e8fe-c021-4d6e-a21d-914941875a46",
   "metadata": {},
   "outputs": [],
   "source": []
  },
  {
   "cell_type": "code",
   "execution_count": null,
   "id": "b86c1d37-2ef9-4fea-a9d1-8c5b242bb782",
   "metadata": {},
   "outputs": [],
   "source": []
  },
  {
   "cell_type": "code",
   "execution_count": null,
   "id": "c8d52baa-3225-4a81-b6e5-25b4bfa5d24b",
   "metadata": {},
   "outputs": [],
   "source": []
  },
  {
   "cell_type": "code",
   "execution_count": null,
   "id": "8b1b313b-94b1-42e7-9153-0fcffc57cbde",
   "metadata": {},
   "outputs": [],
   "source": []
  }
 ],
 "metadata": {
  "kernelspec": {
   "display_name": "Python 3 (ipykernel)",
   "language": "python",
   "name": "python3"
  },
  "language_info": {
   "codemirror_mode": {
    "name": "ipython",
    "version": 3
   },
   "file_extension": ".py",
   "mimetype": "text/x-python",
   "name": "python",
   "nbconvert_exporter": "python",
   "pygments_lexer": "ipython3",
   "version": "3.11.5"
  }
 },
 "nbformat": 4,
 "nbformat_minor": 5
}
