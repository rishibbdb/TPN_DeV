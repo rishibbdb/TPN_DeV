{
 "cells": [
  {
   "cell_type": "code",
   "execution_count": 3,
   "id": "ac9d9e98-06d8-49ab-9a6f-e3153ea4b749",
   "metadata": {},
   "outputs": [],
   "source": [
    "#!/usr/bin/env python\n",
    "\n",
    "from iminuit import Minuit\n",
    "import optimistix as optx\n",
    "\n",
    "import sys, os\n",
    "sys.path.insert(0, \"/home/storage/hans/jax_reco\")\n",
    "os.environ['CUDA_VISIBLE_DEVICES'] = '0'\n",
    "\n",
    "import jax.numpy as jnp\n",
    "import jax\n",
    "jax.config.update(\"jax_enable_x64\", True)\n",
    "from jax.scipy import optimize\n",
    "\n",
    "import pandas as pd\n",
    "import numpy as np\n",
    "import matplotlib.pyplot as plt\n",
    "\n",
    "# TriplePandelSPE/JAX stuff\n",
    "from lib.simdata_i3 import I3SimHandlerFtr\n",
    "from lib.geo import center_track_pos_and_time_based_on_data\n",
    "from lib.network import get_network_eval_v_fn\n",
    "from dom_track_eval import get_eval_network_doms_and_track\n",
    "from likelihood_spe import get_neg_c_triple_gamma_llh\n",
    "from likelihood_spe import get_llh_and_grad_fs_for_iminuit_migrad\n",
    "\n",
    "from palettable.cubehelix import Cubehelix\n",
    "cx =Cubehelix.make(start=0.3, rotation=-0.5, n=16, reverse=False, gamma=1.0,\n",
    "                           max_light=1.0,max_sat=0.5, min_sat=1.4).get_mpl_colormap()\n",
    "\n",
    "# Number of scan points on 1D\n",
    "n_eval = 50 # making it a 100x100 grid\n",
    "\n",
    "# Scan range (truth +/- dzen, +/- dazi)\n",
    "dzen = 0.03 # rad\n",
    "dazi = 0.03 # rad"
   ]
  },
  {
   "cell_type": "code",
   "execution_count": 88,
   "id": "85363083-b1c4-459f-8edf-48a50ad4c75e",
   "metadata": {},
   "outputs": [
    {
     "name": "stdout",
     "output_type": "stream",
     "text": [
      "muon energy: 2.2 TeV\n",
      "n_doms 58\n",
      "original seed vertex: [ 1180.18566012 -1499.16735802  -782.32800156]\n",
      "shifted seed vertex: [-38.65768538 207.2454018  145.80801123]\n"
     ]
    }
   ],
   "source": [
    "# Event Index.\n",
    "event_index = 3\n",
    "\n",
    "# Get network and eval logic.\n",
    "eval_network_v = get_network_eval_v_fn(bpath='/home/storage/hans/jax_reco/data/network')\n",
    "eval_network_doms_and_track = get_eval_network_doms_and_track(eval_network_v)\n",
    "\n",
    "# Get an IceCube event.\n",
    "bp = '/home/storage2/hans/i3files/21217'\n",
    "sim_handler = I3SimHandlerFtr(os.path.join(bp, 'meta_ds_21217_from_35000_to_53530.ftr'),\n",
    "                              os.path.join(bp, 'pulses_ds_21217_from_35000_to_53530.ftr'),\n",
    "                              '/home/storage/hans/jax_reco/data/icecube/detector_geometry.csv')\n",
    "\n",
    "meta, pulses = sim_handler.get_event_data(event_index)\n",
    "print(f\"muon energy: {meta['muon_energy_at_detector']/1.e3:.1f} TeV\")\n",
    "\n",
    "# Get dom locations, first hit times, and total charges (for each dom).\n",
    "event_data = sim_handler.get_per_dom_summary_from_sim_data(meta, pulses)\n",
    "\n",
    "print(\"n_doms\", len(event_data))\n",
    "\n",
    "# Make MCTruth seed.\n",
    "track_pos = jnp.array([meta['muon_pos_x'], meta['muon_pos_y'], meta['muon_pos_z']])\n",
    "track_time = meta['muon_time']\n",
    "track_zenith = meta['muon_zenith']\n",
    "track_azimuth = meta['muon_azimuth']\n",
    "track_src = jnp.array([track_zenith, track_azimuth])\n",
    "\n",
    "print(\"original seed vertex:\", track_pos)\n",
    "centered_track_pos, centered_track_time = center_track_pos_and_time_based_on_data(event_data, track_pos, track_time, track_src)\n",
    "print(\"shifted seed vertex:\", centered_track_pos)\n",
    "\n",
    "# Create some n_photons from qtot (by rounding up).\n",
    "n_photons = np.round(event_data['charge'].to_numpy()+0.5)"
   ]
  },
  {
   "cell_type": "code",
   "execution_count": 89,
   "id": "01fc304d-4041-41de-890d-9e58b98cc8f8",
   "metadata": {},
   "outputs": [
    {
     "name": "stdout",
     "output_type": "stream",
     "text": [
      "... solution found.\n",
      "-2*logl=737.833\n",
      "zenith=1.990rad\n",
      "azimuth=5.346rad\n",
      "x=-38.957m\n",
      "y=209.023m\n",
      "z=145.781m\n",
      "at fix time t=12375.863ns\n"
     ]
    }
   ],
   "source": [
    "# Combine into single data tensor for fitting.\n",
    "fitting_event_data = jnp.array(event_data[['x', 'y', 'z', 'time']].to_numpy())\n",
    "\n",
    "obj_fn, obj_grad = get_llh_and_grad_fs_for_iminuit_migrad(eval_network_doms_and_track)\n",
    "\n",
    "# put the thing below into a for loop if you want to reconstruct many events (without jit-recompiling everything)\n",
    "f_prime = lambda x: obj_fn(x, centered_track_time, fitting_event_data)\n",
    "grad_prime = lambda x: obj_grad(x, centered_track_time, fitting_event_data)\n",
    "\n",
    "x0 = jnp.concatenate([track_src, centered_track_pos])\n",
    "m = Minuit(f_prime, x0, grad=grad_prime)\n",
    "m.errordef = Minuit.LIKELIHOOD\n",
    "m.limits = ((0.0, np.pi), (0.0, 2.0 * np.pi), (-500.0, 500.0),  (-500.0, 500.0),  (-500.0, 500.0))\n",
    "m.strategy = 0\n",
    "m.migrad()\n",
    "\n",
    "print(\"... solution found.\")\n",
    "print(f\"-2*logl={m.fval:.3f}\")\n",
    "print(f\"zenith={m.values[0]:.3f}rad\")\n",
    "print(f\"azimuth={m.values[1]:.3f}rad\")\n",
    "print(f\"x={m.values[2]:.3f}m\")\n",
    "print(f\"y={m.values[3]:.3f}m\")\n",
    "print(f\"z={m.values[4]:.3f}m\")\n",
    "print(f\"at fix time t={centered_track_time:.3f}ns\")\n"
   ]
  },
  {
   "cell_type": "code",
   "execution_count": 90,
   "id": "025b6092-3905-415e-a440-54587adda05e",
   "metadata": {},
   "outputs": [],
   "source": [
    "# Setup likelihood\n",
    "neg_llh = get_neg_c_triple_gamma_llh(eval_network_doms_and_track)\n",
    "\n",
    "scale = 20.0\n",
    "@jax.jit\n",
    "def neg_llh_5D(x, args):\n",
    "        zenith = x[0] / scale\n",
    "        azimuth = x[1] / scale\n",
    "        zenith = jnp.fmod(zenith, 2.0*jnp.pi)\n",
    "        zenith = jnp.where(zenith < 0, zenith+2.0*jnp.pi, zenith)\n",
    "        cond = zenith > jnp.pi\n",
    "        zenith = jnp.where(cond, -1.0*zenith+2.0*jnp.pi, zenith)\n",
    "        azimuth = jnp.where(cond, azimuth-jnp.pi, azimuth)\n",
    "\n",
    "        azimuth = jnp.fmod(azimuth, 2.0*jnp.pi)\n",
    "        azimuth = jnp.where(azimuth < 0, azimuth+2.0*jnp.pi, azimuth)\n",
    "        \n",
    "        projected_dir = jnp.array([zenith, azimuth])\n",
    "        return neg_llh(projected_dir, x[2:]*scale, centered_track_time, fitting_event_data)\n",
    "\n",
    "\n"
   ]
  },
  {
   "cell_type": "code",
   "execution_count": 91,
   "id": "4dfd22f2-c38d-4984-8f1d-3deb7f0ff009",
   "metadata": {},
   "outputs": [],
   "source": [
    "solver = optx.BFGS(rtol=1e-6, atol=1e-3)\n",
    "x0 = jnp.concatenate([track_src*scale, centered_track_pos/scale])\n",
    "result = optx.minimise(neg_llh_5D, solver, x0)"
   ]
  },
  {
   "cell_type": "code",
   "execution_count": 92,
   "id": "cbcc7fad-3043-43fb-a59b-47403cdc8ef9",
   "metadata": {},
   "outputs": [],
   "source": [
    "new_result = jnp.concatenate([result.value[:2]/scale, result.value[2:]*scale])"
   ]
  },
  {
   "cell_type": "code",
   "execution_count": 93,
   "id": "e4534bd2-9838-4475-8745-bd3ffc9a8151",
   "metadata": {},
   "outputs": [
    {
     "name": "stdout",
     "output_type": "stream",
     "text": [
      "737.8326836380895 [  1.99013463   5.34617995 -38.97426534 209.02941248 145.77736706]\n"
     ]
    }
   ],
   "source": [
    "print(neg_llh_5D(result.value, None), new_result)"
   ]
  },
  {
   "cell_type": "code",
   "execution_count": 94,
   "id": "a0b6bea4-d68a-4f1f-9e1d-7e0fb00c50c5",
   "metadata": {},
   "outputs": [
    {
     "name": "stdout",
     "output_type": "stream",
     "text": [
      "118 ms ± 27.3 μs per loop (mean ± std. dev. of 7 runs, 10 loops each)\n"
     ]
    }
   ],
   "source": [
    "%timeit optx.minimise(neg_llh_5D, solver, x0)"
   ]
  },
  {
   "cell_type": "code",
   "execution_count": 95,
   "id": "74af1ff8-c565-4240-b66e-b9a1461c4096",
   "metadata": {},
   "outputs": [],
   "source": [
    "import equinox as eqx"
   ]
  },
  {
   "cell_type": "code",
   "execution_count": 96,
   "id": "d7214314-6f06-44d4-b439-56a8de4a2ce4",
   "metadata": {},
   "outputs": [],
   "source": [
    "def run(x):\n",
    "    return optx.minimise(neg_llh_5D, solver, x).value"
   ]
  },
  {
   "cell_type": "code",
   "execution_count": 97,
   "id": "0f39586a-baf8-4382-abfb-5b6638f6cf3d",
   "metadata": {},
   "outputs": [],
   "source": [
    "#run_many = eqx.filter_vmap(run)\n",
    "run_many = jax.jit(jax.vmap(run, 0, 0))"
   ]
  },
  {
   "cell_type": "code",
   "execution_count": 98,
   "id": "37150605-bc08-4076-b491-c1c76305b004",
   "metadata": {},
   "outputs": [
    {
     "name": "stdout",
     "output_type": "stream",
     "text": [
      "(10, 5)\n",
      "[[ 39.80269255 106.92359893  -1.94871327  10.45147062   7.28886835]\n",
      " [ 39.80269255 106.92359893  -1.94871327  10.45147062   7.28886835]\n",
      " [ 39.80269255 106.92359893  -1.94871327  10.45147062   7.28886835]\n",
      " [ 39.80269255 106.92359893  -1.94871327  10.45147062   7.28886835]\n",
      " [ 39.80269255 106.92359893  -1.94871327  10.45147062   7.28886835]\n",
      " [ 39.80269255 106.92359893  -1.94871327  10.45147062   7.28886835]\n",
      " [ 39.80269255 106.92359893  -1.94871327  10.45147062   7.28886835]\n",
      " [ 39.80269255 106.92359893  -1.94871327  10.45147062   7.28886835]\n",
      " [ 39.80269255 106.92359893  -1.94871327  10.45147062   7.28886835]\n",
      " [ 39.80269255 106.92359893  -1.94871327  10.45147062   7.28886835]]\n"
     ]
    }
   ],
   "source": [
    "x0_m = jnp.repeat(x0.reshape((1, x0.shape[0])), 10, axis=0)\n",
    "print(x0_m.shape)\n",
    "print(run_many(x0_m))"
   ]
  },
  {
   "cell_type": "code",
   "execution_count": 99,
   "id": "17c8d364-259c-487f-9c23-6b4d3de4d3a9",
   "metadata": {},
   "outputs": [
    {
     "name": "stdout",
     "output_type": "stream",
     "text": [
      "236 ms ± 77.7 μs per loop (mean ± std. dev. of 7 runs, 1 loop each)\n"
     ]
    }
   ],
   "source": [
    "%timeit run_many(x0_m)"
   ]
  },
  {
   "cell_type": "code",
   "execution_count": 100,
   "id": "8b064556-aa43-4ca7-8373-fe028c27c4e5",
   "metadata": {},
   "outputs": [],
   "source": [
    "@jax.jit\n",
    "def neg_llh_3D(x, track_dir):\n",
    "    return neg_llh(track_dir, x*scale, centered_track_time, fitting_event_data)\n",
    "\n",
    "def run_3D(track_dir):\n",
    "    x0 = jnp.array(centered_track_pos/scale)\n",
    "    values = optx.minimise(neg_llh_3D, solver, x0, args=track_dir).value\n",
    "    return neg_llh_3D(values, track_dir)\n",
    "\n",
    "run_3D_v = jax.jit(jax.vmap(run_3D, 0, 0))"
   ]
  },
  {
   "cell_type": "code",
   "execution_count": 101,
   "id": "fdbfdcab-67ed-43ad-b397-84e823d51cac",
   "metadata": {},
   "outputs": [
    {
     "data": {
      "text/plain": [
       "Array(740.68839209, dtype=float64)"
      ]
     },
     "execution_count": 101,
     "metadata": {},
     "output_type": "execute_result"
    }
   ],
   "source": [
    "run_3D(track_src)"
   ]
  },
  {
   "cell_type": "code",
   "execution_count": 102,
   "id": "99df5e13-6588-42bb-8ff4-9c3f1cfa3445",
   "metadata": {},
   "outputs": [
    {
     "name": "stdout",
     "output_type": "stream",
     "text": [
      "87.1 ms ± 79.5 μs per loop (mean ± std. dev. of 7 runs, 10 loops each)\n"
     ]
    }
   ],
   "source": [
    "%timeit run_3D(track_src)"
   ]
  },
  {
   "cell_type": "code",
   "execution_count": 111,
   "id": "9482b219-68e8-470f-88e7-09044e129d24",
   "metadata": {},
   "outputs": [],
   "source": [
    "n_eval = 30 # making it a 30x30 grid\n",
    "\n",
    "# Scan range (truth +/- dzen, +/- dazi)\n",
    "dzen = 0.03 # rad\n",
    "dazi = 0.03 # rad\n",
    "\n",
    "zenith = jnp.linspace(track_src[0]-dzen, track_src[0]+dazi, n_eval)\n",
    "azimuth = jnp.linspace(track_src[1]-dzen, track_src[1]+dazi, n_eval)\n",
    "X, Y = jnp.meshgrid(zenith, azimuth)\n",
    "init_dirs = jnp.column_stack([X.flatten(), Y.flatten()])"
   ]
  },
  {
   "cell_type": "code",
   "execution_count": 112,
   "id": "317c58aa-b8f5-464d-adee-cfb47d1a9e3a",
   "metadata": {},
   "outputs": [],
   "source": [
    "logls = run_3D_v(init_dirs)"
   ]
  },
  {
   "cell_type": "code",
   "execution_count": 113,
   "id": "30e98939-280f-4f34-a419-e22d43c3a734",
   "metadata": {},
   "outputs": [
    {
     "name": "stdout",
     "output_type": "stream",
     "text": [
      "8.94 s ± 31.5 ms per loop (mean ± std. dev. of 7 runs, 1 loop each)\n"
     ]
    }
   ],
   "source": [
    "%timeit run_3D_v(init_dirs)"
   ]
  },
  {
   "cell_type": "code",
   "execution_count": 118,
   "id": "d0c9e414-776c-4a46-85d4-81d912f85264",
   "metadata": {},
   "outputs": [],
   "source": [
    "import matplotlib.pyplot as plt"
   ]
  },
  {
   "cell_type": "code",
   "execution_count": 119,
   "id": "dd96e2ae-bc58-4728-afce-91ef32f90583",
   "metadata": {},
   "outputs": [],
   "source": [
    "from palettable.cubehelix import Cubehelix\n",
    "cx =Cubehelix.make(start=0.3, rotation=-0.5, n=16, reverse=False, gamma=1.0,\n",
    "                           max_light=1.0,max_sat=0.5, min_sat=1.4).get_mpl_colormap()"
   ]
  },
  {
   "cell_type": "code",
   "execution_count": 120,
   "id": "b1e6c9f0-af29-4680-8369-058ae50ecfb5",
   "metadata": {},
   "outputs": [
    {
     "data": {
      "image/png": "[encoded data removed]",
      "text/plain": [
       "<Figure size 640x480 with 2 Axes>"
      ]
     },
     "metadata": {},
     "output_type": "display_data"
    }
   ],
   "source": [
    "logls = logls.reshape(X.shape)\n",
    "\n",
    "\n",
    "fig, ax = plt.subplots()\n",
    "min_logl = np.amin(logls)\n",
    "delta_logl = logls - np.amin(logls)\n",
    "pc = ax.pcolormesh(np.rad2deg(X), np.rad2deg(Y), delta_logl, vmin=0, vmax=np.min([25, 1.2*np.amax(delta_logl)]), shading='auto', cmap=cx)\n",
    "cbar = fig.colorbar(pc)\n",
    "cbar.ax.tick_params(labelsize=16)\n",
    "cbar.ax.get_yaxis().labelpad = 5\n",
    "cbar.set_label(\"-2$\\\\Delta$log $L_{SPE}$\", fontsize=20)\n",
    "cbar.outline.set_linewidth(1.5)\n",
    "\n",
    "ax.set_xlabel(\"zenith [deg]\", fontsize=16)\n",
    "ax.set_ylabel(\"azimuth [deg]\", fontsize=16)\n",
    "ax.set_xlim(np.rad2deg([track_src[0]-dzen, track_src[0]+dzen]))\n",
    "ax.set_ylim(np.rad2deg([track_src[1]-dazi, track_src[1]+dazi]))\n",
    "ax.tick_params(axis='both', which='both', width=1.5, colors='0.0', labelsize=16)\n",
    "\n",
    "ax.scatter(np.rad2deg(track_src[0]), np.rad2deg(track_src[1]), marker=\"*\", color='red', label=\"truth\", zorder=200)\n",
    "\n",
    "smpe_zenith = meta['spline_mpe_zenith']\n",
    "smpe_azimuth = meta['spline_mpe_azimuth']\n",
    "ax.scatter(np.rad2deg([smpe_zenith]), np.rad2deg([smpe_azimuth]), marker=\"x\", color='lime', label='splineMPE')\n",
    "\n",
    "zenith = new_result[0]\n",
    "azimuth = new_result[1]\n",
    "ax.scatter(np.rad2deg(zenith), np.rad2deg(azimuth), marker='+', color='magenta', label='bfgs')\n",
    "\n",
    "contours = [4.61]\n",
    "ix1, ix2 = np.where(delta_logl==0)\n",
    "ax.scatter(np.rad2deg([X[ix1, ix2]]), np.rad2deg([Y[ix1, ix2]]), s=50, marker='o', facecolors='none', edgecolors='khaki', zorder=100., label='grid min')\n",
    "ct = plt.contour(np.rad2deg(X), np.rad2deg(Y), delta_logl, levels=contours, linestyles=['solid'], colors=['khaki'], linewidths=1.0)\n",
    "\n",
    "plt.legend()\n",
    "plt.tight_layout()\n",
    "plt.show()"
   ]
  },
  {
   "cell_type": "code",
   "execution_count": 117,
   "id": "8bd13360-2e80-44b3-84f5-cbf074b17805",
   "metadata": {},
   "outputs": [
    {
     "name": "stdout",
     "output_type": "stream",
     "text": [
      "[  1.99013463   5.34617995 -38.97426534 209.02941248 145.77736706]\n"
     ]
    }
   ],
   "source": [
    "print(new_result)"
   ]
  },
  {
   "cell_type": "code",
   "execution_count": null,
   "id": "448cb30c-5486-42a6-a17c-1cf263449de6",
   "metadata": {},
   "outputs": [],
   "source": []
  }
 ],
 "metadata": {
  "kernelspec": {
   "display_name": "Python 3 (ipykernel)",
   "language": "python",
   "name": "python3"
  },
  "language_info": {
   "codemirror_mode": {
    "name": "ipython",
    "version": 3
   },
   "file_extension": ".py",
   "mimetype": "text/x-python",
   "name": "python",
   "nbconvert_exporter": "python",
   "pygments_lexer": "ipython3",
   "version": "3.11.5"
  }
 },
 "nbformat": 4,
 "nbformat_minor": 5
}
