{
 "cells": [
  {
   "cell_type": "code",
   "execution_count": 4,
   "id": "9efa2278-20cd-451a-a261-b143fa726a30",
   "metadata": {},
   "outputs": [],
   "source": [
    "import jax\n",
    "jax.config.update(\"jax_enable_x64\", True)\n",
    "\n",
    "from jax.scipy.special import gammaincc, erf\n",
    "import jax.numpy as jnp"
   ]
  },
  {
   "cell_type": "code",
   "execution_count": 19,
   "id": "bc61d71f-c5f2-4d39-b619-30ddc282c2f1",
   "metadata": {},
   "outputs": [
    {
     "name": "stdout",
     "output_type": "stream",
     "text": [
      "[0.13801074 0.13802916 0.13804757 ... 0.02391866 0.02391819 0.02391772]\n"
     ]
    }
   ],
   "source": [
    "n = 100000\n",
    "a = jnp.linspace(1.1, 31., n)\n",
    "x = jnp.linspace(0.5, 21., n)\n",
    "jitted_gammaincc = jax.jit(gammaincc)\n",
    "print(jitted_gammaincc(x,a))"
   ]
  },
  {
   "cell_type": "code",
   "execution_count": 20,
   "id": "1b12d691-3dc3-450c-8145-6dc4edd2efd9",
   "metadata": {},
   "outputs": [
    {
     "name": "stdout",
     "output_type": "stream",
     "text": [
      "3.23 ms ± 93 μs per loop (mean ± std. dev. of 7 runs, 100 loops each)\n"
     ]
    }
   ],
   "source": [
    "%timeit jitted_gammaincc(x, a).block_until_ready()"
   ]
  },
  {
   "cell_type": "code",
   "execution_count": 21,
   "id": "1f1636dc-db21-4d57-9d71-4616c7b7c4c4",
   "metadata": {},
   "outputs": [
    {
     "name": "stdout",
     "output_type": "stream",
     "text": [
      "[0.52049988 0.52068001 0.52086011 ... 1.         1.         1.        ]\n"
     ]
    }
   ],
   "source": [
    "jitted_erf = jax.jit(erf)\n",
    "print(jitted_erf(x))"
   ]
  },
  {
   "cell_type": "code",
   "execution_count": 22,
   "id": "4591ab32-79b8-4ca8-9798-e55f7ccc2ace",
   "metadata": {},
   "outputs": [
    {
     "name": "stdout",
     "output_type": "stream",
     "text": [
      "39.6 μs ± 4.55 μs per loop (mean ± std. dev. of 7 runs, 10,000 loops each)\n"
     ]
    }
   ],
   "source": [
    "%timeit jitted_erf(x).block_until_ready()"
   ]
  },
  {
   "cell_type": "code",
   "execution_count": null,
   "id": "4293905e-7bb5-42df-b073-32453d482547",
   "metadata": {},
   "outputs": [],
   "source": []
  }
 ],
 "metadata": {
  "kernelspec": {
   "display_name": "Python 3 (ipykernel)",
   "language": "python",
   "name": "python3"
  },
  "language_info": {
   "codemirror_mode": {
    "name": "ipython",
    "version": 3
   },
   "file_extension": ".py",
   "mimetype": "text/x-python",
   "name": "python",
   "nbconvert_exporter": "python",
   "pygments_lexer": "ipython3",
   "version": "3.11.5"
  }
 },
 "nbformat": 4,
 "nbformat_minor": 5
}
