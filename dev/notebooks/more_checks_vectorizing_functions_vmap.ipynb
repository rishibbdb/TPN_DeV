{
 "cells": [
  {
   "cell_type": "code",
   "execution_count": 1,
   "id": "d3e7f513-0a86-4627-8d2f-cec2d6ecde42",
   "metadata": {},
   "outputs": [],
   "source": [
    "import sys\n",
    "\n",
    "sys.path.insert(0, '/home/storage2/hans/jax_reco/python')\n",
    "\n",
    "import numpy as np\n",
    "import jax.numpy as jnp\n",
    "import jax\n",
    "\n",
    "from trafos import transform_network_outputs, transform_dimensions, transform_dimensions_vec"
   ]
  },
  {
   "cell_type": "code",
   "execution_count": 2,
   "id": "740dba74-d12f-44ad-b246-4b561807e669",
   "metadata": {},
   "outputs": [],
   "source": [
    "dist = 25\n",
    "z = -210\n",
    "rho = 0.0\n",
    "zenith = 90.0\n",
    "azimuth = 0.0\n",
    "\n",
    "x = transform_dimensions(dist, rho, z, zenith, azimuth)"
   ]
  },
  {
   "cell_type": "code",
   "execution_count": 3,
   "id": "2974dfe8-e6e0-43ce-89bf-d8c06b3bd975",
   "metadata": {},
   "outputs": [],
   "source": [
    "np.random.seed(2)\n",
    "\n",
    "batch_size = 500\n",
    "\n",
    "x = np.array(x)\n",
    "xx = x[np.newaxis, :]\n",
    "xx = np.repeat(xx, batch_size, axis=0)\n",
    "y = np.random.normal(0.025, 0.001, 500)\n",
    "xx[:, 0] = y\n",
    "\n",
    "zz = transform_dimensions_vec(xx)"
   ]
  },
  {
   "cell_type": "code",
   "execution_count": 4,
   "id": "7c6aef67-72a9-4a74-88db-7ae95af41593",
   "metadata": {},
   "outputs": [],
   "source": [
    "def transform_dimensions_new(x):\n",
    "    km_scale = 1000\n",
    "    dist = x[0]\n",
    "    rho = x[1]\n",
    "    z = x[2]\n",
    "    zenith = x[3]\n",
    "    azimuith = x[4]\n",
    "    \n",
    "    x0 = dist / km_scale\n",
    "    x1 = jnp.cos(rho)\n",
    "    x2 = jnp.sin(rho)\n",
    "    x3 = z / km_scale\n",
    "\n",
    "    z = jnp.cos(jnp.deg2rad(zenith))\n",
    "    x = jnp.sin(jnp.deg2rad(zenith)) * jnp.cos(jnp.deg2rad(azimuth))\n",
    "    y = jnp.sin(jnp.deg2rad(zenith)) * jnp.sin(jnp.deg2rad(azimuth))\n",
    "    return jnp.array([x0, x1, x2, x3, z, x, y])"
   ]
  },
  {
   "cell_type": "code",
   "execution_count": 5,
   "id": "e4641d64-ee03-4029-b5f9-a93868eb2dc1",
   "metadata": {},
   "outputs": [],
   "source": [
    "x = jnp.array([dist, z, rho, zenith, azimuth])"
   ]
  },
  {
   "cell_type": "code",
   "execution_count": 6,
   "id": "81c42f92-a3a0-4552-bdb3-32200d45c04b",
   "metadata": {},
   "outputs": [
    {
     "name": "stdout",
     "output_type": "stream",
     "text": [
      "[ 2.500000e-02 -8.838775e-01 -4.677185e-01  0.000000e+00 -4.371139e-08\n",
      "  1.000000e+00  0.000000e+00]\n"
     ]
    }
   ],
   "source": [
    "print(transform_dimensions_new(x))"
   ]
  },
  {
   "cell_type": "code",
   "execution_count": 7,
   "id": "7239c198-49d0-415e-b892-407db96b2d50",
   "metadata": {},
   "outputs": [],
   "source": [
    "transform_v = jax.vmap(transform_dimensions_new, 0, 0)"
   ]
  },
  {
   "cell_type": "code",
   "execution_count": 8,
   "id": "bea39877-9b79-4360-953c-b7c9c0788295",
   "metadata": {},
   "outputs": [],
   "source": [
    "yy = transform_v(jnp.array(xx))"
   ]
  },
  {
   "cell_type": "code",
   "execution_count": 9,
   "id": "2b714de1-c77c-43d5-aebb-1ee451054af7",
   "metadata": {},
   "outputs": [
    {
     "name": "stdout",
     "output_type": "stream",
     "text": [
      "(500, 7)\n"
     ]
    }
   ],
   "source": [
    "print(yy.shape)"
   ]
  },
  {
   "cell_type": "code",
   "execution_count": 10,
   "id": "d38d26d9-a27c-4c6e-bf5a-8b7953b44c1e",
   "metadata": {},
   "outputs": [
    {
     "name": "stdout",
     "output_type": "stream",
     "text": [
      "(500, 7)\n"
     ]
    }
   ],
   "source": [
    "print(zz.shape)"
   ]
  },
  {
   "cell_type": "code",
   "execution_count": 12,
   "id": "979f5b0c-2ebe-430b-a6d1-5da9820e548d",
   "metadata": {},
   "outputs": [
    {
     "name": "stdout",
     "output_type": "stream",
     "text": [
      "[ 2.4943734e-05  5.4030228e-01  8.4147102e-01  0.0000000e+00\n",
      "  9.9999326e-01 -3.6651834e-03 -0.0000000e+00] [ 2.4943734e-05  5.4030228e-01  8.4147102e-01  0.0000000e+00\n",
      "  9.9999326e-01 -3.6651834e-03  2.7961964e-12]\n"
     ]
    }
   ],
   "source": [
    "print(yy[1], zz[1])"
   ]
  },
  {
   "cell_type": "code",
   "execution_count": 13,
   "id": "3997835b-b187-4fe6-93b0-deb80249def1",
   "metadata": {},
   "outputs": [],
   "source": [
    "from trafos import transform_inputs_v"
   ]
  },
  {
   "cell_type": "code",
   "execution_count": 14,
   "id": "00592a10-f12a-4445-8ad7-1eb128d82fa5",
   "metadata": {},
   "outputs": [
    {
     "data": {
      "text/plain": [
       "Array([[ 2.4583243e-05,  5.4030228e-01,  8.4147102e-01, ...,\n",
       "         9.9999326e-01, -3.6651834e-03,  2.7961964e-12],\n",
       "       [ 2.4943734e-05,  5.4030228e-01,  8.4147102e-01, ...,\n",
       "         9.9999326e-01, -3.6651834e-03,  2.7961964e-12],\n",
       "       [ 2.2863804e-05,  5.4030228e-01,  8.4147102e-01, ...,\n",
       "         9.9999326e-01, -3.6651834e-03,  2.7961964e-12],\n",
       "       ...,\n",
       "       [ 2.5236042e-05,  5.4030228e-01,  8.4147102e-01, ...,\n",
       "         9.9999326e-01, -3.6651834e-03,  2.7961964e-12],\n",
       "       [ 2.5494037e-05,  5.4030228e-01,  8.4147102e-01, ...,\n",
       "         9.9999326e-01, -3.6651834e-03,  2.7961964e-12],\n",
       "       [ 2.6546279e-05,  5.4030228e-01,  8.4147102e-01, ...,\n",
       "         9.9999326e-01, -3.6651834e-03,  2.7961964e-12]], dtype=float32)"
      ]
     },
     "execution_count": 14,
     "metadata": {},
     "output_type": "execute_result"
    }
   ],
   "source": [
    "transform_inputs_v(jnp.array(xx))"
   ]
  },
  {
   "cell_type": "code",
   "execution_count": null,
   "id": "0d6e74a2-e8b6-4d40-94a5-95cc420f4664",
   "metadata": {},
   "outputs": [],
   "source": []
  }
 ],
 "metadata": {
  "kernelspec": {
   "display_name": "Python 3 (ipykernel)",
   "language": "python",
   "name": "python3"
  },
  "language_info": {
   "codemirror_mode": {
    "name": "ipython",
    "version": 3
   },
   "file_extension": ".py",
   "mimetype": "text/x-python",
   "name": "python",
   "nbconvert_exporter": "python",
   "pygments_lexer": "ipython3",
   "version": "3.11.5"
  }
 },
 "nbformat": 4,
 "nbformat_minor": 5
}
