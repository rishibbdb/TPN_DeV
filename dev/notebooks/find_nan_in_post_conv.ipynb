{
 "cells": [
  {
   "cell_type": "code",
   "execution_count": 1,
   "id": "aef0f5ee-bd79-44b5-9fcc-55f86fff4a4a",
   "metadata": {},
   "outputs": [],
   "source": [
    "import jax.numpy as jnp\n",
    "import jax\n",
    "jax.config.update(\"jax_enable_x64\", True)\n",
    "\n",
    "import numpy as np\n",
    "import scipy\n",
    "import matplotlib.pyplot as plt\n",
    "\n",
    "import sys, os"
   ]
  },
  {
   "cell_type": "code",
   "execution_count": 2,
   "id": "2b90e49c-72a8-4f0e-bfeb-5eb7ceaefdc8",
   "metadata": {},
   "outputs": [],
   "source": [
    "from tensorflow_probability.substrates import jax as tfp"
   ]
  },
  {
   "cell_type": "code",
   "execution_count": 3,
   "id": "676577b7-de0e-4b08-b06e-3e223593473d",
   "metadata": {},
   "outputs": [],
   "source": [
    "\n",
    "sys.path.insert(0, \"/home/storage/hans/jax_reco_new\")\n",
    "from lib.c_mpe_gamma import c_multi_gamma_mpe_prob_v, c_multi_gamma_mpe_prob\n",
    "from lib.plotting import adjust_plot_1d\n",
    "from lib.simdata_i3 import I3SimHandler\n",
    "from lib.geo import center_track_pos_and_time_based_on_data\n",
    "from lib.network import get_network_eval_v_fn\n",
    "from lib.experimental_methods import remove_early_pulses\n",
    "from likelihood_conv_mpe import get_neg_c_triple_gamma_llh\n",
    "from dom_track_eval import get_eval_network_doms_and_track as get_eval_network_doms_and_track"
   ]
  },
  {
   "cell_type": "code",
   "execution_count": 4,
   "id": "48f3668b-cba5-4b69-9c30-502d6bf6885b",
   "metadata": {},
   "outputs": [],
   "source": [
    "from lib.geo import cherenkov_cylinder_coordinates_w_rho_v\n",
    "from lib.geo import get_xyz_from_zenith_azimuth"
   ]
  },
  {
   "cell_type": "code",
   "execution_count": 13,
   "id": "c9c16a81-6b8e-4c95-9f51-16b7c39e2253",
   "metadata": {},
   "outputs": [],
   "source": [
    "\n",
    "\n",
    "dtype = jnp.float32\n",
    "event_index = 2\n",
    "\n",
    "# Get network and eval logic.\n",
    "eval_network_v = get_network_eval_v_fn(bpath='/home/storage/hans/jax_reco/data/network', dtype=dtype)\n",
    "eval_network_doms_and_track = get_eval_network_doms_and_track(eval_network_v, dtype=dtype)\n",
    "\n"
   ]
  },
  {
   "cell_type": "code",
   "execution_count": 14,
   "id": "a250c594-488e-4afd-a5a7-e1aa3c591a03",
   "metadata": {},
   "outputs": [
    {
     "name": "stdout",
     "output_type": "stream",
     "text": [
      "muon energy: 4.7 TeV\n",
      "n_doms 102\n"
     ]
    }
   ],
   "source": [
    "\n",
    "\n",
    "# Get an IceCube event.\n",
    "bp = '/home/storage2/hans/i3files/21217'\n",
    "sim_handler = I3SimHandler(os.path.join(bp, 'meta_ds_21217_from_35000_to_53530.ftr'),\n",
    "                              os.path.join(bp, 'pulses_ds_21217_from_35000_to_53530.ftr'),\n",
    "                              '/home/storage/hans/jax_reco/data/icecube/detector_geometry.csv')\n",
    "\n",
    "meta, pulses = sim_handler.get_event_data(event_index)\n",
    "print(f\"muon energy: {meta['muon_energy_at_detector']/1.e3:.1f} TeV\")\n",
    "\n",
    "# Get dom locations, first hit times, and total charges (for each dom).\n",
    "event_data = sim_handler.get_per_dom_summary_from_sim_data(meta, pulses)\n",
    "\n",
    "print(\"n_doms\", len(event_data))\n",
    "\n"
   ]
  },
  {
   "cell_type": "code",
   "execution_count": 15,
   "id": "01032c1e-3e65-476d-8334-672db7cf1ab2",
   "metadata": {},
   "outputs": [
    {
     "name": "stdout",
     "output_type": "stream",
     "text": [
      "original seed vertex: [ -777.15166078 -1656.22843231 -1472.45624098]\n",
      "shifted seed vertex: [-164.52122541  320.02418746 -330.17880541]\n"
     ]
    }
   ],
   "source": [
    "# Make MCTruth seed.\n",
    "track_pos = jnp.array([meta['muon_pos_x'], meta['muon_pos_y'], meta['muon_pos_z']])\n",
    "track_time = meta['muon_time']\n",
    "track_zenith = meta['muon_zenith']\n",
    "track_azimuth = meta['muon_azimuth']\n",
    "track_src = jnp.array([track_zenith, track_azimuth])\n",
    "\n",
    "print(\"original seed vertex:\", track_pos)\n",
    "centered_track_pos, centered_track_time = center_track_pos_and_time_based_on_data(event_data, \n",
    "                                                                                  track_pos, \n",
    "                                                                                  track_time, \n",
    "                                                                                  track_src)\n",
    "print(\"shifted seed vertex:\", centered_track_pos)"
   ]
  },
  {
   "cell_type": "code",
   "execution_count": 16,
   "id": "2d372b98-b818-4e4f-997c-8ae74c597efc",
   "metadata": {},
   "outputs": [
    {
     "name": "stdout",
     "output_type": "stream",
     "text": [
      "(102, 5)\n",
      "(102, 5)\n"
     ]
    }
   ],
   "source": [
    "\n",
    "\n",
    "fitting_event_data = jnp.array(event_data[['x', 'y', 'z', 'time', 'charge']].to_numpy())\n",
    "print(fitting_event_data.shape)\n",
    "\n",
    "fitting_event_data = remove_early_pulses(eval_network_doms_and_track,\n",
    "                                         fitting_event_data,\n",
    "                                         centered_track_pos,\n",
    "                                         track_src,\n",
    "                                         centered_track_time)\n",
    "print(fitting_event_data.shape)\n",
    "\n"
   ]
  },
  {
   "cell_type": "code",
   "execution_count": 17,
   "id": "fb00c0e9-9796-4ed0-984c-6c3b1751e3fa",
   "metadata": {},
   "outputs": [],
   "source": [
    "def get_neg_c_triple_gamma_llh_mpe(eval_network_doms_and_track_fn):\n",
    "    \"\"\"\n",
    "    here would be a smart docstring\n",
    "    \"\"\"\n",
    "\n",
    "    @jax.jit\n",
    "    def neg_c_triple_gamma_llh(track_direction,\n",
    "                               track_vertex,\n",
    "                               track_time,\n",
    "                               event_data):\n",
    "\n",
    "        # Constant parameters.\n",
    "        sigma = 2.0 # width of gaussian convolution\n",
    "        X_safe = 20.0 # when to stop evaluating negative time residuals in units of sigma\n",
    "        nmax = 20\n",
    "        nint = 41\n",
    "\n",
    "        dom_pos = event_data[:, :3]\n",
    "        first_hit_times = event_data[:, 3]\n",
    "        charges = event_data[:, 4]\n",
    "        n_photons = jnp.round(charges + 0.5)\n",
    "\n",
    "        logits, av, bv, geo_time = eval_network_doms_and_track_fn(dom_pos, track_vertex, track_direction)\n",
    "        delay_time = first_hit_times - (geo_time + track_time)\n",
    "\n",
    "        # Floor on negative time residuals.\n",
    "        # Effectively a floor on the pdf.\n",
    "        # Todo: think about noise.\n",
    "        safe_delay_time = jnp.where(delay_time > -X_safe * sigma, delay_time, -X_safe * sigma)\n",
    "\n",
    "        probs = c_multi_gamma_mpe_prob_v(safe_delay_time,\n",
    "                                     logits,\n",
    "                                     av,\n",
    "                                     bv,\n",
    "                                     n_photons,\n",
    "                                     sigma,\n",
    "                                     nmax,\n",
    "                                     nint)\n",
    "\n",
    "        return -2.0 * jnp.sum(jnp.log(probs))\n",
    "\n",
    "\n",
    "\n",
    "    return neg_c_triple_gamma_llh"
   ]
  },
  {
   "cell_type": "code",
   "execution_count": 18,
   "id": "793b6650-a3b0-45e5-931b-248c8bae886f",
   "metadata": {},
   "outputs": [],
   "source": [
    "\n",
    "\n",
    "neg_llh_mpe = get_neg_c_triple_gamma_llh_mpe(eval_network_doms_and_track)\n",
    "neg_llh_mpe_grad = jax.grad(neg_llh_mpe)\n",
    "\n",
    "for index in range(len(fitting_event_data)):\n",
    "    llh_val = neg_llh_mpe(track_src, centered_track_pos, centered_track_time, fitting_event_data[index: index+1])\n",
    "    llh_grad = neg_llh_mpe_grad(track_src, centered_track_pos, centered_track_time, fitting_event_data[index: index+1])\n",
    "    if np.any(np.isnan(llh_grad)):\n",
    "        print(\"DOM\", index)\n",
    "        print(llh_val, llh_grad)\n",
    "\n"
   ]
  },
  {
   "cell_type": "code",
   "execution_count": 19,
   "id": "5470b2da-e234-4c96-90a8-5cb7f2ab6ace",
   "metadata": {},
   "outputs": [],
   "source": [
    "def get_dom_info(track_direction, track_vertex, track_time, event_data):\n",
    "        \n",
    "        # Constant parameters.\n",
    "        sigma = 2.0 # width of gaussian convolution\n",
    "        X_safe = 20.0 # when to stop evaluating negative time residuals in units of sigma\n",
    "\n",
    "        dom_pos = event_data[:, :3]\n",
    "        first_hit_times = event_data[:, 3]\n",
    "        charges = event_data[:, 4]\n",
    "        n_photons = jnp.round(charges + 0.5)\n",
    "        print(\"n_hits:\", n_photons)\n",
    "\n",
    "        track_dir_xyz = get_xyz_from_zenith_azimuth(track_direction)\n",
    "        geo_time, closest_approach_dist, closest_approach_z, closest_approach_rho = \\\n",
    "            cherenkov_cylinder_coordinates_w_rho_v(dom_pos, track_vertex, track_dir_xyz)\n",
    "\n",
    "        print(\"dist, z, rho=\", closest_approach_dist, closest_approach_z, closest_approach_rho)\n",
    "        \n",
    "        logits, av, bv, geo_time = eval_network_doms_and_track(dom_pos, track_vertex, track_direction)\n",
    "        print(\"gamma_a:\", av)\n",
    "        print(\"gamma_b:\", bv)\n",
    "        mix_probs = jax.nn.softmax(logits)\n",
    "        delay_time = first_hit_times - (geo_time + track_time)\n",
    "\n",
    "        # Floor on negative time residuals.\n",
    "        # Effectively a floor on the pdf.\n",
    "        # Todo: think about noise.\n",
    "        safe_delay_time = jnp.where(delay_time > -X_safe * sigma, delay_time, -X_safe * sigma)\n",
    "        print(\"delay time:\", safe_delay_time)\n",
    "\n",
    "        probs = c_multi_gamma_mpe_prob_v(safe_delay_time, \n",
    "                                     logits,\n",
    "                                     av,\n",
    "                                     bv,\n",
    "                                     n_photons,\n",
    "                                     sigma,\n",
    "                                     20,\n",
    "                                     41)\n",
    "\n",
    "        print(\"pdf:\", probs)\n",
    "\n",
    "        return mix_probs, av, bv, safe_delay_time"
   ]
  },
  {
   "cell_type": "code",
   "execution_count": 20,
   "id": "9fddf4b8-cd70-43b7-bfc7-abd89153c25a",
   "metadata": {},
   "outputs": [
    {
     "name": "stdout",
     "output_type": "stream",
     "text": [
      "n_hits: [1.]\n",
      "dist, z, rho= [96.18811464] [-549.97664403] [-0.32022561]\n",
      "gamma_a: [[3.84631443 5.87746286 2.27034545]]\n",
      "gamma_b: [[0.00949955 0.03401769 0.00209393]]\n",
      "delay time: [138.70062895]\n",
      "pdf: [0.00236885]\n"
     ]
    }
   ],
   "source": [
    "index = 4\n",
    "mix_probs, gamma_a, gamma_b, delay_time = get_dom_info(track_src, centered_track_pos, centered_track_time, fitting_event_data[index: index+1])"
   ]
  },
  {
   "cell_type": "code",
   "execution_count": null,
   "id": "85caac42-8419-4fb0-9738-de612d60bc6c",
   "metadata": {},
   "outputs": [],
   "source": []
  },
  {
   "cell_type": "code",
   "execution_count": null,
   "id": "ca7e5b2e-82d7-4cd2-8c5f-dafb01cf87c4",
   "metadata": {},
   "outputs": [],
   "source": []
  },
  {
   "cell_type": "code",
   "execution_count": null,
   "id": "7c70c94f-8d21-416c-81bc-b5e87d6e8cf4",
   "metadata": {},
   "outputs": [],
   "source": []
  }
 ],
 "metadata": {
  "kernelspec": {
   "display_name": "Python 3 (ipykernel)",
   "language": "python",
   "name": "python3"
  },
  "language_info": {
   "codemirror_mode": {
    "name": "ipython",
    "version": 3
   },
   "file_extension": ".py",
   "mimetype": "text/x-python",
   "name": "python",
   "nbconvert_exporter": "python",
   "pygments_lexer": "ipython3",
   "version": "3.11.5"
  }
 },
 "nbformat": 4,
 "nbformat_minor": 5
}
