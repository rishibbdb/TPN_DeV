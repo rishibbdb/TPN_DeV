{
 "cells": [
  {
   "cell_type": "code",
   "execution_count": 2,
   "id": "94f505f9-1da5-4451-86e0-7c9ba6fddd08",
   "metadata": {},
   "outputs": [
    {
     "name": "stdout",
     "output_type": "stream",
     "text": [
      "muon energy: 2.2 TeV\n",
      "n_doms 58\n",
      "original seed vertex: [ 1180.18566012 -1499.16735802  -782.32800156]\n",
      "shifted seed vertex: [-38.65768538 207.2454018  145.80801123]\n"
     ]
    }
   ],
   "source": [
    "\n",
    "from iminuit import Minuit\n",
    "import sys, os\n",
    "sys.path.insert(0, \"/home/storage/hans/jax_reco\")\n",
    "os.environ['CUDA_VISIBLE_DEVICES'] = '0'\n",
    "\n",
    "import jax.numpy as jnp\n",
    "import jax\n",
    "jax.config.update(\"jax_enable_x64\", True)\n",
    "import jaxopt\n",
    "\n",
    "import pandas as pd\n",
    "import numpy as np\n",
    "from lib.simdata_i3 import I3SimHandlerFtr\n",
    "from lib.geo import center_track_pos_and_time_based_on_data\n",
    "from lib.network import get_network_eval_v_fn\n",
    "from lib.experimental_methods import remove_early_pulses\n",
    "from dom_track_eval import get_eval_network_doms_and_track\n",
    "from likelihood_spe import get_neg_c_triple_gamma_llh\n",
    "\n",
    "# Event Index.\n",
    "event_index = 3\n",
    "\n",
    "# Get network and eval logic.\n",
    "eval_network_v = get_network_eval_v_fn(bpath='/home/storage/hans/jax_reco/data/network')\n",
    "eval_network_doms_and_track = get_eval_network_doms_and_track(eval_network_v)\n",
    "\n",
    "# Get an IceCube event.\n",
    "bp = '/home/storage2/hans/i3files/21217'\n",
    "sim_handler = I3SimHandlerFtr(os.path.join(bp, 'meta_ds_21217_from_35000_to_53530.ftr'),\n",
    "                              os.path.join(bp, 'pulses_ds_21217_from_35000_to_53530.ftr'),\n",
    "                              '/home/storage/hans/jax_reco/data/icecube/detector_geometry.csv')\n",
    "\n",
    "meta, pulses = sim_handler.get_event_data(event_index)\n",
    "print(f\"muon energy: {meta['muon_energy_at_detector']/1.e3:.1f} TeV\")\n",
    "\n",
    "# Get dom locations, first hit times, and total charges (for each dom).\n",
    "event_data = sim_handler.get_per_dom_summary_from_sim_data(meta, pulses)\n",
    "\n",
    "print(\"n_doms\", len(event_data))\n",
    "\n",
    "# Make MCTruth seed.\n",
    "track_pos = jnp.array([meta['muon_pos_x'], meta['muon_pos_y'], meta['muon_pos_z']])\n",
    "track_time = meta['muon_time']\n",
    "track_zenith = meta['muon_zenith']\n",
    "track_azimuth = meta['muon_azimuth']\n",
    "track_src = jnp.array([track_zenith, track_azimuth])\n",
    "\n",
    "print(\"original seed vertex:\", track_pos)\n",
    "centered_track_pos, centered_track_time = center_track_pos_and_time_based_on_data(event_data, track_pos, track_time, track_src)\n",
    "print(\"shifted seed vertex:\", centered_track_pos)"
   ]
  },
  {
   "cell_type": "code",
   "execution_count": 3,
   "id": "60dc4371-89b6-4df4-8d86-aa6781d27e07",
   "metadata": {},
   "outputs": [],
   "source": [
    "# Create some n_photons from qtot (by rounding up).\n",
    "n_photons = np.round(event_data['charge'].to_numpy()+0.5)\n",
    "\n",
    "# Combine into single data tensor for fitting.\n",
    "fitting_event_data = jnp.array(event_data[['x', 'y', 'z', 'time']].to_numpy())\n",
    "\n",
    "# Clean random early events\n",
    "fitting_event_data = fitting_event_data = remove_early_pulses(eval_network_doms_and_track, \n",
    "                                                              fitting_event_data, \n",
    "                                                              centered_track_pos, \n",
    "                                                              track_src, \n",
    "                                                              centered_track_time)\n",
    "\n",
    "# Setup likelihood\n",
    "neg_llh = get_neg_c_triple_gamma_llh(eval_network_doms_and_track)"
   ]
  },
  {
   "cell_type": "code",
   "execution_count": 5,
   "id": "6dcde138-6b78-41d6-8fea-9a8b1e6d6c83",
   "metadata": {},
   "outputs": [],
   "source": [
    "scale = 20.0\n",
    "@jax.jit\n",
    "def neg_llh_5D(x):\n",
    "        zenith = x[0] / scale\n",
    "        azimuth = x[1] / scale\n",
    "        zenith = jnp.fmod(zenith, 2.0*jnp.pi)\n",
    "        zenith = jnp.where(zenith < 0, zenith+2.0*jnp.pi, zenith)\n",
    "        cond = zenith > jnp.pi\n",
    "        zenith = jnp.where(cond, -1.0*zenith+2.0*jnp.pi, zenith)\n",
    "        azimuth = jnp.where(cond, azimuth-jnp.pi, azimuth)\n",
    "\n",
    "        azimuth = jnp.fmod(azimuth, 2.0*jnp.pi)\n",
    "        azimuth = jnp.where(azimuth < 0, azimuth+2.0*jnp.pi, azimuth)\n",
    "        \n",
    "        projected_dir = jnp.array([zenith, azimuth])\n",
    "        return neg_llh(projected_dir, x[2:]*scale, centered_track_time, fitting_event_data)\n",
    "\n",
    "G_poisson_logL = jax.grad(neg_llh_5D)\n",
    "H_poisson_logL = jax.jacfwd(G_poisson_logL)"
   ]
  },
  {
   "cell_type": "code",
   "execution_count": 8,
   "id": "755c8891-f51c-42a0-8b73-e30fdf587e16",
   "metadata": {},
   "outputs": [
    {
     "name": "stdout",
     "output_type": "stream",
     "text": [
      "[[1034.54889415   41.49182208  205.93611881 -503.65344859  837.31576855]\n",
      " [  41.49182208  207.94018926  160.29132379  -60.17490748   64.36933741]\n",
      " [ 205.93611881  160.29132379  296.16994143 -133.45839129  282.13215335]\n",
      " [-503.65344859  -60.17490748 -133.45839129 2731.74672407  362.78150213]\n",
      " [ 837.31576855   64.36933741  282.13215335  362.78150213 1622.60193159]]\n"
     ]
    }
   ],
   "source": [
    "x0 = jnp.concatenate([track_src*scale, centered_track_pos/scale])\n",
    "print(jnp.squeeze(H_poisson_logL(x0)))"
   ]
  },
  {
   "cell_type": "code",
   "execution_count": 25,
   "id": "de6c18ef-3572-4609-b949-ccab9e72fef9",
   "metadata": {},
   "outputs": [],
   "source": [
    "@jax.jit\n",
    "def update(β):\n",
    "    H, G = jnp.squeeze(H_poisson_logL(β)), G_poisson_logL(β)\n",
    "    β_new = β - (jnp.dot(jnp.linalg.inv(H), G))\n",
    "    error = jnp.abs(β_new - β)\n",
    "    β = β_new\n",
    "    return β"
   ]
  },
  {
   "cell_type": "code",
   "execution_count": 35,
   "id": "ce219521-914f-4d54-a2d9-1480d053b1d5",
   "metadata": {},
   "outputs": [],
   "source": [
    "def newton_raphson(β, tol=1e-3, max_iter=100, display=True):\n",
    "\n",
    "    i = 0\n",
    "    error = 100  # Initial error value\n",
    "  \n",
    "    while jnp.any(error > tol) and i < max_iter:\n",
    "        #H, G = jnp.squeeze(H_poisson_logL(β)), G_poisson_logL(β)\n",
    "        H, G = H_poisson_logL(β), G_poisson_logL(β)\n",
    "        β_new = β - (jnp.dot(jnp.linalg.inv(H), G))\n",
    "        error = jnp.abs(β_new - β)\n",
    "        β = β_new\n",
    "        #β = update(β)\n",
    "\n",
    "        i += 1\n",
    "\n",
    "    return β"
   ]
  },
  {
   "cell_type": "code",
   "execution_count": 36,
   "id": "d552ddf4-8495-443e-b965-7e629468e289",
   "metadata": {},
   "outputs": [
    {
     "name": "stdout",
     "output_type": "stream",
     "text": [
      "... solution found.\n",
      "-2*logl=737.833\n",
      "zenith=1.990rad\n",
      "azimuth=5.346rad\n",
      "x=-38.956m\n",
      "y=209.021m\n",
      "z=145.781m\n",
      "at fix time t=12375.863ns\n"
     ]
    }
   ],
   "source": [
    "best_x = newton_raphson(x0, display=False)\n",
    "best_logl = neg_llh_5D(result)\n",
    "\n",
    "print(\"... solution found.\")\n",
    "print(f\"-2*logl={best_logl:.3f}\")\n",
    "print(f\"zenith={best_x[0]/scale:.3f}rad\")\n",
    "print(f\"azimuth={best_x[1]/scale:.3f}rad\")\n",
    "print(f\"x={best_x[2]*scale:.3f}m\")\n",
    "print(f\"y={best_x[3]*scale:.3f}m\")\n",
    "print(f\"z={best_x[4]*scale:.3f}m\")\n",
    "print(f\"at fix time t={centered_track_time:.3f}ns\")"
   ]
  },
  {
   "cell_type": "code",
   "execution_count": 37,
   "id": "7830a70b-bf9c-4297-a073-55587c6db58b",
   "metadata": {},
   "outputs": [
    {
     "name": "stdout",
     "output_type": "stream",
     "text": [
      "88.1 ms ± 140 μs per loop (mean ± std. dev. of 7 runs, 10 loops each)\n"
     ]
    }
   ],
   "source": [
    "%timeit newton_raphson(x0, display=False)"
   ]
  },
  {
   "cell_type": "code",
   "execution_count": 46,
   "id": "dc5ce58b-d7be-4602-a8bb-e78e350b17e6",
   "metadata": {},
   "outputs": [],
   "source": [
    "scale = 20.0\n",
    "@jax.jit\n",
    "def neg_llh_3D(x, track_dir):\n",
    "    return neg_llh(track_dir, x*scale, centered_track_time, fitting_event_data)"
   ]
  },
  {
   "cell_type": "code",
   "execution_count": 47,
   "id": "342a4e7c-895d-43d0-aec7-9dbd7bfeb5ee",
   "metadata": {},
   "outputs": [],
   "source": [
    "G_poisson_logL = jax.grad(neg_llh_3D)\n",
    "H_poisson_logL = jax.jacfwd(G_poisson_logL)"
   ]
  },
  {
   "cell_type": "code",
   "execution_count": 48,
   "id": "c7859954-58d4-441c-b0f0-4d11666d6033",
   "metadata": {},
   "outputs": [],
   "source": [
    "def newton_raphson(β, track_dir, tol=1e-3, max_iter=100, display=True):\n",
    "\n",
    "    i = 0\n",
    "    error = 100  # Initial error value\n",
    "  \n",
    "    while jnp.any(error > tol) and i < max_iter:\n",
    "        #H, G = jnp.squeeze(H_poisson_logL(β)), G_poisson_logL(β)\n",
    "        H, G = H_poisson_logL(β, track_dir), G_poisson_logL(β, track_dir)\n",
    "        β_new = β - (jnp.dot(jnp.linalg.inv(H), G))\n",
    "        error = jnp.abs(β_new - β)\n",
    "        β = β_new\n",
    "        #β = update(β)\n",
    "\n",
    "        i += 1\n",
    "\n",
    "    return β"
   ]
  },
  {
   "cell_type": "code",
   "execution_count": 50,
   "id": "316b8cd3-b597-4568-80ec-9f0093b81edf",
   "metadata": {},
   "outputs": [
    {
     "name": "stdout",
     "output_type": "stream",
     "text": [
      "elapsed: 112.38145470619202s\n"
     ]
    }
   ],
   "source": [
    "import time\n",
    "\n",
    "time1 = time.time()\n",
    "# Number of scan points on 1D\n",
    "n_eval = 20 # making it a 30x30 grid\n",
    "\n",
    "# Scan range (truth +/- dzen, +/- dazi)\n",
    "dzen = 0.03 # rad\n",
    "dazi = 0.03 # rad\n",
    "\n",
    "zenith = jnp.linspace(track_src[0]-dzen, track_src[0]+dazi, n_eval)\n",
    "azimuth = jnp.linspace(track_src[1]-dzen, track_src[1]+dazi, n_eval)\n",
    "X, Y = jnp.meshgrid(zenith, azimuth)\n",
    "init_dirs = jnp.column_stack([X.flatten(), Y.flatten()])\n",
    "\n",
    "logls = np.zeros(len(init_dirs))\n",
    "\n",
    "x0 = centered_track_pos/scale\n",
    "for i, tdir in enumerate(init_dirs):\n",
    "        result = newton_raphson(x0, tdir)\n",
    "        #result = solve(x0, tdir, centered_track_time, fitting_event_data)\n",
    "        logls[i] = neg_llh_3D(result, tdir)\n",
    "\n",
    "logls = logls.reshape(X.shape)\n",
    "time2 = time.time()\n",
    "\n",
    "print(f\"elapsed: {time2-time1}s\")"
   ]
  },
  {
   "cell_type": "code",
   "execution_count": 53,
   "id": "5230e157-b45d-4298-8a4f-d0aa2546af52",
   "metadata": {},
   "outputs": [
    {
     "data": {
      "image/png": "[encoded data removed]",
      "text/plain": [
       "<Figure size 640x480 with 2 Axes>"
      ]
     },
     "metadata": {},
     "output_type": "display_data"
    }
   ],
   "source": [
    "import matplotlib.pyplot as plt\n",
    "from palettable.cubehelix import Cubehelix\n",
    "cx =Cubehelix.make(start=0.3, rotation=-0.5, n=16, reverse=False, gamma=1.0,\n",
    "                           max_light=1.0,max_sat=0.5, min_sat=1.4).get_mpl_colormap()\n",
    "\n",
    "logls[np.isnan(logls)]=999999999999.0\n",
    "fig, ax = plt.subplots()\n",
    "min_logl = np.amin(logls)\n",
    "delta_logl = logls - np.amin(logls)\n",
    "pc = ax.pcolormesh(np.rad2deg(X), np.rad2deg(Y), delta_logl, vmin=0, vmax=np.min([25, 1.2*np.amax(delta_logl)]), shading='auto', cmap=cx)\n",
    "cbar = fig.colorbar(pc)\n",
    "cbar.ax.tick_params(labelsize=16)\n",
    "cbar.ax.get_yaxis().labelpad = 5\n",
    "cbar.set_label(\"-2$\\\\Delta$log $L_{SPE}$\", fontsize=20)\n",
    "cbar.outline.set_linewidth(1.5)\n",
    "\n",
    "ax.set_xlabel(\"zenith [deg]\", fontsize=16)\n",
    "ax.set_ylabel(\"azimuth [deg]\", fontsize=16)\n",
    "ax.set_xlim(np.rad2deg([track_src[0]-dzen, track_src[0]+dzen]))\n",
    "ax.set_ylim(np.rad2deg([track_src[1]-dazi, track_src[1]+dazi]))\n",
    "ax.tick_params(axis='both', which='both', width=1.5, colors='0.0', labelsize=16)\n",
    "\n",
    "ax.scatter(np.rad2deg(track_src[0]), np.rad2deg(track_src[1]), marker=\"*\", color='red', label=\"truth\", zorder=200)\n",
    "\n",
    "smpe_zenith = meta['spline_mpe_zenith']\n",
    "smpe_azimuth = meta['spline_mpe_azimuth']\n",
    "ax.scatter(np.rad2deg([smpe_zenith]), np.rad2deg([smpe_azimuth]), marker=\"x\", color='lime', label='splineMPE')\n",
    "\n",
    "zenith = best_x[0]\n",
    "azimuth = best_x[1]\n",
    "ax.scatter(np.rad2deg(zenith/scale), np.rad2deg(azimuth/scale), marker='+', color='magenta', label='bfgs')\n",
    "\n",
    "contours = [4.61]\n",
    "ix1, ix2 = np.where(delta_logl==0)\n",
    "ax.scatter(np.rad2deg([X[ix1, ix2]]), np.rad2deg([Y[ix1, ix2]]), s=50, marker='o', facecolors='none', edgecolors='khaki', zorder=100., label='grid min')\n",
    "ct = plt.contour(np.rad2deg(X), np.rad2deg(Y), delta_logl, levels=contours, linestyles=['solid'], colors=['khaki'], linewidths=1.0)\n",
    "\n",
    "plt.legend()\n",
    "plt.tight_layout()\n",
    "plt.show()"
   ]
  },
  {
   "cell_type": "code",
   "execution_count": 52,
   "id": "d024f77e-ff1a-41d2-ba10-37163961c16d",
   "metadata": {},
   "outputs": [
    {
     "name": "stdout",
     "output_type": "stream",
     "text": [
      "[[784.01616458 776.19874316 775.05643059 772.25877551 770.10856197\n",
      "  766.65778236 763.63366248 761.38568679 760.19910231 759.93230283\n",
      "  760.52511018          nan 762.87722409 764.45275546 766.29135216\n",
      "  769.42081635 771.97008239 773.28113275 774.22368405 775.4771151 ]\n",
      " [775.10335845          nan 910.11845013 771.06024857 768.21577442\n",
      "  764.40687629 761.10420486 758.78225347 757.38450904 757.25370959\n",
      "  757.53342103 758.95816731 760.0882718  761.90269389 764.19976454\n",
      "  766.25420307 768.70400837 785.00651638 773.26300542 773.77429104]\n",
      " [787.80491715 776.1806336  771.38838699 769.69607062 767.63281395\n",
      "  762.60463791 758.94650099 756.82272076 754.69282896 754.0787377\n",
      "  754.63347065 756.50632701 757.37672    759.52386815 762.45536614\n",
      "  764.12136578 766.74860799 769.0115252  770.12357608 774.44429836]\n",
      " [774.00460086 773.21258106 777.56676069 772.27324655 765.50126289\n",
      "  762.1442858  760.95245433 754.11171485 752.23192927 751.51786484\n",
      "  751.89333348 753.82009485 755.27842139 758.3534804  760.30645173\n",
      "  762.3239213  765.26073429 767.16039516 768.84173761 769.83764463]\n",
      " [         nan 774.22933026 770.61133781 767.71807022 763.80111541\n",
      "  868.44337477 755.72550835 752.27773299 750.06750775 748.69844276\n",
      "  749.39186209 751.22201137 752.33327303 755.73646757 757.35655186\n",
      "  759.2832461  762.36714148 765.46628532 765.74804926 768.52269457]\n",
      " [772.32265658 770.13081195          nan 766.52344226 762.87970278\n",
      "           nan 758.03893652 750.63408377 755.32977137 746.65564269\n",
      "  746.99103286 749.19337062 750.16906614 753.33778992 755.86156704\n",
      "  758.74639812 759.26578723 764.41338223          nan 766.99355655]\n",
      " [773.82941265 769.37631509 769.31573321 765.78554411 762.43752486\n",
      "  759.11632727 753.68576232 753.27997736 746.48805402 784.34993803\n",
      "  744.93009558 746.00660077 748.38802632 750.81831632 754.18162875\n",
      "  757.56448412 757.68302001 763.97793799 768.73925099 765.46073773]\n",
      " [772.75565597 772.607193   766.34171163 765.17366145 762.09164715\n",
      "           nan 753.1952211  748.24982355 745.03738491 743.56398066\n",
      "  743.06553267 744.17076612 746.33294714 749.50121872 751.77130922\n",
      "  757.11211521 756.35102322 759.02494811 762.24980827 766.59181253]\n",
      " [770.16814521 767.81081521 767.2177291  764.39113349 763.3440496\n",
      "  758.2060584  752.94872344          nan 744.15476054 742.22059985\n",
      "  741.70162918 745.68733364 744.79256226 748.15294276 751.67065568\n",
      "  754.69238868 755.22794719 765.78521013 760.87988803 782.89978747]\n",
      " [769.82426319 770.12468966 766.55572061 762.82494211 759.44032182\n",
      "  757.12238598 753.30407928 749.98798676 762.52679545 741.49769468\n",
      "  740.79349526 741.73548263 744.96658824          nan 748.75513115\n",
      "  753.4070013  762.32811441 758.40494465 760.39517855 761.78856455]\n",
      " [769.74222246 769.35430264 767.15547886 761.7675469  758.29516515\n",
      "  759.50517308 754.0384412  749.08357174 743.6449446  741.54625129\n",
      "  740.24899318 741.13673888 744.13070158 745.50878304 747.88778212\n",
      "  750.57054596 753.72060512 756.01353513 758.96346852 760.13121717]\n",
      " [769.52374204 766.79279672 763.72555489 760.99606842 757.47063814\n",
      "  754.40135414 753.79058749 747.75366037 743.45083534 740.84504274\n",
      "  739.86332871 740.72189081 742.73590871 744.75217516 747.0522489\n",
      "  749.65101644 752.1407333  754.69563539 756.4036607  758.43423989]\n",
      " [769.8325966  767.09948773 763.68976194 760.63625622 760.70723825\n",
      "  758.88884041 751.98860504 746.50428891 954.65322371 739.88322437\n",
      "  738.92430857 739.83263284 741.86821417 744.12641558 745.93769403\n",
      "  752.10008545 752.22274477 753.12779129 755.46027305 757.44228574]\n",
      " [770.46180709 767.58733657 764.02597535 760.83525728 758.08045436\n",
      "  753.80314609 750.40024407 745.50382171 741.17640097 739.18015335\n",
      "  738.09705997 738.81475975 740.57175408 743.40034216 745.41242385\n",
      "  765.42142872 750.2903078  752.40991725 754.884072   756.88293065]\n",
      " [771.33445012 768.19421019 764.66225564 761.20411249 757.36101788\n",
      "  753.68862666 772.54123357 745.145884   741.6288409  739.15295996\n",
      "  737.95256888 738.43351107 739.83783965 742.30398094 745.04843832\n",
      "  747.49428973 749.7534238  752.1091303  754.43241823 756.25207197]\n",
      " [772.40269371 769.1469221  766.22724729 761.80818176 758.29229804\n",
      "  753.80488184 749.58735417 749.66417846 742.30704706 739.88692108\n",
      "  738.59062737 738.83901995 739.88941635 741.93952126 744.58954896\n",
      "  747.41803693 749.67601404 752.17408893 754.44590697 756.34474455]\n",
      " [773.74952428 770.36025232 767.3405542  762.80165345 759.84135636\n",
      "  754.64833973 750.43919207 746.86899763 743.72964399 741.32428655\n",
      "  739.99094429 740.02731095 740.75106576 742.40105099 744.64199917\n",
      "  747.3716795  749.90323342 752.44052094 754.84646449 756.88174408]\n",
      " [775.70191853 771.97934405 768.90776987 764.32091894 760.01514483\n",
      "  756.12724795 752.23350128 748.79108584 745.80640031 743.49117422\n",
      "  742.06052741 741.9106346  742.34733849 743.61796139 745.67868918\n",
      "  748.08046452 750.67642658 752.88958494 755.07291157 758.52656068]\n",
      " [777.44337097 773.81993825 771.00321174 766.35180666 765.27693059\n",
      "  757.73138108 754.6015314  751.26000136 748.41646063 746.12117668\n",
      "  744.67269153 750.44810816 744.55467928 745.50656391 747.02516534\n",
      "  749.38628501 907.59567351 753.42129614 755.86321429 757.87741303]\n",
      " [779.70532471 776.16029614 772.2485327  768.55291518 763.81391098\n",
      "  760.66426319 757.31630947 754.14684429 751.43093272 748.75190313\n",
      "  747.69652067 747.44789936 747.18904055 747.91455916 749.19745167\n",
      "  750.79726082 752.61148642 754.58672981 756.64165401 759.53430425]]\n"
     ]
    }
   ],
   "source": [
    "print(logls)"
   ]
  },
  {
   "cell_type": "code",
   "execution_count": null,
   "id": "9ddd9b7b-e0fe-4f5d-950f-3e96bbb68303",
   "metadata": {},
   "outputs": [],
   "source": []
  }
 ],
 "metadata": {
  "kernelspec": {
   "display_name": "Python 3 (ipykernel)",
   "language": "python",
   "name": "python3"
  },
  "language_info": {
   "codemirror_mode": {
    "name": "ipython",
    "version": 3
   },
   "file_extension": ".py",
   "mimetype": "text/x-python",
   "name": "python",
   "nbconvert_exporter": "python",
   "pygments_lexer": "ipython3",
   "version": "3.11.5"
  }
 },
 "nbformat": 4,
 "nbformat_minor": 5
}
