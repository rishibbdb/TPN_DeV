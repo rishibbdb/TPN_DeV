{
 "cells": [
  {
   "cell_type": "code",
   "execution_count": 1,
   "id": "302e8cea-f974-443f-94f6-4acc84c26351",
   "metadata": {},
   "outputs": [],
   "source": [
    "import pandas as pd\n",
    "import sys, os\n",
    "import numpy as np\n",
    "\n",
    "sys.path.insert(0, \"/home/storage/hans/jax_reco_new\")"
   ]
  },
  {
   "cell_type": "code",
   "execution_count": 2,
   "id": "2808a818-5440-43c0-b878-7d60cae17cd9",
   "metadata": {},
   "outputs": [],
   "source": [
    "from lib.simdata_i3 import I3SimHandler"
   ]
  },
  {
   "cell_type": "code",
   "execution_count": 3,
   "id": "b43063a6-910b-4b84-9215-7fd308d49f88",
   "metadata": {},
   "outputs": [],
   "source": [
    "# Get an IceCube event.\n",
    "\n",
    "event_index = 0\n",
    "bp = '/home/storage2/hans/i3files/21217'\n",
    "sim_handler = I3SimHandler(os.path.join(bp, 'meta_ds_21217_from_35000_to_53530.ftr'),\n",
    "                              os.path.join(bp, 'pulses_ds_21217_from_35000_to_53530.ftr'),\n",
    "                              '/home/storage/hans/jax_reco/data/icecube/detector_geometry.csv')\n",
    "meta, pulses = sim_handler.get_event_data(event_index)\n",
    "# Get dom locations, first hit times, and total charges (for each dom).\n",
    "event_data = sim_handler.get_per_dom_summary_from_sim_data(meta, pulses)"
   ]
  },
  {
   "cell_type": "code",
   "execution_count": 32,
   "id": "5bfa288f-9580-44bc-a07d-4cb489355584",
   "metadata": {},
   "outputs": [],
   "source": [
    "n_pulses = 1\n",
    "event_data_all = sim_handler.get_per_dom_summary_extended_from_index(0, n_pulses=n_pulses)"
   ]
  },
  {
   "cell_type": "code",
   "execution_count": 33,
   "id": "09ddc0d0-8541-4fea-b0c5-063077b1341b",
   "metadata": {},
   "outputs": [
    {
     "data": {
      "text/plain": [
       "(29, 6)"
      ]
     },
     "execution_count": 33,
     "metadata": {},
     "output_type": "execute_result"
    }
   ],
   "source": [
    "event_data.shape"
   ]
  },
  {
   "cell_type": "code",
   "execution_count": 34,
   "id": "9731e7cf-d072-4954-b0cd-ce0bb3157a1f",
   "metadata": {},
   "outputs": [],
   "source": [
    "from lib.cgamma import c_multi_gamma_prob_v\n",
    "import jax\n",
    "jax.config.update(\"jax_enable_x64\", True)\n",
    "import jax.numpy as jnp"
   ]
  },
  {
   "cell_type": "code",
   "execution_count": 35,
   "id": "da8d8ccc-f261-4598-b12f-caeff47d2f6a",
   "metadata": {},
   "outputs": [],
   "source": [
    "# TriplePandelSPE/JAX stuff\n",
    "from lib.geo import center_track_pos_and_time_based_on_data\n",
    "from lib.network import get_network_eval_v_fn\n",
    "from dom_track_eval import get_eval_network_doms_and_track"
   ]
  },
  {
   "cell_type": "code",
   "execution_count": 36,
   "id": "b0fb709b-fdd4-42ff-b88d-b1ccfb0ce868",
   "metadata": {},
   "outputs": [],
   "source": [
    "def get_neg_c_triple_gamma_llh(eval_network_doms_and_track_fn, n_pulses):\n",
    "    \"\"\"\n",
    "    here would be a smart docstring\n",
    "    \"\"\"\n",
    "\n",
    "    #@jax.jit\n",
    "    def neg_c_triple_gamma_llh(track_direction,\n",
    "                               track_vertex,\n",
    "                               track_time,\n",
    "                               event_data):\n",
    "\n",
    "        # Constant parameters.\n",
    "        sigma = 3.0 # width of gaussian convolution\n",
    "        X_safe = 20.0 # when to stop evaluating negative time residuals in units of sigma\n",
    "        delta = 0.1 # how to combine the three regions that combine approximate and exact evaluation of hyp1f1 (required for convolutions). Small values are faster. Large values are more accurate.\n",
    "\n",
    "\n",
    "        dom_pos = event_data[:, :3]\n",
    "        hit_times = event_data[:, 3:3+n_pulses]\n",
    "        logits, av, bv, geo_time = eval_network_doms_and_track_fn(dom_pos, track_vertex, track_direction)\n",
    "\n",
    "        geo_time = geo_time.reshape((geo_time.shape[0], 1))\n",
    "        mix_probs = jax.nn.softmax(logits)\n",
    "        delay_time = hit_times - (geo_time + track_time)\n",
    "\n",
    "        # Floor on negative time residuals.\n",
    "        # Effectively a floor on the pdf.\n",
    "        # Todo: think about noise.\n",
    "        safe_delay_time = jnp.where(delay_time > -X_safe * sigma, delay_time, -X_safe * sigma)\n",
    "\n",
    "        # re-arrange so that dims are (n_doms, n_pulses, n_mixture_components)\n",
    "        safe_delay_time = jnp.expand_dims(safe_delay_time, 2)\n",
    "        \n",
    "        mix_probs = jnp.expand_dims(mix_probs, 1)\n",
    "        av = jnp.expand_dims(av, 1)\n",
    "        bv = jnp.expand_dims(bv, 1)\n",
    "\n",
    "        y = c_multi_gamma_prob_v(safe_delay_time,\n",
    "                                 mix_probs,\n",
    "                                 av,\n",
    "                                 bv,\n",
    "                                 sigma,\n",
    "                                 delta)\n",
    "        \n",
    "        return -2.0 * jnp.sum(jnp.log(y))\n",
    "\n",
    "    return neg_c_triple_gamma_llh"
   ]
  },
  {
   "cell_type": "code",
   "execution_count": 37,
   "id": "1743ee58-ec06-4094-9a43-8c86db6d3e49",
   "metadata": {},
   "outputs": [],
   "source": [
    "def get_neg_c_triple_gamma_llh_padded(eval_network_doms_and_track_fn, n_pulses):\n",
    "    \"\"\"\n",
    "    here would be a smart docstring\n",
    "    \"\"\"\n",
    "\n",
    "    #@jax.jit\n",
    "    def neg_c_triple_gamma_llh(track_direction,\n",
    "                               track_vertex,\n",
    "                               track_time,\n",
    "                               event_data):\n",
    "\n",
    "        # Constant parameters.\n",
    "        sigma = 3.0 # width of gaussian convolution\n",
    "        X_safe = 20.0 # when to stop evaluating negative time residuals in units of sigma\n",
    "        delta = 0.1 # how to combine the three regions that combine approximate and exact evaluation of hyp1f1 (required for convolutions). Small values are faster. Large values are more accurate.\n",
    "\n",
    "\n",
    "        dom_pos = event_data[:, :3]\n",
    "        hit_times = event_data[:, 3:3+n_pulses]\n",
    "        # treat padded values in time dimension\n",
    "        hit_charges = event_data[:, 3+n_pulses:]\n",
    "        idx_padded_q = hit_charges != 0.0\n",
    "        logits, av, bv, geo_time = eval_network_doms_and_track_fn(dom_pos, track_vertex, track_direction)\n",
    "\n",
    "        # treat padded values for doms dimension\n",
    "        idx_padded = event_data[:, 0] != 0.0\n",
    "        idx_padded_s = idx_padded.reshape((idx_padded.shape[0], 1))\n",
    "        # replace padded values with some computable outputs that don't lead to nan.\n",
    "        logits = jnp.where(idx_padded_s, logits, jnp.ones((1, 3)))\n",
    "        av = jnp.where(idx_padded_s, av, jnp.ones((1, 3))+3.0)\n",
    "        bv = jnp.where(idx_padded_s, bv, jnp.ones((1, 3))*1.e-3)\n",
    "\n",
    "        mix_probs = jax.nn.softmax(logits)\n",
    "\n",
    "        # now prepare for broadcasting over time axis\n",
    "        geo_time = jnp.expand_dims(geo_time, 1)\n",
    "        delay_time = hit_times - (geo_time + track_time)\n",
    "\n",
    "        # Floor on negative time residuals.\n",
    "        # Effectively a floor on the pdf.\n",
    "        # Todo: think about noise.\n",
    "        safe_delay_time = jnp.where(delay_time > -X_safe * sigma, delay_time, -X_safe * sigma)\n",
    "\n",
    "        # re-arrange so that dims are (n_doms, n_pulses, n_mixture_components)\n",
    "        safe_delay_time = jnp.expand_dims(safe_delay_time, 2)\n",
    "        \n",
    "        mix_probs = jnp.expand_dims(mix_probs, 1)\n",
    "        av = jnp.expand_dims(av, 1)\n",
    "        bv = jnp.expand_dims(bv, 1)\n",
    "\n",
    "        y = jnp.where(idx_padded_q, \n",
    "                      jnp.log(c_multi_gamma_prob_v(safe_delay_time,\n",
    "                                             mix_probs,\n",
    "                                             av,\n",
    "                                             bv,\n",
    "                                             sigma,\n",
    "                                             delta)),\n",
    "                      0.0)\n",
    "                      \n",
    "        \n",
    "        return -2.0 * jnp.sum(y)\n",
    "\n",
    "    return neg_c_triple_gamma_llh"
   ]
  },
  {
   "cell_type": "code",
   "execution_count": 38,
   "id": "ea8d6908-aa68-4954-ba8d-fc6e9f23177b",
   "metadata": {},
   "outputs": [],
   "source": [
    "# Get network and eval logic.\n",
    "eval_network_v = get_network_eval_v_fn(bpath='/home/storage/hans/jax_reco/data/network')\n",
    "eval_network_doms_and_track = get_eval_network_doms_and_track(eval_network_v)"
   ]
  },
  {
   "cell_type": "code",
   "execution_count": 39,
   "id": "e426011a-2b59-4bf9-9b45-31132b2c6917",
   "metadata": {},
   "outputs": [],
   "source": [
    "neg_llh = get_neg_c_triple_gamma_llh_padded(eval_network_doms_and_track, n_pulses)"
   ]
  },
  {
   "cell_type": "code",
   "execution_count": 40,
   "id": "7a6b46e3-89ce-4625-b5d3-abf457c737c2",
   "metadata": {},
   "outputs": [
    {
     "name": "stdout",
     "output_type": "stream",
     "text": [
      "original seed vertex: [-1277.51128861 -1390.39564543 -1675.98024553]\n",
      "shifted seed vertex: [ -53.74394146  162.12452256 -233.73599134]\n"
     ]
    }
   ],
   "source": [
    "# Make MCTruth seed.\n",
    "track_pos = jnp.array([meta['muon_pos_x'], meta['muon_pos_y'], meta['muon_pos_z']])\n",
    "track_time = meta['muon_time']\n",
    "track_zenith = meta['muon_zenith']\n",
    "track_azimuth = meta['muon_azimuth']\n",
    "track_src = jnp.array([track_zenith, track_azimuth])\n",
    "\n",
    "print(\"original seed vertex:\", track_pos)\n",
    "centered_track_pos, centered_track_time = center_track_pos_and_time_based_on_data(event_data, track_pos, track_time, track_src)\n",
    "print(\"shifted seed vertex:\", centered_track_pos)"
   ]
  },
  {
   "cell_type": "code",
   "execution_count": 41,
   "id": "6076e030-27bf-4ac6-b77a-89f2865b786c",
   "metadata": {},
   "outputs": [
    {
     "name": "stdout",
     "output_type": "stream",
     "text": [
      "(1, 1)\n",
      "(1, 3)\n"
     ]
    },
    {
     "data": {
      "text/plain": [
       "Array(347.80341404, dtype=float64)"
      ]
     },
     "execution_count": 41,
     "metadata": {},
     "output_type": "execute_result"
    }
   ],
   "source": [
    "neg_llh(track_src, centered_track_pos, centered_track_time, event_data_all)"
   ]
  },
  {
   "cell_type": "code",
   "execution_count": null,
   "id": "144884cc-bb70-4cd0-a616-49146269f406",
   "metadata": {},
   "outputs": [],
   "source": []
  },
  {
   "cell_type": "code",
   "execution_count": null,
   "id": "98086b91-7dca-4d2c-bd98-d296416e0775",
   "metadata": {},
   "outputs": [],
   "source": []
  },
  {
   "cell_type": "code",
   "execution_count": null,
   "id": "730256a3-13e9-4897-a16c-09faefadfe08",
   "metadata": {},
   "outputs": [],
   "source": []
  }
 ],
 "metadata": {
  "kernelspec": {
   "display_name": "Python 3 (ipykernel)",
   "language": "python",
   "name": "python3"
  },
  "language_info": {
   "codemirror_mode": {
    "name": "ipython",
    "version": 3
   },
   "file_extension": ".py",
   "mimetype": "text/x-python",
   "name": "python",
   "nbconvert_exporter": "python",
   "pygments_lexer": "ipython3",
   "version": "3.11.5"
  }
 },
 "nbformat": 4,
 "nbformat_minor": 5
}
