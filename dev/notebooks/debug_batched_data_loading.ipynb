{
 "cells": [
  {
   "cell_type": "code",
   "execution_count": 27,
   "id": "cde3a04b-0cdf-45b0-b570-790b9ca8c4f3",
   "metadata": {},
   "outputs": [
    {
     "name": "stdout",
     "output_type": "stream",
     "text": [
      "['/home/storage2/hans/i3files/21220/ftr/data_ds_21220_from_8000_to_9000_1st_pulse.tfrecord', '/home/storage2/hans/i3files/21220/ftr/data_ds_21220_from_6000_to_7000_1st_pulse.tfrecord', '/home/storage2/hans/i3files/21220/ftr/data_ds_21220_from_7000_to_8000_1st_pulse.tfrecord', '/home/storage2/hans/i3files/21220/ftr/data_ds_21220_from_0_to_1000_1st_pulse.tfrecord', '/home/storage2/hans/i3files/21220/ftr/data_ds_21220_from_4000_to_5000_1st_pulse.tfrecord', '/home/storage2/hans/i3files/21220/ftr/data_ds_21220_from_5000_to_6000_1st_pulse.tfrecord', '/home/storage2/hans/i3files/21220/ftr/data_ds_21220_from_3000_to_4000_1st_pulse.tfrecord', '/home/storage2/hans/i3files/21220/ftr/data_ds_21220_from_1000_to_2000_1st_pulse.tfrecord', '/home/storage2/hans/i3files/21220/ftr/data_ds_21220_from_2000_to_3000_1st_pulse.tfrecord', '/home/storage2/hans/i3files/21220/ftr/data_ds_21220_from_9000_to_10000_1st_pulse.tfrecord', '/home/storage2/hans/i3files/21217/ftr/data_ds_21217_from_22000_to_23000_1st_pulse.tfrecord', '/home/storage2/hans/i3files/21217/ftr/data_ds_21217_from_18000_to_19000_1st_pulse.tfrecord', '/home/storage2/hans/i3files/21217/ftr/data_ds_21217_from_8000_to_9000_1st_pulse.tfrecord', '/home/storage2/hans/i3files/21217/ftr/data_ds_21217_from_14000_to_15000_1st_pulse.tfrecord', '/home/storage2/hans/i3files/21217/ftr/data_ds_21217_from_17000_to_18000_1st_pulse.tfrecord', '/home/storage2/hans/i3files/21217/ftr/data_ds_21217_from_16000_to_17000_1st_pulse.tfrecord', '/home/storage2/hans/i3files/21217/ftr/data_ds_21217_from_1000_to_2000_1st_pulse.tfrecord', '/home/storage2/hans/i3files/21217/ftr/data_ds_21217_from_19000_to_20000_1st_pulse.tfrecord', '/home/storage2/hans/i3files/21217/ftr/data_ds_21217_from_9000_to_10000_1st_pulse.tfrecord', '/home/storage2/hans/i3files/21217/ftr/data_ds_21217_from_11000_to_12000_1st_pulse.tfrecord', '/home/storage2/hans/i3files/21217/ftr/data_ds_21217_from_6000_to_7000_1st_pulse.tfrecord', '/home/storage2/hans/i3files/21217/ftr/data_ds_21217_from_7000_to_8000_1st_pulse.tfrecord', '/home/storage2/hans/i3files/21217/ftr/data_ds_21217_from_5000_to_6000_1st_pulse.tfrecord', '/home/storage2/hans/i3files/21217/ftr/data_ds_21217_from_10000_to_11000_1st_pulse.tfrecord', '/home/storage2/hans/i3files/21217/ftr/data_ds_21217_from_2000_to_3000_1st_pulse.tfrecord', '/home/storage2/hans/i3files/21217/ftr/data_ds_21217_from_3000_to_4000_1st_pulse.tfrecord', '/home/storage2/hans/i3files/21217/ftr/data_ds_21217_from_12000_to_13000_1st_pulse.tfrecord', '/home/storage2/hans/i3files/21217/ftr/data_ds_21217_from_23000_to_24000_1st_pulse.tfrecord', '/home/storage2/hans/i3files/21217/ftr/data_ds_21217_from_20000_to_21000_1st_pulse.tfrecord', '/home/storage2/hans/i3files/21217/ftr/data_ds_21217_from_0_to_1000_1st_pulse.tfrecord', '/home/storage2/hans/i3files/21217/ftr/data_ds_21217_from_15000_to_16000_1st_pulse.tfrecord', '/home/storage2/hans/i3files/21217/ftr/data_ds_21217_from_21000_to_22000_1st_pulse.tfrecord', '/home/storage2/hans/i3files/21217/ftr/data_ds_21217_from_4000_to_5000_1st_pulse.tfrecord', '/home/storage2/hans/i3files/21217/ftr/data_ds_21217_from_13000_to_14000_1st_pulse.tfrecord']\n",
      "34\n"
     ]
    }
   ],
   "source": [
    "import sys, os\n",
    "sys.path.insert(0, \"/home/storage/hans/jax_reco_new\")\n",
    "os.environ['CUDA_VISIBLE_DEVICES'] = '1'\n",
    "\n",
    "import jax.numpy as jnp\n",
    "from jax.scipy import optimize\n",
    "import jax\n",
    "jax.config.update(\"jax_enable_x64\", True)\n",
    "import optimistix as optx\n",
    "\n",
    "import pandas as pd\n",
    "import numpy as np\n",
    "import matplotlib.pyplot as plt\n",
    "\n",
    "from lib.simdata_i3 import I3SimBatchHandlerTFRecord\n",
    "from lib.geo import center_track_pos_and_time_based_on_data_batched_v\n",
    "from lib.experimental_methods import get_clean_pulses_fn_v\n",
    "from lib.network import get_network_eval_v_fn\n",
    "\n",
    "from likelihood_mpe_padded_input_biweight_conv_clip_charge import get_neg_c_triple_gamma_llh\n",
    "from lib.geo import get_xyz_from_zenith_azimuth, __c\n",
    "from dom_track_eval import get_eval_network_doms_and_track as get_eval_network_doms_and_track\n",
    "import time\n",
    "import glob\n",
    "\n",
    "dtype = jnp.float32\n",
    "eval_network_v = get_network_eval_v_fn(bpath='/home/storage/hans/jax_reco/data/network',\n",
    "                                       dtype=dtype)\n",
    "eval_network_doms_and_track = get_eval_network_doms_and_track(eval_network_v, dtype=dtype)\n",
    "\n",
    "# Create padded batches (with different seq length).\n",
    "\n",
    "tfrecord = \"/home/storage2/hans/i3files/21220/ftr/data_ds_21220_from_*_to_*_1st_pulse.tfrecord\"\n",
    "fs = glob.glob(tfrecord)\n",
    "#print(fs, len(fs)) # 3422\n",
    "tfrecord = \"/home/storage2/hans/i3files/21217/ftr/data_ds_21217_from_*_to_*_1st_pulse.tfrecord\"\n",
    "#fs = glob.glob(tfrecord)\n",
    "#print(fs, len(fs)) # 198670\n",
    "fs += glob.glob(tfrecord)\n",
    "\n",
    "print(fs)\n",
    "print(len(fs))\n",
    "\n",
    "batch_maker = I3SimBatchHandlerTFRecord(fs, batch_size=128)\n",
    "batch_iter = batch_maker.get_batch_iterator()"
   ]
  },
  {
   "cell_type": "code",
   "execution_count": 28,
   "id": "df622985-7b35-4bc7-84ab-23db219d017a",
   "metadata": {},
   "outputs": [
    {
     "name": "stdout",
     "output_type": "stream",
     "text": [
      "processing batch with shape (19622, 44, 5)\n",
      "processing batch with shape (26382, 32, 5)\n",
      "processing batch with shape (35470, 24, 5)\n",
      "processing batch with shape (14594, 60, 5)\n",
      "processing batch with shape (23538, 17, 5)\n",
      "processing batch with shape (17784, 24, 5)\n",
      "processing batch with shape (19751, 32, 5)\n",
      "processing batch with shape (14986, 44, 5)\n",
      "processing batch with shape (3521, 60, 5)\n",
      "processing batch with shape (9856, 81, 5)\n",
      "processing batch with shape (6037, 109, 5)\n",
      "processing batch with shape (4005, 147, 5)\n",
      "processing batch with shape (2687, 198, 5)\n",
      "processing batch with shape (1731, 266, 5)\n",
      "processing batch with shape (1140, 359, 5)\n",
      "processing batch with shape (627, 483, 5)\n",
      "processing batch with shape (279, 650, 5)\n",
      "processing batch with shape (76, 874, 5)\n",
      "processing batch with shape (6, 1176, 5)\n"
     ]
    },
    {
     "ename": "StopIteration",
     "evalue": "",
     "output_type": "error",
     "traceback": [
      "\u001b[0;31m---------------------------------------------------------------------------\u001b[0m",
      "\u001b[0;31mOutOfRangeError\u001b[0m                           Traceback (most recent call last)",
      "File \u001b[0;32m~/.local/share/virtualenvs/py3_jax_latest-mr9UFGRS/lib/python3.11/site-packages/tensorflow/python/data/ops/iterator_ops.py:826\u001b[0m, in \u001b[0;36mOwnedIterator.__next__\u001b[0;34m(self)\u001b[0m\n\u001b[1;32m    825\u001b[0m \u001b[38;5;28;01mtry\u001b[39;00m:\n\u001b[0;32m--> 826\u001b[0m   \u001b[38;5;28;01mreturn\u001b[39;00m \u001b[38;5;28;43mself\u001b[39;49m\u001b[38;5;241;43m.\u001b[39;49m\u001b[43m_next_internal\u001b[49m\u001b[43m(\u001b[49m\u001b[43m)\u001b[49m\n\u001b[1;32m    827\u001b[0m \u001b[38;5;28;01mexcept\u001b[39;00m errors\u001b[38;5;241m.\u001b[39mOutOfRangeError:\n",
      "File \u001b[0;32m~/.local/share/virtualenvs/py3_jax_latest-mr9UFGRS/lib/python3.11/site-packages/tensorflow/python/data/ops/iterator_ops.py:776\u001b[0m, in \u001b[0;36mOwnedIterator._next_internal\u001b[0;34m(self)\u001b[0m\n\u001b[1;32m    775\u001b[0m \u001b[38;5;28;01mwith\u001b[39;00m context\u001b[38;5;241m.\u001b[39mexecution_mode(context\u001b[38;5;241m.\u001b[39mSYNC):\n\u001b[0;32m--> 776\u001b[0m   ret \u001b[38;5;241m=\u001b[39m \u001b[43mgen_dataset_ops\u001b[49m\u001b[38;5;241;43m.\u001b[39;49m\u001b[43miterator_get_next\u001b[49m\u001b[43m(\u001b[49m\n\u001b[1;32m    777\u001b[0m \u001b[43m      \u001b[49m\u001b[38;5;28;43mself\u001b[39;49m\u001b[38;5;241;43m.\u001b[39;49m\u001b[43m_iterator_resource\u001b[49m\u001b[43m,\u001b[49m\n\u001b[1;32m    778\u001b[0m \u001b[43m      \u001b[49m\u001b[43moutput_types\u001b[49m\u001b[38;5;241;43m=\u001b[39;49m\u001b[38;5;28;43mself\u001b[39;49m\u001b[38;5;241;43m.\u001b[39;49m\u001b[43m_flat_output_types\u001b[49m\u001b[43m,\u001b[49m\n\u001b[1;32m    779\u001b[0m \u001b[43m      \u001b[49m\u001b[43moutput_shapes\u001b[49m\u001b[38;5;241;43m=\u001b[39;49m\u001b[38;5;28;43mself\u001b[39;49m\u001b[38;5;241;43m.\u001b[39;49m\u001b[43m_flat_output_shapes\u001b[49m\u001b[43m)\u001b[49m\n\u001b[1;32m    781\u001b[0m   \u001b[38;5;28;01mtry\u001b[39;00m:\n\u001b[1;32m    782\u001b[0m     \u001b[38;5;66;03m# Fast path for the case `self._structure` is not a nested structure.\u001b[39;00m\n",
      "File \u001b[0;32m~/.local/share/virtualenvs/py3_jax_latest-mr9UFGRS/lib/python3.11/site-packages/tensorflow/python/ops/gen_dataset_ops.py:3086\u001b[0m, in \u001b[0;36miterator_get_next\u001b[0;34m(iterator, output_types, output_shapes, name)\u001b[0m\n\u001b[1;32m   3085\u001b[0m \u001b[38;5;28;01mexcept\u001b[39;00m _core\u001b[38;5;241m.\u001b[39m_NotOkStatusException \u001b[38;5;28;01mas\u001b[39;00m e:\n\u001b[0;32m-> 3086\u001b[0m   \u001b[43m_ops\u001b[49m\u001b[38;5;241;43m.\u001b[39;49m\u001b[43mraise_from_not_ok_status\u001b[49m\u001b[43m(\u001b[49m\u001b[43me\u001b[49m\u001b[43m,\u001b[49m\u001b[43m \u001b[49m\u001b[43mname\u001b[49m\u001b[43m)\u001b[49m\n\u001b[1;32m   3087\u001b[0m \u001b[38;5;28;01mexcept\u001b[39;00m _core\u001b[38;5;241m.\u001b[39m_FallbackException:\n",
      "File \u001b[0;32m~/.local/share/virtualenvs/py3_jax_latest-mr9UFGRS/lib/python3.11/site-packages/tensorflow/python/framework/ops.py:5983\u001b[0m, in \u001b[0;36mraise_from_not_ok_status\u001b[0;34m(e, name)\u001b[0m\n\u001b[1;32m   5982\u001b[0m e\u001b[38;5;241m.\u001b[39mmessage \u001b[38;5;241m+\u001b[39m\u001b[38;5;241m=\u001b[39m (\u001b[38;5;124m\"\u001b[39m\u001b[38;5;124m name: \u001b[39m\u001b[38;5;124m\"\u001b[39m \u001b[38;5;241m+\u001b[39m \u001b[38;5;28mstr\u001b[39m(name \u001b[38;5;28;01mif\u001b[39;00m name \u001b[38;5;129;01mis\u001b[39;00m \u001b[38;5;129;01mnot\u001b[39;00m \u001b[38;5;28;01mNone\u001b[39;00m \u001b[38;5;28;01melse\u001b[39;00m \u001b[38;5;124m\"\u001b[39m\u001b[38;5;124m\"\u001b[39m))\n\u001b[0;32m-> 5983\u001b[0m \u001b[38;5;28;01mraise\u001b[39;00m core\u001b[38;5;241m.\u001b[39m_status_to_exception(e) \u001b[38;5;28;01mfrom\u001b[39;00m \u001b[38;5;28;01mNone\u001b[39;00m\n",
      "\u001b[0;31mOutOfRangeError\u001b[0m: {{function_node __wrapped__IteratorGetNext_output_types_2_device_/job:localhost/replica:0/task:0/device:CPU:0}} End of sequence [Op:IteratorGetNext] name: ",
      "\nDuring handling of the above exception, another exception occurred:\n",
      "\u001b[0;31mStopIteration\u001b[0m                             Traceback (most recent call last)",
      "Cell \u001b[0;32mIn[28], line 3\u001b[0m\n\u001b[1;32m      1\u001b[0m n_events \u001b[38;5;241m=\u001b[39m \u001b[38;5;241m0\u001b[39m\n\u001b[1;32m      2\u001b[0m \u001b[38;5;28;01mfor\u001b[39;00m i \u001b[38;5;129;01min\u001b[39;00m \u001b[38;5;28mrange\u001b[39m(\u001b[38;5;241m100\u001b[39m):\n\u001b[0;32m----> 3\u001b[0m         data, mctruth \u001b[38;5;241m=\u001b[39m \u001b[43mbatch_iter\u001b[49m\u001b[38;5;241;43m.\u001b[39;49m\u001b[43mnext\u001b[49m\u001b[43m(\u001b[49m\u001b[43m)\u001b[49m \u001b[38;5;66;03m# [Nev, Ndom, Nobs], [Nev, Naux]\u001b[39;00m\n\u001b[1;32m      4\u001b[0m         \u001b[38;5;28mprint\u001b[39m(\u001b[38;5;124mf\u001b[39m\u001b[38;5;124m\"\u001b[39m\u001b[38;5;124mprocessing batch with shape (\u001b[39m\u001b[38;5;132;01m{\u001b[39;00mdata\u001b[38;5;241m.\u001b[39mshape[\u001b[38;5;241m0\u001b[39m]\u001b[38;5;132;01m}\u001b[39;00m\u001b[38;5;124m, \u001b[39m\u001b[38;5;132;01m{\u001b[39;00mdata\u001b[38;5;241m.\u001b[39mshape[\u001b[38;5;241m1\u001b[39m]\u001b[38;5;132;01m}\u001b[39;00m\u001b[38;5;124m, \u001b[39m\u001b[38;5;132;01m{\u001b[39;00mdata\u001b[38;5;241m.\u001b[39mshape[\u001b[38;5;241m2\u001b[39m]\u001b[38;5;132;01m}\u001b[39;00m\u001b[38;5;124m)\u001b[39m\u001b[38;5;124m\"\u001b[39m)\n\u001b[1;32m      5\u001b[0m         n_events \u001b[38;5;241m+\u001b[39m\u001b[38;5;241m=\u001b[39m data\u001b[38;5;241m.\u001b[39mshape[\u001b[38;5;241m0\u001b[39m]\n",
      "File \u001b[0;32m~/.local/share/virtualenvs/py3_jax_latest-mr9UFGRS/lib/python3.11/site-packages/tensorflow/python/data/ops/iterator_ops.py:754\u001b[0m, in \u001b[0;36mOwnedIterator.next\u001b[0;34m(self)\u001b[0m\n\u001b[1;32m    753\u001b[0m \u001b[38;5;28;01mdef\u001b[39;00m \u001b[38;5;21mnext\u001b[39m(\u001b[38;5;28mself\u001b[39m):  \u001b[38;5;66;03m# For Python 2 compatibility\u001b[39;00m\n\u001b[0;32m--> 754\u001b[0m   \u001b[38;5;28;01mreturn\u001b[39;00m \u001b[38;5;28;43mself\u001b[39;49m\u001b[38;5;241;43m.\u001b[39;49m\u001b[38;5;21;43m__next__\u001b[39;49m\u001b[43m(\u001b[49m\u001b[43m)\u001b[49m\n",
      "File \u001b[0;32m~/.local/share/virtualenvs/py3_jax_latest-mr9UFGRS/lib/python3.11/site-packages/tensorflow/python/data/ops/iterator_ops.py:828\u001b[0m, in \u001b[0;36mOwnedIterator.__next__\u001b[0;34m(self)\u001b[0m\n\u001b[1;32m    826\u001b[0m   \u001b[38;5;28;01mreturn\u001b[39;00m \u001b[38;5;28mself\u001b[39m\u001b[38;5;241m.\u001b[39m_next_internal()\n\u001b[1;32m    827\u001b[0m \u001b[38;5;28;01mexcept\u001b[39;00m errors\u001b[38;5;241m.\u001b[39mOutOfRangeError:\n\u001b[0;32m--> 828\u001b[0m   \u001b[38;5;28;01mraise\u001b[39;00m \u001b[38;5;167;01mStopIteration\u001b[39;00m\n",
      "\u001b[0;31mStopIteration\u001b[0m: "
     ]
    }
   ],
   "source": [
    "n_events = 0\n",
    "for i in range(100):\n",
    "        data, mctruth = batch_iter.next() # [Nev, Ndom, Nobs], [Nev, Naux]\n",
    "        print(f\"processing batch with shape ({data.shape[0]}, {data.shape[1]}, {data.shape[2]})\")\n",
    "        n_events += data.shape[0]"
   ]
  },
  {
   "cell_type": "code",
   "execution_count": 29,
   "id": "cdfa50fb-b0d5-40cb-9f71-a49036b2c095",
   "metadata": {},
   "outputs": [
    {
     "data": {
      "text/plain": [
       "202092"
      ]
     },
     "execution_count": 29,
     "metadata": {},
     "output_type": "execute_result"
    }
   ],
   "source": [
    "n_events"
   ]
  },
  {
   "cell_type": "code",
   "execution_count": null,
   "id": "e776820d-a258-4deb-862e-b26270662a70",
   "metadata": {},
   "outputs": [],
   "source": []
  }
 ],
 "metadata": {
  "kernelspec": {
   "display_name": "Python 3 (ipykernel)",
   "language": "python",
   "name": "python3"
  },
  "language_info": {
   "codemirror_mode": {
    "name": "ipython",
    "version": 3
   },
   "file_extension": ".py",
   "mimetype": "text/x-python",
   "name": "python",
   "nbconvert_exporter": "python",
   "pygments_lexer": "ipython3",
   "version": "3.11.5"
  }
 },
 "nbformat": 4,
 "nbformat_minor": 5
}
