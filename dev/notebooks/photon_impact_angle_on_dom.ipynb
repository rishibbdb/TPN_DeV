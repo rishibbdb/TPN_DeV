{
 "cells": [
  {
   "cell_type": "code",
   "execution_count": 1,
   "id": "e6057f8e",
   "metadata": {},
   "outputs": [],
   "source": [
    "%load_ext autoreload\n",
    "%autoreload 2"
   ]
  },
  {
   "cell_type": "code",
   "execution_count": 2,
   "id": "65b2c28c",
   "metadata": {},
   "outputs": [],
   "source": [
    "import jax.numpy as jnp\n",
    "import jax\n",
    "jax.config.update(\"jax_enable_x64\", True)\n",
    "\n",
    "import numpy as np\n",
    "\n",
    "import sys\n",
    "sys.path.insert(0, '/home/storage/hans/jax_reco_gupta_corrections/')\n",
    "\n",
    "from lib.geo import __sin_theta_cherenkov, __tan_theta_cherenkov, get_xyz_from_zenith_azimuth"
   ]
  },
  {
   "cell_type": "code",
   "execution_count": 3,
   "id": "81e84bb9",
   "metadata": {},
   "outputs": [],
   "source": [
    "def impact_angle_cos_eta(dom_pos, track_pos, track_dir):\n",
    "    \"\"\"\n",
    "    dom_pos: 1D jax array with 3 components [x, y, z]\n",
    "    track_pos: 1D jax array with 3 components [x, y, z]\n",
    "    track_dir: 1D jax array with 3 components [dir_x, dir_y, dir_z]\n",
    "    \"\"\"\n",
    "    # vector from vertex to dom\n",
    "    v_a = dom_pos - track_pos\n",
    "\n",
    "    # distance muon travels from track vertex to point of closest approach.\n",
    "    ds = jnp.dot(v_a, track_dir)\n",
    "    print(\"distance the muon travels:\", ds)\n",
    "\n",
    "    # a vector parallel track with length ds\n",
    "    ds_v = ds * track_dir\n",
    "\n",
    "    # vector closest approach position to dom yields closest approach distance\n",
    "    v_d = v_a - ds_v\n",
    "    dc = jnp.linalg.norm(v_d)\n",
    "    print(\"closest approach distance:\", dc)\n",
    "\n",
    "    # distance that the photon travels\n",
    "    dt = dc / __sin_theta_cherenkov\n",
    "    print(\"the photon travels:\", dt)\n",
    "\n",
    "    # distance emission point to closest approach point\n",
    "    dx = dc / __tan_theta_cherenkov\n",
    "    \n",
    "    # distance vertex to emission point\n",
    "    dy = ds - dx\n",
    "    print(\"distance vertex to emission point:\", dy)\n",
    "    \n",
    "    # z component of emission point\n",
    "    z_emission = track_pos[2] + dy * track_dir[2] \n",
    "    print(\"z component of emission point:\", z_emission)\n",
    "    \n",
    "    # cos eta\n",
    "    return (dom_pos[2] - z_emission) / dt\n"
   ]
  },
  {
   "cell_type": "code",
   "execution_count": 4,
   "id": "6b5e644d",
   "metadata": {},
   "outputs": [
    {
     "name": "stdout",
     "output_type": "stream",
     "text": [
      "[-0.49969541 -0.01744975 -0.8660254 ]\n"
     ]
    }
   ],
   "source": [
    "track_pos = np.array([-10., 10., 200.])\n",
    "track_zenith = np.deg2rad(30)\n",
    "track_azimuth = np.deg2rad(2.)\n",
    "dom_pos = np.array([-10, 10, -150])\n",
    "\n",
    "track_dir = get_xyz_from_zenith_azimuth(jnp.array([track_zenith, track_azimuth]))\n",
    "print(track_dir)"
   ]
  },
  {
   "cell_type": "code",
   "execution_count": 5,
   "id": "a59da590",
   "metadata": {},
   "outputs": [
    {
     "name": "stdout",
     "output_type": "stream",
     "text": [
      "distance the muon travels: 303.10889132455355\n",
      "closest approach distance: 174.99999999999997\n",
      "the photon travels: 271.4912523387105\n",
      "distance vertex to emission point: 95.54564771807725\n",
      "z component of emission point: 117.25504185510641\n",
      "-0.9843965120529222 169.86520877746315\n"
     ]
    }
   ],
   "source": [
    "cos_eta = impact_angle_cos_eta(dom_pos, track_pos, track_dir)\n",
    "print(cos_eta, np.rad2deg(np.arccos(cos_eta)))"
   ]
  },
  {
   "cell_type": "code",
   "execution_count": 6,
   "id": "30d3f375",
   "metadata": {},
   "outputs": [],
   "source": [
    "from lib.geo import impact_angle_cos_eta"
   ]
  },
  {
   "cell_type": "code",
   "execution_count": 7,
   "id": "d48a968e",
   "metadata": {},
   "outputs": [
    {
     "name": "stdout",
     "output_type": "stream",
     "text": [
      "distance the muon travels: 303.10889132455355\n",
      "closest approach distance: 174.99999999999997\n",
      "the photon travels: 271.4912523387105\n",
      "distance vertex to emission point: 95.54564771807725\n",
      "z component of emission point: 117.25504185510641\n",
      "-0.9843965120529222 169.86520877746315\n"
     ]
    }
   ],
   "source": [
    "cos_eta = impact_angle_cos_eta(dom_pos, track_pos, track_dir)\n",
    "print(cos_eta, np.rad2deg(np.arccos(cos_eta)))"
   ]
  },
  {
   "cell_type": "code",
   "execution_count": null,
   "id": "a2d3b8c7",
   "metadata": {},
   "outputs": [],
   "source": []
  }
 ],
 "metadata": {
  "kernelspec": {
   "display_name": "Python 3 (ipykernel)",
   "language": "python",
   "name": "python3"
  },
  "language_info": {
   "codemirror_mode": {
    "name": "ipython",
    "version": 3
   },
   "file_extension": ".py",
   "mimetype": "text/x-python",
   "name": "python",
   "nbconvert_exporter": "python",
   "pygments_lexer": "ipython3",
   "version": "3.11.5"
  }
 },
 "nbformat": 4,
 "nbformat_minor": 5
}
