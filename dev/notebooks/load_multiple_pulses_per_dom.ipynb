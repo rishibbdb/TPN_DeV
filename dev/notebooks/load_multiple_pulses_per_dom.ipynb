{
 "cells": [
  {
   "cell_type": "code",
   "execution_count": 1,
   "id": "74bcbce5-915d-4f0f-a55c-4f66a340687a",
   "metadata": {},
   "outputs": [],
   "source": [
    "import pandas as pd\n",
    "import sys, os\n",
    "import numpy as np\n",
    "\n",
    "sys.path.insert(0, \"/home/storage/hans/jax_reco_new\")"
   ]
  },
  {
   "cell_type": "code",
   "execution_count": 2,
   "id": "e7c815d3-8833-4b31-b2d4-c8c1566d6030",
   "metadata": {},
   "outputs": [],
   "source": [
    "from lib.simdata_i3 import I3SimHandler"
   ]
  },
  {
   "cell_type": "code",
   "execution_count": 3,
   "id": "32f8aca3-ee6b-4ff2-805d-92aaa9f1d4d7",
   "metadata": {},
   "outputs": [
    {
     "name": "stdout",
     "output_type": "stream",
     "text": [
      "muon energy: 2.1 TeV\n"
     ]
    }
   ],
   "source": [
    "# Get an IceCube event.\n",
    "\n",
    "event_index = 0\n",
    "bp = '/home/storage2/hans/i3files/21217'\n",
    "sim_handler = I3SimHandler(os.path.join(bp, 'meta_ds_21217_from_35000_to_53530.ftr'),\n",
    "                              os.path.join(bp, 'pulses_ds_21217_from_35000_to_53530.ftr'),\n",
    "                              '/home/storage/hans/jax_reco/data/icecube/detector_geometry.csv')\n",
    "\n",
    "meta, pulses = sim_handler.get_event_data(event_index)\n",
    "print(f\"muon energy: {meta['muon_energy_at_detector']/1.e3:.1f} TeV\")"
   ]
  },
  {
   "cell_type": "code",
   "execution_count": 119,
   "id": "63df7ebe-a6d5-4dc7-8cea-e4cdff53e4c9",
   "metadata": {},
   "outputs": [],
   "source": [
    "import itertools\n",
    "\n",
    "def padding(row, n_pulses):\n",
    "    pad_vals = [0.0] * (n_pulses - len(row))\n",
    "    return [x for x in itertools.chain(row, pad_vals)]\n",
    "    \n",
    "def get_per_dom_summary_extended(meta: pd.DataFrame, \n",
    "                                 pulses: pd.DataFrame, \n",
    "                                 geo: pd.DataFrame,\n",
    "                                 n_pulses: int) -> np.ndarray:\n",
    "    \n",
    "    pulses_sorted = pulses.sort_values([\"sensor_id\", \"time\"]).groupby(\"sensor_id\").head(n_pulses)\n",
    "    sensors = pulses_sorted['sensor_id'].unique()\n",
    "    dom_locations = sim_handler.geo.iloc[sensors][[\"x\", \"y\", \"z\"]].to_numpy()\n",
    "    df = pulses_sorted[['sensor_id', 'time', 'charge']].groupby('sensor_id').agg(list).reset_index()\n",
    "\n",
    "    padded_time = df['time'].apply(lambda row: padding(row, n_pulses)).explode().to_numpy()\n",
    "    padded_time = np.array(padded_time.reshape((len(sensors), n_pulses))).astype(float)\n",
    "\n",
    "    padded_charge = df['charge'].apply(lambda row: padding(row, n_pulses)).explode().to_numpy()\n",
    "    padded_charge = np.array(padded_charge.reshape((len(sensors), n_pulses))).astype(float)\n",
    "\n",
    "    return np.concatenate([dom_locations, padded_time, padded_charge], axis=1)\n",
    "    "
   ]
  },
  {
   "cell_type": "code",
   "execution_count": 122,
   "id": "565e4b44-b780-4634-83ac-01324eac28ec",
   "metadata": {},
   "outputs": [],
   "source": [
    "data = get_per_dom_summary_extended(meta, pulses, sim_handler.geo, 4)"
   ]
  },
  {
   "cell_type": "code",
   "execution_count": 123,
   "id": "58e153b5-274d-4b62-b38f-d68ab3eae45f",
   "metadata": {},
   "outputs": [
    {
     "name": "stdout",
     "output_type": "stream",
     "text": [
      "(29, 11)\n"
     ]
    }
   ],
   "source": [
    "print(data.shape)"
   ]
  },
  {
   "cell_type": "code",
   "execution_count": 39,
   "id": "884b9009-03a4-4012-bbab-e8831dcb7409",
   "metadata": {},
   "outputs": [
    {
     "name": "stdout",
     "output_type": "stream",
     "text": [
      "        event_id  sensor_id     time  charge  is_HLC\n",
      "0   2.121703e+09     1436.0  11191.0   0.975     1.0\n",
      "1   2.121703e+09     1438.0   9955.0   0.875     1.0\n",
      "2   2.121703e+09     1438.0  11212.0   0.975     1.0\n",
      "3   2.121703e+09     1439.0   9887.0   1.025     1.0\n",
      "4   2.121703e+09     1439.0  10634.0   0.875     1.0\n",
      "5   2.121703e+09     1974.0  10276.0   1.025     0.0\n",
      "6   2.121703e+09     2036.0  10153.0   0.875     1.0\n",
      "7   2.121703e+09     2037.0  10744.0   1.125     1.0\n",
      "8   2.121703e+09     2039.0  10150.0   0.725     1.0\n",
      "9   2.121703e+09     2569.0  10908.0   0.425     1.0\n",
      "10  2.121703e+09     2569.0  11079.0   1.275     1.0\n",
      "11  2.121703e+09     2570.0  10760.0   0.825     1.0\n",
      "12  2.121703e+09     2624.0  11195.0   1.025     0.0\n",
      "13  2.121703e+09     2628.0  10741.0   1.275     1.0\n",
      "14  2.121703e+09     2628.0  11386.0   0.875     1.0\n",
      "15  2.121703e+09     2629.0  10592.0   1.825     1.0\n",
      "16  2.121703e+09     2629.0  10596.0   1.525     1.0\n",
      "17  2.121703e+09     2629.0  10604.0   0.675     1.0\n",
      "18  2.121703e+09     2630.0  10535.0   1.525     1.0\n",
      "19  2.121703e+09     2630.0  10555.0   3.075     1.0\n",
      "20  2.121703e+09     2630.0  10564.0   1.625     1.0\n",
      "21  2.121703e+09     2630.0  10577.0   1.925     1.0\n",
      "22  2.121703e+09     2630.0  10609.0   0.125     1.0\n",
      "23  2.121703e+09     2631.0  10529.0   1.075     1.0\n",
      "24  2.121703e+09     2631.0  10530.0   2.275     1.0\n",
      "25  2.121703e+09     2631.0  10541.0   0.925     1.0\n",
      "26  2.121703e+09     2631.0  10547.0   0.325     1.0\n",
      "27  2.121703e+09     2632.0  10826.0   0.975     1.0\n",
      "28  2.121703e+09     2632.0  11017.0   0.475     1.0\n",
      "29  2.121703e+09     2687.0  11231.0   0.525     0.0\n",
      "30  2.121703e+09     3223.0  11605.0   1.275     0.0\n",
      "31  2.121703e+09     3280.0  11605.0   0.775     1.0\n",
      "32  2.121703e+09     3281.0  11528.0   1.325     1.0\n",
      "33  2.121703e+09     3814.0  12409.0   0.375     0.0\n",
      "34  2.121703e+09     3817.0  11896.0   1.925     1.0\n",
      "35  2.121703e+09     3817.0  11903.0   0.825     1.0\n",
      "36  2.121703e+09     3817.0  11922.0   2.225     1.0\n",
      "37  2.121703e+09     3817.0  12042.0   1.075     1.0\n",
      "38  2.121703e+09     3818.0  11952.0   0.875     1.0\n",
      "39  2.121703e+09     3819.0  12015.0   0.525     1.0\n",
      "40  2.121703e+09     3869.0  13220.0   0.625     0.0\n",
      "41  2.121703e+09     4227.0  13935.0   1.175     0.0\n",
      "42  2.121703e+09     4288.0  12888.0   0.475     1.0\n",
      "43  2.121703e+09     4290.0  12555.0   0.625     1.0\n",
      "44  2.121703e+09     4290.0  13291.0   1.175     1.0\n",
      "45  2.121703e+09     4292.0  13247.0   1.275     1.0\n",
      "46  2.121703e+09     4349.0  13107.0   1.175     0.0\n"
     ]
    }
   ],
   "source": [
    "print(pulses)"
   ]
  },
  {
   "cell_type": "code",
   "execution_count": 110,
   "id": "7eb344e2-0222-4d23-b89e-2981dbf973c9",
   "metadata": {},
   "outputs": [],
   "source": [
    "n_pulses = 2\n",
    "pulses_sorted = pulses.sort_values([\"sensor_id\", \"time\"]).groupby(\"sensor_id\").head(n_pulses)"
   ]
  },
  {
   "cell_type": "code",
   "execution_count": 111,
   "id": "22893dfa-7c85-43b7-9580-fd62ced2cf00",
   "metadata": {},
   "outputs": [],
   "source": [
    "sensors = pulses_sorted['sensor_id'].unique()"
   ]
  },
  {
   "cell_type": "code",
   "execution_count": 112,
   "id": "01525d1b-a4a1-44d7-be9e-81feb3af164b",
   "metadata": {},
   "outputs": [],
   "source": [
    "dom_locations = sim_handler.geo.iloc[sensors][[\"x\", \"y\", \"z\"]].to_numpy()"
   ]
  },
  {
   "cell_type": "code",
   "execution_count": 113,
   "id": "e5681754-2568-4732-bf7e-607def944e4a",
   "metadata": {},
   "outputs": [],
   "source": [
    "df = pulses_sorted[['sensor_id', 'time', 'charge']].groupby('sensor_id').agg(list).reset_index()"
   ]
  },
  {
   "cell_type": "code",
   "execution_count": 115,
   "id": "de191bde-ca5f-4f81-9033-02a708b63667",
   "metadata": {},
   "outputs": [],
   "source": [
    "import itertools\n",
    "\n",
    "def padding(row, n_pulses):\n",
    "    pad_vals = [0.0] * (n_pulses - len(row))\n",
    "    return [x for x in itertools.chain(row, pad_vals)]\n",
    "    "
   ]
  },
  {
   "cell_type": "code",
   "execution_count": 99,
   "id": "8ab6ecc7-59a3-4b29-b687-dfdfd9df3ecc",
   "metadata": {},
   "outputs": [],
   "source": [
    "padded_time = df['time'].apply(lambda row: padding(row, n_pulses)).explode().to_numpy()\n",
    "padded_time = np.array(padded_time.reshape((len(sensors), n_pulses))).astype(float)\n"
   ]
  },
  {
   "cell_type": "code",
   "execution_count": 100,
   "id": "b0cef0af-4f86-4a48-b1f5-8ba57759a951",
   "metadata": {},
   "outputs": [],
   "source": [
    "padded_charge = df['charge'].apply(lambda row: padding(row, n_pulses)).explode().to_numpy()\n",
    "padded_charge = np.array(padded_charge.reshape((len(sensors), n_pulses))).astype(float)"
   ]
  },
  {
   "cell_type": "code",
   "execution_count": 101,
   "id": "f0f4df0a-957b-4634-b2e6-49ab31189204",
   "metadata": {},
   "outputs": [
    {
     "data": {
      "text/plain": [
       "array([[-245.65, -190.49, -451.07],\n",
       "       [-245.65, -190.49, -484.99],\n",
       "       [-245.65, -190.49, -502.01],\n",
       "       [-324.39,  -93.43, -418.99],\n",
       "       [-200.55,  -74.03, -429.74],\n",
       "       [-200.55,  -74.03, -446.76],\n",
       "       [-200.55,  -74.03, -480.8 ],\n",
       "       [-279.53,   23.17, -331.41],\n",
       "       [-279.53,   23.17, -348.43],\n",
       "       [-156.23,   43.37, -248.08],\n",
       "       [-156.23,   43.37, -316.16],\n",
       "       [-156.23,   43.37, -333.18],\n",
       "       [-156.23,   43.37, -350.2 ],\n",
       "       [-156.23,   43.37, -367.22],\n",
       "       [-156.23,   43.37, -384.24],\n",
       "       [ -32.96,   62.44, -304.16],\n",
       "       [-111.51,  159.98, -231.36],\n",
       "       [  11.87,  179.19, -178.49],\n",
       "       [  11.87,  179.19, -195.51],\n",
       "       [  54.26,  292.97,  -54.15],\n",
       "       [  54.26,  292.97, -105.21],\n",
       "       [  54.26,  292.97, -122.23],\n",
       "       [  54.26,  292.97, -139.25],\n",
       "       [ 174.47,  315.54,   19.14],\n",
       "       [ -21.97,  393.24,   40.25],\n",
       "       [ 101.04,  412.79,   27.83],\n",
       "       [ 101.04,  412.79,   -6.21],\n",
       "       [ 101.04,  412.79,  -40.25],\n",
       "       [ 224.58,  432.35,    3.46]])"
      ]
     },
     "execution_count": 101,
     "metadata": {},
     "output_type": "execute_result"
    }
   ],
   "source": [
    "new_data"
   ]
  },
  {
   "cell_type": "code",
   "execution_count": 102,
   "id": "0dfa8a7c-40e4-4cfb-8781-b2af88b9cb64",
   "metadata": {},
   "outputs": [
    {
     "data": {
      "text/plain": [
       "array([[0.97500002, 0.        , 0.        , 0.        ],\n",
       "       [0.875     , 0.97500002, 0.        , 0.        ],\n",
       "       [1.02499998, 0.875     , 0.        , 0.        ],\n",
       "       [1.02499998, 0.        , 0.        , 0.        ],\n",
       "       [0.875     , 0.        , 0.        , 0.        ],\n",
       "       [1.125     , 0.        , 0.        , 0.        ],\n",
       "       [0.72500002, 0.        , 0.        , 0.        ],\n",
       "       [0.42500001, 1.27499998, 0.        , 0.        ],\n",
       "       [0.82499999, 0.        , 0.        , 0.        ],\n",
       "       [1.02499998, 0.        , 0.        , 0.        ],\n",
       "       [1.27499998, 0.875     , 0.        , 0.        ],\n",
       "       [1.82500005, 1.52499998, 0.67500001, 0.        ],\n",
       "       [1.52499998, 3.07500005, 1.625     , 1.92499995],\n",
       "       [1.07500005, 2.2750001 , 0.92500001, 0.32499999],\n",
       "       [0.97500002, 0.47499999, 0.        , 0.        ],\n",
       "       [0.52499998, 0.        , 0.        , 0.        ],\n",
       "       [1.27499998, 0.        , 0.        , 0.        ],\n",
       "       [0.77499998, 0.        , 0.        , 0.        ],\n",
       "       [1.32500005, 0.        , 0.        , 0.        ],\n",
       "       [0.375     , 0.        , 0.        , 0.        ],\n",
       "       [1.92499995, 0.82499999, 2.2249999 , 1.07500005],\n",
       "       [0.875     , 0.        , 0.        , 0.        ],\n",
       "       [0.52499998, 0.        , 0.        , 0.        ],\n",
       "       [0.625     , 0.        , 0.        , 0.        ],\n",
       "       [1.17499995, 0.        , 0.        , 0.        ],\n",
       "       [0.47499999, 0.        , 0.        , 0.        ],\n",
       "       [0.625     , 1.17499995, 0.        , 0.        ],\n",
       "       [1.27499998, 0.        , 0.        , 0.        ],\n",
       "       [1.17499995, 0.        , 0.        , 0.        ]])"
      ]
     },
     "execution_count": 102,
     "metadata": {},
     "output_type": "execute_result"
    }
   ],
   "source": [
    "padded_charge"
   ]
  },
  {
   "cell_type": "code",
   "execution_count": 103,
   "id": "e53e0572-b1fd-44e6-b125-588bfae1dae7",
   "metadata": {},
   "outputs": [],
   "source": [
    "data_arr = np.concatenate([dom_locations, padded_time, padded_charge], axis=1)"
   ]
  },
  {
   "cell_type": "code",
   "execution_count": 104,
   "id": "aa547f76-79f7-4508-b87c-c1fe98c009ba",
   "metadata": {},
   "outputs": [
    {
     "data": {
      "text/plain": [
       "(29, 11)"
      ]
     },
     "execution_count": 104,
     "metadata": {},
     "output_type": "execute_result"
    }
   ],
   "source": [
    "data_arr.shape"
   ]
  },
  {
   "cell_type": "code",
   "execution_count": 114,
   "id": "12ec0a34-d357-4e1e-962d-b2f248b1749b",
   "metadata": {},
   "outputs": [
    {
     "data": {
      "text/plain": [
       "0                         [0.9750000238418579]\n",
       "1                  [0.875, 0.9750000238418579]\n",
       "2                   [1.024999976158142, 0.875]\n",
       "3                          [1.024999976158142]\n",
       "4                                      [0.875]\n",
       "5                                      [1.125]\n",
       "6                         [0.7250000238418579]\n",
       "7     [0.42500001192092896, 1.274999976158142]\n",
       "8                          [0.824999988079071]\n",
       "9                          [1.024999976158142]\n",
       "10                  [1.274999976158142, 0.875]\n",
       "11     [1.8250000476837158, 1.524999976158142]\n",
       "12      [1.524999976158142, 3.075000047683716]\n",
       "13    [1.0750000476837158, 2.2750000953674316]\n",
       "14    [0.9750000238418579, 0.4749999940395355]\n",
       "15                        [0.5249999761581421]\n",
       "16                         [1.274999976158142]\n",
       "17                        [0.7749999761581421]\n",
       "18                        [1.3250000476837158]\n",
       "19                                     [0.375]\n",
       "20     [1.9249999523162842, 0.824999988079071]\n",
       "21                                     [0.875]\n",
       "22                        [0.5249999761581421]\n",
       "23                                     [0.625]\n",
       "24                        [1.1749999523162842]\n",
       "25                        [0.4749999940395355]\n",
       "26                 [0.625, 1.1749999523162842]\n",
       "27                         [1.274999976158142]\n",
       "28                        [1.1749999523162842]\n",
       "Name: charge, dtype: object"
      ]
     },
     "execution_count": 114,
     "metadata": {},
     "output_type": "execute_result"
    }
   ],
   "source": [
    "df['charge']"
   ]
  },
  {
   "cell_type": "code",
   "execution_count": 116,
   "id": "244990ed-a06e-4899-bb40-03c3c2db7605",
   "metadata": {},
   "outputs": [
    {
     "data": {
      "text/plain": [
       "0     11191.0\n",
       "0         0.0\n",
       "1      9955.0\n",
       "1     11212.0\n",
       "2      9887.0\n",
       "2     10634.0\n",
       "3     10276.0\n",
       "3         0.0\n",
       "4     10153.0\n",
       "4         0.0\n",
       "5     10744.0\n",
       "5         0.0\n",
       "6     10150.0\n",
       "6         0.0\n",
       "7     10908.0\n",
       "7     11079.0\n",
       "8     10760.0\n",
       "8         0.0\n",
       "9     11195.0\n",
       "9         0.0\n",
       "10    10741.0\n",
       "10    11386.0\n",
       "11    10592.0\n",
       "11    10596.0\n",
       "12    10535.0\n",
       "12    10555.0\n",
       "13    10529.0\n",
       "13    10530.0\n",
       "14    10826.0\n",
       "14    11017.0\n",
       "15    11231.0\n",
       "15        0.0\n",
       "16    11605.0\n",
       "16        0.0\n",
       "17    11605.0\n",
       "17        0.0\n",
       "18    11528.0\n",
       "18        0.0\n",
       "19    12409.0\n",
       "19        0.0\n",
       "20    11896.0\n",
       "20    11903.0\n",
       "21    11952.0\n",
       "21        0.0\n",
       "22    12015.0\n",
       "22        0.0\n",
       "23    13220.0\n",
       "23        0.0\n",
       "24    13935.0\n",
       "24        0.0\n",
       "25    12888.0\n",
       "25        0.0\n",
       "26    12555.0\n",
       "26    13291.0\n",
       "27    13247.0\n",
       "27        0.0\n",
       "28    13107.0\n",
       "28        0.0\n",
       "Name: time, dtype: object"
      ]
     },
     "execution_count": 116,
     "metadata": {},
     "output_type": "execute_result"
    }
   ],
   "source": [
    " df['time'].apply(lambda row: padding(row, n_pulses)).explode()"
   ]
  },
  {
   "cell_type": "code",
   "execution_count": 4,
   "id": "47d48cb3-0066-4c3b-9dee-84876ab04f12",
   "metadata": {},
   "outputs": [],
   "source": [
    "event_data = sim_handler.get_per_dom_summary_extended_from_index(0, n_pulses=2)"
   ]
  },
  {
   "cell_type": "code",
   "execution_count": 5,
   "id": "dc669bd6-649b-478c-b5c6-75cc78a1c65e",
   "metadata": {},
   "outputs": [
    {
     "name": "stdout",
     "output_type": "stream",
     "text": [
      "(29, 7)\n"
     ]
    }
   ],
   "source": [
    "print(event_data.shape)"
   ]
  },
  {
   "cell_type": "code",
   "execution_count": null,
   "id": "a998bd7b-1f0d-4596-b070-c42084372b85",
   "metadata": {},
   "outputs": [],
   "source": []
  }
 ],
 "metadata": {
  "kernelspec": {
   "display_name": "Python 3 (ipykernel)",
   "language": "python",
   "name": "python3"
  },
  "language_info": {
   "codemirror_mode": {
    "name": "ipython",
    "version": 3
   },
   "file_extension": ".py",
   "mimetype": "text/x-python",
   "name": "python",
   "nbconvert_exporter": "python",
   "pygments_lexer": "ipython3",
   "version": "3.11.5"
  }
 },
 "nbformat": 4,
 "nbformat_minor": 5
}
