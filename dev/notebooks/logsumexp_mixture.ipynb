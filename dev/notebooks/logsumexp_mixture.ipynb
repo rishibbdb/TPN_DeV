{
 "cells": [
  {
   "cell_type": "code",
   "execution_count": 2,
   "id": "1f8fd552-93ab-4925-b2cc-32d037634dca",
   "metadata": {},
   "outputs": [],
   "source": [
    "import os \n",
    "os.environ[\"CUDA_VISIBLE_DEVICES\"]=\"1\"\n",
    "\n",
    "\n",
    "import jax.numpy as jnp\n",
    "import jax\n",
    "jax.config.update(\"jax_enable_x64\", True)\n",
    "\n",
    "import numpy as np\n",
    "import scipy\n",
    "import matplotlib.pyplot as plt\n",
    "\n",
    "import sys, os"
   ]
  },
  {
   "cell_type": "code",
   "execution_count": 85,
   "id": "22ec0f8d-8c92-4d38-9ddd-b9f1ed2a55de",
   "metadata": {},
   "outputs": [],
   "source": [
    "\n",
    "\n",
    "sys.path.insert(0, \"/home/storage/hans/jax_reco_new\")\n",
    "from lib.cgamma import c_gamma_prob, c_gamma_sf, c_multi_gamma_prob, c_multi_gamma_sf\n",
    "from lib.plotting import adjust_plot_1d\n",
    "from lib.network import get_network_eval_fn\n",
    "from lib.geo import get_xyz_from_zenith_azimuth\n",
    "from lib.trafos import transform_network_outputs, transform_network_inputs\n",
    "\n",
    "from lib.gamma_sf_approx import gamma_sf_fast\n",
    "from lib.c_mpe_gamma import c_multi_gamma_mpe_prob_midpoint2\n",
    "\n",
    "from jax.scipy.stats.gamma import pdf as gamma_pdf\n",
    "from jax.scipy.stats.gamma import logpdf as gamma_logpdf\n",
    "from jax.scipy.special import logsumexp\n",
    "\n",
    "from jax.scipy.stats.norm import logpdf as norm_logpdf"
   ]
  },
  {
   "cell_type": "code",
   "execution_count": 66,
   "id": "3ba976d2-6f76-42ef-bd97-67a9554cb805",
   "metadata": {},
   "outputs": [],
   "source": [
    "eval_network = get_network_eval_fn(bpath='/home/storage/hans/jax_reco_new/data/network')"
   ]
  },
  {
   "cell_type": "code",
   "execution_count": 67,
   "id": "fdbd8295-27a0-4909-b7e6-d44d0dfbd5ae",
   "metadata": {},
   "outputs": [],
   "source": [
    "dist = 20\n",
    "z = -500\n",
    "rho = 0.0\n",
    "zenith = 1.57\n",
    "azimuth = 3.9264083\n",
    "\n",
    "x = jnp.array([dist, rho, z, zenith, azimuth])\n",
    "x_prime = transform_network_inputs(x)\n",
    "y = eval_network(x_prime)\n",
    "logits, gamma_a, gamma_b = transform_network_outputs(y)\n",
    "mix_probs = jax.nn.softmax(logits)"
   ]
  },
  {
   "cell_type": "code",
   "execution_count": 68,
   "id": "b7c57a3e-5527-4078-bffc-abff35c00df6",
   "metadata": {},
   "outputs": [],
   "source": [
    "xvals = jnp.linspace(1.e-12, 10.0, 10000)"
   ]
  },
  {
   "cell_type": "code",
   "execution_count": 69,
   "id": "fdbf36d4-35af-4753-9262-81b12bceedb2",
   "metadata": {},
   "outputs": [],
   "source": [
    "@jax.jit\n",
    "def triple_gamma_linear(xvals, a, b, mix_probs):\n",
    "    a_e = jnp.expand_dims(a, axis=-1)\n",
    "    b_e = jnp.expand_dims(b, axis=-1)\n",
    "    mix_probs_e = jnp.expand_dims(mix_probs, axis=-1)\n",
    "    xvals_e = jnp.expand_dims(xvals, axis=0)\n",
    "    y = jnp.sum(mix_probs_e * jnp.clip(gamma_pdf(xvals_e, a_e, scale=1./b_e), min=0, max=None), axis=0)\n",
    "    return y"
   ]
  },
  {
   "cell_type": "code",
   "execution_count": 70,
   "id": "9b4c7f64-faa0-453e-9018-9549168024b6",
   "metadata": {},
   "outputs": [
    {
     "data": {
      "text/plain": [
       "Array([0.00029564, 0.00031199, 0.00031907, ..., 0.04902819, 0.04902351,\n",
       "       0.04901883], dtype=float64)"
      ]
     },
     "execution_count": 70,
     "metadata": {},
     "output_type": "execute_result"
    }
   ],
   "source": [
    "triple_gamma_linear(xvals, gamma_a, gamma_b, mix_probs)"
   ]
  },
  {
   "cell_type": "code",
   "execution_count": 71,
   "id": "c00dada6-f789-49a6-9d2c-91c434c55eaa",
   "metadata": {},
   "outputs": [],
   "source": [
    "@jax.jit\n",
    "def triple_gamma_log(xvals, a, b, mix_probs):\n",
    "    a_e = jnp.expand_dims(a, axis=-1)\n",
    "    b_e = jnp.expand_dims(b, axis=-1)\n",
    "    mix_probs_e = jnp.expand_dims(mix_probs, axis=-1)\n",
    "    xvals_e = jnp.expand_dims(xvals, axis=0)\n",
    "    log_y = logsumexp(gamma_logpdf(xvals_e, a_e, scale=1./b_e), 0, mix_probs_e)\n",
    "    return jnp.exp(log_y)"
   ]
  },
  {
   "cell_type": "code",
   "execution_count": 72,
   "id": "89ad2830-aa40-47db-8fc1-fb80e6738a9c",
   "metadata": {},
   "outputs": [
    {
     "data": {
      "text/plain": [
       "Array([0.00029564, 0.00031199, 0.00031907, ..., 0.04902819, 0.04902351,\n",
       "       0.04901883], dtype=float64)"
      ]
     },
     "execution_count": 72,
     "metadata": {},
     "output_type": "execute_result"
    }
   ],
   "source": [
    "triple_gamma_log(xvals, gamma_a, gamma_b, mix_probs)"
   ]
  },
  {
   "cell_type": "code",
   "execution_count": 73,
   "id": "dc62a08e-c135-4c61-8951-9c13f56f361a",
   "metadata": {},
   "outputs": [
    {
     "name": "stdout",
     "output_type": "stream",
     "text": [
      "33.3 μs ± 1.74 μs per loop (mean ± std. dev. of 7 runs, 10,000 loops each)\n"
     ]
    }
   ],
   "source": [
    "%timeit triple_gamma_linear(xvals, gamma_a, gamma_b, mix_probs)"
   ]
  },
  {
   "cell_type": "code",
   "execution_count": 74,
   "id": "814ad4e9-4505-41f1-a91f-19beb3e92387",
   "metadata": {},
   "outputs": [
    {
     "name": "stdout",
     "output_type": "stream",
     "text": [
      "35.4 μs ± 1.58 μs per loop (mean ± std. dev. of 7 runs, 10,000 loops each)\n"
     ]
    }
   ],
   "source": [
    "%timeit triple_gamma_log(xvals, gamma_a, gamma_b, mix_probs)"
   ]
  },
  {
   "cell_type": "code",
   "execution_count": 75,
   "id": "b1432f31-9f7b-4ce6-97d0-b7e1928cc2c5",
   "metadata": {},
   "outputs": [],
   "source": [
    "@jax.jit\n",
    "def triple_gamma_sf_linear(xvals, a, b, mix_probs):\n",
    "    a_e = jnp.expand_dims(a, axis=-1)\n",
    "    b_e = jnp.expand_dims(b, axis=-1)\n",
    "    mix_probs_e = jnp.expand_dims(mix_probs, axis=-1)\n",
    "    xvals_e = jnp.expand_dims(xvals, axis=0)\n",
    "    y = jnp.sum(mix_probs_e * gamma_sf_fast(xvals_e, a_e, b_e), axis=0)\n",
    "    return y"
   ]
  },
  {
   "cell_type": "code",
   "execution_count": 76,
   "id": "a49e49d7-6760-4aae-a622-99f122d37298",
   "metadata": {},
   "outputs": [
    {
     "data": {
      "text/plain": [
       "Array([1.        , 0.99999931, 0.99999862, ..., 0.65584829, 0.65579878,\n",
       "       0.65574928], dtype=float64)"
      ]
     },
     "execution_count": 76,
     "metadata": {},
     "output_type": "execute_result"
    }
   ],
   "source": [
    "triple_gamma_sf_linear(xvals, gamma_a, gamma_b, mix_probs)"
   ]
  },
  {
   "cell_type": "code",
   "execution_count": 77,
   "id": "4ac3c621-87ab-4e7a-970a-da297da22720",
   "metadata": {},
   "outputs": [],
   "source": [
    "@jax.jit\n",
    "def triple_gamma_sf_log(xvals, a, b, mix_probs):\n",
    "    a_e = jnp.expand_dims(a, axis=-1)\n",
    "    b_e = jnp.expand_dims(b, axis=-1)\n",
    "    mix_probs_e = jnp.expand_dims(mix_probs, axis=-1)\n",
    "    xvals_e = jnp.expand_dims(xvals, axis=0)\n",
    "    log_y = logsumexp(jnp.log(gamma_sf_fast(xvals_e, a_e, b_e)), 0, mix_probs_e)  ## careful about possible 0 in gamma_sf_fast\n",
    "    return jnp.exp(log_y)"
   ]
  },
  {
   "cell_type": "code",
   "execution_count": 78,
   "id": "fd83bf7a-8ebb-48d4-a360-626133905b15",
   "metadata": {},
   "outputs": [
    {
     "data": {
      "text/plain": [
       "Array([1.        , 0.99999931, 0.99999862, ..., 0.65584829, 0.65579878,\n",
       "       0.65574928], dtype=float64)"
      ]
     },
     "execution_count": 78,
     "metadata": {},
     "output_type": "execute_result"
    }
   ],
   "source": [
    "triple_gamma_sf_log(xvals, gamma_a, gamma_b, mix_probs)"
   ]
  },
  {
   "cell_type": "code",
   "execution_count": 79,
   "id": "b770dc4e-f047-47e4-8860-903b8971fca5",
   "metadata": {},
   "outputs": [
    {
     "name": "stdout",
     "output_type": "stream",
     "text": [
      "43.7 μs ± 67.4 ns per loop (mean ± std. dev. of 7 runs, 10,000 loops each)\n"
     ]
    }
   ],
   "source": [
    "%timeit triple_gamma_sf_linear(xvals, gamma_a, gamma_b, mix_probs)"
   ]
  },
  {
   "cell_type": "code",
   "execution_count": 80,
   "id": "e5cbec5b-93dd-4fdb-976d-4d69f8cd1db0",
   "metadata": {},
   "outputs": [
    {
     "name": "stdout",
     "output_type": "stream",
     "text": [
      "52.6 μs ± 40.3 ns per loop (mean ± std. dev. of 7 runs, 10,000 loops each)\n"
     ]
    }
   ],
   "source": [
    "%timeit triple_gamma_sf_log(xvals, gamma_a, gamma_b, mix_probs)"
   ]
  },
  {
   "cell_type": "code",
   "execution_count": 82,
   "id": "303cbe4c-7b0d-4247-96f5-a7e7511abde4",
   "metadata": {},
   "outputs": [],
   "source": [
    "x0 = 5\n",
    "n = 20"
   ]
  },
  {
   "cell_type": "code",
   "execution_count": 84,
   "id": "8f83672c-3dac-4112-bf86-f29ac03f2ce4",
   "metadata": {},
   "outputs": [
    {
     "name": "stdout",
     "output_type": "stream",
     "text": [
      "0.10111555864720452\n"
     ]
    }
   ],
   "source": [
    "print(c_multi_gamma_mpe_prob_midpoint2(x0, mix_probs, gamma_a, gamma_b, n, 3.0))"
   ]
  },
  {
   "cell_type": "code",
   "execution_count": 114,
   "id": "f16cb1ad-4020-40e6-ab90-e6acda0ba949",
   "metadata": {},
   "outputs": [],
   "source": [
    "def c_multi_gamma_mpe_prob_midpoint3(x, mix_probs, a, b, n, sigma=3.0):\n",
    "    \"\"\"\n",
    "    Q < 30\n",
    "    \"\"\"\n",
    "    nmax = 10\n",
    "    nint1 = 10\n",
    "    nint2 = 15\n",
    "    nint3 = 35\n",
    "    #eps = 1.e-12\n",
    "    eps = 1.e-6\n",
    "\n",
    "    x0 = eps\n",
    "    x_m0 = 0.01\n",
    "    xvals0 = jnp.linspace(x0, x_m0, 10)\n",
    "\n",
    "    x_m1 = 0.05\n",
    "    xvals1 = jnp.linspace(x_m0, x_m1, 10)\n",
    "\n",
    "    x_m2 = 0.25\n",
    "    xvals2 = jnp.linspace(x_m1, x_m2, 10)\n",
    "\n",
    "    x_m25 = 0.75\n",
    "    xvals25 = jnp.linspace(x_m2, x_m25, 10)\n",
    "\n",
    "    x_m3 = 2.5\n",
    "    xvals3 = jnp.linspace(x_m25, x_m3, 10)\n",
    "\n",
    "    x_m4 = 8.0\n",
    "    xvals4 = jnp.linspace(x_m3, x_m4, 20)\n",
    "\n",
    "    xmin = jnp.max(jnp.array([1.5 * eps, x - 10 * sigma]))\n",
    "    xmax = jnp.max(jnp.array([xmin+1.5*eps, x + 10 * sigma]))\n",
    "    xvals_x = jnp.linspace(xmin, xmax, 101)\n",
    "    xvals = jnp.sort(jnp.concatenate([xvals0, xvals1, xvals2, xvals25, xvals3, xvals4, xvals_x]))\n",
    "\n",
    "    dx = xvals[1:]-xvals[:-1]\n",
    "\n",
    "    xvals = 0.5*(xvals[:-1]+xvals[1:])\n",
    "    log_n_pdf = norm_logpdf(xvals, loc=x, scale=sigma)\n",
    "\n",
    "    a_e = jnp.expand_dims(a, axis=-1)\n",
    "    b_e = jnp.expand_dims(b, axis=-1)\n",
    "    mix_probs_e = jnp.expand_dims(mix_probs, axis=-1)\n",
    "\n",
    "    xvals_e = jnp.expand_dims(xvals, axis=0)\n",
    "    log_pdfs = logsumexp(gamma_logpdf(xvals_e, a_e, scale=1./b_e), 0, mix_probs_e)\n",
    "    log_sfs = logsumexp(jnp.log(gamma_sf_fast(xvals_e, a_e, b_e)), 0, mix_probs_e)\n",
    "\n",
    "    return logsumexp(log_n_pdf + log_pdfs + (n-1) * log_sfs, 0, dx * n)"
   ]
  },
  {
   "cell_type": "code",
   "execution_count": 115,
   "id": "8da6e929-eb8b-43e9-92e8-0b53c51cbbdb",
   "metadata": {},
   "outputs": [
    {
     "name": "stdout",
     "output_type": "stream",
     "text": [
      "-2.2914912711541398\n"
     ]
    }
   ],
   "source": [
    "print(c_multi_gamma_mpe_prob_midpoint3(x0, mix_probs, gamma_a, gamma_b, n, 3.0))"
   ]
  },
  {
   "cell_type": "code",
   "execution_count": 116,
   "id": "516eff06-cd91-4a5d-ac7f-747bcee5d6fb",
   "metadata": {},
   "outputs": [],
   "source": [
    "f1 = jax.jit(jax.vmap(c_multi_gamma_mpe_prob_midpoint2, (0, None, None, None, None, None), 0))"
   ]
  },
  {
   "cell_type": "code",
   "execution_count": 117,
   "id": "0b2ab6d4-e500-4c26-8ac9-bffea9a4a29d",
   "metadata": {},
   "outputs": [],
   "source": [
    "f2 = jax.jit(jax.vmap(c_multi_gamma_mpe_prob_midpoint3, (0, None, None, None, None, None), 0))"
   ]
  },
  {
   "cell_type": "code",
   "execution_count": 118,
   "id": "e3dfd34b-d3c1-460c-9ffc-8549d01bffd6",
   "metadata": {},
   "outputs": [],
   "source": [
    "xvals = np.linspace(-300, 100, 1000)\n",
    "probs1 = f1(xvals, mix_probs, gamma_a, gamma_b, 1000, 3.0)\n",
    "probs2 = f2(xvals, mix_probs, gamma_a, gamma_b, 1000, 3.0)"
   ]
  },
  {
   "cell_type": "code",
   "execution_count": 119,
   "id": "1554680c-29cd-4de1-84f7-bf86396e1cbd",
   "metadata": {},
   "outputs": [
    {
     "name": "stderr",
     "output_type": "stream",
     "text": [
      "/home/storage/hans/jax_reco_new/lib/plotting.py:22: UserWarning: No artists with labels found to put in legend.  Note that artists whose label start with an underscore are ignored when legend() is called with no argument.\n",
      "  ax.legend()\n"
     ]
    },
    {
     "data": {
      "image/png": "[encoded data removed]",
      "text/plain": [
       "<Figure size 640x480 with 1 Axes>"
      ]
     },
     "metadata": {},
     "output_type": "display_data"
    }
   ],
   "source": [
    "fig, ax = plt.subplots()\n",
    "plt.plot(xvals, probs1)\n",
    "plt.plot(xvals, jnp.exp(probs2), linestyle='dashed')\n",
    "plot_args = {'xlim':[-300, 100],\n",
    "                     'ylim':[0.0, 1.2 * np.amax(probs1)],\n",
    "                     'xlabel':'delay time [ns]',\n",
    "                     'ylabel':'pdf'}\n",
    "    \n",
    "adjust_plot_1d(fig, ax, plot_args=plot_args)\n",
    "plt.tight_layout()\n",
    "plt.yscale('log')\n",
    "plt.ylim(ymin=1.e-50)\n",
    "plt.show()"
   ]
  },
  {
   "cell_type": "code",
   "execution_count": 120,
   "id": "df562414-da84-42b7-b27d-5d0afaf02f8a",
   "metadata": {},
   "outputs": [
    {
     "data": {
      "text/plain": [
       "Array([0.00000000e+000, 0.00000000e+000, 0.00000000e+000, 0.00000000e+000,\n",
       "       0.00000000e+000, 0.00000000e+000, 0.00000000e+000, 0.00000000e+000,\n",
       "       0.00000000e+000, 0.00000000e+000, 0.00000000e+000, 0.00000000e+000,\n",
       "       0.00000000e+000, 0.00000000e+000, 0.00000000e+000, 0.00000000e+000,\n",
       "       0.00000000e+000, 0.00000000e+000, 0.00000000e+000, 0.00000000e+000,\n",
       "       0.00000000e+000, 0.00000000e+000, 0.00000000e+000, 0.00000000e+000,\n",
       "       0.00000000e+000, 0.00000000e+000, 0.00000000e+000, 0.00000000e+000,\n",
       "       0.00000000e+000, 0.00000000e+000, 0.00000000e+000, 0.00000000e+000,\n",
       "       0.00000000e+000, 0.00000000e+000, 0.00000000e+000, 0.00000000e+000,\n",
       "       0.00000000e+000, 0.00000000e+000, 0.00000000e+000, 0.00000000e+000,\n",
       "       0.00000000e+000, 0.00000000e+000, 0.00000000e+000, 0.00000000e+000,\n",
       "       0.00000000e+000, 0.00000000e+000, 0.00000000e+000, 0.00000000e+000,\n",
       "       0.00000000e+000, 0.00000000e+000, 0.00000000e+000, 0.00000000e+000,\n",
       "       0.00000000e+000, 0.00000000e+000, 0.00000000e+000, 0.00000000e+000,\n",
       "       0.00000000e+000, 0.00000000e+000, 0.00000000e+000, 0.00000000e+000,\n",
       "       0.00000000e+000, 0.00000000e+000, 0.00000000e+000, 0.00000000e+000,\n",
       "       0.00000000e+000, 0.00000000e+000, 0.00000000e+000, 0.00000000e+000,\n",
       "       0.00000000e+000, 0.00000000e+000, 0.00000000e+000, 0.00000000e+000,\n",
       "       0.00000000e+000, 0.00000000e+000, 0.00000000e+000, 0.00000000e+000,\n",
       "       0.00000000e+000, 0.00000000e+000, 0.00000000e+000, 0.00000000e+000,\n",
       "       0.00000000e+000, 0.00000000e+000, 0.00000000e+000, 0.00000000e+000,\n",
       "       0.00000000e+000, 0.00000000e+000, 0.00000000e+000, 0.00000000e+000,\n",
       "       0.00000000e+000, 0.00000000e+000, 0.00000000e+000, 0.00000000e+000,\n",
       "       0.00000000e+000, 0.00000000e+000, 0.00000000e+000, 0.00000000e+000,\n",
       "       0.00000000e+000, 0.00000000e+000, 0.00000000e+000, 0.00000000e+000,\n",
       "       0.00000000e+000, 0.00000000e+000, 0.00000000e+000, 0.00000000e+000,\n",
       "       0.00000000e+000, 0.00000000e+000, 0.00000000e+000, 0.00000000e+000,\n",
       "       0.00000000e+000, 0.00000000e+000, 0.00000000e+000, 0.00000000e+000,\n",
       "       0.00000000e+000, 0.00000000e+000, 0.00000000e+000, 0.00000000e+000,\n",
       "       0.00000000e+000, 0.00000000e+000, 0.00000000e+000, 0.00000000e+000,\n",
       "       0.00000000e+000, 0.00000000e+000, 0.00000000e+000, 0.00000000e+000,\n",
       "       0.00000000e+000, 0.00000000e+000, 0.00000000e+000, 0.00000000e+000,\n",
       "       0.00000000e+000, 0.00000000e+000, 0.00000000e+000, 0.00000000e+000,\n",
       "       0.00000000e+000, 0.00000000e+000, 0.00000000e+000, 0.00000000e+000,\n",
       "       0.00000000e+000, 0.00000000e+000, 0.00000000e+000, 0.00000000e+000,\n",
       "       0.00000000e+000, 0.00000000e+000, 0.00000000e+000, 0.00000000e+000,\n",
       "       0.00000000e+000, 0.00000000e+000, 0.00000000e+000, 0.00000000e+000,\n",
       "       0.00000000e+000, 0.00000000e+000, 0.00000000e+000, 0.00000000e+000,\n",
       "       0.00000000e+000, 0.00000000e+000, 0.00000000e+000, 0.00000000e+000,\n",
       "       0.00000000e+000, 0.00000000e+000, 0.00000000e+000, 0.00000000e+000,\n",
       "       0.00000000e+000, 0.00000000e+000, 0.00000000e+000, 0.00000000e+000,\n",
       "       0.00000000e+000, 0.00000000e+000, 0.00000000e+000, 0.00000000e+000,\n",
       "       0.00000000e+000, 0.00000000e+000, 0.00000000e+000, 0.00000000e+000,\n",
       "       0.00000000e+000, 0.00000000e+000, 0.00000000e+000, 0.00000000e+000,\n",
       "       0.00000000e+000, 0.00000000e+000, 0.00000000e+000, 0.00000000e+000,\n",
       "       0.00000000e+000, 0.00000000e+000, 0.00000000e+000, 0.00000000e+000,\n",
       "       0.00000000e+000, 0.00000000e+000, 0.00000000e+000, 0.00000000e+000,\n",
       "       0.00000000e+000, 0.00000000e+000, 0.00000000e+000, 0.00000000e+000,\n",
       "       0.00000000e+000, 0.00000000e+000, 0.00000000e+000, 0.00000000e+000,\n",
       "       0.00000000e+000, 0.00000000e+000, 0.00000000e+000, 0.00000000e+000,\n",
       "       0.00000000e+000, 0.00000000e+000, 0.00000000e+000, 0.00000000e+000,\n",
       "       0.00000000e+000, 0.00000000e+000, 0.00000000e+000, 0.00000000e+000,\n",
       "       0.00000000e+000, 0.00000000e+000, 0.00000000e+000, 0.00000000e+000,\n",
       "       0.00000000e+000, 0.00000000e+000, 0.00000000e+000, 0.00000000e+000,\n",
       "       0.00000000e+000, 0.00000000e+000, 0.00000000e+000, 0.00000000e+000,\n",
       "       0.00000000e+000, 0.00000000e+000, 0.00000000e+000, 0.00000000e+000,\n",
       "       0.00000000e+000, 0.00000000e+000, 0.00000000e+000, 0.00000000e+000,\n",
       "       0.00000000e+000, 0.00000000e+000, 0.00000000e+000, 0.00000000e+000,\n",
       "       0.00000000e+000, 0.00000000e+000, 0.00000000e+000, 0.00000000e+000,\n",
       "       0.00000000e+000, 0.00000000e+000, 0.00000000e+000, 0.00000000e+000,\n",
       "       0.00000000e+000, 0.00000000e+000, 0.00000000e+000, 0.00000000e+000,\n",
       "       0.00000000e+000, 0.00000000e+000, 0.00000000e+000, 0.00000000e+000,\n",
       "       0.00000000e+000, 0.00000000e+000, 0.00000000e+000, 0.00000000e+000,\n",
       "       0.00000000e+000, 0.00000000e+000, 0.00000000e+000, 0.00000000e+000,\n",
       "       0.00000000e+000, 0.00000000e+000, 0.00000000e+000, 0.00000000e+000,\n",
       "       0.00000000e+000, 0.00000000e+000, 0.00000000e+000, 0.00000000e+000,\n",
       "       0.00000000e+000, 0.00000000e+000, 0.00000000e+000, 0.00000000e+000,\n",
       "       0.00000000e+000, 0.00000000e+000, 0.00000000e+000, 0.00000000e+000,\n",
       "       0.00000000e+000, 0.00000000e+000, 0.00000000e+000, 0.00000000e+000,\n",
       "       0.00000000e+000, 0.00000000e+000, 0.00000000e+000, 0.00000000e+000,\n",
       "       0.00000000e+000, 0.00000000e+000, 0.00000000e+000, 0.00000000e+000,\n",
       "       0.00000000e+000, 0.00000000e+000, 0.00000000e+000, 0.00000000e+000,\n",
       "       0.00000000e+000, 0.00000000e+000, 0.00000000e+000, 0.00000000e+000,\n",
       "       0.00000000e+000, 0.00000000e+000, 0.00000000e+000, 0.00000000e+000,\n",
       "       0.00000000e+000, 0.00000000e+000, 0.00000000e+000, 0.00000000e+000,\n",
       "       0.00000000e+000, 0.00000000e+000, 0.00000000e+000, 0.00000000e+000,\n",
       "       0.00000000e+000, 0.00000000e+000, 0.00000000e+000, 0.00000000e+000,\n",
       "       0.00000000e+000, 0.00000000e+000, 0.00000000e+000, 0.00000000e+000,\n",
       "       0.00000000e+000, 0.00000000e+000, 0.00000000e+000, 0.00000000e+000,\n",
       "       0.00000000e+000, 0.00000000e+000, 0.00000000e+000, 0.00000000e+000,\n",
       "       0.00000000e+000, 0.00000000e+000, 0.00000000e+000, 0.00000000e+000,\n",
       "       0.00000000e+000, 0.00000000e+000, 0.00000000e+000, 0.00000000e+000,\n",
       "       0.00000000e+000, 0.00000000e+000, 0.00000000e+000, 0.00000000e+000,\n",
       "       0.00000000e+000, 0.00000000e+000, 0.00000000e+000, 0.00000000e+000,\n",
       "       0.00000000e+000, 0.00000000e+000, 0.00000000e+000, 0.00000000e+000,\n",
       "       0.00000000e+000, 0.00000000e+000, 0.00000000e+000, 0.00000000e+000,\n",
       "       0.00000000e+000, 0.00000000e+000, 0.00000000e+000, 0.00000000e+000,\n",
       "       0.00000000e+000, 0.00000000e+000, 0.00000000e+000, 0.00000000e+000,\n",
       "       0.00000000e+000, 0.00000000e+000, 0.00000000e+000, 0.00000000e+000,\n",
       "       0.00000000e+000, 0.00000000e+000, 0.00000000e+000, 0.00000000e+000,\n",
       "       0.00000000e+000, 0.00000000e+000, 0.00000000e+000, 0.00000000e+000,\n",
       "       0.00000000e+000, 0.00000000e+000, 0.00000000e+000, 0.00000000e+000,\n",
       "       0.00000000e+000, 0.00000000e+000, 0.00000000e+000, 0.00000000e+000,\n",
       "       0.00000000e+000, 0.00000000e+000, 0.00000000e+000, 0.00000000e+000,\n",
       "       0.00000000e+000, 0.00000000e+000, 0.00000000e+000, 0.00000000e+000,\n",
       "       0.00000000e+000, 0.00000000e+000, 0.00000000e+000, 0.00000000e+000,\n",
       "       0.00000000e+000, 0.00000000e+000, 0.00000000e+000, 0.00000000e+000,\n",
       "       0.00000000e+000, 0.00000000e+000, 0.00000000e+000, 0.00000000e+000,\n",
       "       0.00000000e+000, 0.00000000e+000, 0.00000000e+000, 0.00000000e+000,\n",
       "       0.00000000e+000, 0.00000000e+000, 0.00000000e+000, 0.00000000e+000,\n",
       "       0.00000000e+000, 0.00000000e+000, 0.00000000e+000, 0.00000000e+000,\n",
       "       0.00000000e+000, 0.00000000e+000, 0.00000000e+000, 0.00000000e+000,\n",
       "       0.00000000e+000, 0.00000000e+000, 0.00000000e+000, 0.00000000e+000,\n",
       "       0.00000000e+000, 0.00000000e+000, 0.00000000e+000, 0.00000000e+000,\n",
       "       0.00000000e+000, 0.00000000e+000, 0.00000000e+000, 0.00000000e+000,\n",
       "       0.00000000e+000, 0.00000000e+000, 0.00000000e+000, 0.00000000e+000,\n",
       "       0.00000000e+000, 0.00000000e+000, 0.00000000e+000, 0.00000000e+000,\n",
       "       0.00000000e+000, 0.00000000e+000, 0.00000000e+000, 0.00000000e+000,\n",
       "       0.00000000e+000, 0.00000000e+000, 0.00000000e+000, 0.00000000e+000,\n",
       "       0.00000000e+000, 0.00000000e+000, 0.00000000e+000, 0.00000000e+000,\n",
       "       0.00000000e+000, 0.00000000e+000, 0.00000000e+000, 0.00000000e+000,\n",
       "       0.00000000e+000, 0.00000000e+000, 0.00000000e+000, 0.00000000e+000,\n",
       "       0.00000000e+000, 0.00000000e+000, 0.00000000e+000, 0.00000000e+000,\n",
       "       0.00000000e+000, 0.00000000e+000, 0.00000000e+000, 0.00000000e+000,\n",
       "       0.00000000e+000, 0.00000000e+000, 0.00000000e+000, 0.00000000e+000,\n",
       "       0.00000000e+000, 0.00000000e+000, 3.35964639e-322, 5.43323991e-320,\n",
       "       8.85774230e-318, 1.41912198e-315, 2.23347411e-313, 3.45312361e-311,\n",
       "       5.24461224e-309, 7.82500717e-307, 1.14690183e-304, 1.65134546e-302,\n",
       "       2.33571503e-300, 3.24542851e-298, 4.42990647e-296, 5.94001345e-294,\n",
       "       7.82439393e-292, 1.01247530e-289, 1.28703000e-287, 1.60717603e-285,\n",
       "       1.97155463e-283, 2.37588176e-281, 2.81262298e-279, 3.27091270e-277,\n",
       "       3.73677690e-275, 4.19368901e-273, 4.62344992e-271, 5.00733940e-269,\n",
       "       5.32744390e-267, 5.56803272e-265, 5.71683636e-263, 5.76608294e-261,\n",
       "       5.71317075e-259, 5.56089597e-257, 5.31720788e-255, 4.99452125e-253,\n",
       "       4.60866885e-251, 4.17761689e-249, 3.72008824e-247, 3.25423906e-245,\n",
       "       2.79651599e-243, 2.36078728e-241, 1.95779927e-239, 1.59496547e-237,\n",
       "       1.27645728e-235, 1.00353661e-233, 7.75054348e-232, 5.88034969e-230,\n",
       "       4.38274571e-228, 3.20893988e-226, 2.30807087e-224, 1.63083121e-222,\n",
       "       1.13198657e-220, 7.71873230e-219, 5.17038879e-217, 3.40230315e-215,\n",
       "       2.19935566e-213, 1.39665984e-211, 8.71281746e-210, 5.33948597e-208,\n",
       "       3.21449843e-206, 1.90107826e-204, 1.10448508e-202, 6.30366121e-201,\n",
       "       3.53426497e-199, 1.94660867e-197, 1.05325029e-195, 5.59832333e-194,\n",
       "       2.92319582e-192, 1.49944818e-190, 7.55576968e-189, 3.74024235e-187,\n",
       "       1.81884059e-185, 8.68887364e-184, 4.07761629e-182, 1.87985065e-180,\n",
       "       8.51362548e-179, 3.78773884e-177, 1.65546458e-175, 7.10778408e-174,\n",
       "       2.99794127e-172, 1.24218610e-170, 5.05620829e-169, 2.02179950e-167,\n",
       "       7.94193172e-166, 3.06470899e-164, 1.16178955e-162, 4.32654189e-161,\n",
       "       1.58281329e-159, 5.68844931e-158, 2.00832330e-156, 6.96544708e-155,\n",
       "       2.37323151e-153, 7.94341153e-152, 2.61186048e-150, 8.43662894e-149,\n",
       "       2.67709694e-147, 8.34517663e-146, 2.55554404e-144, 7.68789991e-143,\n",
       "       2.27200197e-141, 6.59608794e-140, 1.88122629e-138, 5.27075263e-137,\n",
       "       1.45071246e-135, 3.92253915e-134, 1.04191094e-132, 2.71876330e-131,\n",
       "       6.96931064e-130, 1.75503588e-128, 4.34170249e-127, 1.05514500e-125,\n",
       "       2.51908246e-124, 5.90814193e-123, 1.36125000e-121, 3.08108333e-120,\n",
       "       6.85090141e-119, 1.49647981e-117, 3.21124191e-116, 6.76946509e-115,\n",
       "       1.40189344e-113, 2.85203683e-112, 5.70000042e-111, 1.11911428e-109,\n",
       "       2.15850938e-108, 4.08990820e-107, 7.61295849e-106, 1.39211084e-104,\n",
       "       2.50077598e-103, 4.41322997e-102, 7.65101934e-101, 1.30305633e-099,\n",
       "       2.18016021e-098, 3.58339880e-097, 5.78606860e-096, 9.17812359e-095,\n",
       "       1.43023139e-093, 2.18948002e-092, 3.29274532e-091, 4.86472135e-090,\n",
       "       7.06058483e-089, 1.00671483e-087, 1.41011831e-086, 1.94038605e-085,\n",
       "       2.62303725e-084, 3.48341098e-083, 4.54453174e-082, 5.82449072e-081,\n",
       "       7.33350169e-080, 9.07088562e-079, 1.10223216e-077, 1.31577550e-076,\n",
       "       1.54303612e-075, 1.77769076e-074, 2.01197424e-073, 2.23704618e-072,\n",
       "       2.44350976e-071, 2.62204453e-070, 2.76409634e-069, 2.86255400e-068,\n",
       "       2.91233868e-067, 2.91083793e-066, 2.85813288e-065, 2.75699096e-064,\n",
       "       2.61262512e-063, 2.43224872e-062, 2.22447898e-061, 1.99865747e-060,\n",
       "       1.76416214e-059, 1.52978009e-058, 1.30319744e-057, 1.09064262e-056,\n",
       "       8.96697766e-056, 7.24271545e-055, 5.74710087e-054, 4.48010952e-053,\n",
       "       3.43100393e-052, 2.58135027e-051, 1.90794641e-050, 1.38541310e-049,\n",
       "       9.88295186e-049, 6.92609954e-048, 4.76854443e-047, 3.22536150e-046,\n",
       "       2.14322038e-045, 1.39910900e-044, 8.97290308e-044, 5.65342382e-043,\n",
       "       3.49935248e-042, 2.12795216e-041, 1.27126036e-040, 7.46115547e-040,\n",
       "       4.30206610e-039, 2.43695747e-038, 1.35618579e-037, 7.41466075e-037,\n",
       "       3.98258214e-036, 2.10155165e-035, 1.08947629e-034, 5.54879156e-034,\n",
       "       2.77640290e-033, 1.36480487e-032, 6.59118020e-032, 3.12723789e-031,\n",
       "       1.45768720e-030, 6.67534977e-030, 3.00324369e-029, 1.32743903e-028,\n",
       "       5.76430119e-028, 2.45916373e-027, 1.03071253e-026, 4.24421756e-026,\n",
       "       1.71699230e-025, 6.82417807e-025, 2.66467546e-024, 1.02212061e-023,\n",
       "       3.85380709e-023, 1.42913883e-022, 5.20088318e-022, 1.85892620e-021,\n",
       "       6.52752474e-021, 2.25179925e-020, 7.63201685e-020, 2.54139933e-019,\n",
       "       8.31422749e-019, 2.67226738e-018, 8.43870128e-018, 2.61809960e-017,\n",
       "       7.98037332e-017, 2.38957105e-016, 7.03116700e-016, 2.03251815e-015,\n",
       "       5.77259123e-015, 1.61074684e-014, 4.41574729e-014, 1.18938012e-013,\n",
       "       3.14741219e-013, 8.18378479e-013, 2.09026774e-012, 5.24694375e-012,\n",
       "       1.29372610e-011, 3.13428896e-011, 7.46121003e-011, 1.74492085e-010,\n",
       "       4.00945056e-010, 9.05222285e-010, 2.00775334e-009, 4.37593285e-009,\n",
       "       9.36948984e-009, 1.97137168e-008, 4.07504455e-008, 8.27651764e-008,\n",
       "       1.65153585e-007, 3.23804604e-007, 6.23759189e-007, 1.18063252e-006,\n",
       "       2.19583811e-006, 4.01311330e-006, 7.20635326e-006, 1.27126800e-005,\n",
       "       2.20294078e-005, 3.74985899e-005, 6.27267556e-005, 1.03199663e-004,\n",
       "       1.66797055e-004, 2.64831309e-004, 4.13072167e-004, 6.32936636e-004,\n",
       "       9.52804863e-004, 1.40944259e-003, 2.04896249e-003, 2.92722147e-003,\n",
       "       4.10946453e-003, 5.66840026e-003, 7.68244907e-003, 1.02305869e-002,\n",
       "       1.33859098e-002, 1.72102816e-002, 2.17403464e-002, 2.69898052e-002,\n",
       "       3.29211188e-002, 3.94557593e-002, 4.64735702e-002, 5.37854862e-002,\n",
       "       6.11664707e-002, 6.83473232e-002, 7.50438581e-002, 8.09823325e-002,\n",
       "       8.58674827e-002, 8.94608758e-002, 9.15828343e-002, 9.21352574e-002,\n",
       "       9.10946837e-002, 8.84991042e-002, 8.44733732e-002, 7.92379274e-002,\n",
       "       7.30357854e-002, 6.61494536e-002, 5.88754349e-002, 5.14945512e-002,\n",
       "       4.42560703e-002, 3.73810487e-002, 3.10285163e-002, 2.53100631e-002,\n",
       "       2.02876921e-002, 1.59798547e-002, 1.23684288e-002, 9.40721400e-003,\n",
       "       7.03093512e-003, 5.16339877e-003, 3.72590311e-003, 2.64296642e-003,\n",
       "       1.84233893e-003, 1.26199187e-003, 8.49481690e-004, 5.61905634e-004,\n",
       "       3.65246060e-004, 2.33303687e-004, 1.46444360e-004, 9.03319833e-005,\n",
       "       5.47574528e-005, 3.26223606e-005, 1.90999186e-005, 1.09922907e-005,\n",
       "       6.21688228e-006, 3.45529787e-006, 1.88700401e-006, 1.01263639e-006,\n",
       "       5.34013517e-007, 2.76738296e-007, 1.40935548e-007, 7.05355872e-008,\n",
       "       3.46911239e-008, 1.67643262e-008, 7.96077897e-009, 3.71618886e-009,\n",
       "       1.70479018e-009, 7.68555907e-010, 3.40495787e-010, 1.48245018e-010,\n",
       "       6.34294593e-011, 2.66709192e-011, 1.10202881e-011, 4.47450597e-012,\n",
       "       1.78532826e-012, 7.00021924e-013, 2.69727666e-013, 1.02157299e-013,\n",
       "       3.80239569e-014, 1.39082324e-014, 4.99934409e-015, 1.76595770e-015,\n",
       "       6.13018282e-016, 2.09118322e-016, 7.01030983e-017, 2.30945695e-017,\n",
       "       7.47665360e-018, 2.37835447e-018, 7.43386260e-019, 2.28371363e-019,\n",
       "       6.89464255e-020, 2.04552262e-020, 5.96371725e-021, 1.70863579e-021,\n",
       "       4.81062074e-022, 1.33180235e-022, 3.62101591e-023, 9.67410771e-024,\n",
       "       2.54049363e-024, 6.55564488e-025, 1.66203962e-025, 4.14108658e-026,\n",
       "       1.01393810e-026, 2.43977533e-027, 5.76904064e-028, 1.34051590e-028,\n",
       "       3.06093567e-029, 6.86830463e-030, 1.51445809e-030, 3.28153148e-031,\n",
       "       6.98725743e-032, 1.46199877e-032, 3.00605280e-033, 6.07372017e-034,\n",
       "       1.20592631e-034, 2.35284773e-035, 4.51100359e-036, 8.49880902e-037,\n",
       "       1.57343120e-037, 2.86247357e-038, 5.11727199e-039, 8.98955221e-040,\n",
       "       1.55181311e-040, 2.63233908e-041, 4.38777722e-042, 7.18698763e-043,\n",
       "       1.15677285e-043, 1.82956320e-044, 2.84344063e-045, 4.34247794e-046,\n",
       "       6.51669019e-047, 9.60974411e-048, 1.39248707e-048, 1.98273385e-049,\n",
       "       2.77415608e-050, 3.81408092e-051, 5.15277024e-052, 6.84042130e-053,\n",
       "       8.92309381e-054, 1.14376801e-054, 1.44062075e-055, 1.78299438e-056,\n",
       "       2.16839418e-057, 2.59127686e-058, 3.04281887e-059, 3.51094857e-060,\n",
       "       3.98068957e-061, 4.43483049e-062, 4.85489694e-063, 5.22235862e-064,\n",
       "       5.51996687e-065, 5.73309026e-066, 5.85090498e-067, 5.86730556e-068,\n",
       "       5.78142915e-069, 5.59773067e-070, 5.32559992e-071, 4.97856621e-072,\n",
       "       4.57318445e-073, 4.12773025e-074, 3.66084667e-075, 3.19028074e-076,\n",
       "       2.73182511e-077, 2.29854501e-078, 1.90032889e-079, 1.54375964e-080,\n",
       "       1.23226827e-081, 9.66507114e-083, 7.44866731e-084, 5.64060092e-085,\n",
       "       4.19705819e-086, 3.06857665e-087, 2.20445324e-088, 1.55609567e-089,\n",
       "       1.07930144e-090, 7.35562964e-092, 4.92569098e-093, 3.24103909e-094,\n",
       "       2.09541845e-095, 1.33114769e-096, 8.30902966e-098, 5.09615429e-099,\n",
       "       3.07116134e-100, 1.81857040e-101, 1.05809497e-102, 6.04903158e-104,\n",
       "       3.39792163e-105, 1.87545568e-106, 1.01710511e-107, 5.41988535e-109,\n",
       "       2.83778340e-110, 1.45993300e-111, 7.37990561e-113, 3.66549434e-114,\n",
       "       1.78886610e-115, 8.57800553e-117, 4.04164067e-118, 1.87107694e-119,\n",
       "       8.51114228e-121, 3.80404815e-122, 1.67057433e-123, 7.20853395e-125,\n",
       "       3.05625186e-126, 1.27318669e-127, 5.21141314e-129, 2.09594124e-130,\n",
       "       8.28252207e-132, 3.21592363e-133, 1.22689728e-134, 4.59906725e-136,\n",
       "       1.69390922e-137, 6.13012115e-139, 2.17974794e-140, 7.61555448e-142,\n",
       "       2.61429485e-143, 8.81789942e-145, 2.92235520e-146, 9.51607615e-148,\n",
       "       3.04466574e-149, 9.57145365e-151, 2.95646345e-152, 8.97270176e-154,\n",
       "       2.67565322e-155, 7.83956684e-157, 2.25688659e-158, 6.38384910e-160,\n",
       "       1.77423229e-161, 4.84499262e-163, 1.29996100e-164, 3.42706136e-166,\n",
       "       8.87702787e-168, 2.25926528e-169, 5.64963785e-171, 1.38812166e-172,\n",
       "       3.35110312e-174, 7.94879317e-176, 1.85253982e-177, 4.24215629e-179,\n",
       "       9.54461351e-181, 2.10999978e-182, 4.58309297e-184, 9.78108279e-186,\n",
       "       2.05100647e-187, 4.22570110e-189, 8.55425095e-191, 1.70143942e-192,\n",
       "       3.32508007e-194, 6.38467313e-196, 1.20455323e-197, 2.23287248e-199,\n",
       "       4.06679491e-201, 7.27764524e-203, 1.27961577e-204, 2.21064094e-206,\n",
       "       3.75237810e-208, 6.25812991e-210, 1.02549132e-211, 1.65108212e-213,\n",
       "       2.61188753e-215, 4.05965586e-217, 6.19972976e-219, 9.30261258e-221,\n",
       "       1.37146771e-222, 1.98661889e-224, 2.82742894e-226, 3.95381959e-228,\n",
       "       5.43237642e-230, 7.33348766e-232, 9.72699799e-234, 1.26763577e-235],      dtype=float64)"
      ]
     },
     "execution_count": 120,
     "metadata": {},
     "output_type": "execute_result"
    }
   ],
   "source": [
    "probs1"
   ]
  },
  {
   "cell_type": "code",
   "execution_count": 121,
   "id": "1fe585ef-8680-438d-bf79-34de32d9480d",
   "metadata": {},
   "outputs": [
    {
     "data": {
      "text/plain": [
       "Array([-5.00645317e+03, -4.99311386e+03, -4.97979237e+03, -4.96648868e+03,\n",
       "       -4.95320280e+03, -4.93993474e+03, -4.92668448e+03, -4.91345204e+03,\n",
       "       -4.90023741e+03, -4.88704059e+03, -4.87386158e+03, -4.86070038e+03,\n",
       "       -4.84755699e+03, -4.83443142e+03, -4.82132365e+03, -4.80823370e+03,\n",
       "       -4.79516156e+03, -4.78210722e+03, -4.76907070e+03, -4.75605200e+03,\n",
       "       -4.74305110e+03, -4.73006801e+03, -4.71710274e+03, -4.70415527e+03,\n",
       "       -4.69122562e+03, -4.67831378e+03, -4.66541974e+03, -4.65254352e+03,\n",
       "       -4.63968512e+03, -4.62684452e+03, -4.61402173e+03, -4.60121676e+03,\n",
       "       -4.58842959e+03, -4.57566024e+03, -4.56290869e+03, -4.55017496e+03,\n",
       "       -4.53745904e+03, -4.52476093e+03, -4.51208063e+03, -4.49941815e+03,\n",
       "       -4.48677347e+03, -4.47414660e+03, -4.46153755e+03, -4.44894631e+03,\n",
       "       -4.43637287e+03, -4.42381725e+03, -4.41127944e+03, -4.39875944e+03,\n",
       "       -4.38625725e+03, -4.37377287e+03, -4.36130631e+03, -4.34885755e+03,\n",
       "       -4.33642661e+03, -4.32401347e+03, -4.31161815e+03, -4.29924064e+03,\n",
       "       -4.28688093e+03, -4.27453904e+03, -4.26221496e+03, -4.24990870e+03,\n",
       "       -4.23762024e+03, -4.22534959e+03, -4.21309675e+03, -4.20086173e+03,\n",
       "       -4.18864451e+03, -4.17644511e+03, -4.16426352e+03, -4.15209973e+03,\n",
       "       -4.13995376e+03, -4.12782560e+03, -4.11571525e+03, -4.10362271e+03,\n",
       "       -4.09154798e+03, -4.07949107e+03, -4.06745196e+03, -4.05543066e+03,\n",
       "       -4.04342718e+03, -4.03144150e+03, -4.01947364e+03, -4.00752359e+03,\n",
       "       -3.99559134e+03, -3.98367691e+03, -3.97178029e+03, -3.95990148e+03,\n",
       "       -3.94804048e+03, -3.93619729e+03, -3.92437191e+03, -3.91256434e+03,\n",
       "       -3.90077459e+03, -3.88900264e+03, -3.87724850e+03, -3.86551218e+03,\n",
       "       -3.85379366e+03, -3.84209296e+03, -3.83041007e+03, -3.81874498e+03,\n",
       "       -3.80709771e+03, -3.79546825e+03, -3.78385660e+03, -3.77226276e+03,\n",
       "       -3.76068673e+03, -3.74912851e+03, -3.73758810e+03, -3.72606550e+03,\n",
       "       -3.71456071e+03, -3.70307373e+03, -3.69160457e+03, -3.68015321e+03,\n",
       "       -3.66871966e+03, -3.65730393e+03, -3.64590600e+03, -3.63452589e+03,\n",
       "       -3.62316358e+03, -3.61181909e+03, -3.60049240e+03, -3.58918353e+03,\n",
       "       -3.57789247e+03, -3.56661922e+03, -3.55536377e+03, -3.54412614e+03,\n",
       "       -3.53290632e+03, -3.52170431e+03, -3.51052011e+03, -3.49935372e+03,\n",
       "       -3.48820514e+03, -3.47707437e+03, -3.46596141e+03, -3.45486626e+03,\n",
       "       -3.44378892e+03, -3.43272939e+03, -3.42168767e+03, -3.41066376e+03,\n",
       "       -3.39965767e+03, -3.38866938e+03, -3.37769890e+03, -3.36674623e+03,\n",
       "       -3.35581138e+03, -3.34489433e+03, -3.33399509e+03, -3.32311367e+03,\n",
       "       -3.31225005e+03, -3.30140424e+03, -3.29057625e+03, -3.27976606e+03,\n",
       "       -3.26897369e+03, -3.25819912e+03, -3.24744236e+03, -3.23670342e+03,\n",
       "       -3.22598228e+03, -3.21527896e+03, -3.20459344e+03, -3.19392574e+03,\n",
       "       -3.18327584e+03, -3.17264375e+03, -3.16202948e+03, -3.15143301e+03,\n",
       "       -3.14085436e+03, -3.13029351e+03, -3.11975048e+03, -3.10922525e+03,\n",
       "       -3.09871783e+03, -3.08822823e+03, -3.07775643e+03, -3.06730245e+03,\n",
       "       -3.05686627e+03, -3.04644790e+03, -3.03604735e+03, -3.02566460e+03,\n",
       "       -3.01529966e+03, -3.00495254e+03, -2.99462322e+03, -2.98431171e+03,\n",
       "       -2.97401801e+03, -2.96374213e+03, -2.95348405e+03, -2.94324378e+03,\n",
       "       -2.93302132e+03, -2.92281667e+03, -2.91262983e+03, -2.90246080e+03,\n",
       "       -2.89230958e+03, -2.88217617e+03, -2.87206057e+03, -2.86196278e+03,\n",
       "       -2.85188280e+03, -2.84182063e+03, -2.83177627e+03, -2.82174972e+03,\n",
       "       -2.81174097e+03, -2.80175004e+03, -2.79177692e+03, -2.78182160e+03,\n",
       "       -2.77188410e+03, -2.76196440e+03, -2.75206252e+03, -2.74217844e+03,\n",
       "       -2.73231217e+03, -2.72246372e+03, -2.71263307e+03, -2.70282023e+03,\n",
       "       -2.69302520e+03, -2.68324798e+03, -2.67348857e+03, -2.66374697e+03,\n",
       "       -2.65402318e+03, -2.64431720e+03, -2.63462902e+03, -2.62495866e+03,\n",
       "       -2.61530611e+03, -2.60567136e+03, -2.59605443e+03, -2.58645530e+03,\n",
       "       -2.57687398e+03, -2.56731047e+03, -2.55776478e+03, -2.54823689e+03,\n",
       "       -2.53872681e+03, -2.52923454e+03, -2.51976007e+03, -2.51030342e+03,\n",
       "       -2.50086458e+03, -2.49144354e+03, -2.48204032e+03, -2.47265490e+03,\n",
       "       -2.46328729e+03, -2.45393749e+03, -2.44460550e+03, -2.43529132e+03,\n",
       "       -2.42599495e+03, -2.41671639e+03, -2.40745563e+03, -2.39821269e+03,\n",
       "       -2.38898755e+03, -2.37978023e+03, -2.37059071e+03, -2.36141900e+03,\n",
       "       -2.35226510e+03, -2.34312901e+03, -2.33401072e+03, -2.32491025e+03,\n",
       "       -2.31582759e+03, -2.30676273e+03, -2.29771568e+03, -2.28868644e+03,\n",
       "       -2.27967501e+03, -2.27068139e+03, -2.26170558e+03, -2.25274757e+03,\n",
       "       -2.24380738e+03, -2.23488499e+03, -2.22598041e+03, -2.21709364e+03,\n",
       "       -2.20822468e+03, -2.19937353e+03, -2.19054018e+03, -2.18172465e+03,\n",
       "       -2.17292692e+03, -2.16414700e+03, -2.15538489e+03, -2.14664059e+03,\n",
       "       -2.13791409e+03, -2.12920541e+03, -2.12051453e+03, -2.11184146e+03,\n",
       "       -2.10318620e+03, -2.09454875e+03, -2.08592911e+03, -2.07732727e+03,\n",
       "       -2.06874324e+03, -2.06017702e+03, -2.05162861e+03, -2.04309801e+03,\n",
       "       -2.03458522e+03, -2.02609023e+03, -2.01761305e+03, -2.00915368e+03,\n",
       "       -2.00071212e+03, -1.99228836e+03, -1.98388242e+03, -1.97549428e+03,\n",
       "       -1.96712395e+03, -1.95877143e+03, -1.95043671e+03, -1.94211981e+03,\n",
       "       -1.93382071e+03, -1.92553942e+03, -1.91727593e+03, -1.90903026e+03,\n",
       "       -1.90080239e+03, -1.89259233e+03, -1.88440008e+03, -1.87622563e+03,\n",
       "       -1.86806900e+03, -1.85993017e+03, -1.85180915e+03, -1.84370593e+03,\n",
       "       -1.83562053e+03, -1.82755293e+03, -1.81950314e+03, -1.81147115e+03,\n",
       "       -1.80345698e+03, -1.79546061e+03, -1.78748205e+03, -1.77952129e+03,\n",
       "       -1.77157835e+03, -1.76365321e+03, -1.75574588e+03, -1.74785635e+03,\n",
       "       -1.73998463e+03, -1.73213072e+03, -1.72429462e+03, -1.71647632e+03,\n",
       "       -1.70867584e+03, -1.70089315e+03, -1.69312828e+03, -1.68538121e+03,\n",
       "       -1.67765195e+03, -1.66994050e+03, -1.66224685e+03, -1.65457101e+03,\n",
       "       -1.64691298e+03, -1.63927276e+03, -1.63165034e+03, -1.62404573e+03,\n",
       "       -1.61645892e+03, -1.60888992e+03, -1.60133873e+03, -1.59380535e+03,\n",
       "       -1.58628977e+03, -1.57879200e+03, -1.57131203e+03, -1.56384988e+03,\n",
       "       -1.55640552e+03, -1.54897898e+03, -1.54157024e+03, -1.53417931e+03,\n",
       "       -1.52680618e+03, -1.51945086e+03, -1.51211335e+03, -1.50479364e+03,\n",
       "       -1.49749174e+03, -1.49020765e+03, -1.48294136e+03, -1.47569288e+03,\n",
       "       -1.46846221e+03, -1.46124934e+03, -1.45405427e+03, -1.44687702e+03,\n",
       "       -1.43971756e+03, -1.43257592e+03, -1.42545208e+03, -1.41834605e+03,\n",
       "       -1.41125782e+03, -1.40418740e+03, -1.39713478e+03, -1.39009997e+03,\n",
       "       -1.38308297e+03, -1.37608377e+03, -1.36910238e+03, -1.36213879e+03,\n",
       "       -1.35519301e+03, -1.34826503e+03, -1.34135486e+03, -1.33446249e+03,\n",
       "       -1.32758793e+03, -1.32073118e+03, -1.31389223e+03, -1.30707109e+03,\n",
       "       -1.30026775e+03, -1.29348221e+03, -1.28671449e+03, -1.27996456e+03,\n",
       "       -1.27323244e+03, -1.26651813e+03, -1.25982162e+03, -1.25314292e+03,\n",
       "       -1.24648202e+03, -1.23983893e+03, -1.23321364e+03, -1.22660616e+03,\n",
       "       -1.22001648e+03, -1.21344460e+03, -1.20689053e+03, -1.20035427e+03,\n",
       "       -1.19383581e+03, -1.18733515e+03, -1.18085230e+03, -1.17438725e+03,\n",
       "       -1.16794001e+03, -1.16151057e+03, -1.15509894e+03, -1.14870511e+03,\n",
       "       -1.14232908e+03, -1.13597086e+03, -1.12963044e+03, -1.12330783e+03,\n",
       "       -1.11700302e+03, -1.11071601e+03, -1.10444681e+03, -1.09819541e+03,\n",
       "       -1.09196181e+03, -1.08574602e+03, -1.07954804e+03, -1.07336785e+03,\n",
       "       -1.06720547e+03, -1.06106090e+03, -1.05493412e+03, -1.04882515e+03,\n",
       "       -1.04273399e+03, -1.03666062e+03, -1.03060506e+03, -1.02456731e+03,\n",
       "       -1.01854735e+03, -1.01254520e+03, -1.00656085e+03, -1.00059431e+03,\n",
       "       -9.94645566e+02, -9.88714626e+02, -9.82801490e+02, -9.76906156e+02,\n",
       "       -9.71028624e+02, -9.65168895e+02, -9.59326969e+02, -9.53502845e+02,\n",
       "       -9.47696523e+02, -9.41908003e+02, -9.36137286e+02, -9.30384371e+02,\n",
       "       -9.24649258e+02, -9.18931947e+02, -9.13232438e+02, -9.07550731e+02,\n",
       "       -9.01886825e+02, -8.96240721e+02, -8.90612419e+02, -8.85001919e+02,\n",
       "       -8.79409220e+02, -8.73834323e+02, -8.68277226e+02, -8.62737932e+02,\n",
       "       -8.57216438e+02, -8.51712746e+02, -8.46226854e+02, -8.40758764e+02,\n",
       "       -8.35308475e+02, -8.29875986e+02, -8.24461298e+02, -8.19064411e+02,\n",
       "       -8.13685325e+02, -8.08324039e+02, -8.02980553e+02, -7.97654868e+02,\n",
       "       -7.92346983e+02, -7.87056898e+02, -7.81784614e+02, -7.76530129e+02,\n",
       "       -7.71293444e+02, -7.66074560e+02, -7.60873475e+02, -7.55690189e+02,\n",
       "       -7.50524704e+02, -7.45377018e+02, -7.40247131e+02, -7.35135043e+02,\n",
       "       -7.30040755e+02, -7.24964266e+02, -7.19905576e+02, -7.14864685e+02,\n",
       "       -7.09841592e+02, -7.04836299e+02, -6.99848804e+02, -6.94879108e+02,\n",
       "       -6.89927210e+02, -6.84993110e+02, -6.80076809e+02, -6.75178306e+02,\n",
       "       -6.70297601e+02, -6.65434694e+02, -6.60589584e+02, -6.55762273e+02,\n",
       "       -6.50952759e+02, -6.46161042e+02, -6.41387123e+02, -6.36631002e+02,\n",
       "       -6.31892677e+02, -6.27172150e+02, -6.22469419e+02, -6.17784485e+02,\n",
       "       -6.13117348e+02, -6.08468008e+02, -6.03836464e+02, -5.99222716e+02,\n",
       "       -5.94626765e+02, -5.90048610e+02, -5.85488250e+02, -5.80945687e+02,\n",
       "       -5.76420919e+02, -5.71913947e+02, -5.67424771e+02, -5.62953389e+02,\n",
       "       -5.58499803e+02, -5.54064012e+02, -5.49646016e+02, -5.45245815e+02,\n",
       "       -5.40863408e+02, -5.36498796e+02, -5.32151979e+02, -5.27822955e+02,\n",
       "       -5.23511726e+02, -5.19218290e+02, -5.14942649e+02, -5.10684801e+02,\n",
       "       -5.06444746e+02, -5.02222485e+02, -4.98018017e+02, -4.93831342e+02,\n",
       "       -4.89662460e+02, -4.85511371e+02, -4.81378074e+02, -4.77262570e+02,\n",
       "       -4.73164858e+02, -4.69084938e+02, -4.65022810e+02, -4.60978473e+02,\n",
       "       -4.56951928e+02, -4.52943175e+02, -4.48952212e+02, -4.44979041e+02,\n",
       "       -4.41023660e+02, -4.37086071e+02, -4.33166271e+02, -4.29264262e+02,\n",
       "       -4.25380043e+02, -4.21513614e+02, -4.17664974e+02, -4.13834124e+02,\n",
       "       -4.10021064e+02, -4.06225792e+02, -4.02448310e+02, -3.98688616e+02,\n",
       "       -3.94946710e+02, -3.91222593e+02, -3.87516264e+02, -3.83827723e+02,\n",
       "       -3.80156969e+02, -3.76504003e+02, -3.72868824e+02, -3.69251431e+02,\n",
       "       -3.65651826e+02, -3.62070007e+02, -3.58505974e+02, -3.54959728e+02,\n",
       "       -3.51431267e+02, -3.47920591e+02, -3.44427701e+02, -3.40952596e+02,\n",
       "       -3.37495276e+02, -3.34055740e+02, -3.30633988e+02, -3.27230021e+02,\n",
       "       -3.23843837e+02, -3.20475436e+02, -3.17124819e+02, -3.13791985e+02,\n",
       "       -3.10476933e+02, -3.07179663e+02, -3.03900176e+02, -3.00638470e+02,\n",
       "       -2.97394546e+02, -2.94168403e+02, -2.90960040e+02, -2.87769458e+02,\n",
       "       -2.84596657e+02, -2.81441635e+02, -2.78304393e+02, -2.75184930e+02,\n",
       "       -2.72083246e+02, -2.68999340e+02, -2.65933213e+02, -2.62884864e+02,\n",
       "       -2.59854292e+02, -2.56841497e+02, -2.53846479e+02, -2.50869238e+02,\n",
       "       -2.47909772e+02, -2.44968082e+02, -2.42044168e+02, -2.39138028e+02,\n",
       "       -2.36249664e+02, -2.33379073e+02, -2.30526256e+02, -2.27691212e+02,\n",
       "       -2.24873941e+02, -2.22074442e+02, -2.19292716e+02, -2.16528761e+02,\n",
       "       -2.13782577e+02, -2.11054164e+02, -2.08343522e+02, -2.05650649e+02,\n",
       "       -2.02975545e+02, -2.00318211e+02, -1.97678644e+02, -1.95056846e+02,\n",
       "       -1.92452815e+02, -1.89866551e+02, -1.87298053e+02, -1.84747321e+02,\n",
       "       -1.82214354e+02, -1.79699152e+02, -1.77201715e+02, -1.74722041e+02,\n",
       "       -1.72260130e+02, -1.69815982e+02, -1.67389595e+02, -1.64980970e+02,\n",
       "       -1.62590106e+02, -1.60217002e+02, -1.57861658e+02, -1.55524072e+02,\n",
       "       -1.53204245e+02, -1.50902175e+02, -1.48617862e+02, -1.46351306e+02,\n",
       "       -1.44102505e+02, -1.41871460e+02, -1.39658168e+02, -1.37462630e+02,\n",
       "       -1.35284845e+02, -1.33124811e+02, -1.30982529e+02, -1.28857998e+02,\n",
       "       -1.26751217e+02, -1.24662184e+02, -1.22590899e+02, -1.20537362e+02,\n",
       "       -1.18501572e+02, -1.16483527e+02, -1.14483227e+02, -1.12500671e+02,\n",
       "       -1.10535858e+02, -1.08588788e+02, -1.06659458e+02, -1.04747869e+02,\n",
       "       -1.02854020e+02, -1.00977908e+02, -9.91195348e+01, -9.72788977e+01,\n",
       "       -9.54559960e+01, -9.36508287e+01, -9.18633949e+01, -9.00936934e+01,\n",
       "       -8.83417232e+01, -8.66074832e+01, -8.48909723e+01, -8.31921892e+01,\n",
       "       -8.15111330e+01, -7.98478023e+01, -7.82021961e+01, -7.65743130e+01,\n",
       "       -7.49641519e+01, -7.33717115e+01, -7.17969906e+01, -7.02399877e+01,\n",
       "       -6.87007017e+01, -6.71791312e+01, -6.56752748e+01, -6.41891311e+01,\n",
       "       -6.27206987e+01, -6.12699762e+01, -5.98369621e+01, -5.84216549e+01,\n",
       "       -5.70240532e+01, -5.56441554e+01, -5.42819600e+01, -5.29375776e+01,\n",
       "       -5.16103956e+01, -5.02998000e+01, -4.90080436e+01, -4.77342879e+01,\n",
       "       -4.64782591e+01, -4.52399723e+01, -4.40193497e+01, -4.28164019e+01,\n",
       "       -4.16311486e+01, -4.04636044e+01, -3.93137033e+01, -3.81814979e+01,\n",
       "       -3.70669614e+01, -3.59702476e+01, -3.48910088e+01, -3.38295009e+01,\n",
       "       -3.27856553e+01, -3.17594934e+01, -3.07510142e+01, -2.97601739e+01,\n",
       "       -2.87870256e+01, -2.78314515e+01, -2.68937290e+01, -2.59733754e+01,\n",
       "       -2.50709095e+01, -2.41860337e+01, -2.33187184e+01, -2.24691417e+01,\n",
       "       -2.16371967e+01, -2.08228406e+01, -2.00262495e+01, -1.92471461e+01,\n",
       "       -1.84858072e+01, -1.77419512e+01, -1.70157991e+01, -1.63072584e+01,\n",
       "       -1.56163900e+01, -1.49431256e+01, -1.42875015e+01, -1.36494602e+01,\n",
       "       -1.30289468e+01, -1.24259432e+01, -1.18405475e+01, -1.12729106e+01,\n",
       "       -1.07231323e+01, -1.01912072e+01, -9.67672248e+00, -9.17884497e+00,\n",
       "       -8.69873272e+00, -8.23641750e+00, -7.79188824e+00, -7.36514024e+00,\n",
       "       -6.95610044e+00, -6.56456098e+00, -6.19042171e+00, -5.83370161e+00,\n",
       "       -5.49446254e+00, -5.17284834e+00, -4.86881689e+00, -4.58237333e+00,\n",
       "       -4.31355263e+00, -4.06224831e+00, -3.82858546e+00, -3.61229607e+00,\n",
       "       -3.41364092e+00, -3.23257525e+00, -3.06887151e+00, -2.92275162e+00,\n",
       "       -2.79415610e+00, -2.68315288e+00, -2.58968256e+00, -2.51352427e+00,\n",
       "       -2.45495007e+00, -2.41395389e+00, -2.39051142e+00, -2.38449759e+00,\n",
       "       -2.39585583e+00, -2.42476285e+00, -2.47131890e+00, -2.53530021e+00,\n",
       "       -2.61680575e+00, -2.71583865e+00, -2.83233134e+00, -2.96627928e+00,\n",
       "       -3.11776273e+00, -3.28659142e+00, -3.47284862e+00, -3.67655321e+00,\n",
       "       -3.89774088e+00, -4.13642643e+00, -4.39260811e+00, -4.66627844e+00,\n",
       "       -4.95743556e+00, -5.26616024e+00, -5.59244601e+00, -5.93585335e+00,\n",
       "       -6.29671935e+00, -6.67506396e+00, -7.07088417e+00, -7.48417663e+00,\n",
       "       -7.91493929e+00, -8.36316958e+00, -8.82886499e+00, -9.31201897e+00,\n",
       "       -9.81259707e+00, -1.03305126e+01, -1.08658265e+01, -1.14183164e+01,\n",
       "       -1.19882420e+01, -1.25756019e+01, -1.31805202e+01, -1.38029533e+01,\n",
       "       -1.44428447e+01, -1.51001936e+01, -1.57749632e+01, -1.64671485e+01,\n",
       "       -1.71767820e+01, -1.79040126e+01, -1.86487390e+01, -1.94105672e+01,\n",
       "       -2.01898238e+01, -2.09865078e+01, -2.18006184e+01, -2.26321547e+01,\n",
       "       -2.34810927e+01, -2.43474473e+01, -2.52312832e+01, -2.61326252e+01,\n",
       "       -2.70514188e+01, -2.79876647e+01, -2.89413636e+01, -2.99122626e+01,\n",
       "       -3.09005600e+01, -3.19062955e+01, -3.29294697e+01, -3.39700832e+01,\n",
       "       -3.50281369e+01, -3.61036314e+01, -3.71965647e+01, -3.83069342e+01,\n",
       "       -3.94347464e+01, -4.05801228e+01, -4.17430712e+01, -4.29233139e+01,\n",
       "       -4.41209572e+01, -4.53360485e+01, -4.65685930e+01, -4.78185917e+01,\n",
       "       -4.90860459e+01, -5.03703389e+01, -5.16727025e+01, -5.29925892e+01,\n",
       "       -5.43296838e+01, -5.56843008e+01, -5.70565818e+01, -5.84462542e+01,\n",
       "       -5.98533706e+01, -6.12778916e+01, -6.27198768e+01, -6.41793281e+01,\n",
       "       -6.56562471e+01, -6.71506355e+01, -6.86624951e+01, -7.01918277e+01,\n",
       "       -7.17386349e+01, -7.33029185e+01, -7.48846802e+01, -7.64839219e+01,\n",
       "       -7.81006452e+01, -7.97348519e+01, -8.13865437e+01, -8.30557224e+01,\n",
       "       -8.47423897e+01, -8.64465474e+01, -8.81681971e+01, -8.99073407e+01,\n",
       "       -9.16639797e+01, -9.34381160e+01, -9.52297511e+01, -9.70388869e+01,\n",
       "       -9.88655249e+01, -1.00709667e+02, -1.02571314e+02, -1.04450469e+02,\n",
       "       -1.06347133e+02, -1.08261307e+02, -1.10192993e+02, -1.12142193e+02,\n",
       "       -1.14108908e+02, -1.16093140e+02, -1.18094890e+02, -1.20114161e+02,\n",
       "       -1.22150952e+02, -1.24205267e+02, -1.26277106e+02, -1.28366471e+02,\n",
       "       -1.30473363e+02, -1.32597785e+02, -1.34739736e+02, -1.36899219e+02,\n",
       "       -1.39076236e+02, -1.41270786e+02, -1.43482873e+02, -1.45712497e+02,\n",
       "       -1.47959659e+02, -1.50224361e+02, -1.52506605e+02, -1.54806391e+02,\n",
       "       -1.57123721e+02, -1.59458595e+02, -1.61811016e+02, -1.64180985e+02,\n",
       "       -1.66568502e+02, -1.68973569e+02, -1.71396188e+02, -1.73836358e+02,\n",
       "       -1.76294082e+02, -1.78769361e+02, -1.81262195e+02, -1.83772587e+02,\n",
       "       -1.86300536e+02, -1.88846044e+02, -1.91409113e+02, -1.93989742e+02,\n",
       "       -1.96587934e+02, -1.99203689e+02, -2.01837009e+02, -2.04487893e+02,\n",
       "       -2.07156344e+02, -2.09842363e+02, -2.12545949e+02, -2.15267105e+02,\n",
       "       -2.18005831e+02, -2.20762127e+02, -2.23535996e+02, -2.26327438e+02,\n",
       "       -2.29136454e+02, -2.31963044e+02, -2.34807209e+02, -2.37668951e+02,\n",
       "       -2.40548271e+02, -2.43445168e+02, -2.46359644e+02, -2.49291700e+02,\n",
       "       -2.52241337e+02, -2.55208555e+02, -2.58193355e+02, -2.61195737e+02,\n",
       "       -2.64215704e+02, -2.67253254e+02, -2.70308390e+02, -2.73381112e+02,\n",
       "       -2.76471420e+02, -2.79579316e+02, -2.82704799e+02, -2.85847871e+02,\n",
       "       -2.89008532e+02, -2.92186784e+02, -2.95382626e+02, -2.98596059e+02,\n",
       "       -3.01827085e+02, -3.05075703e+02, -3.08341914e+02, -3.11625719e+02,\n",
       "       -3.14927119e+02, -3.18246113e+02, -3.21582704e+02, -3.24936890e+02,\n",
       "       -3.28308674e+02, -3.31698055e+02, -3.35105034e+02, -3.38529611e+02,\n",
       "       -3.41971788e+02, -3.45431564e+02, -3.48908940e+02, -3.52403917e+02,\n",
       "       -3.55916496e+02, -3.59446676e+02, -3.62994458e+02, -3.66559844e+02,\n",
       "       -3.70142832e+02, -3.73743424e+02, -3.77361621e+02, -3.80997422e+02,\n",
       "       -3.84650829e+02, -3.88321841e+02, -3.92010459e+02, -3.95716684e+02,\n",
       "       -3.99440517e+02, -4.03181956e+02, -4.06941004e+02, -4.10717660e+02,\n",
       "       -4.14511925e+02, -4.18323799e+02, -4.22153283e+02, -4.26000377e+02,\n",
       "       -4.29865082e+02, -4.33747397e+02, -4.37647324e+02, -4.41564863e+02,\n",
       "       -4.45500014e+02, -4.49452778e+02, -4.53423155e+02, -4.57411145e+02,\n",
       "       -4.61416748e+02, -4.65439967e+02, -4.69480799e+02, -4.73539247e+02,\n",
       "       -4.77615310e+02, -4.81708988e+02, -4.85820283e+02, -4.89949194e+02,\n",
       "       -4.94095722e+02, -4.98259867e+02, -5.02441630e+02, -5.06641010e+02,\n",
       "       -5.10858009e+02, -5.15092627e+02, -5.19344863e+02, -5.23614719e+02,\n",
       "       -5.27902195e+02, -5.32207290e+02, -5.36530006e+02, -5.40870343e+02],      dtype=float64)"
      ]
     },
     "execution_count": 121,
     "metadata": {},
     "output_type": "execute_result"
    }
   ],
   "source": [
    "probs2"
   ]
  },
  {
   "cell_type": "code",
   "execution_count": 111,
   "id": "78d6da73-e67b-46b1-8c91-06414bf57d43",
   "metadata": {},
   "outputs": [
    {
     "data": {
      "text/plain": [
       "Array(-613.41893853, dtype=float64, weak_type=True)"
      ]
     },
     "execution_count": 111,
     "metadata": {},
     "output_type": "execute_result"
    }
   ],
   "source": [
    "jax.scipy.stats.norm.logpdf(-35, 0, 1)"
   ]
  },
  {
   "cell_type": "code",
   "execution_count": null,
   "id": "ab10bfd6-3b81-4f6c-8f06-58aac536bb63",
   "metadata": {},
   "outputs": [],
   "source": []
  },
  {
   "cell_type": "code",
   "execution_count": null,
   "id": "1db4935a-53e6-4c1b-89b4-6160a052c1b9",
   "metadata": {},
   "outputs": [],
   "source": []
  },
  {
   "cell_type": "code",
   "execution_count": null,
   "id": "b7028772-cfc3-4556-a84c-0cf5c3ba2bd3",
   "metadata": {},
   "outputs": [],
   "source": []
  },
  {
   "cell_type": "code",
   "execution_count": null,
   "id": "9083ca1a-27a6-401c-a09a-7f59287fae03",
   "metadata": {},
   "outputs": [],
   "source": []
  },
  {
   "cell_type": "code",
   "execution_count": null,
   "id": "f400d986-e9e5-4026-805f-3513b5ffa5bc",
   "metadata": {},
   "outputs": [],
   "source": []
  }
 ],
 "metadata": {
  "kernelspec": {
   "display_name": "Python 3 (ipykernel)",
   "language": "python",
   "name": "python3"
  },
  "language_info": {
   "codemirror_mode": {
    "name": "ipython",
    "version": 3
   },
   "file_extension": ".py",
   "mimetype": "text/x-python",
   "name": "python",
   "nbconvert_exporter": "python",
   "pygments_lexer": "ipython3",
   "version": "3.11.5"
  }
 },
 "nbformat": 4,
 "nbformat_minor": 5
}
