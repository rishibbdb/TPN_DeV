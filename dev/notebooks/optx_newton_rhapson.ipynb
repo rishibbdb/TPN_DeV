{
 "cells": [
  {
   "cell_type": "code",
   "execution_count": 21,
   "id": "eef82e0c-dfa6-4fe6-981c-33c727e58cd8",
   "metadata": {},
   "outputs": [],
   "source": [
    "#!/usr/bin/env python\n",
    "\n",
    "from iminuit import Minuit\n",
    "import optimistix as optx\n",
    "import lineax as lx\n",
    "\n",
    "import sys, os\n",
    "sys.path.insert(0, \"/home/storage/hans/jax_reco\")\n",
    "os.environ['CUDA_VISIBLE_DEVICES'] = '0'\n",
    "\n",
    "import jax.numpy as jnp\n",
    "import jax\n",
    "jax.config.update(\"jax_enable_x64\", True)\n",
    "from jax.scipy import optimize\n",
    "\n",
    "import pandas as pd\n",
    "import numpy as np\n",
    "import matplotlib.pyplot as plt\n",
    "\n",
    "# TriplePandelSPE/JAX stuff\n",
    "from lib.simdata_i3 import I3SimHandlerFtr\n",
    "from lib.geo import center_track_pos_and_time_based_on_data\n",
    "from lib.network import get_network_eval_v_fn\n",
    "from dom_track_eval import get_eval_network_doms_and_track\n",
    "from likelihood_spe import get_neg_c_triple_gamma_llh\n",
    "from likelihood_spe import get_llh_and_grad_fs_for_iminuit_migrad\n",
    "\n",
    "from palettable.cubehelix import Cubehelix\n",
    "cx =Cubehelix.make(start=0.3, rotation=-0.5, n=16, reverse=False, gamma=1.0,\n",
    "                           max_light=1.0,max_sat=0.5, min_sat=1.4).get_mpl_colormap()\n",
    "\n",
    "# Number of scan points on 1D\n",
    "n_eval = 50 # making it a 100x100 grid\n",
    "\n",
    "# Scan range (truth +/- dzen, +/- dazi)\n",
    "dzen = 0.03 # rad\n",
    "dazi = 0.03 # rad"
   ]
  },
  {
   "cell_type": "code",
   "execution_count": 2,
   "id": "a720363b-544f-427e-9d2d-a3c9bed05377",
   "metadata": {},
   "outputs": [
    {
     "name": "stdout",
     "output_type": "stream",
     "text": [
      "muon energy: 2.2 TeV\n",
      "n_doms 58\n",
      "original seed vertex: [ 1180.18566012 -1499.16735802  -782.32800156]\n",
      "shifted seed vertex: [-38.65768538 207.2454018  145.80801123]\n"
     ]
    }
   ],
   "source": [
    "# Event Index.\n",
    "event_index = 3\n",
    "\n",
    "# Get network and eval logic.\n",
    "eval_network_v = get_network_eval_v_fn(bpath='/home/storage/hans/jax_reco/data/network')\n",
    "eval_network_doms_and_track = get_eval_network_doms_and_track(eval_network_v)\n",
    "\n",
    "# Get an IceCube event.\n",
    "bp = '/home/storage2/hans/i3files/21217'\n",
    "sim_handler = I3SimHandlerFtr(os.path.join(bp, 'meta_ds_21217_from_35000_to_53530.ftr'),\n",
    "                              os.path.join(bp, 'pulses_ds_21217_from_35000_to_53530.ftr'),\n",
    "                              '/home/storage/hans/jax_reco/data/icecube/detector_geometry.csv')\n",
    "\n",
    "meta, pulses = sim_handler.get_event_data(event_index)\n",
    "print(f\"muon energy: {meta['muon_energy_at_detector']/1.e3:.1f} TeV\")\n",
    "\n",
    "# Get dom locations, first hit times, and total charges (for each dom).\n",
    "event_data = sim_handler.get_per_dom_summary_from_sim_data(meta, pulses)\n",
    "\n",
    "print(\"n_doms\", len(event_data))\n",
    "\n",
    "# Make MCTruth seed.\n",
    "track_pos = jnp.array([meta['muon_pos_x'], meta['muon_pos_y'], meta['muon_pos_z']])\n",
    "track_time = meta['muon_time']\n",
    "track_zenith = meta['muon_zenith']\n",
    "track_azimuth = meta['muon_azimuth']\n",
    "track_src = jnp.array([track_zenith, track_azimuth])\n",
    "\n",
    "print(\"original seed vertex:\", track_pos)\n",
    "centered_track_pos, centered_track_time = center_track_pos_and_time_based_on_data(event_data, track_pos, track_time, track_src)\n",
    "print(\"shifted seed vertex:\", centered_track_pos)\n",
    "\n",
    "# Create some n_photons from qtot (by rounding up).\n",
    "n_photons = np.round(event_data['charge'].to_numpy()+0.5)"
   ]
  },
  {
   "cell_type": "code",
   "execution_count": 3,
   "id": "2c0e1fc1-16fb-415c-8058-9ba20d804f72",
   "metadata": {},
   "outputs": [
    {
     "name": "stdout",
     "output_type": "stream",
     "text": [
      "... solution found.\n",
      "-2*logl=737.833\n",
      "zenith=1.990rad\n",
      "azimuth=5.346rad\n",
      "x=-38.957m\n",
      "y=209.023m\n",
      "z=145.781m\n",
      "at fix time t=12375.863ns\n"
     ]
    }
   ],
   "source": [
    "# Combine into single data tensor for fitting.\n",
    "fitting_event_data = jnp.array(event_data[['x', 'y', 'z', 'time']].to_numpy())\n",
    "\n",
    "obj_fn, obj_grad = get_llh_and_grad_fs_for_iminuit_migrad(eval_network_doms_and_track)\n",
    "\n",
    "# put the thing below into a for loop if you want to reconstruct many events (without jit-recompiling everything)\n",
    "f_prime = lambda x: obj_fn(x, centered_track_time, fitting_event_data)\n",
    "grad_prime = lambda x: obj_grad(x, centered_track_time, fitting_event_data)\n",
    "\n",
    "x0 = jnp.concatenate([track_src, centered_track_pos])\n",
    "m = Minuit(f_prime, x0, grad=grad_prime)\n",
    "m.errordef = Minuit.LIKELIHOOD\n",
    "m.limits = ((0.0, np.pi), (0.0, 2.0 * np.pi), (-500.0, 500.0),  (-500.0, 500.0),  (-500.0, 500.0))\n",
    "m.strategy = 0\n",
    "m.migrad()\n",
    "\n",
    "print(\"... solution found.\")\n",
    "print(f\"-2*logl={m.fval:.3f}\")\n",
    "print(f\"zenith={m.values[0]:.3f}rad\")\n",
    "print(f\"azimuth={m.values[1]:.3f}rad\")\n",
    "print(f\"x={m.values[2]:.3f}m\")\n",
    "print(f\"y={m.values[3]:.3f}m\")\n",
    "print(f\"z={m.values[4]:.3f}m\")\n",
    "print(f\"at fix time t={centered_track_time:.3f}ns\")"
   ]
  },
  {
   "cell_type": "code",
   "execution_count": 56,
   "id": "718cc11b-63ac-43df-818a-11a903c6e51a",
   "metadata": {},
   "outputs": [],
   "source": [
    "# Setup likelihood\n",
    "neg_llh = get_neg_c_triple_gamma_llh(eval_network_doms_and_track)\n",
    "\n",
    "scale = 20.0\n",
    "@jax.jit\n",
    "def neg_llh_5D(x, args):\n",
    "        return neg_llh(x[:2]/scale, x[2:]*scale, centered_track_time, fitting_event_data)"
   ]
  },
  {
   "cell_type": "code",
   "execution_count": 57,
   "id": "bb5e1167-32a5-40e5-b3a5-b75dbba14267",
   "metadata": {},
   "outputs": [],
   "source": [
    "bounds = {'lower': jnp.array([0.0*scale, 0.0*scale, -700.0/scale, -700.0/scale, -700.0/scale]),\n",
    "'upper': jnp.array([jnp.pi*scale, 2.0*jnp.pi*scale, 700.0/scale, 700.0/scale, 700.0/scale])}\n",
    "\n",
    "newton = optx.Newton(rtol=1e-6, atol=1e-3)\n",
    "neg_llh_grad = jax.jit(jax.grad(neg_llh_5D))\n",
    "\n",
    "x0 = jnp.concatenate([track_src*scale, centered_track_pos/scale])\n",
    "result = optx.root_find(neg_llh_grad, newton, x0,  options=bounds)"
   ]
  },
  {
   "cell_type": "code",
   "execution_count": 58,
   "id": "402479f5-c179-430b-af7d-028ccca2fbb4",
   "metadata": {},
   "outputs": [
    {
     "name": "stdout",
     "output_type": "stream",
     "text": [
      "[  1.99009918   5.3461513  -38.95568903 209.02091478 145.78149786]\n",
      "737.8325328986425\n"
     ]
    }
   ],
   "source": [
    "new_result = jnp.concatenate([result.value[:2]/scale, result.value[2:]*scale])\n",
    "print(new_result)\n",
    "print(neg_llh_5D(result.value, None))"
   ]
  },
  {
   "cell_type": "code",
   "execution_count": 59,
   "id": "e1b8e719-eb46-4220-b604-61704862162b",
   "metadata": {},
   "outputs": [
    {
     "name": "stdout",
     "output_type": "stream",
     "text": [
      "19.7 ms ± 96.5 μs per loop (mean ± std. dev. of 7 runs, 10 loops each)\n"
     ]
    }
   ],
   "source": [
    "%timeit optx.root_find(neg_llh_grad, newton, x0,  options=bounds)"
   ]
  },
  {
   "cell_type": "code",
   "execution_count": 75,
   "id": "6d824525-6559-4739-b56b-4f250442e368",
   "metadata": {},
   "outputs": [],
   "source": [
    "bounds = {'lower': jnp.array([-700.0/scale, -700.0/scale, -700.0/scale]),\n",
    "'upper': jnp.array([700.0/scale, 700.0/scale, 700.0/scale])}\n",
    "x0 = jnp.array(centered_track_pos/scale)\n",
    "\n",
    "newton = optx.Newton(rtol=1e-6, atol=1e-3, linear_solver=lx.SVD())\n",
    "\n",
    "@jax.jit\n",
    "def neg_llh_3D(x, track_dir):\n",
    "    return neg_llh(track_dir, x*scale, centered_track_time, fitting_event_data)\n",
    "\n",
    "neg_llh_grad_3D = jax.jit(jax.grad(neg_llh_3D))\n",
    "\n",
    "def run_3D(track_dir):\n",
    "    values = optx.root_find(neg_llh_grad_3D, newton, x0, args=track_dir, options=bounds, max_steps=1000).value\n",
    "    return neg_llh_3D(values, track_dir)\n",
    "\n",
    "run_3D_v = jax.jit(jax.vmap(run_3D, 0, 0))"
   ]
  },
  {
   "cell_type": "code",
   "execution_count": 76,
   "id": "194c24ab-b60e-4308-98fe-68e3dfc8bd8a",
   "metadata": {},
   "outputs": [
    {
     "data": {
      "text/plain": [
       "Array(740.68839203, dtype=float64)"
      ]
     },
     "execution_count": 76,
     "metadata": {},
     "output_type": "execute_result"
    }
   ],
   "source": [
    "run_3D(track_src)"
   ]
  },
  {
   "cell_type": "code",
   "execution_count": 77,
   "id": "8649c66d-6160-4318-b108-781a7280c14a",
   "metadata": {},
   "outputs": [
    {
     "name": "stdout",
     "output_type": "stream",
     "text": [
      "46.2 ms ± 54.6 μs per loop (mean ± std. dev. of 7 runs, 10 loops each)\n"
     ]
    }
   ],
   "source": [
    "%timeit run_3D(track_src)"
   ]
  },
  {
   "cell_type": "code",
   "execution_count": 78,
   "id": "f2c10004-152b-4604-b277-46fb6dc8534d",
   "metadata": {},
   "outputs": [
    {
     "name": "stderr",
     "output_type": "stream",
     "text": [
      "jax.pure_callback failed\n",
      "Traceback (most recent call last):\n",
      "  File \"/home/hans/.local/share/virtualenvs/py3_jax_latest-mr9UFGRS/lib/python3.11/site-packages/jax/_src/callback.py\", line 79, in pure_callback_impl\n",
      "    return tree_util.tree_map(np.asarray, callback(*args))\n",
      "                                          ^^^^^^^^^^^^^^^\n",
      "  File \"/home/hans/.local/share/virtualenvs/py3_jax_latest-mr9UFGRS/lib/python3.11/site-packages/jax/_src/callback.py\", line 64, in __call__\n",
      "    return tree_util.tree_leaves(self.callback_func(*args, **kwargs))\n",
      "                                 ^^^^^^^^^^^^^^^^^^^^^^^^^^^^^^^^^^^\n",
      "  File \"/home/hans/.local/share/virtualenvs/py3_jax_latest-mr9UFGRS/lib/python3.11/site-packages/equinox/_errors.py\", line 70, in raises\n",
      "    raise EqxRuntimeError(msgs[_index.item()])\n",
      "equinox._errors.EqxRuntimeError: The maximum number of steps was reached in the nonlinear solver. The problem may not be solveable (e.g., a root-find on a function that has no roots), or you may need to increase `max_steps`.\n",
      "E0611 11:44:54.736537   20568 pjrt_stream_executor_client.cc:2826] Execution of replica 0 failed: INTERNAL: CustomCall failed: CpuCallback error: Traceback (most recent call last):\n",
      "  File \"<frozen runpy>\", line 198, in _run_module_as_main\n",
      "  File \"<frozen runpy>\", line 88, in _run_code\n",
      "  File \"/home/hans/.local/share/virtualenvs/py3_jax_latest-mr9UFGRS/lib/python3.11/site-packages/ipykernel_launcher.py\", line 18, in <module>\n",
      "  File \"/home/hans/.local/share/virtualenvs/py3_jax_latest-mr9UFGRS/lib/python3.11/site-packages/traitlets/config/application.py\", line 1075, in launch_instance\n",
      "  File \"/home/hans/.local/share/virtualenvs/py3_jax_latest-mr9UFGRS/lib/python3.11/site-packages/ipykernel/kernelapp.py\", line 739, in start\n",
      "  File \"/home/hans/.local/share/virtualenvs/py3_jax_latest-mr9UFGRS/lib/python3.11/site-packages/tornado/platform/asyncio.py\", line 205, in start\n",
      "  File \"/home/hans/.pyenv/versions/3.11.5/lib/python3.11/asyncio/base_events.py\", line 607, in run_forever\n",
      "  File \"/home/hans/.pyenv/versions/3.11.5/lib/python3.11/asyncio/base_events.py\", line 1922, in _run_once\n",
      "  File \"/home/hans/.pyenv/versions/3.11.5/lib/python3.11/asyncio/events.py\", line 80, in _run\n",
      "  File \"/home/hans/.local/share/virtualenvs/py3_jax_latest-mr9UFGRS/lib/python3.11/site-packages/ipykernel/kernelbase.py\", line 545, in dispatch_queue\n",
      "  File \"/home/hans/.local/share/virtualenvs/py3_jax_latest-mr9UFGRS/lib/python3.11/site-packages/ipykernel/kernelbase.py\", line 534, in process_one\n",
      "  File \"/home/hans/.local/share/virtualenvs/py3_jax_latest-mr9UFGRS/lib/python3.11/site-packages/ipykernel/kernelbase.py\", line 437, in dispatch_shell\n",
      "  File \"/home/hans/.local/share/virtualenvs/py3_jax_latest-mr9UFGRS/lib/python3.11/site-packages/ipykernel/ipkernel.py\", line 362, in execute_request\n",
      "  File \"/home/hans/.local/share/virtualenvs/py3_jax_latest-mr9UFGRS/lib/python3.11/site-packages/ipykernel/kernelbase.py\", line 778, in execute_request\n",
      "  File \"/home/hans/.local/share/virtualenvs/py3_jax_latest-mr9UFGRS/lib/python3.11/site-packages/ipykernel/ipkernel.py\", line 449, in do_execute\n",
      "  File \"/home/hans/.local/share/virtualenvs/py3_jax_latest-mr9UFGRS/lib/python3.11/site-packages/ipykernel/zmqshell.py\", line 549, in run_cell\n",
      "  File \"/home/hans/.local/share/virtualenvs/py3_jax_latest-mr9UFGRS/lib/python3.11/site-packages/IPython/core/interactiveshell.py\", line 3075, in run_cell\n",
      "  File \"/home/hans/.local/share/virtualenvs/py3_jax_latest-mr9UFGRS/lib/python3.11/site-packages/IPython/core/interactiveshell.py\", line 3130, in _run_cell\n",
      "  File \"/home/hans/.local/share/virtualenvs/py3_jax_latest-mr9UFGRS/lib/python3.11/site-packages/IPython/core/async_helpers.py\", line 129, in _pseudo_sync_runner\n",
      "  File \"/home/hans/.local/share/virtualenvs/py3_jax_latest-mr9UFGRS/lib/python3.11/site-packages/IPython/core/interactiveshell.py\", line 3334, in run_cell_async\n",
      "  File \"/home/hans/.local/share/virtualenvs/py3_jax_latest-mr9UFGRS/lib/python3.11/site-packages/IPython/core/interactiveshell.py\", line 3517, in run_ast_nodes\n",
      "  File \"/home/hans/.local/share/virtualenvs/py3_jax_latest-mr9UFGRS/lib/python3.11/site-packages/IPython/core/interactiveshell.py\", line 3577, in run_code\n",
      "  File \"/tmp/ipykernel_20568/2394509584.py\", line 16, in <module>\n",
      "  File \"/home/hans/.local/share/virtualenvs/py3_jax_latest-mr9UFGRS/lib/python3.11/site-packages/jax/_src/traceback_util.py\", line 179, in reraise_with_filtered_traceback\n",
      "  File \"/home/hans/.local/share/virtualenvs/py3_jax_latest-mr9UFGRS/lib/python3.11/site-packages/jax/_src/pjit.py\", line 304, in cache_miss\n",
      "  File \"/home/hans/.local/share/virtualenvs/py3_jax_latest-mr9UFGRS/lib/python3.11/site-packages/jax/_src/pjit.py\", line 181, in _python_pjit_helper\n",
      "  File \"/home/hans/.local/share/virtualenvs/py3_jax_latest-mr9UFGRS/lib/python3.11/site-packages/jax/_src/core.py\", line 2789, in bind\n",
      "  File \"/home/hans/.local/share/virtualenvs/py3_jax_latest-mr9UFGRS/lib/python3.11/site-packages/jax/_src/core.py\", line 391, in bind_with_trace\n",
      "  File \"/home/hans/.local/share/virtualenvs/py3_jax_latest-mr9UFGRS/lib/python3.11/site-packages/jax/_src/core.py\", line 879, in process_primitive\n",
      "  File \"/home/hans/.local/share/virtualenvs/py3_jax_latest-mr9UFGRS/lib/python3.11/site-packages/jax/_src/pjit.py\", line 1525, in _pjit_call_impl\n",
      "  File \"/home/hans/.local/share/virtualenvs/py3_jax_latest-mr9UFGRS/lib/python3.11/site-packages/jax/_src/pjit.py\", line 1508, in call_impl_cache_miss\n",
      "  File \"/home/hans/.local/share/virtualenvs/py3_jax_latest-mr9UFGRS/lib/python3.11/site-packages/jax/_src/pjit.py\", line 1462, in _pjit_call_impl_python\n",
      "  File \"/home/hans/.local/share/virtualenvs/py3_jax_latest-mr9UFGRS/lib/python3.11/site-packages/jax/_src/profiler.py\", line 335, in wrapper\n",
      "  File \"/home/hans/.local/share/virtualenvs/py3_jax_latest-mr9UFGRS/lib/python3.11/site-packages/jax/_src/interpreters/pxla.py\", line 1177, in __call__\n",
      "  File \"/home/hans/.local/share/virtualenvs/py3_jax_latest-mr9UFGRS/lib/python3.11/site-packages/jax/_src/interpreters/mlir.py\", line 2483, in _wrapped_callback\n",
      "  File \"/home/hans/.local/share/virtualenvs/py3_jax_latest-mr9UFGRS/lib/python3.11/site-packages/jax/_src/callback.py\", line 221, in _callback\n",
      "  File \"/home/hans/.local/share/virtualenvs/py3_jax_latest-mr9UFGRS/lib/python3.11/site-packages/jax/_src/callback.py\", line 82, in pure_callback_impl\n",
      "  File \"/home/hans/.local/share/virtualenvs/py3_jax_latest-mr9UFGRS/lib/python3.11/site-packages/jax/_src/callback.py\", line 64, in __call__\n",
      "  File \"/home/hans/.local/share/virtualenvs/py3_jax_latest-mr9UFGRS/lib/python3.11/site-packages/equinox/_errors.py\", line 70, in raises\n",
      "EqxRuntimeError: The maximum number of steps was reached in the nonlinear solver. The problem may not be solveable (e.g., a root-find on a function that has no roots), or you may need to increase `max_steps`.\n"
     ]
    },
    {
     "ename": "XlaRuntimeError",
     "evalue": "INTERNAL: CustomCall failed: CpuCallback error: Traceback (most recent call last):\n  File \"<frozen runpy>\", line 198, in _run_module_as_main\n  File \"<frozen runpy>\", line 88, in _run_code\n  File \"/home/hans/.local/share/virtualenvs/py3_jax_latest-mr9UFGRS/lib/python3.11/site-packages/ipykernel_launcher.py\", line 18, in <module>\n  File \"/home/hans/.local/share/virtualenvs/py3_jax_latest-mr9UFGRS/lib/python3.11/site-packages/traitlets/config/application.py\", line 1075, in launch_instance\n  File \"/home/hans/.local/share/virtualenvs/py3_jax_latest-mr9UFGRS/lib/python3.11/site-packages/ipykernel/kernelapp.py\", line 739, in start\n  File \"/home/hans/.local/share/virtualenvs/py3_jax_latest-mr9UFGRS/lib/python3.11/site-packages/tornado/platform/asyncio.py\", line 205, in start\n  File \"/home/hans/.pyenv/versions/3.11.5/lib/python3.11/asyncio/base_events.py\", line 607, in run_forever\n  File \"/home/hans/.pyenv/versions/3.11.5/lib/python3.11/asyncio/base_events.py\", line 1922, in _run_once\n  File \"/home/hans/.pyenv/versions/3.11.5/lib/python3.11/asyncio/events.py\", line 80, in _run\n  File \"/home/hans/.local/share/virtualenvs/py3_jax_latest-mr9UFGRS/lib/python3.11/site-packages/ipykernel/kernelbase.py\", line 545, in dispatch_queue\n  File \"/home/hans/.local/share/virtualenvs/py3_jax_latest-mr9UFGRS/lib/python3.11/site-packages/ipykernel/kernelbase.py\", line 534, in process_one\n  File \"/home/hans/.local/share/virtualenvs/py3_jax_latest-mr9UFGRS/lib/python3.11/site-packages/ipykernel/kernelbase.py\", line 437, in dispatch_shell\n  File \"/home/hans/.local/share/virtualenvs/py3_jax_latest-mr9UFGRS/lib/python3.11/site-packages/ipykernel/ipkernel.py\", line 362, in execute_request\n  File \"/home/hans/.local/share/virtualenvs/py3_jax_latest-mr9UFGRS/lib/python3.11/site-packages/ipykernel/kernelbase.py\", line 778, in execute_request\n  File \"/home/hans/.local/share/virtualenvs/py3_jax_latest-mr9UFGRS/lib/python3.11/site-packages/ipykernel/ipkernel.py\", line 449, in do_execute\n  File \"/home/hans/.local/share/virtualenvs/py3_jax_latest-mr9UFGRS/lib/python3.11/site-packages/ipykernel/zmqshell.py\", line 549, in run_cell\n  File \"/home/hans/.local/share/virtualenvs/py3_jax_latest-mr9UFGRS/lib/python3.11/site-packages/IPython/core/interactiveshell.py\", line 3075, in run_cell\n  File \"/home/hans/.local/share/virtualenvs/py3_jax_latest-mr9UFGRS/lib/python3.11/site-packages/IPython/core/interactiveshell.py\", line 3130, in _run_cell\n  File \"/home/hans/.local/share/virtualenvs/py3_jax_latest-mr9UFGRS/lib/python3.11/site-packages/IPython/core/async_helpers.py\", line 129, in _pseudo_sync_runner\n  File \"/home/hans/.local/share/virtualenvs/py3_jax_latest-mr9UFGRS/lib/python3.11/site-packages/IPython/core/interactiveshell.py\", line 3334, in run_cell_async\n  File \"/home/hans/.local/share/virtualenvs/py3_jax_latest-mr9UFGRS/lib/python3.11/site-packages/IPython/core/interactiveshell.py\", line 3517, in run_ast_nodes\n  File \"/home/hans/.local/share/virtualenvs/py3_jax_latest-mr9UFGRS/lib/python3.11/site-packages/IPython/core/interactiveshell.py\", line 3577, in run_code\n  File \"/tmp/ipykernel_20568/2394509584.py\", line 16, in <module>\n  File \"/home/hans/.local/share/virtualenvs/py3_jax_latest-mr9UFGRS/lib/python3.11/site-packages/jax/_src/traceback_util.py\", line 179, in reraise_with_filtered_traceback\n  File \"/home/hans/.local/share/virtualenvs/py3_jax_latest-mr9UFGRS/lib/python3.11/site-packages/jax/_src/pjit.py\", line 304, in cache_miss\n  File \"/home/hans/.local/share/virtualenvs/py3_jax_latest-mr9UFGRS/lib/python3.11/site-packages/jax/_src/pjit.py\", line 181, in _python_pjit_helper\n  File \"/home/hans/.local/share/virtualenvs/py3_jax_latest-mr9UFGRS/lib/python3.11/site-packages/jax/_src/core.py\", line 2789, in bind\n  File \"/home/hans/.local/share/virtualenvs/py3_jax_latest-mr9UFGRS/lib/python3.11/site-packages/jax/_src/core.py\", line 391, in bind_with_trace\n  File \"/home/hans/.local/share/virtualenvs/py3_jax_latest-mr9UFGRS/lib/python3.11/site-packages/jax/_src/core.py\", line 879, in process_primitive\n  File \"/home/hans/.local/share/virtualenvs/py3_jax_latest-mr9UFGRS/lib/python3.11/site-packages/jax/_src/pjit.py\", line 1525, in _pjit_call_impl\n  File \"/home/hans/.local/share/virtualenvs/py3_jax_latest-mr9UFGRS/lib/python3.11/site-packages/jax/_src/pjit.py\", line 1508, in call_impl_cache_miss\n  File \"/home/hans/.local/share/virtualenvs/py3_jax_latest-mr9UFGRS/lib/python3.11/site-packages/jax/_src/pjit.py\", line 1462, in _pjit_call_impl_python\n  File \"/home/hans/.local/share/virtualenvs/py3_jax_latest-mr9UFGRS/lib/python3.11/site-packages/jax/_src/profiler.py\", line 335, in wrapper\n  File \"/home/hans/.local/share/virtualenvs/py3_jax_latest-mr9UFGRS/lib/python3.11/site-packages/jax/_src/interpreters/pxla.py\", line 1177, in __call__\n  File \"/home/hans/.local/share/virtualenvs/py3_jax_latest-mr9UFGRS/lib/python3.11/site-packages/jax/_src/interpreters/mlir.py\", line 2483, in _wrapped_callback\n  File \"/home/hans/.local/share/virtualenvs/py3_jax_latest-mr9UFGRS/lib/python3.11/site-packages/jax/_src/callback.py\", line 221, in _callback\n  File \"/home/hans/.local/share/virtualenvs/py3_jax_latest-mr9UFGRS/lib/python3.11/site-packages/jax/_src/callback.py\", line 82, in pure_callback_impl\n  File \"/home/hans/.local/share/virtualenvs/py3_jax_latest-mr9UFGRS/lib/python3.11/site-packages/jax/_src/callback.py\", line 64, in __call__\n  File \"/home/hans/.local/share/virtualenvs/py3_jax_latest-mr9UFGRS/lib/python3.11/site-packages/equinox/_errors.py\", line 70, in raises\nEqxRuntimeError: The maximum number of steps was reached in the nonlinear solver. The problem may not be solveable (e.g., a root-find on a function that has no roots), or you may need to increase `max_steps`.",
     "output_type": "error",
     "traceback": [
      "\u001b[0;31m---------------------------------------------------------------------------\u001b[0m",
      "\u001b[0;31mXlaRuntimeError\u001b[0m                           Traceback (most recent call last)",
      "Cell \u001b[0;32mIn[78], line 16\u001b[0m\n\u001b[1;32m     13\u001b[0m X, Y \u001b[38;5;241m=\u001b[39m jnp\u001b[38;5;241m.\u001b[39mmeshgrid(zenith, azimuth)\n\u001b[1;32m     14\u001b[0m init_dirs \u001b[38;5;241m=\u001b[39m jnp\u001b[38;5;241m.\u001b[39mcolumn_stack([X\u001b[38;5;241m.\u001b[39mflatten(), Y\u001b[38;5;241m.\u001b[39mflatten()])\n\u001b[0;32m---> 16\u001b[0m logls \u001b[38;5;241m=\u001b[39m \u001b[43mrun_3D_v\u001b[49m\u001b[43m(\u001b[49m\u001b[43minit_dirs\u001b[49m\u001b[43m)\u001b[49m\n\u001b[1;32m     18\u001b[0m logls \u001b[38;5;241m=\u001b[39m logls\u001b[38;5;241m.\u001b[39mreshape(X\u001b[38;5;241m.\u001b[39mshape)\n\u001b[1;32m     19\u001b[0m time2 \u001b[38;5;241m=\u001b[39m time\u001b[38;5;241m.\u001b[39mtime()\n",
      "    \u001b[0;31m[... skipping hidden 10 frame]\u001b[0m\n",
      "File \u001b[0;32m~/.local/share/virtualenvs/py3_jax_latest-mr9UFGRS/lib/python3.11/site-packages/jax/_src/interpreters/pxla.py:1177\u001b[0m, in \u001b[0;36mExecuteReplicated.__call__\u001b[0;34m(self, *args)\u001b[0m\n\u001b[1;32m   1174\u001b[0m \u001b[38;5;28;01mif\u001b[39;00m (\u001b[38;5;28mself\u001b[39m\u001b[38;5;241m.\u001b[39mordered_effects \u001b[38;5;129;01mor\u001b[39;00m \u001b[38;5;28mself\u001b[39m\u001b[38;5;241m.\u001b[39mhas_unordered_effects\n\u001b[1;32m   1175\u001b[0m     \u001b[38;5;129;01mor\u001b[39;00m \u001b[38;5;28mself\u001b[39m\u001b[38;5;241m.\u001b[39mhas_host_callbacks):\n\u001b[1;32m   1176\u001b[0m   input_bufs \u001b[38;5;241m=\u001b[39m \u001b[38;5;28mself\u001b[39m\u001b[38;5;241m.\u001b[39m_add_tokens_to_inputs(input_bufs)\n\u001b[0;32m-> 1177\u001b[0m   results \u001b[38;5;241m=\u001b[39m \u001b[38;5;28;43mself\u001b[39;49m\u001b[38;5;241;43m.\u001b[39;49m\u001b[43mxla_executable\u001b[49m\u001b[38;5;241;43m.\u001b[39;49m\u001b[43mexecute_sharded\u001b[49m\u001b[43m(\u001b[49m\n\u001b[1;32m   1178\u001b[0m \u001b[43m      \u001b[49m\u001b[43minput_bufs\u001b[49m\u001b[43m,\u001b[49m\u001b[43m \u001b[49m\u001b[43mwith_tokens\u001b[49m\u001b[38;5;241;43m=\u001b[39;49m\u001b[38;5;28;43;01mTrue\u001b[39;49;00m\n\u001b[1;32m   1179\u001b[0m \u001b[43m  \u001b[49m\u001b[43m)\u001b[49m\n\u001b[1;32m   1180\u001b[0m   result_token_bufs \u001b[38;5;241m=\u001b[39m results\u001b[38;5;241m.\u001b[39mdisassemble_prefix_into_single_device_arrays(\n\u001b[1;32m   1181\u001b[0m       \u001b[38;5;28mlen\u001b[39m(\u001b[38;5;28mself\u001b[39m\u001b[38;5;241m.\u001b[39mordered_effects))\n\u001b[1;32m   1182\u001b[0m   sharded_runtime_token \u001b[38;5;241m=\u001b[39m results\u001b[38;5;241m.\u001b[39mconsume_token()\n",
      "\u001b[0;31mXlaRuntimeError\u001b[0m: INTERNAL: CustomCall failed: CpuCallback error: Traceback (most recent call last):\n  File \"<frozen runpy>\", line 198, in _run_module_as_main\n  File \"<frozen runpy>\", line 88, in _run_code\n  File \"/home/hans/.local/share/virtualenvs/py3_jax_latest-mr9UFGRS/lib/python3.11/site-packages/ipykernel_launcher.py\", line 18, in <module>\n  File \"/home/hans/.local/share/virtualenvs/py3_jax_latest-mr9UFGRS/lib/python3.11/site-packages/traitlets/config/application.py\", line 1075, in launch_instance\n  File \"/home/hans/.local/share/virtualenvs/py3_jax_latest-mr9UFGRS/lib/python3.11/site-packages/ipykernel/kernelapp.py\", line 739, in start\n  File \"/home/hans/.local/share/virtualenvs/py3_jax_latest-mr9UFGRS/lib/python3.11/site-packages/tornado/platform/asyncio.py\", line 205, in start\n  File \"/home/hans/.pyenv/versions/3.11.5/lib/python3.11/asyncio/base_events.py\", line 607, in run_forever\n  File \"/home/hans/.pyenv/versions/3.11.5/lib/python3.11/asyncio/base_events.py\", line 1922, in _run_once\n  File \"/home/hans/.pyenv/versions/3.11.5/lib/python3.11/asyncio/events.py\", line 80, in _run\n  File \"/home/hans/.local/share/virtualenvs/py3_jax_latest-mr9UFGRS/lib/python3.11/site-packages/ipykernel/kernelbase.py\", line 545, in dispatch_queue\n  File \"/home/hans/.local/share/virtualenvs/py3_jax_latest-mr9UFGRS/lib/python3.11/site-packages/ipykernel/kernelbase.py\", line 534, in process_one\n  File \"/home/hans/.local/share/virtualenvs/py3_jax_latest-mr9UFGRS/lib/python3.11/site-packages/ipykernel/kernelbase.py\", line 437, in dispatch_shell\n  File \"/home/hans/.local/share/virtualenvs/py3_jax_latest-mr9UFGRS/lib/python3.11/site-packages/ipykernel/ipkernel.py\", line 362, in execute_request\n  File \"/home/hans/.local/share/virtualenvs/py3_jax_latest-mr9UFGRS/lib/python3.11/site-packages/ipykernel/kernelbase.py\", line 778, in execute_request\n  File \"/home/hans/.local/share/virtualenvs/py3_jax_latest-mr9UFGRS/lib/python3.11/site-packages/ipykernel/ipkernel.py\", line 449, in do_execute\n  File \"/home/hans/.local/share/virtualenvs/py3_jax_latest-mr9UFGRS/lib/python3.11/site-packages/ipykernel/zmqshell.py\", line 549, in run_cell\n  File \"/home/hans/.local/share/virtualenvs/py3_jax_latest-mr9UFGRS/lib/python3.11/site-packages/IPython/core/interactiveshell.py\", line 3075, in run_cell\n  File \"/home/hans/.local/share/virtualenvs/py3_jax_latest-mr9UFGRS/lib/python3.11/site-packages/IPython/core/interactiveshell.py\", line 3130, in _run_cell\n  File \"/home/hans/.local/share/virtualenvs/py3_jax_latest-mr9UFGRS/lib/python3.11/site-packages/IPython/core/async_helpers.py\", line 129, in _pseudo_sync_runner\n  File \"/home/hans/.local/share/virtualenvs/py3_jax_latest-mr9UFGRS/lib/python3.11/site-packages/IPython/core/interactiveshell.py\", line 3334, in run_cell_async\n  File \"/home/hans/.local/share/virtualenvs/py3_jax_latest-mr9UFGRS/lib/python3.11/site-packages/IPython/core/interactiveshell.py\", line 3517, in run_ast_nodes\n  File \"/home/hans/.local/share/virtualenvs/py3_jax_latest-mr9UFGRS/lib/python3.11/site-packages/IPython/core/interactiveshell.py\", line 3577, in run_code\n  File \"/tmp/ipykernel_20568/2394509584.py\", line 16, in <module>\n  File \"/home/hans/.local/share/virtualenvs/py3_jax_latest-mr9UFGRS/lib/python3.11/site-packages/jax/_src/traceback_util.py\", line 179, in reraise_with_filtered_traceback\n  File \"/home/hans/.local/share/virtualenvs/py3_jax_latest-mr9UFGRS/lib/python3.11/site-packages/jax/_src/pjit.py\", line 304, in cache_miss\n  File \"/home/hans/.local/share/virtualenvs/py3_jax_latest-mr9UFGRS/lib/python3.11/site-packages/jax/_src/pjit.py\", line 181, in _python_pjit_helper\n  File \"/home/hans/.local/share/virtualenvs/py3_jax_latest-mr9UFGRS/lib/python3.11/site-packages/jax/_src/core.py\", line 2789, in bind\n  File \"/home/hans/.local/share/virtualenvs/py3_jax_latest-mr9UFGRS/lib/python3.11/site-packages/jax/_src/core.py\", line 391, in bind_with_trace\n  File \"/home/hans/.local/share/virtualenvs/py3_jax_latest-mr9UFGRS/lib/python3.11/site-packages/jax/_src/core.py\", line 879, in process_primitive\n  File \"/home/hans/.local/share/virtualenvs/py3_jax_latest-mr9UFGRS/lib/python3.11/site-packages/jax/_src/pjit.py\", line 1525, in _pjit_call_impl\n  File \"/home/hans/.local/share/virtualenvs/py3_jax_latest-mr9UFGRS/lib/python3.11/site-packages/jax/_src/pjit.py\", line 1508, in call_impl_cache_miss\n  File \"/home/hans/.local/share/virtualenvs/py3_jax_latest-mr9UFGRS/lib/python3.11/site-packages/jax/_src/pjit.py\", line 1462, in _pjit_call_impl_python\n  File \"/home/hans/.local/share/virtualenvs/py3_jax_latest-mr9UFGRS/lib/python3.11/site-packages/jax/_src/profiler.py\", line 335, in wrapper\n  File \"/home/hans/.local/share/virtualenvs/py3_jax_latest-mr9UFGRS/lib/python3.11/site-packages/jax/_src/interpreters/pxla.py\", line 1177, in __call__\n  File \"/home/hans/.local/share/virtualenvs/py3_jax_latest-mr9UFGRS/lib/python3.11/site-packages/jax/_src/interpreters/mlir.py\", line 2483, in _wrapped_callback\n  File \"/home/hans/.local/share/virtualenvs/py3_jax_latest-mr9UFGRS/lib/python3.11/site-packages/jax/_src/callback.py\", line 221, in _callback\n  File \"/home/hans/.local/share/virtualenvs/py3_jax_latest-mr9UFGRS/lib/python3.11/site-packages/jax/_src/callback.py\", line 82, in pure_callback_impl\n  File \"/home/hans/.local/share/virtualenvs/py3_jax_latest-mr9UFGRS/lib/python3.11/site-packages/jax/_src/callback.py\", line 64, in __call__\n  File \"/home/hans/.local/share/virtualenvs/py3_jax_latest-mr9UFGRS/lib/python3.11/site-packages/equinox/_errors.py\", line 70, in raises\nEqxRuntimeError: The maximum number of steps was reached in the nonlinear solver. The problem may not be solveable (e.g., a root-find on a function that has no roots), or you may need to increase `max_steps`."
     ]
    }
   ],
   "source": [
    "import time\n",
    "\n",
    "time1 = time.time()\n",
    "# Number of scan points on 1D\n",
    "n_eval = 10 # making it a 30x30 grid\n",
    "\n",
    "# Scan range (truth +/- dzen, +/- dazi)\n",
    "dzen = 0.03 # rad\n",
    "dazi = 0.03 # rad\n",
    "\n",
    "zenith = jnp.linspace(track_src[0]-dzen, track_src[0]+dazi, n_eval)\n",
    "azimuth = jnp.linspace(track_src[1]-dzen, track_src[1]+dazi, n_eval)\n",
    "X, Y = jnp.meshgrid(zenith, azimuth)\n",
    "init_dirs = jnp.column_stack([X.flatten(), Y.flatten()])\n",
    "\n",
    "logls = run_3D_v(init_dirs)\n",
    "\n",
    "logls = logls.reshape(X.shape)\n",
    "time2 = time.time()\n",
    "\n",
    "print(f\"elapsed: {time2-time1}s\")"
   ]
  },
  {
   "cell_type": "code",
   "execution_count": null,
   "id": "472c9929-40d0-48d2-a280-3186e9a0048e",
   "metadata": {},
   "outputs": [],
   "source": []
  }
 ],
 "metadata": {
  "kernelspec": {
   "display_name": "Python 3 (ipykernel)",
   "language": "python",
   "name": "python3"
  },
  "language_info": {
   "codemirror_mode": {
    "name": "ipython",
    "version": 3
   },
   "file_extension": ".py",
   "mimetype": "text/x-python",
   "name": "python",
   "nbconvert_exporter": "python",
   "pygments_lexer": "ipython3",
   "version": "3.11.5"
  }
 },
 "nbformat": 4,
 "nbformat_minor": 5
}
