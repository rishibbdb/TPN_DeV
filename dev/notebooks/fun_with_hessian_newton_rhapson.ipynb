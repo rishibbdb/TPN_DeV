{
 "cells": [
  {
   "cell_type": "code",
   "execution_count": 3,
   "id": "94f505f9-1da5-4451-86e0-7c9ba6fddd08",
   "metadata": {},
   "outputs": [
    {
     "name": "stdout",
     "output_type": "stream",
     "text": [
      "muon energy: 2.2 TeV\n",
      "n_doms 58\n",
      "original seed vertex: [ 1180.18566012 -1499.16735802  -782.32800156]\n",
      "shifted seed vertex: [-38.65768538 207.2454018  145.80801123]\n"
     ]
    }
   ],
   "source": [
    "\n",
    "from iminuit import Minuit\n",
    "import sys, os\n",
    "sys.path.insert(0, \"/home/storage/hans/jax_reco\")\n",
    "os.environ['CUDA_VISIBLE_DEVICES'] = '0'\n",
    "\n",
    "import jax.numpy as jnp\n",
    "import jax\n",
    "jax.config.update(\"jax_enable_x64\", True)\n",
    "import jaxopt\n",
    "\n",
    "import pandas as pd\n",
    "import numpy as np\n",
    "from lib.simdata_i3 import I3SimHandlerFtr\n",
    "from lib.geo import center_track_pos_and_time_based_on_data\n",
    "from lib.network import get_network_eval_v_fn\n",
    "from lib.experimental_methods import remove_early_pulses\n",
    "from dom_track_eval import get_eval_network_doms_and_track\n",
    "from likelihood_spe import get_neg_c_triple_gamma_llh\n",
    "\n",
    "# Event Index.\n",
    "event_index = 3\n",
    "\n",
    "# Get network and eval logic.\n",
    "eval_network_v = get_network_eval_v_fn(bpath='/home/storage/hans/jax_reco/data/network')\n",
    "eval_network_doms_and_track = get_eval_network_doms_and_track(eval_network_v)\n",
    "\n",
    "# Get an IceCube event.\n",
    "bp = '/home/storage2/hans/i3files/21217'\n",
    "sim_handler = I3SimHandlerFtr(os.path.join(bp, 'meta_ds_21217_from_35000_to_53530.ftr'),\n",
    "                              os.path.join(bp, 'pulses_ds_21217_from_35000_to_53530.ftr'),\n",
    "                              '/home/storage/hans/jax_reco/data/icecube/detector_geometry.csv')\n",
    "\n",
    "meta, pulses = sim_handler.get_event_data(event_index)\n",
    "print(f\"muon energy: {meta['muon_energy_at_detector']/1.e3:.1f} TeV\")\n",
    "\n",
    "# Get dom locations, first hit times, and total charges (for each dom).\n",
    "event_data = sim_handler.get_per_dom_summary_from_sim_data(meta, pulses)\n",
    "\n",
    "print(\"n_doms\", len(event_data))\n",
    "\n",
    "# Make MCTruth seed.\n",
    "track_pos = jnp.array([meta['muon_pos_x'], meta['muon_pos_y'], meta['muon_pos_z']])\n",
    "track_time = meta['muon_time']\n",
    "track_zenith = meta['muon_zenith']\n",
    "track_azimuth = meta['muon_azimuth']\n",
    "track_src = jnp.array([track_zenith, track_azimuth])\n",
    "\n",
    "print(\"original seed vertex:\", track_pos)\n",
    "centered_track_pos, centered_track_time = center_track_pos_and_time_based_on_data(event_data, track_pos, track_time, track_src)\n",
    "print(\"shifted seed vertex:\", centered_track_pos)"
   ]
  },
  {
   "cell_type": "code",
   "execution_count": 4,
   "id": "60dc4371-89b6-4df4-8d86-aa6781d27e07",
   "metadata": {},
   "outputs": [],
   "source": [
    "# Create some n_photons from qtot (by rounding up).\n",
    "n_photons = np.round(event_data['charge'].to_numpy()+0.5)\n",
    "\n",
    "# Combine into single data tensor for fitting.\n",
    "fitting_event_data = jnp.array(event_data[['x', 'y', 'z', 'time']].to_numpy())\n",
    "\n",
    "# Clean random early events\n",
    "fitting_event_data = fitting_event_data = remove_early_pulses(eval_network_doms_and_track, \n",
    "                                                              fitting_event_data, \n",
    "                                                              centered_track_pos, \n",
    "                                                              track_src, \n",
    "                                                              centered_track_time)\n",
    "\n",
    "# Setup likelihood\n",
    "neg_llh = get_neg_c_triple_gamma_llh(eval_network_doms_and_track)"
   ]
  },
  {
   "cell_type": "code",
   "execution_count": 69,
   "id": "6dcde138-6b78-41d6-8fea-9a8b1e6d6c83",
   "metadata": {},
   "outputs": [],
   "source": [
    "scale = 20.0\n",
    "@jax.jit\n",
    "def neg_llh_5D(x):\n",
    "        zenith = x[0] / scale\n",
    "        azimuth = x[1] / scale\n",
    "        zenith = jnp.fmod(zenith, 2.0*jnp.pi)\n",
    "        zenith = jnp.where(zenith < 0, zenith+2.0*jnp.pi, zenith)\n",
    "        cond = zenith > jnp.pi\n",
    "        zenith = jnp.where(cond, -1.0*zenith+2.0*jnp.pi, zenith)\n",
    "        azimuth = jnp.where(cond, azimuth-jnp.pi, azimuth)\n",
    "\n",
    "        azimuth = jnp.fmod(azimuth, 2.0*jnp.pi)\n",
    "        azimuth = jnp.where(azimuth < 0, azimuth+2.0*jnp.pi, azimuth)\n",
    "        \n",
    "        projected_dir = jnp.array([zenith, azimuth])\n",
    "        return neg_llh(projected_dir, x[2:]*scale, centered_track_time, fitting_event_data)\n",
    "\n",
    "G_poisson_logL = jax.jit(jax.grad(neg_llh_5D))\n",
    "H_poisson_logL = jax.jit(jax.jacfwd(G_poisson_logL))"
   ]
  },
  {
   "cell_type": "code",
   "execution_count": 70,
   "id": "755c8891-f51c-42a0-8b73-e30fdf587e16",
   "metadata": {},
   "outputs": [
    {
     "name": "stdout",
     "output_type": "stream",
     "text": [
      "[[1034.54889415   41.49182208  205.93611881 -503.65344859  837.31576855]\n",
      " [  41.49182208  207.94018926  160.29132379  -60.17490748   64.36933741]\n",
      " [ 205.93611881  160.29132379  296.16994143 -133.45839129  282.13215335]\n",
      " [-503.65344859  -60.17490748 -133.45839129 2731.74672407  362.78150213]\n",
      " [ 837.31576855   64.36933741  282.13215335  362.78150213 1622.60193159]]\n"
     ]
    }
   ],
   "source": [
    "x0 = jnp.concatenate([track_src*scale, centered_track_pos/scale])\n",
    "print(jnp.squeeze(H_poisson_logL(x0)))"
   ]
  },
  {
   "cell_type": "code",
   "execution_count": 71,
   "id": "de6c18ef-3572-4609-b949-ccab9e72fef9",
   "metadata": {},
   "outputs": [],
   "source": [
    "@jax.jit\n",
    "def update(β):\n",
    "    H, G = jnp.squeeze(H_poisson_logL(β)), G_poisson_logL(β)\n",
    "    β_new = β - (jnp.dot(jnp.linalg.inv(H), G))\n",
    "    error = jnp.abs(β_new - β)\n",
    "    β = β_new\n",
    "    return β"
   ]
  },
  {
   "cell_type": "code",
   "execution_count": 76,
   "id": "ce219521-914f-4d54-a2d9-1480d053b1d5",
   "metadata": {},
   "outputs": [],
   "source": [
    "import jaxopt\n",
    "solve = jax.jit(jaxopt.linear_solve.solve_cg)\n",
    "\n",
    "def newton_raphson(β, tol=1e-3, max_iter=5, display=True):\n",
    "\n",
    "    i = 0\n",
    "    error = 100  # Initial error value\n",
    "  \n",
    "    while jnp.any(error > tol) and i < max_iter:\n",
    "        #H, G = jnp.squeeze(H_poisson_logL(β)), G_poisson_logL(β)\n",
    "        H, G = H_poisson_logL(β), G_poisson_logL(β)\n",
    "        #β_new = β - (jnp.dot(jnp.linalg.inv(H), G))\n",
    "        #β_new = β - jax.scipy.linalg.solve(H ,G, assume_a='pos')\n",
    "        β_new = β - solve(H, G, tol=1.e-5)\n",
    "        error = jnp.abs(β_new - β)\n",
    "        β = β_new\n",
    "        #β = update(β)\n",
    "\n",
    "        i += 1\n",
    "\n",
    "    return β"
   ]
  },
  {
   "cell_type": "code",
   "execution_count": 77,
   "id": "d552ddf4-8495-443e-b965-7e629468e289",
   "metadata": {},
   "outputs": [
    {
     "name": "stdout",
     "output_type": "stream",
     "text": [
      "... solution found.\n",
      "-2*logl=737.833\n",
      "zenith=1.990rad\n",
      "azimuth=5.346rad\n",
      "x=-38.956m\n",
      "y=209.021m\n",
      "z=145.781m\n",
      "at fix time t=12375.863ns\n"
     ]
    }
   ],
   "source": [
    "best_x = newton_raphson(x0, display=False)\n",
    "best_logl = neg_llh_5D(best_x)\n",
    "\n",
    "print(\"... solution found.\")\n",
    "print(f\"-2*logl={best_logl:.3f}\")\n",
    "print(f\"zenith={best_x[0]/scale:.3f}rad\")\n",
    "print(f\"azimuth={best_x[1]/scale:.3f}rad\")\n",
    "print(f\"x={best_x[2]*scale:.3f}m\")\n",
    "print(f\"y={best_x[3]*scale:.3f}m\")\n",
    "print(f\"z={best_x[4]*scale:.3f}m\")\n",
    "print(f\"at fix time t={centered_track_time:.3f}ns\")"
   ]
  },
  {
   "cell_type": "code",
   "execution_count": 78,
   "id": "7830a70b-bf9c-4297-a073-55587c6db58b",
   "metadata": {},
   "outputs": [
    {
     "name": "stdout",
     "output_type": "stream",
     "text": [
      "25.2 ms ± 57.2 μs per loop (mean ± std. dev. of 7 runs, 10 loops each)\n"
     ]
    }
   ],
   "source": [
    "%timeit newton_raphson(x0, display=False)"
   ]
  },
  {
   "cell_type": "code",
   "execution_count": 79,
   "id": "dc5ce58b-d7be-4602-a8bb-e78e350b17e6",
   "metadata": {},
   "outputs": [],
   "source": [
    "scale = 20.0\n",
    "@jax.jit\n",
    "def neg_llh_3D(x, track_dir):\n",
    "    return neg_llh(track_dir, x*scale, centered_track_time, fitting_event_data)"
   ]
  },
  {
   "cell_type": "code",
   "execution_count": 80,
   "id": "342a4e7c-895d-43d0-aec7-9dbd7bfeb5ee",
   "metadata": {},
   "outputs": [],
   "source": [
    "G_poisson_logL = jax.jit(jax.grad(neg_llh_3D))\n",
    "H_poisson_logL = jax.jit(jax.jacfwd(G_poisson_logL))"
   ]
  },
  {
   "cell_type": "code",
   "execution_count": 85,
   "id": "c7859954-58d4-441c-b0f0-4d11666d6033",
   "metadata": {},
   "outputs": [],
   "source": [
    "def newton_raphson(β, track_dir, tol=1e-3, max_iter=10, display=True):\n",
    "\n",
    "    i = 0\n",
    "    error = 100  # Initial error value\n",
    "  \n",
    "    while jnp.any(error > tol) and i < max_iter:\n",
    "        #H, G = jnp.squeeze(H_poisson_logL(β)), G_poisson_logL(β)\n",
    "        H, G = H_poisson_logL(β, track_dir), G_poisson_logL(β, track_dir)\n",
    "        #β_new = β - (jnp.dot(jnp.linalg.inv(H), G))\n",
    "        #β_new = β - jax.scipy.linalg.solve(H ,G, assume_a='her')\n",
    "        #β_new = β - jax.numpy.linalg.solve(H ,G)\n",
    "        β_new = β - solve(H, G, tol=1.e-3)\n",
    "        error = jnp.abs(β_new - β)\n",
    "        β = β_new\n",
    "        #β = update(β)\n",
    "\n",
    "        i += 1\n",
    "\n",
    "    return β"
   ]
  },
  {
   "cell_type": "code",
   "execution_count": 86,
   "id": "316b8cd3-b597-4568-80ec-9f0093b81edf",
   "metadata": {},
   "outputs": [
    {
     "name": "stdout",
     "output_type": "stream",
     "text": [
      "elapsed: 19.726627349853516s\n"
     ]
    }
   ],
   "source": [
    "import time\n",
    "\n",
    "time1 = time.time()\n",
    "# Number of scan points on 1D\n",
    "n_eval = 20 # making it a 30x30 grid\n",
    "\n",
    "# Scan range (truth +/- dzen, +/- dazi)\n",
    "dzen = 0.03 # rad\n",
    "dazi = 0.03 # rad\n",
    "\n",
    "zenith = jnp.linspace(track_src[0]-dzen, track_src[0]+dazi, n_eval)\n",
    "azimuth = jnp.linspace(track_src[1]-dzen, track_src[1]+dazi, n_eval)\n",
    "X, Y = jnp.meshgrid(zenith, azimuth)\n",
    "init_dirs = jnp.column_stack([X.flatten(), Y.flatten()])\n",
    "\n",
    "logls = np.zeros(len(init_dirs))\n",
    "\n",
    "x0 = centered_track_pos/scale\n",
    "for i, tdir in enumerate(init_dirs):\n",
    "        result = newton_raphson(x0, tdir)\n",
    "        #result = solve(x0, tdir, centered_track_time, fitting_event_data)\n",
    "        logls[i] = neg_llh_3D(result, tdir)\n",
    "\n",
    "logls = logls.reshape(X.shape)\n",
    "time2 = time.time()\n",
    "\n",
    "print(f\"elapsed: {time2-time1}s\")"
   ]
  },
  {
   "cell_type": "code",
   "execution_count": 87,
   "id": "74936303-d877-49db-88a5-cc6be87cd179",
   "metadata": {},
   "outputs": [
    {
     "name": "stdout",
     "output_type": "stream",
     "text": [
      "[[  776.52536438   776.19874316   781.42657759   772.2798613\n",
      "    770.10856197   766.65778236   763.59461002   761.38568679\n",
      "    760.19910231   759.93230283   760.52511018 39562.87818321\n",
      "    762.87722409   764.45275546   766.29135216   769.42081635\n",
      "    771.97008241   773.28113275   774.22368405   775.86020275]\n",
      " [  775.38105361 24707.12180595  2441.63141548   771.06024857\n",
      "    768.21577442   764.40687629   761.10420486   758.78225347\n",
      "    757.38450904   757.25370959   757.53342103   758.95816731\n",
      "    760.0882718    761.90269389   764.19976454   803.11586862\n",
      "    787.85308628   785.00151456   773.26300542   778.96000876]\n",
      " [13500.71468435   776.1806336   1200.14674417   769.69607062\n",
      "    767.63281395   762.60463791   758.94734908   756.82272076\n",
      "    754.69282896   755.08983842   754.63347065   756.50632702\n",
      "    757.37672      759.52386815   762.45536614   764.12136577\n",
      "    766.74860799   769.0115252    770.12357608   790.02940874]\n",
      " [  774.00460086   782.45041787   777.56676069   772.27324655\n",
      "    765.14883035  1096.10989332   757.49792953   754.11171485\n",
      "    752.23193206   751.51786484   875.93009186   753.82009485\n",
      "    755.27842139   758.3534844    760.30581484   762.3239213\n",
      "    765.26064865   767.16039516   769.17172002   769.83764463]\n",
      " [39161.51638174   783.57993093   770.61133781   767.71807022\n",
      "    763.89338307 22957.1977141    755.72550835   752.27773299\n",
      "    750.06750775   748.69844276   749.39186209   751.22201137\n",
      "    752.33327303   755.73646757   764.42797482   759.2832461\n",
      "    762.36714148   765.46628532   765.7480493    768.52269457]\n",
      " [  779.65113327   770.02419129 41906.44509749   766.52741726\n",
      "    762.87970278 28625.93435812   758.03893651   750.63408377\n",
      "    755.41950002   746.6556413    746.99103286   749.19337062\n",
      "    750.16906614   753.33778992   755.86156704   759.99181775\n",
      "    759.42189645   764.41555095 34024.81965311   766.99355655]\n",
      " [  773.82941265   769.37631509   769.31573321   765.78554411\n",
      "    762.43752486   759.11632727   753.68576232   753.09656563\n",
      "   1705.47519115   749.72181755   744.93009558   746.00660077\n",
      "    748.38801875   751.18382587  1526.09443199   758.21329083\n",
      "    757.68302001   763.97793799  4292.89844695   765.92145774]\n",
      " [  772.75501411   772.607193     766.34171163   765.27508658\n",
      "    762.09166693  6255.76043911   753.19661548   748.24982349\n",
      "    745.03738491   743.56398066   753.86914662   744.17076612\n",
      "    746.33294714  2096.97936712   760.22848169   756.78626523\n",
      "    756.35102322   759.02494811   762.24981327   766.59180201]\n",
      " [  770.18706767   769.04841782   767.2177291    764.39113349\n",
      "    763.3440496    758.2060584    752.94872344 38850.7598474\n",
      "    763.95399049   742.22059985   741.70162918   745.68733364\n",
      "    744.79256225   748.15294276   751.67065568   754.69238868\n",
      "    755.22794719   772.92026075   760.87988803   786.49033044]\n",
      " [  769.82426319   770.12469048   766.55572061   762.82494211\n",
      "    759.44034837   757.12238598   753.30408557   749.98798676\n",
      "    762.52679545   741.49769468   740.79349526   741.73548263\n",
      "    744.96658824  5500.2878417    748.75513115   753.4070013\n",
      "    762.9848972    758.40494465   760.3620607    761.78856456]\n",
      " [13949.64957226   769.35430264   767.15540139   761.7675469\n",
      "    758.65778598   796.26208841   757.28885818   749.08357174\n",
      "    743.6449446    741.54625129   740.24899318   741.13673888\n",
      "    744.13070158   745.50878304   747.88778212   750.57054596\n",
      "    753.40716672   756.01353513   758.96346852   760.13121717]\n",
      " [  769.52374204   766.79279672   763.72555489   760.99606843\n",
      "    758.83094755   754.40135414   753.79058749   747.75366037\n",
      "    743.45083534   740.84504274   739.86332871   740.72189081\n",
      "    742.73590871   744.75217516   747.0522489    935.85975668\n",
      "    752.1407333    754.69563539   756.4036607    758.43423989]\n",
      " [  769.8325966    767.09948773   763.68976194   760.63625622\n",
      "    760.70723825   758.88884041   751.98860503   746.50428891\n",
      "   1023.79554321   739.88322437   738.92430857   739.83263284\n",
      "    741.86821417   744.12641558   745.93769403 16836.64412348\n",
      "    752.22274477   753.12779129   755.45864688   757.44228574]\n",
      " [  770.46180709   767.58733657   764.02597535   760.83525728\n",
      "    758.08045436   753.80314609   750.40024407   745.50382171\n",
      "    741.176398     739.18015335   738.09705997   738.81475975\n",
      "    740.57175408   743.40034216   745.41242385   797.98708692\n",
      "    750.2903078    752.40991725   754.884072    2518.19432651]\n",
      " [  771.33445012   768.19421019   764.66225564   761.20411253\n",
      "    761.80588802   753.68862666   771.78385997   745.145884\n",
      "    741.6288409    739.15295996   737.95256888   738.43351107\n",
      "    739.83783966   742.30398094   745.04843832   747.49428973\n",
      "    749.7534238    752.10913029   754.43241823   843.03271216]\n",
      " [  772.40269371   769.1469221    766.22724729   761.80818176\n",
      "    758.29006412   753.80488184   749.58735417   745.63182838\n",
      "    742.30704706   739.88692108   738.59062737   738.83901995\n",
      "    739.88941635   741.93952348   744.58065923   747.41803693\n",
      "    749.67601404   752.17408893   754.44590697   756.34474455]\n",
      " [  773.74952428   770.56352302   767.3405542    762.80165338\n",
      "    759.84064771   754.64833973   750.56155606   746.86899763\n",
      "    743.72964399   741.3243224    739.9909443    740.02731095\n",
      "    740.75106576   742.40105099   744.64199917   747.3716795\n",
      "    749.90323342   752.44052094   754.84646449   756.88174408]\n",
      " [  775.70191853   771.97581069   768.90776987   764.32091894\n",
      "    760.01514483   756.18229595   752.30887492   748.79108584\n",
      "    745.80640031   743.49117422   742.06052741   741.9106346\n",
      "    742.34733849   743.61796139   745.67868918   748.08046452\n",
      "    750.67642658   752.88961758   755.07291156   758.52656068]\n",
      " [  777.44337097   773.81909256   771.00321174   766.35199626\n",
      "    765.27693059   757.73138108   754.6015314    751.26000136\n",
      "    748.41646063   746.12117668   744.67269153   750.44810816\n",
      "    744.55467928   745.50654367   747.02516534   749.38628501\n",
      "    886.14028507   753.42129614   755.86321429   758.34136274]\n",
      " [  779.70532471   776.16052673 20348.7555038    768.55291518\n",
      "    763.81391098   760.66426319   757.31630947   754.14684429\n",
      "    751.43093272   749.24160828   747.69652067   747.44789936\n",
      "    747.20569435   747.91455916   749.19745167   750.79726276\n",
      "    752.61148642   754.58672981   756.64165401   759.53430425]]\n"
     ]
    }
   ],
   "source": [
    "print(logls)"
   ]
  },
  {
   "cell_type": "code",
   "execution_count": 88,
   "id": "5230e157-b45d-4298-8a4f-d0aa2546af52",
   "metadata": {},
   "outputs": [
    {
     "data": {
      "image/png": "[encoded data removed]",
      "text/plain": [
       "<Figure size 640x480 with 2 Axes>"
      ]
     },
     "metadata": {},
     "output_type": "display_data"
    }
   ],
   "source": [
    "import matplotlib.pyplot as plt\n",
    "from palettable.cubehelix import Cubehelix\n",
    "cx =Cubehelix.make(start=0.3, rotation=-0.5, n=16, reverse=False, gamma=1.0,\n",
    "                           max_light=1.0,max_sat=0.5, min_sat=1.4).get_mpl_colormap()\n",
    "\n",
    "logls[np.isnan(logls)]=np.nanmin(logls)\n",
    "fig, ax = plt.subplots()\n",
    "min_logl = np.amin(logls)\n",
    "delta_logl = logls - np.nanmin(logls)\n",
    "pc = ax.pcolormesh(np.rad2deg(X), np.rad2deg(Y), delta_logl, vmin=0, vmax=np.min([25, 1.2*np.amax(delta_logl)]), shading='auto', cmap=cx)\n",
    "cbar = fig.colorbar(pc)\n",
    "cbar.ax.tick_params(labelsize=16)\n",
    "cbar.ax.get_yaxis().labelpad = 5\n",
    "cbar.set_label(\"-2$\\\\Delta$log $L_{SPE}$\", fontsize=20)\n",
    "cbar.outline.set_linewidth(1.5)\n",
    "\n",
    "ax.set_xlabel(\"zenith [deg]\", fontsize=16)\n",
    "ax.set_ylabel(\"azimuth [deg]\", fontsize=16)\n",
    "ax.set_xlim(np.rad2deg([track_src[0]-dzen, track_src[0]+dzen]))\n",
    "ax.set_ylim(np.rad2deg([track_src[1]-dazi, track_src[1]+dazi]))\n",
    "ax.tick_params(axis='both', which='both', width=1.5, colors='0.0', labelsize=16)\n",
    "\n",
    "ax.scatter(np.rad2deg(track_src[0]), np.rad2deg(track_src[1]), marker=\"*\", color='red', label=\"truth\", zorder=200)\n",
    "\n",
    "smpe_zenith = meta['spline_mpe_zenith']\n",
    "smpe_azimuth = meta['spline_mpe_azimuth']\n",
    "ax.scatter(np.rad2deg([smpe_zenith]), np.rad2deg([smpe_azimuth]), marker=\"x\", color='lime', label='splineMPE')\n",
    "\n",
    "zenith = best_x[0]\n",
    "azimuth = best_x[1]\n",
    "ax.scatter(np.rad2deg(zenith/scale), np.rad2deg(azimuth/scale), marker='+', color='magenta', label='bfgs')\n",
    "\n",
    "contours = [4.61]\n",
    "ix1, ix2 = np.where(delta_logl==0)\n",
    "ax.scatter(np.rad2deg([X[ix1, ix2]]), np.rad2deg([Y[ix1, ix2]]), s=50, marker='o', facecolors='none', edgecolors='khaki', zorder=100., label='grid min')\n",
    "ct = plt.contour(np.rad2deg(X), np.rad2deg(Y), delta_logl, levels=contours, linestyles=['solid'], colors=['khaki'], linewidths=1.0)\n",
    "\n",
    "plt.legend()\n",
    "plt.tight_layout()\n",
    "plt.show()"
   ]
  },
  {
   "cell_type": "code",
   "execution_count": 64,
   "id": "9ddd9b7b-e0fe-4f5d-950f-3e96bbb68303",
   "metadata": {},
   "outputs": [
    {
     "data": {
      "text/plain": [
       "'0.4.28'"
      ]
     },
     "execution_count": 64,
     "metadata": {},
     "output_type": "execute_result"
    }
   ],
   "source": [
    "jax.__version__"
   ]
  },
  {
   "cell_type": "code",
   "execution_count": null,
   "id": "432d0d55-7b81-4827-9614-a79a4c897d13",
   "metadata": {},
   "outputs": [],
   "source": []
  }
 ],
 "metadata": {
  "kernelspec": {
   "display_name": "Python 3 (ipykernel)",
   "language": "python",
   "name": "python3"
  },
  "language_info": {
   "codemirror_mode": {
    "name": "ipython",
    "version": 3
   },
   "file_extension": ".py",
   "mimetype": "text/x-python",
   "name": "python",
   "nbconvert_exporter": "python",
   "pygments_lexer": "ipython3",
   "version": "3.11.5"
  }
 },
 "nbformat": 4,
 "nbformat_minor": 5
}
