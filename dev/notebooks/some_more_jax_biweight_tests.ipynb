{
 "cells": [
  {
   "cell_type": "code",
   "execution_count": 1,
   "id": "f5a80cc0-997c-4b90-bf0c-cdf051013082",
   "metadata": {},
   "outputs": [],
   "source": [
    "import jax\n",
    "jax.config.update(\"jax_enable_x64\", True)\n",
    "import jax.numpy as jnp\n",
    "from jax.scipy.special import gamma as jsp_gamma\n",
    "from jax.scipy.special import gammaincc as jsp_gammaincc\n",
    "\n",
    "from scipy.special import gamma as sp_gamma\n",
    "from scipy.special import gammaincc as sp_gammaincc\n",
    "from scipy.stats import gamma\n",
    "\n",
    "import numpy as np\n",
    "import matplotlib.pyplot as plt"
   ]
  },
  {
   "cell_type": "code",
   "execution_count": 2,
   "id": "8db2ffab-4b9d-4569-aedb-41d3d7114550",
   "metadata": {},
   "outputs": [],
   "source": [
    "def c_gamma_biweight_prob_jax(x, a, b, sigma=3.0):\n",
    "    s = 3.0 * sigma\n",
    "\n",
    "    g_a = jsp_gamma(a)\n",
    "    g_1pa = jsp_gamma(1+a)\n",
    "    g_2pa = jsp_gamma(2+a)\n",
    "    g_3pa = jsp_gamma(3+a)\n",
    "    g_4pa = jsp_gamma(4+a)\n",
    "\n",
    "    gincc_a = jsp_gammaincc(a, b*(s+x)) * g_a\n",
    "    gincc_1pa = jsp_gammaincc(1+a, b*(s+x))*g_1pa\n",
    "    gincc_2pa = jsp_gammaincc(2+a, b*(s+x))*g_2pa\n",
    "    gincc_3pa = jsp_gammaincc(3+a, b*(s+x))*g_3pa\n",
    "    gincc_4pa = jsp_gammaincc(4+a, b*(s+x))*g_4pa\n",
    "\n",
    "    gincc_a_m = jsp_gammaincc(a, b*(x-s)) * g_a\n",
    "    gincc_1pa_m = jsp_gammaincc(1+a, b*(x-s))*g_1pa\n",
    "    gincc_2pa_m = jsp_gammaincc(2+a, b*(x-s))*g_2pa\n",
    "    gincc_3pa_m = jsp_gammaincc(3+a, b*(x-s))*g_3pa\n",
    "    gincc_4pa_m = jsp_gammaincc(4+a, b*(x-s))*g_4pa\n",
    "\n",
    "    fbx = 4*b*x\n",
    "    t0 = b**4 * (s**4 - 2*s**2*x**2 + x**4)\n",
    "    t1 = 4*b**3 * (s**2*x - x**3)\n",
    "    t2 = b**2 * (6*x**2 - 2*s**2)\n",
    "\n",
    "    # branch 0 (-s < t < +s)\n",
    "    tsum0 = (\n",
    "                (g_a - gincc_a) * t0\n",
    "                + (g_1pa - gincc_1pa) * t1\n",
    "                + (g_2pa - gincc_2pa) * t2\n",
    "                + g_4pa - gincc_4pa\n",
    "                + gincc_3pa * fbx\n",
    "                - g_2pa * (2*fbx + a*fbx)\n",
    "    )\n",
    "\n",
    "    # branch 1 ( t >= +s)\n",
    "    tsum1 = (\n",
    "                (gincc_a_m - gincc_a) * t0\n",
    "                + (gincc_1pa_m - gincc_1pa) * t1\n",
    "                + (gincc_2pa_m - gincc_2pa) * t2\n",
    "                + (gincc_3pa - gincc_3pa_m) * fbx\n",
    "                + gincc_4pa_m - gincc_4pa\n",
    "    )\n",
    "\n",
    "    # combine branches\n",
    "    #tsum = jnp.where(x < s, tsum0, tsum1)\n",
    "    tsum0 = jnp.where(x < s, tsum0, 0.0)\n",
    "    tsum1 = jnp.where(x >= s, tsum1, 0.0)\n",
    "    tsum = tsum0 + tsum1\n",
    "\n",
    "    pre_fac = 15.0/(16*b**4*s**5*g_a)\n",
    "    return pre_fac * tsum"
   ]
  },
  {
   "cell_type": "code",
   "execution_count": 3,
   "id": "52a61bd5-d2ae-44f4-bdfc-89981fa3032d",
   "metadata": {},
   "outputs": [],
   "source": [
    "def c_gamma_biweight_prob_scipy(x, a, b, sigma=3.0):\n",
    "    s = 3.0 * sigma\n",
    "\n",
    "    g_a = sp_gamma(a)\n",
    "    g_1pa = sp_gamma(1+a)\n",
    "    g_2pa = sp_gamma(2+a)\n",
    "    g_3pa = sp_gamma(3+a)\n",
    "    g_4pa = sp_gamma(4+a)\n",
    "\n",
    "    gincc_a = sp_gammaincc(a, b*(s+x)) * g_a\n",
    "    gincc_1pa = sp_gammaincc(1+a, b*(s+x))*g_1pa\n",
    "    gincc_2pa = sp_gammaincc(2+a, b*(s+x))*g_2pa\n",
    "    gincc_3pa = sp_gammaincc(3+a, b*(s+x))*g_3pa\n",
    "    gincc_4pa = sp_gammaincc(4+a, b*(s+x))*g_4pa\n",
    "\n",
    "    gincc_a_m = sp_gammaincc(a, b*(x-s)) * g_a\n",
    "    gincc_1pa_m = sp_gammaincc(1+a, b*(x-s))*g_1pa\n",
    "    gincc_2pa_m = sp_gammaincc(2+a, b*(x-s))*g_2pa\n",
    "    gincc_3pa_m = sp_gammaincc(3+a, b*(x-s))*g_3pa\n",
    "    gincc_4pa_m = sp_gammaincc(4+a, b*(x-s))*g_4pa\n",
    "\n",
    "    fbx = 4*b*x\n",
    "    t0 = b**4 * (s**4 - 2*s**2*x**2 + x**4)\n",
    "    t1 = 4*b**3 * (s**2*x - x**3)\n",
    "    t2 = b**2 * (6*x**2 - 2*s**2)\n",
    "\n",
    "    # branch 0 (-s < t < +s)\n",
    "    tsum0 = (\n",
    "                (g_a - gincc_a) * t0\n",
    "                + (g_1pa - gincc_1pa) * t1\n",
    "                + (g_2pa - gincc_2pa) * t2\n",
    "                + g_4pa - gincc_4pa\n",
    "                + gincc_3pa * fbx\n",
    "                - g_2pa * (2*fbx + a*fbx)\n",
    "    )\n",
    "\n",
    "    # branch 1 ( t >= +s)\n",
    "    tsum1 = (\n",
    "                (gincc_a_m - gincc_a) * t0\n",
    "                + (gincc_1pa_m - gincc_1pa) * t1\n",
    "                + (gincc_2pa_m - gincc_2pa) * t2\n",
    "                + (gincc_3pa - gincc_3pa_m) * fbx\n",
    "                + gincc_4pa_m - gincc_4pa\n",
    "    )\n",
    "\n",
    "    # combine branches\n",
    "    tsum = np.where(x < s, tsum0, tsum1)\n",
    "\n",
    "    pre_fac = 15.0/(16*b**4*s**5*g_a)\n",
    "    return pre_fac * tsum"
   ]
  },
  {
   "cell_type": "code",
   "execution_count": 4,
   "id": "1108d538-222f-45eb-a766-6fed4ce03f90",
   "metadata": {},
   "outputs": [],
   "source": [
    "def gamma_pdf(x, a, b):\n",
    "    y = gamma.pdf(x, a, scale=1/b)\n",
    "    y = np.where(x <= 0, 0.0, y)\n",
    "    return y"
   ]
  },
  {
   "cell_type": "code",
   "execution_count": 5,
   "id": "54a6288e-9a43-4232-8f01-59a3431b3517",
   "metadata": {},
   "outputs": [],
   "source": [
    "a = 1.001\n",
    "b = 0.002\n",
    "sigma = 3.0\n",
    "\n",
    "xvals = np.linspace(-3*sigma, 200, 10000)"
   ]
  },
  {
   "cell_type": "code",
   "execution_count": 6,
   "id": "2b901112-ac96-4042-88db-fdbd1950783f",
   "metadata": {},
   "outputs": [
    {
     "data": {
      "image/png": "[encoded data removed]",
      "text/plain": [
       "<Figure size 640x480 with 1 Axes>"
      ]
     },
     "metadata": {},
     "output_type": "display_data"
    }
   ],
   "source": [
    "plt.figure()\n",
    "\n",
    "yg = gamma_pdf(xvals, a, b)\n",
    "yg_jax = c_gamma_biweight_prob_jax(xvals, a, b, sigma)\n",
    "yg_scipy = c_gamma_biweight_prob_scipy(xvals, a, b, sigma)\n",
    "\n",
    "plt.plot(xvals, yg, label='gamma')\n",
    "plt.plot(xvals, yg_jax, label='gamma+conv (jax)')\n",
    "plt.plot(xvals, yg_scipy, label='gamma+conv (scipy)')\n",
    "plt.xlabel('x')\n",
    "plt.ylabel('pdf')\n",
    "plt.xlim([-9.0, 200.0])\n",
    "plt.ylim([0.0, 1.1 * np.amax([yg, yg_jax, yg_scipy])])\n",
    "plt.legend()\n",
    "plt.show()"
   ]
  },
  {
   "cell_type": "code",
   "execution_count": 7,
   "id": "7383f18e-7cca-4917-a399-c9634a2ed4fd",
   "metadata": {},
   "outputs": [],
   "source": [
    "gamma_biweight_grad = jax.grad(c_gamma_biweight_prob_jax, argnums=(1, 2))"
   ]
  },
  {
   "cell_type": "code",
   "execution_count": 8,
   "id": "160592b1-d09d-4156-ada3-d0cc83a4a69c",
   "metadata": {},
   "outputs": [],
   "source": [
    "grads = gamma_biweight_grad(8.9, a, b, sigma)"
   ]
  },
  {
   "cell_type": "code",
   "execution_count": 9,
   "id": "dffe113e-a12e-4e28-8c35-7996b341c895",
   "metadata": {},
   "outputs": [
    {
     "name": "stdout",
     "output_type": "stream",
     "text": [
      "(Array(nan, dtype=float64, weak_type=True), Array(nan, dtype=float64, weak_type=True))\n"
     ]
    }
   ],
   "source": [
    "print(grads)"
   ]
  },
  {
   "cell_type": "code",
   "execution_count": 10,
   "id": "9eb955f0-7ffb-4786-87db-0ecba42f39c8",
   "metadata": {},
   "outputs": [],
   "source": [
    "def branch0(x, a, b, sigma):\n",
    "    s = 3.0 * sigma\n",
    "\n",
    "    g_a = jsp_gamma(a)\n",
    "    g_1pa = jsp_gamma(1+a)\n",
    "    g_2pa = jsp_gamma(2+a)\n",
    "    g_3pa = jsp_gamma(3+a)\n",
    "    g_4pa = jsp_gamma(4+a)\n",
    "\n",
    "    gincc_a = jsp_gammaincc(a, b*(s+x)) * g_a\n",
    "    gincc_1pa = jsp_gammaincc(1+a, b*(s+x))*g_1pa\n",
    "    gincc_2pa = jsp_gammaincc(2+a, b*(s+x))*g_2pa\n",
    "    gincc_3pa = jsp_gammaincc(3+a, b*(s+x))*g_3pa\n",
    "    gincc_4pa = jsp_gammaincc(4+a, b*(s+x))*g_4pa\n",
    "\n",
    "    gincc_a_m = jsp_gammaincc(a, b*(x-s)) * g_a\n",
    "    gincc_1pa_m = jsp_gammaincc(1+a, b*(x-s))*g_1pa\n",
    "    gincc_2pa_m = jsp_gammaincc(2+a, b*(x-s))*g_2pa\n",
    "    gincc_3pa_m = jsp_gammaincc(3+a, b*(x-s))*g_3pa\n",
    "    gincc_4pa_m = jsp_gammaincc(4+a, b*(x-s))*g_4pa\n",
    "\n",
    "    fbx = 4*b*x\n",
    "    t0 = b**4 * (s**4 - 2*s**2*x**2 + x**4)\n",
    "    t1 = 4*b**3 * (s**2*x - x**3)\n",
    "    t2 = b**2 * (6*x**2 - 2*s**2)\n",
    "\n",
    "    # branch 0 (-s < t < +s)\n",
    "    tsum0 = (\n",
    "                (g_a - gincc_a) * t0\n",
    "                + (g_1pa - gincc_1pa) * t1\n",
    "                + (g_2pa - gincc_2pa) * t2\n",
    "                + g_4pa - gincc_4pa\n",
    "                + gincc_3pa * fbx\n",
    "                - g_2pa * (2*fbx + a*fbx)\n",
    "    )\n",
    "\n",
    "    pre_fac = 15.0/(16*b**4*s**5*g_a)\n",
    "    return pre_fac * tsum0"
   ]
  },
  {
   "cell_type": "code",
   "execution_count": 11,
   "id": "677230e5-fcf1-448d-bb9d-e87d9f11263d",
   "metadata": {},
   "outputs": [],
   "source": [
    "def branch1(x, a, b, sigma):\n",
    "    s = 3.0 * sigma\n",
    "\n",
    "    g_a = jsp_gamma(a)\n",
    "    g_1pa = jsp_gamma(1+a)\n",
    "    g_2pa = jsp_gamma(2+a)\n",
    "    g_3pa = jsp_gamma(3+a)\n",
    "    g_4pa = jsp_gamma(4+a)\n",
    "\n",
    "    gincc_a = jsp_gammaincc(a, b*(s+x)) * g_a\n",
    "    gincc_1pa = jsp_gammaincc(1+a, b*(s+x))*g_1pa\n",
    "    gincc_2pa = jsp_gammaincc(2+a, b*(s+x))*g_2pa\n",
    "    gincc_3pa = jsp_gammaincc(3+a, b*(s+x))*g_3pa\n",
    "    gincc_4pa = jsp_gammaincc(4+a, b*(s+x))*g_4pa\n",
    "\n",
    "    gincc_a_m = jsp_gammaincc(a, b*(x-s)) * g_a\n",
    "    gincc_1pa_m = jsp_gammaincc(1+a, b*(x-s))*g_1pa\n",
    "    gincc_2pa_m = jsp_gammaincc(2+a, b*(x-s))*g_2pa\n",
    "    gincc_3pa_m = jsp_gammaincc(3+a, b*(x-s))*g_3pa\n",
    "    gincc_4pa_m = jsp_gammaincc(4+a, b*(x-s))*g_4pa\n",
    "\n",
    "    fbx = 4*b*x\n",
    "    t0 = b**4 * (s**4 - 2*s**2*x**2 + x**4)\n",
    "    t1 = 4*b**3 * (s**2*x - x**3)\n",
    "    t2 = b**2 * (6*x**2 - 2*s**2)\n",
    "\n",
    "    # branch 1 (-s < t < +s)\n",
    "    tsum1 = (\n",
    "                (gincc_a_m - gincc_a) * t0\n",
    "                + (gincc_1pa_m - gincc_1pa) * t1\n",
    "                + (gincc_2pa_m - gincc_2pa) * t2\n",
    "                + (gincc_3pa - gincc_3pa_m) * fbx\n",
    "                + gincc_4pa_m - gincc_4pa\n",
    "    )\n",
    "\n",
    "    pre_fac = 15.0/(16*b**4*s**5*g_a)\n",
    "    return pre_fac * tsum1"
   ]
  },
  {
   "cell_type": "code",
   "execution_count": 12,
   "id": "5d59a095-ddae-4976-8f13-1e0e70119d24",
   "metadata": {},
   "outputs": [],
   "source": [
    "branch0_grad = jax.grad(branch0, argnums=(1, 2))\n",
    "branch1_grad = jax.grad(branch1, argnums=(1, 2))"
   ]
  },
  {
   "cell_type": "code",
   "execution_count": 13,
   "id": "4a07f740-441c-4470-97fc-a159d8e80e35",
   "metadata": {},
   "outputs": [],
   "source": [
    "grads = branch0_grad(9.0, a, b, sigma)"
   ]
  },
  {
   "cell_type": "code",
   "execution_count": 14,
   "id": "9f88c4d6-a8b0-45e1-a4fb-a81502c30987",
   "metadata": {},
   "outputs": [
    {
     "data": {
      "text/plain": [
       "(Array(-0.00691913, dtype=float64, weak_type=True),\n",
       " Array(0.96212272, dtype=float64, weak_type=True))"
      ]
     },
     "execution_count": 14,
     "metadata": {},
     "output_type": "execute_result"
    }
   ],
   "source": [
    "grads"
   ]
  },
  {
   "cell_type": "code",
   "execution_count": 15,
   "id": "a7efae2d-febe-4ba2-a169-04c5b1df7900",
   "metadata": {},
   "outputs": [],
   "source": [
    "grads = branch1_grad(9.0, a, b, sigma)"
   ]
  },
  {
   "cell_type": "code",
   "execution_count": 16,
   "id": "6f33719c-9037-4cde-91f4-d728c82e79bb",
   "metadata": {},
   "outputs": [
    {
     "data": {
      "text/plain": [
       "(Array(-0.00691913, dtype=float64, weak_type=True),\n",
       " Array(0.96212684, dtype=float64, weak_type=True))"
      ]
     },
     "execution_count": 16,
     "metadata": {},
     "output_type": "execute_result"
    }
   ],
   "source": [
    "grads"
   ]
  },
  {
   "cell_type": "code",
   "execution_count": null,
   "id": "be3c26f3-16c9-4d4f-8c0a-3fa1128a3150",
   "metadata": {},
   "outputs": [],
   "source": []
  }
 ],
 "metadata": {
  "kernelspec": {
   "display_name": "Python 3 (ipykernel)",
   "language": "python",
   "name": "python3"
  },
  "language_info": {
   "codemirror_mode": {
    "name": "ipython",
    "version": 3
   },
   "file_extension": ".py",
   "mimetype": "text/x-python",
   "name": "python",
   "nbconvert_exporter": "python",
   "pygments_lexer": "ipython3",
   "version": "3.11.5"
  }
 },
 "nbformat": 4,
 "nbformat_minor": 5
}
