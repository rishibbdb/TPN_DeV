{
 "cells": [
  {
   "cell_type": "code",
   "execution_count": 1,
   "id": "b5661009-10af-4b1b-8438-9384777a7163",
   "metadata": {},
   "outputs": [],
   "source": [
    "import jax.numpy as jnp\n",
    "import jax\n",
    "jax.config.update(\"jax_enable_x64\", True)\n",
    "\n",
    "import numpy as np\n",
    "import scipy\n",
    "import matplotlib.pyplot as plt\n",
    "\n",
    "import sys, os"
   ]
  },
  {
   "cell_type": "code",
   "execution_count": 2,
   "id": "5ec5d49e-7159-4412-a2b0-1eacab29fba7",
   "metadata": {},
   "outputs": [],
   "source": [
    "sys.path.insert(0, \"/home/storage/hans/jax_reco_new\")\n",
    "from lib.cgamma import c_gamma_prob\n",
    "from lib.plotting import adjust_plot_1d\n",
    "from lib.network import get_network_eval_fn\n",
    "from lib.geo import get_xyz_from_zenith_azimuth\n",
    "from lib.trafos import transform_network_outputs, transform_network_inputs"
   ]
  },
  {
   "cell_type": "code",
   "execution_count": 3,
   "id": "197a686f-2d63-4341-9961-d9bc4dec08f7",
   "metadata": {},
   "outputs": [],
   "source": [
    "eval_network = get_network_eval_fn(bpath='/home/storage/hans/jax_reco_new/data/network')"
   ]
  },
  {
   "cell_type": "code",
   "execution_count": 116,
   "id": "f45f4595-36cc-4266-bf1b-bd8263d72369",
   "metadata": {},
   "outputs": [
    {
     "name": "stdout",
     "output_type": "stream",
     "text": [
      "3.7463812163854007 1.9994916781637078\n"
     ]
    }
   ],
   "source": [
    "dist = 5\n",
    "z = -210\n",
    "rho = 0.0\n",
    "zenith = np.pi/2\n",
    "azimuth = 0.0\n",
    "\n",
    "x = jnp.array([dist, rho, z, zenith, azimuth])\n",
    "x_prime = transform_network_inputs(x)\n",
    "y = eval_network(x_prime)\n",
    "logits, gamma_as, gamma_bs = transform_network_outputs(y)\n",
    "mix_probs = jax.nn.softmax(logits)\n",
    "\n",
    "# index 1 is main component\n",
    "gamma_a = gamma_as[1]\n",
    "gamma_b = gamma_bs[1]\n",
    "sigma = 3\n",
    "\n",
    "print(gamma_a, gamma_b)"
   ]
  },
  {
   "cell_type": "code",
   "execution_count": 117,
   "id": "1dd1e593-256e-482d-98ba-3c099e108fac",
   "metadata": {},
   "outputs": [
    {
     "name": "stdout",
     "output_type": "stream",
     "text": [
      "(3,)\n"
     ]
    }
   ],
   "source": [
    "print(mix_probs.shape)"
   ]
  },
  {
   "cell_type": "code",
   "execution_count": 130,
   "id": "0bb6b250-50bb-484e-982e-186ef72e23cf",
   "metadata": {},
   "outputs": [
    {
     "data": {
      "image/png": "[encoded data removed]",
      "text/plain": [
       "<Figure size 640x480 with 1 Axes>"
      ]
     },
     "metadata": {},
     "output_type": "display_data"
    }
   ],
   "source": [
    "xmax = 100\n",
    "xvals = jnp.linspace(-20, xmax, 10000)\n",
    "yvals = c_gamma_prob(xvals, gamma_a, gamma_b, sigma=sigma)\n",
    "\n",
    "\n",
    "fig, ax = plt.subplots()\n",
    "ax.plot(xvals, yvals, label=f'gamma(a={gamma_a:.1f}, b={gamma_b:.1f})')\n",
    "ax.axvline(10, color='black')\n",
    "ax.set_xlabel('t')\n",
    "ax.set_ylabel('pdf')\n",
    "ax.legend()\n",
    "ax.set_title('jax')\n",
    "ax.set_xlim(xmax=xmax)\n",
    "ax.set_ylim([0.0, 0.12])\n",
    "plt.show()"
   ]
  },
  {
   "cell_type": "code",
   "execution_count": 119,
   "id": "dcb0548a-ee53-4207-8b09-f3efbbf43841",
   "metadata": {},
   "outputs": [
    {
     "name": "stdout",
     "output_type": "stream",
     "text": [
      "0.9945489504192409\n",
      "0.005451049580759149\n"
     ]
    }
   ],
   "source": [
    "from jax.scipy.integrate import trapezoid\n",
    "#x_int = jnp.linspace(-20, (gamma_a-1)/gamma_b, 10000)\n",
    "x_int = jnp.linspace(-20, 10, 10000)\n",
    "y_int = c_gamma_prob(x_int, gamma_a, gamma_b, sigma=sigma)\n",
    "print(trapezoid(y_int, x=x_int))\n",
    "print(1-trapezoid(y_int, x=x_int))"
   ]
  },
  {
   "cell_type": "code",
   "execution_count": 120,
   "id": "2c418550-4899-4cdc-997a-b0ef4cabbd6e",
   "metadata": {},
   "outputs": [],
   "source": [
    "from jax.scipy.special import gammaincc, erf"
   ]
  },
  {
   "cell_type": "code",
   "execution_count": 121,
   "id": "c87c207e-21ba-4d7c-a454-f990a9939c1d",
   "metadata": {},
   "outputs": [],
   "source": [
    "def c_gamma_sf(x, a, b, sigma=3.0):\n",
    "    \"\"\"\n",
    "    following arXiv:astro-ph/0506136\n",
    "    \"\"\"\n",
    "    alpha = 2.5 # controls the split of the integral => precision.\n",
    "    n_steps = 10 # controls the support points in trapezoidal integration\n",
    "\n",
    "    sqrt2sigma2 = jnp.sqrt(2.0*sigma**2)\n",
    "    \n",
    "    ymin = x - alpha*sqrt2sigma2 # start of numeric integration\n",
    "    ymin = jnp.where(ymin >= 0.0, ymin, 0.0) \n",
    "    \n",
    "    ymax = x + alpha*sqrt2sigma2 # end of numeric integration\n",
    "    ymax = jnp.where(ymax >= 0.0, ymax, 0.0)\n",
    "    # todo: think about special case when ymin = ymax = 0.0\n",
    "    # based on testing so far: no need to do anything.\n",
    "\n",
    "    term1 = gammaincc(a, b*ymax) + gammaincc(a, b*ymin)\n",
    "    term2 = jnp.power(b, a) # J in arXiv:astro-ph/0506136\n",
    "\n",
    "    x_int = jnp.linspace(ymin, ymax, n_steps, axis=-1)\n",
    "\n",
    "    # add dimension to end for proper broadcasting during integration\n",
    "    a_e = jnp.expand_dims(a, axis=-1)\n",
    "    b_e = jnp.expand_dims(b, axis=-1)\n",
    "    y_int = jnp.power(x_int, a_e-1) * jnp.exp(-b_e*x_int) * erf((x-x_int)/sqrt2sigma2)\n",
    "    term2 *= trapezoid(y_int, x=x_int, axis=-1)\n",
    "\n",
    "    sf = 0.5 * (term1 - term2/jax.scipy.special.gamma(a))\n",
    "    return jnp.clip(sf, min=0.0, max=1.0)  "
   ]
  },
  {
   "cell_type": "code",
   "execution_count": 138,
   "id": "c2536634-7ce2-448d-bb36-50b2b0820e1b",
   "metadata": {},
   "outputs": [],
   "source": [
    "@jax.jit\n",
    "def c_multi_gamma_sf(x, mix_probs, a, b, sigma=3.0):\n",
    "    probs = c_gamma_sf(x, a, b, sigma=sigma)\n",
    "    return jnp.sum(mix_probs * probs, axis=-1)\n",
    "\n",
    "c_multi_gamma_sf_v = jax.jit(jax.vmap(c_multi_gamma_sf, (0, 0, 0, 0), 0))"
   ]
  },
  {
   "cell_type": "code",
   "execution_count": 139,
   "id": "f5ade6b6-0eb2-41e2-9445-961ee72f0e13",
   "metadata": {},
   "outputs": [],
   "source": [
    "def c_gamma_sf_precise(x, a, b, sigma=3.0, delta=0.1):\n",
    "    x_int = jnp.linspace(-20, x, 10000)\n",
    "    y_int = c_gamma_prob(x_int, a, b, sigma=sigma, delta=0.1)\n",
    "    return 1.0-trapezoid(y_int, x=x_int)"
   ]
  },
  {
   "cell_type": "code",
   "execution_count": 161,
   "id": "de6366d4-f826-4123-86c1-c46004a6ec22",
   "metadata": {},
   "outputs": [],
   "source": [
    "def c_gamma_sf_by_hand(x, a, b, sigma=3.0):\n",
    "    \"\"\"\n",
    "    following arXiv:astro-ph/0506136\n",
    "    \"\"\"\n",
    "    alpha = 2.5 # controls the split of the integral => precision.\n",
    "    n_steps = 20 # controls the support points in trapezoidal integration\n",
    "\n",
    "    sqrt2sigma2 = jnp.sqrt(2.0*sigma**2)\n",
    "    \n",
    "    ymin = x - alpha*sqrt2sigma2 # start of numeric integration\n",
    "    ymin = jnp.where(ymin >= 0.0, ymin, 0.0) \n",
    "    \n",
    "    ymax = x + alpha*sqrt2sigma2 # end of numeric integration\n",
    "    ymax = jnp.where(ymax >= 0.0, ymax, 0.0)\n",
    "    # todo: think about special case when ymin = ymax = 0.0\n",
    "    # based on testing so far: no need to do anything.\n",
    "\n",
    "    term1 = gammaincc(a, b*ymax) + gammaincc(a, b*ymin)\n",
    "    term2 = jnp.power(b, a) # J in arXiv:astro-ph/0506136\n",
    "\n",
    "    x_int = jnp.linspace(ymin, ymax, n_steps+1, axis=-1)\n",
    "    x_int = 0.5 * (x_int[..., 1:] + x_int[..., :-1])\n",
    "    dx = jnp.expand_dims(x_int[..., 1] - x_int[..., 0], axis=-1)\n",
    "\n",
    "    # add dimension to end for proper broadcasting during integration\n",
    "    a_e = jnp.expand_dims(a, axis=-1)\n",
    "    b_e = jnp.expand_dims(b, axis=-1)\n",
    "    y_int = jnp.power(x_int, a_e-1) * jnp.exp(-b_e*x_int) * erf((x-x_int)/sqrt2sigma2)\n",
    "    term2 *= jnp.sum(y_int * dx, axis=-1)\n",
    "\n",
    "    sf = 0.5 * (term1 - term2/jax.scipy.special.gamma(a))\n",
    "    return jnp.clip(sf, min=0.0, max=1.0)  "
   ]
  },
  {
   "cell_type": "code",
   "execution_count": 169,
   "id": "acf7ec96-8783-4ecb-8d1c-8a8285dea8fc",
   "metadata": {},
   "outputs": [],
   "source": [
    "def c_gamma_sf_by_hand2(x, a, b, sigma=3.0):\n",
    "    \"\"\"\n",
    "    following arXiv:astro-ph/0506136\n",
    "    \"\"\"\n",
    "    alpha = 2.5 # controls the split of the integral => precision.\n",
    "    n_steps = 10 # controls the support points in trapezoidal integration\n",
    "\n",
    "    sqrt2sigma2 = jnp.sqrt(2.0*sigma**2)\n",
    "    \n",
    "    ymin = x - alpha*sqrt2sigma2 # start of numeric integration\n",
    "    ymin = jnp.where(ymin >= 0.0, ymin, 0.0) \n",
    "    \n",
    "    ymax = x + alpha*sqrt2sigma2 # end of numeric integration\n",
    "    ymax = jnp.where(ymax >= 0.0, ymax, 0.0)\n",
    "    # todo: think about special case when ymin = ymax = 0.0\n",
    "    # based on testing so far: no need to do anything.\n",
    "\n",
    "    term1 = gammaincc(a, b*ymax) + gammaincc(a, b*ymin)\n",
    "    term2 = jnp.power(b, a) # J in arXiv:astro-ph/0506136\n",
    "\n",
    "    x_int = jnp.linspace(ymin, ymax, n_steps, axis=-1)\n",
    "    dx = x_int[..., 1] - x_int[..., 0]\n",
    "    xm0 = 0.5*(x_int[..., 0] + x_int[..., 1])\n",
    "\n",
    "    x_int = x_int[..., 1:]\n",
    "    # add dimension to end for proper broadcasting during integration\n",
    "    a_e = jnp.expand_dims(a, axis=-1)\n",
    "    b_e = jnp.expand_dims(b, axis=-1)\n",
    "    y_int = jnp.power(x_int, a_e-1) * jnp.exp(-b_e*x_int) * erf((x-x_int)/sqrt2sigma2)\n",
    "    term2 *= (jnp.squeeze(dx * jnp.power(xm0, a_e-1) * jnp.exp(-b_e*xm0) * erf((x-xm0)/sqrt2sigma2)) \\\n",
    "              + trapezoid(y_int, x=x_int, axis=-1))\n",
    "\n",
    "    sf = 0.5 * (term1 - term2/jax.scipy.special.gamma(a))\n",
    "    return jnp.clip(sf, min=0.0, max=1.0)  "
   ]
  },
  {
   "cell_type": "code",
   "execution_count": 171,
   "id": "0d7248fc-81e9-461c-adae-18de44538b94",
   "metadata": {},
   "outputs": [
    {
     "name": "stdout",
     "output_type": "stream",
     "text": [
      "0.00016912899501789295 2.8548370478720386e-07 591.4295929393227\n"
     ]
    }
   ],
   "source": [
    "t = jnp.array(17.0)\n",
    "cheap = c_gamma_sf_by_hand(t, gamma_a, gamma_b)\n",
    "expensive = c_gamma_sf_precise(t, gamma_a, gamma_b)\n",
    "print(cheap, expensive, (cheap-expensive)/expensive)"
   ]
  },
  {
   "cell_type": "code",
   "execution_count": 246,
   "id": "c414a109-0e97-4cb0-85e5-2af308a9e27f",
   "metadata": {},
   "outputs": [
    {
     "name": "stdout",
     "output_type": "stream",
     "text": [
      "[0.89326938 0.42979151 0.98423091]\n"
     ]
    }
   ],
   "source": [
    "n_repeats = 100\n",
    "ts = jnp.repeat(t, n_repeats, axis=0)\n",
    "gamma_ass = gamma_as.reshape((1,3))\n",
    "gamma_ass = jnp.repeat(gamma_ass, n_repeats, axis=0)\n",
    "gamma_bss = gamma_bs.reshape((1,3))\n",
    "gamma_bss = jnp.repeat(gamma_bss, n_repeats, axis=0)\n",
    "mix_probss = mix_probs.reshape((1,3))\n",
    "mix_probss = jnp.repeat(mix_probss, n_repeats, axis=0)\n",
    "\n",
    "#probs = c_gamma_sf(t, gamma_ass, gamma_bss)\n",
    "#print(probs.shape)\n",
    "probs_fast = c_gamma_sf(t, gamma_as, gamma_bs)\n",
    "print(probs_fast)"
   ]
  },
  {
   "cell_type": "code",
   "execution_count": 247,
   "id": "a872914e-4d4e-4412-abea-7607146ac25b",
   "metadata": {},
   "outputs": [
    {
     "name": "stdout",
     "output_type": "stream",
     "text": [
      "[0.29058582 0.58944076 0.11997342]\n",
      "0.6309895971325675\n"
     ]
    }
   ],
   "source": [
    "print(mix_probs)\n",
    "print(c_multi_gamma_sf(t, mix_probs, gamma_as, gamma_bs))"
   ]
  },
  {
   "cell_type": "code",
   "execution_count": 248,
   "id": "837a20f9-7d34-45b2-a1b5-aa6238ea875e",
   "metadata": {},
   "outputs": [
    {
     "name": "stdout",
     "output_type": "stream",
     "text": [
      "(100,)\n",
      "(100, 3)\n",
      "(100, 3)\n",
      "(100, 3)\n",
      "(100,)\n"
     ]
    }
   ],
   "source": [
    "print(ts.shape)\n",
    "print(gamma_ass.shape)\n",
    "print(gamma_bss.shape)\n",
    "print(mix_probss.shape)\n",
    "y = c_multi_gamma_sf_v(ts, mix_probss, gamma_ass, gamma_bss)\n",
    "print(y.shape)"
   ]
  },
  {
   "cell_type": "code",
   "execution_count": 250,
   "id": "aff5b863-b6ea-44d6-860f-a6f8e579beae",
   "metadata": {},
   "outputs": [
    {
     "name": "stdout",
     "output_type": "stream",
     "text": [
      "[0.6309896 0.6309896 0.6309896 0.6309896 0.6309896 0.6309896 0.6309896\n",
      " 0.6309896 0.6309896 0.6309896 0.6309896 0.6309896 0.6309896 0.6309896\n",
      " 0.6309896 0.6309896 0.6309896 0.6309896 0.6309896 0.6309896 0.6309896\n",
      " 0.6309896 0.6309896 0.6309896 0.6309896 0.6309896 0.6309896 0.6309896\n",
      " 0.6309896 0.6309896 0.6309896 0.6309896 0.6309896 0.6309896 0.6309896\n",
      " 0.6309896 0.6309896 0.6309896 0.6309896 0.6309896 0.6309896 0.6309896\n",
      " 0.6309896 0.6309896 0.6309896 0.6309896 0.6309896 0.6309896 0.6309896\n",
      " 0.6309896 0.6309896 0.6309896 0.6309896 0.6309896 0.6309896 0.6309896\n",
      " 0.6309896 0.6309896 0.6309896 0.6309896 0.6309896 0.6309896 0.6309896\n",
      " 0.6309896 0.6309896 0.6309896 0.6309896 0.6309896 0.6309896 0.6309896\n",
      " 0.6309896 0.6309896 0.6309896 0.6309896 0.6309896 0.6309896 0.6309896\n",
      " 0.6309896 0.6309896 0.6309896 0.6309896 0.6309896 0.6309896 0.6309896\n",
      " 0.6309896 0.6309896 0.6309896 0.6309896 0.6309896 0.6309896 0.6309896\n",
      " 0.6309896 0.6309896 0.6309896 0.6309896 0.6309896 0.6309896 0.6309896\n",
      " 0.6309896 0.6309896]\n"
     ]
    }
   ],
   "source": [
    "print(y)"
   ]
  },
  {
   "cell_type": "code",
   "execution_count": 249,
   "id": "e2775f01-cee7-4c12-a66e-282fe8b4e132",
   "metadata": {},
   "outputs": [
    {
     "name": "stdout",
     "output_type": "stream",
     "text": [
      "622 μs ± 689 ns per loop (mean ± std. dev. of 7 runs, 1,000 loops each)\n"
     ]
    }
   ],
   "source": [
    "%timeit c_multi_gamma_sf_v(ts, mix_probss, gamma_ass, gamma_bss).block_until_ready()"
   ]
  },
  {
   "cell_type": "code",
   "execution_count": 219,
   "id": "1a7b5379-4b63-4848-bb30-ffee1388b937",
   "metadata": {},
   "outputs": [
    {
     "name": "stdout",
     "output_type": "stream",
     "text": [
      "431 μs ± 5.71 μs per loop (mean ± std. dev. of 7 runs, 1,000 loops each)\n"
     ]
    }
   ],
   "source": [
    "%timeit c_multi_gamma_sf(t, mix_probs, gamma_as, gamma_bs).block_until_ready()"
   ]
  },
  {
   "cell_type": "code",
   "execution_count": 189,
   "id": "61162935-32f6-4680-80f1-8735a0965d49",
   "metadata": {},
   "outputs": [
    {
     "name": "stdout",
     "output_type": "stream",
     "text": [
      "[Array(0.88937922, dtype=float64), Array(0.43040139, dtype=float64), Array(0.98326558, dtype=float64)]\n",
      "[-0.00435496  0.001419   -0.00098079]\n"
     ]
    }
   ],
   "source": [
    "probs = []\n",
    "for i in range(3):\n",
    "    a = gamma_as[i]\n",
    "    b = gamma_bs[i]\n",
    "    probs.append(c_gamma_sf_precise(t, a, b))\n",
    "\n",
    "print(probs)\n",
    "print((jnp.array(probs)-probs_fast)/probs_fast)"
   ]
  },
  {
   "cell_type": "code",
   "execution_count": 138,
   "id": "b34d4feb-0aa0-4781-82f1-13bbd672c318",
   "metadata": {},
   "outputs": [],
   "source": [
    "x = jnp.linspace(jnp.array([10, 20]).reshape((2, 1)), jnp.array([30, 40]).reshape((2, 1)), 20, axis=-1)"
   ]
  },
  {
   "cell_type": "code",
   "execution_count": 139,
   "id": "4379d8ef-2505-4c18-8f60-769d8b9336e1",
   "metadata": {},
   "outputs": [
    {
     "name": "stdout",
     "output_type": "stream",
     "text": [
      "(2, 1, 20)\n"
     ]
    }
   ],
   "source": [
    "print(x.shape)"
   ]
  },
  {
   "cell_type": "code",
   "execution_count": 200,
   "id": "f8da9799-e667-4d68-8f18-3dea34789fe8",
   "metadata": {},
   "outputs": [
    {
     "name": "stdout",
     "output_type": "stream",
     "text": [
      "0.0\n"
     ]
    }
   ],
   "source": [
    "x_int = jnp.linspace(0.0, 0.0, 100)\n",
    "y_int = jnp.power(x_int, 2.0)\n",
    "print(trapezoid(y_int, x=x_int))"
   ]
  },
  {
   "cell_type": "code",
   "execution_count": 33,
   "id": "c22639ec-70be-44a9-87ea-b4c4f870daca",
   "metadata": {},
   "outputs": [
    {
     "data": {
      "text/plain": [
       "3.5355339059327378"
      ]
     },
     "execution_count": 33,
     "metadata": {},
     "output_type": "execute_result"
    }
   ],
   "source": [
    "2.5*np.sqrt(2)"
   ]
  },
  {
   "cell_type": "code",
   "execution_count": 37,
   "id": "797d2e1f-8f01-4246-945f-2c09ba1c4f0a",
   "metadata": {},
   "outputs": [
    {
     "data": {
      "image/png": "[encoded data removed]",
      "text/plain": [
       "<Figure size 640x480 with 1 Axes>"
      ]
     },
     "metadata": {},
     "output_type": "display_data"
    }
   ],
   "source": [
    "delta = 4.0\n",
    "xvals = np.linspace(0.0, 20.0, 1000)\n",
    "yvals = (xvals * delta) ** (1/delta)\n",
    "\n",
    "plt.plot(xvals, yvals)\n",
    "plt.show()"
   ]
  },
  {
   "cell_type": "code",
   "execution_count": null,
   "id": "108ba396-6ea3-425a-8b32-635d2f5e798b",
   "metadata": {},
   "outputs": [],
   "source": []
  }
 ],
 "metadata": {
  "kernelspec": {
   "display_name": "Python 3 (ipykernel)",
   "language": "python",
   "name": "python3"
  },
  "language_info": {
   "codemirror_mode": {
    "name": "ipython",
    "version": 3
   },
   "file_extension": ".py",
   "mimetype": "text/x-python",
   "name": "python",
   "nbconvert_exporter": "python",
   "pygments_lexer": "ipython3",
   "version": "3.11.5"
  }
 },
 "nbformat": 4,
 "nbformat_minor": 5
}
