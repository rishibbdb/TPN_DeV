{
 "cells": [
  {
   "cell_type": "code",
   "execution_count": 56,
   "id": "d629b205",
   "metadata": {},
   "outputs": [],
   "source": [
    "import sys, os\n",
    "sys.path.insert(0, \"/home/storage/hans/jax_reco_new\")\n",
    "os.environ['CUDA_VISIBLE_DEVICES'] = '0'\n",
    "\n",
    "from tensorflow_probability.substrates import jax as tfp\n",
    "tfd = tfp.distributions\n",
    "\n",
    "import jax.numpy as jnp\n",
    "from jax.scipy import optimize\n",
    "import jax\n",
    "jax.config.update(\"jax_enable_x64\", True)\n",
    "import optimistix as optx\n",
    "\n",
    "from jax.scipy.special import gammaincc, erf\n",
    "\n",
    "import pandas as pd\n",
    "import numpy as np\n",
    "import matplotlib.pyplot as plt\n",
    "\n",
    "from lib.smallest_network_eqx import get_network_eval_fn\n",
    "from lib.trafos import transform_network_outputs, transform_network_inputs\n",
    "from lib.plotting import adjust_plot_1d\n",
    "\n",
    "from dom_track_eval import get_eval_network_doms_and_track\n",
    "\n",
    "from jax.scipy.stats.norm import pdf as norm_pdf\n",
    "from jax.scipy.stats.norm import logpdf as norm_logpdf\n",
    "\n",
    "from lib.gamma_sf_approx import gamma_sf_fast"
   ]
  },
  {
   "cell_type": "code",
   "execution_count": 57,
   "id": "818e863d",
   "metadata": {},
   "outputs": [],
   "source": [
    "eval_network = get_network_eval_fn(bpath='/home/storage/hans/photondata/large_table_training/all_time_bins/w_penalty_b5/cache/test_penalties_tree_start_epoch_160', dtype=jnp.float64)"
   ]
  },
  {
   "cell_type": "code",
   "execution_count": 58,
   "id": "79118445",
   "metadata": {},
   "outputs": [
    {
     "name": "stdout",
     "output_type": "stream",
     "text": [
      "[1.00151594 1.07198408 5.66846037] [3.55536324e-03 9.51488047e-02 4.06963271e+00] [0.0579739  0.20219347 0.73983263]\n"
     ]
    }
   ],
   "source": [
    "dist = 5\n",
    "z = -500\n",
    "rho = 0.0\n",
    "zenith = np.pi/2\n",
    "azimuth = 0.0\n",
    "\n",
    "x = jnp.array([dist, rho, z, zenith, azimuth])\n",
    "x_prime = transform_network_inputs(x)\n",
    "y = eval_network(x_prime)\n",
    "logits, gamma_as, gamma_bs = transform_network_outputs(y)\n",
    "mix_probs = jax.nn.softmax(logits)\n",
    "log_mix_probs = jnp.log(mix_probs)\n",
    "# index 1 is main component\n",
    "g_a = gamma_as\n",
    "g_b = gamma_bs\n",
    "sigma = 3\n",
    "\n",
    "print(gamma_as, gamma_bs, mix_probs)"
   ]
  },
  {
   "cell_type": "code",
   "execution_count": 59,
   "id": "1ca924b9",
   "metadata": {},
   "outputs": [],
   "source": [
    "from lib.c_mpe_gamma import c_multi_gamma_mpe_logprob_midpoint2 \n",
    "c_multi_gamma_mpe_logprob_midpoint2_v1dx = jax.jit(jax.vmap(c_multi_gamma_mpe_logprob_midpoint2, \n",
    "                                                            (0, None, None, None, None, None),\n",
    "                                                            0\n",
    "                                                        )\n",
    "                                                  )\n",
    "\n",
    "from lib.c_mpe_gamma import c_multi_gamma_mpe_prob_midpoint2 \n",
    "c_multi_gamma_mpe_prob_midpoint2_v1dx = jax.jit(jax.vmap(c_multi_gamma_mpe_prob_midpoint2, \n",
    "                                                            (0, None, None, None, None, None),\n",
    "                                                            0\n",
    "                                                        )\n",
    "                                                  )\n",
    "\n",
    "from lib.c_spe_gamma import c_multi_gamma_spe_prob\n",
    "c_multi_gamma_spe_prob_v1dx = jax.jit(jax.vmap(c_multi_gamma_spe_prob, \n",
    "                                                            (0, None, None, None, None),\n",
    "                                                            0\n",
    "                                                        )\n",
    "                                                  )"
   ]
  },
  {
   "cell_type": "code",
   "execution_count": 60,
   "id": "c8ffd8b3",
   "metadata": {},
   "outputs": [],
   "source": [
    "def c_multi_gamma_mpe_prob_midpoint2_custom(x, mix_probs, a, b, n, sigma=3.0):\n",
    "    \"\"\"\n",
    "    Q < 30\n",
    "    \"\"\"\n",
    "    nmax = 10\n",
    "    nint1 = 10\n",
    "    nint2 = 15\n",
    "    nint3 = 35\n",
    "    \n",
    "    eps000 = 1.e-12\n",
    "    eps00 = 1.e-6\n",
    "    eps = 1.e-3\n",
    "    #eps = 1.e-6\n",
    "    \n",
    "    xvals000 = jnp.logspace(jnp.log(eps000), jnp.log(eps00-eps000), 10)\n",
    "    xvals00 = jnp.logspace(jnp.log(eps00), jnp.log(eps-eps00), 10)\n",
    "    \n",
    "    x0 = eps\n",
    "    x_m0 = 0.01\n",
    "    xvals0 = jnp.linspace(x0, x_m0, 10)\n",
    "\n",
    "    x_m1 = 0.05\n",
    "    xvals1 = jnp.linspace(x_m0, x_m1, 10)\n",
    "\n",
    "    x_m2 = 0.25\n",
    "    xvals2 = jnp.linspace(x_m1, x_m2, 10)\n",
    "\n",
    "    x_m25 = 0.75\n",
    "    xvals25 = jnp.linspace(x_m2, x_m25, 10)\n",
    "\n",
    "    x_m3 = 2.5\n",
    "    xvals3 = jnp.linspace(x_m25, x_m3, 10)\n",
    "\n",
    "    x_m4 = 8.0\n",
    "    xvals4 = jnp.linspace(x_m3, x_m4, 20)\n",
    "\n",
    "    #x_m5 = 6000.0\n",
    "    #xvals5 = jnp.linspace(x_m4, x_m5, 20)\n",
    "\n",
    "    #xmin = jnp.max(jnp.array([1.5 * eps, x - 4 * sigma]))\n",
    "    #xmax = jnp.max(jnp.array([xmin+1.5*eps, x + 4 * sigma]))\n",
    "    #xvals_x = jnp.linspace(xmin, xmax, 30)\n",
    "    #xvals = jnp.sort(jnp.concatenate([xvals0, xvals1, xvals2, xvals25, xvals3, xvals4, xvals5, xvals_x]))\n",
    "    xmin = jnp.max(jnp.array([1.5 * eps, x - 10 * sigma]))\n",
    "    xmax = jnp.max(jnp.array([xmin+1.5*eps, x + 10 * sigma]))\n",
    "    xvals_x = jnp.linspace(xmin, xmax, 101)\n",
    "    xvals = jnp.sort(jnp.concatenate([xvals000, xvals00, xvals0, xvals1, xvals2, xvals25, xvals3, xvals4, xvals_x]))\n",
    "\n",
    "    dx = xvals[1:]-xvals[:-1]\n",
    "\n",
    "    xvals = 0.5*(xvals[:-1]+xvals[1:])\n",
    "    n_pdf = norm_pdf(xvals, loc=x, scale=sigma)\n",
    "\n",
    "    a_e = jnp.expand_dims(a, axis=-1)\n",
    "    b_e = jnp.expand_dims(b, axis=-1)\n",
    "    mix_probs_e = jnp.expand_dims(mix_probs, axis=-1)\n",
    "\n",
    "    xvals_e = jnp.expand_dims(xvals, axis=0)\n",
    "    sfs = jnp.sum(mix_probs_e * jnp.clip(gamma_sf_fast(xvals_e, a_e, b_e), min=1.e-300, max=None), axis=0)\n",
    "    pdfs = jnp.sum(mix_probs_e * jnp.clip(gamma_pdf(xvals_e, a_e, scale=1./b_e), min=0, max=None), axis=0)\n",
    "\n",
    "    return jnp.sum(n_pdf * n * pdfs * jnp.power(sfs, n-1.0) * dx)\n",
    "\n",
    "c_multi_gamma_mpe_prob_midpoint2_custom_v1dx = jax.jit(jax.vmap(c_multi_gamma_mpe_prob_midpoint2_custom, \n",
    "                                                            (0, None, None, None, None, None),\n",
    "                                                            0\n",
    "                                                        )\n",
    "                                                  )"
   ]
  },
  {
   "cell_type": "code",
   "execution_count": 61,
   "id": "66ef0105",
   "metadata": {},
   "outputs": [
    {
     "name": "stderr",
     "output_type": "stream",
     "text": [
      "2024-12-17 23:01:52.704172: W external/xla/xla/tsl/framework/bfc_allocator.cc:497] Allocator (GPU_0_bfc) ran out of memory trying to allocate 1.27GiB (rounded to 1360801024)requested by op \n",
      "2024-12-17 23:01:52.704256: W external/xla/xla/tsl/framework/bfc_allocator.cc:508] *______*******************************************************************************************xx\n",
      "E1217 23:01:52.704271 2983560 pjrt_stream_executor_client.cc:3085] Execution of replica 0 failed: RESOURCE_EXHAUSTED: Out of memory while trying to allocate 1360801000 bytes.\n"
     ]
    },
    {
     "ename": "XlaRuntimeError",
     "evalue": "RESOURCE_EXHAUSTED: Out of memory while trying to allocate 1360801000 bytes.",
     "output_type": "error",
     "traceback": [
      "\u001b[0;31m---------------------------------------------------------------------------\u001b[0m",
      "\u001b[0;31mXlaRuntimeError\u001b[0m                           Traceback (most recent call last)",
      "Cell \u001b[0;32mIn[61], line 5\u001b[0m\n\u001b[1;32m      3\u001b[0m fig, ax \u001b[38;5;241m=\u001b[39m plt\u001b[38;5;241m.\u001b[39msubplots()\n\u001b[1;32m      4\u001b[0m xvals \u001b[38;5;241m=\u001b[39m np\u001b[38;5;241m.\u001b[39mlinspace(\u001b[38;5;241m-\u001b[39m\u001b[38;5;241m30\u001b[39m, \u001b[38;5;241m50\u001b[39m, \u001b[38;5;241m100000\u001b[39m)\n\u001b[0;32m----> 5\u001b[0m yvals \u001b[38;5;241m=\u001b[39m \u001b[43mc_multi_gamma_mpe_logprob_midpoint2_v1dx\u001b[49m\u001b[43m(\u001b[49m\u001b[43mxvals\u001b[49m\u001b[43m,\u001b[49m\u001b[43m \u001b[49m\u001b[43mlog_mix_probs\u001b[49m\u001b[43m,\u001b[49m\u001b[43m \u001b[49m\u001b[43mg_a\u001b[49m\u001b[43m,\u001b[49m\u001b[43m \u001b[49m\u001b[43mg_b\u001b[49m\u001b[43m,\u001b[49m\u001b[43m \u001b[49m\u001b[43mn_p\u001b[49m\u001b[43m,\u001b[49m\u001b[43m \u001b[49m\u001b[43mjnp\u001b[49m\u001b[38;5;241;43m.\u001b[39;49m\u001b[43marray\u001b[49m\u001b[43m(\u001b[49m\u001b[38;5;241;43m3.0\u001b[39;49m\u001b[43m)\u001b[49m\u001b[43m)\u001b[49m\n\u001b[1;32m      6\u001b[0m yvals \u001b[38;5;241m=\u001b[39m jnp\u001b[38;5;241m.\u001b[39mexp(yvals)\n\u001b[1;32m      7\u001b[0m plt\u001b[38;5;241m.\u001b[39mplot(xvals, yvals, color\u001b[38;5;241m=\u001b[39m\u001b[38;5;124m'\u001b[39m\u001b[38;5;124mtab:blue\u001b[39m\u001b[38;5;124m'\u001b[39m)\n",
      "    \u001b[0;31m[... skipping hidden 5 frame]\u001b[0m\n",
      "File \u001b[0;32m~/.local/share/virtualenvs/py3_blackjax-AnmVjYxk/lib/python3.11/site-packages/jax/_src/interpreters/pxla.py:1298\u001b[0m, in \u001b[0;36mExecuteReplicated.__call__\u001b[0;34m(self, *args)\u001b[0m\n\u001b[1;32m   1296\u001b[0m   \u001b[38;5;28mself\u001b[39m\u001b[38;5;241m.\u001b[39m_handle_token_bufs(result_token_bufs, sharded_runtime_token)\n\u001b[1;32m   1297\u001b[0m \u001b[38;5;28;01melse\u001b[39;00m:\n\u001b[0;32m-> 1298\u001b[0m   results \u001b[38;5;241m=\u001b[39m \u001b[38;5;28;43mself\u001b[39;49m\u001b[38;5;241;43m.\u001b[39;49m\u001b[43mxla_executable\u001b[49m\u001b[38;5;241;43m.\u001b[39;49m\u001b[43mexecute_sharded\u001b[49m\u001b[43m(\u001b[49m\u001b[43minput_bufs\u001b[49m\u001b[43m)\u001b[49m\n\u001b[1;32m   1300\u001b[0m \u001b[38;5;28;01mif\u001b[39;00m dispatch\u001b[38;5;241m.\u001b[39mneeds_check_special():\n\u001b[1;32m   1301\u001b[0m   out_arrays \u001b[38;5;241m=\u001b[39m results\u001b[38;5;241m.\u001b[39mdisassemble_into_single_device_arrays()\n",
      "\u001b[0;31mXlaRuntimeError\u001b[0m: RESOURCE_EXHAUSTED: Out of memory while trying to allocate 1360801000 bytes."
     ]
    },
    {
     "data": {
      "image/png": "[encoded data removed]",
      "text/plain": [
       "<Figure size 640x480 with 1 Axes>"
      ]
     },
     "metadata": {},
     "output_type": "display_data"
    }
   ],
   "source": [
    "n_p = 40\n",
    "\n",
    "fig, ax = plt.subplots()\n",
    "xvals = np.linspace(-30, 50, 100000)\n",
    "yvals = c_multi_gamma_mpe_logprob_midpoint2_v1dx(xvals, log_mix_probs, g_a, g_b, n_p, jnp.array(3.0))\n",
    "yvals = jnp.exp(yvals)\n",
    "plt.plot(xvals, yvals, color='tab:blue')\n",
    "\n",
    "yvals2 = c_multi_gamma_mpe_prob_midpoint2_v1dx(xvals, mix_probs, g_a, g_b, n_p, jnp.array(3.0))\n",
    "plt.plot(xvals, yvals2, color='tab:orange', linestyle='dashed')\n",
    "\n",
    "yvals3 = c_multi_gamma_spe_prob_v1dx(xvals, mix_probs, g_a, g_b, jnp.array(3.0))\n",
    "plt.plot(xvals, yvals3, color='tab:red', linestyle='dotted')\n",
    "\n",
    "yvals4 = norm_pdf(xvals, 0.0, 3.0)\n",
    "plt.plot(xvals, yvals4, \"k--\")\n",
    "\n",
    "yvals5 = c_multi_gamma_mpe_prob_midpoint2_custom_v1dx(xvals, mix_probs, g_a, g_b, n_p, jnp.array(3.0))\n",
    "plt.plot(xvals, yvals5, color='magenta', linestyle='dashed')\n",
    "\n",
    "y_max = jnp.max(yvals4)\n",
    "plot_args = {'xlim':[-30, 50],\n",
    "                     'ylim':[0.0, 1.2*y_max],\n",
    "                     #'ylim':[0.0, 0.5],\n",
    "                     'xlabel':'delay time [ns]',\n",
    "                     'ylabel':'pdf'}\n",
    "\n",
    "adjust_plot_1d(fig, ax, plot_args=plot_args)\n",
    "plt.title(f\"distance from track {dist:.1f}m \")\n",
    "plt.tight_layout()\n",
    "plt.legend(fontsize=8)\n",
    "plt.show()"
   ]
  },
  {
   "cell_type": "code",
   "execution_count": null,
   "id": "e0851b38",
   "metadata": {},
   "outputs": [],
   "source": [
    "fig, ax = plt.subplots()\n",
    "xvals = np.linspace(-100, 100, 100000)\n",
    "yvals = c_multi_gamma_mpe_logprob_midpoint2_v1dx(xvals, log_mix_probs, g_a, g_b, n_p, jnp.array(3.0))\n",
    "plt.plot(xvals, yvals, color='tab:blue')\n",
    "\n",
    "yvals2 = c_multi_gamma_mpe_prob_midpoint2_v1dx(xvals, mix_probs, g_a, g_b, n_p, jnp.array(3.0))\n",
    "yvals2 = jnp.log(yvals2)\n",
    "plt.plot(xvals, yvals2, color='tab:orange', linestyle='dashed')\n",
    "\n",
    "yvals3 = c_multi_gamma_spe_prob_v1dx(xvals, mix_probs, g_a, g_b, jnp.array(3.0))\n",
    "yvals3 = jnp.log(yvals3)\n",
    "plt.plot(xvals, yvals3, color='tab:red', linestyle='dotted')\n",
    "\n",
    "yvals4 = norm_logpdf(xvals, 0.0, 3.0)\n",
    "plt.plot(xvals, yvals4, \"k--\")\n",
    "\n",
    "yvals5 = c_multi_gamma_mpe_prob_midpoint2_custom_v1dx(xvals, mix_probs, g_a, g_b, n_p, jnp.array(3.0))\n",
    "yvals5 = jnp.log(yvals5)\n",
    "plt.plot(xvals, yvals5, color='magenta', linestyle='dashed')\n",
    "\n",
    "y_max = jnp.max(yvals)\n",
    "y_min = jnp.min(yvals)\n",
    "plot_args = {'xlim':[-20, 100],\n",
    "                     'ylim':[0.8*y_max, y_min],\n",
    "                     #'ylim':[0.0, 0.5],\n",
    "                     'xlabel':'delay time [ns]',\n",
    "                     'ylabel':'pdf'}\n",
    "\n",
    "adjust_plot_1d(fig, ax, plot_args=plot_args)\n",
    "plt.title(f\"distance from track {dist:.1f}m \")\n",
    "plt.tight_layout()\n",
    "plt.legend(fontsize=8)\n",
    "plt.show()"
   ]
  },
  {
   "cell_type": "code",
   "execution_count": null,
   "id": "bba67615",
   "metadata": {},
   "outputs": [],
   "source": [
    "print(yvals5)"
   ]
  },
  {
   "cell_type": "code",
   "execution_count": null,
   "id": "69b1c754",
   "metadata": {},
   "outputs": [],
   "source": [
    "n_p = 10000\n",
    "\n",
    "fig, ax = plt.subplots()\n",
    "xvals = np.linspace(-10, 10, 100000)\n",
    "yvals = c_multi_gamma_mpe_logprob_midpoint2_v1dx(xvals, log_mix_probs, g_a, g_b, n_p, jnp.array(3.0))\n",
    "plt.plot(xvals, yvals, color='tab:blue')\n",
    "\n",
    "yvals2 = c_multi_gamma_mpe_prob_midpoint2_v1dx(xvals, mix_probs, g_a, g_b, n_p, jnp.array(3.0))\n",
    "yvals2 = jnp.log(yvals2)\n",
    "plt.plot(xvals, yvals2, color='tab:orange', linestyle='dashed')\n",
    "\n",
    "yvals3 = c_multi_gamma_spe_prob_v1dx(xvals, mix_probs, g_a, g_b, jnp.array(3.0))\n",
    "yvals3 = jnp.log(yvals3)\n",
    "plt.plot(xvals, yvals3, color='tab:red', linestyle='dotted')\n",
    "\n",
    "yvals4 = norm_logpdf(xvals, 0.0, 3.0)\n",
    "plt.plot(xvals, yvals4, \"k--\")\n",
    "\n",
    "y_max = jnp.max(yvals)\n",
    "y_min = jnp.min(yvals)\n",
    "plot_args = {'xlim':[-10, 10],\n",
    "                     'ylim':[0.8*y_max, y_min],\n",
    "                     #'ylim':[0.0, 0.5],\n",
    "                     'xlabel':'delay time [ns]',\n",
    "                     'ylabel':'pdf'}\n",
    "\n",
    "adjust_plot_1d(fig, ax, plot_args=plot_args)\n",
    "plt.title(f\"distance from track {dist:.1f}m \")\n",
    "plt.tight_layout()\n",
    "plt.legend(fontsize=8)\n",
    "plt.show()"
   ]
  },
  {
   "cell_type": "code",
   "execution_count": null,
   "id": "da81bb8c",
   "metadata": {},
   "outputs": [],
   "source": [
    "yvals = c_multi_gamma_mpe_logprob_midpoint2_v1dx(xvals, mix_probs, g_a, g_b, n_p, jnp.array(3.0))\n",
    "print(yvals)"
   ]
  },
  {
   "cell_type": "code",
   "execution_count": null,
   "id": "9b8baf5e",
   "metadata": {},
   "outputs": [],
   "source": [
    "yvals = c_multi_gamma_mpe_prob_midpoint2_v1dx(xvals, mix_probs, g_a, g_b, n_p, jnp.array(3.0))\n",
    "print(jnp.log(yvals))"
   ]
  },
  {
   "cell_type": "code",
   "execution_count": null,
   "id": "b54e5859",
   "metadata": {},
   "outputs": [],
   "source": [
    "g_a"
   ]
  },
  {
   "cell_type": "code",
   "execution_count": null,
   "id": "f8e52ad4",
   "metadata": {},
   "outputs": [],
   "source": [
    "dist = 20\n",
    "z = -500\n",
    "rho = 0.0\n",
    "zenith = np.pi/2\n",
    "azimuth = 0.0\n",
    "\n",
    "x = jnp.array([dist, rho, z, zenith, azimuth])\n",
    "x_prime = transform_network_inputs(x)\n",
    "y = eval_network(x_prime)\n",
    "logits, gamma_as, gamma_bs = transform_network_outputs(y)\n",
    "mix_probs = jax.nn.softmax(logits)\n",
    "log_mix_probs = jnp.log(mix_probs)\n",
    "# index 1 is main component\n",
    "g_a = gamma_as\n",
    "g_b = gamma_bs\n",
    "sigma = 3\n",
    "\n",
    "print(gamma_as, gamma_bs, mix_probs)"
   ]
  },
  {
   "cell_type": "code",
   "execution_count": null,
   "id": "15b7835c",
   "metadata": {},
   "outputs": [],
   "source": [
    "xvals = np.linspace(0, 20000, 100000)\n",
    "\n",
    "from lib.gamma_sf_approx import regularized_lower_incomplete_gamma_approx\n",
    "\n",
    "def gamma_cdf_approx(x, a, b):\n",
    "    return regularized_lower_incomplete_gamma_approx(x*b, a)\n",
    "\n",
    "gamma_pdf_approx = jax.grad(gamma_cdf_approx)\n",
    "gamma_pdf_approx_v = jax.vmap(gamma_pdf_approx, (0, None, None), 0)"
   ]
  },
  {
   "cell_type": "code",
   "execution_count": null,
   "id": "1e98f78d",
   "metadata": {},
   "outputs": [],
   "source": [
    "pdf1 = gamma_pdf_approx_v(xvals, g_a[0], g_b[0])\n",
    "pdf2 = gamma_pdf_approx_v(xvals, g_a[1], g_b[1])\n",
    "pdf3 = gamma_pdf_approx_v(xvals, g_a[2], g_b[3])\n",
    "pdf = jnp.concatenate([jnp.expand_dims(pdf1, axis=0),\n",
    "                          jnp.expand_dims(pdf2, axis=0),\n",
    "                          jnp.expand_dims(pdf3, axis=0)\n",
    "                      ], axis=0)\n",
    "\n",
    "mix_pdf = jnp.sum(jnp.expand_dims(mix_probs, axis=1) * pdf, axis=0)"
   ]
  },
  {
   "cell_type": "code",
   "execution_count": null,
   "id": "d43fbb07",
   "metadata": {},
   "outputs": [],
   "source": [
    "yvals3 = c_multi_gamma_spe_prob_v1dx(xvals, mix_probs, g_a, g_b, jnp.array(3.0))\n",
    "plt.plot(xvals, yvals3, color='tab:red', linestyle='dotted')\n",
    "\n",
    "plt.plot(xvals, mix_pdf)"
   ]
  },
  {
   "cell_type": "code",
   "execution_count": null,
   "id": "f07871dd",
   "metadata": {},
   "outputs": [],
   "source": [
    "from lib.gamma_sf_approx import regularized_lower_incomplete_gamma_approx\n",
    "\n",
    "def gamma_cdf_approx(x, a, b):\n",
    "    return regularized_lower_incomplete_gamma_approx(x*b, a)\n",
    "\n",
    "gamma_pdf_approx = jax.grad(gamma_cdf_approx)\n",
    "gamma_pdf_approx_v = jax.vmap(gamma_pdf_approx, (0, None, None), 0)\n",
    "gamma_pdf_approx_vv = jax.vmap(gamma_pdf_approx_v, (None, 0, 0), 0)\n",
    "\n",
    "def multi_gamma_pdf_approx(x, a, b, mix_probs):\n",
    "    pdf = jax.vmap(gamma_pdf_approx, (None, 0, 0), 0)(x, a, b)\n",
    "    return jnp.sum(mix_probs * pdf)"
   ]
  },
  {
   "cell_type": "code",
   "execution_count": null,
   "id": "6e58e018",
   "metadata": {},
   "outputs": [],
   "source": [
    "def c_multi_gamma_spe_prob_approx(x, mix_probs, a, b, sigma=3.0):\n",
    "    nmax = 20\n",
    "    nint1 = 20\n",
    "    nint2 = 20\n",
    "    nint3 = 50 \n",
    "\n",
    "    xmax = jnp.max(jnp.array([jnp.array(nmax * sigma), x + nmax * sigma]))\n",
    "    diff = xmax-x\n",
    "    xmin = jnp.max(jnp.array([jnp.array(0.0), x - diff]))\n",
    "    x_m1 = xmin + 0.02*sigma\n",
    "    x_m2 = x_m1 + 0.5*sigma\n",
    "\n",
    "    # two combined the two integration regions\n",
    "    xvals = jnp.concatenate([jnp.linspace(xmin, x_m1, nint1),\n",
    "                             jnp.linspace(x_m1, x_m2, nint2),\n",
    "                             jnp.linspace(x_m2, xmax, nint3)])\n",
    "\n",
    "    dx = xvals[1:]-xvals[:-1]\n",
    "\n",
    "    xvals = 0.5*(xvals[:-1]+xvals[1:])\n",
    "    n_pdf = norm_pdf(xvals, loc=x, scale=sigma)\n",
    "\n",
    "    _e = jnp.expand_dims(a, axis=-1)\n",
    "    #b_e = jnp.expand_dims(b, axis=-1)\n",
    "    mix_probs_e = jnp.expand_dims(mix_probs, axis=-1)\n",
    "\n",
    "    #xvals_e = jnp.expand_dims(xvals, axis=0)\n",
    "    #pdfs = jnp.sum(mix_probs_e * gamma_pdf_approx_vv(xvals_e, a_e, scale=1./b_e), axis=0)\n",
    "    pdfs = jnp.sum(mix_probs_e * gamma_pdf_approx_vv(xvals, a, b), axis=0)\n",
    "\n",
    "    return jnp.sum(n_pdf * pdfs * dx)\n",
    "\n",
    "c_multi_gamma_spe_prob_approx_v1dx = jax.vmap(c_multi_gamma_spe_prob_approx, (0, None, None, None, None), 0)"
   ]
  },
  {
   "cell_type": "code",
   "execution_count": null,
   "id": "1e71e5c1",
   "metadata": {},
   "outputs": [],
   "source": [
    "multi_gamma_pdf_approx(5.0, g_a, g_b, mix_probs)"
   ]
  },
  {
   "cell_type": "code",
   "execution_count": null,
   "id": "6d83f420",
   "metadata": {},
   "outputs": [],
   "source": [
    "jnp.sum(mix_pdf) * (xvals[1]-xvals[0])"
   ]
  },
  {
   "cell_type": "code",
   "execution_count": null,
   "id": "6a0667d0",
   "metadata": {},
   "outputs": [],
   "source": [
    "print(c_multi_gamma_spe_prob_approx(5.0, mix_probs, g_a, g_b, 3.0))\n",
    "print(c_multi_gamma_spe_prob(5.0, mix_probs, g_a, g_b, 3.0))"
   ]
  },
  {
   "cell_type": "code",
   "execution_count": null,
   "id": "11b43b0a",
   "metadata": {},
   "outputs": [],
   "source": [
    "dist = 100\n",
    "z = 500\n",
    "rho = 0.0\n",
    "zenith = np.pi/2\n",
    "azimuth = 0.0\n",
    "\n",
    "x = jnp.array([dist, rho, z, zenith, azimuth])\n",
    "x_prime = transform_network_inputs(x)\n",
    "y = eval_network(x_prime)\n",
    "logits, gamma_as, gamma_bs = transform_network_outputs(y)\n",
    "mix_probs = jax.nn.softmax(logits)\n",
    "log_mix_probs = jnp.log(mix_probs)\n",
    "# index 1 is main component\n",
    "g_a = gamma_as\n",
    "g_b = gamma_bs\n",
    "sigma = 3\n",
    "\n",
    "print(gamma_as, gamma_bs, mix_probs)"
   ]
  },
  {
   "cell_type": "code",
   "execution_count": null,
   "id": "feced269",
   "metadata": {},
   "outputs": [],
   "source": [
    "xvals = np.linspace(-20, 2000, 100000)\n",
    "yvals1 = c_multi_gamma_spe_prob_v1dx(xvals, mix_probs, g_a, g_b, 3.0) \n",
    "yvals2 = c_multi_gamma_spe_prob_approx_v1dx(xvals, mix_probs, g_a, g_b, 3.0) "
   ]
  },
  {
   "cell_type": "code",
   "execution_count": null,
   "id": "86dd0c04",
   "metadata": {},
   "outputs": [],
   "source": [
    "plt.plot(xvals, yvals1)\n",
    "plt.plot(xvals, yvals2, linestyle='dashed', label='approx')"
   ]
  },
  {
   "cell_type": "code",
   "execution_count": null,
   "id": "db49592b",
   "metadata": {},
   "outputs": [],
   "source": [
    "plt.plot(xvals, yvals1)\n",
    "plt.plot(xvals, yvals2, linestyle='dashed', label='approx')\n",
    "plt.yscale('log')"
   ]
  },
  {
   "cell_type": "code",
   "execution_count": null,
   "id": "de1ea215",
   "metadata": {},
   "outputs": [],
   "source": [
    "print(g_a)"
   ]
  },
  {
   "cell_type": "code",
   "execution_count": null,
   "id": "be7f8cf0",
   "metadata": {},
   "outputs": [],
   "source": [
    "\n",
    "print(g_b)"
   ]
  },
  {
   "cell_type": "code",
   "execution_count": null,
   "id": "fcb35ab5",
   "metadata": {},
   "outputs": [],
   "source": [
    "def c_multi_gamma_mpe_prob_approx(x, mix_probs, a, b, n, sigma=3.0):\n",
    "    nmax = 20\n",
    "    nint1 = 20\n",
    "    nint2 = 20\n",
    "    nint3 = 50 \n",
    "\n",
    "    xmax = jnp.max(jnp.array([jnp.array(nmax * sigma), x + nmax * sigma]))\n",
    "    diff = xmax-x\n",
    "    xmin = jnp.max(jnp.array([jnp.array(0.0), x - diff]))\n",
    "    x_m1 = xmin + 0.02*sigma\n",
    "    x_m2 = x_m1 + 0.5*sigma\n",
    "\n",
    "    # two combined the two integration regions\n",
    "    xvals = jnp.concatenate([jnp.linspace(xmin, x_m1, nint1),\n",
    "                             jnp.linspace(x_m1, x_m2, nint2),\n",
    "                             jnp.linspace(x_m2, xmax, nint3)])\n",
    "\n",
    "    dx = xvals[1:]-xvals[:-1]\n",
    "\n",
    "    xvals = 0.5*(xvals[:-1]+xvals[1:])\n",
    "    n_pdf = norm_pdf(xvals, loc=x, scale=sigma)\n",
    "\n",
    "    mix_probs_e = jnp.expand_dims(mix_probs, axis=-1)\n",
    "    pdfs = jnp.sum(mix_probs_e * gamma_pdf_approx_vv(xvals, a, b), axis=0)\n",
    "\n",
    "    a_e = jnp.expand_dims(a, axis=-1)\n",
    "    b_e = jnp.expand_dims(b, axis=-1)\n",
    "    xvals_e = jnp.expand_dims(xvals, axis=0)\n",
    "    sfs = jnp.sum(mix_probs_e * gamma_sf_fast(xvals_e, a_e, b_e), axis=0)\n",
    "\n",
    "    return jnp.sum(n_pdf * n * pdfs * jnp.power(sfs, n-1.0) * dx)\n",
    "\n",
    "c_multi_gamma_mpe_prob_approx_v1dx = jax.vmap(c_multi_gamma_mpe_prob_approx, (0, None, None, None, None, None), 0)"
   ]
  },
  {
   "cell_type": "code",
   "execution_count": null,
   "id": "dbc5bdc1",
   "metadata": {},
   "outputs": [],
   "source": [
    "from lib.cgamma import c_multi_gamma_mpe_prob_v1d_x"
   ]
  },
  {
   "cell_type": "code",
   "execution_count": null,
   "id": "b34ea98d",
   "metadata": {},
   "outputs": [],
   "source": [
    "dist = 75\n",
    "z = 200\n",
    "rho = 0.0\n",
    "zenith = np.pi/2\n",
    "azimuth = 0.0\n",
    "\n",
    "x = jnp.array([dist, rho, z, zenith, azimuth])\n",
    "x_prime = transform_network_inputs(x)\n",
    "y = eval_network(x_prime)\n",
    "logits, gamma_as, gamma_bs = transform_network_outputs(y)\n",
    "mix_probs = jax.nn.softmax(logits)\n",
    "log_mix_probs = jnp.log(mix_probs)\n",
    "# index 1 is main component\n",
    "g_a = gamma_as\n",
    "g_b = gamma_bs\n",
    "sigma = 3\n",
    "\n",
    "print(gamma_as, gamma_bs, mix_probs)"
   ]
  },
  {
   "cell_type": "code",
   "execution_count": null,
   "id": "22401e31",
   "metadata": {},
   "outputs": [],
   "source": [
    "n_p = 100\n",
    "xvals = np.linspace(-20, 100, 100000)\n",
    "yvals1 = c_multi_gamma_mpe_prob_midpoint2_v1dx(xvals, mix_probs, g_a, g_b, n_p, 3.0) \n",
    "yvals2 = c_multi_gamma_mpe_prob_approx_v1dx(xvals, mix_probs, g_a, g_b, n_p, 3.0)\n",
    "yvals3 = c_multi_gamma_mpe_prob_v1d_x(xvals, mix_probs, g_a, g_b, n_p, 3.0, 0.1) \n",
    "yvals4 = norm_pdf(xvals, 0.0, 3.0)"
   ]
  },
  {
   "cell_type": "code",
   "execution_count": null,
   "id": "6ec49b36",
   "metadata": {},
   "outputs": [],
   "source": []
  },
  {
   "cell_type": "code",
   "execution_count": null,
   "id": "09911e73",
   "metadata": {},
   "outputs": [],
   "source": [
    "plt.plot(xvals, yvals1)\n",
    "plt.plot(xvals, yvals2, linestyle='dashed', label='approx')\n",
    "plt.plot(xvals, yvals3, linestyle='dashed', label='approx', color='black')\n",
    "#plt.plot(xvals, yvals4, label='approx', color='black')"
   ]
  },
  {
   "cell_type": "code",
   "execution_count": null,
   "id": "e7344613",
   "metadata": {},
   "outputs": [],
   "source": [
    "plt.plot(xvals, yvals1)\n",
    "plt.plot(xvals, yvals2, linestyle='dashed', label='approx')\n",
    "plt.plot(xvals, yvals3, linestyle='dashed', label='approx', color='black')\n",
    "plt.plot(xvals, yvals4, label='approx', color='black')\n",
    "\n",
    "plt.yscale('log')\n",
    "plt.ylim(ymin=1.e-10)"
   ]
  },
  {
   "cell_type": "code",
   "execution_count": null,
   "id": "67678f39",
   "metadata": {},
   "outputs": [],
   "source": [
    "print(np.sum(yvals1 * (xvals[1]-xvals[0])))\n",
    "print(np.sum(yvals2 * (xvals[1]-xvals[0])))"
   ]
  },
  {
   "cell_type": "code",
   "execution_count": null,
   "id": "9700eb57",
   "metadata": {},
   "outputs": [],
   "source": []
  },
  {
   "cell_type": "code",
   "execution_count": null,
   "id": "bd774f3a",
   "metadata": {},
   "outputs": [],
   "source": [
    "jnp.exp(-700)"
   ]
  },
  {
   "cell_type": "code",
   "execution_count": null,
   "id": "dc8a3b42",
   "metadata": {},
   "outputs": [],
   "source": [
    "jnp.log(1.e-320)"
   ]
  },
  {
   "cell_type": "code",
   "execution_count": null,
   "id": "d0d8bb50",
   "metadata": {},
   "outputs": [],
   "source": [
    "jnp.exp(-736)"
   ]
  },
  {
   "cell_type": "code",
   "execution_count": null,
   "id": "1dc93ca3",
   "metadata": {},
   "outputs": [],
   "source": [
    "jax.numpy.finfo(jnp.float64).smallest_normal"
   ]
  },
  {
   "cell_type": "code",
   "execution_count": null,
   "id": "bc44dcb4",
   "metadata": {},
   "outputs": [],
   "source": []
  },
  {
   "cell_type": "code",
   "execution_count": null,
   "id": "27504af7",
   "metadata": {},
   "outputs": [],
   "source": []
  }
 ],
 "metadata": {
  "kernelspec": {
   "display_name": "Python 3 (ipykernel)",
   "language": "python",
   "name": "python3"
  },
  "language_info": {
   "codemirror_mode": {
    "name": "ipython",
    "version": 3
   },
   "file_extension": ".py",
   "mimetype": "text/x-python",
   "name": "python",
   "nbconvert_exporter": "python",
   "pygments_lexer": "ipython3",
   "version": "3.11.5"
  }
 },
 "nbformat": 4,
 "nbformat_minor": 5
}
