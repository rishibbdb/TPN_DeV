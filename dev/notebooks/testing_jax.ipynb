{
 "cells": [
  {
   "cell_type": "markdown",
   "id": "6b98481e-fc9e-42a2-bdf9-949f645fce69",
   "metadata": {},
   "source": [
    "# testing jax inference"
   ]
  },
  {
   "cell_type": "code",
   "execution_count": 1,
   "id": "14caf8fd-a20b-4496-9070-833bb09209de",
   "metadata": {},
   "outputs": [],
   "source": [
    "import numpy as np\n",
    "import os"
   ]
  },
  {
   "cell_type": "code",
   "execution_count": 2,
   "id": "2d4ae3e2-d8da-4fc5-aa1b-f515cb869db5",
   "metadata": {},
   "outputs": [],
   "source": [
    "bpath = '/home/storage/hans/photondata/code/github_separate_distance/network/tmp2/final_cdf_all_detector_weights/'"
   ]
  },
  {
   "cell_type": "code",
   "execution_count": 3,
   "id": "b3a65e82-ea7c-4386-8663-2419da6f9c11",
   "metadata": {},
   "outputs": [
    {
     "name": "stdout",
     "output_type": "stream",
     "text": [
      "(7, 232)\n",
      "(232,)\n",
      "(232, 232)\n",
      "(232,)\n",
      "(232, 232)\n",
      "(232,)\n",
      "(232, 232)\n",
      "(232,)\n",
      "(232, 232)\n",
      "(232,)\n",
      "(232, 232)\n",
      "(232,)\n",
      "(232, 232)\n",
      "(232,)\n",
      "(232, 232)\n",
      "(232,)\n",
      "(232, 9)\n",
      "(9,)\n"
     ]
    }
   ],
   "source": [
    "params = []\n",
    "\n",
    "for i in range(0, 9):\n",
    "    layer_weights = np.load(os.path.join(bpath, f'dense_{i}_weights.npy'))\n",
    "    layer_bias = np.load(os.path.join(bpath, f'dense_{i}_bias.npy'))\n",
    "    print(layer_weights.shape)\n",
    "    print(layer_bias.shape)\n",
    "    params.append((layer_weights, layer_bias))"
   ]
  },
  {
   "cell_type": "code",
   "execution_count": 4,
   "id": "f7e9a3d1-8a40-4241-bf0f-4116e19eb13e",
   "metadata": {},
   "outputs": [
    {
     "name": "stdout",
     "output_type": "stream",
     "text": [
      "(7, 232)\n",
      "(232,)\n",
      "(232, 9)\n",
      "(9,)\n"
     ]
    }
   ],
   "source": [
    "print(params[0][0].shape)\n",
    "print(params[0][1].shape)\n",
    "print(params[-1][0].shape)\n",
    "print(params[-1][1].shape)"
   ]
  },
  {
   "cell_type": "code",
   "execution_count": 5,
   "id": "dc3b4011-21e2-4394-8174-b4af20f5bd4d",
   "metadata": {},
   "outputs": [],
   "source": [
    "import jax.numpy as jnp"
   ]
  },
  {
   "cell_type": "code",
   "execution_count": 6,
   "id": "52b0a965-8f79-4af3-987a-9e15ab1bd6d6",
   "metadata": {},
   "outputs": [],
   "source": [
    "def network(x, params=params):\n",
    "    x = jnp.tanh(jnp.dot(x, params[0][0]) + params[0][1])\n",
    "\n",
    "    # residual block 1\n",
    "    y = jnp.tanh(jnp.dot(x, params[1][0]) + params[1][1])\n",
    "    y = jnp.tanh(jnp.dot(y, params[2][0]) + params[2][1])\n",
    "    x = jnp.tanh(jnp.dot(y, params[3][0]) + params[3][1]) + x\n",
    "\n",
    "    # residual block 2\n",
    "    y = jnp.tanh(jnp.dot(x, params[4][0]) + params[4][1])\n",
    "    y = jnp.tanh(jnp.dot(y, params[5][0]) + params[5][1])\n",
    "    x = jnp.tanh(jnp.dot(y, params[6][0]) + params[6][1]) + x\n",
    "\n",
    "    # outputs\n",
    "    y = jnp.tanh(jnp.dot(x, params[7][0]) + params[7][1])\n",
    "    z = jnp.dot(y, params[8][0]) + params[8][1]\n",
    "    return z"
   ]
  },
  {
   "cell_type": "code",
   "execution_count": 7,
   "id": "1e72cca8-ef4d-4519-b150-b6bb20cd229a",
   "metadata": {},
   "outputs": [],
   "source": [
    "dist = 25\n",
    "z = -210\n",
    "rho = 0.0\n",
    "zenith = np.pi/2\n",
    "azimuth = 0.0"
   ]
  },
  {
   "cell_type": "code",
   "execution_count": 8,
   "id": "d2eb4dcc-b0e4-4f4c-a283-e69ae8aa1741",
   "metadata": {},
   "outputs": [],
   "source": [
    "def transform_dimensions(dist, t_rho, t_z, km_scale = 1000):\n",
    "    x0 = dist / km_scale\n",
    "    x1 = np.cos(t_rho)\n",
    "    x2 = np.sin(t_rho)\n",
    "    x3 = t_z / km_scale\n",
    "    return [x0, x1, x2, x3]\n",
    "\n",
    "def dir_to_xyz(zenith, azimuth):\n",
    "    z = np.cos(np.deg2rad(zenith))\n",
    "    x = np.sin(np.deg2rad(zenith)) * np.cos(np.deg2rad(azimuth))\n",
    "    y = np.sin(np.deg2rad(zenith)) * np.sin(np.deg2rad(azimuth))\n",
    "    return [z, x, y]"
   ]
  },
  {
   "cell_type": "code",
   "execution_count": 9,
   "id": "c92d88b7-ecb6-4798-ac9d-a89464a275e8",
   "metadata": {},
   "outputs": [],
   "source": [
    "x = np.concatenate([transform_dimensions(dist, rho, z), dir_to_xyz(zenith, azimuth)])"
   ]
  },
  {
   "cell_type": "code",
   "execution_count": 10,
   "id": "d1185b45-5f64-48a1-9bc7-556550e32b03",
   "metadata": {},
   "outputs": [
    {
     "name": "stdout",
     "output_type": "stream",
     "text": [
      "[ 1.4350296  1.3923144  1.3053923 -2.8261218 -1.9026213 -3.9805856\n",
      " -4.695467  -2.7720673 -6.4437056]\n"
     ]
    }
   ],
   "source": [
    "print(network(x))\n",
    "# compare to output from tensorflow\n",
    "# 1/1 [==============================] - 0s 123ms/step\n",
    "# [[ 1.4350291  1.3923147  1.3053916 -2.8261225 -1.9026213 -3.980585\n",
    "#  -4.6954675 -2.7720673 -6.443706 ]]"
   ]
  },
  {
   "cell_type": "code",
   "execution_count": 46,
   "id": "fd4eb4ea-0427-4735-8c8b-a01d126a4ea1",
   "metadata": {},
   "outputs": [
    {
     "name": "stdout",
     "output_type": "stream",
     "text": [
      "954 µs ± 11.3 µs per loop (mean ± std. dev. of 7 runs, 1,000 loops each)\n"
     ]
    }
   ],
   "source": [
    "%timeit network(x).block_until_ready()"
   ]
  },
  {
   "cell_type": "code",
   "execution_count": 12,
   "id": "31553055-b88a-4894-b26f-5259f239b2a0",
   "metadata": {},
   "outputs": [],
   "source": [
    "import jax\n",
    "\n",
    "@jax.jit\n",
    "def network_jit(x, params=params):\n",
    "    x = jnp.tanh(jnp.dot(x, params[0][0]) + params[0][1])\n",
    "\n",
    "    # residual block 1\n",
    "    y = jnp.tanh(jnp.dot(x, params[1][0]) + params[1][1])\n",
    "    y = jnp.tanh(jnp.dot(y, params[2][0]) + params[2][1])\n",
    "    x = jnp.tanh(jnp.dot(y, params[3][0]) + params[3][1]) + x\n",
    "\n",
    "    # residual block 2\n",
    "    y = jnp.tanh(jnp.dot(x, params[4][0]) + params[4][1])\n",
    "    y = jnp.tanh(jnp.dot(y, params[5][0]) + params[5][1])\n",
    "    x = jnp.tanh(jnp.dot(y, params[6][0]) + params[6][1]) + x\n",
    "\n",
    "    # outputs\n",
    "    y = jnp.tanh(jnp.dot(x, params[7][0]) + params[7][1])\n",
    "    z = jnp.dot(y, params[8][0]) + params[8][1]\n",
    "    return z"
   ]
  },
  {
   "cell_type": "code",
   "execution_count": 13,
   "id": "00218e5e-383a-472d-a620-1ac1151afaec",
   "metadata": {},
   "outputs": [
    {
     "name": "stdout",
     "output_type": "stream",
     "text": [
      "[ 1.4350296  1.3923144  1.3053923 -2.8261218 -1.9026213 -3.9805856\n",
      " -4.695467  -2.7720673 -6.4437056]\n"
     ]
    }
   ],
   "source": [
    "print(network_jit(x))"
   ]
  },
  {
   "cell_type": "code",
   "execution_count": 47,
   "id": "3b68040a-d949-4300-b7a7-19f9bda0ac92",
   "metadata": {},
   "outputs": [
    {
     "name": "stdout",
     "output_type": "stream",
     "text": [
      "53.1 µs ± 2.05 µs per loop (mean ± std. dev. of 7 runs, 10,000 loops each)\n"
     ]
    }
   ],
   "source": [
    "%timeit network_jit(x).block_until_ready()"
   ]
  },
  {
   "cell_type": "code",
   "execution_count": 15,
   "id": "d1be144d-29bb-4d6f-a71b-25e98d700aae",
   "metadata": {},
   "outputs": [],
   "source": [
    "@jax.jit\n",
    "def network_jit_component(x, params=params, idx=0):\n",
    "    x = jnp.tanh(jnp.dot(x, params[0][0]) + params[0][1])\n",
    "\n",
    "    # residual block 1\n",
    "    y = jnp.tanh(jnp.dot(x, params[1][0]) + params[1][1])\n",
    "    y = jnp.tanh(jnp.dot(y, params[2][0]) + params[2][1])\n",
    "    x = jnp.tanh(jnp.dot(y, params[3][0]) + params[3][1]) + x\n",
    "\n",
    "    # residual block 2\n",
    "    y = jnp.tanh(jnp.dot(x, params[4][0]) + params[4][1])\n",
    "    y = jnp.tanh(jnp.dot(y, params[5][0]) + params[5][1])\n",
    "    x = jnp.tanh(jnp.dot(y, params[6][0]) + params[6][1]) + x\n",
    "\n",
    "    # outputs\n",
    "    y = jnp.tanh(jnp.dot(x, params[7][0]) + params[7][1])\n",
    "    z = jnp.dot(y, params[8][0]) + params[8][1]\n",
    "    return z[idx]"
   ]
  },
  {
   "cell_type": "code",
   "execution_count": 45,
   "id": "4a60465c-e8f2-4ca7-a6f9-62638fc42459",
   "metadata": {},
   "outputs": [
    {
     "name": "stdout",
     "output_type": "stream",
     "text": [
      "(Array(1.4350296, dtype=float32), Array([ 57.297993  ,  -0.3703457 ,  -0.06091708, -36.54707   ,\n",
      "         2.0929332 ,  -0.48832357,   0.50331485], dtype=float32))\n"
     ]
    }
   ],
   "source": [
    "print(jax.value_and_grad(network_jit_component)(x))"
   ]
  },
  {
   "cell_type": "code",
   "execution_count": 43,
   "id": "ad9bbcfe-824c-43ea-8611-16e9d16b55ed",
   "metadata": {},
   "outputs": [
    {
     "name": "stdout",
     "output_type": "stream",
     "text": [
      "1.26 ms ± 5.17 µs per loop (mean ± std. dev. of 7 runs, 1,000 loops each)\n"
     ]
    }
   ],
   "source": [
    "#%timeit jax.value_and_grad(network_jit_component)(x)\n",
    "%timeit jax.grad(network_jit_component, argnums=0)(x).block_until_ready()"
   ]
  },
  {
   "cell_type": "code",
   "execution_count": 18,
   "id": "c138ef9d-d4dd-491c-9a18-8de4893534ae",
   "metadata": {},
   "outputs": [],
   "source": [
    "# make a plot"
   ]
  },
  {
   "cell_type": "code",
   "execution_count": 19,
   "id": "833be8b2-8774-469e-ad19-bcaa413f2857",
   "metadata": {},
   "outputs": [],
   "source": [
    "import matplotlib.pyplot as plt\n",
    "import pickle"
   ]
  },
  {
   "cell_type": "code",
   "execution_count": 27,
   "id": "2fddc56b-5d22-48ac-8b5b-cac790cf855a",
   "metadata": {},
   "outputs": [],
   "source": [
    "#zenith = 20.095032646337103\n",
    "#azimuth = 59.0791043542297\n",
    "\n",
    "zenith = 95.0\n",
    "azimuth = 40.80309989368208\n",
    "\n",
    "#zenith = 95.0\n",
    "#azimuth = 139.19690010631788\n",
    "\n",
    "#zenith = 159.9049673536629\n",
    "#azimuth = 120.92089564577029\n",
    "\n",
    "infile = f'/home/storage/hans/photondata/fullazisupport/pickle/phototable_infinitemuon_zenith{zenith}_azimuth{azimuth}.pkl'\n",
    "table, bin_info = load_table_from_pickle(infile)"
   ]
  },
  {
   "cell_type": "code",
   "execution_count": 32,
   "id": "9a3dee46-3719-41c5-af87-612527a32b56",
   "metadata": {},
   "outputs": [],
   "source": [
    "from typing import Dict, List, Any\n",
    "import copy\n",
    "\n",
    "def load_table_from_pickle(infile: str) -> List[Any]:\n",
    "    table = pickle.load(open(infile, \"rb\"))\n",
    "    bin_info = dict()\n",
    "    bin_info['dist'] = {'c': table['bin_centers'][0],\n",
    "            'e': table['bin_edges'][0],\n",
    "            'w': table['bin_widths'][0]}\n",
    "\n",
    "    bin_info['rho'] = {'c': table['bin_centers'][1],\n",
    "            'e': table['bin_edges'][1],\n",
    "            'w': table['bin_widths'][1]}\n",
    "\n",
    "    bin_info['z'] = {'c': table['bin_centers'][2],\n",
    "            'e': table['bin_edges'][2],\n",
    "            'w': table['bin_widths'][2]}\n",
    "\n",
    "    bin_info['dt'] = {'c': table['bin_centers'][3],\n",
    "            'e': table['bin_edges'][3],\n",
    "            'w': table['bin_widths'][3]}\n",
    "\n",
    "    return table, bin_info\n",
    "\n",
    "def get_bin_idx(val: float, bins: np.ndarray) -> int:\n",
    "    assert np.logical_and(val > bins[0], val < bins[-1]), f'value {val} not within bounds [{bins[0]}, {bins[-1]}]'\n",
    "    return np.digitize(val, bins, right=False)-1\n",
    "\n",
    "def adjust_plot_1d(fig, ax, plot_args=None):\n",
    "    if not plot_args:\n",
    "        plot_args = {}\n",
    "\n",
    "    for axis in ['top','bottom','left','right']:\n",
    "          ax.spines[axis].set_linewidth(1.5)\n",
    "          ax.spines[axis].set_color('0.0')\n",
    "\n",
    "    y_scale_in_log = plot_args.get('y_axis_in_log', False)\n",
    "    if(y_scale_in_log):\n",
    "        ax.set_yscale('log')\n",
    "\n",
    "    ax.tick_params(axis='both', which='both', width=1.5, colors='0.0', labelsize=18)\n",
    "    ax.yaxis.set_ticks_position('both')\n",
    "    ax.set_ylabel(plot_args.get('ylabel', 'pdf'), fontsize=20)\n",
    "    ax.set_xlabel(plot_args.get('xlabel', 'var 1'), fontsize=20)\n",
    "    ax.set_ylim(plot_args.get('ylim', [0, 1]))\n",
    "    ax.set_xlim(plot_args.get('xlim', [0, 1]))\n",
    "    ax.legend()\n",
    "\n",
    "def get_effective_binomial_photons(dist, rho, z, table, bin_info, error_scale=1, as_float=False):\n",
    "    i = get_bin_idx(dist, bin_info['dist']['e'])\n",
    "    j = get_bin_idx(rho, bin_info['rho']['e'])\n",
    "    k = get_bin_idx(z, bin_info['z']['e'])\n",
    "\n",
    "    prob_vals = copy.copy(table['values'][i, j, k, :])\n",
    "    prob_err = copy.copy(table['weights'][i, j, k, :])\n",
    "\n",
    "    if not as_float:\n",
    "        total_statistical_power = int(np.sum(prob_vals) ** 2 / np.sum(prob_err)) / error_scale\n",
    "    else:\n",
    "        total_statistical_power = np.sum(prob_vals) ** 2 / np.sum(prob_err) / error_scale\n",
    "\n",
    "    fracs_in_each_bin = prob_vals / np.sum(prob_vals)\n",
    "    n_photons_in_each_bin = fracs_in_each_bin * total_statistical_power\n",
    "\n",
    "    if not as_float:\n",
    "        return np.rint(n_photons_in_each_bin).astype(int), int(np.rint(total_statistical_power))\n",
    "    else:\n",
    "        return n_photons_in_each_bin, total_statistical_power\n",
    "\n",
    "def get_prob_vals(dist, rho, z, table, bin_info):\n",
    "    i = get_bin_idx(dist, bin_info['dist']['e'])\n",
    "    j = get_bin_idx(rho, bin_info['rho']['e'])\n",
    "    k = get_bin_idx(z, bin_info['z']['e'])\n",
    "\n",
    "    prob_vals = copy.copy(table['values'][i, j, k, :])\n",
    "    return copy.copy(prob_vals)\n",
    "\n",
    "\n",
    "def get_nearest_center_value(dist, z, rho):\n",
    "    i = get_bin_idx(dist, bin_info['dist']['c'])\n",
    "    j = get_bin_idx(z, bin_info['z']['c'])\n",
    "    k = get_bin_idx(rho, bin_info['rho']['c'])\n",
    "\n",
    "    return bin_info['dist']['c'][i], bin_info['z']['c'][j], bin_info['rho']['c'][k]"
   ]
  },
  {
   "cell_type": "code",
   "execution_count": 36,
   "id": "d7748eea-92c2-4026-b950-40b976196191",
   "metadata": {},
   "outputs": [],
   "source": [
    "import jax\n",
    "from tensorflow_probability.substrates import jax as tfp\n",
    "tfd = tfp.distributions\n",
    "\n",
    "\n",
    "def make_dt_plot_w_pdf(dist, rho, z, zenith, azimuth, table, bin_info, scale=10, logscale=False):\n",
    "\n",
    "    x = np.concatenate([transform_dimensions(dist, rho, z), dir_to_xyz(zenith, azimuth)])\n",
    "    y_pred = network_jit(x)\n",
    "    a = 1+20*jax.nn.sigmoid(y_pred[3:6]) + 1.e-30\n",
    "    b = 2.0*jax.nn.sigmoid(y_pred[6:9])\n",
    "    logits = y_pred[0:3]\n",
    "    \n",
    "    pars = (logits, a, b)\n",
    "\n",
    "    i = get_bin_idx(dist, bin_info['dist']['e'])\n",
    "    j = get_bin_idx(rho, bin_info['rho']['e'])\n",
    "    k = get_bin_idx(z, bin_info['z']['e'])\n",
    "\n",
    "    prob_vals = copy.copy(table['values'][i, j, k, :])\n",
    "    prob_err = copy.copy(np.sqrt(table['weights'][i, j, k, :]))\n",
    "\n",
    "    tot_prob = np.sum(prob_vals)\n",
    "    prob_vals /= tot_prob\n",
    "    prob_vals /= bin_info['dt']['w']\n",
    "\n",
    "    prob_err /= tot_prob\n",
    "    prob_err /= bin_info['dt']['w']\n",
    "\n",
    "    fig, ax = plt.subplots()\n",
    "    ax.hist(bin_info['dt']['c'], bins=bin_info['dt']['e'], weights=prob_vals, histtype='step', lw=1,\n",
    "            label=f\"(d={dist:.1f}m, $\\\\rho$ ={rho:.2f} rad, z={z:.0f}m)\", color='gray')\n",
    "    ax.errorbar(bin_info['dt']['c'], prob_vals, yerr = prob_err, lw=0, elinewidth=2,color='k', zorder=100)\n",
    "\n",
    "    xvals = np.linspace(-50, scale*dist, 1000)\n",
    "    xv = xvals\n",
    "\n",
    "    logits, gamma_a, gamma_b = pars\n",
    "    gm = tfd.MixtureSameFamily(\n",
    "          mixture_distribution=tfd.Categorical(\n",
    "              logits=logits\n",
    "              ),\n",
    "          components_distribution=tfd.Gamma(\n",
    "            concentration=gamma_a,       # One for each component.\n",
    "            rate = gamma_b,\n",
    "            force_probs_to_zero_outside_support=True\n",
    "              )\n",
    "    )\n",
    "\n",
    "    yvals = gm.prob(xv)\n",
    "    plt.plot(xvals, yvals, 'r-', zorder=10, linewidth=2, label='3-comp Gamma')\n",
    "\n",
    "    plot_args = {'xlim':[-2, scale*dist],\n",
    "                 'ylim':[0.0, 1.2 * np.amax([np.amax(prob_vals), np.amax(yvals)])],\n",
    "                 'xlabel':'dt [ns]',\n",
    "                 'ylabel':'pdf'}\n",
    "\n",
    "\n",
    "    w = jax.nn.softmax(logits)\n",
    "    for i,c in zip(range(3), ['purple', 'plum', 'pink']):\n",
    "        tw = w[i]\n",
    "        tg = tfd.Gamma(concentration=gamma_a[i], rate = gamma_b[i], force_probs_to_zero_outside_support=True)    \n",
    "        yvals = tw * tg.prob(xv)\n",
    "        plt.plot(xvals, yvals, color=c,linestyle='solid', zorder=8, linewidth=1.5, label=f'Gamma {i}')\n",
    "\n",
    "    adjust_plot_1d(fig, ax, plot_args=plot_args)\n",
    "\n",
    "    ax.set_title(f\"infinite $\\mu$ ($\\Theta_s$={zenith:.0f}deg, $\\Phi_s$={azimuth:.0f}deg)\")\n",
    "    if logscale:\n",
    "        plt.yscale('log')\n",
    "        plt.ylim(ymin=1.e-5)\n",
    "\n",
    "    plt.tight_layout()\n",
    "    plt.show()"
   ]
  },
  {
   "cell_type": "code",
   "execution_count": 37,
   "id": "5cfd11ed-705a-4ceb-8495-7855ba4cf07f",
   "metadata": {},
   "outputs": [],
   "source": [
    "plot_dist = 25.0\n",
    "plot_z = -210.0\n",
    "plot_rho = -1.0\n",
    "dist, z, rho = get_nearest_center_value(plot_dist, plot_z, plot_rho)"
   ]
  },
  {
   "cell_type": "code",
   "execution_count": 39,
   "id": "b997cd6e-1129-4e0c-bd16-b2e5154e812f",
   "metadata": {},
   "outputs": [
    {
     "data": {
      "image/png": "[encoded data removed]",
      "text/plain": [
       "<Figure size 640x480 with 1 Axes>"
      ]
     },
     "metadata": {},
     "output_type": "display_data"
    }
   ],
   "source": [
    "make_dt_plot_w_pdf(dist, rho, z, zenith, azimuth, table, bin_info)"
   ]
  },
  {
   "cell_type": "code",
   "execution_count": null,
   "id": "b4150952-cd6e-4418-8f9b-0eaaf6486901",
   "metadata": {},
   "outputs": [],
   "source": []
  }
 ],
 "metadata": {
  "kernelspec": {
   "display_name": "Python 3 (ipykernel)",
   "language": "python",
   "name": "python3"
  },
  "language_info": {
   "codemirror_mode": {
    "name": "ipython",
    "version": 3
   },
   "file_extension": ".py",
   "mimetype": "text/x-python",
   "name": "python",
   "nbconvert_exporter": "python",
   "pygments_lexer": "ipython3",
   "version": "3.11.5"
  }
 },
 "nbformat": 4,
 "nbformat_minor": 5
}
