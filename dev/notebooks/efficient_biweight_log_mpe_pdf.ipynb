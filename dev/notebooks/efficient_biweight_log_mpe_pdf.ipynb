{
 "cells": [
  {
   "cell_type": "code",
   "execution_count": 1,
   "id": "010b4f4f-d742-4904-a616-3d844d17855b",
   "metadata": {},
   "outputs": [],
   "source": [
    "import sys, os\n",
    "sys.path.insert(0, \"/home/storage/hans/jax_reco_new\")\n",
    "os.environ['CUDA_VISIBLE_DEVICES'] = '0'\n",
    "\n",
    "import jax.numpy as jnp\n",
    "from jax.scipy import optimize\n",
    "import jax\n",
    "jax.config.update(\"jax_enable_x64\", True)\n",
    "import optimistix as optx\n",
    "import quadax\n",
    "\n",
    "from jax.scipy.special import gammaincc, erf\n",
    "\n",
    "import pandas as pd\n",
    "import numpy as np\n",
    "import matplotlib.pyplot as plt\n",
    "\n",
    "from lib.network import get_network_eval_fn\n",
    "from lib.trafos import transform_network_outputs, transform_network_inputs\n",
    "from lib.cgamma import c_multi_gamma_prob, c_multi_gamma_sf, c_multi_gamma_sf_approx\n",
    "from lib.cgamma_biweight_v3 import c_multi_gamma_biweight_mpe_logprob\n",
    "from lib.plotting import adjust_plot_1d\n",
    "\n",
    "from dom_track_eval import get_eval_network_doms_and_track"
   ]
  },
  {
   "cell_type": "code",
   "execution_count": 2,
   "id": "1f0c5643-ed20-4763-8512-4fb0bf363b71",
   "metadata": {},
   "outputs": [],
   "source": [
    "eval_network = get_network_eval_fn(bpath='/home/storage/hans/jax_reco_new/data/network')"
   ]
  },
  {
   "cell_type": "code",
   "execution_count": 3,
   "id": "b2973785-e46e-4696-8306-3ffc16588031",
   "metadata": {},
   "outputs": [
    {
     "name": "stdout",
     "output_type": "stream",
     "text": [
      "[1.00045562 1.2639036  1.00001584] [0.04895381 1.50627305 0.00372613]\n"
     ]
    }
   ],
   "source": [
    "dist = 2\n",
    "z = -210\n",
    "rho = 0.0\n",
    "zenith = np.pi/2\n",
    "azimuth = 0.0\n",
    "\n",
    "x = jnp.array([dist, rho, z, zenith, azimuth])\n",
    "x_prime = transform_network_inputs(x)\n",
    "y = eval_network(x_prime)\n",
    "logits, gamma_as, gamma_bs = transform_network_outputs(y)\n",
    "mix_probs = jax.nn.softmax(logits)\n",
    "\n",
    "g_a = gamma_as\n",
    "g_b = gamma_bs\n",
    "sigma = 3\n",
    "\n",
    "print(gamma_as, gamma_bs)"
   ]
  },
  {
   "cell_type": "code",
   "execution_count": 4,
   "id": "8ee9956b-ae52-4a3d-b1b9-433850800be5",
   "metadata": {},
   "outputs": [
    {
     "data": {
      "text/plain": [
       "Array(-4.24553381, dtype=float64)"
      ]
     },
     "execution_count": 4,
     "metadata": {},
     "output_type": "execute_result"
    }
   ],
   "source": [
    "sigma = 3.0\n",
    "c_multi_gamma_biweight_mpe_logprob(0.0, mix_probs, g_a, g_b, 10.0, sigma)"
   ]
  },
  {
   "cell_type": "code",
   "execution_count": 5,
   "id": "47ada319-a3ca-4a7b-a431-c90f3b22364b",
   "metadata": {},
   "outputs": [],
   "source": [
    "from lib.cgamma_biweight_v2 import c_multi_gamma_biweight_prob, c_multi_gamma_biweight_cdf\n",
    "\n",
    "def c_multi_gamma_biweight_mpe_logprob_orig(x, mix_probs, a, b, n_photons, sigma=3.0):\n",
    "    # share the two evaluations of the upper incomplete gamma function.\n",
    "    # across all subsequent function calls to avoid\n",
    "    # costly re-evaluations.\n",
    "    prob = c_multi_gamma_biweight_prob(x, mix_probs, a, b, sigma)\n",
    "    cdf = c_multi_gamma_biweight_cdf(x, mix_probs, a, b, sigma)\n",
    "    return jnp.log(n_photons) + jnp.log(prob) + (n_photons-1.0) * jnp.log(1.0-cdf)"
   ]
  },
  {
   "cell_type": "code",
   "execution_count": 6,
   "id": "6d55ade0-7687-4154-852d-5faff92d585f",
   "metadata": {},
   "outputs": [
    {
     "data": {
      "text/plain": [
       "Array(-4.24553381, dtype=float64)"
      ]
     },
     "execution_count": 6,
     "metadata": {},
     "output_type": "execute_result"
    }
   ],
   "source": [
    "c_multi_gamma_biweight_mpe_logprob_orig(0.0, mix_probs, g_a, g_b, 10.0, sigma)"
   ]
  },
  {
   "cell_type": "code",
   "execution_count": 7,
   "id": "ab455dfe-fdde-4ff4-b223-afe5581ec682",
   "metadata": {},
   "outputs": [],
   "source": [
    "f = jax.grad(c_multi_gamma_biweight_mpe_logprob, argnums=(2, 3))"
   ]
  },
  {
   "cell_type": "code",
   "execution_count": 8,
   "id": "af066cb9-f438-4231-89eb-3b9d9fe13a78",
   "metadata": {},
   "outputs": [
    {
     "data": {
      "text/plain": [
       "(Array([0.15164324, 0.78358592, 0.00715522], dtype=float64),\n",
       " Array([-1.20103767, -0.63101636, -0.39052533], dtype=float64))"
      ]
     },
     "execution_count": 8,
     "metadata": {},
     "output_type": "execute_result"
    }
   ],
   "source": [
    "f(0.0, mix_probs, g_a, g_b, 10.0, sigma)"
   ]
  },
  {
   "cell_type": "code",
   "execution_count": null,
   "id": "f331ec2a-f814-439d-8e85-e6225733ea82",
   "metadata": {},
   "outputs": [],
   "source": []
  }
 ],
 "metadata": {
  "kernelspec": {
   "display_name": "Python 3 (ipykernel)",
   "language": "python",
   "name": "python3"
  },
  "language_info": {
   "codemirror_mode": {
    "name": "ipython",
    "version": 3
   },
   "file_extension": ".py",
   "mimetype": "text/x-python",
   "name": "python",
   "nbconvert_exporter": "python",
   "pygments_lexer": "ipython3",
   "version": "3.11.5"
  }
 },
 "nbformat": 4,
 "nbformat_minor": 5
}
