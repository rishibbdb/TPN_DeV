{
 "cells": [
  {
   "cell_type": "code",
   "execution_count": 1,
   "id": "e4707a3c-a0c0-4055-980e-1966b8967fdc",
   "metadata": {},
   "outputs": [],
   "source": [
    "import sys, os\n",
    "os.environ['CUDA_VISIBLE_DEVICES'] = '1'\n",
    "\n",
    "import jax.numpy as jnp\n",
    "import jax\n",
    "jax.config.update(\"jax_enable_x64\", True)\n",
    "from jax.scipy.stats.gamma import sf as gamma_sf\n",
    "from jax.scipy.stats.norm import pdf as norm_pdf\n",
    "\n",
    "import numpy as np\n",
    "import scipy\n",
    "import matplotlib.pyplot as plt"
   ]
  },
  {
   "cell_type": "code",
   "execution_count": 7,
   "id": "ad7d4b14-e39c-4763-bf15-2ede02419563",
   "metadata": {},
   "outputs": [],
   "source": [
    "from jax.scipy.special import gamma, gammainc, hyp1f1"
   ]
  },
  {
   "cell_type": "code",
   "execution_count": 8,
   "id": "6d7a9026-b06f-4af4-b945-a444b29e3cad",
   "metadata": {},
   "outputs": [],
   "source": [
    "a = 1.1\n",
    "x = 5"
   ]
  },
  {
   "cell_type": "code",
   "execution_count": 12,
   "id": "ae242ab4-d4b1-4b2f-a475-f0e4eba7d245",
   "metadata": {},
   "outputs": [
    {
     "name": "stdout",
     "output_type": "stream",
     "text": [
      "0.9432993132382529\n"
     ]
    }
   ],
   "source": [
    "print(gammainc(a, x)*gamma(a))"
   ]
  },
  {
   "cell_type": "code",
   "execution_count": 13,
   "id": "90ce9e8d-84db-4290-863e-04d101edc364",
   "metadata": {},
   "outputs": [
    {
     "name": "stdout",
     "output_type": "stream",
     "text": [
      "0.9432993132382487\n"
     ]
    }
   ],
   "source": [
    "print(x**a/a*hyp1f1(a, a+1, -x))"
   ]
  },
  {
   "cell_type": "code",
   "execution_count": null,
   "id": "04e90286-96e3-4651-bf80-2c07eb3b7f38",
   "metadata": {},
   "outputs": [],
   "source": []
  }
 ],
 "metadata": {
  "kernelspec": {
   "display_name": "Python 3 (ipykernel)",
   "language": "python",
   "name": "python3"
  },
  "language_info": {
   "codemirror_mode": {
    "name": "ipython",
    "version": 3
   },
   "file_extension": ".py",
   "mimetype": "text/x-python",
   "name": "python",
   "nbconvert_exporter": "python",
   "pygments_lexer": "ipython3",
   "version": "3.11.5"
  }
 },
 "nbformat": 4,
 "nbformat_minor": 5
}
