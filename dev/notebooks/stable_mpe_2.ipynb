{
 "cells": [
  {
   "cell_type": "code",
   "execution_count": 1,
   "id": "2465c617",
   "metadata": {},
   "outputs": [],
   "source": [
    "import sys, os\n",
    "sys.path.insert(0, \"/home/storage/hans/jax_reco_new\")\n",
    "os.environ['CUDA_VISIBLE_DEVICES'] = '0'\n",
    "\n",
    "from tensorflow_probability.substrates import jax as tfp\n",
    "tfd = tfp.distributions\n",
    "\n",
    "import jax.numpy as jnp\n",
    "from jax.scipy import optimize\n",
    "import jax\n",
    "jax.config.update(\"jax_enable_x64\", True)\n",
    "import optimistix as optx\n",
    "\n",
    "from jax.scipy.special import gammaincc, erf\n",
    "\n",
    "import pandas as pd\n",
    "import numpy as np\n",
    "import matplotlib.pyplot as plt\n",
    "\n",
    "from lib.smallest_network_eqx import get_network_eval_fn\n",
    "from lib.trafos import transform_network_outputs, transform_network_inputs\n",
    "from lib.plotting import adjust_plot_1d\n",
    "\n",
    "from dom_track_eval import get_eval_network_doms_and_track"
   ]
  },
  {
   "cell_type": "code",
   "execution_count": 2,
   "id": "510eb91a",
   "metadata": {},
   "outputs": [],
   "source": [
    "def log1mexp(x):\n",
    "    return jnp.where(\n",
    "            x < jnp.log(0.5), jnp.log1p(-jnp.exp(x)), jnp.log(-jnp.expm1(x))\n",
    "    )"
   ]
  },
  {
   "cell_type": "code",
   "execution_count": 3,
   "id": "0f6e9e6b",
   "metadata": {},
   "outputs": [
    {
     "name": "stdout",
     "output_type": "stream",
     "text": [
      "-69.07755278982137 -0.6931471805599453\n"
     ]
    }
   ],
   "source": [
    "w = 1.e-30\n",
    "print(jnp.log(w), jnp.log(0.5))"
   ]
  },
  {
   "cell_type": "code",
   "execution_count": 4,
   "id": "9fad2193",
   "metadata": {},
   "outputs": [
    {
     "name": "stdout",
     "output_type": "stream",
     "text": [
      "1.0\n"
     ]
    }
   ],
   "source": [
    "print(1-w)"
   ]
  },
  {
   "cell_type": "code",
   "execution_count": 5,
   "id": "a6479981",
   "metadata": {},
   "outputs": [
    {
     "name": "stdout",
     "output_type": "stream",
     "text": [
      "-1.0000000000000024e-30 1.0\n"
     ]
    }
   ],
   "source": [
    "print(log1mexp(jnp.log(w)), jnp.exp(log1mexp(jnp.log(w))))"
   ]
  },
  {
   "cell_type": "code",
   "execution_count": 6,
   "id": "d844871b",
   "metadata": {},
   "outputs": [
    {
     "data": {
      "text/plain": [
       "'\\nimport functools\\n\\n@functools.partial(jax.custom_jvp, nondiff_argnums=(1, 2, 4))\\ndef logsumexp(  # noqa: D103\\n    mat, axis=None, keepdims=False, b=None, return_sign=False\\n):\\n  return jax.scipy.special.logsumexp(\\n      mat, axis=axis, keepdims=keepdims, b=b, return_sign=return_sign\\n  )\\n\\n\\n@logsumexp.defjvp\\ndef logsumexp_jvp(axis, keepdims, return_sign, primals, tangents):\\n  \"\"\"Custom derivative rule for lse that does not blow up with -inf.\\n\\n  This logsumexp implementation uses the standard jax one in forward mode but\\n  implements a custom rule to differentiate. Given the preference of jax for\\n  jvp over vjp, and the fact that this is a simple linear rule, jvp is used.\\n  This custom differentiation address issues when the output of lse is\\n  -inf (which corresponds to the case where all inputs in a slice are -inf,\\n  which happens typically when ``a`` or ``b`` weight vectors have zeros.)\\n\\n  Although both exp(lse) and its derivative should be 0, automatic\\n  differentiation returns a NaN derivative because of a -inf - (-inf) operation\\n  appearing in the definition of centered_exp below. This is corrected in the\\n  implementation below.\\n\\n  Args:\\n    axis: argument from original logsumexp\\n    keepdims: argument from original logsumexp\\n    return_sign: argument from original logsumexp\\n    primals: mat and b, the two arguments against which we differentiate.\\n    tangents: of same size as mat and b.\\n\\n  Returns:\\n    original primal outputs + their tangent.\\n  \"\"\"  # noqa: D401\\n  mat, b = primals\\n  tan_mat, tan_b = tangents\\n  lse = logsumexp(mat, axis, keepdims, b, return_sign)\\n  if return_sign:\\n    lse, sign = lse\\n  lse = jnp.where(jnp.isfinite(lse), lse, 0.0)\\n\\n  if axis is not None:\\n    centered_exp = jnp.exp(mat - jnp.expand_dims(lse, axis=axis))\\n  else:\\n    centered_exp = jnp.exp(mat - lse)\\n\\n  if b is None:\\n    res = jnp.sum(centered_exp * tan_mat, axis=axis, keepdims=keepdims)\\n  else:\\n    res = jnp.sum(b * centered_exp * tan_mat, axis=axis, keepdims=keepdims)\\n    res += jnp.sum(tan_b * centered_exp, axis=axis, keepdims=keepdims)\\n  if return_sign:\\n    return (lse, sign), (sign * res, jnp.zeros_like(sign))\\n  return lse, res\\n'"
      ]
     },
     "execution_count": 6,
     "metadata": {},
     "output_type": "execute_result"
    }
   ],
   "source": [
    "'''\n",
    "import functools\n",
    "\n",
    "@functools.partial(jax.custom_jvp, nondiff_argnums=(1, 2, 4))\n",
    "def logsumexp(  # noqa: D103\n",
    "    mat, axis=None, keepdims=False, b=None, return_sign=False\n",
    "):\n",
    "  return jax.scipy.special.logsumexp(\n",
    "      mat, axis=axis, keepdims=keepdims, b=b, return_sign=return_sign\n",
    "  )\n",
    "\n",
    "\n",
    "@logsumexp.defjvp\n",
    "def logsumexp_jvp(axis, keepdims, return_sign, primals, tangents):\n",
    "  \"\"\"Custom derivative rule for lse that does not blow up with -inf.\n",
    "\n",
    "  This logsumexp implementation uses the standard jax one in forward mode but\n",
    "  implements a custom rule to differentiate. Given the preference of jax for\n",
    "  jvp over vjp, and the fact that this is a simple linear rule, jvp is used.\n",
    "  This custom differentiation address issues when the output of lse is\n",
    "  -inf (which corresponds to the case where all inputs in a slice are -inf,\n",
    "  which happens typically when ``a`` or ``b`` weight vectors have zeros.)\n",
    "\n",
    "  Although both exp(lse) and its derivative should be 0, automatic\n",
    "  differentiation returns a NaN derivative because of a -inf - (-inf) operation\n",
    "  appearing in the definition of centered_exp below. This is corrected in the\n",
    "  implementation below.\n",
    "\n",
    "  Args:\n",
    "    axis: argument from original logsumexp\n",
    "    keepdims: argument from original logsumexp\n",
    "    return_sign: argument from original logsumexp\n",
    "    primals: mat and b, the two arguments against which we differentiate.\n",
    "    tangents: of same size as mat and b.\n",
    "\n",
    "  Returns:\n",
    "    original primal outputs + their tangent.\n",
    "  \"\"\"  # noqa: D401\n",
    "  mat, b = primals\n",
    "  tan_mat, tan_b = tangents\n",
    "  lse = logsumexp(mat, axis, keepdims, b, return_sign)\n",
    "  if return_sign:\n",
    "    lse, sign = lse\n",
    "  lse = jnp.where(jnp.isfinite(lse), lse, 0.0)\n",
    "\n",
    "  if axis is not None:\n",
    "    centered_exp = jnp.exp(mat - jnp.expand_dims(lse, axis=axis))\n",
    "  else:\n",
    "    centered_exp = jnp.exp(mat - lse)\n",
    "\n",
    "  if b is None:\n",
    "    res = jnp.sum(centered_exp * tan_mat, axis=axis, keepdims=keepdims)\n",
    "  else:\n",
    "    res = jnp.sum(b * centered_exp * tan_mat, axis=axis, keepdims=keepdims)\n",
    "    res += jnp.sum(tan_b * centered_exp, axis=axis, keepdims=keepdims)\n",
    "  if return_sign:\n",
    "    return (lse, sign), (sign * res, jnp.zeros_like(sign))\n",
    "  return lse, res\n",
    "'''"
   ]
  },
  {
   "cell_type": "code",
   "execution_count": 7,
   "id": "8d7ea8d7",
   "metadata": {},
   "outputs": [],
   "source": [
    "from jax.scipy.special import logsumexp\n",
    "from lib.gamma_sf_approx import c_coeffs"
   ]
  },
  {
   "cell_type": "code",
   "execution_count": 8,
   "id": "54952e96",
   "metadata": {},
   "outputs": [],
   "source": [
    "def W(x, c):\n",
    "    x_t = c[1] * (x-c[2])\n",
    "    return 0.5 + 0.5 * jnp.tanh(x_t)\n",
    "\n",
    "def R2(x, a, c):\n",
    "    r2 = W(x, c) * (1.0-jnp.power(c[3], -x))\n",
    "    return jax.scipy.special.gamma(a) * r2\n",
    "\n",
    "def R1(x, a, c):\n",
    "    w = W(x, c)\n",
    "    return  (1-w) *jnp.exp(-x)*jnp.power(x, a)*(1.0/a + \n",
    "                                                 c[0]*x/(a*(a+1)) + \n",
    "                                                 (c[0]*x)**2/(a*(a+1)*(a+2)))"
   ]
  },
  {
   "cell_type": "code",
   "execution_count": 9,
   "id": "eab1bcb5",
   "metadata": {},
   "outputs": [],
   "source": [
    "def logW(x, c):\n",
    "    x = jnp.clip(c[1] * (x-c[2]), min=-15, max=15)\n",
    "    _x = jnp.concatenate([jnp.expand_dims(x, axis=0), jnp.expand_dims(-x, axis=0)],\n",
    "                         axis=0)\n",
    "    \n",
    "    return x - logsumexp(_x, 0)\n",
    "\n",
    "def logR2(x, a, c):\n",
    "    return jax.scipy.special.gammaln(a) + logW(x, c) + log1mexp(-x * jnp.log(c[3]))\n",
    "\n",
    "def logR1(x, a, c):\n",
    "    l1mw = log1mexp(logW(x, c))\n",
    "    return l1mw - x + a*jnp.log(x) + jnp.log((1.0/a + \n",
    "                                                 c[0]*x/(a*(a+1)) + \n",
    "                                                 (c[0]*x)**2/(a*(a+1)*(a+2))))"
   ]
  },
  {
   "cell_type": "code",
   "execution_count": 10,
   "id": "d6c0f129",
   "metadata": {},
   "outputs": [],
   "source": [
    "a = 2\n",
    "b = 1.e-2\n",
    "c = c_coeffs(a)\n",
    "x = 100"
   ]
  },
  {
   "cell_type": "code",
   "execution_count": 11,
   "id": "4f9b3380",
   "metadata": {},
   "outputs": [
    {
     "name": "stdout",
     "output_type": "stream",
     "text": [
      "1.0\n",
      "0.0\n"
     ]
    }
   ],
   "source": [
    "print(W(x, c))\n",
    "print(1-W(x, c))"
   ]
  },
  {
   "cell_type": "code",
   "execution_count": 12,
   "id": "e9404718",
   "metadata": {},
   "outputs": [
    {
     "name": "stdout",
     "output_type": "stream",
     "text": [
      "-9.414691248821327e-14\n",
      "-29.993919933885245\n"
     ]
    }
   ],
   "source": [
    "lw = logW(x, c) # log W\n",
    "print(lw)\n",
    "l1mw = log1mexp(lw) # log(1-W)\n",
    "print(l1mw)"
   ]
  },
  {
   "cell_type": "code",
   "execution_count": 13,
   "id": "08074599",
   "metadata": {},
   "outputs": [
    {
     "name": "stdout",
     "output_type": "stream",
     "text": [
      "0.9999999999999059\n",
      "9.414691248820891e-14\n"
     ]
    }
   ],
   "source": [
    "print(jnp.exp(lw))\n",
    "print(jnp.exp(l1mw))"
   ]
  },
  {
   "cell_type": "code",
   "execution_count": 14,
   "id": "157ef61a",
   "metadata": {},
   "outputs": [
    {
     "name": "stdout",
     "output_type": "stream",
     "text": [
      "0.036919490393103556\n",
      "-3.2990156724464432 0.03691949039310357\n"
     ]
    }
   ],
   "source": [
    "print(R2(x*b, a, c))\n",
    "print(logR2(x*b, a, c), jnp.exp(logR2(x*b, a, c)))\n"
   ]
  },
  {
   "cell_type": "code",
   "execution_count": 15,
   "id": "aecc1a7b",
   "metadata": {},
   "outputs": [
    {
     "name": "stdout",
     "output_type": "stream",
     "text": [
      "0.2363586184813647\n"
     ]
    }
   ],
   "source": [
    "print(R1(x*b, a, c))"
   ]
  },
  {
   "cell_type": "code",
   "execution_count": 16,
   "id": "88167c61",
   "metadata": {},
   "outputs": [
    {
     "name": "stdout",
     "output_type": "stream",
     "text": [
      "-1.442405057498202 0.2363586184813647\n"
     ]
    }
   ],
   "source": [
    "print(logR1(x*b, a, c), jnp.exp(logR1(x*b, a, c)))"
   ]
  },
  {
   "cell_type": "code",
   "execution_count": null,
   "id": "ce2ec5ed",
   "metadata": {},
   "outputs": [],
   "source": []
  },
  {
   "cell_type": "code",
   "execution_count": 17,
   "id": "d533e855",
   "metadata": {},
   "outputs": [],
   "source": [
    "from lib.gamma_sf_approx import log_gamma_cdf_fast, gamma_cdf_fast, log_gamma_sf_fast"
   ]
  },
  {
   "cell_type": "code",
   "execution_count": 18,
   "id": "583dcf0e",
   "metadata": {},
   "outputs": [
    {
     "name": "stdout",
     "output_type": "stream",
     "text": [
      "0.2732781088744679\n"
     ]
    }
   ],
   "source": [
    "print(gamma_cdf_fast(x, a, b))"
   ]
  },
  {
   "cell_type": "code",
   "execution_count": 19,
   "id": "725ae155",
   "metadata": {},
   "outputs": [
    {
     "name": "stdout",
     "output_type": "stream",
     "text": [
      "-1.2972652885080862 0.273278108874468\n"
     ]
    }
   ],
   "source": [
    "print(log_gamma_cdf_fast(x, a, b), jnp.exp(log_gamma_cdf_fast(x, a, b)))"
   ]
  },
  {
   "cell_type": "code",
   "execution_count": 20,
   "id": "8426296e",
   "metadata": {},
   "outputs": [
    {
     "name": "stdout",
     "output_type": "stream",
     "text": [
      "[1.00002936 1.00059187 1.67519907] [3.72481150e-03 1.31571253e-01 4.99725565e+00] [0.01525278 0.04859376 0.93615346]\n"
     ]
    }
   ],
   "source": [
    "eval_network = get_network_eval_fn(bpath='/home/storage/hans/photondata/large_table_training/all_time_bins/w_penalty_b5/cache/test_penalties_tree_start_epoch_160', dtype=jnp.float64)\n",
    "\n",
    "dist = 1\n",
    "z = -500\n",
    "rho = 0.0\n",
    "zenith = np.pi/2\n",
    "azimuth = 0.0\n",
    "\n",
    "x = jnp.array([dist, rho, z, zenith, azimuth])\n",
    "x_prime = transform_network_inputs(x)\n",
    "y = eval_network(x_prime)\n",
    "logits, gamma_as, gamma_bs = transform_network_outputs(y)\n",
    "mix_probs = jax.nn.softmax(logits)\n",
    "log_mix_probs = jnp.log(mix_probs)\n",
    "# index 1 is main component\n",
    "g_a = gamma_as\n",
    "g_b = gamma_bs\n",
    "sigma = 3\n",
    "\n",
    "print(gamma_as, gamma_bs, mix_probs)"
   ]
  },
  {
   "cell_type": "code",
   "execution_count": 21,
   "id": "20ed2675",
   "metadata": {},
   "outputs": [],
   "source": [
    "from lib.c_mpe_gamma import c_multi_gamma_mpe_logprob_midpoint2\n",
    "from jax.scipy.stats.norm import logpdf as norm_logpdf\n",
    "from jax.scipy.stats.gamma import logpdf as gamma_logpdf\n",
    "\n",
    "def c_multi_gamma_mpe_logprob_midpoint2_stable(x, log_mix_probs, a, b, n, sigma=3.0):\n",
    "    \"\"\"\n",
    "    Q < 30\n",
    "    \"\"\"\n",
    "    nmax = 10\n",
    "    nint1 = 10\n",
    "    nint2 = 15\n",
    "    nint3 = 35\n",
    "    #eps = 1.e-12\n",
    "    eps = 1.e-6\n",
    "\n",
    "    x0 = eps\n",
    "    x_m0 = 0.01\n",
    "    xvals0 = jnp.linspace(x0, x_m0, 10)[:-1]\n",
    "\n",
    "    x_m1 = 0.05\n",
    "    xvals1 = jnp.linspace(x_m0, x_m1, 10)[:-1]\n",
    "\n",
    "    x_m2 = 0.25\n",
    "    xvals2 = jnp.linspace(x_m1, x_m2, 10)[:-1]\n",
    "\n",
    "    x_m25 = 0.75\n",
    "    xvals25 = jnp.linspace(x_m2, x_m25, 10)[:-1]\n",
    "\n",
    "    x_m3 = 2.5\n",
    "    xvals3 = jnp.linspace(x_m25, x_m3, 10)[:-1]\n",
    "\n",
    "    x_m4 = 8.0\n",
    "    xvals4 = jnp.linspace(x_m3, x_m4, 20)\n",
    "\n",
    "    xmin = jnp.max(jnp.array([1.5 * eps, x - 10 * sigma]))\n",
    "    xmax = jnp.max(jnp.array([xmin+1.5*eps, x + 10 * sigma]))\n",
    "    xvals_x = jnp.linspace(xmin, xmax, 101)\n",
    "    xvals = jnp.sort(jnp.concatenate([xvals0, xvals1, xvals2, xvals25, xvals3, xvals4, xvals_x]))\n",
    "\n",
    "    dx = xvals[1:]-xvals[:-1]\n",
    "\n",
    "    xvals = 0.5*(xvals[:-1]+xvals[1:])\n",
    "    log_n_pdf = norm_logpdf(xvals, loc=x, scale=sigma)\n",
    "\n",
    "    a_e = jnp.expand_dims(a, axis=-1)\n",
    "    b_e = jnp.expand_dims(b, axis=-1)\n",
    "    log_mix_probs_e = jnp.expand_dims(log_mix_probs, axis=-1)\n",
    "\n",
    "    xvals_e = jnp.expand_dims(xvals, axis=0)\n",
    "    log_pdfs = logsumexp(gamma_logpdf(xvals_e, a_e, scale=1./b_e) + log_mix_probs_e, 0)\n",
    "    log_sfs = logsumexp(log_gamma_sf_fast(xvals_e, a_e, b_e) + log_mix_probs_e, 0)\n",
    " \n",
    "    print(dx)\n",
    "    return logsumexp(log_n_pdf + log_pdfs + (n-1) * log_sfs + jnp.log(dx) + jnp.log(n), 0)"
   ]
  },
  {
   "cell_type": "code",
   "execution_count": 22,
   "id": "4406c9d3",
   "metadata": {},
   "outputs": [
    {
     "name": "stdout",
     "output_type": "stream",
     "text": [
      "-52.38723396862468\n",
      "[1.11100000e-03 1.11100000e-03 1.11100000e-03 1.11100000e-03\n",
      " 1.11100000e-03 1.11100000e-03 1.11100000e-03 1.11100000e-03\n",
      " 1.11100000e-03 4.44444444e-03 4.44444444e-03 4.44444444e-03\n",
      " 4.44444444e-03 4.44444444e-03 4.44444444e-03 4.44444444e-03\n",
      " 4.44444444e-03 4.44444444e-03 2.22222222e-02 2.22222222e-02\n",
      " 2.22222222e-02 2.22222222e-02 2.22222222e-02 2.22222222e-02\n",
      " 2.22222222e-02 2.22222222e-02 2.22222222e-02 5.55555556e-02\n",
      " 5.55555556e-02 5.55555556e-02 5.55555556e-02 5.55555556e-02\n",
      " 5.55555556e-02 5.55555556e-02 5.55555556e-02 5.55555556e-02\n",
      " 1.94444444e-01 1.94444444e-01 1.94444444e-01 1.94444444e-01\n",
      " 1.94444444e-01 1.94444444e-01 1.94444444e-01 1.94444444e-01\n",
      " 1.94444444e-01 2.89473684e-01 2.89473684e-01 2.89473684e-01\n",
      " 2.89473684e-01 2.89473684e-01 2.89473684e-01 2.89473684e-01\n",
      " 2.89473684e-01 2.89473684e-01 2.89473684e-01 2.89473684e-01\n",
      " 2.89473684e-01 2.89473684e-01 2.89473684e-01 2.89473684e-01\n",
      " 2.89473684e-01 2.89473684e-01 2.89473684e-01 2.89473684e-01\n",
      " 1.62000000e+02 6.00000000e-01 6.00000000e-01 6.00000000e-01\n",
      " 6.00000000e-01 6.00000000e-01 6.00000000e-01 6.00000000e-01\n",
      " 6.00000000e-01 6.00000000e-01 6.00000000e-01 6.00000000e-01\n",
      " 6.00000000e-01 6.00000000e-01 6.00000000e-01 6.00000000e-01\n",
      " 6.00000000e-01 6.00000000e-01 6.00000000e-01 6.00000000e-01\n",
      " 6.00000000e-01 6.00000000e-01 6.00000000e-01 6.00000000e-01\n",
      " 6.00000000e-01 6.00000000e-01 6.00000000e-01 6.00000000e-01\n",
      " 6.00000000e-01 6.00000000e-01 6.00000000e-01 6.00000000e-01\n",
      " 6.00000000e-01 6.00000000e-01 6.00000000e-01 6.00000000e-01\n",
      " 6.00000000e-01 6.00000000e-01 6.00000000e-01 6.00000000e-01\n",
      " 6.00000000e-01 6.00000000e-01 6.00000000e-01 6.00000000e-01\n",
      " 6.00000000e-01 6.00000000e-01 6.00000000e-01 6.00000000e-01\n",
      " 6.00000000e-01 6.00000000e-01 6.00000000e-01 6.00000000e-01\n",
      " 6.00000000e-01 6.00000000e-01 6.00000000e-01 6.00000000e-01\n",
      " 6.00000000e-01 6.00000000e-01 6.00000000e-01 6.00000000e-01\n",
      " 6.00000000e-01 6.00000000e-01 6.00000000e-01 6.00000000e-01\n",
      " 6.00000000e-01 6.00000000e-01 6.00000000e-01 6.00000000e-01\n",
      " 6.00000000e-01 6.00000000e-01 6.00000000e-01 6.00000000e-01\n",
      " 6.00000000e-01 6.00000000e-01 6.00000000e-01 6.00000000e-01\n",
      " 6.00000000e-01 6.00000000e-01 6.00000000e-01 6.00000000e-01\n",
      " 6.00000000e-01 6.00000000e-01 6.00000000e-01 6.00000000e-01\n",
      " 6.00000000e-01 6.00000000e-01 6.00000000e-01 6.00000000e-01\n",
      " 6.00000000e-01 6.00000000e-01 6.00000000e-01 6.00000000e-01\n",
      " 6.00000000e-01 6.00000000e-01 6.00000000e-01 6.00000000e-01\n",
      " 6.00000000e-01 6.00000000e-01 6.00000000e-01 6.00000000e-01\n",
      " 6.00000000e-01]\n",
      "-52.38723396851181\n"
     ]
    }
   ],
   "source": [
    "n = 10\n",
    "x = 200\n",
    "print(c_multi_gamma_mpe_logprob_midpoint2(x, log_mix_probs, g_a, g_b, n, 3.0))\n",
    "print(c_multi_gamma_mpe_logprob_midpoint2_stable(x, log_mix_probs, g_a, g_b, n, 3.0))"
   ]
  },
  {
   "cell_type": "code",
   "execution_count": 23,
   "id": "6cf38076",
   "metadata": {},
   "outputs": [],
   "source": [
    "df0 = jax.grad(c_multi_gamma_mpe_logprob_midpoint2, argnums=2)\n",
    "df1 = jax.grad(c_multi_gamma_mpe_logprob_midpoint2_stable, argnums=3)"
   ]
  },
  {
   "cell_type": "code",
   "execution_count": 24,
   "id": "18c960de",
   "metadata": {},
   "outputs": [
    {
     "data": {
      "text/plain": [
       "Array([9.01024387e+00, 7.97495881e-09, 0.00000000e+00], dtype=float64)"
      ]
     },
     "execution_count": 24,
     "metadata": {},
     "output_type": "execute_result"
    }
   ],
   "source": [
    "df0(x, log_mix_probs, g_a, g_b, n, 3.0)"
   ]
  },
  {
   "cell_type": "code",
   "execution_count": 25,
   "id": "bd9b226f",
   "metadata": {},
   "outputs": [
    {
     "name": "stdout",
     "output_type": "stream",
     "text": [
      "[1.11100000e-03 1.11100000e-03 1.11100000e-03 1.11100000e-03\n",
      " 1.11100000e-03 1.11100000e-03 1.11100000e-03 1.11100000e-03\n",
      " 1.11100000e-03 4.44444444e-03 4.44444444e-03 4.44444444e-03\n",
      " 4.44444444e-03 4.44444444e-03 4.44444444e-03 4.44444444e-03\n",
      " 4.44444444e-03 4.44444444e-03 2.22222222e-02 2.22222222e-02\n",
      " 2.22222222e-02 2.22222222e-02 2.22222222e-02 2.22222222e-02\n",
      " 2.22222222e-02 2.22222222e-02 2.22222222e-02 5.55555556e-02\n",
      " 5.55555556e-02 5.55555556e-02 5.55555556e-02 5.55555556e-02\n",
      " 5.55555556e-02 5.55555556e-02 5.55555556e-02 5.55555556e-02\n",
      " 1.94444444e-01 1.94444444e-01 1.94444444e-01 1.94444444e-01\n",
      " 1.94444444e-01 1.94444444e-01 1.94444444e-01 1.94444444e-01\n",
      " 1.94444444e-01 2.89473684e-01 2.89473684e-01 2.89473684e-01\n",
      " 2.89473684e-01 2.89473684e-01 2.89473684e-01 2.89473684e-01\n",
      " 2.89473684e-01 2.89473684e-01 2.89473684e-01 2.89473684e-01\n",
      " 2.89473684e-01 2.89473684e-01 2.89473684e-01 2.89473684e-01\n",
      " 2.89473684e-01 2.89473684e-01 2.89473684e-01 2.89473684e-01\n",
      " 1.62000000e+02 6.00000000e-01 6.00000000e-01 6.00000000e-01\n",
      " 6.00000000e-01 6.00000000e-01 6.00000000e-01 6.00000000e-01\n",
      " 6.00000000e-01 6.00000000e-01 6.00000000e-01 6.00000000e-01\n",
      " 6.00000000e-01 6.00000000e-01 6.00000000e-01 6.00000000e-01\n",
      " 6.00000000e-01 6.00000000e-01 6.00000000e-01 6.00000000e-01\n",
      " 6.00000000e-01 6.00000000e-01 6.00000000e-01 6.00000000e-01\n",
      " 6.00000000e-01 6.00000000e-01 6.00000000e-01 6.00000000e-01\n",
      " 6.00000000e-01 6.00000000e-01 6.00000000e-01 6.00000000e-01\n",
      " 6.00000000e-01 6.00000000e-01 6.00000000e-01 6.00000000e-01\n",
      " 6.00000000e-01 6.00000000e-01 6.00000000e-01 6.00000000e-01\n",
      " 6.00000000e-01 6.00000000e-01 6.00000000e-01 6.00000000e-01\n",
      " 6.00000000e-01 6.00000000e-01 6.00000000e-01 6.00000000e-01\n",
      " 6.00000000e-01 6.00000000e-01 6.00000000e-01 6.00000000e-01\n",
      " 6.00000000e-01 6.00000000e-01 6.00000000e-01 6.00000000e-01\n",
      " 6.00000000e-01 6.00000000e-01 6.00000000e-01 6.00000000e-01\n",
      " 6.00000000e-01 6.00000000e-01 6.00000000e-01 6.00000000e-01\n",
      " 6.00000000e-01 6.00000000e-01 6.00000000e-01 6.00000000e-01\n",
      " 6.00000000e-01 6.00000000e-01 6.00000000e-01 6.00000000e-01\n",
      " 6.00000000e-01 6.00000000e-01 6.00000000e-01 6.00000000e-01\n",
      " 6.00000000e-01 6.00000000e-01 6.00000000e-01 6.00000000e-01\n",
      " 6.00000000e-01 6.00000000e-01 6.00000000e-01 6.00000000e-01\n",
      " 6.00000000e-01 6.00000000e-01 6.00000000e-01 6.00000000e-01\n",
      " 6.00000000e-01 6.00000000e-01 6.00000000e-01 6.00000000e-01\n",
      " 6.00000000e-01 6.00000000e-01 6.00000000e-01 6.00000000e-01\n",
      " 6.00000000e-01 6.00000000e-01 6.00000000e-01 6.00000000e-01\n",
      " 6.00000000e-01]\n"
     ]
    },
    {
     "data": {
      "text/plain": [
       "Array([-1.60463170e+003, -2.13430376e-007, -1.10861642e-276], dtype=float64)"
      ]
     },
     "execution_count": 25,
     "metadata": {},
     "output_type": "execute_result"
    }
   ],
   "source": [
    "df1(x, log_mix_probs, g_a, g_b, n, 3.0)"
   ]
  },
  {
   "cell_type": "code",
   "execution_count": 26,
   "id": "370c83a7",
   "metadata": {},
   "outputs": [
    {
     "data": {
      "text/plain": [
       "Array([1.00002936, 1.00059187, 1.67519907], dtype=float64)"
      ]
     },
     "execution_count": 26,
     "metadata": {},
     "output_type": "execute_result"
    }
   ],
   "source": [
    "g_a"
   ]
  },
  {
   "cell_type": "code",
   "execution_count": 27,
   "id": "8a637a8b",
   "metadata": {},
   "outputs": [
    {
     "data": {
      "text/plain": [
       "Array([3.72481150e-03, 1.31571253e-01, 4.99725565e+00], dtype=float64)"
      ]
     },
     "execution_count": 27,
     "metadata": {},
     "output_type": "execute_result"
    }
   ],
   "source": [
    "g_b"
   ]
  },
  {
   "cell_type": "code",
   "execution_count": null,
   "id": "cfd3a566",
   "metadata": {},
   "outputs": [],
   "source": []
  },
  {
   "cell_type": "code",
   "execution_count": null,
   "id": "2b923c5e",
   "metadata": {},
   "outputs": [],
   "source": []
  },
  {
   "cell_type": "code",
   "execution_count": 28,
   "id": "29fc2f38",
   "metadata": {},
   "outputs": [],
   "source": [
    "def logR1(x, a, c):\n",
    "    l1mw = log1mexp(logW(x, c))\n",
    "    return l1mw - x + a*jnp.log(x) + jnp.log((1.0/a + \n",
    "                                                 c[0]*x/(a*(a+1)) + \n",
    "                                                 (c[0]*x)**2/(a*(a+1)*(a+2))))"
   ]
  },
  {
   "cell_type": "code",
   "execution_count": 29,
   "id": "788b732d",
   "metadata": {},
   "outputs": [
    {
     "data": {
      "text/plain": [
       "Array([-7.25585506e-01, -4.82675146e+01, -1.00695792e+03], dtype=float64)"
      ]
     },
     "execution_count": 29,
     "metadata": {},
     "output_type": "execute_result"
    }
   ],
   "source": [
    "c = c_coeffs(a)\n",
    "logR1(x*g_b, g_a, c)"
   ]
  },
  {
   "cell_type": "code",
   "execution_count": 30,
   "id": "d0689260",
   "metadata": {},
   "outputs": [
    {
     "data": {
      "text/plain": [
       "Array([-1.46604227,  1.48003319,  5.66541929], dtype=float64)"
      ]
     },
     "execution_count": 30,
     "metadata": {},
     "output_type": "execute_result"
    }
   ],
   "source": [
    "f = lambda x, y, z: jnp.sum(logR1(x, y, z))\n",
    "jax.grad(f, argnums=1)(x*g_b, g_a, c)"
   ]
  },
  {
   "cell_type": "code",
   "execution_count": 31,
   "id": "ff6afdff",
   "metadata": {},
   "outputs": [],
   "source": [
    "from lib.gamma_sf_approx import log_gamma_sf_fast"
   ]
  },
  {
   "cell_type": "code",
   "execution_count": 32,
   "id": "a866e1e1",
   "metadata": {},
   "outputs": [
    {
     "data": {
      "text/plain": [
       "Array([-1.86200749e+002, -2.36180585e-009, -1.56801122e-301], dtype=float64)"
      ]
     },
     "execution_count": 32,
     "metadata": {},
     "output_type": "execute_result"
    }
   ],
   "source": [
    "def t(x, a, b):\n",
    "    return logsumexp(log_gamma_sf_fast(x, a, b) + log_mix_probs, 0)\n",
    "\n",
    "jax.grad(t, argnums=2)(x, g_a, g_b)"
   ]
  },
  {
   "cell_type": "code",
   "execution_count": 33,
   "id": "a381c6a6",
   "metadata": {},
   "outputs": [
    {
     "data": {
      "text/plain": [
       "Array(-4.90829838, dtype=float64)"
      ]
     },
     "execution_count": 33,
     "metadata": {},
     "output_type": "execute_result"
    }
   ],
   "source": [
    "t(x, g_a, g_b)"
   ]
  },
  {
   "cell_type": "code",
   "execution_count": 34,
   "id": "ecd0becf",
   "metadata": {},
   "outputs": [
    {
     "name": "stdout",
     "output_type": "stream",
     "text": [
      "[-4.18299335 -3.02426018 -0.06597586]\n"
     ]
    }
   ],
   "source": [
    "print(log_mix_probs)"
   ]
  },
  {
   "cell_type": "code",
   "execution_count": 35,
   "id": "3252ca2b",
   "metadata": {},
   "outputs": [
    {
     "data": {
      "text/plain": [
       "Array(-0.91747711, dtype=float64)"
      ]
     },
     "execution_count": 35,
     "metadata": {},
     "output_type": "execute_result"
    }
   ],
   "source": [
    "log_gamma_sf_fast(x, a, b) "
   ]
  },
  {
   "cell_type": "code",
   "execution_count": 36,
   "id": "303c19ca",
   "metadata": {},
   "outputs": [
    {
     "data": {
      "text/plain": [
       "Array([1.00002936, 1.00059187, 1.67519907], dtype=float64)"
      ]
     },
     "execution_count": 36,
     "metadata": {},
     "output_type": "execute_result"
    }
   ],
   "source": [
    "g_a"
   ]
  },
  {
   "cell_type": "code",
   "execution_count": 37,
   "id": "31437da7",
   "metadata": {},
   "outputs": [
    {
     "data": {
      "text/plain": [
       "Array([3.72481150e-03, 1.31571253e-01, 4.99725565e+00], dtype=float64)"
      ]
     },
     "execution_count": 37,
     "metadata": {},
     "output_type": "execute_result"
    }
   ],
   "source": [
    "g_b"
   ]
  },
  {
   "cell_type": "code",
   "execution_count": 38,
   "id": "c069837f",
   "metadata": {},
   "outputs": [
    {
     "data": {
      "text/plain": [
       "Array([7.44962299e-01, 2.63142505e+01, 9.99451131e+02], dtype=float64)"
      ]
     },
     "execution_count": 38,
     "metadata": {},
     "output_type": "execute_result"
    }
   ],
   "source": [
    "x * g_b"
   ]
  },
  {
   "cell_type": "code",
   "execution_count": 39,
   "id": "dc51ab3d",
   "metadata": {},
   "outputs": [
    {
     "data": {
      "text/plain": [
       "Array([ -0.0493198 , -29.99391993, -29.99391993], dtype=float64)"
      ]
     },
     "execution_count": 39,
     "metadata": {},
     "output_type": "execute_result"
    }
   ],
   "source": [
    "log1mexp(logW(x*g_b, c))"
   ]
  },
  {
   "cell_type": "code",
   "execution_count": 40,
   "id": "e24fb8c9",
   "metadata": {},
   "outputs": [
    {
     "data": {
      "text/plain": [
       "Array([0.04812333, 1.        , 1.        ], dtype=float64)"
      ]
     },
     "execution_count": 40,
     "metadata": {},
     "output_type": "execute_result"
    }
   ],
   "source": [
    "W(x*g_b, c)"
   ]
  },
  {
   "cell_type": "code",
   "execution_count": 41,
   "id": "1065c103",
   "metadata": {},
   "outputs": [
    {
     "name": "stdout",
     "output_type": "stream",
     "text": [
      "[ -1.49233421  23.69729168 982.38467141]\n"
     ]
    }
   ],
   "source": [
    "print(c[1] * (x*g_b-c[2]))"
   ]
  },
  {
   "cell_type": "code",
   "execution_count": 42,
   "id": "da01c660",
   "metadata": {},
   "outputs": [],
   "source": [
    "    x = c[1] * (x*g_b-c[2])\n",
    "    _x = jnp.concatenate([jnp.expand_dims(x, axis=0), jnp.expand_dims(-x, axis=0)],\n",
    "                         axis=0)"
   ]
  },
  {
   "cell_type": "code",
   "execution_count": 43,
   "id": "ff68617c",
   "metadata": {},
   "outputs": [
    {
     "name": "stdout",
     "output_type": "stream",
     "text": [
      "[ -1.49233421  23.69729168 982.38467141]\n"
     ]
    }
   ],
   "source": [
    "print(x)"
   ]
  },
  {
   "cell_type": "code",
   "execution_count": 44,
   "id": "5648616b",
   "metadata": {},
   "outputs": [
    {
     "name": "stdout",
     "output_type": "stream",
     "text": [
      "[[  -1.49233421   23.69729168  982.38467141]\n",
      " [   1.49233421  -23.69729168 -982.38467141]]\n"
     ]
    }
   ],
   "source": [
    "print(_x)"
   ]
  },
  {
   "cell_type": "code",
   "execution_count": 45,
   "id": "85c50c76",
   "metadata": {},
   "outputs": [
    {
     "data": {
      "text/plain": [
       "Array([-983.87700562, -958.68737974,    0.        ], dtype=float64)"
      ]
     },
     "execution_count": 45,
     "metadata": {},
     "output_type": "execute_result"
    }
   ],
   "source": [
    "x - logsumexp(_x)"
   ]
  },
  {
   "cell_type": "code",
   "execution_count": 46,
   "id": "d988c82d",
   "metadata": {},
   "outputs": [
    {
     "name": "stdout",
     "output_type": "stream",
     "text": [
      "[ -1.49233421  23.69729168 982.38467141]\n"
     ]
    }
   ],
   "source": [
    "print(x)"
   ]
  },
  {
   "cell_type": "code",
   "execution_count": 47,
   "id": "468e7ba5",
   "metadata": {},
   "outputs": [
    {
     "data": {
      "text/plain": [
       "Array(1., dtype=float64, weak_type=True)"
      ]
     },
     "execution_count": 47,
     "metadata": {},
     "output_type": "execute_result"
    }
   ],
   "source": [
    "jnp.tanh(956.80492373)"
   ]
  },
  {
   "cell_type": "code",
   "execution_count": 48,
   "id": "fa8c5fbb",
   "metadata": {},
   "outputs": [
    {
     "data": {
      "text/plain": [
       "Array(1., dtype=float64, weak_type=True)"
      ]
     },
     "execution_count": 48,
     "metadata": {},
     "output_type": "execute_result"
    }
   ],
   "source": [
    "jnp.tanh(100)"
   ]
  },
  {
   "cell_type": "code",
   "execution_count": 49,
   "id": "722a5c80",
   "metadata": {},
   "outputs": [
    {
     "data": {
      "text/plain": [
       "Array(1., dtype=float64, weak_type=True)"
      ]
     },
     "execution_count": 49,
     "metadata": {},
     "output_type": "execute_result"
    }
   ],
   "source": [
    "1+jnp.exp(-2*50)"
   ]
  },
  {
   "cell_type": "code",
   "execution_count": 50,
   "id": "1da669a0",
   "metadata": {},
   "outputs": [
    {
     "data": {
      "text/plain": [
       "<PjitFunction of <function log1p at 0x73a9d1fee520>>"
      ]
     },
     "execution_count": 50,
     "metadata": {},
     "output_type": "execute_result"
    }
   ],
   "source": [
    "jnp.log1p"
   ]
  },
  {
   "cell_type": "code",
   "execution_count": 51,
   "id": "3bc9a0f7",
   "metadata": {},
   "outputs": [
    {
     "data": {
      "text/plain": [
       "Array(0., dtype=float64, weak_type=True)"
      ]
     },
     "execution_count": 51,
     "metadata": {},
     "output_type": "execute_result"
    }
   ],
   "source": [
    "jax.nn.softplus(-900)"
   ]
  },
  {
   "cell_type": "code",
   "execution_count": 52,
   "id": "4b3e966f",
   "metadata": {},
   "outputs": [
    {
     "data": {
      "text/plain": [
       "Array(1., dtype=float64, weak_type=True)"
      ]
     },
     "execution_count": 52,
     "metadata": {},
     "output_type": "execute_result"
    }
   ],
   "source": [
    "jnp.tanh(10)"
   ]
  },
  {
   "cell_type": "code",
   "execution_count": null,
   "id": "e05dfc03",
   "metadata": {},
   "outputs": [],
   "source": []
  },
  {
   "cell_type": "code",
   "execution_count": null,
   "id": "758b773b",
   "metadata": {},
   "outputs": [],
   "source": []
  },
  {
   "cell_type": "code",
   "execution_count": null,
   "id": "dc28ef72",
   "metadata": {},
   "outputs": [],
   "source": []
  },
  {
   "cell_type": "code",
   "execution_count": null,
   "id": "7f67a7d8",
   "metadata": {},
   "outputs": [],
   "source": []
  },
  {
   "cell_type": "code",
   "execution_count": null,
   "id": "dd397e54",
   "metadata": {},
   "outputs": [],
   "source": []
  },
  {
   "cell_type": "code",
   "execution_count": null,
   "id": "36c17672",
   "metadata": {},
   "outputs": [],
   "source": []
  },
  {
   "cell_type": "code",
   "execution_count": null,
   "id": "16e43cf2",
   "metadata": {},
   "outputs": [],
   "source": []
  },
  {
   "cell_type": "code",
   "execution_count": null,
   "id": "9a25ae8e",
   "metadata": {},
   "outputs": [],
   "source": []
  },
  {
   "cell_type": "code",
   "execution_count": null,
   "id": "7bb9541b",
   "metadata": {},
   "outputs": [],
   "source": []
  },
  {
   "cell_type": "code",
   "execution_count": null,
   "id": "f2512b7e",
   "metadata": {},
   "outputs": [],
   "source": []
  },
  {
   "cell_type": "code",
   "execution_count": null,
   "id": "06a22319",
   "metadata": {},
   "outputs": [],
   "source": []
  },
  {
   "cell_type": "code",
   "execution_count": null,
   "id": "f8ad173b",
   "metadata": {},
   "outputs": [],
   "source": []
  },
  {
   "cell_type": "code",
   "execution_count": null,
   "id": "274be7ca",
   "metadata": {},
   "outputs": [],
   "source": []
  },
  {
   "cell_type": "code",
   "execution_count": null,
   "id": "8c89d931",
   "metadata": {},
   "outputs": [],
   "source": []
  }
 ],
 "metadata": {
  "kernelspec": {
   "display_name": "Python 3 (ipykernel)",
   "language": "python",
   "name": "python3"
  },
  "language_info": {
   "codemirror_mode": {
    "name": "ipython",
    "version": 3
   },
   "file_extension": ".py",
   "mimetype": "text/x-python",
   "name": "python",
   "nbconvert_exporter": "python",
   "pygments_lexer": "ipython3",
   "version": "3.11.5"
  }
 },
 "nbformat": 4,
 "nbformat_minor": 5
}
