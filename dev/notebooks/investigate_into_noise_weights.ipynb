{
 "cells": [
  {
   "cell_type": "code",
   "execution_count": 1,
   "id": "ad3b5148-2489-4698-a369-b6eed5f997f2",
   "metadata": {},
   "outputs": [],
   "source": [
    "import sys, os\n",
    "sys.path.insert(0, \"/home/storage/hans/jax_reco_new/\")\n",
    "os.environ['CUDA_VISIBLE_DEVICES'] = '1'\n",
    "\n",
    "from tensorflow_probability.substrates import jax as tfp\n",
    "\n",
    "import jax.numpy as jnp\n",
    "import jax\n",
    "jax.config.update(\"jax_enable_x64\", True)\n",
    "import optimistix as optx\n",
    "\n",
    "import pandas as pd\n",
    "import numpy as np\n",
    "import matplotlib.pyplot as plt\n",
    "\n",
    "# TriplePandelSPE/JAX stuff\n",
    "from lib.simdata_i3 import I3SimHandler\n",
    "from lib.geo import center_track_pos_and_time_based_on_data\n",
    "from lib.network import get_network_eval_v_fn\n",
    "from lib.charge_network import get_charge_network_eval_v_fn\n",
    "from dom_track_eval import get_eval_network_doms_and_track_w_charge as get_eval_network_doms_and_track"
   ]
  },
  {
   "cell_type": "code",
   "execution_count": 2,
   "id": "86cc8170-461c-43d5-8cf4-f14ded2815ae",
   "metadata": {},
   "outputs": [
    {
     "name": "stdout",
     "output_type": "stream",
     "text": [
      "muon energy: 2.0 TeV\n"
     ]
    }
   ],
   "source": [
    "# Number of scan points on 1D\n",
    "n_eval = 20 # making it a 20x20 grid\n",
    "\n",
    "# Scan range (truth +/- dzen, +/- dazi)\n",
    "dzen = 0.05 # rad\n",
    "dazi = 0.05 # rad\n",
    "\n",
    "# Event Index.\n",
    "event_index = 8\n",
    "\n",
    "# Get network and eval logic.\n",
    "eval_network_v = get_network_eval_v_fn(bpath='/home/storage/hans/jax_reco_new/data/network', dtype=jnp.float32)\n",
    "eval_charge_network_v = get_charge_network_eval_v_fn(bpath='/home/storage/hans/jax_reco_new/data/charge_network', dtype=jnp.float32)\n",
    "\n",
    "eval_network_doms_and_track = get_eval_network_doms_and_track(eval_network_v, eval_charge_network_v, dtype=jnp.float32)\n",
    "\n",
    "# Get an IceCube event.\n",
    "bp = '/home/storage2/hans/i3files/21217'\n",
    "\n",
    "#sim_handler = I3SimHandler(os.path.join(bp, 'meta_ds_21217_from_10000_to_20000_1_to_10TeV.ftr'),\n",
    "#                              os.path.join(bp, 'pulses_ds_21217_from_10000_to_20000_1_to_10TeV.ftr'),\n",
    "#                              '/home/storage/hans/jax_reco_new/data/icecube/detector_geometry.csv')\n",
    "\n",
    "sim_handler = I3SimHandler(os.path.join(bp, 'meta_ds_21217_from_35000_to_53530.ftr'),\n",
    "                              os.path.join(bp, 'pulses_ds_21217_from_35000_to_53530.ftr'),\n",
    "                              '/home/storage/hans/jax_reco_new/data/icecube/detector_geometry.csv')\n",
    "\n",
    "meta, pulses = sim_handler.get_event_data(event_index)\n",
    "print(f\"muon energy: {meta['muon_energy_at_detector']/1.e3:.1f} TeV\")"
   ]
  },
  {
   "cell_type": "code",
   "execution_count": 3,
   "id": "ba6e26bc-7132-4341-aceb-5a99c73efb58",
   "metadata": {},
   "outputs": [],
   "source": [
    "event_data = sim_handler.get_per_dom_summary_from_sim_data(meta, pulses)"
   ]
  },
  {
   "cell_type": "code",
   "execution_count": 4,
   "id": "dc137e21-d778-45c8-a027-6bbb9e5b3b2e",
   "metadata": {},
   "outputs": [
    {
     "name": "stdout",
     "output_type": "stream",
     "text": [
      "original seed vertex: [  59.95342307 -461.32637861 -273.89719334]\n",
      "shifted seed vertex: [ 157.90449504 -277.52108996 -171.53953997]\n"
     ]
    }
   ],
   "source": [
    "# Make MCTruth seed.\n",
    "track_pos = jnp.array([meta['muon_pos_x'], meta['muon_pos_y'], meta['muon_pos_z']])\n",
    "track_time = meta['muon_time']\n",
    "track_zenith = meta['muon_zenith']\n",
    "track_azimuth = meta['muon_azimuth']\n",
    "track_src = jnp.array([track_zenith, track_azimuth])\n",
    "\n",
    "print(\"original seed vertex:\", track_pos)\n",
    "centered_track_pos, centered_track_time = center_track_pos_and_time_based_on_data(event_data, track_pos, track_time, track_src)\n",
    "print(\"shifted seed vertex:\", centered_track_pos)"
   ]
  },
  {
   "cell_type": "code",
   "execution_count": 5,
   "id": "0051027d-a507-40a1-ac4d-a75a4ca9df51",
   "metadata": {},
   "outputs": [],
   "source": [
    "# Clip charge and combine into single data tensor for fitting.\n",
    "fitting_event_data = jnp.array(event_data[['x', 'y', 'z', 'time', 'charge']].to_numpy())"
   ]
  },
  {
   "cell_type": "code",
   "execution_count": 6,
   "id": "2ee53b33-adb5-4fca-80f0-0376a75d99de",
   "metadata": {},
   "outputs": [],
   "source": [
    "logits, av, bv, geo_time, predicted_charge = eval_network_doms_and_track(fitting_event_data[:, :3], centered_track_pos, track_src)"
   ]
  },
  {
   "cell_type": "code",
   "execution_count": 7,
   "id": "0ac441fe-a158-4397-95e1-7a0f18fe19f1",
   "metadata": {},
   "outputs": [],
   "source": [
    "predicted_charge = jnp.squeeze(jnp.sum(fitting_event_data[:, 4]) / jnp.sum(predicted_charge) * predicted_charge)"
   ]
  },
  {
   "cell_type": "code",
   "execution_count": 52,
   "id": "0c0ccfff-4672-4787-880b-6a243f1c3bd6",
   "metadata": {},
   "outputs": [],
   "source": [
    "import matplotlib.pyplot as plt"
   ]
  },
  {
   "cell_type": "code",
   "execution_count": 8,
   "id": "3da89b69-a27c-4bb4-90dc-00542380d1ac",
   "metadata": {},
   "outputs": [
    {
     "name": "stdout",
     "output_type": "stream",
     "text": [
      "(85,)\n"
     ]
    }
   ],
   "source": [
    "print(predicted_charge.shape)"
   ]
  },
  {
   "cell_type": "code",
   "execution_count": 9,
   "id": "e85226e8-a2f6-4a42-a275-e1ede7e42cd1",
   "metadata": {},
   "outputs": [
    {
     "data": {
      "text/plain": [
       "(0.1, 1000)"
      ]
     },
     "execution_count": 9,
     "metadata": {},
     "output_type": "execute_result"
    },
    {
     "data": {
      "image/png": "[encoded data removed]",
      "text/plain": [
       "<Figure size 640x480 with 1 Axes>"
      ]
     },
     "metadata": {},
     "output_type": "display_data"
    }
   ],
   "source": [
    "fig, ax = plt.subplots()\n",
    "plt.scatter(fitting_event_data[:, 4], predicted_charge, s=2, alpha=0.2)\n",
    "plt.plot([0.001, 1000], [0.001, 1000])\n",
    "plt.xlabel('q_tot')\n",
    "plt.ylabel('q_pred_renormed')\n",
    "plt.yscale('log')\n",
    "plt.xscale('log')\n",
    "plt.ylim([0.001, 10**3])\n",
    "plt.xlim([0.1, 10**3])"
   ]
  },
  {
   "cell_type": "code",
   "execution_count": 10,
   "id": "606654ae-f2ef-4e41-8d35-7046b848f87e",
   "metadata": {},
   "outputs": [],
   "source": [
    "first_hit_times = fitting_event_data[:, 3]\n",
    "delay_time = first_hit_times - (geo_time + centered_track_time)"
   ]
  },
  {
   "cell_type": "code",
   "execution_count": 11,
   "id": "a7973d08-16b7-430e-9fb9-bacbdcb40b5e",
   "metadata": {},
   "outputs": [
    {
     "name": "stdout",
     "output_type": "stream",
     "text": [
      "[3.01413832e-02 7.59531754e+00 1.76915549e+01 2.16414466e+01\n",
      " 2.25514952e+01 2.81056172e+01 2.85895658e+01 3.12631240e+01\n",
      " 3.53379587e+01 3.56867167e+01 3.58572742e+01 3.74001306e+01\n",
      " 3.90608813e+01 4.71682997e+01 5.21614794e+01 5.30517539e+01\n",
      " 5.52500135e+01 6.47497271e+01 6.55649542e+01 6.86119382e+01\n",
      " 7.06346318e+01 7.27147858e+01 9.25408081e+01 1.03865160e+02\n",
      " 1.37472094e+02 1.46124797e+02 1.47328057e+02 1.71610215e+02\n",
      " 1.98058697e+02 2.24091975e+02 2.34407263e+02 2.45691995e+02\n",
      " 2.47571533e+02 2.61931168e+02 2.73760679e+02 3.03671203e+02\n",
      " 3.56116116e+02 3.74129838e+02 3.75210728e+02 3.79916565e+02\n",
      " 4.04807692e+02 4.05603521e+02 4.46355222e+02 4.48082260e+02\n",
      " 4.61968840e+02 4.68046588e+02 4.69741618e+02 4.84277389e+02\n",
      " 4.96505902e+02 4.96567303e+02 4.96919550e+02 5.08332220e+02\n",
      " 5.21710521e+02 5.40042087e+02 5.40209139e+02 5.40944605e+02\n",
      " 5.44957578e+02 5.47258540e+02 6.00697835e+02 6.05284629e+02\n",
      " 6.06952693e+02 6.44402812e+02 6.48962724e+02 6.64611527e+02\n",
      " 7.47901464e+02 7.63910198e+02 7.76873064e+02 8.13855021e+02\n",
      " 8.95640774e+02 9.62841839e+02 1.03335827e+03 1.03453731e+03\n",
      " 1.07048721e+03 1.09379287e+03 1.12503610e+03 1.23018817e+03\n",
      " 1.25790968e+03 1.30039183e+03 1.32360325e+03 1.37813348e+03\n",
      " 1.44749101e+03 1.59817841e+03 1.63209901e+03 1.66999054e+03\n",
      " 2.58881039e+03]\n"
     ]
    }
   ],
   "source": [
    "print(np.sort(delay_time))"
   ]
  },
  {
   "cell_type": "code",
   "execution_count": 24,
   "id": "8609f6bc-d741-4827-a0b4-39daada59f9e",
   "metadata": {},
   "outputs": [
    {
     "data": {
      "text/plain": [
       "array([1300.39182994])"
      ]
     },
     "execution_count": 24,
     "metadata": {},
     "output_type": "execute_result"
    }
   ],
   "source": [
    "np.sort(delay_time[predicted_charge < 0.02])"
   ]
  },
  {
   "cell_type": "code",
   "execution_count": null,
   "id": "aa62b1ea-8f22-430e-bb23-026cbdd6d533",
   "metadata": {},
   "outputs": [],
   "source": []
  }
 ],
 "metadata": {
  "kernelspec": {
   "display_name": "Python 3 (ipykernel)",
   "language": "python",
   "name": "python3"
  },
  "language_info": {
   "codemirror_mode": {
    "name": "ipython",
    "version": 3
   },
   "file_extension": ".py",
   "mimetype": "text/x-python",
   "name": "python",
   "nbconvert_exporter": "python",
   "pygments_lexer": "ipython3",
   "version": "3.11.5"
  }
 },
 "nbformat": 4,
 "nbformat_minor": 5
}
