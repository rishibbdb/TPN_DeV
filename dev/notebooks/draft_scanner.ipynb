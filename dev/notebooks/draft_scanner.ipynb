{
 "cells": [
  {
   "cell_type": "code",
   "execution_count": 50,
   "id": "45d19a9c-af30-4064-a053-74c293b030e2",
   "metadata": {
    "tags": []
   },
   "outputs": [],
   "source": [
    "def get_scanner(neg_llh, \n",
    "                use_multiple_vertex_seeds=False, \n",
    "                prescan_time=False,\n",
    "                scale=100.,\n",
    "                rtol=1e-8, \n",
    "                atol=1e-4):\n",
    "    \"\"\"Creates a scanner() function that performs a 2D profile likelihood \n",
    "    scan in the sky (direction). Note: The argumenst are used globally\n",
    "    within functions defined in the body.\n",
    "    \n",
    "    Args\n",
    "    ----\n",
    "        neg_llh: A valid negative log likelihood function.\n",
    "        use_multiple_vertex_seeds: If True, at each directional grid point, \n",
    "            the scanner will perform the vertex optimization from \n",
    "            additional vertex seeds.\n",
    "            This increases robustness against local minima\n",
    "            but increases the run-time \n",
    "        prescan_time: If True, the scanner will search for the best time \n",
    "            for a given vertex seed.\n",
    "            This can improve convergence at the cost of run-time.\n",
    "        scale: Re-scales the coordinate units during optimization.\n",
    "            (maps step size of 1 to value of scale).\n",
    "        rtol: relative tolerance of the optimizer (see optimistix.BFGS)\n",
    "        atol: abolsute tolerance of the optimizer (see optimistix.BFGS)\n",
    "            \n",
    "    Returns\n",
    "    -------\n",
    "        scanner: A function that performs the likelihood scan\n",
    "            according with the given properties / behavior.\n",
    "    \"\"\"\n",
    "    \n",
    "    # Vectorize likelihood along time argument.\n",
    "    # Reminder: arguments are (direction, vertex, time, data).\n",
    "    neg_llh_time_v = jax.vmap(neg_llh, (None, None, 0, None), 0)\n",
    "    \n",
    "    def get_track_time(track_dir, track_vertex, seed_time, data):\n",
    "        \"\"\"Find time that best matches the given vertex seed \n",
    "        and track direction. I.e. the time that yields the lowest \n",
    "        log likelihood value for the given track parameters.\n",
    "        \n",
    "        Args\n",
    "        ----\n",
    "            track_dir: jnp.array([zenith, azimuth]) in radians\n",
    "            track_vertex: jnp.array([x, y, z]) in m\n",
    "            seed_time: jnp.array(t) in ns\n",
    "            data: jnp.array(data) with shape \n",
    "                (n_sensors, n_features) = (N, 5)\n",
    "                \n",
    "        Returns\n",
    "        -------\n",
    "            best_time: jnp.array(float)\n",
    "        \"\"\"\n",
    "        dt = 100. # we search 100ns before and after seed_time\n",
    "        nt = 20 # number of evaluation points\n",
    "        time = jnp.linspace(seed_time - dt, seed_time + dt, nt)\n",
    "        llh = negllh_time_v(track_dir, track_vertex, time, data)\n",
    "        \n",
    "        return time[jnp.argmin(llh, axis=0)]\n",
    "    \n",
    "    # Vectorize across vertex dimension. This allows performing\n",
    "    # this operation for multiple vertex seeds at the \n",
    "    # given track direction.\n",
    "    # Reminder: arguments are (direction, vertex, time, data).\n",
    "    get_track_time_v = jax.vmap(\n",
    "        get_track_time, \n",
    "        (None, 0, None, None), \n",
    "        0\n",
    "    )\n",
    "\n",
    "    # Define the likelihood function for the vertex optimization\n",
    "    def neg_llh_vertex(x, args):\n",
    "        \"\"\"Defines the likelihood as function of the vertex.\n",
    "        Consider any other arguments (args) as constant.\n",
    "        \n",
    "        Args\n",
    "        ----\n",
    "            x: jnp.array([x, y, z]), the current vertex.\n",
    "            args: a tuple (track_dir, track_time, data)\n",
    "            \n",
    "        Returns\n",
    "        -------\n",
    "            Negative log-likelihood value.\n",
    "        \"\"\"\n",
    "        \n",
    "        track_dir = args[:3]\n",
    "        track_time = args[3]\n",
    "        data = args[4]\n",
    "        x_prime = x * scale\n",
    "        \n",
    "        return neg_llh(track_dir, x_prime, track_time, data)\n",
    "    \n",
    "    def reconstruct_vertex(vertex_seed, track_dir, track_time, data):\n",
    "        \"\"\"Performs a single vertex reconstruction.\n",
    "        \n",
    "        Args\n",
    "        ----\n",
    "        vertex_seed: jnp.array([x, y, z]) in m\n",
    "        track_dir: jnp.array([zenith, azimuth]) in radians\n",
    "        track_time: jnp.array(t) in ns\n",
    "        data: jnp.array(data) with shape \n",
    "                (n_sensors, n_features) = (N, 5)\n",
    "            \n",
    "        Returns\n",
    "        -------\n",
    "            Best-fit Negative loglikelihood value (neglogl) and \n",
    "            corresponding vertex as tuple(jnp.array, jnp.array([x,y,z]).\n",
    "        \"\"\"\n",
    "        solver = optx.BestSoFarMinimiser(optx.BFGS(rtol=rtol, atol=atol, use_inverse=True))\n",
    "        pars = jnp.concatenate([track_dir, jnp.expand_dims(track_time, axis=0)])\n",
    "        args = (pars, data)\n",
    "        sol = optx.minimise(neg_llh_vertex, \n",
    "                            solver, \n",
    "                            vertex_seed / scale, \n",
    "                            args=args, \n",
    "                            throw=False).value\n",
    "        \n",
    "        return neg_llh_vertex(sol, args), sol * scale\n",
    "    \n",
    "    # Vectorize over vertex argument\n",
    "    reconstruct_vertex_v = jax.vmap(reconstruct_vertex, (0, None, None, None), 0)\n",
    "    \n",
    "    # Vectorize over vertex and time arguments\n",
    "    reconstruct_vertex_vt = jax.vmap(reconstruct_vertex, (0, None, 0, None), 0)\n",
    "    \n",
    "    def run_reconstruction(track_dir, vertex_seed, track_time, data):\n",
    "        \"\"\"Wraps a single vertex reconstruction for a given track direction.\n",
    "        Allows reconstructing that vertex multiple times with different\n",
    "        seed values. And provides possibility to adjust the corresponding \n",
    "        time constant to provide best starting conditions for the \n",
    "        reconstruction.\n",
    "        \n",
    "        Args\n",
    "        ----\n",
    "        \n",
    "        Returns\n",
    "        -------\n",
    "            \n",
    "        \"\"\"\n",
    "        \n",
    "        if use_multiple_vertex_seeds:\n",
    "            # Get additional vertex seeds using cylindrical geometry\n",
    "            vertex_seeds = get_vertex_seeds(vertex_seed, track_dir)\n",
    "\n",
    "            if prescan_time:\n",
    "                # For each vertex seed, we should optimize the track time.\n",
    "                # i.e. we use the best-matching time for each vertex reconstruction\n",
    "                seed_times = get_track_time_v(track_dir, vertex_seeds, track_time, data)\n",
    "                logls, verts = reconstruct_vertex_vt(vertex_seeds, track_dir, seed_times)\n",
    "            \n",
    "            else:\n",
    "                # Do not perform additional time matching. We reconstruct\n",
    "                # each vertex seed with a fixed intial track time.\n",
    "                logls, verts = reconstruct_vertex_v(vertex_seeds, track_dir, track_time, data)\n",
    "                \n",
    "            # The solution is given by the fit with the best likelihood value\n",
    "            # across all fits performed.\n",
    "            ix = jnp.argmin(logls)\n",
    "            return logls[ix], verts[ix], seed_times[ix]\n",
    "        \n",
    "        # We are using only a single vertex seed\n",
    "        if prescan_time:\n",
    "            # Update time with best-match for given vertex_seed\n",
    "            track_time = get_track_time(track_dir, vertex_seeed, track_time, data)\n",
    "            \n",
    "        logl, vertex = reconstruct_vertex(vertex_seed, track_dir, track_time, data)\n",
    "        return logl, vertex\n",
    "    \n",
    "    # Vectorize directions vertices in grid\n",
    "    run_reconstruction_v = jax.vmap(run_reconstruction, (0, None, None, None), 0)\n",
    "    \n",
    "    def run_profile_llh_scan(grid_x, \n",
    "                            grid_y,\n",
    "                            vertex_seed,\n",
    "                            track_time,\n",
    "                            data,\n",
    "                            n_splits=10):\n",
    "        \"\"\"Runs multiple vertex reconstructions (one per direction point\n",
    "        within the grid specified by the function arguments). Depending on\n",
    "        global parameters, each vertex reconstruction may be obtained\n",
    "        by doing multiple optimizations starting from different seeds.\n",
    "        \n",
    "        Args\n",
    "        ----\n",
    "        \n",
    "        Returns\n",
    "        -------\n",
    "            \n",
    "        \"\"\"\n",
    "        \n",
    "        # Flatten input grid, so that grid points are \n",
    "        # can be indexed in 0-th position of the scan_dirs array.\n",
    "        scan_dirs = jnp.column_stack([grid_x.flatten(), grid_y.flatten()])\n",
    "        if n_splits < 2:\n",
    "            # No splitting of grid. We process everything all at once.\n",
    "            logls, sol_pos, sol_time = \\\n",
    "                run_reconstruction_v(scan_dirs, vertex_seed, track_time, data)\n",
    "            \n",
    "        else:\n",
    "            # Process the grid in n_split batches.\n",
    "            # This can be helpful if the grid does not fit\n",
    "            # within GPU memory. (avoids OOM error)\n",
    "            # Note: the number of gridpoints needs to be\n",
    "            # divisible by n_splits.\n",
    "            n_per_split, r = divmod(len(scan_dirs), n_splits)\n",
    "            assert r==0, (\"The number of grid points need to be divisible \" \n",
    "                          \"by number of batches (n_splits).\")\n",
    "            \n",
    "            # Reconstruct each batch and collect results.\n",
    "            logls = []\n",
    "            sol_pos = []\n",
    "            sol_time = []\n",
    "            for i in range(n_splits):\n",
    "                logls_, sol_pos_, sol_time_ = \\\n",
    "                    run_reconstruction_v(\n",
    "                        scan_dirs[i*n_per_split: (i+1) * n_per_split, :], \n",
    "                        vertex_seed,\n",
    "                        track_time,\n",
    "                        data\n",
    "                    )\n",
    "                \n",
    "                logls.append(logls_)\n",
    "                sol_pos.append(sol_pos_)\n",
    "                sol_time.append(sol_time_)\n",
    "                \n",
    "            # Combine batches.\n",
    "            logls = jnp.concatenate(logls, axis=0)\n",
    "            sol_pos = jnp.concatenate(sol_pos, axis=0)\n",
    "            sol_time = jnp.concatenate(sol_time, axis=0)         \n",
    "            \n",
    "        # Restore shape of results to match\n",
    "        # the one of the input grid.\n",
    "        sol_time = sol_time.reshape(grid_x.shape)\n",
    "        logls = logls.reshape(grid_x.shape)\n",
    "        sol_x = sol_pos[:, 0].reshape(grid_x.shape)\n",
    "        sol_y = sol_pos[:, 1].reshape(grid_x.shape)\n",
    "        sol_z = sol_pos[:, 2].reshape(grid_x.shape)\n",
    "        sol_vertex = jnp.concatenate(\n",
    "            [\n",
    "                jnp.expand_dims(sol_x, axis=-1),\n",
    "                jnp.expand_dims(sol_y, axis=-1),\n",
    "                jnp.expand_dims(sol_z, axis=-1),\n",
    "            ],\n",
    "            axis = -1\n",
    "        )\n",
    "        return logls, sol_vertex, sol_time\n",
    "           \n",
    "    # Users interact with the code via the run_profile_llh_scan function.\n",
    "    return run_profile_llh_scan"
   ]
  },
  {
   "cell_type": "code",
   "execution_count": 51,
   "id": "9099cbe6-ed88-432c-a3fc-3cbe90850042",
   "metadata": {
    "tags": []
   },
   "outputs": [],
   "source": [
    "import sys, os\n",
    "sys.path.insert(0, \"/home/storage/hans/jax_reco_gupta_corrections3/\")\n",
    "os.environ['CUDA_VISIBLE_DEVICES'] = '0'\n",
    "\n",
    "from tensorflow_probability.substrates import jax as tfp\n",
    "\n",
    "import jax.numpy as jnp\n",
    "import jax\n",
    "jax.config.update(\"jax_enable_x64\", True)\n",
    "import optimistix as optx\n",
    "\n",
    "import pandas as pd\n",
    "import numpy as np\n",
    "import matplotlib.pyplot as plt\n",
    "import matplotlib as mpl\n",
    "\n",
    "# TriplePandelSPE/JAX stuff\n",
    "from lib.simdata_i3 import I3SimHandler\n",
    "from lib.geo import center_track_pos_and_time_based_on_data\n",
    "from lib.gupta_network_eqx_4comp import get_network_eval_v_fn\n",
    "from lib.experimental_methods import get_vertex_seeds\n",
    "\n",
    "from dom_track_eval import get_eval_network_doms_and_track\n",
    "from likelihood_conv_mpe_logsumexp_gupta import get_neg_c_triple_gamma_llh\n",
    "from palettable.cubehelix import Cubehelix\n",
    "cx =Cubehelix.make(start=0.3, rotation=-0.5, n=16, reverse=False, gamma=1.0,\n",
    "                           max_light=1.0,max_sat=0.5, min_sat=1.4).get_mpl_colormap()\n",
    "\n",
    "import time"
   ]
  },
  {
   "cell_type": "code",
   "execution_count": 52,
   "id": "c82c28ed-4541-40fd-9f0f-710bd8a579f2",
   "metadata": {
    "tags": []
   },
   "outputs": [
    {
     "name": "stdout",
     "output_type": "stream",
     "text": [
      "muon energy: 5.2 TeV\n",
      "n_doms 39\n"
     ]
    }
   ],
   "source": [
    "# Event Index.\n",
    "event_index = 0\n",
    "\n",
    "# Get network and eval logic.\n",
    "dtype = jnp.float64\n",
    "\n",
    "# Split grid into sub-grids that are processed sequentially.\n",
    "# This can avoid OOM errors if gpu memory is insufficient for entire grid.\n",
    "n_splits = 50\n",
    "\n",
    "eval_network_v = get_network_eval_v_fn(bpath='/home/storage/hans/photondata/gupta/ftpv1/n96_errscale1_32bit_4comp_update_regularized/cache/new_model_no_penalties_tree_start_epoch_1000.eqx', dtype=dtype, n_hidden=96)\n",
    "eval_network_doms_and_track = get_eval_network_doms_and_track(eval_network_v, dtype=dtype, gupta=True, n_comp=4)\n",
    "\n",
    "# Get an IceCube event.\n",
    "bp = '/home/fast_storage/i3/22645/ftr/'\n",
    "\n",
    "sim_handler = I3SimHandler(os.path.join(bp, f'meta_ds_22645_from_0_to_1000_10_to_100TeV.ftr'),\n",
    "                                os.path.join(bp, f'pulses_ds_22645_from_0_to_1000_10_to_100TeV.ftr'),\n",
    "                                '/home/storage/hans/jax_reco_new/data/icecube/detector_geometry.csv')\n",
    "\n",
    "meta, pulses = sim_handler.get_event_data(event_index)\n",
    "print(f\"muon energy: {meta['muon_energy_at_detector']/1.e3:.1f} TeV\")\n",
    "\n",
    "# Get dom locations, first hit times, and total charges (for each dom).\n",
    "event_data = sim_handler.get_per_dom_summary_from_sim_data(meta, pulses)\n",
    "\n",
    "# Remove early pulses.\n",
    "sim_handler.replace_early_pulse(event_data, pulses)\n",
    "print(\"n_doms\", len(event_data))"
   ]
  },
  {
   "cell_type": "code",
   "execution_count": 53,
   "id": "65766a06-cf6b-4d76-97c9-4b0f4e22b738",
   "metadata": {
    "tags": []
   },
   "outputs": [
    {
     "name": "stdout",
     "output_type": "stream",
     "text": [
      "true direction: [1.74154731 2.12238036]\n",
      "seed direction: [1.73179615 2.11506461]\n",
      "original seed vertex: [142.07274497  48.95167323  27.51544968]\n",
      "shifted seed vertex: [179.09906524 -12.22393229  39.12875186]\n"
     ]
    }
   ],
   "source": [
    "# Get MCTruth.\n",
    "true_pos = jnp.array([meta['muon_pos_x'], meta['muon_pos_y'], meta['muon_pos_z']])\n",
    "true_time = meta['muon_time']\n",
    "true_zenith = meta['muon_zenith']\n",
    "true_azimuth = meta['muon_azimuth']\n",
    "true_src = jnp.array([true_zenith, true_azimuth])\n",
    "print(\"true direction:\", true_src)\n",
    "\n",
    "# Use SplineMPE as a seed.\n",
    "track_pos = jnp.array([meta['spline_mpe_pos_x'], meta['spline_mpe_pos_y'], meta['spline_mpe_pos_z']])\n",
    "track_time = meta['spline_mpe_time']\n",
    "track_zenith = meta['spline_mpe_zenith']\n",
    "track_azimuth = meta['spline_mpe_azimuth']\n",
    "track_src = jnp.array([track_zenith, track_azimuth])\n",
    "print(\"seed direction:\", track_src)\n",
    "\n",
    "print(\"original seed vertex:\", track_pos)\n",
    "centered_track_pos, centered_track_time = center_track_pos_and_time_based_on_data(event_data, track_pos, track_time, track_src)\n",
    "print(\"shifted seed vertex:\", centered_track_pos)"
   ]
  },
  {
   "cell_type": "code",
   "execution_count": 54,
   "id": "cef8c835-bebe-4fa2-a2c4-47da8e3368ef",
   "metadata": {
    "tags": []
   },
   "outputs": [
    {
     "name": "stdout",
     "output_type": "stream",
     "text": [
      "(39, 5)\n"
     ]
    }
   ],
   "source": [
    "fitting_event_data = jnp.array(event_data[['x', 'y', 'z', 'time', 'charge']].to_numpy())\n",
    "print(fitting_event_data.shape)\n",
    "\n",
    "# Setup likelihood\n",
    "neg_llh = get_neg_c_triple_gamma_llh(eval_network_doms_and_track)"
   ]
  },
  {
   "cell_type": "code",
   "execution_count": 55,
   "id": "c0dd5fc2-7fbe-46ba-9a15-ed904014c03e",
   "metadata": {
    "tags": []
   },
   "outputs": [],
   "source": [
    "scan_llh = get_scanner(neg_llh)"
   ]
  },
  {
   "cell_type": "code",
   "execution_count": 56,
   "id": "091ac69e-a028-404c-8f37-ddda76496f49",
   "metadata": {
    "tags": []
   },
   "outputs": [
    {
     "ename": "IndexError",
     "evalue": "tuple index out of range",
     "output_type": "error",
     "traceback": [
      "\u001b[0;31m---------------------------------------------------------------------------\u001b[0m",
      "\u001b[0;31mIndexError\u001b[0m                                Traceback (most recent call last)",
      "Cell \u001b[0;32mIn[56], line 9\u001b[0m\n\u001b[1;32m      6\u001b[0m azimuth \u001b[38;5;241m=\u001b[39m jnp\u001b[38;5;241m.\u001b[39mlinspace(true_src[\u001b[38;5;241m1\u001b[39m]\u001b[38;5;241m-\u001b[39mdzen, true_src[\u001b[38;5;241m1\u001b[39m]\u001b[38;5;241m+\u001b[39mdazi, n_eval)\n\u001b[1;32m      7\u001b[0m X, Y \u001b[38;5;241m=\u001b[39m jnp\u001b[38;5;241m.\u001b[39mmeshgrid(zenith, azimuth)\n\u001b[0;32m----> 9\u001b[0m \u001b[43mscan_llh\u001b[49m\u001b[43m(\u001b[49m\u001b[43mX\u001b[49m\u001b[43m,\u001b[49m\u001b[43m \u001b[49m\u001b[43mY\u001b[49m\u001b[43m,\u001b[49m\u001b[43m \u001b[49m\u001b[43mtrack_pos\u001b[49m\u001b[43m,\u001b[49m\u001b[43m \u001b[49m\u001b[43mtrack_time\u001b[49m\u001b[43m,\u001b[49m\u001b[43m \u001b[49m\u001b[43mfitting_event_data\u001b[49m\u001b[43m,\u001b[49m\u001b[43m \u001b[49m\u001b[43mn_splits\u001b[49m\u001b[43m)\u001b[49m \n",
      "Cell \u001b[0;32mIn[50], line 215\u001b[0m, in \u001b[0;36mget_scanner.<locals>.run_profile_llh_scan\u001b[0;34m(grid_x, grid_y, vertex_seed, track_time, data, n_splits)\u001b[0m\n\u001b[1;32m    212\u001b[0m sol_time \u001b[38;5;241m=\u001b[39m []\n\u001b[1;32m    213\u001b[0m \u001b[38;5;28;01mfor\u001b[39;00m i \u001b[38;5;129;01min\u001b[39;00m \u001b[38;5;28mrange\u001b[39m(n_splits):\n\u001b[1;32m    214\u001b[0m     logls_, sol_pos_, sol_time_ \u001b[38;5;241m=\u001b[39m \\\n\u001b[0;32m--> 215\u001b[0m         \u001b[43mrun_reconstruction_v\u001b[49m\u001b[43m(\u001b[49m\n\u001b[1;32m    216\u001b[0m \u001b[43m            \u001b[49m\u001b[43mscan_dirs\u001b[49m\u001b[43m[\u001b[49m\u001b[43mi\u001b[49m\u001b[38;5;241;43m*\u001b[39;49m\u001b[43mn_per_split\u001b[49m\u001b[43m:\u001b[49m\u001b[43m \u001b[49m\u001b[43m(\u001b[49m\u001b[43mi\u001b[49m\u001b[38;5;241;43m+\u001b[39;49m\u001b[38;5;241;43m1\u001b[39;49m\u001b[43m)\u001b[49m\u001b[43m \u001b[49m\u001b[38;5;241;43m*\u001b[39;49m\u001b[43m \u001b[49m\u001b[43mn_per_split\u001b[49m\u001b[43m,\u001b[49m\u001b[43m \u001b[49m\u001b[43m:\u001b[49m\u001b[43m]\u001b[49m\u001b[43m,\u001b[49m\u001b[43m \u001b[49m\n\u001b[1;32m    217\u001b[0m \u001b[43m            \u001b[49m\u001b[43mvertex_seed\u001b[49m\u001b[43m,\u001b[49m\n\u001b[1;32m    218\u001b[0m \u001b[43m            \u001b[49m\u001b[43mtrack_time\u001b[49m\u001b[43m,\u001b[49m\n\u001b[1;32m    219\u001b[0m \u001b[43m            \u001b[49m\u001b[43mdata\u001b[49m\n\u001b[1;32m    220\u001b[0m \u001b[43m        \u001b[49m\u001b[43m)\u001b[49m\n\u001b[1;32m    222\u001b[0m     logls\u001b[38;5;241m.\u001b[39mappend(logls_)\n\u001b[1;32m    223\u001b[0m     sol_pos\u001b[38;5;241m.\u001b[39mappend(sol_pos_)\n",
      "    \u001b[0;31m[... skipping hidden 7 frame]\u001b[0m\n",
      "Cell \u001b[0;32mIn[50], line 166\u001b[0m, in \u001b[0;36mget_scanner.<locals>.run_reconstruction\u001b[0;34m(track_dir, vertex_seed, track_time, data)\u001b[0m\n\u001b[1;32m    162\u001b[0m \u001b[38;5;28;01mif\u001b[39;00m prescan_time:\n\u001b[1;32m    163\u001b[0m     \u001b[38;5;66;03m# Update time with best-match for given vertex_seed\u001b[39;00m\n\u001b[1;32m    164\u001b[0m     track_time \u001b[38;5;241m=\u001b[39m get_track_time(track_dir, vertex_seeed, track_time, data)\n\u001b[0;32m--> 166\u001b[0m logl, vertex \u001b[38;5;241m=\u001b[39m \u001b[43mreconstruct_vertex\u001b[49m\u001b[43m(\u001b[49m\u001b[43mvertex_seed\u001b[49m\u001b[43m,\u001b[49m\u001b[43m \u001b[49m\u001b[43mtrack_dir\u001b[49m\u001b[43m,\u001b[49m\u001b[43m \u001b[49m\u001b[43mtrack_time\u001b[49m\u001b[43m,\u001b[49m\u001b[43m \u001b[49m\u001b[43mdata\u001b[49m\u001b[43m)\u001b[49m\n\u001b[1;32m    167\u001b[0m \u001b[38;5;28;01mreturn\u001b[39;00m logl, vertex\n",
      "Cell \u001b[0;32mIn[50], line 112\u001b[0m, in \u001b[0;36mget_scanner.<locals>.reconstruct_vertex\u001b[0;34m(vertex_seed, track_dir, track_time, data)\u001b[0m\n\u001b[1;32m    110\u001b[0m pars \u001b[38;5;241m=\u001b[39m jnp\u001b[38;5;241m.\u001b[39mconcatenate([track_dir, jnp\u001b[38;5;241m.\u001b[39mexpand_dims(track_time, axis\u001b[38;5;241m=\u001b[39m\u001b[38;5;241m0\u001b[39m)])\n\u001b[1;32m    111\u001b[0m args \u001b[38;5;241m=\u001b[39m (pars, data)\n\u001b[0;32m--> 112\u001b[0m sol \u001b[38;5;241m=\u001b[39m \u001b[43moptx\u001b[49m\u001b[38;5;241;43m.\u001b[39;49m\u001b[43mminimise\u001b[49m\u001b[43m(\u001b[49m\u001b[43mneg_llh_vertex\u001b[49m\u001b[43m,\u001b[49m\u001b[43m \u001b[49m\n\u001b[1;32m    113\u001b[0m \u001b[43m                    \u001b[49m\u001b[43msolver\u001b[49m\u001b[43m,\u001b[49m\u001b[43m \u001b[49m\n\u001b[1;32m    114\u001b[0m \u001b[43m                    \u001b[49m\u001b[43mvertex_seed\u001b[49m\u001b[43m \u001b[49m\u001b[38;5;241;43m/\u001b[39;49m\u001b[43m \u001b[49m\u001b[43mscale\u001b[49m\u001b[43m,\u001b[49m\u001b[43m \u001b[49m\n\u001b[1;32m    115\u001b[0m \u001b[43m                    \u001b[49m\u001b[43margs\u001b[49m\u001b[38;5;241;43m=\u001b[39;49m\u001b[43margs\u001b[49m\u001b[43m,\u001b[49m\u001b[43m \u001b[49m\n\u001b[1;32m    116\u001b[0m \u001b[43m                    \u001b[49m\u001b[43mthrow\u001b[49m\u001b[38;5;241;43m=\u001b[39;49m\u001b[38;5;28;43;01mFalse\u001b[39;49;00m\u001b[43m)\u001b[49m\u001b[38;5;241m.\u001b[39mvalue\n\u001b[1;32m    118\u001b[0m \u001b[38;5;28;01mreturn\u001b[39;00m neg_llh_vertex(sol, args), sol \u001b[38;5;241m*\u001b[39m scale\n",
      "    \u001b[0;31m[... skipping hidden 18 frame]\u001b[0m\n",
      "File \u001b[0;32m~/.local/share/virtualenvs/py3_jax_v050-kTki7zvj/lib/python3.11/site-packages/optimistix/_minimise.py:92\u001b[0m, in \u001b[0;36mminimise\u001b[0;34m(fn, solver, y0, args, options, has_aux, max_steps, adjoint, throw, tags)\u001b[0m\n\u001b[1;32m     90\u001b[0m     fn \u001b[38;5;241m=\u001b[39m NoneAux(fn)  \u001b[38;5;66;03m# pyright: ignore\u001b[39;00m\n\u001b[1;32m     91\u001b[0m fn \u001b[38;5;241m=\u001b[39m OutAsArray(fn)\n\u001b[0;32m---> 92\u001b[0m fn \u001b[38;5;241m=\u001b[39m \u001b[43meqx\u001b[49m\u001b[38;5;241;43m.\u001b[39;49m\u001b[43mfilter_closure_convert\u001b[49m\u001b[43m(\u001b[49m\u001b[43mfn\u001b[49m\u001b[43m,\u001b[49m\u001b[43m \u001b[49m\u001b[43my0\u001b[49m\u001b[43m,\u001b[49m\u001b[43m \u001b[49m\u001b[43margs\u001b[49m\u001b[43m)\u001b[49m  \u001b[38;5;66;03m# pyright: ignore\u001b[39;00m\n\u001b[1;32m     93\u001b[0m fn \u001b[38;5;241m=\u001b[39m cast(Fn[Y, Scalar, Aux], fn)\n\u001b[1;32m     94\u001b[0m f_struct, aux_struct \u001b[38;5;241m=\u001b[39m fn\u001b[38;5;241m.\u001b[39mout_struct\n",
      "    \u001b[0;31m[... skipping hidden 17 frame]\u001b[0m\n",
      "File \u001b[0;32m~/.local/share/virtualenvs/py3_jax_v050-kTki7zvj/lib/python3.11/site-packages/optimistix/_misc.py:100\u001b[0m, in \u001b[0;36mOutAsArray.__call__\u001b[0;34m(self, *args, **kwargs)\u001b[0m\n\u001b[1;32m     99\u001b[0m \u001b[38;5;28;01mdef\u001b[39;00m\u001b[38;5;250m \u001b[39m\u001b[38;5;21m__call__\u001b[39m(\u001b[38;5;28mself\u001b[39m, \u001b[38;5;241m*\u001b[39margs, \u001b[38;5;241m*\u001b[39m\u001b[38;5;241m*\u001b[39mkwargs):\n\u001b[0;32m--> 100\u001b[0m     out, aux \u001b[38;5;241m=\u001b[39m \u001b[38;5;28;43mself\u001b[39;49m\u001b[38;5;241;43m.\u001b[39;49m\u001b[43mfn\u001b[49m\u001b[43m(\u001b[49m\u001b[38;5;241;43m*\u001b[39;49m\u001b[43margs\u001b[49m\u001b[43m,\u001b[49m\u001b[43m \u001b[49m\u001b[38;5;241;43m*\u001b[39;49m\u001b[38;5;241;43m*\u001b[39;49m\u001b[43mkwargs\u001b[49m\u001b[43m)\u001b[49m\n\u001b[1;32m    101\u001b[0m     out \u001b[38;5;241m=\u001b[39m jtu\u001b[38;5;241m.\u001b[39mtree_map(inexact_asarray, out)\n\u001b[1;32m    102\u001b[0m     aux \u001b[38;5;241m=\u001b[39m jtu\u001b[38;5;241m.\u001b[39mtree_map(asarray, aux)\n",
      "File \u001b[0;32m~/.local/share/virtualenvs/py3_jax_v050-kTki7zvj/lib/python3.11/site-packages/optimistix/_misc.py:89\u001b[0m, in \u001b[0;36mNoneAux.__call__\u001b[0;34m(self, *args, **kwargs)\u001b[0m\n\u001b[1;32m     88\u001b[0m \u001b[38;5;28;01mdef\u001b[39;00m\u001b[38;5;250m \u001b[39m\u001b[38;5;21m__call__\u001b[39m(\u001b[38;5;28mself\u001b[39m, \u001b[38;5;241m*\u001b[39margs, \u001b[38;5;241m*\u001b[39m\u001b[38;5;241m*\u001b[39mkwargs):\n\u001b[0;32m---> 89\u001b[0m     \u001b[38;5;28;01mreturn\u001b[39;00m \u001b[38;5;28;43mself\u001b[39;49m\u001b[38;5;241;43m.\u001b[39;49m\u001b[43mfn\u001b[49m\u001b[43m(\u001b[49m\u001b[38;5;241;43m*\u001b[39;49m\u001b[43margs\u001b[49m\u001b[43m,\u001b[49m\u001b[43m \u001b[49m\u001b[38;5;241;43m*\u001b[39;49m\u001b[38;5;241;43m*\u001b[39;49m\u001b[43mkwargs\u001b[49m\u001b[43m)\u001b[49m, \u001b[38;5;28;01mNone\u001b[39;00m\n",
      "Cell \u001b[0;32mIn[50], line 87\u001b[0m, in \u001b[0;36mget_scanner.<locals>.neg_llh_vertex\u001b[0;34m(x, args)\u001b[0m\n\u001b[1;32m     73\u001b[0m \u001b[38;5;250m\u001b[39m\u001b[38;5;124;03m\"\"\"Defines the likelihood as function of the vertex.\u001b[39;00m\n\u001b[1;32m     74\u001b[0m \u001b[38;5;124;03mConsider any other arguments (args) as constant.\u001b[39;00m\n\u001b[1;32m     75\u001b[0m \u001b[38;5;124;03m\u001b[39;00m\n\u001b[0;32m   (...)\u001b[0m\n\u001b[1;32m     83\u001b[0m \u001b[38;5;124;03m    Negative log-likelihood value.\u001b[39;00m\n\u001b[1;32m     84\u001b[0m \u001b[38;5;124;03m\"\"\"\u001b[39;00m\n\u001b[1;32m     86\u001b[0m track_dir \u001b[38;5;241m=\u001b[39m args[:\u001b[38;5;241m3\u001b[39m]\n\u001b[0;32m---> 87\u001b[0m track_time \u001b[38;5;241m=\u001b[39m \u001b[43margs\u001b[49m\u001b[43m[\u001b[49m\u001b[38;5;241;43m3\u001b[39;49m\u001b[43m]\u001b[49m\n\u001b[1;32m     88\u001b[0m data \u001b[38;5;241m=\u001b[39m args[\u001b[38;5;241m4\u001b[39m]\n\u001b[1;32m     89\u001b[0m x_prime \u001b[38;5;241m=\u001b[39m x \u001b[38;5;241m*\u001b[39m scale\n",
      "\u001b[0;31mIndexError\u001b[0m: tuple index out of range"
     ]
    }
   ],
   "source": [
    "dzen = 0.1\n",
    "dazi = 0.1\n",
    "n_eval = 100\n",
    "\n",
    "zenith = jnp.linspace(true_src[0]-dzen, true_src[0]+dazi, n_eval)\n",
    "azimuth = jnp.linspace(true_src[1]-dzen, true_src[1]+dazi, n_eval)\n",
    "X, Y = jnp.meshgrid(zenith, azimuth)\n",
    "\n",
    "scan_llh(X, Y, track_pos, track_time, fitting_event_data, n_splits) "
   ]
  },
  {
   "cell_type": "code",
   "execution_count": 42,
   "id": "08064aaf-ca39-49a9-8d21-4ab09967ffd6",
   "metadata": {
    "tags": []
   },
   "outputs": [],
   "source": [
    "import jax\n",
    "import jax.numpy as jnp"
   ]
  },
  {
   "cell_type": "code",
   "execution_count": 6,
   "id": "1a1b35cb-d370-429d-9aa4-a268222cbfff",
   "metadata": {},
   "outputs": [],
   "source": [
    "def func(x, y=2, z=0):\n",
    "    return x+y+z"
   ]
  },
  {
   "cell_type": "code",
   "execution_count": 7,
   "id": "1d9d19cb-362c-4b71-aae7-fe054055d6d0",
   "metadata": {
    "tags": []
   },
   "outputs": [
    {
     "data": {
      "text/plain": [
       "Array([3, 4, 5], dtype=int32)"
      ]
     },
     "execution_count": 7,
     "metadata": {},
     "output_type": "execute_result"
    }
   ],
   "source": [
    "jax.vmap(func, 0, 0)(jnp.array([1,2,3]))"
   ]
  },
  {
   "cell_type": "code",
   "execution_count": 8,
   "id": "f3b63be7-8678-4091-be46-0c5c3c99216e",
   "metadata": {
    "tags": []
   },
   "outputs": [
    {
     "data": {
      "text/plain": [
       "Array([4, 5, 6], dtype=int32)"
      ]
     },
     "execution_count": 8,
     "metadata": {},
     "output_type": "execute_result"
    }
   ],
   "source": [
    "jax.vmap(func, (0, None), 0)(jnp.array([1,2,3]), 3)"
   ]
  },
  {
   "cell_type": "code",
   "execution_count": 10,
   "id": "4af9dd92-9ec2-473a-a400-180620242098",
   "metadata": {
    "tags": []
   },
   "outputs": [
    {
     "data": {
      "text/plain": [
       "Array([1, 2, 3], dtype=int32)"
      ]
     },
     "execution_count": 10,
     "metadata": {},
     "output_type": "execute_result"
    }
   ],
   "source": [
    "jax.vmap(func, (0, None, None), 0)(jnp.array([1,2,3]), 3, -3)"
   ]
  },
  {
   "cell_type": "code",
   "execution_count": 11,
   "id": "41bdb520-e581-4fe0-b9fa-1a029768aa43",
   "metadata": {
    "tags": []
   },
   "outputs": [
    {
     "ename": "ValueError",
     "evalue": "vmap in_axes must be an int, None, or a tuple of entries corresponding to the positional arguments passed to the function, but got len(in_axes)=3, len(args)=1",
     "output_type": "error",
     "traceback": [
      "\u001b[0;31m---------------------------------------------------------------------------\u001b[0m",
      "\u001b[0;31mValueError\u001b[0m                                Traceback (most recent call last)",
      "Cell \u001b[0;32mIn[11], line 1\u001b[0m\n\u001b[0;32m----> 1\u001b[0m \u001b[43mjax\u001b[49m\u001b[38;5;241;43m.\u001b[39;49m\u001b[43mvmap\u001b[49m\u001b[43m(\u001b[49m\u001b[43mfunc\u001b[49m\u001b[43m,\u001b[49m\u001b[43m \u001b[49m\u001b[43m(\u001b[49m\u001b[38;5;241;43m0\u001b[39;49m\u001b[43m,\u001b[49m\u001b[43m \u001b[49m\u001b[38;5;28;43;01mNone\u001b[39;49;00m\u001b[43m,\u001b[49m\u001b[43m \u001b[49m\u001b[38;5;28;43;01mNone\u001b[39;49;00m\u001b[43m)\u001b[49m\u001b[43m,\u001b[49m\u001b[43m \u001b[49m\u001b[38;5;241;43m0\u001b[39;49m\u001b[43m)\u001b[49m\u001b[43m(\u001b[49m\u001b[43mjnp\u001b[49m\u001b[38;5;241;43m.\u001b[39;49m\u001b[43marray\u001b[49m\u001b[43m(\u001b[49m\u001b[43m[\u001b[49m\u001b[38;5;241;43m1\u001b[39;49m\u001b[43m,\u001b[49m\u001b[38;5;241;43m2\u001b[39;49m\u001b[43m,\u001b[49m\u001b[38;5;241;43m3\u001b[39;49m\u001b[43m]\u001b[49m\u001b[43m)\u001b[49m\u001b[43m)\u001b[49m\n",
      "    \u001b[0;31m[... skipping hidden 1 frame]\u001b[0m\n",
      "File \u001b[0;32m~/.local/share/virtualenvs/py3_jax_v050-kTki7zvj/lib/python3.11/site-packages/jax/_src/api.py:997\u001b[0m, in \u001b[0;36mvmap.<locals>.vmap_f\u001b[0;34m(*args, **kwargs)\u001b[0m\n\u001b[1;32m    993\u001b[0m \u001b[38;5;129m@wraps\u001b[39m(fun, docstr\u001b[38;5;241m=\u001b[39mdocstr)\n\u001b[1;32m    994\u001b[0m \u001b[38;5;129m@api_boundary\u001b[39m\n\u001b[1;32m    995\u001b[0m \u001b[38;5;28;01mdef\u001b[39;00m\u001b[38;5;250m \u001b[39m\u001b[38;5;21mvmap_f\u001b[39m(\u001b[38;5;241m*\u001b[39margs, \u001b[38;5;241m*\u001b[39m\u001b[38;5;241m*\u001b[39mkwargs):\n\u001b[1;32m    996\u001b[0m   \u001b[38;5;28;01mif\u001b[39;00m \u001b[38;5;28misinstance\u001b[39m(in_axes, \u001b[38;5;28mtuple\u001b[39m) \u001b[38;5;129;01mand\u001b[39;00m \u001b[38;5;28mlen\u001b[39m(in_axes) \u001b[38;5;241m!=\u001b[39m \u001b[38;5;28mlen\u001b[39m(args):\n\u001b[0;32m--> 997\u001b[0m     \u001b[38;5;28;01mraise\u001b[39;00m \u001b[38;5;167;01mValueError\u001b[39;00m(\u001b[38;5;124m\"\u001b[39m\u001b[38;5;124mvmap in_axes must be an int, None, or a tuple of entries corresponding \u001b[39m\u001b[38;5;124m\"\u001b[39m\n\u001b[1;32m    998\u001b[0m                      \u001b[38;5;124m\"\u001b[39m\u001b[38;5;124mto the positional arguments passed to the function, \u001b[39m\u001b[38;5;124m\"\u001b[39m\n\u001b[1;32m    999\u001b[0m                      \u001b[38;5;124mf\u001b[39m\u001b[38;5;124m\"\u001b[39m\u001b[38;5;124mbut got \u001b[39m\u001b[38;5;132;01m{\u001b[39;00m\u001b[38;5;28mlen\u001b[39m(in_axes)\u001b[38;5;132;01m=}\u001b[39;00m\u001b[38;5;124m, \u001b[39m\u001b[38;5;132;01m{\u001b[39;00m\u001b[38;5;28mlen\u001b[39m(args)\u001b[38;5;132;01m=}\u001b[39;00m\u001b[38;5;124m\"\u001b[39m)\n\u001b[1;32m   1000\u001b[0m   args_flat, in_tree  \u001b[38;5;241m=\u001b[39m tree_flatten((args, kwargs), is_leaf\u001b[38;5;241m=\u001b[39mbatching\u001b[38;5;241m.\u001b[39mis_vmappable)\n\u001b[1;32m   1001\u001b[0m   f \u001b[38;5;241m=\u001b[39m lu\u001b[38;5;241m.\u001b[39mwrap_init(fun, debug_info\u001b[38;5;241m=\u001b[39mdebug_info(\u001b[38;5;124m\"\u001b[39m\u001b[38;5;124mvmap\u001b[39m\u001b[38;5;124m\"\u001b[39m, fun, args, kwargs))\n",
      "\u001b[0;31mValueError\u001b[0m: vmap in_axes must be an int, None, or a tuple of entries corresponding to the positional arguments passed to the function, but got len(in_axes)=3, len(args)=1"
     ]
    }
   ],
   "source": [
    "jax.vmap(func, (0, None, None), 0)(jnp.array([1,2,3]))"
   ]
  },
  {
   "cell_type": "code",
   "execution_count": null,
   "id": "f35c10c1-16ab-4d22-9e1a-2f7eb7328877",
   "metadata": {},
   "outputs": [],
   "source": []
  }
 ],
 "metadata": {
  "kernelspec": {
   "display_name": "Python 3 (ipykernel)",
   "language": "python",
   "name": "python3"
  },
  "language_info": {
   "codemirror_mode": {
    "name": "ipython",
    "version": 3
   },
   "file_extension": ".py",
   "mimetype": "text/x-python",
   "name": "python",
   "nbconvert_exporter": "python",
   "pygments_lexer": "ipython3",
   "version": "3.11.5"
  }
 },
 "nbformat": 4,
 "nbformat_minor": 5
}
