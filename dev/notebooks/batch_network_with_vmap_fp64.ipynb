{
 "cells": [
  {
   "cell_type": "code",
   "execution_count": 1,
   "id": "c346288a-7fab-4a02-9178-7eb29f7b5c8a",
   "metadata": {},
   "outputs": [],
   "source": [
    "%load_ext autoreload\n",
    "%autoreload 2"
   ]
  },
  {
   "cell_type": "code",
   "execution_count": 2,
   "id": "7a0ac9db-0dfa-4ab3-bcdf-7a902d1c8ff9",
   "metadata": {},
   "outputs": [
    {
     "name": "stderr",
     "output_type": "stream",
     "text": [
      "2024-05-10 10:05:09.738159: W tensorflow/compiler/tf2tensorrt/utils/py_utils.cc:38] TF-TRT Warning: Could not find TensorRT\n"
     ]
    }
   ],
   "source": [
    "import numpy as np\n",
    "import sys\n",
    "\n",
    "sys.path.insert(0, '/home/storage2/hans/jax_reco/python')\n",
    "from network import TriplePandleNet\n",
    "from trafos import transform_network_outputs, transform_dimensions\n",
    "\n",
    "from tensorflow_probability.substrates import jax as tfp\n",
    "tfd = tfp.distributions\n",
    "import jax.numpy as jnp\n",
    "import jax\n",
    "\n",
    "from jax import config\n",
    "config.update(\"jax_enable_x64\", True)"
   ]
  },
  {
   "cell_type": "code",
   "execution_count": 3,
   "id": "82ec35aa-257a-4ea5-b1c2-b483ba003344",
   "metadata": {},
   "outputs": [],
   "source": [
    "net = TriplePandleNet('../../data/network/')"
   ]
  },
  {
   "cell_type": "code",
   "execution_count": 4,
   "id": "c91eecb7-3d7f-40ec-8472-4f9fedc5b5f6",
   "metadata": {},
   "outputs": [],
   "source": [
    "dist = 25\n",
    "z = -210\n",
    "rho = 0.0\n",
    "zenith = np.pi/2\n",
    "azimuth = 0.0\n",
    "\n",
    "x = transform_dimensions(dist, rho, z, zenith, azimuth)"
   ]
  },
  {
   "cell_type": "code",
   "execution_count": 5,
   "id": "74b68c1a-a410-4292-8db8-b4de3ba3fe31",
   "metadata": {},
   "outputs": [
    {
     "name": "stdout",
     "output_type": "stream",
     "text": [
      "(9,)\n"
     ]
    }
   ],
   "source": [
    "print(net.eval(x).shape)"
   ]
  },
  {
   "cell_type": "code",
   "execution_count": 6,
   "id": "93be8b04-7cdc-4b65-a6e2-2b4a8e1b5c49",
   "metadata": {},
   "outputs": [
    {
     "name": "stdout",
     "output_type": "stream",
     "text": [
      "168 µs ± 2.07 µs per loop (mean ± std. dev. of 7 runs, 10,000 loops each)\n"
     ]
    }
   ],
   "source": [
    "# time single evaluation\n",
    "%timeit net.eval(x).block_until_ready()"
   ]
  },
  {
   "cell_type": "code",
   "execution_count": 7,
   "id": "a35b07ce-b1c3-4fad-8d22-bba1b0a20515",
   "metadata": {},
   "outputs": [],
   "source": [
    "# testing low level\n",
    "#from network import _eval_network\n",
    "#params = net.get_network_params()\n",
    "#print(params[0][0].shape, params[0][1].shape)\n",
    "#%timeit _eval_network(x, params).block_until_ready()"
   ]
  },
  {
   "cell_type": "code",
   "execution_count": 8,
   "id": "1fe14313-a28d-4b94-8d21-bc6062f3c17d",
   "metadata": {},
   "outputs": [
    {
     "name": "stdout",
     "output_type": "stream",
     "text": [
      "(500, 7)\n"
     ]
    }
   ],
   "source": [
    "# now try 500 evaluations in parallel on the gpu\n",
    "\n",
    "np.random.seed(2)\n",
    "\n",
    "batch_size = 500\n",
    "\n",
    "x = np.array(x)\n",
    "xx = x[np.newaxis, :]\n",
    "xx = np.repeat(xx, batch_size, axis=0)\n",
    "y = np.random.normal(0.025, 0.001, 500)\n",
    "xx[:, 0] = y\n",
    "xx = jnp.array(xx)\n",
    "xx.devices()\n",
    "print(xx.shape)"
   ]
  },
  {
   "cell_type": "code",
   "execution_count": 9,
   "id": "6e5079ab-da77-4aa9-a070-bf2e6ef1db7d",
   "metadata": {},
   "outputs": [
    {
     "name": "stdout",
     "output_type": "stream",
     "text": [
      "951 µs ± 1.92 µs per loop (mean ± std. dev. of 7 runs, 1,000 loops each)\n"
     ]
    }
   ],
   "source": [
    "%timeit net.eval_on_batch(xx).block_until_ready()"
   ]
  },
  {
   "cell_type": "code",
   "execution_count": 10,
   "id": "2988a609-05e8-4317-8d8f-b2111807eac5",
   "metadata": {},
   "outputs": [],
   "source": [
    "eval_batch = jax.jit(net.eval_on_batch)"
   ]
  },
  {
   "cell_type": "code",
   "execution_count": 11,
   "id": "fd972344-a723-48c7-a28d-27a30332473f",
   "metadata": {},
   "outputs": [
    {
     "name": "stdout",
     "output_type": "stream",
     "text": [
      "917 µs ± 3.96 µs per loop (mean ± std. dev. of 7 runs, 1,000 loops each)\n"
     ]
    }
   ],
   "source": [
    "%timeit eval_batch(xx).block_until_ready()"
   ]
  },
  {
   "cell_type": "code",
   "execution_count": 12,
   "id": "f1c4a8d8-3cba-419d-8d7b-e18694275d01",
   "metadata": {},
   "outputs": [],
   "source": [
    "times = 20*np.ones(batch_size).reshape(1, batch_size)"
   ]
  },
  {
   "cell_type": "code",
   "execution_count": 13,
   "id": "5a406d22-80b4-49e8-b9a8-da9464074711",
   "metadata": {},
   "outputs": [
    {
     "data": {
      "text/plain": [
       "Array([-2249.39156307], dtype=float64)"
      ]
     },
     "execution_count": 13,
     "metadata": {},
     "output_type": "execute_result"
    }
   ],
   "source": [
    "z = net.eval_on_batch(xx)\n",
    "logits, a, b = transform_network_outputs(z)\n",
    "\n",
    "dist = tfd.Independent(\n",
    "    distribution = tfd.MixtureSameFamily(\n",
    "              mixture_distribution=tfd.Categorical(\n",
    "                  logits=logits\n",
    "                  ),\n",
    "              components_distribution=tfd.Gamma(\n",
    "                concentration=a,    \n",
    "                rate=b,\n",
    "                force_probs_to_zero_outside_support=True\n",
    "                  )\n",
    "            ),\n",
    "    reinterpreted_batch_ndims=1\n",
    ")\n",
    "\n",
    "log_prob = jax.jit(dist.log_prob)\n",
    "#log_prob = dist.log_prob\n",
    "# evaluate gamma likelihood \n",
    "log_prob(times)"
   ]
  },
  {
   "cell_type": "code",
   "execution_count": 14,
   "id": "5d4c7409-46aa-44fc-ab6d-c4b4dd8d0ab7",
   "metadata": {},
   "outputs": [
    {
     "data": {
      "text/plain": [
       "Array([-2249.39156307], dtype=float64)"
      ]
     },
     "execution_count": 14,
     "metadata": {},
     "output_type": "execute_result"
    }
   ],
   "source": [
    "z = eval_batch(xx)\n",
    "logits, a, b = transform_network_outputs(z)\n",
    "\n",
    "dist = tfd.Independent(\n",
    "    distribution = tfd.MixtureSameFamily(\n",
    "              mixture_distribution=tfd.Categorical(\n",
    "                  logits=logits\n",
    "                  ),\n",
    "              components_distribution=tfd.Gamma(\n",
    "                concentration=a,    \n",
    "                rate=b,\n",
    "                force_probs_to_zero_outside_support=True\n",
    "                  )\n",
    "            ),\n",
    "    reinterpreted_batch_ndims=1\n",
    ")\n",
    "\n",
    "log_prob = jax.jit(dist.log_prob)\n",
    "log_prob(times)"
   ]
  },
  {
   "cell_type": "code",
   "execution_count": 15,
   "id": "40d08a1d-d80e-44d4-ac04-da793761eb19",
   "metadata": {},
   "outputs": [
    {
     "name": "stdout",
     "output_type": "stream",
     "text": [
      "47.6 µs ± 2.09 µs per loop (mean ± std. dev. of 7 runs, 10,000 loops each)\n"
     ]
    }
   ],
   "source": [
    "%timeit log_prob(times).block_until_ready()"
   ]
  },
  {
   "cell_type": "code",
   "execution_count": 16,
   "id": "6eab8d8a-3b74-4996-b4ef-e0a8738b8025",
   "metadata": {},
   "outputs": [],
   "source": [
    "# time combination of everything\n",
    "\n",
    "@jax.jit\n",
    "def do_likelihood_for_500_doms(x):\n",
    "    # 500 NN evaluations\n",
    "    z = net.eval_on_batch(x)\n",
    "    logits, a, b = transform_network_outputs(z)\n",
    "\n",
    "    # 500 PDF evaluations\n",
    "    dist = tfd.Independent(\n",
    "        distribution = tfd.MixtureSameFamily(\n",
    "                  mixture_distribution=tfd.Categorical(\n",
    "                      logits=logits\n",
    "                      ),\n",
    "                  components_distribution=tfd.Gamma(\n",
    "                    concentration=a,    \n",
    "                    rate=b,\n",
    "                    force_probs_to_zero_outside_support=True\n",
    "                      )\n",
    "                ),\n",
    "        reinterpreted_batch_ndims=1\n",
    "    )\n",
    "    return dist.log_prob(times)"
   ]
  },
  {
   "cell_type": "code",
   "execution_count": 17,
   "id": "198621c9-6de8-4d81-9b46-2e0cc9bc9bc3",
   "metadata": {},
   "outputs": [
    {
     "data": {
      "text/plain": [
       "Array([-2249.39156307], dtype=float64)"
      ]
     },
     "execution_count": 17,
     "metadata": {},
     "output_type": "execute_result"
    }
   ],
   "source": [
    "do_likelihood_for_500_doms(xx)"
   ]
  },
  {
   "cell_type": "code",
   "execution_count": 19,
   "id": "fb972ae6-5878-48b2-b973-6a9de9a34252",
   "metadata": {},
   "outputs": [
    {
     "name": "stdout",
     "output_type": "stream",
     "text": [
      "949 µs ± 21.9 µs per loop (mean ± std. dev. of 7 runs, 10,000 loops each)\n"
     ]
    }
   ],
   "source": [
    "%timeit -n 10000 do_likelihood_for_500_doms(xx).block_until_ready()"
   ]
  },
  {
   "cell_type": "code",
   "execution_count": null,
   "id": "0950772a-249b-4794-b738-0874827a3670",
   "metadata": {},
   "outputs": [],
   "source": [
    "print(xx)"
   ]
  },
  {
   "cell_type": "code",
   "execution_count": null,
   "id": "365fda6f-daeb-49f1-9953-5b03bcec71cc",
   "metadata": {
    "scrolled": true
   },
   "outputs": [],
   "source": [
    "print(log_prob(times))"
   ]
  },
  {
   "cell_type": "code",
   "execution_count": null,
   "id": "eda37685-1bd0-48ed-aeaf-75480f1fe978",
   "metadata": {},
   "outputs": [],
   "source": [
    "# Array([-2248.86100657], dtype=float64) # seed 0"
   ]
  },
  {
   "cell_type": "code",
   "execution_count": null,
   "id": "e21dbd8d-2ec1-4c40-b9cd-5440dd69ee1e",
   "metadata": {},
   "outputs": [],
   "source": [
    "# Array([-2247.3552]"
   ]
  },
  {
   "cell_type": "code",
   "execution_count": null,
   "id": "de7da39d-84a8-4bda-b9ee-7710376812c2",
   "metadata": {},
   "outputs": [],
   "source": [
    "# Array([-2248.8613]"
   ]
  },
  {
   "cell_type": "code",
   "execution_count": null,
   "id": "fcd71ba4-c8c4-4634-b256-0190f5156c26",
   "metadata": {},
   "outputs": [],
   "source": []
  },
  {
   "cell_type": "code",
   "execution_count": null,
   "id": "2ae834bb-6fd2-4336-b23f-b64dddb84923",
   "metadata": {},
   "outputs": [],
   "source": [
    "#Array([-2252.40582564], dtype=float64) # seed 1"
   ]
  },
  {
   "cell_type": "code",
   "execution_count": null,
   "id": "10083f93-9908-4194-bce1-2a37bee9482b",
   "metadata": {},
   "outputs": [],
   "source": [
    "#Array([-2250.8875]"
   ]
  },
  {
   "cell_type": "code",
   "execution_count": null,
   "id": "7033fb40-aa70-4ee7-a503-7a9a7a58151e",
   "metadata": {},
   "outputs": [],
   "source": [
    "#Array([-2252.4062]"
   ]
  },
  {
   "cell_type": "code",
   "execution_count": null,
   "id": "d5742cd1-35f9-421e-ab22-53bf09f206bd",
   "metadata": {},
   "outputs": [],
   "source": []
  },
  {
   "cell_type": "code",
   "execution_count": null,
   "id": "b742d8e1-e04d-43aa-adb4-afa710eae409",
   "metadata": {},
   "outputs": [],
   "source": [
    "# Array([-2249.39156307], dtype=float64)"
   ]
  },
  {
   "cell_type": "code",
   "execution_count": null,
   "id": "39b587b1-94b0-4ed8-b64b-1d01a504fd1c",
   "metadata": {},
   "outputs": [],
   "source": [
    "# Array([-2247.905],"
   ]
  },
  {
   "cell_type": "code",
   "execution_count": null,
   "id": "5c976571-141e-4f0e-a9b8-779413a0d595",
   "metadata": {},
   "outputs": [],
   "source": [
    "# Array([-2249.392]"
   ]
  }
 ],
 "metadata": {
  "kernelspec": {
   "display_name": "Python 3 (ipykernel)",
   "language": "python",
   "name": "python3"
  },
  "language_info": {
   "codemirror_mode": {
    "name": "ipython",
    "version": 3
   },
   "file_extension": ".py",
   "mimetype": "text/x-python",
   "name": "python",
   "nbconvert_exporter": "python",
   "pygments_lexer": "ipython3",
   "version": "3.11.5"
  }
 },
 "nbformat": 4,
 "nbformat_minor": 5
}
