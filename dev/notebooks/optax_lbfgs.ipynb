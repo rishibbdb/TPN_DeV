{
 "cells": [
  {
   "cell_type": "code",
   "execution_count": 1,
   "id": "5d5e175b-8af6-4d77-94b2-5c48676fb7fb",
   "metadata": {},
   "outputs": [],
   "source": [
    "import sys, os\n",
    "sys.path.insert(0, \"/home/storage/hans/jax_reco_new/\")\n",
    "os.environ['CUDA_VISIBLE_DEVICES'] = '0'\n",
    "os.environ['XLA_FLAGS'] = \"--xla_disable_hlo_passes=constant_folding\"\n",
    "\n",
    "from tensorflow_probability.substrates import jax as tfp\n",
    "\n",
    "import jax.numpy as jnp\n",
    "import jax\n",
    "jax.config.update(\"jax_enable_x64\", True)\n",
    "import optimistix as optx\n",
    "\n",
    "import pandas as pd\n",
    "import numpy as np\n",
    "import matplotlib.pyplot as plt\n",
    "import matplotlib as mpl\n",
    "\n",
    "import optax\n",
    "import optax.tree_utils as otu"
   ]
  },
  {
   "cell_type": "code",
   "execution_count": 2,
   "id": "bb01f2b3-0893-4e7b-95d1-79f0f7ae8a5b",
   "metadata": {},
   "outputs": [],
   "source": [
    "# TriplePandelSPE/JAX stuff\n",
    "from lib.simdata_i3 import I3SimHandler\n",
    "from lib.geo import center_track_pos_and_time_based_on_data\n",
    "#from lib.smaller_network_eqx import get_network_eval_v_fn\n",
    "from lib.smallest_network_eqx import get_network_eval_v_fn\n",
    "from dom_track_eval import get_eval_network_doms_and_track\n",
    "#from likelihood_mpe_w_noise import get_neg_c_triple_gamma_llh\n",
    "#from likelihood_spe_w_noise_logsumexp import get_neg_c_triple_gamma_llh\n",
    "#from likelihood_conv_mpe_w_noise_logsumexp import get_neg_c_triple_gamma_llh\n",
    "#from likelihood_conv_mpe_w_noise import get_neg_c_triple_gamma_llh\n",
    "#from likelihood_conv_spe_w_noise import get_neg_c_triple_gamma_llh\n",
    "from likelihood_conv_spe_w_noise_logsumexp import get_neg_c_triple_gamma_llh\n",
    "from palettable.cubehelix import Cubehelix\n",
    "cx =Cubehelix.make(start=0.3, rotation=-0.5, n=16, reverse=True, gamma=1.0,\n",
    "                           max_light=1.0,max_sat=0.5, min_sat=1.4).get_mpl_colormap()\n",
    "\n",
    "import time"
   ]
  },
  {
   "cell_type": "code",
   "execution_count": 3,
   "id": "168ba79b-7ec7-4304-b8fb-aaf11c00fdc9",
   "metadata": {},
   "outputs": [],
   "source": [
    "# Number of scan points on 1D\n",
    "n_eval = 50 # making it a 20x20 grid\n",
    "\n",
    "# Scan range (truth +/- dzen, +/- dazi)\n",
    "dzen = 0.2 # rad\n",
    "dazi = 0.2 # rad\n",
    "\n",
    "#dzen = 0.05\n",
    "#dazi = 0.05\n",
    "\n",
    "# Event Index.\n",
    "event_index = 4\n",
    "\n",
    "# Get network and eval logic.\n",
    "dtype = jnp.float64\n",
    "#eval_network_v = get_network_eval_v_fn(bpath='/home/storage/hans/jax_reco_new/data/smaller_network_eqx/tpn_smallest_default_tree_start_epoch_192', dtype=jnp.float64)\n",
    "eval_network_v = get_network_eval_v_fn(bpath='/home/storage/hans/photondata/large_table_training/all_time_bins/no_penalties/cache/tpn_smallest_default_only_4_layers_48_no_penalties_large_dataset_tree_start_epoch_50', dtype=jnp.float64)\n",
    "eval_network_doms_and_track = get_eval_network_doms_and_track(eval_network_v, dtype=jnp.float64)"
   ]
  },
  {
   "cell_type": "code",
   "execution_count": 4,
   "id": "8761151d-8f9f-4299-968c-a4117c8ea81e",
   "metadata": {},
   "outputs": [
    {
     "name": "stdout",
     "output_type": "stream",
     "text": [
      "muon energy: 6.2 TeV\n",
      "n_doms 45\n"
     ]
    }
   ],
   "source": [
    "# Get an IceCube event.\n",
    "bp = '/home/storage2/hans/i3files/21217'\n",
    "\n",
    "sim_handler = I3SimHandler(os.path.join(bp, 'meta_ds_21217_from_35000_to_53530.ftr'),\n",
    "                              os.path.join(bp, 'pulses_ds_21217_from_35000_to_53530.ftr'),\n",
    "                              '/home/storage/hans/jax_reco_new/data/icecube/detector_geometry.csv')\n",
    "\n",
    "meta, pulses = sim_handler.get_event_data(event_index)\n",
    "print(f\"muon energy: {meta['muon_energy_at_detector']/1.e3:.1f} TeV\")\n",
    "\n",
    "# Get dom locations, first hit times, and total charges (for each dom).\n",
    "event_data = sim_handler.get_per_dom_summary_from_sim_data(meta, pulses)\n",
    "\n",
    "print(\"n_doms\", len(event_data))"
   ]
  },
  {
   "cell_type": "code",
   "execution_count": 5,
   "id": "5371abe1-43ae-4e27-944a-d08f682b3435",
   "metadata": {},
   "outputs": [
    {
     "name": "stdout",
     "output_type": "stream",
     "text": [
      "original seed vertex: [  -65.71173861  1800.82339061 -1057.15159503]\n",
      "shifted seed vertex: [ 407.88112043  162.47186024 -234.15666758]\n"
     ]
    }
   ],
   "source": [
    "# Make MCTruth seed.\n",
    "track_pos = jnp.array([meta['muon_pos_x'], meta['muon_pos_y'], meta['muon_pos_z']])\n",
    "track_time = meta['muon_time']\n",
    "track_zenith = meta['muon_zenith']\n",
    "track_azimuth = meta['muon_azimuth']\n",
    "track_src = jnp.array([track_zenith, track_azimuth])\n",
    "\n",
    "print(\"original seed vertex:\", track_pos)\n",
    "centered_track_pos, centered_track_time = center_track_pos_and_time_based_on_data(event_data, track_pos, track_time, track_src)\n",
    "print(\"shifted seed vertex:\", centered_track_pos)"
   ]
  },
  {
   "cell_type": "code",
   "execution_count": 6,
   "id": "05500898-e8f7-40fa-91ea-7e7eacf6f86c",
   "metadata": {},
   "outputs": [
    {
     "name": "stdout",
     "output_type": "stream",
     "text": [
      "(45, 5)\n",
      "582.5347228823791\n"
     ]
    }
   ],
   "source": [
    "# Clip charge and combine into single data tensor for fitting.\n",
    "fitting_event_data = jnp.array(event_data[['x', 'y', 'z', 'time', 'charge']].to_numpy())\n",
    "print(fitting_event_data.shape)\n",
    "\n",
    "# Setup likelihood\n",
    "neg_llh = get_neg_c_triple_gamma_llh(eval_network_doms_and_track)\n",
    "print(neg_llh(track_src, centered_track_pos, centered_track_time, fitting_event_data))\n",
    "negllh_time_v = jax.vmap(neg_llh, (None, None, 0, None), 0)"
   ]
  },
  {
   "cell_type": "code",
   "execution_count": 7,
   "id": "70e199f7-db8b-47de-ba49-6d6b6499a796",
   "metadata": {},
   "outputs": [],
   "source": [
    "scale = 30.0\n",
    "scale_rad = 30.0\n",
    "\n",
    "@jax.jit\n",
    "def neg_llh_5D(x, args):\n",
    "        # project back if outside of [0, pi] x [0, 2*pi]\n",
    "        zenith = x[0] / scale_rad\n",
    "        azimuth = x[1] / scale_rad\n",
    "        zenith = jnp.fmod(zenith, 2.0*jnp.pi)\n",
    "        zenith = jnp.where(zenith < 0, zenith+2.0*jnp.pi, zenith)\n",
    "        cond = zenith > jnp.pi\n",
    "        zenith = jnp.where(cond, -1.0*zenith+2.0*jnp.pi, zenith)\n",
    "        azimuth = jnp.where(cond, azimuth-jnp.pi, azimuth)\n",
    "\n",
    "        azimuth = jnp.fmod(azimuth, 2.0*jnp.pi)\n",
    "        azimuth = jnp.where(azimuth < 0, azimuth+2.0*jnp.pi, azimuth)\n",
    "\n",
    "        projected_dir = jnp.array([zenith, azimuth])\n",
    "        return neg_llh(projected_dir, x[2:]*scale, centered_track_time, fitting_event_data)"
   ]
  },
  {
   "cell_type": "code",
   "execution_count": 8,
   "id": "f1cd0bd4-c7d4-4ddf-b470-24f5c8fca831",
   "metadata": {},
   "outputs": [
    {
     "name": "stdout",
     "output_type": "stream",
     "text": [
      "[60.83999487 55.21720983 13.48492564  5.3453027  -7.84005184]\n",
      "582.5347228823791\n",
      "[60.83999493 55.21720977 13.48492562  5.34530271 -7.84005183]\n"
     ]
    }
   ],
   "source": [
    "def optax_fun(x):\n",
    "    return neg_llh_5D(x, None)\n",
    "\n",
    "@jax.jit\n",
    "def run_opt(init_params, max_iter, tol):\n",
    "  fun = optax_fun\n",
    "  value_and_grad_fun = optax.value_and_grad_from_state(fun)\n",
    "\n",
    "  def step(carry):\n",
    "    params, state = carry\n",
    "    value, grad = value_and_grad_fun(params, state=state)\n",
    "    updates, state = opt.update(\n",
    "        grad, state, params, value=value, grad=grad, value_fn=fun\n",
    "    )\n",
    "    params = optax.apply_updates(params, updates)\n",
    "    return params, state\n",
    "\n",
    "  def continuing_criterion(carry):\n",
    "    _, state = carry\n",
    "    iter_num = otu.tree_get(state, 'count')\n",
    "    grad = otu.tree_get(state, 'grad')\n",
    "    err = otu.tree_l2_norm(grad)\n",
    "    return (iter_num == 0) | ((iter_num < max_iter) & (err >= tol))\n",
    "\n",
    "  init_carry = (init_params, opt.init(init_params))\n",
    "  final_params, final_state = jax.lax.while_loop(\n",
    "      continuing_criterion, step, init_carry\n",
    "  )\n",
    "  return final_params, final_state\n",
    "\n",
    "opt = optax.lbfgs()\n",
    "solver = optx.BFGS(rtol=1e-10, atol=1e-10, use_inverse=True)\n",
    "\n",
    "x0 = jnp.concatenate([track_src*scale_rad, centered_track_pos/scale])\n",
    "\n",
    "best_x_optx = optx.minimise(neg_llh_5D, solver, x0, throw=False).value\n",
    "print(best_x_optx)\n",
    "\n",
    "print(neg_llh_5D(x0, None))\n",
    "best_x, _ = run_opt(x0, max_iter=jnp.array(100), tol=jnp.array(1e-5))\n",
    "print(best_x)"
   ]
  },
  {
   "cell_type": "code",
   "execution_count": 9,
   "id": "4dd5138a-060d-4b3f-809b-6c01e1b02d03",
   "metadata": {},
   "outputs": [],
   "source": [
    "@jax.jit\n",
    "def fun(x0):\n",
    "    return optx.minimise(neg_llh_5D, solver, x0, throw=False).value"
   ]
  },
  {
   "cell_type": "code",
   "execution_count": 10,
   "id": "65774109-357e-4435-9309-a222916790b2",
   "metadata": {},
   "outputs": [
    {
     "data": {
      "text/plain": [
       "Array([60.83999487, 55.21720983, 13.48492564,  5.3453027 , -7.84005184],      dtype=float64)"
      ]
     },
     "execution_count": 10,
     "metadata": {},
     "output_type": "execute_result"
    }
   ],
   "source": [
    "fun(x0)"
   ]
  },
  {
   "cell_type": "code",
   "execution_count": 11,
   "id": "35e20735-8bc1-4e8f-9809-501174eda515",
   "metadata": {},
   "outputs": [
    {
     "name": "stdout",
     "output_type": "stream",
     "text": [
      "14.6 ms ± 14.7 μs per loop (mean ± std. dev. of 7 runs, 100 loops each)\n"
     ]
    }
   ],
   "source": [
    "%timeit fun(x0)"
   ]
  },
  {
   "cell_type": "code",
   "execution_count": 12,
   "id": "904bc0cf-29e3-4c0d-a626-6b67b22794c1",
   "metadata": {},
   "outputs": [
    {
     "name": "stdout",
     "output_type": "stream",
     "text": [
      "15.3 ms ± 34.5 μs per loop (mean ± std. dev. of 7 runs, 100 loops each)\n"
     ]
    }
   ],
   "source": [
    "%timeit run_opt(x0, max_iter=jnp.array(100), tol=jnp.array(1e-5))"
   ]
  },
  {
   "cell_type": "code",
   "execution_count": 13,
   "id": "6f7d729d-0f8c-4f75-87f4-1db217f7fc14",
   "metadata": {},
   "outputs": [
    {
     "name": "stdout",
     "output_type": "stream",
     "text": [
      "582.5347228823791\n",
      "[13.55916933  5.29568496 -7.87409105]\n"
     ]
    }
   ],
   "source": [
    "def neg_llh_3D(x, args):\n",
    "    track_dir = args[:2]\n",
    "    track_time = args[2]\n",
    "    return neg_llh(track_dir, x*scale, track_time, fitting_event_data)\n",
    "\n",
    "@jax.jit\n",
    "def run_opt(init_params, args, max_iter, tol):\n",
    "  fun = neg_llh_3D\n",
    "  value_and_grad_fun = optax.value_and_grad_from_state(fun)\n",
    "\n",
    "  def step(carry):\n",
    "    params, state = carry\n",
    "    value, grad = value_and_grad_fun(params, args, state=state)\n",
    "    updates, state = opt.update(\n",
    "        grad, state, params, value=value, grad=grad, value_fn=fun, args=args\n",
    "    )\n",
    "    params = optax.apply_updates(params, updates)\n",
    "    return params, state\n",
    "\n",
    "  def continuing_criterion(carry):\n",
    "    _, state = carry\n",
    "    iter_num = otu.tree_get(state, 'count')\n",
    "    grad = otu.tree_get(state, 'grad')\n",
    "    err = otu.tree_l2_norm(grad)\n",
    "    return (iter_num == 0) | ((iter_num < max_iter) & (err >= tol))\n",
    "\n",
    "  init_carry = (init_params, opt.init(init_params))\n",
    "  final_params, final_state = jax.lax.while_loop(\n",
    "      continuing_criterion, step, init_carry\n",
    "  )\n",
    "  return final_params, final_state\n",
    "\n",
    "opt = optax.lbfgs()\n",
    "\n",
    "x0 = jnp.concatenate([centered_track_pos/scale])\n",
    "args = jnp.concatenate([track_src, jnp.expand_dims(centered_track_time, axis=0)])\n",
    "\n",
    "\n",
    "print(neg_llh_3D(x0, args))\n",
    "best_x, _ = run_opt(x0, args, max_iter=jnp.array(100), tol=jnp.array(1e-3))\n",
    "print(best_x)"
   ]
  },
  {
   "cell_type": "code",
   "execution_count": 14,
   "id": "db3b88ae-58d8-4dca-8cd4-9918e475bd32",
   "metadata": {},
   "outputs": [
    {
     "data": {
      "text/plain": [
       "Array([2.02040598, 1.85219263], dtype=float64)"
      ]
     },
     "execution_count": 14,
     "metadata": {},
     "output_type": "execute_result"
    }
   ],
   "source": [
    "track_src"
   ]
  },
  {
   "cell_type": "code",
   "execution_count": 15,
   "id": "5e812cdc-b1eb-4c45-a686-73d57dc67305",
   "metadata": {},
   "outputs": [],
   "source": [
    "def run_3D(track_dir, track_time):\n",
    "    args = jnp.concatenate([track_dir, jnp.expand_dims(track_time, axis=0)])\n",
    "    values, _ = run_opt(x0, args, max_iter=jnp.array(100), tol=jnp.array(1e-3))\n",
    "    return neg_llh_3D(values, args), values * scale"
   ]
  },
  {
   "cell_type": "code",
   "execution_count": 16,
   "id": "8810e603-e3ab-4e31-8933-482583162477",
   "metadata": {},
   "outputs": [
    {
     "data": {
      "text/plain": [
       "(Array(578.41021303, dtype=float64),\n",
       " Array([ 406.77507994,  158.87054894, -236.22273154], dtype=float64))"
      ]
     },
     "execution_count": 16,
     "metadata": {},
     "output_type": "execute_result"
    }
   ],
   "source": [
    "run_3D(track_src, centered_track_time)"
   ]
  },
  {
   "cell_type": "code",
   "execution_count": 17,
   "id": "b95232d2-3bf0-4caa-9caf-ba1f16ef9b03",
   "metadata": {},
   "outputs": [
    {
     "data": {
      "text/plain": [
       "Array([ 407.88112043,  162.47186024, -234.15666758], dtype=float64)"
      ]
     },
     "execution_count": 17,
     "metadata": {},
     "output_type": "execute_result"
    }
   ],
   "source": [
    "centered_track_pos"
   ]
  },
  {
   "cell_type": "code",
   "execution_count": 18,
   "id": "2b2f6026-15cf-4f8c-962e-558f44f2ea56",
   "metadata": {},
   "outputs": [],
   "source": [
    "run_3D_v = jax.jit(jax.vmap(run_3D, (0, 0), (0, 0)))"
   ]
  },
  {
   "cell_type": "code",
   "execution_count": 19,
   "id": "83eae4a9-ef6d-40b8-aa45-12e5c9b29791",
   "metadata": {},
   "outputs": [
    {
     "name": "stdout",
     "output_type": "stream",
     "text": [
      "done w timebatch:  0\n",
      "done w timebatch:  1\n",
      "done w timebatch:  2\n",
      "done w timebatch:  3\n",
      "done w timebatch:  4\n",
      "done w timebatch:  5\n",
      "done w timebatch:  6\n",
      "done w timebatch:  7\n",
      "done w timebatch:  8\n",
      "done w timebatch:  9\n",
      "done w timebatch:  10\n",
      "done w timebatch:  11\n",
      "done w timebatch:  12\n",
      "done w timebatch:  13\n",
      "done w timebatch:  14\n",
      "done w timebatch:  15\n",
      "done w timebatch:  16\n",
      "done w timebatch:  17\n",
      "done w timebatch:  18\n",
      "done w timebatch:  19\n",
      "extraction of init times for grid took 2.8s.\n"
     ]
    }
   ],
   "source": [
    "zenith = jnp.linspace(track_src[0]-dzen, track_src[0]+dazi, n_eval)\n",
    "azimuth = jnp.linspace(track_src[1]-dzen, track_src[1]+dazi, n_eval)\n",
    "X, Y = jnp.meshgrid(zenith, azimuth)\n",
    "init_dirs = jnp.column_stack([X.flatten(), Y.flatten()])\n",
    "\n",
    "dt = 500.\n",
    "tv = jnp.linspace(centered_track_time - dt, centered_track_time + 100, 200)\n",
    "\n",
    "@jax.jit\n",
    "def get_track_time(track_dir):\n",
    "    llh = negllh_time_v(track_dir, centered_track_pos, tv, fitting_event_data)\n",
    "    ix = jnp.argmin(llh, axis=0)\n",
    "    return ix\n",
    "\n",
    "get_track_time_v = jax.jit(jax.vmap(get_track_time, 0, 0))\n",
    "\n",
    "tic = time.time()\n",
    "n_splits = 20\n",
    "_init_dirs = init_dirs.reshape((n_splits, init_dirs.shape[0]//n_splits , init_dirs.shape[1]))\n",
    "indices = []\n",
    "for i, x in enumerate(_init_dirs):\n",
    "    print(\"done w timebatch: \", i)\n",
    "    indices.append(get_track_time_v(x))\n",
    "\n",
    "indices = jnp.concatenate(indices)\n",
    "init_times = jnp.take_along_axis(tv, indices, axis=0)\n",
    "toc = time.time()\n",
    "print(f\"extraction of init times for grid took {toc-tic:.1f}s.\")"
   ]
  },
  {
   "cell_type": "code",
   "execution_count": 54,
   "id": "e6b1be8b-d11f-4d27-bec2-f1a4bc65fe89",
   "metadata": {},
   "outputs": [
    {
     "data": {
      "text/plain": [
       "[<matplotlib.lines.Line2D at 0x7affdc1073d0>]"
      ]
     },
     "execution_count": 54,
     "metadata": {},
     "output_type": "execute_result"
    },
    {
     "data": {
      "image/png": "[encoded data removed]",
      "text/plain": [
       "<Figure size 640x480 with 1 Axes>"
      ]
     },
     "metadata": {},
     "output_type": "display_data"
    }
   ],
   "source": [
    "tv2 = jnp.linspace(centered_track_time - dt, centered_track_time + 100, 500)\n",
    "\n",
    "llh = negllh_time_v(track_src, centered_track_pos, tv2, fitting_event_data)\n",
    "plt.plot(tv2, llh, \"r-\")\n",
    "#plt.scatter(tv ,llh, marker='o', s=5, color='k')"
   ]
  },
  {
   "cell_type": "code",
   "execution_count": 55,
   "id": "1a4252d0-5779-432d-b3c1-610fc3ceb068",
   "metadata": {},
   "outputs": [
    {
     "data": {
      "text/plain": [
       "[<matplotlib.lines.Line2D at 0x7affdc16fe10>]"
      ]
     },
     "execution_count": 55,
     "metadata": {},
     "output_type": "execute_result"
    },
    {
     "data": {
      "image/png": "[encoded data removed]",
      "text/plain": [
       "<Figure size 640x480 with 1 Axes>"
      ]
     },
     "metadata": {},
     "output_type": "display_data"
    }
   ],
   "source": [
    "llh = negllh_time_v(jnp.array([jnp.deg2rad(125), jnp.deg2rad(115)]), centered_track_pos, tv2, fitting_event_data)\n",
    "plt.plot(tv2, llh, \"r-\")\n",
    "#plt.scatter(tv ,llh, marker='o', s=5, color='k')"
   ]
  },
  {
   "cell_type": "code",
   "execution_count": 56,
   "id": "185f3111-3dc3-488b-8560-4da8b34c0883",
   "metadata": {},
   "outputs": [
    {
     "data": {
      "text/plain": [
       "[<matplotlib.lines.Line2D at 0x7affdc1d0950>]"
      ]
     },
     "execution_count": 56,
     "metadata": {},
     "output_type": "execute_result"
    },
    {
     "data": {
      "image/png": "[encoded data removed]",
      "text/plain": [
       "<Figure size 640x480 with 1 Axes>"
      ]
     },
     "metadata": {},
     "output_type": "display_data"
    }
   ],
   "source": [
    "llh = negllh_time_v(jnp.array([jnp.deg2rad(105), jnp.deg2rad(115)]), centered_track_pos, tv2, fitting_event_data)\n",
    "plt.plot(tv2, llh, \"r-\")\n",
    "#plt.scatter(tv ,llh, marker='o', s=5, color='k')"
   ]
  },
  {
   "cell_type": "code",
   "execution_count": 57,
   "id": "d692e294-5f7c-4cb1-8877-cc51a1dbce9e",
   "metadata": {},
   "outputs": [
    {
     "data": {
      "text/plain": [
       "[<matplotlib.lines.Line2D at 0x7affdc01bcd0>]"
      ]
     },
     "execution_count": 57,
     "metadata": {},
     "output_type": "execute_result"
    },
    {
     "data": {
      "image/png": "[encoded data removed]",
      "text/plain": [
       "<Figure size 640x480 with 1 Axes>"
      ]
     },
     "metadata": {},
     "output_type": "display_data"
    }
   ],
   "source": [
    "llh = negllh_time_v(jnp.array([jnp.deg2rad(105), jnp.deg2rad(110)]), centered_track_pos, tv2, fitting_event_data)\n",
    "plt.plot(tv2, llh, \"r-\")\n",
    "#plt.scatter(tv ,llh, marker='o', s=5, color='k')"
   ]
  },
  {
   "cell_type": "code",
   "execution_count": 22,
   "id": "f341d6e2-85b2-4560-b3aa-20c9a402d6da",
   "metadata": {},
   "outputs": [
    {
     "name": "stdout",
     "output_type": "stream",
     "text": [
      "-0.5025125628126261\n",
      "349.24623115577924\n"
     ]
    }
   ],
   "source": [
    "print(jnp.min(centered_track_time - init_times))\n",
    "print(jnp.max(centered_track_time - init_times))"
   ]
  },
  {
   "cell_type": "code",
   "execution_count": 23,
   "id": "3615dd33-4953-4250-9b71-28c004d2bf69",
   "metadata": {},
   "outputs": [
    {
     "name": "stdout",
     "output_type": "stream",
     "text": [
      "jit + reco of grid took 80.7s.\n"
     ]
    }
   ],
   "source": [
    "tic = time.time()\n",
    "logls, sol_pos = run_3D_v(init_dirs, init_times)\n",
    "toc = time.time()\n",
    "print(f\"jit + reco of grid took {toc-tic:.1f}s.\")"
   ]
  },
  {
   "cell_type": "code",
   "execution_count": 24,
   "id": "633084c7-744e-4771-aa3b-3f2b5e55e7ce",
   "metadata": {},
   "outputs": [
    {
     "name": "stdout",
     "output_type": "stream",
     "text": [
      "(2500, 2) (2500,)\n"
     ]
    }
   ],
   "source": [
    "print(init_dirs.shape, init_times.shape)"
   ]
  },
  {
   "cell_type": "code",
   "execution_count": 25,
   "id": "7e1cc02a-cb8d-475f-b172-359e169fa42b",
   "metadata": {},
   "outputs": [
    {
     "name": "stdout",
     "output_type": "stream",
     "text": [
      "[649.88606592 648.5645868  647.26475295 ... 676.28947199 677.71804192\n",
      " 679.08194119]\n",
      "[[ 412.70107193  171.91153208 -280.0428905 ]\n",
      " [ 412.06094131  170.50485503 -279.12729777]\n",
      " [ 411.34746912  169.10832672 -278.06349655]\n",
      " ...\n",
      " [ 430.17062187  206.86945326 -243.21105819]\n",
      " [ 431.98497107  207.37436729 -243.51111024]\n",
      " [ 434.41193407  207.71652172 -243.66338125]]\n"
     ]
    }
   ],
   "source": [
    "print(logls)\n",
    "print(sol_pos)"
   ]
  },
  {
   "cell_type": "code",
   "execution_count": 26,
   "id": "b76d85ec-2056-4331-b320-ae81f7cd2a1b",
   "metadata": {},
   "outputs": [
    {
     "name": "stdout",
     "output_type": "stream",
     "text": [
      "389.122518407769\n"
     ]
    }
   ],
   "source": [
    "print(jnp.min(sol_pos[:, 0]))"
   ]
  },
  {
   "cell_type": "code",
   "execution_count": 27,
   "id": "86978c5d-3af7-44d2-90b9-9d8a276a2f27",
   "metadata": {},
   "outputs": [
    {
     "name": "stdout",
     "output_type": "stream",
     "text": [
      "446.7461675924533\n"
     ]
    }
   ],
   "source": [
    "print(jnp.max(sol_pos[:, 0]))"
   ]
  },
  {
   "cell_type": "code",
   "execution_count": 28,
   "id": "a4de9af9-1153-47cf-92f6-10c1da14f61a",
   "metadata": {},
   "outputs": [
    {
     "data": {
      "image/png": "[encoded data removed]",
      "text/plain": [
       "<Figure size 640x480 with 2 Axes>"
      ]
     },
     "metadata": {},
     "output_type": "display_data"
    }
   ],
   "source": [
    "logls = logls.reshape(X.shape)\n",
    "\n",
    "fig, ax = plt.subplots()\n",
    "min_logl = np.amin(logls)\n",
    "delta_logl = logls - np.amin(logls)\n",
    "pc = ax.pcolormesh(np.rad2deg(X), np.rad2deg(Y), delta_logl, vmin=0, vmax=np.min([500, 1.2*np.amax(delta_logl)]), shading='auto', cmap=cx)\n",
    "cbar = fig.colorbar(pc)\n",
    "cbar.ax.tick_params(labelsize=16)\n",
    "cbar.ax.get_yaxis().labelpad = 5\n",
    "cbar.set_label(\"-2$\\\\Delta$log $L_{MPE}$\", fontsize=20)\n",
    "cbar.outline.set_linewidth(1.5)\n",
    "\n",
    "ax.set_xlabel(\"zenith [deg]\", fontsize=16)\n",
    "ax.set_ylabel(\"azimuth [deg]\", fontsize=16)\n",
    "ax.set_xlim(np.rad2deg([track_src[0]-dzen, track_src[0]+dzen]))\n",
    "ax.set_ylim(np.rad2deg([track_src[1]-dazi, track_src[1]+dazi]))\n",
    "ax.tick_params(axis='both', which='both', width=1.5, colors='0.0', labelsize=16)\n",
    "\n",
    "ax.scatter(np.rad2deg(track_src[0]), np.rad2deg(track_src[1]), marker=\"*\", color='red', label=\"truth\", zorder=200)\n",
    "\n",
    "smpe_zenith = meta['spline_mpe_zenith']\n",
    "smpe_azimuth = meta['spline_mpe_azimuth']\n",
    "ax.scatter(np.rad2deg([smpe_zenith]), np.rad2deg([smpe_azimuth]), marker=\"x\", color='lime', label='splineMPE')\n",
    "\n",
    "zenith = best_x[0] / scale_rad\n",
    "azimuth = best_x[1] / scale_rad\n",
    "ax.scatter(np.rad2deg(zenith), np.rad2deg(azimuth), marker='+', color='magenta', label='bfgs')\n",
    "\n",
    "contours = [4.61]\n",
    "ix1, ix2 = np.where(delta_logl==0)\n",
    "ax.scatter(np.rad2deg([X[ix1, ix2]]), np.rad2deg([Y[ix1, ix2]]), s=50, marker='o', facecolors='none', edgecolors='khaki', zorder=100., label='grid min')\n",
    "ct = plt.contour(np.rad2deg(X), np.rad2deg(Y), delta_logl, levels=contours, linestyles=['solid'], colors=['khaki'], linewidths=1.0)\n",
    "\n",
    "plt.legend()\n",
    "plt.tight_layout()\n",
    "plt.show()"
   ]
  },
  {
   "cell_type": "code",
   "execution_count": 29,
   "id": "9ba7a67b-7bd5-4833-9f5e-ae885975c17c",
   "metadata": {},
   "outputs": [
    {
     "data": {
      "text/plain": [
       "(Array(578.41021303, dtype=float64),\n",
       " Array([ 406.77507994,  158.87054894, -236.22273154], dtype=float64))"
      ]
     },
     "execution_count": 29,
     "metadata": {},
     "output_type": "execute_result"
    }
   ],
   "source": [
    "run_3D(track_src, centered_track_time)"
   ]
  },
  {
   "cell_type": "code",
   "execution_count": 30,
   "id": "a514226e-5198-43d3-bed7-757cc296d939",
   "metadata": {},
   "outputs": [
    {
     "data": {
      "text/plain": [
       "Array([ 407.88112043,  162.47186024, -234.15666758], dtype=float64)"
      ]
     },
     "execution_count": 30,
     "metadata": {},
     "output_type": "execute_result"
    }
   ],
   "source": [
    "centered_track_pos"
   ]
  },
  {
   "cell_type": "code",
   "execution_count": 31,
   "id": "41dbff1d-53b9-4a28-96cb-4ef794da8304",
   "metadata": {},
   "outputs": [],
   "source": [
    "def run_3D_optx(track_dir, track_time):\n",
    "    args = jnp.concatenate([track_dir, jnp.expand_dims(track_time, axis=0)])\n",
    "    values = optx.minimise(neg_llh_3D, solver, x0, args=args, throw=False).value\n",
    "    return neg_llh_3D(values, args), values * scale\n",
    "\n",
    "run_3D_optx_v = jax.jit(jax.vmap(run_3D_optx, 0, (0, 0)))"
   ]
  },
  {
   "cell_type": "code",
   "execution_count": 32,
   "id": "b57b205e-3291-431e-a719-d17553e73bb8",
   "metadata": {},
   "outputs": [
    {
     "name": "stdout",
     "output_type": "stream",
     "text": [
      "jit + reco of grid took 8.3s.\n"
     ]
    }
   ],
   "source": [
    "tic = time.time()\n",
    "logls_optx, sol_pos_optx = run_3D_optx_v(init_dirs, init_times)\n",
    "toc = time.time()\n",
    "print(f\"jit + reco of grid took {toc-tic:.1f}s.\")\n"
   ]
  },
  {
   "cell_type": "code",
   "execution_count": 33,
   "id": "05d9f67d-38fa-4f16-8264-b5647bc9b97e",
   "metadata": {},
   "outputs": [],
   "source": [
    "dx = jnp.linalg.norm(sol_pos - sol_pos_optx, axis=1)\n",
    "ix = dx > 10"
   ]
  },
  {
   "cell_type": "code",
   "execution_count": 34,
   "id": "64a5bb10-f7f9-450c-b41a-d0a5f5fcbe14",
   "metadata": {},
   "outputs": [
    {
     "name": "stdout",
     "output_type": "stream",
     "text": [
      "[-2.81958022e+01 -1.29795669e+01 -9.71050982e+00 -9.19162162e+00\n",
      " -8.58233700e+00 -8.14716726e+00 -7.87925479e+00 -4.21768904e+00\n",
      " -4.01681577e+00 -3.98165378e+00 -3.91068007e+00 -3.87491421e+00\n",
      " -3.80944439e+00 -3.41550894e+00 -2.94607574e+00 -2.94145037e+00\n",
      " -2.59834418e+00 -2.51652584e+00 -2.04478002e+00 -1.81123786e+00\n",
      " -1.67668988e+00 -1.60838354e+00 -1.56500375e+00 -1.55675000e+00\n",
      " -1.50499808e+00 -1.20123445e+00 -1.17521165e+00 -1.03505375e+00\n",
      " -9.95510084e-01 -9.56386325e-01 -9.19536177e-01 -9.11806314e-01\n",
      " -7.66768197e-01 -7.12552867e-01 -6.94592921e-01 -6.79395256e-01\n",
      " -6.57952920e-01 -6.30034878e-01 -5.70099690e-01 -5.59484039e-01\n",
      " -4.99550254e-01 -4.83941530e-01 -4.70878740e-01 -3.53366053e-01\n",
      " -3.43148175e-01 -2.58160231e-01 -2.08554843e-01 -1.93823737e-01\n",
      " -1.80445207e-01 -1.54007549e-01 -1.14320856e-01 -1.07024563e-01\n",
      " -3.71761595e-02  1.48473212e-02  2.27386675e-02  3.82284381e-02\n",
      "  6.23207899e-02  7.75165907e-02  8.31445561e-02  1.93004391e-01\n",
      "  2.05307709e-01  2.13997796e-01  2.41939973e-01  2.45575182e-01\n",
      "  2.89971023e-01  3.21474058e-01  3.22702587e-01  3.83833426e-01\n",
      "  4.06795097e-01  4.67517799e-01  4.81263366e-01  5.10766808e-01\n",
      "  5.13153342e-01  5.28177666e-01  5.42294277e-01  5.50277685e-01\n",
      "  5.88696783e-01  5.89579737e-01  6.14214950e-01  6.45404382e-01\n",
      "  6.63256938e-01  6.75628408e-01  6.80273981e-01  7.34170981e-01\n",
      "  8.07382801e-01  8.47244437e-01  8.58406292e-01  8.76879126e-01\n",
      "  8.94547788e-01  8.99972551e-01  9.52814638e-01  9.69880219e-01\n",
      "  9.97388995e-01  1.03129879e+00  1.08057030e+00  1.11066295e+00\n",
      "  1.12388745e+00  1.14868618e+00  1.15790799e+00  1.15925774e+00\n",
      "  1.18547043e+00  1.20931857e+00  1.24634735e+00  1.25024527e+00\n",
      "  1.28131614e+00  1.30525157e+00  1.38364121e+00  1.38591721e+00\n",
      "  1.40924886e+00  1.41717676e+00  1.41729758e+00  1.43332439e+00\n",
      "  1.44878979e+00  1.46370620e+00  1.47414288e+00  1.51272050e+00\n",
      "  1.52849354e+00  1.53919656e+00  1.58748150e+00  1.61293333e+00\n",
      "  1.64676686e+00  1.65009564e+00  1.78083231e+00  1.78361655e+00\n",
      "  1.83482419e+00  1.85796206e+00  1.90743209e+00  1.92817119e+00\n",
      "  1.95228432e+00  2.01955427e+00  2.02015713e+00  2.02660461e+00\n",
      "  2.02836829e+00  2.08444250e+00  2.10475561e+00  2.13102086e+00\n",
      "  2.14365969e+00  2.15125892e+00  2.16714259e+00  2.18321668e+00\n",
      "  2.20787494e+00  2.21424493e+00  2.22740862e+00  2.26000682e+00\n",
      "  2.30659768e+00  2.34016131e+00  2.35429917e+00  2.39156965e+00\n",
      "  2.40343083e+00  2.41786579e+00  2.42211518e+00  2.45429087e+00\n",
      "  2.49132703e+00  2.52668937e+00  2.53334590e+00  2.53544404e+00\n",
      "  2.58571264e+00  2.58629341e+00  2.58917515e+00  2.59217131e+00\n",
      "  2.59797878e+00  2.60579095e+00  2.61217757e+00  2.65987800e+00\n",
      "  2.69631988e+00  2.71208057e+00  2.71762813e+00  2.75394062e+00\n",
      "  2.78889811e+00  2.79600364e+00  2.82157079e+00  2.82613801e+00\n",
      "  2.83558917e+00  2.83602913e+00  2.84736019e+00  2.85665201e+00\n",
      "  2.91055561e+00  2.92032710e+00  2.92500757e+00  2.93334931e+00\n",
      "  2.95638488e+00  2.96242727e+00  2.97571054e+00  2.97742060e+00\n",
      "  2.98839762e+00  2.98990713e+00  3.00961638e+00  3.03026151e+00\n",
      "  3.04377422e+00  3.06361825e+00  3.12024559e+00  3.12337120e+00\n",
      "  3.12947599e+00  3.16917915e+00  3.20609708e+00  3.31023908e+00\n",
      "  3.31951148e+00  3.31956385e+00  3.32375849e+00  3.33646368e+00\n",
      "  3.33933628e+00  3.34882271e+00  3.35519120e+00  3.35858869e+00\n",
      "  3.36204488e+00  3.39009194e+00  3.40734942e+00  3.43777386e+00\n",
      "  3.44488394e+00  3.48975794e+00  3.49960029e+00  3.50789077e+00\n",
      "  3.51030835e+00  3.54918026e+00  3.60806660e+00  3.65124843e+00\n",
      "  3.67149877e+00  3.69096114e+00  3.71605184e+00  3.80682795e+00\n",
      "  3.85733691e+00  3.86890150e+00  4.01556463e+00  4.02822958e+00\n",
      "  4.03444317e+00  4.05868132e+00  4.06533348e+00  4.06700325e+00\n",
      "  4.16131917e+00  4.18564238e+00  4.19375539e+00  4.19383916e+00\n",
      "  4.23263115e+00  4.25547857e+00  4.34399617e+00  4.46922955e+00\n",
      "  4.48145111e+00  4.51847099e+00  4.54097386e+00  4.56850802e+00\n",
      "  4.57649342e+00  4.59017888e+00  4.60735765e+00  4.67979359e+00\n",
      "  4.76569560e+00  4.93457820e+00  4.94517647e+00  5.00695588e+00\n",
      "  5.02738559e+00  5.05639470e+00  5.10178677e+00  5.22103335e+00\n",
      "  5.28616335e+00  5.28644926e+00  5.32792868e+00  5.53026925e+00\n",
      "  5.58876534e+00  5.58893664e+00  5.59211165e+00  5.61452942e+00\n",
      "  5.70256526e+00  5.73987807e+00  5.75278692e+00  5.79324143e+00\n",
      "  5.99205872e+00  6.02494477e+00  6.11062136e+00  6.17693967e+00\n",
      "  6.18836141e+00  6.37164949e+00  6.46879716e+00  6.56214668e+00\n",
      "  6.69065212e+00  6.78358912e+00  6.86033143e+00  6.95373814e+00\n",
      "  6.98805346e+00  7.01503922e+00  7.10261608e+00  7.10595666e+00\n",
      "  7.11292798e+00  7.31591161e+00  7.32776334e+00  7.56870181e+00\n",
      "  7.82044847e+00  7.87324314e+00  7.96120252e+00  7.97047218e+00\n",
      "  7.97435064e+00  7.99606798e+00  8.32820014e+00  8.35278219e+00\n",
      "  8.40808275e+00  8.67331498e+00  8.89618005e+00  8.94430771e+00\n",
      "  9.06886744e+00  9.25890862e+00  9.31395421e+00  9.53700216e+00\n",
      "  9.74271719e+00  9.80320141e+00  9.84689169e+00  1.01183817e+01\n",
      "  1.02365019e+01  1.05173114e+01  1.07443781e+01  1.08433358e+01\n",
      "  1.12522844e+01  1.13331647e+01  1.16711893e+01  1.79114288e+01\n",
      "  1.86629758e+01  2.42130097e+01  2.42269701e+01  2.42276468e+01\n",
      "  2.45832120e+01  2.45983693e+01  2.46042929e+01  2.46503859e+01\n",
      "  2.46576239e+01  2.47373169e+01  2.47394038e+01  2.48017648e+01\n",
      "  2.48592860e+01  2.48686185e+01  2.50459105e+01  2.50693250e+01\n",
      "  2.50732022e+01  2.50869921e+01  2.51061073e+01  2.51309961e+01\n",
      "  2.51617309e+01  2.51855808e+01  2.51869729e+01  2.51888827e+01\n",
      "  2.51984692e+01  2.52435353e+01  2.52641982e+01  2.53826722e+01\n",
      "  2.53933499e+01  2.54382748e+01  2.54900839e+01  2.56799502e+01\n",
      "  2.57286901e+01  2.57606486e+01  2.58446342e+01  2.59221526e+01\n",
      "  2.59458699e+01  2.59649380e+01  2.61394495e+01  2.62235292e+01\n",
      "  2.62608686e+01  2.63959550e+01  2.65611425e+01  2.66090931e+01\n",
      "  2.67009010e+01  2.67411296e+01  2.68702416e+01  2.71623071e+01\n",
      "  2.73153647e+01  2.73904076e+01  2.74417751e+01  2.75050508e+01\n",
      "  2.76028172e+01  2.76184142e+01  2.78735921e+01  2.80835565e+01\n",
      "  2.81785255e+01  2.81870683e+01  2.83597372e+01  2.84278976e+01\n",
      "  2.88542111e+01  2.88613723e+01  2.89190828e+01  2.90621115e+01\n",
      "  2.90726628e+01  2.91182480e+01  2.91938966e+01  2.93850138e+01\n",
      "  2.94215822e+01  2.95283562e+01  2.95361816e+01  2.96197778e+01\n",
      "  2.97589087e+01  2.98205818e+01  2.99236905e+01  2.99944211e+01\n",
      "  3.01338375e+01  3.01601514e+01  3.05911887e+01  3.37805471e+01\n",
      "  3.39071244e+01  3.46216896e+01  3.47264453e+01  3.52601919e+01\n",
      "  3.53143822e+01  3.56852625e+01  3.73044603e+01  3.78259455e+01\n",
      "  3.85049994e+01  4.18343063e+01  4.23611170e+01  4.24952642e+01\n",
      "  4.26607203e+01  4.26660592e+01  4.27252657e+01  4.28029274e+01\n",
      "  4.28251912e+01  4.29467707e+01  4.29886234e+01  4.30068715e+01\n",
      "  4.34524399e+01]\n"
     ]
    }
   ],
   "source": [
    "print(jnp.sort(logls.flatten()[ix]-logls_optx.flatten()[ix]))"
   ]
  },
  {
   "cell_type": "code",
   "execution_count": 35,
   "id": "3a1d665e-cc41-4e58-a43a-97e095dd5396",
   "metadata": {},
   "outputs": [
    {
     "data": {
      "text/plain": [
       "2500"
      ]
     },
     "execution_count": 35,
     "metadata": {},
     "output_type": "execute_result"
    }
   ],
   "source": [
    "len(init_dirs)"
   ]
  },
  {
   "cell_type": "code",
   "execution_count": 36,
   "id": "f9e40749-f604-4361-b609-e6a99aead655",
   "metadata": {},
   "outputs": [
    {
     "data": {
      "text/plain": [
       "Array([[1.97550802, 1.65219263],\n",
       "       [2.04897741, 1.65219263],\n",
       "       [2.15509986, 1.65219263],\n",
       "       [2.16326313, 1.65219263],\n",
       "       [2.17142639, 1.65219263],\n",
       "       [2.17958966, 1.65219263],\n",
       "       [2.18775292, 1.65219263],\n",
       "       [2.19591619, 1.65219263],\n",
       "       [1.97550802, 1.66035589],\n",
       "       [2.04897741, 1.66035589],\n",
       "       [2.05714068, 1.66035589],\n",
       "       [2.15509986, 1.66035589],\n",
       "       [2.16326313, 1.66035589],\n",
       "       [2.17142639, 1.66035589],\n",
       "       [2.17958966, 1.66035589],\n",
       "       [2.18775292, 1.66035589],\n",
       "       [2.19591619, 1.66035589],\n",
       "       [1.97550802, 1.66851916],\n",
       "       [2.04897741, 1.66851916],\n",
       "       [2.16326313, 1.66851916],\n",
       "       [2.17142639, 1.66851916],\n",
       "       [2.17958966, 1.66851916],\n",
       "       [2.18775292, 1.66851916],\n",
       "       [2.19591619, 1.66851916],\n",
       "       [1.97550802, 1.67668243],\n",
       "       [2.00816108, 1.67668243],\n",
       "       [2.17142639, 1.67668243],\n",
       "       [2.17958966, 1.67668243],\n",
       "       [2.18775292, 1.67668243],\n",
       "       [2.19591619, 1.67668243],\n",
       "       [2.17142639, 1.68484569],\n",
       "       [2.17958966, 1.68484569],\n",
       "       [2.18775292, 1.68484569],\n",
       "       [2.19591619, 1.68484569],\n",
       "       [2.17958966, 1.69300896],\n",
       "       [2.18775292, 1.69300896],\n",
       "       [2.19591619, 1.69300896],\n",
       "       [2.17958966, 1.70117222],\n",
       "       [2.18775292, 1.70117222],\n",
       "       [2.19591619, 1.70117222],\n",
       "       [2.18775292, 1.70933549],\n",
       "       [2.19591619, 1.70933549],\n",
       "       [2.18775292, 1.71749875],\n",
       "       [2.19591619, 1.71749875],\n",
       "       [2.18775292, 1.72566202],\n",
       "       [2.19591619, 1.72566202],\n",
       "       [2.18775292, 1.73382528],\n",
       "       [2.19591619, 1.73382528],\n",
       "       [2.18775292, 1.74198855],\n",
       "       [2.19591619, 1.74198855],\n",
       "       [2.19591619, 1.75015181],\n",
       "       [2.20407945, 1.75015181],\n",
       "       [2.19591619, 1.75831508],\n",
       "       [2.20407945, 1.75831508],\n",
       "       [2.19591619, 1.76647834],\n",
       "       [2.22040598, 1.76647834],\n",
       "       [2.21224272, 1.77464161],\n",
       "       [2.097957  , 1.79096814],\n",
       "       [2.14693659, 1.79096814],\n",
       "       [2.16326313, 1.79096814],\n",
       "       [1.82856925, 1.7991314 ],\n",
       "       [1.83673251, 1.7991314 ],\n",
       "       [2.15509986, 1.7991314 ],\n",
       "       [2.16326313, 1.7991314 ],\n",
       "       [2.17142639, 1.7991314 ],\n",
       "       [1.82856925, 1.80729467],\n",
       "       [1.83673251, 1.80729467],\n",
       "       [1.84489578, 1.80729467],\n",
       "       [1.85305904, 1.80729467],\n",
       "       [1.86122231, 1.80729467],\n",
       "       [2.10612027, 1.80729467],\n",
       "       [2.13877333, 1.80729467],\n",
       "       [2.14693659, 1.80729467],\n",
       "       [2.15509986, 1.80729467],\n",
       "       [1.82040598, 1.81545794],\n",
       "       [1.86122231, 1.81545794],\n",
       "       [2.13061006, 1.81545794],\n",
       "       [2.15509986, 1.81545794],\n",
       "       [2.17142639, 1.81545794],\n",
       "       [1.86122231, 1.8236212 ],\n",
       "       [1.86938557, 1.8236212 ],\n",
       "       [2.1224468 , 1.8236212 ],\n",
       "       [2.13061006, 1.8236212 ],\n",
       "       [2.16326313, 1.8236212 ],\n",
       "       [2.17142639, 1.8236212 ],\n",
       "       [1.86938557, 1.83178447],\n",
       "       [2.14693659, 1.83178447],\n",
       "       [2.20407945, 1.83178447],\n",
       "       [2.21224272, 1.83178447],\n",
       "       [1.86938557, 1.83994773],\n",
       "       [1.87754884, 1.83994773],\n",
       "       [2.20407945, 1.83994773],\n",
       "       [1.9102019 , 1.848111  ],\n",
       "       [2.19591619, 1.848111  ],\n",
       "       [2.20407945, 1.848111  ],\n",
       "       [2.21224272, 1.848111  ],\n",
       "       [1.86122231, 1.85627426],\n",
       "       [1.86938557, 1.85627426],\n",
       "       [1.87754884, 1.85627426],\n",
       "       [1.89387537, 1.85627426],\n",
       "       [1.90203864, 1.85627426],\n",
       "       [1.86938557, 1.86443753],\n",
       "       [1.87754884, 1.86443753],\n",
       "       [1.8857121 , 1.86443753],\n",
       "       [1.90203864, 1.86443753],\n",
       "       [1.91836517, 1.86443753],\n",
       "       [1.92652843, 1.86443753],\n",
       "       [1.86938557, 1.87260079],\n",
       "       [1.87754884, 1.87260079],\n",
       "       [1.8857121 , 1.87260079],\n",
       "       [1.89387537, 1.87260079],\n",
       "       [1.90203864, 1.87260079],\n",
       "       [1.9102019 , 1.87260079],\n",
       "       [1.91836517, 1.87260079],\n",
       "       [1.92652843, 1.87260079],\n",
       "       [1.94285496, 1.87260079],\n",
       "       [1.86122231, 1.88076406],\n",
       "       [1.86938557, 1.88076406],\n",
       "       [1.87754884, 1.88076406],\n",
       "       [1.89387537, 1.88076406],\n",
       "       [1.90203864, 1.88076406],\n",
       "       [1.91836517, 1.88076406],\n",
       "       [1.95918149, 1.88076406],\n",
       "       [1.84489578, 1.88892732],\n",
       "       [1.85305904, 1.88892732],\n",
       "       [1.86122231, 1.88892732],\n",
       "       [1.86938557, 1.88892732],\n",
       "       [1.87754884, 1.88892732],\n",
       "       [1.89387537, 1.88892732],\n",
       "       [1.90203864, 1.88892732],\n",
       "       [1.9102019 , 1.88892732],\n",
       "       [1.91836517, 1.88892732],\n",
       "       [1.92652843, 1.88892732],\n",
       "       [1.9346917 , 1.88892732],\n",
       "       [1.95918149, 1.88892732],\n",
       "       [1.85305904, 1.89709059],\n",
       "       [1.86122231, 1.89709059],\n",
       "       [1.86938557, 1.89709059],\n",
       "       [1.89387537, 1.89709059],\n",
       "       [1.90203864, 1.89709059],\n",
       "       [1.9102019 , 1.89709059],\n",
       "       [1.91836517, 1.89709059],\n",
       "       [1.92652843, 1.89709059],\n",
       "       [1.9346917 , 1.89709059],\n",
       "       [1.94285496, 1.89709059],\n",
       "       [1.96734476, 1.89709059],\n",
       "       [1.84489578, 1.90525385],\n",
       "       [1.85305904, 1.90525385],\n",
       "       [1.86122231, 1.90525385],\n",
       "       [1.89387537, 1.90525385],\n",
       "       [1.90203864, 1.90525385],\n",
       "       [1.9102019 , 1.90525385],\n",
       "       [1.91836517, 1.90525385],\n",
       "       [1.92652843, 1.90525385],\n",
       "       [1.9346917 , 1.90525385],\n",
       "       [1.94285496, 1.90525385],\n",
       "       [1.95101823, 1.90525385],\n",
       "       [1.84489578, 1.91341712],\n",
       "       [1.89387537, 1.91341712],\n",
       "       [1.90203864, 1.91341712],\n",
       "       [1.9102019 , 1.91341712],\n",
       "       [1.91836517, 1.91341712],\n",
       "       [1.92652843, 1.91341712],\n",
       "       [1.9346917 , 1.91341712],\n",
       "       [1.94285496, 1.91341712],\n",
       "       [1.86122231, 1.92158038],\n",
       "       [1.86938557, 1.92158038],\n",
       "       [1.8857121 , 1.92158038],\n",
       "       [1.89387537, 1.92158038],\n",
       "       [1.90203864, 1.92158038],\n",
       "       [1.9102019 , 1.92158038],\n",
       "       [1.91836517, 1.92158038],\n",
       "       [1.92652843, 1.92158038],\n",
       "       [2.01632435, 1.92158038],\n",
       "       [2.03265088, 1.92158038],\n",
       "       [2.04081415, 1.92158038],\n",
       "       [1.85305904, 1.92974365],\n",
       "       [1.86122231, 1.92974365],\n",
       "       [1.86938557, 1.92974365],\n",
       "       [1.87754884, 1.92974365],\n",
       "       [1.8857121 , 1.92974365],\n",
       "       [1.89387537, 1.92974365],\n",
       "       [1.90203864, 1.92974365],\n",
       "       [1.92652843, 1.92974365],\n",
       "       [1.9346917 , 1.92974365],\n",
       "       [1.94285496, 1.92974365],\n",
       "       [1.99183455, 1.92974365],\n",
       "       [1.99999782, 1.92974365],\n",
       "       [2.00816108, 1.92974365],\n",
       "       [2.01632435, 1.92974365],\n",
       "       [2.02448761, 1.92974365],\n",
       "       [2.03265088, 1.92974365],\n",
       "       [1.84489578, 1.93790691],\n",
       "       [1.86122231, 1.93790691],\n",
       "       [1.86938557, 1.93790691],\n",
       "       [1.87754884, 1.93790691],\n",
       "       [1.8857121 , 1.93790691],\n",
       "       [1.89387537, 1.93790691],\n",
       "       [1.95101823, 1.93790691],\n",
       "       [1.95918149, 1.93790691],\n",
       "       [1.96734476, 1.93790691],\n",
       "       [1.98367129, 1.93790691],\n",
       "       [1.99183455, 1.93790691],\n",
       "       [1.99999782, 1.93790691],\n",
       "       [2.01632435, 1.93790691],\n",
       "       [2.02448761, 1.93790691],\n",
       "       [2.04081415, 1.93790691],\n",
       "       [2.04897741, 1.93790691],\n",
       "       [2.05714068, 1.93790691],\n",
       "       [1.84489578, 1.94607018],\n",
       "       [1.85305904, 1.94607018],\n",
       "       [1.87754884, 1.94607018],\n",
       "       [1.8857121 , 1.94607018],\n",
       "       [1.89387537, 1.94607018],\n",
       "       [1.96734476, 1.94607018],\n",
       "       [1.99999782, 1.94607018],\n",
       "       [2.01632435, 1.94607018],\n",
       "       [2.03265088, 1.94607018],\n",
       "       [2.04081415, 1.94607018],\n",
       "       [2.06530394, 1.94607018],\n",
       "       [1.85305904, 1.95423345],\n",
       "       [1.86938557, 1.95423345],\n",
       "       [1.87754884, 1.95423345],\n",
       "       [1.8857121 , 1.95423345],\n",
       "       [1.99999782, 1.95423345],\n",
       "       [2.02448761, 1.95423345],\n",
       "       [2.03265088, 1.95423345],\n",
       "       [2.04081415, 1.95423345],\n",
       "       [1.83673251, 1.96239671],\n",
       "       [1.86938557, 1.96239671],\n",
       "       [1.87754884, 1.96239671],\n",
       "       [1.8857121 , 1.96239671],\n",
       "       [2.00816108, 1.96239671],\n",
       "       [2.01632435, 1.96239671],\n",
       "       [2.03265088, 1.96239671],\n",
       "       [1.83673251, 1.97055998],\n",
       "       [1.84489578, 1.97055998],\n",
       "       [1.86122231, 1.97055998],\n",
       "       [1.86938557, 1.97055998],\n",
       "       [1.87754884, 1.97055998],\n",
       "       [1.8857121 , 1.97055998],\n",
       "       [2.00816108, 1.97055998],\n",
       "       [2.01632435, 1.97055998],\n",
       "       [2.02448761, 1.97055998],\n",
       "       [2.03265088, 1.97055998],\n",
       "       [2.04081415, 1.97055998],\n",
       "       [2.06530394, 1.97055998],\n",
       "       [1.83673251, 1.97872324],\n",
       "       [1.85305904, 1.97872324],\n",
       "       [1.87754884, 1.97872324],\n",
       "       [1.99999782, 1.97872324],\n",
       "       [2.00816108, 1.97872324],\n",
       "       [2.01632435, 1.97872324],\n",
       "       [2.02448761, 1.97872324],\n",
       "       [2.03265088, 1.97872324],\n",
       "       [2.04081415, 1.97872324],\n",
       "       [2.04897741, 1.97872324],\n",
       "       [2.06530394, 1.97872324],\n",
       "       [1.82040598, 1.98688651],\n",
       "       [1.83673251, 1.98688651],\n",
       "       [1.86122231, 1.98688651],\n",
       "       [1.86938557, 1.98688651],\n",
       "       [1.89387537, 1.98688651],\n",
       "       [1.90203864, 1.98688651],\n",
       "       [1.91836517, 1.98688651],\n",
       "       [1.92652843, 1.98688651],\n",
       "       [2.01632435, 1.98688651],\n",
       "       [2.02448761, 1.98688651],\n",
       "       [2.04081415, 1.98688651],\n",
       "       [2.04897741, 1.98688651],\n",
       "       [2.05714068, 1.98688651],\n",
       "       [2.06530394, 1.98688651],\n",
       "       [1.82040598, 1.99504977],\n",
       "       [1.83673251, 1.99504977],\n",
       "       [1.89387537, 1.99504977],\n",
       "       [1.90203864, 1.99504977],\n",
       "       [1.9102019 , 1.99504977],\n",
       "       [1.91836517, 1.99504977],\n",
       "       [1.9346917 , 1.99504977],\n",
       "       [1.94285496, 1.99504977],\n",
       "       [1.95101823, 1.99504977],\n",
       "       [1.96734476, 1.99504977],\n",
       "       [1.97550802, 1.99504977],\n",
       "       [1.98367129, 1.99504977],\n",
       "       [1.99999782, 1.99504977],\n",
       "       [2.00816108, 1.99504977],\n",
       "       [2.01632435, 1.99504977],\n",
       "       [2.02448761, 1.99504977],\n",
       "       [2.03265088, 1.99504977],\n",
       "       [2.04081415, 1.99504977],\n",
       "       [2.04897741, 1.99504977],\n",
       "       [2.05714068, 1.99504977],\n",
       "       [2.06530394, 1.99504977],\n",
       "       [1.82040598, 2.00321304],\n",
       "       [1.82856925, 2.00321304],\n",
       "       [1.90203864, 2.00321304],\n",
       "       [1.9102019 , 2.00321304],\n",
       "       [1.91836517, 2.00321304],\n",
       "       [1.92652843, 2.00321304],\n",
       "       [1.9346917 , 2.00321304],\n",
       "       [1.94285496, 2.00321304],\n",
       "       [1.95101823, 2.00321304],\n",
       "       [1.95918149, 2.00321304],\n",
       "       [1.96734476, 2.00321304],\n",
       "       [1.97550802, 2.00321304],\n",
       "       [2.01632435, 2.00321304],\n",
       "       [2.02448761, 2.00321304],\n",
       "       [2.04081415, 2.00321304],\n",
       "       [2.04897741, 2.00321304],\n",
       "       [1.82040598, 2.0113763 ],\n",
       "       [1.82856925, 2.0113763 ],\n",
       "       [1.89387537, 2.0113763 ],\n",
       "       [1.9102019 , 2.0113763 ],\n",
       "       [1.91836517, 2.0113763 ],\n",
       "       [1.92652843, 2.0113763 ],\n",
       "       [1.9346917 , 2.0113763 ],\n",
       "       [1.94285496, 2.0113763 ],\n",
       "       [1.95101823, 2.0113763 ],\n",
       "       [1.96734476, 2.0113763 ],\n",
       "       [2.02448761, 2.0113763 ],\n",
       "       [2.03265088, 2.0113763 ],\n",
       "       [2.04081415, 2.0113763 ],\n",
       "       [2.05714068, 2.0113763 ],\n",
       "       [1.82040598, 2.01953957],\n",
       "       [1.82856925, 2.01953957],\n",
       "       [1.83673251, 2.01953957],\n",
       "       [1.9102019 , 2.01953957],\n",
       "       [1.91836517, 2.01953957],\n",
       "       [1.92652843, 2.01953957],\n",
       "       [1.9346917 , 2.01953957],\n",
       "       [1.94285496, 2.01953957],\n",
       "       [1.95101823, 2.01953957],\n",
       "       [1.95918149, 2.01953957],\n",
       "       [2.02448761, 2.01953957],\n",
       "       [2.03265088, 2.01953957],\n",
       "       [1.82040598, 2.02770283],\n",
       "       [1.82856925, 2.02770283],\n",
       "       [1.83673251, 2.02770283],\n",
       "       [1.84489578, 2.02770283],\n",
       "       [1.85305904, 2.02770283],\n",
       "       [1.92652843, 2.02770283],\n",
       "       [1.9346917 , 2.02770283],\n",
       "       [1.95918149, 2.02770283],\n",
       "       [1.96734476, 2.02770283],\n",
       "       [2.01632435, 2.02770283],\n",
       "       [2.03265088, 2.02770283],\n",
       "       [2.04081415, 2.02770283],\n",
       "       [2.04897741, 2.02770283],\n",
       "       [2.05714068, 2.02770283],\n",
       "       [2.06530394, 2.02770283],\n",
       "       [1.82040598, 2.0358661 ],\n",
       "       [1.82856925, 2.0358661 ],\n",
       "       [1.83673251, 2.0358661 ],\n",
       "       [1.84489578, 2.0358661 ],\n",
       "       [1.85305904, 2.0358661 ],\n",
       "       [1.94285496, 2.0358661 ],\n",
       "       [1.99999782, 2.0358661 ],\n",
       "       [2.01632435, 2.0358661 ],\n",
       "       [2.02448761, 2.0358661 ],\n",
       "       [2.04081415, 2.0358661 ],\n",
       "       [2.04897741, 2.0358661 ],\n",
       "       [2.05714068, 2.0358661 ],\n",
       "       [2.07346721, 2.0358661 ],\n",
       "       [2.08163047, 2.0358661 ],\n",
       "       [1.82040598, 2.04402936],\n",
       "       [1.82856925, 2.04402936],\n",
       "       [1.83673251, 2.04402936],\n",
       "       [1.84489578, 2.04402936],\n",
       "       [1.85305904, 2.04402936],\n",
       "       [1.86122231, 2.04402936],\n",
       "       [1.94285496, 2.04402936],\n",
       "       [1.95101823, 2.04402936],\n",
       "       [1.95918149, 2.04402936],\n",
       "       [1.97550802, 2.04402936],\n",
       "       [1.98367129, 2.04402936],\n",
       "       [1.99183455, 2.04402936],\n",
       "       [1.99999782, 2.04402936],\n",
       "       [2.03265088, 2.04402936],\n",
       "       [2.04081415, 2.04402936],\n",
       "       [2.04897741, 2.04402936],\n",
       "       [2.05714068, 2.04402936],\n",
       "       [2.06530394, 2.04402936],\n",
       "       [2.07346721, 2.04402936],\n",
       "       [1.82040598, 2.05219263],\n",
       "       [1.82856925, 2.05219263],\n",
       "       [1.83673251, 2.05219263],\n",
       "       [1.84489578, 2.05219263],\n",
       "       [1.85305904, 2.05219263],\n",
       "       [1.86122231, 2.05219263],\n",
       "       [1.86938557, 2.05219263],\n",
       "       [1.87754884, 2.05219263],\n",
       "       [1.8857121 , 2.05219263],\n",
       "       [1.90203864, 2.05219263],\n",
       "       [1.91836517, 2.05219263],\n",
       "       [1.92652843, 2.05219263],\n",
       "       [1.9346917 , 2.05219263],\n",
       "       [1.94285496, 2.05219263],\n",
       "       [1.95101823, 2.05219263],\n",
       "       [1.95918149, 2.05219263],\n",
       "       [1.96734476, 2.05219263],\n",
       "       [1.97550802, 2.05219263],\n",
       "       [1.98367129, 2.05219263],\n",
       "       [1.99183455, 2.05219263],\n",
       "       [1.99999782, 2.05219263],\n",
       "       [2.00816108, 2.05219263],\n",
       "       [2.02448761, 2.05219263],\n",
       "       [2.04081415, 2.05219263],\n",
       "       [2.04897741, 2.05219263],\n",
       "       [2.05714068, 2.05219263],\n",
       "       [2.06530394, 2.05219263],\n",
       "       [2.07346721, 2.05219263],\n",
       "       [2.08163047, 2.05219263],\n",
       "       [2.19591619, 2.05219263]], dtype=float64)"
      ]
     },
     "execution_count": 36,
     "metadata": {},
     "output_type": "execute_result"
    }
   ],
   "source": [
    "init_dirs[ix]"
   ]
  },
  {
   "cell_type": "code",
   "execution_count": 37,
   "id": "0f125055-7b5f-4e53-ad5f-139758cf0119",
   "metadata": {},
   "outputs": [
    {
     "name": "stdout",
     "output_type": "stream",
     "text": [
      "[636.73942181 637.60606822 641.46283502 642.29507328 643.91360889\n",
      " 644.41435906 645.16239798 646.1761001  635.36717882 636.61655794\n",
      " 637.1826888  640.70355901 641.55907232 642.6169498  643.71034296\n",
      " 644.51192283 645.57830196 633.81061778 635.37815438 640.87038484\n",
      " 641.95505143 643.00284306 643.86784757 644.99434508 632.05388923\n",
      " 633.48129699 641.37108235 642.31021486 643.24607698 644.43727434\n",
      " 640.86941929 641.6518183  642.66216821 643.91902617 641.04449089\n",
      " 642.12882638 643.44899901 640.49840881 641.65334453 643.03235959\n",
      " 641.23580127 642.66805659 640.86727132 642.34682652 640.52920233\n",
      " 642.05460386 640.20621588 641.78906278 639.90723132 641.56449699\n",
      " 641.39628788 643.2459299  641.29226856 643.22450238 641.25090362\n",
      " 647.40703009 645.53485163 613.01597445 627.09590332 639.52630935\n",
      " 648.16225481 645.57505206 628.83392881 638.25953672 641.06552898\n",
      " 645.42452919 645.29460781 642.51090938 639.6665569  636.79680958\n",
      " 611.63619379 621.44063046 624.67560373 627.97993866 648.19981653\n",
      " 636.23518905 617.24811046 627.35637975 632.39790074 635.83495397\n",
      " 632.75313035 613.42533035 616.4412833  628.93691714 632.14331602\n",
      " 632.46581054 623.25150787 646.54413731 650.04797768 632.37353023\n",
      " 629.1837975  647.23572019 617.23302863 643.89995446 647.8341029\n",
      " 651.12045522 635.93469174 632.69026599 629.45716367 627.22541167\n",
      " 624.14231658 633.06306699 629.83675238 626.69609571 620.96654904\n",
      " 616.36244999 614.50076084 633.56544368 630.36010087 627.2838412\n",
      " 624.41438503 621.8233557  619.55650687 617.60832839 615.86206801\n",
      " 612.38009007 637.46181857 634.19218278 631.0177864  625.26875575\n",
      " 622.8422225  618.94237249 610.21239685 644.80124207 641.50651212\n",
      " 638.19700493 634.93544018 631.79930307 626.23704794 623.95327749\n",
      " 621.9778117  620.11454673 618.57057373 617.25632494 611.6827574\n",
      " 642.31819202 639.01425622 635.775064   627.26851854 625.01033585\n",
      " 622.94501636 621.28274356 620.03854201 619.07744301 618.01196687\n",
      " 613.11787766 646.39897691 643.13222678 639.86006698 628.17301037\n",
      " 625.84366633 623.92289706 622.47935749 621.51608319 620.91176514\n",
      " 620.30661737 618.90223208 647.10558949 628.97387524 626.73845228\n",
      " 624.95457812 623.68654003 622.94674042 622.64788101 622.5575898\n",
      " 641.42694173 638.27611593 632.42399447 629.89226341 627.74216524\n",
      " 626.05756108 624.90206708 624.29250807 613.72985464 611.952036\n",
      " 611.34283821 645.41409764 642.26148969 639.16285957 636.19344103\n",
      " 633.43374288 630.96898522 628.88576289 625.60441889 625.51455333\n",
      " 625.82865611 626.50685794 617.12966035 616.4140512  624.80027916\n",
      " 614.59961065 613.56309659 649.39719278 643.24315371 640.21578596\n",
      " 637.31790195 634.62689683 632.22422853 625.25364643 623.80133416\n",
      " 622.52866054 620.36073005 619.48294072 618.71191571 617.35144184\n",
      " 616.54828056 615.43293646 615.29108639 615.09687929 650.37979846\n",
      " 647.39087206 638.6286861  636.00937523 633.66526874 623.97623369\n",
      " 620.21259471 618.94741576 618.06764447 617.91541481 617.99990324\n",
      " 648.6073585  642.85203287 640.12047418 637.57605694 622.00287339\n",
      " 620.54504635 620.40444723 620.39992838 655.47668962 676.13237468\n",
      " 641.77963057 639.31362225 623.72939808 623.32373847 623.06111371\n",
      " 683.65446471 654.1362068  648.77071274 646.12805763 643.58623617\n",
      " 641.20196557 626.52127866 626.19024008 626.02788962 626.00373838\n",
      " 626.04809152 627.29112644 684.56877524 653.06041921 645.5152884\n",
      " 630.03668113 629.6360796  629.36065587 629.20635591 629.14211487\n",
      " 629.15714674 629.33075875 630.61120284 662.62047011 685.56983499\n",
      " 652.29854769 649.87855908 643.27829664 641.4476843  638.56554299\n",
      " 637.54658185 632.70673923 632.53068456 632.4144956  632.62458422\n",
      " 633.13694461 634.00491356 664.03784363 686.70403619 645.51427578\n",
      " 643.72406443 642.156877   640.83703251 638.96231518 638.36716902\n",
      " 681.12717923 637.29078177 637.02163853 636.8010304  636.49072054\n",
      " 636.32208953 636.12735655 635.93646187 635.79945301 635.80054506\n",
      " 636.0363022  636.57874828 637.46019789 665.49466791 663.97578528\n",
      " 646.04876775 644.50582234 643.18440497 642.09672968 641.24273454\n",
      " 640.60831036 640.16453075 639.87107903 639.68779056 639.59042146\n",
      " 639.56474208 639.39893172 639.29430013 639.54225765 666.98191775\n",
      " 665.52430201 650.0940722  646.90683655 645.60178674 644.50807024\n",
      " 643.63059542 642.9666738  642.50571405 642.11782601 642.90572951\n",
      " 642.84227779 642.87100734 645.32640797 668.48985643 667.88494078\n",
      " 691.2205009  649.35439843 648.08314847 647.00293755 646.12142856\n",
      " 645.44267714 644.96706216 644.69233217 650.30550622 646.47378824\n",
      " 670.00832575 669.44477858 667.32590771 666.01960148 663.79374138\n",
      " 649.56854879 648.70314112 647.26895009 647.20071417 653.68781389\n",
      " 650.15308582 650.1334162  650.26451876 650.44196921 650.74721105\n",
      " 671.52777508 671.01253276 669.22645528 667.6759939  665.62431257\n",
      " 650.70750109 651.99074383 652.94268346 653.24243185 653.56912425\n",
      " 653.67933575 653.62443614 654.47546758 655.20048587 673.04171994\n",
      " 671.777424   670.88704437 669.16958934 667.4616037  673.68111987\n",
      " 653.45539298 653.03356268 652.76359892 652.8026278  657.43079649\n",
      " 656.70206336 656.26670882 657.20223666 656.79590891 656.57784102\n",
      " 656.76118659 657.12865336 657.68881911 674.54944754 673.32522439\n",
      " 672.55823616 670.92684476 669.83339776 668.76050451 666.16741929\n",
      " 664.65949786 671.34208745 660.54718619 658.34431447 657.45916176\n",
      " 656.7479764  656.22841633 655.89625987 655.68474316 655.53700235\n",
      " 655.61027274 659.75760224 659.07963896 658.66580247 658.52820932\n",
      " 659.2308535  659.05244254 659.26849812 659.76878951 660.20553155\n",
      " 660.88588303 661.56585658 684.54165074]\n"
     ]
    }
   ],
   "source": [
    "print(logls_optx.flatten()[ix])"
   ]
  },
  {
   "cell_type": "code",
   "execution_count": 38,
   "id": "77618167-aa8e-4cab-82d3-55e3ca9ad305",
   "metadata": {},
   "outputs": [],
   "source": [
    "dx = jnp.linalg.norm(sol_pos - centered_track_pos, axis=1)"
   ]
  },
  {
   "cell_type": "code",
   "execution_count": 39,
   "id": "eba58815-1702-4776-b5b1-068bfb5a7f6b",
   "metadata": {},
   "outputs": [
    {
     "data": {
      "text/plain": [
       "Array([47.0944242 , 45.87327639, 44.54063191, ..., 50.4970309 ,\n",
       "       51.81444155, 53.30423125], dtype=float64)"
      ]
     },
     "execution_count": 39,
     "metadata": {},
     "output_type": "execute_result"
    }
   ],
   "source": [
    "dx"
   ]
  },
  {
   "cell_type": "code",
   "execution_count": 48,
   "id": "1b6d3282-7779-45d6-9090-6bc3d5673553",
   "metadata": {},
   "outputs": [
    {
     "data": {
      "image/png": "[encoded data removed]",
      "text/plain": [
       "<Figure size 640x480 with 2 Axes>"
      ]
     },
     "metadata": {},
     "output_type": "display_data"
    }
   ],
   "source": [
    "logls = logls.reshape(X.shape)\n",
    "\n",
    "fig, ax = plt.subplots()\n",
    "min_logl = np.amin(logls)\n",
    "delta_logl = logls - np.amin(logls)\n",
    "pc = ax.pcolormesh(np.rad2deg(X), np.rad2deg(Y), delta_logl, vmin=0, vmax=np.min([500, 1.2*np.amax(delta_logl)]), shading='auto', cmap=cx)\n",
    "cbar = fig.colorbar(pc)\n",
    "cbar.ax.tick_params(labelsize=16)\n",
    "cbar.ax.get_yaxis().labelpad = 5\n",
    "cbar.set_label(\"-2$\\\\Delta$log $L_{MPE}$\", fontsize=20)\n",
    "cbar.outline.set_linewidth(1.5)\n",
    "\n",
    "ax.set_xlabel(\"zenith [deg]\", fontsize=16)\n",
    "ax.set_ylabel(\"azimuth [deg]\", fontsize=16)\n",
    "ax.set_xlim(np.rad2deg([track_src[0]-dzen, track_src[0]+dzen]))\n",
    "ax.set_ylim(np.rad2deg([track_src[1]-dazi, track_src[1]+dazi]))\n",
    "ax.tick_params(axis='both', which='both', width=1.5, colors='0.0', labelsize=16)\n",
    "\n",
    "ax.scatter(np.rad2deg(track_src[0]), np.rad2deg(track_src[1]), marker=\"*\", color='red', label=\"truth\", zorder=200)\n",
    "\n",
    "smpe_zenith = meta['spline_mpe_zenith']\n",
    "smpe_azimuth = meta['spline_mpe_azimuth']\n",
    "ax.scatter(np.rad2deg([smpe_zenith]), np.rad2deg([smpe_azimuth]), marker=\"x\", color='lime', label='splineMPE')\n",
    "\n",
    "zenith = best_x[0] / scale_rad\n",
    "azimuth = best_x[1] / scale_rad\n",
    "ax.scatter(np.rad2deg(zenith), np.rad2deg(azimuth), marker='+', color='magenta', label='bfgs')\n",
    "\n",
    "contours = [4.61]\n",
    "ix1, ix2 = np.where(delta_logl==0)\n",
    "ax.scatter(np.rad2deg([X[ix1, ix2]]), np.rad2deg([Y[ix1, ix2]]), s=50, marker='o', facecolors='none', edgecolors='khaki', zorder=100., label='grid min')\n",
    "ct = plt.contour(np.rad2deg(X), np.rad2deg(Y), delta_logl, levels=contours, linestyles=['solid'], colors=['khaki'], linewidths=1.0)\n",
    "#ax.scatter(np.rad2deg(init_dirs[:,0][ix]), np.rad2deg(init_dirs[:,1][ix]), marker='x', color='red')\n",
    "plt.legend()\n",
    "plt.tight_layout()\n",
    "plt.show()"
   ]
  },
  {
   "cell_type": "code",
   "execution_count": 41,
   "id": "9a7e463a-8282-4740-b9d4-44de4b0d0290",
   "metadata": {},
   "outputs": [
    {
     "data": {
      "text/plain": [
       "array([113.18827212, 117.39775796, 123.4781264 , 123.94584705,\n",
       "       124.4135677 , 124.88128834, 125.34900899, 125.81672964,\n",
       "       113.18827212, 117.39775796, 117.86547861, 123.4781264 ,\n",
       "       123.94584705, 124.4135677 , 124.88128834, 125.34900899,\n",
       "       125.81672964, 113.18827212, 117.39775796, 123.94584705,\n",
       "       124.4135677 , 124.88128834, 125.34900899, 125.81672964,\n",
       "       113.18827212, 115.05915471, 124.4135677 , 124.88128834,\n",
       "       125.34900899, 125.81672964, 124.4135677 , 124.88128834,\n",
       "       125.34900899, 125.81672964, 124.88128834, 125.34900899,\n",
       "       125.81672964, 124.88128834, 125.34900899, 125.81672964,\n",
       "       125.34900899, 125.81672964, 125.34900899, 125.81672964,\n",
       "       125.34900899, 125.81672964, 125.34900899, 125.81672964,\n",
       "       125.34900899, 125.81672964, 125.81672964, 126.28445029,\n",
       "       125.81672964, 126.28445029, 125.81672964, 127.21989159,\n",
       "       126.75217094, 120.20408185, 123.01040575, 123.94584705,\n",
       "       104.76930043, 105.23702108, 123.4781264 , 123.94584705,\n",
       "       124.4135677 , 104.76930043, 105.23702108, 105.70474173,\n",
       "       106.17246238, 106.64018303, 120.6718025 , 122.5426851 ,\n",
       "       123.01040575, 123.4781264 , 104.30157978, 106.64018303,\n",
       "       122.07496445, 123.4781264 , 124.4135677 , 106.64018303,\n",
       "       107.10790368, 121.6072438 , 122.07496445, 123.94584705,\n",
       "       124.4135677 , 107.10790368, 123.01040575, 126.28445029,\n",
       "       126.75217094, 107.10790368, 107.57562433, 126.28445029,\n",
       "       109.44650692, 125.81672964, 126.28445029, 126.75217094,\n",
       "       106.64018303, 107.10790368, 107.57562433, 108.51106563,\n",
       "       108.97878628, 107.10790368, 107.57562433, 108.04334498,\n",
       "       108.97878628, 109.91422757, 110.38194822, 107.10790368,\n",
       "       107.57562433, 108.04334498, 108.51106563, 108.97878628,\n",
       "       109.44650692, 109.91422757, 110.38194822, 111.31738952,\n",
       "       106.64018303, 107.10790368, 107.57562433, 108.51106563,\n",
       "       108.97878628, 109.91422757, 112.25283082, 105.70474173,\n",
       "       106.17246238, 106.64018303, 107.10790368, 107.57562433,\n",
       "       108.51106563, 108.97878628, 109.44650692, 109.91422757,\n",
       "       110.38194822, 110.84966887, 112.25283082, 106.17246238,\n",
       "       106.64018303, 107.10790368, 108.51106563, 108.97878628,\n",
       "       109.44650692, 109.91422757, 110.38194822, 110.84966887,\n",
       "       111.31738952, 112.72055147, 105.70474173, 106.17246238,\n",
       "       106.64018303, 108.51106563, 108.97878628, 109.44650692,\n",
       "       109.91422757, 110.38194822, 110.84966887, 111.31738952,\n",
       "       111.78511017, 105.70474173, 108.51106563, 108.97878628,\n",
       "       109.44650692, 109.91422757, 110.38194822, 110.84966887,\n",
       "       111.31738952, 106.64018303, 107.10790368, 108.04334498,\n",
       "       108.51106563, 108.97878628, 109.44650692, 109.91422757,\n",
       "       110.38194822, 115.52687536, 116.46231666, 116.93003731,\n",
       "       106.17246238, 106.64018303, 107.10790368, 107.57562433,\n",
       "       108.04334498, 108.51106563, 108.97878628, 110.38194822,\n",
       "       110.84966887, 111.31738952, 114.12371342, 114.59143406,\n",
       "       115.05915471, 115.52687536, 115.99459601, 116.46231666,\n",
       "       105.70474173, 106.64018303, 107.10790368, 107.57562433,\n",
       "       108.04334498, 108.51106563, 111.78511017, 112.25283082,\n",
       "       112.72055147, 113.65599277, 114.12371342, 114.59143406,\n",
       "       115.52687536, 115.99459601, 116.93003731, 117.39775796,\n",
       "       117.86547861, 105.70474173, 106.17246238, 107.57562433,\n",
       "       108.04334498, 108.51106563, 112.72055147, 114.59143406,\n",
       "       115.52687536, 116.46231666, 116.93003731, 118.33319926,\n",
       "       106.17246238, 107.10790368, 107.57562433, 108.04334498,\n",
       "       114.59143406, 115.99459601, 116.46231666, 116.93003731,\n",
       "       105.23702108, 107.10790368, 107.57562433, 108.04334498,\n",
       "       115.05915471, 115.52687536, 116.46231666, 105.23702108,\n",
       "       105.70474173, 106.64018303, 107.10790368, 107.57562433,\n",
       "       108.04334498, 115.05915471, 115.52687536, 115.99459601,\n",
       "       116.46231666, 116.93003731, 118.33319926, 105.23702108,\n",
       "       106.17246238, 107.57562433, 114.59143406, 115.05915471,\n",
       "       115.52687536, 115.99459601, 116.46231666, 116.93003731,\n",
       "       117.39775796, 118.33319926, 104.30157978, 105.23702108,\n",
       "       106.64018303, 107.10790368, 108.51106563, 108.97878628,\n",
       "       109.91422757, 110.38194822, 115.52687536, 115.99459601,\n",
       "       116.93003731, 117.39775796, 117.86547861, 118.33319926,\n",
       "       104.30157978, 105.23702108, 108.51106563, 108.97878628,\n",
       "       109.44650692, 109.91422757, 110.84966887, 111.31738952,\n",
       "       111.78511017, 112.72055147, 113.18827212, 113.65599277,\n",
       "       114.59143406, 115.05915471, 115.52687536, 115.99459601,\n",
       "       116.46231666, 116.93003731, 117.39775796, 117.86547861,\n",
       "       118.33319926, 104.30157978, 104.76930043, 108.97878628,\n",
       "       109.44650692, 109.91422757, 110.38194822, 110.84966887,\n",
       "       111.31738952, 111.78511017, 112.25283082, 112.72055147,\n",
       "       113.18827212, 115.52687536, 115.99459601, 116.93003731,\n",
       "       117.39775796, 104.30157978, 104.76930043, 108.51106563,\n",
       "       109.44650692, 109.91422757, 110.38194822, 110.84966887,\n",
       "       111.31738952, 111.78511017, 112.72055147, 115.99459601,\n",
       "       116.46231666, 116.93003731, 117.86547861, 104.30157978,\n",
       "       104.76930043, 105.23702108, 109.44650692, 109.91422757,\n",
       "       110.38194822, 110.84966887, 111.31738952, 111.78511017,\n",
       "       112.25283082, 115.99459601, 116.46231666, 104.30157978,\n",
       "       104.76930043, 105.23702108, 105.70474173, 106.17246238,\n",
       "       110.38194822, 110.84966887, 112.25283082, 112.72055147,\n",
       "       115.52687536, 116.46231666, 116.93003731, 117.39775796,\n",
       "       117.86547861, 118.33319926, 104.30157978, 104.76930043,\n",
       "       105.23702108, 105.70474173, 106.17246238, 111.31738952,\n",
       "       114.59143406, 115.52687536, 115.99459601, 116.93003731,\n",
       "       117.39775796, 117.86547861, 118.80091991, 119.26864056,\n",
       "       104.30157978, 104.76930043, 105.23702108, 105.70474173,\n",
       "       106.17246238, 106.64018303, 111.31738952, 111.78511017,\n",
       "       112.25283082, 113.18827212, 113.65599277, 114.12371342,\n",
       "       114.59143406, 116.46231666, 116.93003731, 117.39775796,\n",
       "       117.86547861, 118.33319926, 118.80091991, 104.30157978,\n",
       "       104.76930043, 105.23702108, 105.70474173, 106.17246238,\n",
       "       106.64018303, 107.10790368, 107.57562433, 108.04334498,\n",
       "       108.97878628, 109.91422757, 110.38194822, 110.84966887,\n",
       "       111.31738952, 111.78511017, 112.25283082, 112.72055147,\n",
       "       113.18827212, 113.65599277, 114.12371342, 114.59143406,\n",
       "       115.05915471, 115.99459601, 116.93003731, 117.39775796,\n",
       "       117.86547861, 118.33319926, 118.80091991, 119.26864056,\n",
       "       125.81672964])"
      ]
     },
     "execution_count": 41,
     "metadata": {},
     "output_type": "execute_result"
    }
   ],
   "source": [
    "np.rad2deg(init_dirs[:,0][ix])"
   ]
  },
  {
   "cell_type": "code",
   "execution_count": null,
   "id": "7a8313bc-18bb-4c66-8b78-bc0bcb2d35b8",
   "metadata": {},
   "outputs": [],
   "source": []
  },
  {
   "cell_type": "code",
   "execution_count": null,
   "id": "c8e528e0-a6c5-420b-9b6a-410476ae917c",
   "metadata": {},
   "outputs": [],
   "source": []
  },
  {
   "cell_type": "code",
   "execution_count": 42,
   "id": "d6ba6b6d-a372-4d90-8d01-0ef6e07a0c22",
   "metadata": {},
   "outputs": [
    {
     "name": "stdout",
     "output_type": "stream",
     "text": [
      "[ 407.88112043  162.47186024 -234.15666758]\n"
     ]
    }
   ],
   "source": [
    "print(x0*scale)"
   ]
  },
  {
   "cell_type": "code",
   "execution_count": 43,
   "id": "d37b5ff6-14b5-4d83-b425-0248ec0f3a77",
   "metadata": {},
   "outputs": [
    {
     "data": {
      "text/plain": [
       "Array([32.4746088 ,  9.33674745, 25.66111602, 27.25745132, 28.90569671,\n",
       "       30.65612096, 32.59938993, 34.95491782, 32.0994379 ,  7.63915498,\n",
       "       11.82962093, 24.768139  , 26.41989117, 28.11939124, 29.92186634,\n",
       "       31.92149012, 34.33682806, 31.52931093,  7.28221788, 25.60469719,\n",
       "       26.93148955, 28.78167146, 31.24752612, 33.73619731, 28.97455059,\n",
       "       15.58727937, 26.1995842 , 28.08440671, 30.20459187, 33.18148865,\n",
       "       25.54429332, 27.45189281, 29.62677428, 32.70568838, 26.90829248,\n",
       "       29.54523467, 32.34430837, 26.4792826 , 29.19449418, 32.13154063,\n",
       "       29.02155764, 32.07785129, 29.07584001, 32.5130209 , 29.7403148 ,\n",
       "       32.54669175, 30.07873753, 32.85411817, 30.64361095, 32.62856377,\n",
       "       32.65510815, 34.56058709, 32.57293209, 34.30750879, 32.40248559,\n",
       "       37.14666251, 35.16327199,  8.04937481, 21.30285676, 25.48003736,\n",
       "       39.81085051, 38.73338593, 23.76273743, 25.42324414, 27.38452821,\n",
       "       40.84360981, 39.18713502, 37.97588443, 36.24930529, 34.62204741,\n",
       "       11.13730474, 20.19157251, 22.04904632, 23.62030708, 41.07356468,\n",
       "       34.66475537, 19.9617069 , 22.84939795, 14.82745707, 34.70548729,\n",
       "       33.20089312, 17.93387195, 19.84859875, 15.04782922, 15.09476707,\n",
       "       33.24938569, 23.33024502, 32.15747558, 32.99058925, 33.93331123,\n",
       "       32.66250646, 31.36966961, 29.7197767 , 28.12667591, 29.69205542,\n",
       "       31.5502152 , 36.84459815, 35.81862689, 34.67471756, 37.70627876,\n",
       "       35.75029378, 36.72205069, 35.65539579, 34.67255424, 33.66230898,\n",
       "       30.06182235, 28.28535756, 37.53005413, 36.5112605 , 35.62562408,\n",
       "       34.99641571, 34.20371898, 32.52541561, 30.60514982, 28.86174613,\n",
       "       24.54396456, 39.1692422 , 38.14943415, 37.12077978, 35.87525492,\n",
       "       34.62675042, 31.46769402, 20.49104779, 41.63162423, 40.6564507 ,\n",
       "       39.64626153, 38.59251344, 37.54562696, 36.19929873, 35.3626464 ,\n",
       "       33.76018694, 31.95561159, 30.33488373, 28.54599767,  0.4233092 ,\n",
       "       41.05718157, 40.46310167, 39.36514646, 36.82531547, 35.66139183,\n",
       "       34.50844752, 32.76421961, 31.2042927 , 29.46924499, 27.49717085,\n",
       "       20.63878246, 42.9245291 , 41.84896182, 40.75025119, 37.39293733,\n",
       "       36.3005273 , 35.23732051, 33.56151855, 32.0625941 , 30.37811766,\n",
       "       28.44893847, 26.28962007, 43.7257263 , 37.93464113, 36.91678087,\n",
       "       35.96475814, 34.7105352 , 32.92360788, 31.29398777, 29.43029007,\n",
       "       42.16505492, 41.43347036, 39.51465824, 38.48195845, 37.93357966,\n",
       "       36.73819666, 35.56006468, 34.13069897, 11.24364001, 11.19414843,\n",
       "       10.29529291, 44.07607964, 42.867117  , 42.11201518, 40.87693254,\n",
       "       40.13208843, 39.05913347, 38.60542357, 35.14526378, 33.49478576,\n",
       "       32.09141597, 21.28207435, 15.61576265, 15.17510837, 23.35246009,\n",
       "       13.05391293, 13.16152292, 46.03721376, 44.06140841, 42.8012883 ,\n",
       "       42.01102295, 40.7794129 , 40.12049723, 31.84379248, 30.34851684,\n",
       "       24.11049852, 24.01862359, 23.76446946, 17.17282895, 15.45175518,\n",
       "       14.81126531, 17.18819038, 17.62929231, 18.42058213, 46.79941765,\n",
       "       46.05057637, 42.70425073, 41.92585385, 40.83158915, 32.00486075,\n",
       "       18.8278085 , 17.08741491, 17.59067441, 17.95061839, 21.00111744,\n",
       "       46.79038661, 44.70770745, 43.90421617, 42.66031231, 21.01555128,\n",
       "       18.93752862, 19.28532424, 19.6057311 , 50.11285118, 45.93205854,\n",
       "       44.64359918, 43.94446181, 21.73135367, 20.79415089, 20.75957131,\n",
       "       24.35272003, 24.18919935, 47.9627331 , 46.6545926 , 45.89512824,\n",
       "       45.546671  , 23.41022654, 22.94348304, 22.50638024, 22.73054707,\n",
       "       23.1109437 , 25.19773742, 24.37927336, 31.05820617, 47.16876536,\n",
       "       26.46955386, 25.26782924, 24.23729783, 24.26810099, 23.93470088,\n",
       "       24.323724  , 24.91602615, 26.37205032, 25.2063983 , 24.38052946,\n",
       "       30.69763944, 29.77042187, 26.90254166, 25.71299476, 23.67418036,\n",
       "       22.73861538, 25.94569664, 25.34171128, 26.03666508, 26.67448607,\n",
       "       27.21576914, 28.10135267, 25.24725788, 24.38589125, 27.52792969,\n",
       "       26.37067977, 25.62819408, 24.83657483, 13.42239158, 14.0395127 ,\n",
       "       21.20440736,  7.90345674,  6.43898447,  6.16504466, 29.13054018,\n",
       "       27.98905849, 27.05514974, 26.99136931, 27.21317866, 27.11432936,\n",
       "       27.83095588, 28.94805656, 29.22471066, 25.32843591, 24.89867463,\n",
       "       27.45859802, 26.75234456, 25.55884792, 24.7659276 , 13.77216376,\n",
       "       13.41588648, 12.75570032, 11.32542394,  9.56809235,  7.87628391,\n",
       "       28.72188842, 28.67546969, 28.77292565, 29.54324068, 25.58180634,\n",
       "       25.02704363, 29.14612736, 27.40761958, 26.71066216, 25.98095474,\n",
       "       25.21663011, 24.42163634, 23.61788239, 10.1436269 , 29.81363516,\n",
       "       30.01070721, 30.49672015, 46.10037858, 25.83465519, 25.33564435,\n",
       "       31.74178718, 28.48501353, 27.84320661, 26.73743391, 26.05019084,\n",
       "       25.34190758, 25.04561583, 24.32311086, 48.32256974, 31.80066123,\n",
       "       26.32053866, 25.76718385, 32.23967332, 32.03119079, 31.28210509,\n",
       "       27.89861938, 27.28899069, 25.81071444, 25.610536  , 50.33725442,\n",
       "       33.0548634 , 33.58626858, 34.18454602, 34.53406849, 35.27942018,\n",
       "       26.96332477, 26.3372847 , 25.80386996, 32.48426163, 32.20848151,\n",
       "       27.96903524, 10.14371571, 35.14829446, 35.22418034, 35.52367956,\n",
       "       36.03677864, 36.29314921, 36.9733693 , 37.48432119, 27.73835313,\n",
       "       27.03031806, 26.47273286, 32.92561172, 32.63483829, 32.28433606,\n",
       "       29.64498889, 31.90796299, 31.80083843, 13.07944532, 12.45763562,\n",
       "       11.961459  , 11.61102186, 36.88553763, 37.51347788, 37.93875044,\n",
       "       38.10060139, 38.12866562, 38.6863828 , 28.61983242, 27.76587085,\n",
       "       27.21633445, 26.95319662, 33.07756905, 32.71518834, 32.28650971,\n",
       "       31.78107617, 31.66174926, 30.39826535, 31.66291108, 31.22725087,\n",
       "       30.81685126, 30.48286306, 33.9365611 , 33.34258419, 33.27739619,\n",
       "       14.93876548, 14.2437327 , 13.66232413, 13.10143712, 12.78721053,\n",
       "       38.42589449, 38.96871521, 39.28252988, 39.34434683, 39.90667871,\n",
       "       39.81080691, 40.29253111, 49.24155058], dtype=float64)"
      ]
     },
     "execution_count": 43,
     "metadata": {},
     "output_type": "execute_result"
    }
   ],
   "source": [
    "jnp.linalg.norm(sol_pos[ix]-(x0*scale), axis=1)"
   ]
  },
  {
   "cell_type": "code",
   "execution_count": 44,
   "id": "71c21ce8-5a66-4f21-9889-3e6a6e463167",
   "metadata": {},
   "outputs": [
    {
     "data": {
      "image/png": "[encoded data removed]",
      "text/plain": [
       "<Figure size 640x480 with 1 Axes>"
      ]
     },
     "metadata": {},
     "output_type": "display_data"
    }
   ],
   "source": [
    "plt.hist(jnp.linalg.norm(sol_pos-(x0*scale), axis=1), bins=np.linspace(0.0, 200, 100))\n",
    "plt.show()"
   ]
  },
  {
   "cell_type": "code",
   "execution_count": 45,
   "id": "72db87f2-8746-4e63-bab4-800380d9dcc5",
   "metadata": {},
   "outputs": [
    {
     "data": {
      "text/plain": [
       "Array(3.46410162, dtype=float64)"
      ]
     },
     "execution_count": 45,
     "metadata": {},
     "output_type": "execute_result"
    }
   ],
   "source": [
    "jnp.linalg.norm(jnp.array([2, 2, 2]))"
   ]
  },
  {
   "cell_type": "code",
   "execution_count": 46,
   "id": "589797c3-6ea1-45ef-8683-49b60ff4eac5",
   "metadata": {},
   "outputs": [
    {
     "data": {
      "image/png": "[encoded data removed]",
      "text/plain": [
       "<Figure size 640x480 with 1 Axes>"
      ]
     },
     "metadata": {},
     "output_type": "display_data"
    }
   ],
   "source": [
    "plt.hist(centered_track_time - init_times, bins=np.linspace(-50.0, 400, 400))\n",
    "plt.show()"
   ]
  },
  {
   "cell_type": "code",
   "execution_count": 47,
   "id": "694b10ca-46f3-43e4-abda-f37f0fd7e1de",
   "metadata": {},
   "outputs": [
    {
     "data": {
      "text/plain": [
       "Array(3.46410162, dtype=float64, weak_type=True)"
      ]
     },
     "execution_count": 47,
     "metadata": {},
     "output_type": "execute_result"
    }
   ],
   "source": [
    "jnp.sqrt(3) * 2\n"
   ]
  },
  {
   "cell_type": "code",
   "execution_count": 50,
   "id": "058126ed-c4c6-44e6-9ae1-26008b078bbe",
   "metadata": {},
   "outputs": [
    {
     "name": "stdout",
     "output_type": "stream",
     "text": [
      "[115.76073569 106.1228205 ]\n"
     ]
    }
   ],
   "source": [
    "print(jnp.rad2deg(track_src))"
   ]
  },
  {
   "cell_type": "code",
   "execution_count": null,
   "id": "781240c1-55c1-4518-8162-4ba0a6653cc0",
   "metadata": {},
   "outputs": [],
   "source": []
  },
  {
   "cell_type": "code",
   "execution_count": null,
   "id": "ec0ad338-13cf-4421-974e-9395dcb8a167",
   "metadata": {},
   "outputs": [],
   "source": []
  }
 ],
 "metadata": {
  "kernelspec": {
   "display_name": "Python 3 (ipykernel)",
   "language": "python",
   "name": "python3"
  },
  "language_info": {
   "codemirror_mode": {
    "name": "ipython",
    "version": 3
   },
   "file_extension": ".py",
   "mimetype": "text/x-python",
   "name": "python",
   "nbconvert_exporter": "python",
   "pygments_lexer": "ipython3",
   "version": "3.11.5"
  }
 },
 "nbformat": 4,
 "nbformat_minor": 5
}
