{
 "cells": [
  {
   "cell_type": "code",
   "execution_count": 1,
   "id": "2cc93fe3",
   "metadata": {},
   "outputs": [],
   "source": [
    "import sys, os\n",
    "sys.path.insert(0, \"/home/storage/hans/jax_reco_gupta_corrections2\")\n",
    "os.environ['CUDA_VISIBLE_DEVICES'] = '0'\n",
    "\n",
    "from collections import defaultdict\n",
    "\n",
    "import jax.numpy as jnp\n",
    "from jax.scipy import optimize\n",
    "import jax\n",
    "jax.config.update(\"jax_enable_x64\", True)\n",
    "import optimistix as optx\n",
    "import tensorflow_probability as tfp\n",
    "\n",
    "import pandas as pd\n",
    "import numpy as np\n",
    "import matplotlib.pyplot as plt\n",
    "from matplotlib.backends.backend_pdf import PdfPages\n",
    "\n",
    "from lib.simdata_i3 import I3SimHandler\n",
    "from lib.gupta_network_eqx import get_network_eval_v_fn\n",
    "from lib.geo import cherenkov_cylinder_coordinates_w_rho_v\n",
    "from lib.geo import get_xyz_from_zenith_azimuth\n",
    "from lib.geo import impact_angle_cos_eta_v\n",
    "from lib.gupta import c_multi_gupta_mpe_prob_midpoint2 as c_multi_gamma_mpe_prob_midpoint2\n",
    "from lib.gupta import c_multi_gupta_spe_prob\n",
    "from lib.plotting import adjust_plot_1d\n",
    "\n",
    "from dom_track_eval import get_eval_network_doms_and_track"
   ]
  },
  {
   "cell_type": "code",
   "execution_count": 2,
   "id": "2e84cfd9",
   "metadata": {},
   "outputs": [],
   "source": [
    "dtype = jnp.float64\n",
    "#eval_network_v = get_network_eval_v_fn(bpath='/home/storage/hans/github/data/gupta/n96_w_penalty_1.e-3/new_model_no_penalties_tree_start_epoch_260.eqx', dtype=dtype, n_hidden=96)\n",
    "eval_network_v = get_network_eval_v_fn(bpath='/home/storage/hans/photondata/gupta/naive/no_penalty_softplus_large/cache/new_model_no_penalties_tree_start_epoch_350.eqx', dtype=dtype, n_hidden=96)\n",
    "eval_network_doms_and_track = get_eval_network_doms_and_track(eval_network_v, dtype=dtype, gupta=True)"
   ]
  },
  {
   "cell_type": "code",
   "execution_count": 3,
   "id": "ba94c702",
   "metadata": {},
   "outputs": [],
   "source": [
    "event_id = '20027'"
   ]
  },
  {
   "cell_type": "code",
   "execution_count": 4,
   "id": "b532091d",
   "metadata": {},
   "outputs": [],
   "source": [
    "bp = '/home/storage2/hans/i3files/alerts/bfrv2_no_hole_ice_flat/ftr/fudged_mcpe/'\n",
    "#bp = '/home/storage2/hans/i3files/alerts/bfrv2_no_hole_ice_flat/ftr/charge/calibrated'\n",
    "sim_handler = I3SimHandler(os.path.join(bp, f'meta_ds_event_{event_id}_N100_from_0_to_10_1st_pulse.ftr'),\n",
    "                            os.path.join(bp, f'pulses_ds_event_{event_id}_N100_from_0_to_10_1st_pulse.ftr'),\n",
    "                            '/home/storage/hans/jax_reco/data/icecube/detector_geometry.csv')"
   ]
  },
  {
   "cell_type": "code",
   "execution_count": 5,
   "id": "2e3aa251",
   "metadata": {},
   "outputs": [
    {
     "name": "stdout",
     "output_type": "stream",
     "text": [
      "22 26.57595472759573\n"
     ]
    }
   ],
   "source": [
    "    i = 0\n",
    "    meta, pulses = sim_handler.get_event_data(i)\n",
    "    event_data = sim_handler.get_per_dom_summary_from_sim_data(meta, pulses)\n",
    "    #sim_handler.replace_early_pulse(event_data, pulses)\n",
    "\n",
    "    track_time = meta['muon_time']\n",
    "    track_pos = [meta['muon_pos_x'], meta['muon_pos_y'], meta['muon_pos_z']]\n",
    "    track_dir = [meta['muon_zenith'], meta['muon_azimuth']]\n",
    "    \n",
    "    idx = event_data['charge'] > 10.0\n",
    "\n",
    "    dom_pos = jnp.array(event_data[idx][['x', 'y', 'z']].values)\n",
    "    track_pos = jnp.array(track_pos)\n",
    "    track_dir = jnp.array(track_dir)\n",
    "    track_dir_xyz = get_xyz_from_zenith_azimuth(track_dir)\n",
    "    geo_time, closest_approach_dist, closest_approach_z, closest_approach_rho = \\\n",
    "                    cherenkov_cylinder_coordinates_w_rho_v(dom_pos,\n",
    "                                                 track_pos,\n",
    "                                                 track_dir_xyz)\n",
    "   \n",
    "    ix = np.argmin(closest_approach_dist)\n",
    "    print(ix, closest_approach_dist[ix])"
   ]
  },
  {
   "cell_type": "code",
   "execution_count": 6,
   "id": "bd140b68",
   "metadata": {},
   "outputs": [],
   "source": [
    "close_times = []\n",
    "geo_times = []\n",
    "track_times = []\n",
    "charges = []\n",
    "sensor = []\n",
    "for i in range(100):\n",
    "    meta, pulses = sim_handler.get_event_data(i)\n",
    "    event_data = sim_handler.get_per_dom_summary_from_sim_data(meta, pulses)\n",
    "    #sim_handler.replace_early_pulse(event_data, pulses)\n",
    "\n",
    "    track_time = meta['muon_time']\n",
    "    track_pos = [meta['muon_pos_x'], meta['muon_pos_y'], meta['muon_pos_z']]\n",
    "    track_dir = [meta['muon_zenith'], meta['muon_azimuth']]\n",
    "\n",
    "    dom_pos = jnp.array(event_data[['x', 'y', 'z']].values)\n",
    "    track_pos = jnp.array(track_pos)\n",
    "    track_dir = jnp.array(track_dir)\n",
    "    track_dir_xyz = get_xyz_from_zenith_azimuth(track_dir)\n",
    "    geo_time, closest_approach_dist, closest_approach_z, closest_approach_rho = \\\n",
    "                    cherenkov_cylinder_coordinates_w_rho_v(dom_pos,\n",
    "                                                 track_pos,\n",
    "                                                 track_dir_xyz)\n",
    "\n",
    "    closest_approach_dist = np.array(closest_approach_dist)\n",
    "    geo_time = np.array(geo_time)\n",
    "    ix = np.abs(closest_approach_dist.flatten() - 14.8) < 0.2\n",
    "    if np.sum(ix) > 0:\n",
    "        close_times.append(event_data['time'].values.flatten()[ix])\n",
    "        geo_times.append(geo_time.flatten()[ix])\n",
    "        track_times.append(track_time)\n",
    "        charges.append(event_data['charge'].values.flatten()[ix])\n",
    "        sensor.append(event_data['sensor_id'].values.flatten()[ix])"
   ]
  },
  {
   "cell_type": "code",
   "execution_count": 7,
   "id": "bfbca75b",
   "metadata": {},
   "outputs": [
    {
     "name": "stdout",
     "output_type": "stream",
     "text": [
      "[array([928.20422096]), array([916.99231173]), array([954.33590291]), array([882.67978402]), array([925.85001964]), array([963.48787591]), array([967.69601228]), array([940.41667112]), array([914.84410347]), array([858.08429209]), array([82.30293388]), array([84.42858225]), array([833.91740015]), array([862.58074831]), array([922.28927806]), array([975.37660229]), array([957.4552143]), array([955.13044392]), array([903.92647258]), array([957.45520915]), array([916.31547958]), array([1010.33655087]), array([905.07415223]), array([873.88093988]), array([929.20475241]), array([934.03087186])]\n"
     ]
    }
   ],
   "source": [
    "print(charges)"
   ]
  },
  {
   "cell_type": "code",
   "execution_count": 8,
   "id": "6655f887",
   "metadata": {},
   "outputs": [
    {
     "name": "stdout",
     "output_type": "stream",
     "text": [
      "string: [66] dom [20]\n"
     ]
    }
   ],
   "source": [
    "f, r = divmod(sensor[0], 60)\n",
    "print('string:', f+1, 'dom', r+1)"
   ]
  },
  {
   "cell_type": "code",
   "execution_count": 9,
   "id": "44544f47",
   "metadata": {},
   "outputs": [
    {
     "name": "stdout",
     "output_type": "stream",
     "text": [
      "[ 6427.21500691  9170.56435231  9178.11010011  9182.70607388\n",
      "  9194.68371509  9196.93109684  9202.64200855  9203.13258173\n",
      "  9208.18096108  9210.71742846  9213.99571678  9220.6261072\n",
      "  9221.3212881   9226.74922904  9227.22409271  9229.34592036\n",
      "  9230.25475355  9230.35636643  9234.28692593  9243.77125092\n",
      "  9257.50484818  9259.77064743  9264.36875074  9267.97328702\n",
      "  9953.74687508 11998.69440768]\n",
      "[9213.9283786 9213.9283786 9213.9283786 9213.9283786 9213.9283786\n",
      " 9213.9283786 9213.9283786 9213.9283786 9213.9283786 9213.9283786\n",
      " 9213.9283786 9213.9283786 9213.9283786 9213.9283786 9213.9283786\n",
      " 9213.9283786 9213.9283786 9213.9283786 9213.9283786 9213.9283786\n",
      " 9213.9283786 9213.9283786 9213.9283786 9213.9283786 9213.9283786\n",
      " 9213.9283786]\n"
     ]
    }
   ],
   "source": [
    "print(np.sort(np.array(close_times).flatten()-np.array(track_times)))\n",
    "print(np.sort(np.array(geo_times).flatten()))"
   ]
  },
  {
   "cell_type": "code",
   "execution_count": 10,
   "id": "2a5aa6e6",
   "metadata": {},
   "outputs": [
    {
     "data": {
      "text/plain": [
       "(-25.0, 20.0)"
      ]
     },
     "execution_count": 10,
     "metadata": {},
     "output_type": "execute_result"
    },
    {
     "data": {
      "image/png": "[encoded data removed]",
      "text/plain": [
       "<Figure size 640x480 with 1 Axes>"
      ]
     },
     "metadata": {},
     "output_type": "display_data"
    }
   ],
   "source": [
    "plt.hist(np.array(close_times).flatten()-np.array(track_times)-np.array(geo_times).flatten())\n",
    "plt.xlim([-25, 20])"
   ]
  },
  {
   "cell_type": "code",
   "execution_count": 11,
   "id": "0c99b0a3",
   "metadata": {},
   "outputs": [],
   "source": [
    "min_times = []\n",
    "for i in range(100):\n",
    "    meta, pulses = sim_handler.get_event_data(i)\n",
    "    event_data = sim_handler.get_per_dom_summary_from_sim_data(meta, pulses)\n",
    "    sim_handler.replace_early_pulse(event_data, pulses)\n",
    "\n",
    "    track_time = meta['muon_time']\n",
    "    track_pos = [meta['muon_pos_x'], meta['muon_pos_y'], meta['muon_pos_z']]\n",
    "    track_dir = [meta['muon_zenith'], meta['muon_azimuth']]\n",
    "    \n",
    "    idx = event_data['charge'] > 10.0\n",
    "\n",
    "    dom_pos = jnp.array(event_data[idx][['x', 'y', 'z']].values)\n",
    "    track_pos = jnp.array(track_pos)\n",
    "    track_dir = jnp.array(track_dir)\n",
    "    track_dir_xyz = get_xyz_from_zenith_azimuth(track_dir)\n",
    "    geo_time, closest_approach_dist, closest_approach_z, closest_approach_rho = \\\n",
    "                    cherenkov_cylinder_coordinates_w_rho_v(dom_pos,\n",
    "                                                 track_pos,\n",
    "                                                 track_dir_xyz)\n",
    "\n",
    "    min_times.append(np.min(event_data[idx]['time']-track_time-geo_time))"
   ]
  },
  {
   "cell_type": "code",
   "execution_count": 12,
   "id": "ae275b7c",
   "metadata": {},
   "outputs": [
    {
     "name": "stdout",
     "output_type": "stream",
     "text": [
      "[-2.78884224e+03 -6.15740108e+02 -4.06123342e+02 -3.61062017e+02\n",
      " -7.24195382e+01 -7.04883688e+01 -6.67164947e+01 -5.34681600e+01\n",
      " -5.00412987e+01 -4.48806779e+01 -4.46100695e+01 -4.33640263e+01\n",
      " -4.30089771e+01 -3.98208333e+01 -3.95961201e+01 -3.94131633e+01\n",
      " -3.73506645e+01 -3.72342175e+01 -3.64497614e+01 -3.60176256e+01\n",
      " -3.58480982e+01 -2.88758427e+01 -2.84841601e+01 -2.84341682e+01\n",
      " -2.80529261e+01 -2.37646729e+01 -2.18025988e+01 -2.15780755e+01\n",
      " -1.93402016e+01 -1.74647047e+01 -1.69972818e+01 -1.61019475e+01\n",
      " -1.59261851e+01 -1.38536303e+01 -1.30860182e+01 -1.24648580e+01\n",
      " -1.14754466e+01 -1.13431155e+01 -1.12863700e+01 -1.08604427e+01\n",
      " -1.04739852e+01 -9.00359756e+00 -5.74741751e+00 -4.97960566e+00\n",
      " -2.99943236e+00 -1.96470694e+00 -1.14662796e+00 -1.00217609e+00\n",
      " -4.79456329e-01 -3.97584576e-01  5.84012790e-01  1.29268255e+00\n",
      "  3.46152317e+00  3.75736415e+00  6.17358815e+00  6.99010674e+00\n",
      "  9.78745688e+00  1.11930815e+01  1.16598683e+01  1.16814443e+01\n",
      "  1.23447994e+01  1.32957141e+01  1.33498250e+01  1.38674205e+01\n",
      "  1.42770585e+01  1.52397883e+01  1.57031098e+01  1.63263750e+01\n",
      "  1.65869105e+01  1.75607344e+01  2.03585473e+01  2.07408906e+01\n",
      "  2.21164160e+01  2.40480218e+01  2.41218725e+01  2.54188307e+01\n",
      "  2.83945875e+01  2.85751666e+01  3.03579289e+01  3.25833278e+01\n",
      "  3.28571954e+01  3.31459033e+01  3.32486935e+01  3.47445085e+01\n",
      "  3.79695651e+01  4.08147690e+01  4.32138805e+01  4.35764696e+01\n",
      "  4.51756887e+01  4.58422688e+01  4.59706116e+01  5.16435523e+01\n",
      "  5.25334523e+01  5.40449084e+01  5.77806179e+01  6.10105686e+01\n",
      "  6.62270574e+01  2.74738544e+03  2.75074558e+03  2.77442003e+03]\n"
     ]
    }
   ],
   "source": [
    "print(np.sort(np.array(min_times).flatten()))"
   ]
  },
  {
   "cell_type": "code",
   "execution_count": 13,
   "id": "64277b8d",
   "metadata": {},
   "outputs": [
    {
     "ename": "NameError",
     "evalue": "name 'meta_muon' is not defined",
     "output_type": "error",
     "traceback": [
      "\u001b[0;31m---------------------------------------------------------------------------\u001b[0m",
      "\u001b[0;31mNameError\u001b[0m                                 Traceback (most recent call last)",
      "Cell \u001b[0;32mIn[13], line 1\u001b[0m\n\u001b[0;32m----> 1\u001b[0m \u001b[43mmeta_muon\u001b[49m[\u001b[38;5;124m'\u001b[39m\u001b[38;5;124mtime\u001b[39m\u001b[38;5;124m'\u001b[39m]\n",
      "\u001b[0;31mNameError\u001b[0m: name 'meta_muon' is not defined"
     ]
    }
   ],
   "source": [
    "meta_muon['time']"
   ]
  },
  {
   "cell_type": "code",
   "execution_count": 18,
   "id": "e3db5e41",
   "metadata": {},
   "outputs": [],
   "source": [
    "from icecube import dataio, dataclasses, simclasses, icetray"
   ]
  },
  {
   "cell_type": "code",
   "execution_count": 15,
   "id": "e7470d27",
   "metadata": {},
   "outputs": [],
   "source": [
    "f = dataio.I3File('/home/storage2/hans/i3files/alerts/bfrv2_no_hole_ice_flat/i3_nominal/event_20027_N100_Part02.i3.zst')"
   ]
  },
  {
   "cell_type": "code",
   "execution_count": 16,
   "id": "e29c53f3",
   "metadata": {},
   "outputs": [],
   "source": [
    "frame = f.pop_physics()"
   ]
  },
  {
   "cell_type": "code",
   "execution_count": 17,
   "id": "990c2ef6",
   "metadata": {},
   "outputs": [],
   "source": [
    "pulses = dataclasses.I3RecoPulseSeriesMap.from_frame(frame, 'TWSRTHVInIcePulsesIC')\n",
    "mcpe_map = frame['I3MCPESeriesMapWithoutNoise']"
   ]
  },
  {
   "cell_type": "code",
   "execution_count": 21,
   "id": "729c6059",
   "metadata": {},
   "outputs": [],
   "source": [
    "key = icetray.OMKey(66, 20, 0)"
   ]
  },
  {
   "cell_type": "code",
   "execution_count": 22,
   "id": "4820274e",
   "metadata": {},
   "outputs": [],
   "source": [
    "pulses_close = pulses[key]\n",
    "mcpe_close = mcpe_map[key]"
   ]
  },
  {
   "cell_type": "code",
   "execution_count": 25,
   "id": "114c86c9",
   "metadata": {},
   "outputs": [
    {
     "name": "stdout",
     "output_type": "stream",
     "text": [
      "768.899998664856\n",
      "953.7401574803013\n"
     ]
    }
   ],
   "source": [
    "print(sum([q.charge for q in pulses_close]))\n",
    "print(sum([q.npe * 0.85 / 1.27 for q in mcpe_close]))"
   ]
  },
  {
   "cell_type": "code",
   "execution_count": 29,
   "id": "00c2ac35",
   "metadata": {},
   "outputs": [
    {
     "name": "stdout",
     "output_type": "stream",
     "text": [
      "10057.0\n",
      "10056.156227644758\n"
     ]
    }
   ],
   "source": [
    "print(pulses_close[0].time)\n",
    "print(mcpe_close[0].time)"
   ]
  },
  {
   "cell_type": "code",
   "execution_count": 31,
   "id": "3b52f621",
   "metadata": {},
   "outputs": [
    {
     "data": {
      "text/plain": [
       "<icecube._dataclasses.I3Particle at 0x7eaeacdfdaf0>"
      ]
     },
     "execution_count": 31,
     "metadata": {},
     "output_type": "execute_result"
    }
   ],
   "source": [
    "dataclasses.get_most_energetic_muon(frame['I3MCTree'])"
   ]
  },
  {
   "cell_type": "code",
   "execution_count": 34,
   "id": "ac9595b3",
   "metadata": {},
   "outputs": [
    {
     "name": "stdout",
     "output_type": "stream",
     "text": [
      "927.7058843304129 9215.891936378524 9215.526144753703\n",
      "916.4999945724712 9212.132907217036 9215.6096731428\n",
      "953.8235366344452 9214.740610448747 9215.060233167796\n",
      "882.2058886640212 9221.620545176256 9216.279007554422\n",
      "925.3529469405904 9216.356675312752 9215.577356082524\n",
      "962.9705960960949 9188.54613144804 9215.375252366433\n",
      "967.1764731933089 9202.43004486837 9214.879753709207\n",
      "939.9117778329288 9218.028082252114 9214.552451185375\n",
      "914.3529396547991 9217.25381901583 9216.635428200969\n",
      "939.8823484953713 9215.971637138518 9215.727912000804\n"
     ]
    }
   ],
   "source": [
    "f = dataio.I3File('/home/storage2/hans/i3files/alerts/bfrv2_no_hole_ice_flat/i3_nominal/event_20027_N100_Part00.i3.zst')\n",
    "while f.more():\n",
    "    frame = f.pop_physics()\n",
    "    pulses = dataclasses.I3RecoPulseSeriesMap.from_frame(frame, 'TWSRTHVInIcePulsesIC')\n",
    "    mcpe_map = frame['I3MCPESeriesMapWithoutNoise']\n",
    "    key = icetray.OMKey(66, 20, 0)\n",
    "    pulses_close = pulses[key]\n",
    "    mcpe_close = mcpe_map[key]\n",
    "    muon_time = dataclasses.get_most_energetic_muon(frame['I3MCTree']).time\n",
    "    \n",
    "    print(sum([q.charge for q in pulses_close])/0.85, pulses_close[0].time-muon_time, mcpe_close[0].time-muon_time)\n",
    "    \n",
    "    \n",
    "    "
   ]
  },
  {
   "cell_type": "code",
   "execution_count": null,
   "id": "d969cc21",
   "metadata": {},
   "outputs": [],
   "source": []
  }
 ],
 "metadata": {
  "kernelspec": {
   "display_name": "Python 3 (ipykernel)",
   "language": "python",
   "name": "python3"
  },
  "language_info": {
   "codemirror_mode": {
    "name": "ipython",
    "version": 3
   },
   "file_extension": ".py",
   "mimetype": "text/x-python",
   "name": "python",
   "nbconvert_exporter": "python",
   "pygments_lexer": "ipython3",
   "version": "3.11.5"
  }
 },
 "nbformat": 4,
 "nbformat_minor": 5
}
