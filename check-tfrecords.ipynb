{
 "cells": [
  {
   "cell_type": "code",
   "execution_count": 16,
   "metadata": {},
   "outputs": [],
   "source": [
    "import tensorflow as tf\n",
    "# from extract_data_from_i3files._lib.tfrecords_utils import parse_example  # your custom parser\n"
   ]
  },
  {
   "cell_type": "code",
   "execution_count": 2,
   "metadata": {},
   "outputs": [
    {
     "name": "stderr",
     "output_type": "stream",
     "text": [
      "2025-09-17 14:35:15.631791: W tensorflow/core/common_runtime/gpu/gpu_device.cc:1956] Cannot dlopen some GPU libraries. Please make sure the missing libraries mentioned above are installed properly if you would like to use GPU. Follow the guide at https://www.tensorflow.org/install/gpu for how to download and setup the required libraries for your platform.\n",
      "Skipping registering GPU devices...\n",
      "2025-09-17 14:35:15.796586: I tensorflow/core/common_runtime/executor.cc:1197] [/device:CPU:0] (DEBUG INFO) Executor start aborting (this does not indicate an error and you can ignore this message): INVALID_ARGUMENT: You must feed a value for placeholder tensor 'Placeholder/_0' with dtype string and shape [1]\n",
      "\t [[{{node Placeholder/_0}}]]\n"
     ]
    },
    {
     "name": "stdout",
     "output_type": "stream",
     "text": [
      "Number of events in TFRecord: 5621\n"
     ]
    }
   ],
   "source": [
    "\n",
    "\n",
    "tfrecord_file = \"/mnt/research/IceCube/Gupta-Reco/photon_tables_tfrecords/\"\n",
    "\n",
    "count = 0\n",
    "for _ in tf.data.TFRecordDataset(tfrecord_file):\n",
    "    count += 1\n",
    "\n",
    "print(f\"Number of events in TFRecord: {count}\")\n"
   ]
  },
  {
   "cell_type": "code",
   "execution_count": 6,
   "metadata": {},
   "outputs": [
    {
     "name": "stdout",
     "output_type": "stream",
     "text": [
      "Number of unique events in pulses file: 5621\n",
      "Number of unique events in meta file: 5621\n"
     ]
    }
   ],
   "source": [
    "import pandas as pd\n",
    "\n",
    "# Path to the Feather file\n",
    "pulse_file = \"/mnt/research/IceCube/Gupta-Reco/22645/tfrecords/pulses_ds_22645_from_0_to_1000_10_to_100TeV.ftr\"\n",
    "meta_file  = \"/mnt/research/IceCube/Gupta-Reco/22645/tfrecords/meta_ds_22645_from_0_to_1000_10_to_100TeV.ftr\"\n",
    "\n",
    "# Load the Feather files\n",
    "df_pulses = pd.read_feather(pulse_file)\n",
    "df_meta   = pd.read_feather(meta_file)\n",
    "\n",
    "# Count number of events\n",
    "num_pulses = len(df_pulses['event_id'].unique())\n",
    "num_meta   = len(df_meta['event_id'].unique())\n",
    "\n",
    "print(f\"Number of unique events in pulses file: {num_pulses}\")\n",
    "print(f\"Number of unique events in meta file: {num_meta}\")\n"
   ]
  },
  {
   "cell_type": "code",
   "execution_count": 3,
   "metadata": {},
   "outputs": [],
   "source": [
    "import os\n",
    "import glob"
   ]
  },
  {
   "cell_type": "code",
   "execution_count": 12,
   "metadata": {},
   "outputs": [
    {
     "name": "stdout",
     "output_type": "stream",
     "text": [
      "File train_data_zenith_131.81031489577862_azimuth_191.25000000000003.tfrecords exits\n",
      "File train_data_zenith_48.189685104221404_azimuth_303.75.tfrecords exits\n",
      "File train_data_zenith_23.556464309101234_azimuth_112.5.tfrecords exits\n",
      "File train_data_zenith_23.556464309101234_azimuth_157.5.tfrecords exits\n",
      "File train_data_zenith_90.0_azimuth_168.74999999999997.tfrecords exits\n",
      "File train_data_zenith_90.0_azimuth_281.25.tfrecords exits\n",
      "File train_data_zenith_90.0_azimuth_258.75.tfrecords exits\n",
      "File train_data_zenith_80.40593177313954_azimuth_180.0.tfrecords exits\n",
      "File train_data_zenith_23.556464309101234_azimuth_337.49999999999994.tfrecords exits\n",
      "File train_data_zenith_144.34091230386124_azimuth_45.0.tfrecords exits\n",
      "File train_data_zenith_131.81031489577862_azimuth_123.74999999999999.tfrecords exits\n",
      "File train_data_zenith_99.59406822686046_azimuth_180.0.tfrecords exits\n",
      "File train_data_zenith_120.00000000000001_azimuth_90.0.tfrecords exits\n",
      "File train_data_zenith_90.0_azimuth_191.25000000000003.tfrecords exits\n",
      "File train_data_zenith_90.0_azimuth_123.74999999999999.tfrecords exits\n",
      "File train_data_zenith_80.40593177313954_azimuth_157.5.tfrecords exits\n",
      "File train_data_zenith_35.65908769613876_azimuth_75.00000000000001.tfrecords exits\n",
      "File train_data_zenith_70.52877936550931_azimuth_213.74999999999997.tfrecords exits\n",
      "File train_data_zenith_60.00000000000001_azimuth_247.49999999999997.tfrecords exits\n",
      "File train_data_zenith_48.189685104221404_azimuth_11.25.tfrecords exits\n",
      "File train_data_zenith_48.189685104221404_azimuth_213.74999999999997.tfrecords exits\n",
      "File train_data_zenith_131.81031489577862_azimuth_348.7499999999999.tfrecords exits\n",
      "File train_data_zenith_80.40593177313954_azimuth_270.0.tfrecords exits\n",
      "File train_data_zenith_70.52877936550931_azimuth_11.25.tfrecords exits\n",
      "File train_data_zenith_120.00000000000001_azimuth_22.5.tfrecords exits\n",
      "File train_data_zenith_80.40593177313954_azimuth_315.0.tfrecords exits\n",
      "File train_data_zenith_60.00000000000001_azimuth_112.49999999999999.tfrecords exits\n",
      "File train_data_zenith_80.40593177313954_azimuth_247.49999999999997.tfrecords exits\n",
      "File train_data_zenith_90.0_azimuth_213.74999999999997.tfrecords exits\n",
      "File train_data_zenith_131.81031489577862_azimuth_281.25.tfrecords exits\n",
      "File train_data_zenith_144.34091230386124_azimuth_285.0.tfrecords exits\n",
      "File train_data_zenith_131.81031489577862_azimuth_11.25.tfrecords exits\n",
      "File train_data_zenith_35.65908769613876_azimuth_135.0.tfrecords exits\n",
      "File train_data_zenith_60.00000000000001_azimuth_315.0.tfrecords exits\n",
      "File train_data_zenith_35.65908769613876_azimuth_195.00000000000003.tfrecords exits\n",
      "File train_data_zenith_109.47122063449069_azimuth_303.75.tfrecords exits\n",
      "File train_data_zenith_48.189685104221404_azimuth_258.75.tfrecords exits\n",
      "File train_data_zenith_35.65908769613876_azimuth_224.99999999999997.tfrecords exits\n",
      "File train_data_zenith_99.59406822686046_azimuth_315.0.tfrecords exits\n",
      "File train_data_zenith_35.65908769613876_azimuth_45.0.tfrecords exits\n",
      "File train_data_zenith_156.44353569089878_azimuth_157.5.tfrecords exits\n",
      "File train_data_zenith_60.00000000000001_azimuth_270.0.tfrecords exits\n",
      "File train_data_zenith_48.189685104221404_azimuth_191.25000000000003.tfrecords exits\n",
      "File train_data_zenith_60.00000000000001_azimuth_292.50000000000006.tfrecords exits\n",
      "File train_data_zenith_70.52877936550931_azimuth_78.75.tfrecords exits\n",
      "File train_data_zenith_60.00000000000001_azimuth_90.0.tfrecords exits\n",
      "File train_data_zenith_99.59406822686046_azimuth_112.49999999999999.tfrecords exits\n",
      "File train_data_zenith_60.00000000000001_azimuth_202.49999999999997.tfrecords exits\n",
      "File train_data_zenith_11.715852394892384_azimuth_315.0.tfrecords exits\n",
      "File train_data_zenith_168.28414760510762_azimuth_315.0.tfrecords exits\n",
      "File train_data_zenith_131.81031489577862_azimuth_213.74999999999997.tfrecords exits\n",
      "File train_data_zenith_35.65908769613876_azimuth_14.999999999999998.tfrecords exits\n",
      "File train_data_zenith_168.28414760510762_azimuth_135.0.tfrecords exits\n",
      "File train_data_zenith_99.59406822686046_azimuth_0.0.tfrecords exits\n",
      "File train_data_zenith_48.189685104221404_azimuth_281.25.tfrecords exits\n",
      "File train_data_zenith_35.65908769613876_azimuth_285.0.tfrecords exits\n",
      "File train_data_zenith_109.47122063449069_azimuth_258.75.tfrecords exits\n",
      "File train_data_zenith_109.47122063449069_azimuth_56.24999999999999.tfrecords exits\n",
      "File train_data_zenith_48.189685104221404_azimuth_56.24999999999999.tfrecords exits\n",
      "File train_data_zenith_131.81031489577862_azimuth_101.24999999999999.tfrecords exits\n",
      "File train_data_zenith_90.0_azimuth_11.25.tfrecords exits\n",
      "File train_data_zenith_90.0_azimuth_348.7499999999999.tfrecords exits\n",
      "File train_data_zenith_99.59406822686046_azimuth_67.5.tfrecords exits\n",
      "File train_data_zenith_70.52877936550931_azimuth_146.25000000000003.tfrecords exits\n",
      "File train_data_zenith_23.556464309101234_azimuth_22.5.tfrecords exits\n",
      "File train_data_zenith_120.00000000000001_azimuth_315.0.tfrecords exits\n",
      "File train_data_zenith_120.00000000000001_azimuth_270.0.tfrecords exits\n",
      "File train_data_zenith_109.47122063449069_azimuth_348.7499999999999.tfrecords exits\n",
      "File train_data_zenith_80.40593177313954_azimuth_45.0.tfrecords exits\n",
      "File train_data_zenith_70.52877936550931_azimuth_56.24999999999999.tfrecords exits\n",
      "File train_data_zenith_109.47122063449069_azimuth_168.74999999999997.tfrecords exits\n",
      "File train_data_zenith_48.189685104221404_azimuth_146.25000000000003.tfrecords exits\n",
      "File train_data_zenith_131.81031489577862_azimuth_146.25000000000003.tfrecords exits\n",
      "File train_data_zenith_11.715852394892384_azimuth_135.0.tfrecords exits\n",
      "File train_data_zenith_99.59406822686046_azimuth_337.49999999999994.tfrecords exits\n",
      "File train_data_zenith_80.40593177313954_azimuth_337.49999999999994.tfrecords exits\n",
      "File train_data_zenith_60.00000000000001_azimuth_22.5.tfrecords exits\n",
      "File train_data_zenith_48.189685104221404_azimuth_78.75.tfrecords exits\n",
      "File train_data_zenith_60.00000000000001_azimuth_180.0.tfrecords exits\n",
      "File train_data_zenith_144.34091230386124_azimuth_135.0.tfrecords exits\n",
      "File train_data_zenith_60.00000000000001_azimuth_337.49999999999994.tfrecords exits\n",
      "File train_data_zenith_35.65908769613876_azimuth_344.99999999999994.tfrecords exits\n",
      "File train_data_zenith_120.00000000000001_azimuth_0.0.tfrecords exits\n",
      "File train_data_zenith_131.81031489577862_azimuth_168.74999999999997.tfrecords exits\n",
      "File train_data_zenith_131.81031489577862_azimuth_258.75.tfrecords exits\n",
      "File train_data_zenith_131.81031489577862_azimuth_303.75.tfrecords exits\n",
      "File train_data_zenith_131.81031489577862_azimuth_326.24999999999994.tfrecords exits\n",
      "File train_data_zenith_48.189685104221404_azimuth_348.7499999999999.tfrecords exits\n",
      "File train_data_zenith_109.47122063449069_azimuth_326.24999999999994.tfrecords exits\n",
      "File train_data_zenith_156.44353569089878_azimuth_112.5.tfrecords exits\n",
      "File train_data_zenith_99.59406822686046_azimuth_135.0.tfrecords exits\n",
      "File train_data_zenith_35.65908769613876_azimuth_104.99999999999999.tfrecords exits\n",
      "File train_data_zenith_80.40593177313954_azimuth_67.5.tfrecords exits\n",
      "File train_data_zenith_90.0_azimuth_236.25000000000003.tfrecords exits\n",
      "File train_data_zenith_109.47122063449069_azimuth_191.25000000000003.tfrecords exits\n",
      "File train_data_zenith_99.59406822686046_azimuth_270.0.tfrecords exits\n",
      "File train_data_zenith_11.715852394892384_azimuth_225.0.tfrecords exits\n",
      "File train_data_zenith_131.81031489577862_azimuth_33.75.tfrecords exits\n",
      "File train_data_zenith_131.81031489577862_azimuth_78.75.tfrecords exits\n",
      "File train_data_zenith_168.28414760510762_azimuth_225.0.tfrecords exits\n",
      "File train_data_zenith_80.40593177313954_azimuth_90.0.tfrecords exits\n",
      "File train_data_zenith_109.47122063449069_azimuth_146.25000000000003.tfrecords exits\n",
      "File train_data_zenith_11.715852394892384_azimuth_45.0.tfrecords exits\n",
      "File train_data_zenith_70.52877936550931_azimuth_258.75.tfrecords exits\n",
      "File train_data_zenith_60.00000000000001_azimuth_157.5.tfrecords exits\n",
      "File train_data_zenith_48.189685104221404_azimuth_168.74999999999997.tfrecords exits\n",
      "File train_data_zenith_90.0_azimuth_326.24999999999994.tfrecords exits\n",
      "File train_data_zenith_144.34091230386124_azimuth_164.99999999999997.tfrecords exits\n",
      "File train_data_zenith_109.47122063449069_azimuth_213.74999999999997.tfrecords exits\n",
      "File train_data_zenith_109.47122063449069_azimuth_101.24999999999999.tfrecords exits\n",
      "File train_data_zenith_23.556464309101234_azimuth_67.5.tfrecords exits\n",
      "File train_data_zenith_156.44353569089878_azimuth_22.5.tfrecords exits\n",
      "File train_data_zenith_80.40593177313954_azimuth_292.50000000000006.tfrecords exits\n",
      "File train_data_zenith_90.0_azimuth_33.75.tfrecords exits\n",
      "File train_data_zenith_48.189685104221404_azimuth_326.24999999999994.tfrecords exits\n",
      "File train_data_zenith_70.52877936550931_azimuth_123.74999999999999.tfrecords exits\n",
      "File train_data_zenith_168.28414760510762_azimuth_45.0.tfrecords exits\n",
      "File train_data_zenith_35.65908769613876_azimuth_315.0.tfrecords exits\n",
      "File train_data_zenith_60.00000000000001_azimuth_224.99999999999997.tfrecords exits\n",
      "File train_data_zenith_144.34091230386124_azimuth_255.0.tfrecords exits\n",
      "File train_data_zenith_109.47122063449069_azimuth_33.75.tfrecords exits\n",
      "File train_data_zenith_109.47122063449069_azimuth_123.74999999999999.tfrecords exits\n",
      "File train_data_zenith_80.40593177313954_azimuth_112.49999999999999.tfrecords exits\n",
      "File train_data_zenith_144.34091230386124_azimuth_75.00000000000001.tfrecords exits\n",
      "File train_data_zenith_120.00000000000001_azimuth_112.49999999999999.tfrecords exits\n",
      "File train_data_zenith_99.59406822686046_azimuth_224.99999999999997.tfrecords exits\n",
      "File train_data_zenith_120.00000000000001_azimuth_247.49999999999997.tfrecords exits\n",
      "File train_data_zenith_48.189685104221404_azimuth_123.74999999999999.tfrecords exits\n",
      "File train_data_zenith_144.34091230386124_azimuth_14.999999999999998.tfrecords exits\n",
      "File train_data_zenith_120.00000000000001_azimuth_67.5.tfrecords exits\n",
      "File train_data_zenith_99.59406822686046_azimuth_202.49999999999997.tfrecords exits\n",
      "File train_data_zenith_80.40593177313954_azimuth_202.49999999999997.tfrecords exits\n",
      "File train_data_zenith_70.52877936550931_azimuth_33.75.tfrecords exits\n",
      "File train_data_zenith_156.44353569089878_azimuth_247.49999999999997.tfrecords exits\n",
      "File train_data_zenith_120.00000000000001_azimuth_135.0.tfrecords exits\n",
      "135\n"
     ]
    }
   ],
   "source": [
    "outdir = f\"/mnt/research/IceCube/Gupta-Reco/photon_tables_tfrecords/\"\n",
    "indir = f\"/mnt/research/IceCube/Gupta-Reco/photon_tables_pkl/\"\n",
    "outdir = f\"/mnt/research/IceCube/Gupta-Reco/photon_tables_tfrecords/\"\n",
    "arguments = []\n",
    "infiles = glob.glob(os.path.join(indir, \"*.pkl\"))\n",
    "i = 0\n",
    "for infile in infiles:\n",
    "    argument_dict = dict()\n",
    "    zenith = float(infile.split(\"_\")[-2][6:])\n",
    "    azimuth = float(infile.split(\"_\")[-1][7:-4])  \n",
    "    file = \"train_data_zenith_\"+str(zenith)+\"_azimuth_\"+str(azimuth)+\".tfrecords\"\n",
    "    file_path = outdir+file\n",
    "    if os.path.exists(file_path):\n",
    "        i+=1\n",
    "        print(f\"File {file} exits\")\n",
    "        continue\n",
    "    argument_dict['zenith'] = zenith\n",
    "    argument_dict['azimuth'] = azimuth\n",
    "    argument_dict['infile'] = infile\n",
    "    argument_dict['outdir'] = outdir\n",
    "\n",
    "    arguments.append(argument_dict)\n",
    "print(i)"
   ]
  },
  {
   "cell_type": "code",
   "execution_count": 14,
   "metadata": {},
   "outputs": [
    {
     "data": {
      "text/plain": [
       "57"
      ]
     },
     "execution_count": 14,
     "metadata": {},
     "output_type": "execute_result"
    }
   ],
   "source": [
    "len(arguments)"
   ]
  },
  {
   "cell_type": "code",
   "execution_count": 17,
   "metadata": {},
   "outputs": [
    {
     "name": "stdout",
     "output_type": "stream",
     "text": [
      "features {\n",
      "  feature {\n",
      "    key: \"labels\"\n",
      "    value {\n",
      "      bytes_list {\n",
      "        value: \"\\010\\001\\022\\005\\022\\003\\010\\254\\002\\\"\\260\\t\\000\\000\\000\\000\\000\\000\\000\\000\\035l\\206A\\017X\\023C.JVC\\366\\204\\023C*\\353\\271B\\001\\301\\222B\\235\\301<Bw\\314&B\\356\\251\\036B\\362\\304\\367AG\\255\\351A\\257\\321\\313A]P\\325A\\352\\007\\276A\\013\\347\\263A\\322\\256\\241A\\326\\007\\225A\\330q\\217A\\342\\255\\215A\\350\\271\\177A\\236\\320]A\\366\\021JA\\267\\2203A\\232\\2656Au\\010-A\\256\\250\\031AF\\350\\035A\\271\\234\\006A\\235x\\313@\\263%\\324@n\\007\\361@\\3273\\264@\\346X\\276@$\\256\\273@\\235\\306\\205@\\243\\306\\211@y\\307q@\\021k\\204@m;\\211@\\364^M@6XQ@\\343 A@\\000\\352\\010@q\\2019@\\373\\336]@\\033\\317W@F\\035\\355?\\232\\035\\007@\\036\\247&@\\202\\346\\010@=\\315\\003@\\005\\004\\356?\\242\\262\\016@\\006\\r\\373?\\361n\\341?\\330\\204\\n@\\004\\253u?\\224\\\\\\335?5\\377\\314?\\213Of?2\\366\\244?\\016\\027\\252?sYJ?\\350\\221\\223?\\334\\356P?\\373@\\216?\\371\\r\\274?\\232\\224\\242?\\261l\\322?\\323\\200\\216?\\353xY?\\007\\241\\205?\\204\\375\\242?\\361(\\271?8\\2256?u\\230:?\\325T\\315>\\244\\353\\035?\\377\\214\\374>[h\\265>\\331\\251\\344>\\244\\316&?\\317\\007T?\\023q\\001?\\341\\325\\236>{mU?\\332\\342h>\\366Y\\336>\\026\\262w>\\343\\312Q?\\230W\\304>1\\313\\276>\\023\\246C>\\0207\\333>\\260\\n\\251>n\\033\\003?\\316\\271F?\\254\\024\\'?$s\\240>\\200P\\322>\\367\\350\\214> h\\217>\\302\\na>w\\234\\327>\\374\\315\\030?u_\\n?O\\r\\317>\\272>\\232>\\240\\244\\226>\\311\\270\\020?\\367\\nm>x<\\213>~3\\241>Q\\362\\236>a\\017\\212>\\273\\354\\231>\\354a\\216>\\233\\275\\264>\\010\\314s>\\t\\016B>\\\\\\277^>I\\2473>\\\\\\025\\256>\\315\\031z>\\3010\\023>Q\\246\\033>\\271H\\333=\\216ZJ>\\202G\\026=\\t\\231G>?U\\371=V\\302\\234>\\264+\\322>\\313\\226\\365=\\006\\210\\275=\\212+2>^\\004\\004>B\\2347>Y~\\035=\\221~m=\\245h\\020>\\267\\006\\357=\\376\\334<>`y\\327=\\362\\017\\326<\\365\\322\\325=\\220\\301\\027>\\000\\313\\247<\\023\\027\\253<3+\\313=~\\2033=\\235\\245\\223=\\340X\\022>\\033\\313\\272=\\2007\\272<\\266I\\230=S\\305K=\\211< =\\261\\315\\037=|X\\313<\\034\\343\\006=\\215<\\225=c\\251\\\"=mcI=A\\365\\027=\\310v\\340<\\013\\267\\025=~\\025\\220<)[\\212=\\t\\276*=\\367g\\022=\\376\\203\\375;\\216\\227\\234<\\333!\\200=J\\333%=\\275\\233\\001=\\350\\245\\306<\\242\\276\\205<\\022\\273\\342:\\276Mg<\\277s|<,\\0133<D\\206\\317;\\333\\321\\246<D@3=Y\\252\\343<\\371}c<\\305\\346\\362<AJ\\235<>\\364M<)\\202\\345<\\t\\007\\355;v\\350\\216<\\204\\375 <\\321\\301\\327<x\\270\\030<<\\317q<\\323\\236\\025<\\001\\330\\n<\\304e5<\\210\\335\\302;\\255P\\021<\\357\\262\\323<M:J<st\\341;\\273\\344);\\005\\334\\336;\\310\\334L;\\361\\020S<\\376h\\223;\\272\\234\\255;\\003<\\241;\\024\\314\\212;\\360\\000\\225;\\223&\\243;\\224\\371\\027<\\2763\\332;\\314^\\320:\\372\\216\\226;\\370n];%\\217\\n;\\231\\375\\203;\\233\\360\\316:\\234MY;/\\3224:\\2742u;\\233\\037\\276;\\364)Q;_\\\"\\272; \\335\\007:\\021\\002\\003<\\033\\032\\242;\\nK\\214:n\\002\\035;\\321\\236,;VM\\235:Q>\\030;{\\276\\022:\\363\\215Y;@%\\307:Q<\\210;C\\313\\010;\\223\\215\\250:\\\"pP;\\225\\216\\223:\\230\\252\\3439As\\2479\\253\\307\\362:;\\342);\\030\\212+9\\276\\023G:\\231\\206\\356:\\365J\\3569ls[:\\220\\313\\2409\\356\\005\\':\\325f\\0219]\\360H8\\033\\270\\211:\\021\\204\\035:\\205\\320S9dT\\3749\\301#E98\\357`9[\\367\\2248+\\003\\2008\\346C\\3339\\214\\203V9\\000\\000\\000\\000[=c9\\020\\350}9\\034j\\2468\\200#\\0319\\032\\017\\3478J\\010\\3137\\260\\371\\3508\\230\\232N9\\200Z\\36186\\363\\3667\\345\\361\\3118.\\205\\3168t\\033\\2308\\315\\242`9\\021\\255\\3769=\\276Z7=\\320\\3179\\213T\\0069B\\002\\00689D\\0209\\330-\\0379\\3521S8B\\326\\0368\\265\\245`8\\2407j91}\\3246\\314$\\3148\\304\\341;7W\\206h8\"\n",
      "      }\n",
      "    }\n",
      "  }\n",
      "  feature {\n",
      "    key: \"input_features\"\n",
      "    value {\n",
      "      bytes_list {\n",
      "        value: \"\\010\\001\\022\\004\\022\\002\\010\\005\\\"\\024*\\302\\262;\\024\\256\\307\\276\\216\\343x\\277\\253\\252\\252\\276\\000\\000\\020?\"\n",
      "      }\n",
      "    }\n",
      "  }\n",
      "}\n",
      "\n"
     ]
    },
    {
     "name": "stderr",
     "output_type": "stream",
     "text": [
      "2025-09-23 13:45:03.088679: W tensorflow/core/common_runtime/gpu/gpu_device.cc:1956] Cannot dlopen some GPU libraries. Please make sure the missing libraries mentioned above are installed properly if you would like to use GPU. Follow the guide at https://www.tensorflow.org/install/gpu for how to download and setup the required libraries for your platform.\n",
      "Skipping registering GPU devices...\n",
      "2025-09-23 13:45:03.277493: I tensorflow/core/common_runtime/executor.cc:1197] [/device:CPU:0] (DEBUG INFO) Executor start aborting (this does not indicate an error and you can ignore this message): INVALID_ARGUMENT: You must feed a value for placeholder tensor 'Placeholder/_0' with dtype string and shape [1]\n",
      "\t [[{{node Placeholder/_0}}]]\n"
     ]
    },
    {
     "ename": "",
     "evalue": "",
     "output_type": "error",
     "traceback": [
      "\u001b[1;31mThe Kernel crashed while executing code in the the current cell or a previous cell. Please review the code in the cell(s) to identify a possible cause of the failure. Click <a href='https://aka.ms/vscodeJupyterKernelCrash'>here</a> for more info. View Jupyter <a href='command:jupyter.viewOutput'>log</a> for further details."
     ]
    }
   ],
   "source": [
    "import tensorflow as tf\n",
    "\n",
    "dataset = tf.data.TFRecordDataset(\"/mnt/research/IceCube/Gupta-Reco/photon_tables_tfrecords/train_data_zenith_109.47122063449069_azimuth_101.24999999999999.tfrecords\")\n",
    "\n",
    "for records in dataset.take(1):\n",
    "    a = tf.train.Example()\n",
    "    a.ParseFromString(records.numpy())\n",
    "    print(a)"
   ]
  },
  {
   "cell_type": "code",
   "execution_count": null,
   "metadata": {},
   "outputs": [],
   "source": []
  }
 ],
 "metadata": {
  "kernelspec": {
   "display_name": "3pandelnet",
   "language": "python",
   "name": "python3"
  },
  "language_info": {
   "codemirror_mode": {
    "name": "ipython",
    "version": 3
   },
   "file_extension": ".py",
   "mimetype": "text/x-python",
   "name": "python",
   "nbconvert_exporter": "python",
   "pygments_lexer": "ipython3",
   "version": "3.10.14"
  }
 },
 "nbformat": 4,
 "nbformat_minor": 2
}
