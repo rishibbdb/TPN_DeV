{
 "cells": [
  {
   "cell_type": "code",
   "execution_count": 1,
   "metadata": {},
   "outputs": [
    {
     "name": "stderr",
     "output_type": "stream",
     "text": [
      "2025-10-03 10:53:15.066779: W tensorflow/compiler/tf2tensorrt/utils/py_utils.cc:38] TF-TRT Warning: Could not find TensorRT\n"
     ]
    }
   ],
   "source": [
    "import sys, os\n",
    "sys.path.insert(0, \"/mnt/scratch/baburish/TPN-training/TriplePandelReco_JAX\")\n",
    "os.environ['CUDA_VISIBLE_DEVICES'] = '0'\n",
    "\n",
    "from tensorflow_probability.substrates import jax as tfp\n",
    "# Import JAX and require double precision.\n",
    "import jax.numpy as jnp\n",
    "import jax\n",
    "jax.config.update(\"jax_enable_x64\", True)\n",
    "dtype = jnp.float64\n",
    "\n",
    "# Other tools.\n",
    "import numpy as np\n",
    "import matplotlib.pyplot as plt\n",
    "import matplotlib as mpl\n",
    "\n",
    "# Import TriplePandel stuff\n",
    "from lib.simdata_i3 import I3SimHandler\n",
    "from lib.geo import center_track_pos_and_time_based_on_data\n",
    "from lib.gupta_network_eqx_4comp import get_network_eval_v_fn, get_network_eval_v_fn_f32\n",
    "from lib.experimental_methods import get_vertex_seeds\n",
    "from fitting.llh_scanner import get_scanner\n",
    "from fitting.llh_fitter import get_fitter\n",
    "from dom_track_eval import get_eval_network_doms_and_track\n",
    "from likelihood_conv_mpe_logsumexp_gupta import get_neg_c_triple_gamma_llh\n",
    "\n",
    "# A custom color scheme\n",
    "from palettable.cubehelix import Cubehelix\n",
    "cx = Cubehelix.make(start=0.3, rotation=-0.5, n=16, reverse=False, gamma=1.0,\n",
    "     \tmax_light=1.0,max_sat=0.5, min_sat=1.4).get_mpl_colormap()\n",
    "\n",
    "# Specify the grid.\n",
    "dzen = 0.07 # rad\n",
    "dazi = 0.07 # rad\n",
    "n_eval = 50 # number of grid points per axes\n",
    "\n",
    "# Assume 4-component gupta by default\n",
    "n_hidden = 96\n",
    "gupta = True\n",
    "n_comp = 4"
   ]
  },
  {
   "cell_type": "code",
   "execution_count": 2,
   "metadata": {},
   "outputs": [],
   "source": [
    "network_path = '/mnt/scratch/baburish/TPN-training/gupta_mixture_jax/test_no_penalties_tree_start_epoch_35.eqx'"
   ]
  },
  {
   "cell_type": "code",
   "execution_count": 5,
   "metadata": {},
   "outputs": [],
   "source": [
    "network_path = '/mnt/scratch/baburish/TPN-training/TriplePandelReco_JAX/data/gupta/n96_4comp/new_model_no_penalties_tree_start_epoch_800.eqx'"
   ]
  },
  {
   "cell_type": "code",
   "execution_count": 3,
   "metadata": {},
   "outputs": [
    {
     "name": "stdout",
     "output_type": "stream",
     "text": [
      "Running f64 model\n"
     ]
    },
    {
     "name": "stderr",
     "output_type": "stream",
     "text": [
      "2025-10-03 10:53:18.662606: W external/xla/xla/service/gpu/nvptx_compiler.cc:836] The NVIDIA driver's CUDA version is 12.6 which is older than the PTX compiler version (12.9.86). Because the driver is older than the PTX compiler version, XLA is disabling parallel compilation, which may slow down compilation. You should update your NVIDIA driver or use the NVIDIA-provided CUDA forward compatibility packages.\n"
     ]
    },
    {
     "name": "stdout",
     "output_type": "stream",
     "text": [
      "Running f32 model\n"
     ]
    }
   ],
   "source": [
    "try:\n",
    "    ni = \"f64\"\n",
    "    print(\"Running f64 model\")\n",
    "    eval_network_v = get_network_eval_v_fn(bpath=network_path, dtype=dtype, n_hidden=n_hidden)\n",
    "except:\n",
    "    ni = \"f32\"\n",
    "    print(\"Running f32 model\")\n",
    "    eval_network_v = get_network_eval_v_fn_f32(bpath=network_path, dtype=dtype, n_hidden=n_hidden)\n",
    "\n",
    "eval_network_doms_and_track = get_eval_network_doms_and_track(eval_network_v, dtype=dtype, gupta=gupta, n_comp=n_comp)"
   ]
  },
  {
   "cell_type": "code",
   "execution_count": 20,
   "metadata": {},
   "outputs": [],
   "source": [
    "PATH_TO_INPUT = '/mnt/research/IceCube/Gupta-Reco/22645/tfrecords/ftr/'\n",
    "META_FILE_NAME = 'meta_ds_22645_from_0_to_1000_10_to_100TeV.ftr'\n",
    "PULSES_FILE_NAME = 'pulses_ds_22645_from_0_to_1000_10_to_100TeV.ftr'"
   ]
  },
  {
   "cell_type": "code",
   "execution_count": 42,
   "metadata": {},
   "outputs": [],
   "source": [
    "PATH_TO_INPUT = '/mnt/scratch/baburish/TPN-training/highE_data'\n",
    "META_FILE_NAME = 'meta_ds_event_8_N100_from_0_to_10_1st_pulse.ftr'\n",
    "PULSES_FILE_NAME = 'pulses_ds_event_8_N100_from_0_to_10_1st_pulse.ftr'\n"
   ]
  },
  {
   "cell_type": "code",
   "execution_count": 4,
   "metadata": {},
   "outputs": [],
   "source": [
    "PATH_TO_INPUT = '/mnt/scratch/baburish/TPN-training/lowE_data'\n",
    "META_FILE_NAME = 'meta_ds_event_5352_from_0_to_10_1st_pulse.ftr'\n",
    "PULSES_FILE_NAME = 'pulses_ds_event_5352_from_0_to_10_1st_pulse.ftr'\n"
   ]
  },
  {
   "cell_type": "code",
   "execution_count": 4,
   "metadata": {},
   "outputs": [],
   "source": [
    "PATH_TO_INPUT = '/mnt/scratch/baburish/TPN-training/matti'\n",
    "META_FILE_NAME = 'meta_ds_21217_from_10000_to_20000_1_to_10TeV.ftr'\n",
    "PULSES_FILE_NAME = 'pulses_ds_21217_from_10000_to_20000_1_to_10TeV.ftr'"
   ]
  },
  {
   "cell_type": "code",
   "execution_count": 5,
   "metadata": {},
   "outputs": [],
   "source": [
    "sim_handler = I3SimHandler(\n",
    "\t\t\t\t\tos.path.join(PATH_TO_INPUT, META_FILE_NAME),\n",
    "                    os.path.join(PATH_TO_INPUT, PULSES_FILE_NAME),\n",
    "                    'data/icecube/detector_geometry.csv'\n",
    "\t\t\t\t)"
   ]
  },
  {
   "cell_type": "code",
   "execution_count": 6,
   "metadata": {},
   "outputs": [
    {
     "name": "stdout",
     "output_type": "stream",
     "text": [
      "muon energy: 21.7 TeV\n",
      "n_doms 49\n",
      "true direction: [2.73088889 4.10857937]\n"
     ]
    }
   ],
   "source": [
    "EVENT_INDEX=0\n",
    "\n",
    "meta, pulses = sim_handler.get_event_data(EVENT_INDEX)\n",
    "print(f\"muon energy: {meta['muon_energy']/1.e3:.1f} TeV\")\n",
    "\n",
    "# Get dom locations, first hit times, and total charges (for each dom).\n",
    "event_data = sim_handler.get_per_dom_summary_from_sim_data(meta, pulses)\n",
    "\n",
    "# Remove early pulses.\n",
    "sim_handler.replace_early_pulse(event_data, pulses)\n",
    "print(\"n_doms\", len(event_data))\n",
    "\n",
    "# Get MCTruth.\n",
    "true_pos = jnp.array([meta['muon_pos_x'], meta['muon_pos_y'], meta['muon_pos_z']])\n",
    "true_time = meta['muon_time']\n",
    "true_zenith = meta['muon_zenith']\n",
    "true_azimuth = meta['muon_azimuth']\n",
    "true_src = jnp.array([true_zenith, true_azimuth])\n",
    "print(\"true direction:\", true_src)"
   ]
  },
  {
   "cell_type": "code",
   "execution_count": 7,
   "metadata": {},
   "outputs": [],
   "source": [
    "SEED =  \"spline_mpe\"\n",
    "if SEED == \"spline_mpe\":\n",
    "    # Use SplineMPE as a seed.\n",
    "    track_pos = jnp.array([meta['spline_mpe_pos_x'], meta['spline_mpe_pos_y'], meta['spline_mpe_pos_z']])\n",
    "    track_time = meta['spline_mpe_time']\n",
    "    track_zenith = meta['spline_mpe_zenith']\n",
    "    track_azimuth = meta['spline_mpe_azimuth']\n",
    "    track_src = jnp.array([track_zenith, track_azimuth])\n",
    "\n",
    "elif SEED == \"truth\":\n",
    "    track_pos = true_pos\n",
    "    track_time = true_time\n",
    "    track_zenith = true_zenith\n",
    "    track_azimuth = true_azimuth\n",
    "    track_src = true_src"
   ]
  },
  {
   "cell_type": "code",
   "execution_count": 8,
   "metadata": {},
   "outputs": [
    {
     "name": "stdout",
     "output_type": "stream",
     "text": [
      "seed direction: [156.7743717  230.76694839] deg\n",
      "original seed vertex: [  10.47918979   98.99622507 -289.4440387 ] m\n",
      "shifting seed vertex.\n",
      "seed vertex: [ 83.12259525 187.96101034 -21.79666099] m\n",
      "(49, 5)\n"
     ]
    }
   ],
   "source": [
    "print(\"seed direction:\", np.rad2deg(track_src), \"deg\")\n",
    "print(\"original seed vertex:\", track_pos, \"m\")\n",
    "\n",
    "center_track_seed = True\n",
    "\n",
    "centered_track_pos, centered_track_time = track_pos, track_time\n",
    "if center_track_seed:\n",
    "    print(\"shifting seed vertex.\")\n",
    "    centered_track_pos, centered_track_time = center_track_pos_and_time_based_on_data(event_data, track_pos, track_time, track_src)\n",
    "\n",
    "print(\"seed vertex:\", centered_track_pos, \"m\")\n",
    "\n",
    "fitting_event_data = jnp.array(event_data[['x', 'y', 'z', 'time', 'charge']].to_numpy())\n",
    "print(fitting_event_data.shape)"
   ]
  },
  {
   "cell_type": "code",
   "execution_count": 9,
   "metadata": {},
   "outputs": [],
   "source": [
    "GAUS_CONV_WIDTH = 3.0\n",
    "neg_llh = get_neg_c_triple_gamma_llh(eval_network_doms_and_track, sigma=GAUS_CONV_WIDTH)"
   ]
  },
  {
   "cell_type": "code",
   "execution_count": 10,
   "metadata": {},
   "outputs": [
    {
     "name": "stdout",
     "output_type": "stream",
     "text": [
      "\n",
      "solution found.\n",
      "logl: 803.070\n",
      "direction: [156.55967624 232.68462498] deg\n",
      "\n"
     ]
    }
   ],
   "source": [
    "use_multiple_vertex_seeds = True\n",
    "prescan_time = True\n",
    "fit_llh = get_fitter(\n",
    "                        neg_llh,\n",
    "                        use_multiple_vertex_seeds=use_multiple_vertex_seeds,\n",
    "                        prescan_time=prescan_time\n",
    "                    )\n",
    "\n",
    "# JIT! We want it to be fast.\n",
    "fit_llh_jit = jax.jit(fit_llh)\n",
    "\n",
    "# Run the fit\n",
    "solution = fit_llh_jit(track_src, centered_track_pos, centered_track_time, fitting_event_data)\n",
    "best_logl, best_direction, best_vertex, best_time= solution\n",
    "\n",
    "print(\"\")\n",
    "print(\"solution found.\")\n",
    "print(f\"logl: {best_logl:.3f}\")\n",
    "print(f\"direction: {np.rad2deg(best_direction)} deg\")\n",
    "print(\"\")"
   ]
  },
  {
   "cell_type": "code",
   "execution_count": 11,
   "metadata": {},
   "outputs": [
    {
     "name": "stdout",
     "output_type": "stream",
     "text": [
      "running the scan.\n"
     ]
    }
   ],
   "source": [
    "N_SPLITS = 50\n",
    "\n",
    "scan_llh = get_scanner(\n",
    "                        neg_llh,\n",
    "                        use_multiple_vertex_seeds=use_multiple_vertex_seeds,\n",
    "                        prescan_time=prescan_time,\n",
    "                        n_splits=N_SPLITS,\n",
    "                        use_jit=True\n",
    "                    )\n",
    "\n",
    "zenith = jnp.linspace(true_src[0]-dzen, true_src[0]+dazi, n_eval)\n",
    "azimuth = jnp.linspace(true_src[1]-dzen, true_src[1]+dazi, n_eval)\n",
    "X, Y = jnp.meshgrid(zenith, azimuth)\n",
    "\n",
    "print(\"running the scan.\")"
   ]
  },
  {
   "cell_type": "code",
   "execution_count": 12,
   "metadata": {},
   "outputs": [],
   "source": [
    "solution = scan_llh(X, Y, best_vertex, best_time, fitting_event_data)\n",
    "# use below if you want to use original seed values (not best-fit values)\n",
    "# as seed for vertex minimization during scan.\n",
    "# solution = scan_llh(X, Y, centered_track_pos, centered_track_time, fitting_event_data)\n",
    "\n",
    "sol_logl, sol_vertex, sol_time = solution\n",
    "logls = sol_logl.reshape(X.shape)"
   ]
  },
  {
   "cell_type": "code",
   "execution_count": 13,
   "metadata": {},
   "outputs": [
    {
     "data": {
      "image/png": "[encoded data removed]",
      "text/plain": [
       "<Figure size 640x480 with 2 Axes>"
      ]
     },
     "metadata": {},
     "output_type": "display_data"
    },
    {
     "ename": "",
     "evalue": "",
     "output_type": "error",
     "traceback": [
      "\u001b[1;31mThe Kernel crashed while executing code in the the current cell or a previous cell. Please review the code in the cell(s) to identify a possible cause of the failure. Click <a href='https://aka.ms/vscodeJupyterKernelCrash'>here</a> for more info. View Jupyter <a href='command:jupyter.viewOutput'>log</a> for further details."
     ]
    }
   ],
   "source": [
    "# Plot.\n",
    "fig, ax = plt.subplots()\n",
    "min_logl = np.amin(logls)\n",
    "delta_logl = logls - np.amin(logls)\n",
    "pc = ax.pcolormesh(np.rad2deg(X), np.rad2deg(Y), delta_logl, vmin=0, vmax=np.min([100, 1.2*np.amax(delta_logl)]), shading='auto', cmap=cx)\n",
    "# pc = ax.pcolormesh(np.rad2deg(X), np.rad2deg(Y), delta_logl, vmin=0, shading='auto', cmap=cx)\n",
    "cbar = fig.colorbar(pc)\n",
    "cbar.ax.tick_params(labelsize=16)\n",
    "cbar.ax.get_yaxis().labelpad = 5\n",
    "cbar.set_label(\"-2$\\\\Delta$log $L_{MPE}$\", fontsize=20)\n",
    "cbar.outline.set_linewidth(1.5)\n",
    "\n",
    "contours = [4.61]\n",
    "ix1, ix2 = np.where(delta_logl==0)\n",
    "ax.scatter(np.rad2deg([X[ix1, ix2]]), np.rad2deg([Y[ix1, ix2]]), s=50, marker='o', facecolors='none', edgecolors='khaki', zorder=100., label='grid min')\n",
    "ct = plt.contour(np.rad2deg(X), np.rad2deg(Y), delta_logl, levels=contours, linestyles=['solid'], colors=['khaki'], linewidths=1.0)\n",
    "\n",
    "ax.scatter(np.rad2deg(true_src[0]), np.rad2deg(true_src[1]), marker=\"*\", color='red', label=\"truth\", zorder=200)\n",
    "ax.scatter(np.rad2deg(track_src[0]), np.rad2deg(track_src[1]), marker=\"x\", color='lime', label=\"seed\", zorder=200)\n",
    "ax.scatter(np.rad2deg(best_direction[0]), np.rad2deg(best_direction[1]), marker=\"x\", color=\"magenta\", label=\"best-fit\", zorder=200)\n",
    "\n",
    "ax.set_xlabel(\"zenith [deg]\", fontsize=16)\n",
    "ax.set_ylabel(\"azimuth [deg]\", fontsize=16)\n",
    "ax.set_xlim(np.rad2deg([true_src[0]-dzen, true_src[0]+dzen]))\n",
    "ax.set_ylim(np.rad2deg([true_src[1]-dazi, true_src[1]+dazi]))\n",
    "ax.tick_params(axis='both', which='both', width=1.5, colors='0.0', labelsize=16)\n",
    "\n",
    "plt.legend()\n",
    "plt.tight_layout()\n",
    "# plt.savefig(f\"f32_scan_ev_{EVENT_INDEX}.png\", dpi=300)\n",
    "# plt.savefig(f\"{ni}_scan_ev_{EVENT_INDEX}.png\", dpi=300)\n",
    "plt.show()"
   ]
  },
  {
   "cell_type": "code",
   "execution_count": null,
   "metadata": {},
   "outputs": [],
   "source": []
  }
 ],
 "metadata": {
  "kernelspec": {
   "display_name": "3pandelnet",
   "language": "python",
   "name": "python3"
  },
  "language_info": {
   "codemirror_mode": {
    "name": "ipython",
    "version": 3
   },
   "file_extension": ".py",
   "mimetype": "text/x-python",
   "name": "python",
   "nbconvert_exporter": "python",
   "pygments_lexer": "ipython3",
   "version": "3.10.14"
  }
 },
 "nbformat": 4,
 "nbformat_minor": 2
}
