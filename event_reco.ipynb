{
 "cells": [
  {
   "cell_type": "code",
   "execution_count": 1,
   "metadata": {},
   "outputs": [
    {
     "name": "stderr",
     "output_type": "stream",
     "text": [
      "2025-10-02 17:16:50.920947: W tensorflow/compiler/tf2tensorrt/utils/py_utils.cc:38] TF-TRT Warning: Could not find TensorRT\n"
     ]
    }
   ],
   "source": [
    "import sys, os\n",
    "sys.path.insert(0, \"/mnt/scratch/baburish/TPN-training/TriplePandelReco_JAX\")\n",
    "os.environ['CUDA_VISIBLE_DEVICES'] = '0'\n",
    "\n",
    "from tensorflow_probability.substrates import jax as tfp\n",
    "# Import JAX and require double precision.\n",
    "import jax.numpy as jnp\n",
    "import jax\n",
    "jax.config.update(\"jax_enable_x64\", True)\n",
    "dtype = jnp.float64\n",
    "\n",
    "# Other tools.\n",
    "import numpy as np\n",
    "import matplotlib.pyplot as plt\n",
    "import matplotlib as mpl\n",
    "\n",
    "# Import TriplePandel stuff\n",
    "from lib.simdata_i3 import I3SimHandler\n",
    "from lib.geo import center_track_pos_and_time_based_on_data\n",
    "from lib.gupta_network_eqx_4comp import get_network_eval_v_fn, get_network_eval_v_fn_f32\n",
    "from lib.experimental_methods import get_vertex_seeds\n",
    "from fitting.llh_scanner import get_scanner\n",
    "from fitting.llh_fitter import get_fitter\n",
    "from dom_track_eval import get_eval_network_doms_and_track\n",
    "from likelihood_conv_mpe_logsumexp_gupta import get_neg_c_triple_gamma_llh\n",
    "\n",
    "# A custom color scheme\n",
    "from palettable.cubehelix import Cubehelix\n",
    "cx = Cubehelix.make(start=0.3, rotation=-0.5, n=16, reverse=False, gamma=1.0,\n",
    "     \tmax_light=1.0,max_sat=0.5, min_sat=1.4).get_mpl_colormap()\n",
    "\n",
    "# Specify the grid.\n",
    "dzen = 0.07 # rad\n",
    "dazi = 0.07 # rad\n",
    "n_eval = 50 # number of grid points per axes\n",
    "\n",
    "# Assume 4-component gupta by default\n",
    "n_hidden = 96\n",
    "gupta = True\n",
    "n_comp = 4"
   ]
  },
  {
   "cell_type": "code",
   "execution_count": 2,
   "metadata": {},
   "outputs": [],
   "source": [
    "network_path = '/mnt/scratch/baburish/TPN-training/gupta_mixture_jax/test_no_penalties_tree_start_epoch_35.eqx'"
   ]
  },
  {
   "cell_type": "code",
   "execution_count": 2,
   "metadata": {},
   "outputs": [],
   "source": [
    "network_path = '/mnt/scratch/baburish/TPN-training/TriplePandelReco_JAX/data/gupta/n96_4comp/new_model_no_penalties_tree_start_epoch_800.eqx'"
   ]
  },
  {
   "cell_type": "code",
   "execution_count": 3,
   "metadata": {},
   "outputs": [
    {
     "name": "stdout",
     "output_type": "stream",
     "text": [
      "Running f64 model\n"
     ]
    },
    {
     "name": "stderr",
     "output_type": "stream",
     "text": [
      "2025-10-02 17:16:55.595323: W external/xla/xla/service/gpu/nvptx_compiler.cc:836] The NVIDIA driver's CUDA version is 12.6 which is older than the PTX compiler version (12.9.86). Because the driver is older than the PTX compiler version, XLA is disabling parallel compilation, which may slow down compilation. You should update your NVIDIA driver or use the NVIDIA-provided CUDA forward compatibility packages.\n"
     ]
    }
   ],
   "source": [
    "try:\n",
    "    ni = \"f64\"\n",
    "    print(\"Running f64 model\")\n",
    "    eval_network_v = get_network_eval_v_fn(bpath=network_path, dtype=dtype, n_hidden=n_hidden)\n",
    "except:\n",
    "    ni = \"f32\"\n",
    "    print(\"Running f32 model\")\n",
    "    eval_network_v = get_network_eval_v_fn_f32(bpath=network_path, dtype=dtype, n_hidden=n_hidden)\n",
    "\n",
    "eval_network_doms_and_track = get_eval_network_doms_and_track(eval_network_v, dtype=dtype, gupta=gupta, n_comp=n_comp)"
   ]
  },
  {
   "cell_type": "code",
   "execution_count": 20,
   "metadata": {},
   "outputs": [],
   "source": [
    "PATH_TO_INPUT = '/mnt/research/IceCube/Gupta-Reco/22645/tfrecords/ftr/'\n",
    "META_FILE_NAME = 'meta_ds_22645_from_0_to_1000_10_to_100TeV.ftr'\n",
    "PULSES_FILE_NAME = 'pulses_ds_22645_from_0_to_1000_10_to_100TeV.ftr'"
   ]
  },
  {
   "cell_type": "code",
   "execution_count": 42,
   "metadata": {},
   "outputs": [],
   "source": [
    "PATH_TO_INPUT = '/mnt/scratch/baburish/TPN-training/highE_data'\n",
    "META_FILE_NAME = 'meta_ds_event_8_N100_from_0_to_10_1st_pulse.ftr'\n",
    "PULSES_FILE_NAME = 'pulses_ds_event_8_N100_from_0_to_10_1st_pulse.ftr'\n"
   ]
  },
  {
   "cell_type": "code",
   "execution_count": 4,
   "metadata": {},
   "outputs": [],
   "source": [
    "PATH_TO_INPUT = '/mnt/scratch/baburish/TPN-training/lowE_data'\n",
    "META_FILE_NAME = 'meta_ds_event_5352_from_0_to_10_1st_pulse.ftr'\n",
    "PULSES_FILE_NAME = 'pulses_ds_event_5352_from_0_to_10_1st_pulse.ftr'\n"
   ]
  },
  {
   "cell_type": "code",
   "execution_count": 5,
   "metadata": {},
   "outputs": [],
   "source": [
    "sim_handler = I3SimHandler(\n",
    "\t\t\t\t\tos.path.join(PATH_TO_INPUT, META_FILE_NAME),\n",
    "                    os.path.join(PATH_TO_INPUT, PULSES_FILE_NAME),\n",
    "                    'data/icecube/detector_geometry.csv'\n",
    "\t\t\t\t)"
   ]
  },
  {
   "cell_type": "code",
   "execution_count": 6,
   "metadata": {},
   "outputs": [
    {
     "name": "stdout",
     "output_type": "stream",
     "text": [
      "muon energy: 2.0 TeV\n",
      "n_doms 76\n",
      "true direction: [1.8878548  5.38356733]\n"
     ]
    }
   ],
   "source": [
    "EVENT_INDEX=0\n",
    "\n",
    "meta, pulses = sim_handler.get_event_data(EVENT_INDEX)\n",
    "print(f\"muon energy: {meta['muon_energy']/1.e3:.1f} TeV\")\n",
    "\n",
    "# Get dom locations, first hit times, and total charges (for each dom).\n",
    "event_data = sim_handler.get_per_dom_summary_from_sim_data(meta, pulses)\n",
    "\n",
    "# Remove early pulses.\n",
    "sim_handler.replace_early_pulse(event_data, pulses)\n",
    "print(\"n_doms\", len(event_data))\n",
    "\n",
    "# Get MCTruth.\n",
    "true_pos = jnp.array([meta['muon_pos_x'], meta['muon_pos_y'], meta['muon_pos_z']])\n",
    "true_time = meta['muon_time']\n",
    "true_zenith = meta['muon_zenith']\n",
    "true_azimuth = meta['muon_azimuth']\n",
    "true_src = jnp.array([true_zenith, true_azimuth])\n",
    "print(\"true direction:\", true_src)"
   ]
  },
  {
   "cell_type": "code",
   "execution_count": 7,
   "metadata": {},
   "outputs": [],
   "source": [
    "SEED =  \"spline_mpe\"\n",
    "if SEED == \"spline_mpe\":\n",
    "    # Use SplineMPE as a seed.\n",
    "    track_pos = jnp.array([meta['spline_mpe_pos_x'], meta['spline_mpe_pos_y'], meta['spline_mpe_pos_z']])\n",
    "    track_time = meta['spline_mpe_time']\n",
    "    track_zenith = meta['spline_mpe_zenith']\n",
    "    track_azimuth = meta['spline_mpe_azimuth']\n",
    "    track_src = jnp.array([track_zenith, track_azimuth])\n",
    "\n",
    "elif SEED == \"truth\":\n",
    "    track_pos = true_pos\n",
    "    track_time = true_time\n",
    "    track_zenith = true_zenith\n",
    "    track_azimuth = true_azimuth\n",
    "    track_src = true_src"
   ]
  },
  {
   "cell_type": "code",
   "execution_count": 8,
   "metadata": {},
   "outputs": [
    {
     "name": "stdout",
     "output_type": "stream",
     "text": [
      "seed direction: [111.21516132 308.56401646] deg\n",
      "original seed vertex: [  17.84622     -75.73175621 -382.18683284] m\n",
      "shifting seed vertex.\n",
      "seed vertex: [ -86.46407001   55.10392857 -317.23368883] m\n",
      "(76, 5)\n"
     ]
    }
   ],
   "source": [
    "print(\"seed direction:\", np.rad2deg(track_src), \"deg\")\n",
    "print(\"original seed vertex:\", track_pos, \"m\")\n",
    "\n",
    "center_track_seed = True\n",
    "\n",
    "centered_track_pos, centered_track_time = track_pos, track_time\n",
    "if center_track_seed:\n",
    "    print(\"shifting seed vertex.\")\n",
    "    centered_track_pos, centered_track_time = center_track_pos_and_time_based_on_data(event_data, track_pos, track_time, track_src)\n",
    "\n",
    "print(\"seed vertex:\", centered_track_pos, \"m\")\n",
    "\n",
    "fitting_event_data = jnp.array(event_data[['x', 'y', 'z', 'time', 'charge']].to_numpy())\n",
    "print(fitting_event_data.shape)"
   ]
  },
  {
   "cell_type": "code",
   "execution_count": 9,
   "metadata": {},
   "outputs": [],
   "source": [
    "GAUS_CONV_WIDTH = 3.0\n",
    "neg_llh = get_neg_c_triple_gamma_llh(eval_network_doms_and_track, sigma=GAUS_CONV_WIDTH)"
   ]
  },
  {
   "cell_type": "code",
   "execution_count": 10,
   "metadata": {},
   "outputs": [
    {
     "name": "stdout",
     "output_type": "stream",
     "text": [
      "\n",
      "solution found.\n",
      "logl: 1058.464\n",
      "direction: [111.38585522 308.57301567] deg\n",
      "\n"
     ]
    }
   ],
   "source": [
    "use_multiple_vertex_seeds = True\n",
    "prescan_time = True\n",
    "fit_llh = get_fitter(\n",
    "                        neg_llh,\n",
    "                        use_multiple_vertex_seeds=use_multiple_vertex_seeds,\n",
    "                        prescan_time=prescan_time\n",
    "                    )\n",
    "\n",
    "# JIT! We want it to be fast.\n",
    "fit_llh_jit = jax.jit(fit_llh)\n",
    "\n",
    "# Run the fit\n",
    "solution = fit_llh_jit(track_src, centered_track_pos, centered_track_time, fitting_event_data)\n",
    "best_logl, best_direction, best_vertex, best_time= solution\n",
    "\n",
    "print(\"\")\n",
    "print(\"solution found.\")\n",
    "print(f\"logl: {best_logl:.3f}\")\n",
    "print(f\"direction: {np.rad2deg(best_direction)} deg\")\n",
    "print(\"\")"
   ]
  },
  {
   "cell_type": "code",
   "execution_count": 11,
   "metadata": {},
   "outputs": [
    {
     "name": "stdout",
     "output_type": "stream",
     "text": [
      "running the scan.\n"
     ]
    }
   ],
   "source": [
    "N_SPLITS = 2\n",
    "\n",
    "scan_llh = get_scanner(\n",
    "                        neg_llh,\n",
    "                        use_multiple_vertex_seeds=use_multiple_vertex_seeds,\n",
    "                        prescan_time=prescan_time,\n",
    "                        n_splits=N_SPLITS,\n",
    "                        use_jit=True\n",
    "                    )\n",
    "\n",
    "zenith = jnp.linspace(true_src[0]-dzen, true_src[0]+dazi, n_eval)\n",
    "azimuth = jnp.linspace(true_src[1]-dzen, true_src[1]+dazi, n_eval)\n",
    "X, Y = jnp.meshgrid(zenith, azimuth)\n",
    "\n",
    "print(\"running the scan.\")"
   ]
  },
  {
   "cell_type": "code",
   "execution_count": 12,
   "metadata": {},
   "outputs": [
    {
     "name": "stderr",
     "output_type": "stream",
     "text": [
      "2025-10-02 17:17:42.191296: W external/xla/xla/service/hlo_rematerialization.cc:3005] Can't reduce memory use below 22.61GiB (24276629285 bytes) by rematerialization; only reduced to 343.36GiB (368681757944 bytes), down from 343.65GiB (368995882248 bytes) originally\n",
      "2025-10-02 17:17:56.649865: W external/xla/xla/tsl/framework/bfc_allocator.cc:482] Allocator (GPU_0_bfc) ran out of memory trying to allocate 343.56GiB (rounded to 368894134272)requested by op \n",
      "2025-10-02 17:17:56.650056: W external/xla/xla/tsl/framework/bfc_allocator.cc:494] *___________________________________________________________________________________________________\n",
      "E1002 17:17:56.650084  785084 pjrt_stream_executor_client.cc:3067] Execution of replica 0 failed: RESOURCE_EXHAUSTED: Out of memory while trying to allocate 368894134184 bytes.\n"
     ]
    },
    {
     "ename": "XlaRuntimeError",
     "evalue": "RESOURCE_EXHAUSTED: Out of memory while trying to allocate 368894134184 bytes.",
     "output_type": "error",
     "traceback": [
      "\u001b[0;31m---------------------------------------------------------------------------\u001b[0m",
      "\u001b[0;31mXlaRuntimeError\u001b[0m                           Traceback (most recent call last)",
      "Cell \u001b[0;32mIn[12], line 1\u001b[0m\n\u001b[0;32m----> 1\u001b[0m solution \u001b[38;5;241m=\u001b[39m \u001b[43mscan_llh\u001b[49m\u001b[43m(\u001b[49m\u001b[43mX\u001b[49m\u001b[43m,\u001b[49m\u001b[43m \u001b[49m\u001b[43mY\u001b[49m\u001b[43m,\u001b[49m\u001b[43m \u001b[49m\u001b[43mbest_vertex\u001b[49m\u001b[43m,\u001b[49m\u001b[43m \u001b[49m\u001b[43mbest_time\u001b[49m\u001b[43m,\u001b[49m\u001b[43m \u001b[49m\u001b[43mfitting_event_data\u001b[49m\u001b[43m)\u001b[49m\n\u001b[1;32m      2\u001b[0m \u001b[38;5;66;03m# use below if you want to use original seed values (not best-fit values)\u001b[39;00m\n\u001b[1;32m      3\u001b[0m \u001b[38;5;66;03m# as seed for vertex minimization during scan.\u001b[39;00m\n\u001b[1;32m      4\u001b[0m \u001b[38;5;66;03m# solution = scan_llh(X, Y, centered_track_pos, centered_track_time, fitting_event_data)\u001b[39;00m\n\u001b[1;32m      6\u001b[0m sol_logl, sol_vertex, sol_time \u001b[38;5;241m=\u001b[39m solution\n",
      "File \u001b[0;32m/mnt/scratch/baburish/TPN-training/TriplePandelReco_JAX/fitting/llh_scanner.py:238\u001b[0m, in \u001b[0;36mget_scanner.<locals>.run_profile_llh_scan\u001b[0;34m(grid_x, grid_y, vertex_seed, track_time, data)\u001b[0m\n\u001b[1;32m    228\u001b[0m \u001b[38;5;28;01mif\u001b[39;00m use_jit:\n\u001b[1;32m    229\u001b[0m     run_reconstruction_v_jit \u001b[38;5;241m=\u001b[39m \\\n\u001b[1;32m    230\u001b[0m         jax\u001b[38;5;241m.\u001b[39mjit(run_reconstruction_v)\u001b[38;5;241m.\u001b[39mlower(\n\u001b[1;32m    231\u001b[0m             current_scan_dirs,\n\u001b[0;32m   (...)\u001b[0m\n\u001b[1;32m    234\u001b[0m             data\n\u001b[1;32m    235\u001b[0m         )\u001b[38;5;241m.\u001b[39mcompile()\n\u001b[1;32m    237\u001b[0m logls_, sol_pos_, sol_time_ \u001b[38;5;241m=\u001b[39m \\\n\u001b[0;32m--> 238\u001b[0m     \u001b[43mrun_reconstruction_v_jit\u001b[49m\u001b[43m(\u001b[49m\n\u001b[1;32m    239\u001b[0m \u001b[43m        \u001b[49m\u001b[43mcurrent_scan_dirs\u001b[49m\u001b[43m,\u001b[49m\n\u001b[1;32m    240\u001b[0m \u001b[43m        \u001b[49m\u001b[43mvertex_seed\u001b[49m\u001b[43m,\u001b[49m\n\u001b[1;32m    241\u001b[0m \u001b[43m        \u001b[49m\u001b[43mtrack_time\u001b[49m\u001b[43m,\u001b[49m\n\u001b[1;32m    242\u001b[0m \u001b[43m        \u001b[49m\u001b[43mdata\u001b[49m\n\u001b[1;32m    243\u001b[0m \u001b[43m    \u001b[49m\u001b[43m)\u001b[49m\n\u001b[1;32m    245\u001b[0m logls\u001b[38;5;241m.\u001b[39mappend(logls_)\n\u001b[1;32m    246\u001b[0m sol_pos\u001b[38;5;241m.\u001b[39mappend(sol_pos_)\n",
      "File \u001b[0;32m~/miniconda3/miniconda/envs/3pandelnet/lib/python3.10/site-packages/jax/_src/stages.py:609\u001b[0m, in \u001b[0;36mCompiled.__call__\u001b[0;34m(self, *args, **kwargs)\u001b[0m\n\u001b[1;32m    607\u001b[0m       \u001b[38;5;28;01mreturn\u001b[39;00m outs\n\u001b[1;32m    608\u001b[0m     \u001b[38;5;28mself\u001b[39m\u001b[38;5;241m.\u001b[39m_call \u001b[38;5;241m=\u001b[39m cpp_call_fallback\n\u001b[0;32m--> 609\u001b[0m \u001b[38;5;28;01mreturn\u001b[39;00m \u001b[38;5;28;43mself\u001b[39;49m\u001b[38;5;241;43m.\u001b[39;49m\u001b[43m_call\u001b[49m\u001b[43m(\u001b[49m\u001b[38;5;241;43m*\u001b[39;49m\u001b[43margs\u001b[49m\u001b[43m,\u001b[49m\u001b[43m \u001b[49m\u001b[38;5;241;43m*\u001b[39;49m\u001b[38;5;241;43m*\u001b[39;49m\u001b[43mkwargs\u001b[49m\u001b[43m)\u001b[49m\n",
      "File \u001b[0;32m~/miniconda3/miniconda/envs/3pandelnet/lib/python3.10/site-packages/jax/_src/interpreters/pxla.py:2968\u001b[0m, in \u001b[0;36mMeshExecutable.create_cpp_call.<locals>.aot_cache_miss\u001b[0;34m(*args, **kwargs)\u001b[0m\n\u001b[1;32m   2966\u001b[0m \u001b[38;5;28;01mdef\u001b[39;00m \u001b[38;5;21maot_cache_miss\u001b[39m(\u001b[38;5;241m*\u001b[39margs, \u001b[38;5;241m*\u001b[39m\u001b[38;5;241m*\u001b[39mkwargs):\n\u001b[1;32m   2967\u001b[0m   params \u001b[38;5;241m=\u001b[39m stages\u001b[38;5;241m.\u001b[39mCompiledCallParams(\u001b[38;5;28mself\u001b[39m, no_kwargs, in_tree, out_tree)\n\u001b[0;32m-> 2968\u001b[0m   outs, out_flat, args_flat \u001b[38;5;241m=\u001b[39m \u001b[43mstages\u001b[49m\u001b[38;5;241;43m.\u001b[39;49m\u001b[43mCompiled\u001b[49m\u001b[38;5;241;43m.\u001b[39;49m\u001b[43mcall\u001b[49m\u001b[43m(\u001b[49m\u001b[43mparams\u001b[49m\u001b[43m,\u001b[49m\u001b[43m \u001b[49m\u001b[38;5;241;43m*\u001b[39;49m\u001b[43margs\u001b[49m\u001b[43m,\u001b[49m\u001b[43m \u001b[49m\u001b[38;5;241;43m*\u001b[39;49m\u001b[38;5;241;43m*\u001b[39;49m\u001b[43mkwargs\u001b[49m\u001b[43m)\u001b[49m\n\u001b[1;32m   2969\u001b[0m   out_flat, out_tree_dispatch \u001b[38;5;241m=\u001b[39m reflatten_outputs_for_dispatch(\n\u001b[1;32m   2970\u001b[0m       out_tree, out_flat)\n\u001b[1;32m   2971\u001b[0m   use_fastpath \u001b[38;5;241m=\u001b[39m (\u001b[38;5;28mall\u001b[39m(\u001b[38;5;28misinstance\u001b[39m(x, xc\u001b[38;5;241m.\u001b[39mArrayImpl) \u001b[38;5;28;01mfor\u001b[39;00m x \u001b[38;5;129;01min\u001b[39;00m out_flat))\n",
      "File \u001b[0;32m~/miniconda3/miniconda/envs/3pandelnet/lib/python3.10/site-packages/jax/_src/stages.py:578\u001b[0m, in \u001b[0;36mCompiled.call\u001b[0;34m(*args, **kwargs)\u001b[0m\n\u001b[1;32m    576\u001b[0m   \u001b[38;5;28;01mraise\u001b[39;00m \u001b[38;5;167;01mTypeError\u001b[39;00m(\u001b[38;5;124m'\u001b[39m\u001b[38;5;130;01m\\n\u001b[39;00m\u001b[38;5;124m'\u001b[39m\u001b[38;5;241m.\u001b[39mjoin(msg))\n\u001b[1;32m    577\u001b[0m \u001b[38;5;28;01mtry\u001b[39;00m:\n\u001b[0;32m--> 578\u001b[0m   out_flat \u001b[38;5;241m=\u001b[39m \u001b[43mparams\u001b[49m\u001b[38;5;241;43m.\u001b[39;49m\u001b[43mexecutable\u001b[49m\u001b[38;5;241;43m.\u001b[39;49m\u001b[43mcall\u001b[49m\u001b[43m(\u001b[49m\u001b[38;5;241;43m*\u001b[39;49m\u001b[43margs_flat\u001b[49m\u001b[43m)\u001b[49m\n\u001b[1;32m    579\u001b[0m \u001b[38;5;28;01mexcept\u001b[39;00m \u001b[38;5;167;01mTypeError\u001b[39;00m \u001b[38;5;28;01mas\u001b[39;00m e:\n\u001b[1;32m    580\u001b[0m   \u001b[38;5;66;03m# We can't transform ahead-of-time compiled calls, since we've\u001b[39;00m\n\u001b[1;32m    581\u001b[0m   \u001b[38;5;66;03m# lowered and compiled for a fixed function signature, and JAX\u001b[39;00m\n\u001b[0;32m   (...)\u001b[0m\n\u001b[1;32m    586\u001b[0m   \u001b[38;5;66;03m# might mean that arguments have JAX-invalid types, which in\u001b[39;00m\n\u001b[1;32m    587\u001b[0m   \u001b[38;5;66;03m# turn might mean some are Tracers.\u001b[39;00m\n\u001b[1;32m    588\u001b[0m   \u001b[38;5;28;01mfor\u001b[39;00m arg \u001b[38;5;129;01min\u001b[39;00m args_flat:\n",
      "File \u001b[0;32m~/miniconda3/miniconda/envs/3pandelnet/lib/python3.10/site-packages/jax/_src/interpreters/pxla.py:2944\u001b[0m, in \u001b[0;36mMeshExecutable.call\u001b[0;34m(self, *args)\u001b[0m\n\u001b[1;32m   2940\u001b[0m \u001b[38;5;66;03m# Check the GDA sharding and the input sharding.\u001b[39;00m\n\u001b[1;32m   2941\u001b[0m check_array_xla_sharding_layout_match(\n\u001b[1;32m   2942\u001b[0m     args_after_dce, \u001b[38;5;28mself\u001b[39m\u001b[38;5;241m.\u001b[39m_in_shardings, \u001b[38;5;28mself\u001b[39m\u001b[38;5;241m.\u001b[39m_in_layouts, debug_info,\n\u001b[1;32m   2943\u001b[0m     \u001b[38;5;28mself\u001b[39m\u001b[38;5;241m.\u001b[39m_kept_var_idx)\n\u001b[0;32m-> 2944\u001b[0m \u001b[38;5;28;01mreturn\u001b[39;00m \u001b[38;5;28;43mself\u001b[39;49m\u001b[38;5;241;43m.\u001b[39;49m\u001b[43munsafe_call\u001b[49m\u001b[43m(\u001b[49m\u001b[38;5;241;43m*\u001b[39;49m\u001b[43margs\u001b[49m\u001b[43m)\u001b[49m\n",
      "File \u001b[0;32m~/miniconda3/miniconda/envs/3pandelnet/lib/python3.10/site-packages/jax/_src/profiler.py:336\u001b[0m, in \u001b[0;36mannotate_function.<locals>.wrapper\u001b[0;34m(*args, **kwargs)\u001b[0m\n\u001b[1;32m    333\u001b[0m \u001b[38;5;129m@wraps\u001b[39m(func)\n\u001b[1;32m    334\u001b[0m \u001b[38;5;28;01mdef\u001b[39;00m \u001b[38;5;21mwrapper\u001b[39m(\u001b[38;5;241m*\u001b[39margs, \u001b[38;5;241m*\u001b[39m\u001b[38;5;241m*\u001b[39mkwargs):\n\u001b[1;32m    335\u001b[0m   \u001b[38;5;28;01mwith\u001b[39;00m TraceAnnotation(name, \u001b[38;5;241m*\u001b[39m\u001b[38;5;241m*\u001b[39mdecorator_kwargs):\n\u001b[0;32m--> 336\u001b[0m     \u001b[38;5;28;01mreturn\u001b[39;00m \u001b[43mfunc\u001b[49m\u001b[43m(\u001b[49m\u001b[38;5;241;43m*\u001b[39;49m\u001b[43margs\u001b[49m\u001b[43m,\u001b[49m\u001b[43m \u001b[49m\u001b[38;5;241;43m*\u001b[39;49m\u001b[38;5;241;43m*\u001b[39;49m\u001b[43mkwargs\u001b[49m\u001b[43m)\u001b[49m\n\u001b[1;32m    337\u001b[0m   \u001b[38;5;28;01mreturn\u001b[39;00m wrapper\n",
      "File \u001b[0;32m~/miniconda3/miniconda/envs/3pandelnet/lib/python3.10/site-packages/jax/_src/interpreters/pxla.py:1248\u001b[0m, in \u001b[0;36mExecuteReplicated.__call__\u001b[0;34m(self, *args)\u001b[0m\n\u001b[1;32m   1246\u001b[0m   \u001b[38;5;28mself\u001b[39m\u001b[38;5;241m.\u001b[39m_handle_token_bufs(result_token_bufs, sharded_runtime_token)\n\u001b[1;32m   1247\u001b[0m \u001b[38;5;28;01melse\u001b[39;00m:\n\u001b[0;32m-> 1248\u001b[0m   results \u001b[38;5;241m=\u001b[39m \u001b[38;5;28;43mself\u001b[39;49m\u001b[38;5;241;43m.\u001b[39;49m\u001b[43mxla_executable\u001b[49m\u001b[38;5;241;43m.\u001b[39;49m\u001b[43mexecute_sharded\u001b[49m\u001b[43m(\u001b[49m\u001b[43minput_bufs\u001b[49m\u001b[43m)\u001b[49m\n\u001b[1;32m   1250\u001b[0m \u001b[38;5;28;01mif\u001b[39;00m dispatch\u001b[38;5;241m.\u001b[39mneeds_check_special():\n\u001b[1;32m   1251\u001b[0m   out_arrays \u001b[38;5;241m=\u001b[39m results\u001b[38;5;241m.\u001b[39mdisassemble_into_single_device_arrays()\n",
      "\u001b[0;31mXlaRuntimeError\u001b[0m: RESOURCE_EXHAUSTED: Out of memory while trying to allocate 368894134184 bytes."
     ]
    }
   ],
   "source": [
    "solution = scan_llh(X, Y, best_vertex, best_time, fitting_event_data)\n",
    "# use below if you want to use original seed values (not best-fit values)\n",
    "# as seed for vertex minimization during scan.\n",
    "# solution = scan_llh(X, Y, centered_track_pos, centered_track_time, fitting_event_data)\n",
    "\n",
    "sol_logl, sol_vertex, sol_time = solution\n",
    "logls = sol_logl.reshape(X.shape)"
   ]
  },
  {
   "cell_type": "code",
   "execution_count": null,
   "metadata": {},
   "outputs": [
    {
     "data": {
      "image/png": "[encoded data removed]",
      "text/plain": [
       "<Figure size 640x480 with 2 Axes>"
      ]
     },
     "metadata": {},
     "output_type": "display_data"
    }
   ],
   "source": [
    "# Plot.\n",
    "fig, ax = plt.subplots()\n",
    "min_logl = np.amin(logls)\n",
    "delta_logl = logls - np.amin(logls)\n",
    "pc = ax.pcolormesh(np.rad2deg(X), np.rad2deg(Y), delta_logl, vmin=0, vmax=np.min([100, 1.2*np.amax(delta_logl)]), shading='auto', cmap=cx)\n",
    "# pc = ax.pcolormesh(np.rad2deg(X), np.rad2deg(Y), delta_logl, vmin=0, shading='auto', cmap=cx)\n",
    "cbar = fig.colorbar(pc)\n",
    "cbar.ax.tick_params(labelsize=16)\n",
    "cbar.ax.get_yaxis().labelpad = 5\n",
    "cbar.set_label(\"-2$\\\\Delta$log $L_{MPE}$\", fontsize=20)\n",
    "cbar.outline.set_linewidth(1.5)\n",
    "\n",
    "contours = [4.61]\n",
    "ix1, ix2 = np.where(delta_logl==0)\n",
    "ax.scatter(np.rad2deg([X[ix1, ix2]]), np.rad2deg([Y[ix1, ix2]]), s=50, marker='o', facecolors='none', edgecolors='khaki', zorder=100., label='grid min')\n",
    "ct = plt.contour(np.rad2deg(X), np.rad2deg(Y), delta_logl, levels=contours, linestyles=['solid'], colors=['khaki'], linewidths=1.0)\n",
    "\n",
    "ax.scatter(np.rad2deg(true_src[0]), np.rad2deg(true_src[1]), marker=\"*\", color='red', label=\"truth\", zorder=200)\n",
    "ax.scatter(np.rad2deg(track_src[0]), np.rad2deg(track_src[1]), marker=\"x\", color='lime', label=\"seed\", zorder=200)\n",
    "ax.scatter(np.rad2deg(best_direction[0]), np.rad2deg(best_direction[1]), marker=\"x\", color=\"magenta\", label=\"best-fit\", zorder=200)\n",
    "\n",
    "ax.set_xlabel(\"zenith [deg]\", fontsize=16)\n",
    "ax.set_ylabel(\"azimuth [deg]\", fontsize=16)\n",
    "ax.set_xlim(np.rad2deg([true_src[0]-dzen, true_src[0]+dzen]))\n",
    "ax.set_ylim(np.rad2deg([true_src[1]-dazi, true_src[1]+dazi]))\n",
    "ax.tick_params(axis='both', which='both', width=1.5, colors='0.0', labelsize=16)\n",
    "\n",
    "plt.legend()\n",
    "plt.tight_layout()\n",
    "# plt.savefig(f\"f32_scan_ev_{EVENT_INDEX}.png\", dpi=300)\n",
    "plt.savefig(f\"{ni}_scan_ev_{EVENT_INDEX}.png\", dpi=300)\n",
    "plt.show()"
   ]
  },
  {
   "cell_type": "code",
   "execution_count": null,
   "metadata": {},
   "outputs": [],
   "source": []
  }
 ],
 "metadata": {
  "kernelspec": {
   "display_name": "3pandelnet",
   "language": "python",
   "name": "python3"
  },
  "language_info": {
   "codemirror_mode": {
    "name": "ipython",
    "version": 3
   },
   "file_extension": ".py",
   "mimetype": "text/x-python",
   "name": "python",
   "nbconvert_exporter": "python",
   "pygments_lexer": "ipython3",
   "version": "3.10.14"
  }
 },
 "nbformat": 4,
 "nbformat_minor": 2
}
